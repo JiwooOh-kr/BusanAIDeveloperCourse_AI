{
  "nbformat": 4,
  "nbformat_minor": 0,
  "metadata": {
    "colab": {
      "name": "03_문자열.ipynb",
      "provenance": [],
      "collapsed_sections": [],
      "authorship_tag": "ABX9TyP2dPm4aRvHyEkmXoTw71l8",
      "include_colab_link": true
    },
    "kernelspec": {
      "name": "python3",
      "display_name": "Python 3"
    }
  },
  "cells": [
    {
      "cell_type": "markdown",
      "metadata": {
        "id": "view-in-github",
        "colab_type": "text"
      },
      "source": [
        "<a href=\"https://colab.research.google.com/github/jkjh23/2020_AI_Busan/blob/master/0_Python/03_%EB%AC%B8%EC%9E%90%EC%97%B4.ipynb\" target=\"_parent\"><img src=\"https://colab.research.google.com/assets/colab-badge.svg\" alt=\"Open In Colab\"/></a>"
      ]
    },
    {
      "cell_type": "markdown",
      "metadata": {
        "id": "JZxo6isLAy8P",
        "colab_type": "text"
      },
      "source": [
        "# 문자열\n",
        "- 타입 : 단일 데이터 타입이면서 연속 데이터 타입이다\n",
        "  - 단일형이지만, 실체는 연속형이다\n",
        "  - 연속형 중에 문자열, 튜플은 변경이 불가능하다\n",
        "  - immutable 타입 -> read only\n",
        "\n"
      ]
    },
    {
      "cell_type": "code",
      "metadata": {
        "id": "LrhFrj8zA2wf",
        "colab_type": "code",
        "colab": {
          "base_uri": "https://localhost:8080/",
          "height": 34
        },
        "outputId": "abbc5d0d-7f2d-4d6c-eb18-27221dc1a551"
      },
      "source": [
        "# 1. 표기법\n",
        "# '', \"\", ''' ''', \"\"\" \"\"\"\n",
        "# ''' ''', \"\"\" \"\"\" 용도 : 구조를 유지, 주석용(클래스에서 주로 사용), 여러 줄로 표현\n",
        "a = 'hello 부전역' \n",
        "a, type(a)"
      ],
      "execution_count": null,
      "outputs": [
        {
          "output_type": "execute_result",
          "data": {
            "text/plain": [
              "('hello 부전역', str)"
            ]
          },
          "metadata": {
            "tags": []
          },
          "execution_count": 1
        }
      ]
    },
    {
      "cell_type": "code",
      "metadata": {
        "id": "5G0ZC_ygA3u1",
        "colab_type": "code",
        "colab": {
          "base_uri": "https://localhost:8080/",
          "height": 35
        },
        "outputId": "6af759d5-be21-4ef4-d276-2e653ac8977f"
      },
      "source": [
        "a = '''\n",
        "  select \n",
        "    *\n",
        "  from\n",
        "    tbl_users;\n",
        "'''\n",
        "a"
      ],
      "execution_count": null,
      "outputs": [
        {
          "output_type": "execute_result",
          "data": {
            "application/vnd.google.colaboratory.intrinsic+json": {
              "type": "string"
            },
            "text/plain": [
              "'\\n  select \\n    *\\n  from\\n    tbl_users;\\n'"
            ]
          },
          "metadata": {
            "tags": []
          },
          "execution_count": 2
        }
      ]
    },
    {
      "cell_type": "code",
      "metadata": {
        "id": "yE4TDIzhA41m",
        "colab_type": "code",
        "colab": {
          "base_uri": "https://localhost:8080/",
          "height": 70
        },
        "outputId": "56546e82-8455-41ef-a05c-b1e7c2dc4c9c"
      },
      "source": [
        "# 파이썬은 여러 줄 주석이 없다\n",
        "'''\n",
        "네이버 한성숙 대표는 이날 청와대에서 열린 '한국판 뉴딜' 보고대회에서 \"데이터의 가능성과 \n",
        "소중함을 누구보다 잘 알고 있는 네이버이기에 데이터를 통해 사회발전에 기여하겠다\"고 말했다.\n",
        "\n",
        "춘천 데이터센터 '각(閣)'에서 화상으로 연결한 한 대표는 \"우선 네이버가 \n",
        "인공지능(AI) 기술로 분석·가공한 다양한 데이터를 클라우드를 통해 공개하려 한다\"며 \n",
        "\"이 데이터가 AI 연구와 여러 산업에 자유롭게 활용돼 4차 산업혁명의 마중물이 됐으면 좋겠다\"고\n",
        "말했다.\n",
        "'''"
      ],
      "execution_count": null,
      "outputs": [
        {
          "output_type": "execute_result",
          "data": {
            "application/vnd.google.colaboratory.intrinsic+json": {
              "type": "string"
            },
            "text/plain": [
              "'\\n네이버 한성숙 대표는 이날 청와대에서 열린 \\'한국판 뉴딜\\' 보고대회에서 \"데이터의 가능성과 \\n소중함을 누구보다 잘 알고 있는 네이버이기에 데이터를 통해 사회발전에 기여하겠다\"고 말했다.\\n\\n춘천 데이터센터 \\'각(閣)\\'에서 화상으로 연결한 한 대표는 \"우선 네이버가 \\n인공지능(AI) 기술로 분석·가공한 다양한 데이터를 클라우드를 통해 공개하려 한다\"며 \\n\"이 데이터가 AI 연구와 여러 산업에 자유롭게 활용돼 4차 산업혁명의 마중물이 됐으면 좋겠다\"고\\n말했다.\\n'"
            ]
          },
          "metadata": {
            "tags": []
          },
          "execution_count": 3
        }
      ]
    },
    {
      "cell_type": "code",
      "metadata": {
        "id": "zDOOVpNaA6Al",
        "colab_type": "code",
        "colab": {
          "base_uri": "https://localhost:8080/",
          "height": 35
        },
        "outputId": "53b0ec73-51e3-4375-b759-312fd9b96d72"
      },
      "source": [
        "# 2개씩 세트로 표현이 존재한 이유\n",
        "# 원래대로의 표현을 사용하고 싶어서\n",
        "a = \"abcd123'!@#\"\n",
        "a"
      ],
      "execution_count": null,
      "outputs": [
        {
          "output_type": "execute_result",
          "data": {
            "application/vnd.google.colaboratory.intrinsic+json": {
              "type": "string"
            },
            "text/plain": [
              "\"abcd123'!@#\""
            ]
          },
          "metadata": {
            "tags": []
          },
          "execution_count": 4
        }
      ]
    },
    {
      "cell_type": "code",
      "metadata": {
        "id": "C3Qh7oBTA7Qw",
        "colab_type": "code",
        "colab": {
          "base_uri": "https://localhost:8080/",
          "height": 35
        },
        "outputId": "41ebac6a-0add-4fe1-9e00-2ece8a91d359"
      },
      "source": [
        "# 이스케이프로 표현하면 원형 그대로 표현됨\n",
        "a = 'abcd123\\'!@#'\n",
        "a"
      ],
      "execution_count": null,
      "outputs": [
        {
          "output_type": "execute_result",
          "data": {
            "application/vnd.google.colaboratory.intrinsic+json": {
              "type": "string"
            },
            "text/plain": [
              "\"abcd123'!@#\""
            ]
          },
          "metadata": {
            "tags": []
          },
          "execution_count": 5
        }
      ]
    },
    {
      "cell_type": "code",
      "metadata": {
        "id": "Cw6WLQqXA8Vj",
        "colab_type": "code",
        "colab": {
          "base_uri": "https://localhost:8080/",
          "height": 35
        },
        "outputId": "38a3d78f-bd4b-4bd1-ab69-c828ca3c6b29"
      },
      "source": [
        "# 2. 문자열 더하기\n",
        "a = '123'\n",
        "b = '456'\n",
        "# 문자열 끝에 문자열 붙이기(이어붙이기)\n",
        "a + b "
      ],
      "execution_count": null,
      "outputs": [
        {
          "output_type": "execute_result",
          "data": {
            "application/vnd.google.colaboratory.intrinsic+json": {
              "type": "string"
            },
            "text/plain": [
              "'123456'"
            ]
          },
          "metadata": {
            "tags": []
          },
          "execution_count": 6
        }
      ]
    },
    {
      "cell_type": "code",
      "metadata": {
        "id": "_RGAVyalA9kK",
        "colab_type": "code",
        "colab": {
          "base_uri": "https://localhost:8080/",
          "height": 35
        },
        "outputId": "039a31cf-7e62-4e2e-fd59-9c623d0421ce"
      },
      "source": [
        "# 3. 문자열 곱하기\n",
        "# 해당 문자열을 반복한다\n",
        "'=' * 10 "
      ],
      "execution_count": null,
      "outputs": [
        {
          "output_type": "execute_result",
          "data": {
            "application/vnd.google.colaboratory.intrinsic+json": {
              "type": "string"
            },
            "text/plain": [
              "'=========='"
            ]
          },
          "metadata": {
            "tags": []
          },
          "execution_count": 7
        }
      ]
    },
    {
      "cell_type": "code",
      "metadata": {
        "id": "u4T30RqZA-jX",
        "colab_type": "code",
        "colab": {
          "base_uri": "https://localhost:8080/",
          "height": 35
        },
        "outputId": "1158442b-2cce-4176-ae83-85958155a711"
      },
      "source": [
        "# 4. 인덱싱\n",
        "# 문자열에서 특정 문자열을 추출하는것\n",
        "# 변수[인덱스(정방향, 역방향)]\n",
        "a = '0123456789'\n",
        "a"
      ],
      "execution_count": null,
      "outputs": [
        {
          "output_type": "execute_result",
          "data": {
            "application/vnd.google.colaboratory.intrinsic+json": {
              "type": "string"
            },
            "text/plain": [
              "'0123456789'"
            ]
          },
          "metadata": {
            "tags": []
          },
          "execution_count": 8
        }
      ]
    },
    {
      "cell_type": "code",
      "metadata": {
        "id": "yf9Gqz7SBAB3",
        "colab_type": "code",
        "colab": {
          "base_uri": "https://localhost:8080/",
          "height": 34
        },
        "outputId": "c8dc3dc6-ea4f-4561-fb15-71c7e55c527d"
      },
      "source": [
        "# 앞에서 2번째, 뒤에서 두번재\n",
        "a[2], a[-2]"
      ],
      "execution_count": null,
      "outputs": [
        {
          "output_type": "execute_result",
          "data": {
            "text/plain": [
              "('2', '8')"
            ]
          },
          "metadata": {
            "tags": []
          },
          "execution_count": 9
        }
      ]
    },
    {
      "cell_type": "code",
      "metadata": {
        "id": "Bp7V37y3BA96",
        "colab_type": "code",
        "colab": {}
      },
      "source": [
        "# 가까운쪽으로 카운트해라"
      ],
      "execution_count": null,
      "outputs": []
    },
    {
      "cell_type": "code",
      "metadata": {
        "id": "uKj8doLEBB-D",
        "colab_type": "code",
        "colab": {
          "base_uri": "https://localhost:8080/",
          "height": 35
        },
        "outputId": "22ebca52-0507-4e41-870a-d360c3dc7839"
      },
      "source": [
        "# 슬라이싱\n",
        "# 문자열에서 특정 위치부터 특정 위치까지 문자열을 자른다\n",
        "url = 'https://news.naver.com/main/read.nhn?mode=LSD&mid=shm&sid1=105&oid=001&aid=0011745053'\n",
        "url "
      ],
      "execution_count": null,
      "outputs": [
        {
          "output_type": "execute_result",
          "data": {
            "application/vnd.google.colaboratory.intrinsic+json": {
              "type": "string"
            },
            "text/plain": [
              "'https://news.naver.com/main/read.nhn?mode=LSD&mid=shm&sid1=105&oid=001&aid=0011745053'"
            ]
          },
          "metadata": {
            "tags": []
          },
          "execution_count": 10
        }
      ]
    },
    {
      "cell_type": "code",
      "metadata": {
        "id": "pJVU5dK9BC7P",
        "colab_type": "code",
        "colab": {
          "base_uri": "https://localhost:8080/",
          "height": 35
        },
        "outputId": "8cc2a435-344b-4ae6-d9cf-fdf66fb011cf"
      },
      "source": [
        "# 변수[시작인덱스:끝인덱스:step(간격)]\n",
        "url[:] # 원본 카피"
      ],
      "execution_count": null,
      "outputs": [
        {
          "output_type": "execute_result",
          "data": {
            "application/vnd.google.colaboratory.intrinsic+json": {
              "type": "string"
            },
            "text/plain": [
              "'https://news.naver.com/main/read.nhn?mode=LSD&mid=shm&sid1=105&oid=001&aid=0011745053'"
            ]
          },
          "metadata": {
            "tags": []
          },
          "execution_count": 11
        }
      ]
    },
    {
      "cell_type": "code",
      "metadata": {
        "id": "_v4EWz26BEDa",
        "colab_type": "code",
        "colab": {
          "base_uri": "https://localhost:8080/",
          "height": 35
        },
        "outputId": "c357447e-75a9-42a0-ed65-e194d14bd368"
      },
      "source": [
        "url[0:5]"
      ],
      "execution_count": null,
      "outputs": [
        {
          "output_type": "execute_result",
          "data": {
            "application/vnd.google.colaboratory.intrinsic+json": {
              "type": "string"
            },
            "text/plain": [
              "'https'"
            ]
          },
          "metadata": {
            "tags": []
          },
          "execution_count": 12
        }
      ]
    },
    {
      "cell_type": "code",
      "metadata": {
        "id": "W8-0gnRtBE0i",
        "colab_type": "code",
        "colab": {
          "base_uri": "https://localhost:8080/",
          "height": 35
        },
        "outputId": "636be5fa-546c-4f75-9452-ad548e168407"
      },
      "source": [
        "# 처음부터 ~ <5 -> 문자와 문자 사이의 간격을 카운트한다\n",
        "url[:5]"
      ],
      "execution_count": null,
      "outputs": [
        {
          "output_type": "execute_result",
          "data": {
            "application/vnd.google.colaboratory.intrinsic+json": {
              "type": "string"
            },
            "text/plain": [
              "'https'"
            ]
          },
          "metadata": {
            "tags": []
          },
          "execution_count": 13
        }
      ]
    },
    {
      "cell_type": "code",
      "metadata": {
        "id": "ZlAbZ0vZBF6J",
        "colab_type": "code",
        "colab": {
          "base_uri": "https://localhost:8080/",
          "height": 35
        },
        "outputId": "7b8bdc20-be11-4792-c7d8-d75640c145f3"
      },
      "source": [
        "# step은 기본값이 1, 주어진 값에 의해서 간격을 벌어진다\n",
        "url[:10:3]"
      ],
      "execution_count": null,
      "outputs": [
        {
          "output_type": "execute_result",
          "data": {
            "application/vnd.google.colaboratory.intrinsic+json": {
              "type": "string"
            },
            "text/plain": [
              "'hp/e'"
            ]
          },
          "metadata": {
            "tags": []
          },
          "execution_count": 14
        }
      ]
    },
    {
      "cell_type": "code",
      "metadata": {
        "id": "7uhgYJuYBGwB",
        "colab_type": "code",
        "colab": {
          "base_uri": "https://localhost:8080/",
          "height": 35
        },
        "outputId": "8ec06fe5-1bc0-4448-eb33-2140aa251cac"
      },
      "source": [
        "url"
      ],
      "execution_count": null,
      "outputs": [
        {
          "output_type": "execute_result",
          "data": {
            "application/vnd.google.colaboratory.intrinsic+json": {
              "type": "string"
            },
            "text/plain": [
              "'https://news.naver.com/main/read.nhn?mode=LSD&mid=shm&sid1=105&oid=001&aid=0011745053'"
            ]
          },
          "metadata": {
            "tags": []
          },
          "execution_count": 15
        }
      ]
    },
    {
      "cell_type": "code",
      "metadata": {
        "id": "1_OhS3z3BH4A",
        "colab_type": "code",
        "colab": {
          "base_uri": "https://localhost:8080/",
          "height": 35
        },
        "outputId": "888f638d-4222-4127-944f-b68fd190d7fd"
      },
      "source": [
        "# mid값을 추출하시오?\n",
        "# 직접 카운트하면 어떻게는 뽑지만 구조가 변경되면 다시 사용 불가\n",
        "# 분해를 이용하여 데이터를 좁히고, 거기서 추출\n",
        "url.split('&')[1][-3:]"
      ],
      "execution_count": null,
      "outputs": [
        {
          "output_type": "execute_result",
          "data": {
            "application/vnd.google.colaboratory.intrinsic+json": {
              "type": "string"
            },
            "text/plain": [
              "'shm'"
            ]
          },
          "metadata": {
            "tags": []
          },
          "execution_count": 16
        }
      ]
    },
    {
      "cell_type": "code",
      "metadata": {
        "id": "GvUJngKzBJTv",
        "colab_type": "code",
        "colab": {
          "base_uri": "https://localhost:8080/",
          "height": 35
        },
        "outputId": "6dcc86e0-e56f-4fd4-91de-ae8d3454e599"
      },
      "source": [
        "# 6. 포멧팅 => 문자열 사이에 문자열을 삽입하는 경우, 복잡한 구조의 문자열을 동적 생성\n",
        "# %\n",
        "# .format()\n",
        "# f''\n",
        "a = 1\n",
        "b = 2\n",
        "# X + Y  = Z \n",
        "str(a) + \" + \" + str(b) + ' = ' + str(a+b)"
      ],
      "execution_count": null,
      "outputs": [
        {
          "output_type": "execute_result",
          "data": {
            "application/vnd.google.colaboratory.intrinsic+json": {
              "type": "string"
            },
            "text/plain": [
              "'1 + 2 = 3'"
            ]
          },
          "metadata": {
            "tags": []
          },
          "execution_count": 17
        }
      ]
    },
    {
      "cell_type": "code",
      "metadata": {
        "id": "enjuDa9VBLEf",
        "colab_type": "code",
        "colab": {
          "base_uri": "https://localhost:8080/",
          "height": 35
        },
        "outputId": "9879e3a6-0270-4ab7-bca4-59c479de65b1"
      },
      "source": [
        "# 6-1. %\n",
        "'%d + %d = %d' % (a, b, a+b)"
      ],
      "execution_count": null,
      "outputs": [
        {
          "output_type": "execute_result",
          "data": {
            "application/vnd.google.colaboratory.intrinsic+json": {
              "type": "string"
            },
            "text/plain": [
              "'1 + 2 = 3'"
            ]
          },
          "metadata": {
            "tags": []
          },
          "execution_count": 18
        }
      ]
    },
    {
      "cell_type": "code",
      "metadata": {
        "id": "Y79Z3mESBMNj",
        "colab_type": "code",
        "colab": {
          "base_uri": "https://localhost:8080/",
          "height": 35
        },
        "outputId": "db64a1c7-64e8-47d6-a68c-7cb82dd894f7"
      },
      "source": [
        "# 만약 입력값의 타입을 모른다면? => 타입을 정확하게 사용하면, \n",
        "# 입력 데이터 타입이 다를 때 문제발생\n",
        "a = 1.1\n",
        "'%d + %d = %d' % (a, b, a+b)"
      ],
      "execution_count": null,
      "outputs": [
        {
          "output_type": "execute_result",
          "data": {
            "application/vnd.google.colaboratory.intrinsic+json": {
              "type": "string"
            },
            "text/plain": [
              "'1 + 2 = 3'"
            ]
          },
          "metadata": {
            "tags": []
          },
          "execution_count": 19
        }
      ]
    },
    {
      "cell_type": "code",
      "metadata": {
        "id": "8MkuN8vmBOXx",
        "colab_type": "code",
        "colab": {
          "base_uri": "https://localhost:8080/",
          "height": 35
        },
        "outputId": "e1900119-1c02-40cf-ce87-7a44d7e46213"
      },
      "source": [
        "# 타입에 상관없이 처리하고 싶다\n",
        "'%s + %s = %s' % (a, b, a+b)"
      ],
      "execution_count": null,
      "outputs": [
        {
          "output_type": "execute_result",
          "data": {
            "application/vnd.google.colaboratory.intrinsic+json": {
              "type": "string"
            },
            "text/plain": [
              "'1.1 + 2 = 3.1'"
            ]
          },
          "metadata": {
            "tags": []
          },
          "execution_count": 20
        }
      ]
    },
    {
      "cell_type": "code",
      "metadata": {
        "id": "utchsLIhBQ91",
        "colab_type": "code",
        "colab": {
          "base_uri": "https://localhost:8080/",
          "height": 35
        },
        "outputId": "dc66c821-7ec8-469b-f5f4-5a153c94204d"
      },
      "source": [
        "# 6-2. .format()\n",
        "# 무조건 순서대로 들어온다\n",
        "'{} + {} = {}'.format( a, b, a+b )"
      ],
      "execution_count": null,
      "outputs": [
        {
          "output_type": "execute_result",
          "data": {
            "application/vnd.google.colaboratory.intrinsic+json": {
              "type": "string"
            },
            "text/plain": [
              "'1.1 + 2 = 3.1'"
            ]
          },
          "metadata": {
            "tags": []
          },
          "execution_count": 21
        }
      ]
    },
    {
      "cell_type": "code",
      "metadata": {
        "id": "qgCDF2RHBSgB",
        "colab_type": "code",
        "colab": {
          "base_uri": "https://localhost:8080/",
          "height": 35
        },
        "outputId": "7f1a7b19-e4ae-4d29-994e-159975dbab70"
      },
      "source": [
        "# 인덱스 사용 가능\n",
        "'{0} + {1} = {2}'.format( a, b, a+b )"
      ],
      "execution_count": null,
      "outputs": [
        {
          "output_type": "execute_result",
          "data": {
            "application/vnd.google.colaboratory.intrinsic+json": {
              "type": "string"
            },
            "text/plain": [
              "'1.1 + 2 = 3.1'"
            ]
          },
          "metadata": {
            "tags": []
          },
          "execution_count": 22
        }
      ]
    },
    {
      "cell_type": "code",
      "metadata": {
        "id": "WVaP1SqMBUHc",
        "colab_type": "code",
        "colab": {
          "base_uri": "https://localhost:8080/",
          "height": 35
        },
        "outputId": "e5b43ea1-1b51-4026-c574-7fb47d9f1c98"
      },
      "source": [
        "# 사용 순서를 바꿔도 된다\n",
        "'{1} + {0} = {2}'.format( a, b, a+b )"
      ],
      "execution_count": null,
      "outputs": [
        {
          "output_type": "execute_result",
          "data": {
            "application/vnd.google.colaboratory.intrinsic+json": {
              "type": "string"
            },
            "text/plain": [
              "'2 + 1.1 = 3.1'"
            ]
          },
          "metadata": {
            "tags": []
          },
          "execution_count": 23
        }
      ]
    },
    {
      "cell_type": "code",
      "metadata": {
        "id": "fg1QQUABBU77",
        "colab_type": "code",
        "colab": {
          "base_uri": "https://localhost:8080/",
          "height": 35
        },
        "outputId": "c3b88d9d-818d-4238-c9ce-f961db26571b"
      },
      "source": [
        "# 파라미터를 모두 다 사용하지 않아도 된다\n",
        "'{0} + {1} = {1}'.format( a, b, a+b )"
      ],
      "execution_count": null,
      "outputs": [
        {
          "output_type": "execute_result",
          "data": {
            "application/vnd.google.colaboratory.intrinsic+json": {
              "type": "string"
            },
            "text/plain": [
              "'1.1 + 2 = 2'"
            ]
          },
          "metadata": {
            "tags": []
          },
          "execution_count": 24
        }
      ]
    },
    {
      "cell_type": "code",
      "metadata": {
        "id": "AVMFd3lnBVyP",
        "colab_type": "code",
        "colab": {
          "base_uri": "https://localhost:8080/",
          "height": 35
        },
        "outputId": "bed8dca9-56f1-4d7b-b1fc-e5f8e185a18d"
      },
      "source": [
        "# 파리미터명 부여되었다 => 의미를 명확하게 줄수 있다\n",
        "'{x} + {x2} = {y}'.format( x=a, x2=b, y=a+b )"
      ],
      "execution_count": null,
      "outputs": [
        {
          "output_type": "execute_result",
          "data": {
            "application/vnd.google.colaboratory.intrinsic+json": {
              "type": "string"
            },
            "text/plain": [
              "'1.1 + 2 = 3.1'"
            ]
          },
          "metadata": {
            "tags": []
          },
          "execution_count": 25
        }
      ]
    },
    {
      "cell_type": "code",
      "metadata": {
        "id": "Ry7UN1REBWpw",
        "colab_type": "code",
        "colab": {
          "base_uri": "https://localhost:8080/",
          "height": 35
        },
        "outputId": "a3c0bb88-b389-47cd-df27-7b7bb7fef0c5"
      },
      "source": [
        "# 6-3. f'{변수명}' => f-string\n",
        "# python 3.6이상부터 사용가능\n",
        "f'{a} + {b} = {a+b}'"
      ],
      "execution_count": null,
      "outputs": [
        {
          "output_type": "execute_result",
          "data": {
            "application/vnd.google.colaboratory.intrinsic+json": {
              "type": "string"
            },
            "text/plain": [
              "'1.1 + 2 = 3.1'"
            ]
          },
          "metadata": {
            "tags": []
          },
          "execution_count": 26
        }
      ]
    },
    {
      "cell_type": "code",
      "metadata": {
        "id": "UZD5_LaTBXrL",
        "colab_type": "code",
        "colab": {
          "base_uri": "https://localhost:8080/",
          "height": 35
        },
        "outputId": "17e1f7ea-b22c-497f-dafd-39e702bd683e"
      },
      "source": [
        "# 7. 자주 사용하는 문자열의 유니버스함수(맴버함수)\n",
        "# 문자열.함수()\n",
        "a = '0123456789abcdefghijkABCDEFGHIK!@#$가나다라'\n",
        "a"
      ],
      "execution_count": null,
      "outputs": [
        {
          "output_type": "execute_result",
          "data": {
            "application/vnd.google.colaboratory.intrinsic+json": {
              "type": "string"
            },
            "text/plain": [
              "'0123456789abcdefghijkABCDEFGHIK!@#$가나다라'"
            ]
          },
          "metadata": {
            "tags": []
          },
          "execution_count": 27
        }
      ]
    },
    {
      "cell_type": "code",
      "metadata": {
        "id": "gADlVIqwBYlN",
        "colab_type": "code",
        "colab": {
          "base_uri": "https://localhost:8080/",
          "height": 34
        },
        "outputId": "36659a90-3e10-4baf-aa46-4a5afa357d0a"
      },
      "source": [
        "# 카운트 : 문자열 내에 특정 문자가 몇 번 나오는가? -> 워드 카운트 -> 워드 클라우드 -> 문자 간 거리 -> 유사어, 탐색에 적합\n",
        "a.count('a'), a.count('z')"
      ],
      "execution_count": null,
      "outputs": [
        {
          "output_type": "execute_result",
          "data": {
            "text/plain": [
              "(1, 0)"
            ]
          },
          "metadata": {
            "tags": []
          },
          "execution_count": 28
        }
      ]
    },
    {
      "cell_type": "code",
      "metadata": {
        "id": "8R-xRhCRBZuA",
        "colab_type": "code",
        "colab": {
          "base_uri": "https://localhost:8080/",
          "height": 34
        },
        "outputId": "f5cf360b-bd41-41d7-e772-13baed6e85ac"
      },
      "source": [
        "# 인덱스 => 위치정보 => 해당 문자가 문자열 내에 존재하는가?\n",
        "a.index('a')"
      ],
      "execution_count": null,
      "outputs": [
        {
          "output_type": "execute_result",
          "data": {
            "text/plain": [
              "10"
            ]
          },
          "metadata": {
            "tags": []
          },
          "execution_count": 29
        }
      ]
    },
    {
      "cell_type": "code",
      "metadata": {
        "id": "GSU12Vc4BatX",
        "colab_type": "code",
        "colab": {
          "base_uri": "https://localhost:8080/",
          "height": 186
        },
        "outputId": "7a956cac-3ae1-4658-cf61-3cdc5471b2f6"
      },
      "source": [
        "# 아래 코드는 오류가 난다. 해당 문자열이 없으면 오류 => 문자열 내에 존재하는지 체크하는 것은 리스크가 있다\n",
        "a.index('z')"
      ],
      "execution_count": null,
      "outputs": [
        {
          "output_type": "error",
          "ename": "ValueError",
          "evalue": "ignored",
          "traceback": [
            "\u001b[0;31m---------------------------------------------------------------------------\u001b[0m",
            "\u001b[0;31mValueError\u001b[0m                                Traceback (most recent call last)",
            "\u001b[0;32m<ipython-input-30-dfdffc1a1628>\u001b[0m in \u001b[0;36m<module>\u001b[0;34m()\u001b[0m\n\u001b[1;32m      1\u001b[0m \u001b[0;31m# 아래 코드는 오류가 난다. 해당 문자열이 없으면 오류 => 문자열 내에 존재하는지 체크하는 것은 리스크가 있다\u001b[0m\u001b[0;34m\u001b[0m\u001b[0;34m\u001b[0m\u001b[0;34m\u001b[0m\u001b[0m\n\u001b[0;32m----> 2\u001b[0;31m \u001b[0ma\u001b[0m\u001b[0;34m.\u001b[0m\u001b[0mindex\u001b[0m\u001b[0;34m(\u001b[0m\u001b[0;34m'z'\u001b[0m\u001b[0;34m)\u001b[0m\u001b[0;34m\u001b[0m\u001b[0;34m\u001b[0m\u001b[0m\n\u001b[0m",
            "\u001b[0;31mValueError\u001b[0m: substring not found"
          ]
        }
      ]
    },
    {
      "cell_type": "code",
      "metadata": {
        "id": "4Fi3crEIBcGx",
        "colab_type": "code",
        "colab": {
          "base_uri": "https://localhost:8080/",
          "height": 34
        },
        "outputId": "4764689c-e83f-4205-af11-31d999c3b05e"
      },
      "source": [
        "# 탐색에 적합\n",
        "a.find('a'), a.find('z')"
      ],
      "execution_count": null,
      "outputs": [
        {
          "output_type": "execute_result",
          "data": {
            "text/plain": [
              "(10, -1)"
            ]
          },
          "metadata": {
            "tags": []
          },
          "execution_count": 32
        }
      ]
    },
    {
      "cell_type": "code",
      "metadata": {
        "id": "v8o8U4mkBeA2",
        "colab_type": "code",
        "colab": {
          "base_uri": "https://localhost:8080/",
          "height": 35
        },
        "outputId": "e454896c-c61a-467c-b9c9-a854fbe1a39e"
      },
      "source": [
        "# 8. 조인, 분해\n",
        "a = '0123456789'\n",
        "a"
      ],
      "execution_count": null,
      "outputs": [
        {
          "output_type": "execute_result",
          "data": {
            "application/vnd.google.colaboratory.intrinsic+json": {
              "type": "string"
            },
            "text/plain": [
              "'0123456789'"
            ]
          },
          "metadata": {
            "tags": []
          },
          "execution_count": 33
        }
      ]
    },
    {
      "cell_type": "code",
      "metadata": {
        "id": "TMbRQ5uaBg3n",
        "colab_type": "code",
        "colab": {
          "base_uri": "https://localhost:8080/",
          "height": 35
        },
        "outputId": "db054f9e-b6ca-4f2f-dae7-5cc0d0f158b0"
      },
      "source": [
        "# 조인 => 특정 문자열을 특정 문자열 사이사이에 삽입시켜서 새로운 문자열 생성\n",
        "# 삽입된 문자열 => 구분자 => seq\n",
        "tmp = ','.join( a )\n",
        "tmp"
      ],
      "execution_count": null,
      "outputs": [
        {
          "output_type": "execute_result",
          "data": {
            "application/vnd.google.colaboratory.intrinsic+json": {
              "type": "string"
            },
            "text/plain": [
              "'0,1,2,3,4,5,6,7,8,9'"
            ]
          },
          "metadata": {
            "tags": []
          },
          "execution_count": 34
        }
      ]
    },
    {
      "cell_type": "code",
      "metadata": {
        "id": "C0LgpsRvBhqy",
        "colab_type": "code",
        "colab": {
          "base_uri": "https://localhost:8080/",
          "height": 34
        },
        "outputId": "760b40f6-372c-4481-e358-fbc6449cd498"
      },
      "source": [
        "# 분해 -> seq 구분자를 기준으로 list로 출력됨\n",
        "tmp.split(',')"
      ],
      "execution_count": null,
      "outputs": [
        {
          "output_type": "execute_result",
          "data": {
            "text/plain": [
              "['0', '1', '2', '3', '4', '5', '6', '7', '8', '9']"
            ]
          },
          "metadata": {
            "tags": []
          },
          "execution_count": 35
        }
      ]
    },
    {
      "cell_type": "code",
      "metadata": {
        "id": "toxkdOkoBizS",
        "colab_type": "code",
        "colab": {
          "base_uri": "https://localhost:8080/",
          "height": 35
        },
        "outputId": "7f4ad411-ad78-4bd9-c831-3f6b7427b349"
      },
      "source": [
        "# 9. 공백제거\n",
        "# 문자열의 왼쪽, 오른쪽, 양쪽만 가능\n",
        "# 문자열 내부는? => 정규식 담당\n",
        "a = '''\n",
        "  \n",
        "\n",
        "  미국 USD\n",
        "\n",
        "\n",
        "'''\n",
        "a"
      ],
      "execution_count": null,
      "outputs": [
        {
          "output_type": "execute_result",
          "data": {
            "application/vnd.google.colaboratory.intrinsic+json": {
              "type": "string"
            },
            "text/plain": [
              "'\\n  \\n\\n  미국 USD\\n\\n\\n'"
            ]
          },
          "metadata": {
            "tags": []
          },
          "execution_count": 36
        }
      ]
    },
    {
      "cell_type": "code",
      "metadata": {
        "id": "3hYJxrpvBjpX",
        "colab_type": "code",
        "colab": {
          "base_uri": "https://localhost:8080/",
          "height": 87
        },
        "outputId": "5bdd3c52-5130-4828-fbbf-3831b630c8c4"
      },
      "source": [
        "'[%s]' % a, '[%s]' % a.lstrip(), '[%s]' % a.rstrip(), '[%s]' % a.strip()"
      ],
      "execution_count": null,
      "outputs": [
        {
          "output_type": "execute_result",
          "data": {
            "text/plain": [
              "('[\\n  \\n\\n  미국 USD\\n\\n\\n]',\n",
              " '[미국 USD\\n\\n\\n]',\n",
              " '[\\n  \\n\\n  미국 USD]',\n",
              " '[미국 USD]')"
            ]
          },
          "metadata": {
            "tags": []
          },
          "execution_count": 37
        }
      ]
    },
    {
      "cell_type": "code",
      "metadata": {
        "id": "IWghO-dCBlVV",
        "colab_type": "code",
        "colab": {
          "base_uri": "https://localhost:8080/",
          "height": 35
        },
        "outputId": "2f0c6735-f4a7-4a8f-86d1-8c3998f835ad"
      },
      "source": [
        "# 10. 치환\n",
        "a = '0123456789'\n",
        "a.replace( '234', 'AB' )"
      ],
      "execution_count": null,
      "outputs": [
        {
          "output_type": "execute_result",
          "data": {
            "application/vnd.google.colaboratory.intrinsic+json": {
              "type": "string"
            },
            "text/plain": [
              "'01AB56789'"
            ]
          },
          "metadata": {
            "tags": []
          },
          "execution_count": 38
        }
      ]
    },
    {
      "cell_type": "code",
      "metadata": {
        "id": "RweQrxogBmLm",
        "colab_type": "code",
        "colab": {
          "base_uri": "https://localhost:8080/",
          "height": 35
        },
        "outputId": "bc650f9c-201f-4f60-997d-6d8cdee2e4a7"
      },
      "source": [
        "# 11. 자리수 맞추기\n",
        "# 로그출력 시 간격 유지용\n",
        "'[%s] [%s]' % (a[:5], a) "
      ],
      "execution_count": null,
      "outputs": [
        {
          "output_type": "execute_result",
          "data": {
            "application/vnd.google.colaboratory.intrinsic+json": {
              "type": "string"
            },
            "text/plain": [
              "'[01234] [0123456789]'"
            ]
          },
          "metadata": {
            "tags": []
          },
          "execution_count": 39
        }
      ]
    },
    {
      "cell_type": "code",
      "metadata": {
        "id": "A4367jdXBnOW",
        "colab_type": "code",
        "colab": {
          "base_uri": "https://localhost:8080/",
          "height": 35
        },
        "outputId": "8bed4022-aee8-440b-acb1-9d2c87711c16"
      },
      "source": [
        "'[%s] [%s]' % (a[:7], a) "
      ],
      "execution_count": null,
      "outputs": [
        {
          "output_type": "execute_result",
          "data": {
            "application/vnd.google.colaboratory.intrinsic+json": {
              "type": "string"
            },
            "text/plain": [
              "'[0123456] [0123456789]'"
            ]
          },
          "metadata": {
            "tags": []
          },
          "execution_count": 40
        }
      ]
    },
    {
      "cell_type": "code",
      "metadata": {
        "id": "Lx5ZLTevBods",
        "colab_type": "code",
        "colab": {
          "base_uri": "https://localhost:8080/",
          "height": 35
        },
        "outputId": "bbfae1e9-7575-4924-e19a-6c73fe1eae60"
      },
      "source": [
        "'[%10s] [%10s]' % (a[:5], a) "
      ],
      "execution_count": null,
      "outputs": [
        {
          "output_type": "execute_result",
          "data": {
            "application/vnd.google.colaboratory.intrinsic+json": {
              "type": "string"
            },
            "text/plain": [
              "'[     01234] [0123456789]'"
            ]
          },
          "metadata": {
            "tags": []
          },
          "execution_count": 41
        }
      ]
    },
    {
      "cell_type": "code",
      "metadata": {
        "id": "fuF1d1rABppg",
        "colab_type": "code",
        "colab": {
          "base_uri": "https://localhost:8080/",
          "height": 35
        },
        "outputId": "24264235-99bd-4ce3-b659-3a8deaea099c"
      },
      "source": [
        "'[%-10s] [%10s]' % (a[:5], a) "
      ],
      "execution_count": null,
      "outputs": [
        {
          "output_type": "execute_result",
          "data": {
            "application/vnd.google.colaboratory.intrinsic+json": {
              "type": "string"
            },
            "text/plain": [
              "'[01234     ] [0123456789]'"
            ]
          },
          "metadata": {
            "tags": []
          },
          "execution_count": 42
        }
      ]
    },
    {
      "cell_type": "code",
      "metadata": {
        "id": "B63gAU09BrCL",
        "colab_type": "code",
        "colab": {
          "base_uri": "https://localhost:8080/",
          "height": 35
        },
        "outputId": "19ea8547-b4e5-4ed8-8fb5-e19de9f46d39"
      },
      "source": [
        "'[{0:<10}] [{1}]'.format(a[:5], a) "
      ],
      "execution_count": null,
      "outputs": [
        {
          "output_type": "execute_result",
          "data": {
            "application/vnd.google.colaboratory.intrinsic+json": {
              "type": "string"
            },
            "text/plain": [
              "'[01234     ] [0123456789]'"
            ]
          },
          "metadata": {
            "tags": []
          },
          "execution_count": 43
        }
      ]
    },
    {
      "cell_type": "code",
      "metadata": {
        "id": "5H0oLICfBsSN",
        "colab_type": "code",
        "colab": {
          "base_uri": "https://localhost:8080/",
          "height": 35
        },
        "outputId": "631de2fa-45f0-413f-fd03-16d1379198d3"
      },
      "source": [
        "'[{0:>10}] [{1}]'.format(a[:5], a) "
      ],
      "execution_count": null,
      "outputs": [
        {
          "output_type": "execute_result",
          "data": {
            "application/vnd.google.colaboratory.intrinsic+json": {
              "type": "string"
            },
            "text/plain": [
              "'[     01234] [0123456789]'"
            ]
          },
          "metadata": {
            "tags": []
          },
          "execution_count": 44
        }
      ]
    },
    {
      "cell_type": "code",
      "metadata": {
        "id": "5du-aCLgBtOn",
        "colab_type": "code",
        "colab": {
          "base_uri": "https://localhost:8080/",
          "height": 35
        },
        "outputId": "bea8ca9c-2332-406b-9066-9148e83597a8"
      },
      "source": [
        "# 가운데\n",
        "'[{0:^10}] [{1}]'.format(a[:5], a) "
      ],
      "execution_count": null,
      "outputs": [
        {
          "output_type": "execute_result",
          "data": {
            "application/vnd.google.colaboratory.intrinsic+json": {
              "type": "string"
            },
            "text/plain": [
              "'[  01234   ] [0123456789]'"
            ]
          },
          "metadata": {
            "tags": []
          },
          "execution_count": 45
        }
      ]
    },
    {
      "cell_type": "code",
      "metadata": {
        "id": "XLtgMsztBvEi",
        "colab_type": "code",
        "colab": {
          "base_uri": "https://localhost:8080/",
          "height": 35
        },
        "outputId": "c730b146-c5dc-4e47-afa7-c3b12aece6c9"
      },
      "source": [
        "'[{0:*^10}] [{1}]'.format(a[:5], a) "
      ],
      "execution_count": null,
      "outputs": [
        {
          "output_type": "execute_result",
          "data": {
            "application/vnd.google.colaboratory.intrinsic+json": {
              "type": "string"
            },
            "text/plain": [
              "'[**01234***] [0123456789]'"
            ]
          },
          "metadata": {
            "tags": []
          },
          "execution_count": 46
        }
      ]
    },
    {
      "cell_type": "code",
      "metadata": {
        "id": "EPVZIPlYBwfZ",
        "colab_type": "code",
        "colab": {
          "base_uri": "https://localhost:8080/",
          "height": 35
        },
        "outputId": "8a6e7078-2cea-41fb-b1d8-b0ffc9569e11"
      },
      "source": [
        "f'[{a[:5]:>10}] [{a}]'"
      ],
      "execution_count": null,
      "outputs": [
        {
          "output_type": "execute_result",
          "data": {
            "application/vnd.google.colaboratory.intrinsic+json": {
              "type": "string"
            },
            "text/plain": [
              "'[     01234] [0123456789]'"
            ]
          },
          "metadata": {
            "tags": []
          },
          "execution_count": 47
        }
      ]
    },
    {
      "cell_type": "code",
      "metadata": {
        "id": "uavr_Pa6BysY",
        "colab_type": "code",
        "colab": {
          "base_uri": "https://localhost:8080/",
          "height": 35
        },
        "outputId": "e7e209f3-4474-4cbc-b212-9f88f9337dfd"
      },
      "source": [
        "f'[{a[:5]:^10}] [{a}]'"
      ],
      "execution_count": null,
      "outputs": [
        {
          "output_type": "execute_result",
          "data": {
            "application/vnd.google.colaboratory.intrinsic+json": {
              "type": "string"
            },
            "text/plain": [
              "'[  01234   ] [0123456789]'"
            ]
          },
          "metadata": {
            "tags": []
          },
          "execution_count": 48
        }
      ]
    },
    {
      "cell_type": "code",
      "metadata": {
        "id": "FVFwbfsOB0HT",
        "colab_type": "code",
        "colab": {
          "base_uri": "https://localhost:8080/",
          "height": 35
        },
        "outputId": "c925d158-0125-4104-c2df-00d8476c29bc"
      },
      "source": [
        "# 확인 필요 \n",
        "f'[{a[:5]:<10}] [{a}]'"
      ],
      "execution_count": null,
      "outputs": [
        {
          "output_type": "execute_result",
          "data": {
            "application/vnd.google.colaboratory.intrinsic+json": {
              "type": "string"
            },
            "text/plain": [
              "'[01234     ] [0123456789]'"
            ]
          },
          "metadata": {
            "tags": []
          },
          "execution_count": 49
        }
      ]
    }
  ]
}