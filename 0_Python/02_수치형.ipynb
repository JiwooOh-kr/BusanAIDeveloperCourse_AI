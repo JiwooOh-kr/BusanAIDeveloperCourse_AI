{
  "nbformat": 4,
  "nbformat_minor": 0,
  "metadata": {
    "colab": {
      "name": "02_수치형.ipynb",
      "provenance": [],
      "collapsed_sections": [],
      "authorship_tag": "ABX9TyMlNxx+dH5c41FlgRHZQMwG",
      "include_colab_link": true
    },
    "kernelspec": {
      "name": "python3",
      "display_name": "Python 3"
    }
  },
  "cells": [
    {
      "cell_type": "markdown",
      "metadata": {
        "id": "view-in-github",
        "colab_type": "text"
      },
      "source": [
        "<a href=\"https://colab.research.google.com/github/jkjh23/2020_AI_Busan/blob/master/0_Python/02_%EC%88%98%EC%B9%98%ED%98%95.ipynb\" target=\"_parent\"><img src=\"https://colab.research.google.com/assets/colab-badge.svg\" alt=\"Open In Colab\"/></a>"
      ]
    },
    {
      "cell_type": "markdown",
      "metadata": {
        "id": "wLB_tyib_1c2",
        "colab_type": "text"
      },
      "source": [
        "# 수치형 (타입:단일데이터형)\n",
        "- 정수(..., -1, 0, 1, ...) :\n",
        "  - 십진수(10,11), 이진수(0 or 1), 8진수, 16진수(0xFF)\n",
        "- 부동소수( -3.14, 0.0, 1.2 ..)"
      ]
    },
    {
      "cell_type": "markdown",
      "metadata": {
        "id": "jDKBsZYQ_8Ji",
        "colab_type": "text"
      },
      "source": [
        "# 변수\n",
        "- 값을 담는 그릇(일반적으로 쉽게 표현한 것)\n",
        "- 파이썬에서는 값을 참조하는 주소를 담는 그릇\n",
        "  - 자바 : reference type(객체 참조형 타입), 객체\n",
        "  - 객체는 반드시 주소를 가진다(heap 영역에서)\n",
        "  - 파이썬에서는 모든것이 객체다\n",
        "    - 관리 : 참조 카운트로 관리된다\n",
        "- 변수의 이름짓는 규칙은 기존 언어와 동일\n",
        "  - 알파벳, _, 숫자는(두번째부터),..\n",
        "  - 스타일 : C 스타일, 자바 스타일 알아서 편하게\n",
        "- 상수\n",
        "  - 없다\n",
        "  - 암묵적 표현으로 대문자로 표현\n",
        "- 변수명 앞에 아무런 표식도 없다\n",
        "  - 타입 추론형\n",
        "  - 값이 들어올 때 타입이 결정된다\n",
        "    - js, scalar, kotlin, ...\n",
        "    - js : var a, let a, const a"
      ]
    },
    {
      "cell_type": "code",
      "metadata": {
        "id": "OPgAnjBk_9c6",
        "colab_type": "code",
        "colab": {
          "base_uri": "https://localhost:8080/",
          "height": 34
        },
        "outputId": "dd900fbd-c10b-4c95-807e-f78618bd0080"
      },
      "source": [
        "# 1. 변수\n",
        "# a라는 변수에 1이라는 객체의 주소를 대입한다\n",
        "a = 1\n",
        "a, type(a)"
      ],
      "execution_count": null,
      "outputs": [
        {
          "output_type": "execute_result",
          "data": {
            "text/plain": [
              "(1, int)"
            ]
          },
          "metadata": {
            "tags": []
          },
          "execution_count": 1
        }
      ]
    },
    {
      "cell_type": "code",
      "metadata": {
        "id": "H-UZ6oCM_9fD",
        "colab_type": "code",
        "colab": {
          "base_uri": "https://localhost:8080/",
          "height": 34
        },
        "outputId": "c01421d2-b4c9-4791-9f44-b0b994058713"
      },
      "source": [
        "# a라는 변수에 1.1이라는 객체의 주소가 새로 세팅되었다\n",
        "a = 1.1\n",
        "a, type(a)"
      ],
      "execution_count": null,
      "outputs": [
        {
          "output_type": "execute_result",
          "data": {
            "text/plain": [
              "(1.1, float)"
            ]
          },
          "metadata": {
            "tags": []
          },
          "execution_count": 2
        }
      ]
    },
    {
      "cell_type": "code",
      "metadata": {
        "id": "3Qpu8TsCAA3H",
        "colab_type": "code",
        "colab": {
          "base_uri": "https://localhost:8080/",
          "height": 34
        },
        "outputId": "59247339-8b96-48ef-b65f-fb592295409a"
      },
      "source": [
        "a = str\n",
        "a, type(a)"
      ],
      "execution_count": null,
      "outputs": [
        {
          "output_type": "execute_result",
          "data": {
            "text/plain": [
              "(str, type)"
            ]
          },
          "metadata": {
            "tags": []
          },
          "execution_count": 3
        }
      ]
    },
    {
      "cell_type": "code",
      "metadata": {
        "id": "0sjeSVhQACAt",
        "colab_type": "code",
        "colab": {
          "base_uri": "https://localhost:8080/",
          "height": 35
        },
        "outputId": "9dbf9308-ac45-42fa-8fa4-8aaf41b6874c"
      },
      "source": [
        "a(1)"
      ],
      "execution_count": null,
      "outputs": [
        {
          "output_type": "execute_result",
          "data": {
            "application/vnd.google.colaboratory.intrinsic+json": {
              "type": "string"
            },
            "text/plain": [
              "'1'"
            ]
          },
          "metadata": {
            "tags": []
          },
          "execution_count": 4
        }
      ]
    },
    {
      "cell_type": "code",
      "metadata": {
        "id": "xnXNjKo-ADiy",
        "colab_type": "code",
        "colab": {}
      },
      "source": [
        "# 변수는 주소만을 담기 때문에 어떤 것도 올 수 있다 (값, 연속데이터형, 함수, 객체,..)\n",
        "# 사전에 이미 정의되어 있는(이미 사용하고 있는) 이름은 절대로 변수로 쓰면 안 된다 -> 검은색만 사용\n",
        "#str = 'a'\n",
        "#str"
      ],
      "execution_count": null,
      "outputs": []
    },
    {
      "cell_type": "code",
      "metadata": {
        "id": "lxIMtCsHAEuT",
        "colab_type": "code",
        "colab": {
          "base_uri": "https://localhost:8080/",
          "height": 35
        },
        "outputId": "04f16452-a791-4e9b-9a39-94808a0084f6"
      },
      "source": [
        "str(1)"
      ],
      "execution_count": null,
      "outputs": [
        {
          "output_type": "execute_result",
          "data": {
            "application/vnd.google.colaboratory.intrinsic+json": {
              "type": "string"
            },
            "text/plain": [
              "'1'"
            ]
          },
          "metadata": {
            "tags": []
          },
          "execution_count": 5
        }
      ]
    },
    {
      "cell_type": "code",
      "metadata": {
        "id": "llPZjmg3AF4S",
        "colab_type": "code",
        "colab": {
          "base_uri": "https://localhost:8080/",
          "height": 34
        },
        "outputId": "194b6fa3-5f24-4c1a-d5e7-9044e42f9302"
      },
      "source": [
        "# 2. 상수 \n",
        "# 암묵적으로 대문자\n",
        "PI = 3.14\n",
        "PI"
      ],
      "execution_count": null,
      "outputs": [
        {
          "output_type": "execute_result",
          "data": {
            "text/plain": [
              "3.14"
            ]
          },
          "metadata": {
            "tags": []
          },
          "execution_count": 6
        }
      ]
    },
    {
      "cell_type": "code",
      "metadata": {
        "id": "65yIMZx3AHaf",
        "colab_type": "code",
        "colab": {
          "base_uri": "https://localhost:8080/",
          "height": 134
        },
        "outputId": "f84ad4bd-5da6-4f6c-d49f-019aa054bf1a"
      },
      "source": [
        "# 3. 파이썬 규칙 => 열을 잘 맞춰라 : 맨 앞으로 바싹 붙이고 \n",
        "# 들여쓰기는 언제> => 코드블록 내부에서 => : or xx 문, 함수, 클레스에서만 가능\n",
        " a = 1"
      ],
      "execution_count": null,
      "outputs": [
        {
          "output_type": "error",
          "ename": "IndentationError",
          "evalue": "ignored",
          "traceback": [
            "\u001b[0;36m  File \u001b[0;32m\"<ipython-input-14-ab8eca9e6a9d>\"\u001b[0;36m, line \u001b[0;32m3\u001b[0m\n\u001b[0;31m    a = 1\u001b[0m\n\u001b[0m    ^\u001b[0m\n\u001b[0;31mIndentationError\u001b[0m\u001b[0;31m:\u001b[0m unexpected indent\n"
          ]
        }
      ]
    },
    {
      "cell_type": "code",
      "metadata": {
        "id": "q3owt1zBAI5J",
        "colab_type": "code",
        "colab": {
          "base_uri": "https://localhost:8080/",
          "height": 52
        },
        "outputId": "4ae69d69-934b-48df-dfe1-326a80241af4"
      },
      "source": [
        "# 4. ; 사용 가능한가?\n",
        "if a:\n",
        "  print('go')\n",
        "  print('go')"
      ],
      "execution_count": null,
      "outputs": [
        {
          "output_type": "stream",
          "text": [
            "go\n",
            "go\n"
          ],
          "name": "stdout"
        }
      ]
    },
    {
      "cell_type": "code",
      "metadata": {
        "id": "gYJ4DLJUAKFr",
        "colab_type": "code",
        "colab": {
          "base_uri": "https://localhost:8080/",
          "height": 52
        },
        "outputId": "a3b21cf6-f5d0-4011-f58e-22fd0de2d253"
      },
      "source": [
        "# 여러 줄로 표현되어 있는 표현을 한 줄에 표현한다면 statement 간의 구분자로 사용한다 \n",
        "if a:print('go');print('go')"
      ],
      "execution_count": null,
      "outputs": [
        {
          "output_type": "stream",
          "text": [
            "go\n",
            "go\n"
          ],
          "name": "stdout"
        }
      ]
    },
    {
      "cell_type": "code",
      "metadata": {
        "id": "L4C0VVZEALTI",
        "colab_type": "code",
        "colab": {}
      },
      "source": [
        "# 파이썬에서 문장의 끝에는 아무 표식이 없다"
      ],
      "execution_count": null,
      "outputs": []
    },
    {
      "cell_type": "code",
      "metadata": {
        "id": "MPEPa_JcAMPX",
        "colab_type": "code",
        "colab": {
          "base_uri": "https://localhost:8080/",
          "height": 34
        },
        "outputId": "f9b84db7-f6d2-426f-c7ef-78986d183a25"
      },
      "source": [
        "# 5. 진법 표현\n",
        "a = 128  # 10진법\n",
        "b = 0xff # 16진법 0~9, A,B,C,D,E,F\n",
        "a, b"
      ],
      "execution_count": null,
      "outputs": [
        {
          "output_type": "execute_result",
          "data": {
            "text/plain": [
              "(128, 255)"
            ]
          },
          "metadata": {
            "tags": []
          },
          "execution_count": 15
        }
      ]
    },
    {
      "cell_type": "code",
      "metadata": {
        "id": "i-3Zvl4KAa5f",
        "colab_type": "code",
        "colab": {
          "base_uri": "https://localhost:8080/",
          "height": 34
        },
        "outputId": "77c74f3b-b31c-4a1a-9b16-27264ff61d59"
      },
      "source": [
        "# 6. 연산\n",
        "a, b = 1, 2\n",
        "a, b"
      ],
      "execution_count": null,
      "outputs": [
        {
          "output_type": "execute_result",
          "data": {
            "text/plain": [
              "(1, 2)"
            ]
          },
          "metadata": {
            "tags": []
          },
          "execution_count": 16
        }
      ]
    },
    {
      "cell_type": "code",
      "metadata": {
        "id": "FPkVo85KAcKR",
        "colab_type": "code",
        "colab": {
          "base_uri": "https://localhost:8080/",
          "height": 34
        },
        "outputId": "d61710c9-2279-4817-cfee-6b67465af232"
      },
      "source": [
        "# 사칙연산은 기본적인 언어와 동일, 나누기만 타입이 변경된다\n",
        "a+b, a-b, a/b, a*b"
      ],
      "execution_count": null,
      "outputs": [
        {
          "output_type": "execute_result",
          "data": {
            "text/plain": [
              "(3, -1, 0.5, 2)"
            ]
          },
          "metadata": {
            "tags": []
          },
          "execution_count": 17
        }
      ]
    },
    {
      "cell_type": "code",
      "metadata": {
        "id": "kN2POquxAdkQ",
        "colab_type": "code",
        "colab": {
          "base_uri": "https://localhost:8080/",
          "height": 34
        },
        "outputId": "fc7457ea-9af5-4807-8545-fbfd38befb79"
      },
      "source": [
        "7/4, 7//4, 7%4"
      ],
      "execution_count": null,
      "outputs": [
        {
          "output_type": "execute_result",
          "data": {
            "text/plain": [
              "(1.75, 1, 3)"
            ]
          },
          "metadata": {
            "tags": []
          },
          "execution_count": 18
        }
      ]
    },
    {
      "cell_type": "code",
      "metadata": {
        "id": "obncqDnCAeUF",
        "colab_type": "code",
        "colab": {}
      },
      "source": [
        "# 7. 연산자 우선순위\n",
        "# 서열을 모르겠다 but 가장 먼저 계산하고 싶다 => ()  괄호 안에 ,가 내부에 없다(있으면 tuple)"
      ],
      "execution_count": null,
      "outputs": []
    }
  ]
}