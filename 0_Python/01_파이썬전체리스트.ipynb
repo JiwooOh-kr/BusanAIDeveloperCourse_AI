{
  "nbformat": 4,
  "nbformat_minor": 0,
  "metadata": {
    "colab": {
      "name": "01_파이썬전체리스트.ipynb",
      "provenance": [],
      "collapsed_sections": [],
      "authorship_tag": "ABX9TyPVCkdeX6L0S6pIW6DDrbBP",
      "include_colab_link": true
    },
    "kernelspec": {
      "name": "python3",
      "display_name": "Python 3"
    }
  },
  "cells": [
    {
      "cell_type": "markdown",
      "metadata": {
        "id": "view-in-github",
        "colab_type": "text"
      },
      "source": [
        "<a href=\"https://colab.research.google.com/github/jkjh23/2020_AI_Busan/blob/master/0_Python/01_%ED%8C%8C%EC%9D%B4%EC%8D%AC%EC%A0%84%EC%B2%B4%EB%A6%AC%EC%8A%A4%ED%8A%B8.ipynb\" target=\"_parent\"><img src=\"https://colab.research.google.com/assets/colab-badge.svg\" alt=\"Open In Colab\"/></a>"
      ]
    },
    {
      "cell_type": "markdown",
      "metadata": {
        "id": "gaSKXJxMxKpp",
        "colab_type": "text"
      },
      "source": [
        "## 파이썬 기본 문법 목록\n",
        "\n",
        "- 타입\n",
        "    - 단일 데이터 타입(값이 1개)\n",
        "        - 수치형 : \n",
        "            - 정수(..., -1, 0, 1, ...) : \n",
        "                - 십진수(10,11), 이진수(0 or 1), 8진수, 16진수(0xFF)\n",
        "            - 부동소수( -3.14, 0.0, 1.2 ..)\n",
        "        - 문자열(단일형으로 분류하지만, 실체는 연속형)\n",
        "            - \"hellworld\", 'hellworld', \"\"\" .. \"\"\", ''' .. '''\n",
        "        - 블린\n",
        "            - True(1), False(0)\n",
        "    - 연속 데이터 타입 (값을 여러개를 들고 있다)\n",
        "        - 리스트  : [], 순서(인덱스)가 있다. 값이 중복되고 OK\n",
        "        - 딕셔너리: {}, 순서 없다. 키와값의 세트로 구성, 키는 중복X\n",
        "        - 튜플    : (), 순서(인덱스)가 있다. 값이 중복되고 OK, 단순묶음, 수정 불가, 추가 불가\n",
        "        - 집합    : {}, 중복 없음(불가,제거)  \n",
        "        === 데이터 분석\n",
        "        - 배열\n",
        "        - 시리즈\n",
        "        - 데이터프레임  \n",
        "        === 딥러닝\n",
        "        - 텐서\n",
        "- 조건문, 반복문 제어문 식\n",
        "    - 조건식 결론 => 참이나 거짓이냐?\n",
        "        - False 상황: 0, 0.0, [], {}, (), None(값이없다), 기타조건문의결과(비교 등)\n",
        "    - 조건식을 가지고 상황따라 움직이는 방식 : 조건문\n",
        "        - if\n",
        "    - 반복문 : 반복작업\n",
        "        - for, while\n",
        "=> 여기까지의 지식으로 프로그램을 작성 : 절차적 프로그램\n",
        "- 함수\n",
        "    - 내장함수, 외장함수, 람다함수, 커스텀함수(사용자정의함수)  \n",
        "=> 여기까지의 지식으로 프로그램을 작성 : 함수 지향적 프로그램\n",
        "- 클레스  \n",
        "=> 여기까지의 지식으로 프로그램을 작성 : 객체 지향적 프로그램\n",
        "- 모듈화, 모듈가져오기\n",
        "- 패키지 \n",
        "- 예외처리"
      ]
    }
  ]
}