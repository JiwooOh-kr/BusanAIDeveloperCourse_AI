{
  "nbformat": 4,
  "nbformat_minor": 0,
  "metadata": {
    "colab": {
      "name": "04_블린.ipynb",
      "provenance": [],
      "collapsed_sections": [],
      "authorship_tag": "ABX9TyOIiPKIqBPeIYMg3BhQiCxz",
      "include_colab_link": true
    },
    "kernelspec": {
      "name": "python3",
      "display_name": "Python 3"
    }
  },
  "cells": [
    {
      "cell_type": "markdown",
      "metadata": {
        "id": "view-in-github",
        "colab_type": "text"
      },
      "source": [
        "<a href=\"https://colab.research.google.com/github/jkjh23/2020_AI_Busan/blob/master/0_Python/04_%EB%B8%94%EB%A6%B0.ipynb\" target=\"_parent\"><img src=\"https://colab.research.google.com/assets/colab-badge.svg\" alt=\"Open In Colab\"/></a>"
      ]
    },
    {
      "cell_type": "markdown",
      "metadata": {
        "id": "lHHtlE-YCsd6",
        "colab_type": "text"
      },
      "source": [
        "# 블린\n",
        "\n",
        "- 참(1), 거짓(0)을 가진다\n",
        "- True, False\n",
        "- 사용처\n",
        "  - 조건식의 결과물\n",
        "  - 이진 데이터를 표현할 때 사용\n",
        "  - 조건식에서 사용 시 False 상황을 기억한다\n",
        "    - False: 0, 0.0, '', [], {}, (,), None, NaN, 기타 조건의 결과\n",
        "    - 이것을 활용하면 조건식이 간결해진다\n",
        "    - False를 조건식에서 잡는 방법\n",
        "      - not 조건식\n",
        "      - if문에서 확인\n"
      ]
    }
  ]
}