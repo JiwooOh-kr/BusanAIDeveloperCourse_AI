{
 "cells": [
  {
   "cell_type": "code",
   "execution_count": 1,
   "metadata": {},
   "outputs": [],
   "source": [
    "# 1. 모듈 가져오기\n",
    "from selenium import webdriver as wd\n",
    "from bs4 import BeautifulSoup\n",
    "from urllib.request import urlopen\n",
    "import time\n",
    "import pandas as pd"
   ]
  },
  {
   "cell_type": "code",
   "execution_count": 2,
   "metadata": {},
   "outputs": [],
   "source": [
    "# 2. 브라우저 띄우기\n",
    "driver = wd.Chrome('./tool/chromedriver.exe')"
   ]
  },
  {
   "cell_type": "code",
   "execution_count": 4,
   "metadata": {},
   "outputs": [],
   "source": [
    "# 3. 접속\n",
    "import urllib\n",
    "# keyword = \"Hitter\" \n",
    "keyword = \"Pitcher\" \n",
    "# keyword = \"Defense\" \n",
    "# keyword = \"Runner\"\n",
    "# 만약 한글 그냥 넣었을 때 안 되면 URL 인코딩 처리\n",
    "# keyword = urllib.parse.quote(keyword)\n",
    "target_site = f'https://www.koreabaseball.com/Record/Team/{keyword}/Basic1.aspx'\n",
    "driver.get(target_site)"
   ]
  },
  {
   "cell_type": "code",
   "execution_count": 7,
   "metadata": {},
   "outputs": [],
   "source": [
    "# 요청\n",
    "res = urlopen(target_site)\n",
    "\n",
    "# DOM tree 메모리에 띄우기(파싱)\n",
    "# DOM(Document Object Model)은 html을 파싱하는(데이터 추출, 조작) 대상이 되는 형식\n",
    "# html5lib은 parser\n",
    "soup = BeautifulSoup(res, 'html5lib')"
   ]
  },
  {
   "cell_type": "code",
   "execution_count": null,
   "metadata": {},
   "outputs": [],
   "source": [
    "# yrs = [\n",
    "#     option.get_attribute('value')\n",
    "#     for option in driver.find_elements_by_css_selector('#cphContents_cphContents_cphContents_ddlSeason_ddlSeason > option')\n",
    "#     if option.get_attribute('value')\n",
    "# ]\n",
    "\n",
    "# yrs = list(map(int, yrs[14:]))\n",
    "# yrs"
   ]
  },
  {
   "cell_type": "code",
   "execution_count": null,
   "metadata": {},
   "outputs": [],
   "source": [
    "# for option in driver.find_elements_by_class_name('select03') :\n",
    "#     if option.get_attribute('value') :\n",
    "#         print(option.get_attribute('value'))"
   ]
  },
  {
   "cell_type": "code",
   "execution_count": null,
   "metadata": {
    "scrolled": true
   },
   "outputs": [],
   "source": [
    "# driver.find_element_by_class_name('select03').get_attribute('value')"
   ]
  },
  {
   "cell_type": "code",
   "execution_count": null,
   "metadata": {},
   "outputs": [],
   "source": [
    "# yrs = [\n",
    "#     option.get_attribute('value')\n",
    "#     for option in driver.find_elements_by_css_selector('#cphContents_cphContents_cphContents_ddlSeason_ddlSeason > option')\n",
    "#     if option.get_attribute('value')\n",
    "# ]\n",
    "# for yr in yrs :\n",
    "#     yr_sel = driver.find_element_by_class_name('select03')\n",
    "#     yr_sel.send_keys(yr)\n",
    "#     time.sleep(1)"
   ]
  },
  {
   "cell_type": "code",
   "execution_count": null,
   "metadata": {},
   "outputs": [],
   "source": [
    "# httr = list()\n",
    "\n",
    "# for tr in soup.select('#cphContents_cphContents_cphContents_udpContent > div.record_result > table > tbody > tr') :\n",
    "#     httr.append({\n",
    "#         'YEAR' : driver.find_element_by_class_name('select03').get_attribute('value'),\n",
    "#         'TEAM' : tr.select_one('td:nth-child(2)').string,\n",
    "#         'HRA'  : float(tr.select_one('td:nth-child(3)').string),\n",
    "#         'GAME' : float(tr.select_one('td:nth-child(4)').string),\n",
    "#         'PA'   : float(tr.select_one('td:nth-child(5)').string),\n",
    "#         'AB'   : float(tr.select_one('td:nth-child(6)').string),\n",
    "#         'RUN'  : float(tr.select_one('td:nth-child(7)').string),\n",
    "#         'HIT'  : float(tr.select_one('td:nth-child(8)').string),\n",
    "#         'H2'   : float(tr.select_one('td:nth-child(9)').string),\n",
    "#         'H3'   : float(tr.select_one('td:nth-child(10)').string),\n",
    "#         'HR'   : float(tr.select_one('td:nth-child(11)').string),\n",
    "#         'TB'   : float(tr.select_one('td:nth-child(12)').string),\n",
    "#         'RBI'  : float(tr.select_one('td:nth-child(13)').string),\n",
    "#         'SH'   : float(tr.select_one('td:nth-child(14)').string),\n",
    "#         'SF'   : float(tr.select_one('td:nth-child(15)').string)\n",
    "#     })\n",
    "\n",
    "# httr"
   ]
  },
  {
   "cell_type": "code",
   "execution_count": null,
   "metadata": {},
   "outputs": [],
   "source": [
    "# yrs = [\n",
    "#     option.get_attribute('value')\n",
    "#     for option in driver.find_elements_by_css_selector('#cphContents_cphContents_cphContents_ddlSeason_ddlSeason > option')\n",
    "#     if option.get_attribute('value')\n",
    "# ]\n",
    "\n",
    "# httr = list()\n",
    "    \n",
    "# for yr in yrs :\n",
    "#     yr_sel = driver.find_element_by_class_name('select03')\n",
    "#     yr_sel.send_keys(yr)\n",
    "#     time.sleep(1)\n",
    "\n",
    "#     for tr in soup.select('#cphContents_cphContents_cphContents_udpContent > div.record_result > table > tbody > tr') :\n",
    "#         httr.append({\n",
    "#             'YEAR' : driver.find_element_by_class_name('select03').get_attribute('value'),\n",
    "#             'TEAM' : tr.select_one('td:nth-child(2)').string,\n",
    "#             'HRA'  : float(tr.select_one('td:nth-child(3)').string),\n",
    "#             'GAME' : float(tr.select_one('td:nth-child(4)').string),\n",
    "#             'PA'   : float(tr.select_one('td:nth-child(5)').string),\n",
    "#             'AB'   : float(tr.select_one('td:nth-child(6)').string),\n",
    "#             'RUN'  : float(tr.select_one('td:nth-child(7)').string),\n",
    "#             'HIT'  : float(tr.select_one('td:nth-child(8)').string),\n",
    "#             'H2'   : float(tr.select_one('td:nth-child(9)').string),\n",
    "#             'H3'   : float(tr.select_one('td:nth-child(10)').string),\n",
    "#             'HR'   : float(tr.select_one('td:nth-child(11)').string),\n",
    "#             'TB'   : float(tr.select_one('td:nth-child(12)').string),\n",
    "#             'RBI'  : float(tr.select_one('td:nth-child(13)').string),\n",
    "#             'SH'   : float(tr.select_one('td:nth-child(14)').string),\n",
    "#             'SF'   : float(tr.select_one('td:nth-child(15)').string)\n",
    "#         })\n",
    "\n",
    "# httr"
   ]
  },
  {
   "cell_type": "code",
   "execution_count": 6,
   "metadata": {},
   "outputs": [
    {
     "output_type": "error",
     "ename": "NameError",
     "evalue": "name 'soup' is not defined",
     "traceback": [
      "\u001b[1;31m---------------------------------------------------------------------------\u001b[0m",
      "\u001b[1;31mNameError\u001b[0m                                 Traceback (most recent call last)",
      "\u001b[1;32m<ipython-input-6-472da66fb338>\u001b[0m in \u001b[0;36m<module>\u001b[1;34m\u001b[0m\n\u001b[0;32m     14\u001b[0m     \u001b[0mtime\u001b[0m\u001b[1;33m.\u001b[0m\u001b[0msleep\u001b[0m\u001b[1;33m(\u001b[0m\u001b[1;36m1\u001b[0m\u001b[1;33m)\u001b[0m\u001b[1;33m\u001b[0m\u001b[1;33m\u001b[0m\u001b[0m\n\u001b[0;32m     15\u001b[0m \u001b[1;33m\u001b[0m\u001b[0m\n\u001b[1;32m---> 16\u001b[1;33m     \u001b[1;32mfor\u001b[0m \u001b[0mtr\u001b[0m \u001b[1;32min\u001b[0m \u001b[0msoup\u001b[0m\u001b[1;33m.\u001b[0m\u001b[0mselect\u001b[0m\u001b[1;33m(\u001b[0m\u001b[1;34m'#cphContents_cphContents_cphContents_udpContent > div.record_result > table > tbody > tr'\u001b[0m\u001b[1;33m)\u001b[0m \u001b[1;33m:\u001b[0m\u001b[1;33m\u001b[0m\u001b[1;33m\u001b[0m\u001b[0m\n\u001b[0m\u001b[0;32m     17\u001b[0m         httr.append([driver.find_element_by_class_name('select03').get_attribute('value'),\n\u001b[0;32m     18\u001b[0m             \u001b[0mtr\u001b[0m\u001b[1;33m.\u001b[0m\u001b[0mselect_one\u001b[0m\u001b[1;33m(\u001b[0m\u001b[1;34m'td:nth-child(2)'\u001b[0m\u001b[1;33m)\u001b[0m\u001b[1;33m.\u001b[0m\u001b[0mstring\u001b[0m\u001b[1;33m,\u001b[0m\u001b[1;33m\u001b[0m\u001b[1;33m\u001b[0m\u001b[0m\n",
      "\u001b[1;31mNameError\u001b[0m: name 'soup' is not defined"
     ]
    }
   ],
   "source": [
    "# https://blog.naver.com/PostView.nhn?blogId=kiddwannabe&logNo=221274278923&categoryNo=35&parentCategoryNo=0&viewDate=&currentPage=1&postListTopCurrentPage=1&from=postView&userTopListOpen=true&userTopListCount=5&userTopListManageOpen=false&userTopListCurrentPage=1\n",
    "\n",
    "yrs = [\n",
    "    option.get_attribute('value')\n",
    "    for option in driver.find_elements_by_css_selector('#cphContents_cphContents_cphContents_ddlSeason_ddlSeason > option')\n",
    "    if option.get_attribute('value')\n",
    "]\n",
    "\n",
    "httr = list()\n",
    "    \n",
    "for yr in yrs :\n",
    "    yr_sel = driver.find_element_by_class_name('select03')\n",
    "    yr_sel.send_keys(yr)\n",
    "    time.sleep(1)\n",
    "\n",
    "    for tr in soup.select('#cphContents_cphContents_cphContents_udpContent > div.record_result > table > tbody > tr') :\n",
    "        httr.append([driver.find_element_by_class_name('select03').get_attribute('value'),\n",
    "            tr.select_one('td:nth-child(2)').string,\n",
    "            float(tr.select_one('td:nth-child(3)').string),\n",
    "            float(tr.select_one('td:nth-child(4)').string),\n",
    "            float(tr.select_one('td:nth-child(5)').string),\n",
    "            float(tr.select_one('td:nth-child(6)').string),\n",
    "            float(tr.select_one('td:nth-child(7)').string),\n",
    "            float(tr.select_one('td:nth-child(8)').string),\n",
    "            float(tr.select_one('td:nth-child(9)').string),\n",
    "            float(tr.select_one('td:nth-child(10)').string),\n",
    "            float(tr.select_one('td:nth-child(11)').string),\n",
    "            float(tr.select_one('td:nth-child(12)').string),\n",
    "            float(tr.select_one('td:nth-child(13)').string),\n",
    "            float(tr.select_one('td:nth-child(14)').string),\n",
    "            float(tr.select_one('td:nth-child(15)').string)])\n",
    "httr"
   ]
  },
  {
   "cell_type": "code",
   "execution_count": null,
   "metadata": {},
   "outputs": [],
   "source": [
    "data = pd.DataFrame(httr)\n",
    "data.head()"
   ]
  },
  {
   "cell_type": "code",
   "execution_count": null,
   "metadata": {},
   "outputs": [],
   "source": [
    "data.columns = [ \"연도\", '팀명', '타율', '경기', '타석', '타수', '득점', '안타', '2루타', '3루타', '홈런', '루타', '타점', '희생번트', '희생플라이']\n",
    "data"
   ]
  },
  {
   "cell_type": "code",
   "execution_count": null,
   "metadata": {},
   "outputs": [],
   "source": [
    "data.to_csv('team_hitter.csv', encoding='cp949')"
   ]
  },
  {
   "cell_type": "code",
   "execution_count": 15,
   "metadata": {},
   "outputs": [],
   "source": [
    "target_site = f'https://www.koreabaseball.com/Record/Team/Pitcher/Basic1.aspx'\n",
    "driver.get(target_site)\n",
    "res = urlopen(target_site)\n",
    "soup = BeautifulSoup(res, 'html5lib')\n",
    "\n",
    "pttr = list()\n",
    "\n",
    "yrs = [\n",
    "    option.get_attribute('value')\n",
    "    for option in driver.find_elements_by_css_selector('#cphContents_cphContents_cphContents_ddlSeason_ddlSeason > option')\n",
    "    if option.get_attribute('value')\n",
    "]\n",
    "    \n",
    "for yr in yrs :\n",
    "    yr_sel = driver.find_element_by_class_name('select03')\n",
    "    yr_sel.send_keys(yr)\n",
    "    time.sleep(1)\n",
    "\n",
    "    for tr in soup.select('#cphContents_cphContents_cphContents_udpContent > div.record_result > table > tbody > tr') :\n",
    "        pttr.append([\n",
    "            driver.find_element_by_class_name('select03').get_attribute('value'),\n",
    "            tr.select_one('td:nth-child(2)').string,\n",
    "            float(tr.select_one('td:nth-child(3)').string),\n",
    "            float(tr.select_one('td:nth-child(4)').string),\n",
    "            float(tr.select_one('td:nth-child(5)').string),\n",
    "            float(tr.select_one('td:nth-child(6)').string),\n",
    "            float(tr.select_one('td:nth-child(7)').string),\n",
    "            float(tr.select_one('td:nth-child(8)').string),\n",
    "            float(tr.select_one('td:nth-child(9)').string),\n",
    "            tr.select_one('td:nth-child(10)').string,\n",
    "            float(tr.select_one('td:nth-child(11)').string),\n",
    "            float(tr.select_one('td:nth-child(12)').string),\n",
    "            float(tr.select_one('td:nth-child(13)').string),\n",
    "            float(tr.select_one('td:nth-child(14)').string),\n",
    "            float(tr.select_one('td:nth-child(15)').string),\n",
    "            float(tr.select_one('td:nth-child(16)').string),\n",
    "            float(tr.select_one('td:nth-child(17)').string),\n",
    "            float(tr.select_one('td:nth-child(18)').string)\n",
    "        ])"
   ]
  },
  {
   "cell_type": "code",
   "execution_count": 16,
   "metadata": {},
   "outputs": [
    {
     "output_type": "execute_result",
     "data": {
      "text/plain": "        0    1     2     3     4     5     6     7      8        9     10  \\\n0    2001  KIA  4.24  66.0  37.0  29.0  15.0  33.0  0.561  579 2/3  581.0   \n1    2001   NC  4.40  67.0  44.0  21.0  16.0  36.0  0.677      607  566.0   \n2    2001   삼성  4.54  68.0  34.0  34.0  13.0  40.0  0.500  597 1/3  612.0   \n3    2001   LG  4.65  68.0  36.0  31.0  14.0  28.0  0.537  609 1/3  663.0   \n4    2001   키움  4.73  70.0  39.0  31.0  17.0  34.0  0.557      617  669.0   \n..    ...  ...   ...   ...   ...   ...   ...   ...    ...      ...    ...   \n195  2020   롯데  4.80  66.0  32.0  34.0  12.0  35.0  0.485  590 2/3  613.0   \n196  2020   SK  4.85  69.0  24.0  44.0  12.0  32.0  0.353  606 1/3  625.0   \n197  2020   두산  4.90  68.0  40.0  28.0  15.0  23.0  0.588  606 2/3  696.0   \n198  2020   KT  5.29  68.0  34.0  33.0  12.0  25.0  0.507  605 1/3  661.0   \n199  2020   한화  5.54  70.0  17.0  52.0   7.0  22.0  0.246  609 1/3  715.0   \n\n       11     12    13     14     15     16    17  \n0    50.0  206.0  24.0  495.0  300.0  273.0  1.36  \n1    72.0  243.0  32.0  497.0  313.0  297.0  1.33  \n2    72.0  247.0  33.0  422.0  337.0  301.0  1.44  \n3    65.0  220.0  36.0  473.0  349.0  315.0  1.45  \n4    68.0  195.0  34.0  454.0  353.0  324.0  1.40  \n..    ...    ...   ...    ...    ...    ...   ...  \n195  76.0  215.0  23.0  452.0  342.0  315.0  1.40  \n196  61.0  293.0  35.0  475.0  361.0  327.0  1.51  \n197  50.0  222.0  26.0  451.0  368.0  330.0  1.51  \n198  69.0  239.0  30.0  399.0  375.0  356.0  1.49  \n199  84.0  283.0  43.0  531.0  417.0  375.0  1.64  \n\n[200 rows x 18 columns]",
      "text/html": "<div>\n<style scoped>\n    .dataframe tbody tr th:only-of-type {\n        vertical-align: middle;\n    }\n\n    .dataframe tbody tr th {\n        vertical-align: top;\n    }\n\n    .dataframe thead th {\n        text-align: right;\n    }\n</style>\n<table border=\"1\" class=\"dataframe\">\n  <thead>\n    <tr style=\"text-align: right;\">\n      <th></th>\n      <th>0</th>\n      <th>1</th>\n      <th>2</th>\n      <th>3</th>\n      <th>4</th>\n      <th>5</th>\n      <th>6</th>\n      <th>7</th>\n      <th>8</th>\n      <th>9</th>\n      <th>10</th>\n      <th>11</th>\n      <th>12</th>\n      <th>13</th>\n      <th>14</th>\n      <th>15</th>\n      <th>16</th>\n      <th>17</th>\n    </tr>\n  </thead>\n  <tbody>\n    <tr>\n      <th>0</th>\n      <td>2001</td>\n      <td>KIA</td>\n      <td>4.24</td>\n      <td>66.0</td>\n      <td>37.0</td>\n      <td>29.0</td>\n      <td>15.0</td>\n      <td>33.0</td>\n      <td>0.561</td>\n      <td>579 2/3</td>\n      <td>581.0</td>\n      <td>50.0</td>\n      <td>206.0</td>\n      <td>24.0</td>\n      <td>495.0</td>\n      <td>300.0</td>\n      <td>273.0</td>\n      <td>1.36</td>\n    </tr>\n    <tr>\n      <th>1</th>\n      <td>2001</td>\n      <td>NC</td>\n      <td>4.40</td>\n      <td>67.0</td>\n      <td>44.0</td>\n      <td>21.0</td>\n      <td>16.0</td>\n      <td>36.0</td>\n      <td>0.677</td>\n      <td>607</td>\n      <td>566.0</td>\n      <td>72.0</td>\n      <td>243.0</td>\n      <td>32.0</td>\n      <td>497.0</td>\n      <td>313.0</td>\n      <td>297.0</td>\n      <td>1.33</td>\n    </tr>\n    <tr>\n      <th>2</th>\n      <td>2001</td>\n      <td>삼성</td>\n      <td>4.54</td>\n      <td>68.0</td>\n      <td>34.0</td>\n      <td>34.0</td>\n      <td>13.0</td>\n      <td>40.0</td>\n      <td>0.500</td>\n      <td>597 1/3</td>\n      <td>612.0</td>\n      <td>72.0</td>\n      <td>247.0</td>\n      <td>33.0</td>\n      <td>422.0</td>\n      <td>337.0</td>\n      <td>301.0</td>\n      <td>1.44</td>\n    </tr>\n    <tr>\n      <th>3</th>\n      <td>2001</td>\n      <td>LG</td>\n      <td>4.65</td>\n      <td>68.0</td>\n      <td>36.0</td>\n      <td>31.0</td>\n      <td>14.0</td>\n      <td>28.0</td>\n      <td>0.537</td>\n      <td>609 1/3</td>\n      <td>663.0</td>\n      <td>65.0</td>\n      <td>220.0</td>\n      <td>36.0</td>\n      <td>473.0</td>\n      <td>349.0</td>\n      <td>315.0</td>\n      <td>1.45</td>\n    </tr>\n    <tr>\n      <th>4</th>\n      <td>2001</td>\n      <td>키움</td>\n      <td>4.73</td>\n      <td>70.0</td>\n      <td>39.0</td>\n      <td>31.0</td>\n      <td>17.0</td>\n      <td>34.0</td>\n      <td>0.557</td>\n      <td>617</td>\n      <td>669.0</td>\n      <td>68.0</td>\n      <td>195.0</td>\n      <td>34.0</td>\n      <td>454.0</td>\n      <td>353.0</td>\n      <td>324.0</td>\n      <td>1.40</td>\n    </tr>\n    <tr>\n      <th>...</th>\n      <td>...</td>\n      <td>...</td>\n      <td>...</td>\n      <td>...</td>\n      <td>...</td>\n      <td>...</td>\n      <td>...</td>\n      <td>...</td>\n      <td>...</td>\n      <td>...</td>\n      <td>...</td>\n      <td>...</td>\n      <td>...</td>\n      <td>...</td>\n      <td>...</td>\n      <td>...</td>\n      <td>...</td>\n      <td>...</td>\n    </tr>\n    <tr>\n      <th>195</th>\n      <td>2020</td>\n      <td>롯데</td>\n      <td>4.80</td>\n      <td>66.0</td>\n      <td>32.0</td>\n      <td>34.0</td>\n      <td>12.0</td>\n      <td>35.0</td>\n      <td>0.485</td>\n      <td>590 2/3</td>\n      <td>613.0</td>\n      <td>76.0</td>\n      <td>215.0</td>\n      <td>23.0</td>\n      <td>452.0</td>\n      <td>342.0</td>\n      <td>315.0</td>\n      <td>1.40</td>\n    </tr>\n    <tr>\n      <th>196</th>\n      <td>2020</td>\n      <td>SK</td>\n      <td>4.85</td>\n      <td>69.0</td>\n      <td>24.0</td>\n      <td>44.0</td>\n      <td>12.0</td>\n      <td>32.0</td>\n      <td>0.353</td>\n      <td>606 1/3</td>\n      <td>625.0</td>\n      <td>61.0</td>\n      <td>293.0</td>\n      <td>35.0</td>\n      <td>475.0</td>\n      <td>361.0</td>\n      <td>327.0</td>\n      <td>1.51</td>\n    </tr>\n    <tr>\n      <th>197</th>\n      <td>2020</td>\n      <td>두산</td>\n      <td>4.90</td>\n      <td>68.0</td>\n      <td>40.0</td>\n      <td>28.0</td>\n      <td>15.0</td>\n      <td>23.0</td>\n      <td>0.588</td>\n      <td>606 2/3</td>\n      <td>696.0</td>\n      <td>50.0</td>\n      <td>222.0</td>\n      <td>26.0</td>\n      <td>451.0</td>\n      <td>368.0</td>\n      <td>330.0</td>\n      <td>1.51</td>\n    </tr>\n    <tr>\n      <th>198</th>\n      <td>2020</td>\n      <td>KT</td>\n      <td>5.29</td>\n      <td>68.0</td>\n      <td>34.0</td>\n      <td>33.0</td>\n      <td>12.0</td>\n      <td>25.0</td>\n      <td>0.507</td>\n      <td>605 1/3</td>\n      <td>661.0</td>\n      <td>69.0</td>\n      <td>239.0</td>\n      <td>30.0</td>\n      <td>399.0</td>\n      <td>375.0</td>\n      <td>356.0</td>\n      <td>1.49</td>\n    </tr>\n    <tr>\n      <th>199</th>\n      <td>2020</td>\n      <td>한화</td>\n      <td>5.54</td>\n      <td>70.0</td>\n      <td>17.0</td>\n      <td>52.0</td>\n      <td>7.0</td>\n      <td>22.0</td>\n      <td>0.246</td>\n      <td>609 1/3</td>\n      <td>715.0</td>\n      <td>84.0</td>\n      <td>283.0</td>\n      <td>43.0</td>\n      <td>531.0</td>\n      <td>417.0</td>\n      <td>375.0</td>\n      <td>1.64</td>\n    </tr>\n  </tbody>\n</table>\n<p>200 rows × 18 columns</p>\n</div>"
     },
     "metadata": {},
     "execution_count": 16
    }
   ],
   "source": [
    "data = pd.DataFrame(pttr)\n",
    "data"
   ]
  },
  {
   "cell_type": "code",
   "execution_count": 17,
   "metadata": {},
   "outputs": [
    {
     "output_type": "execute_result",
     "data": {
      "text/plain": "       연도   팀명  평균자책점    경기    승리    패배   세이브    홀드     승률       이닝    피안타  \\\n0    2001  KIA   4.24  66.0  37.0  29.0  15.0  33.0  0.561  579 2/3  581.0   \n1    2001   NC   4.40  67.0  44.0  21.0  16.0  36.0  0.677      607  566.0   \n2    2001   삼성   4.54  68.0  34.0  34.0  13.0  40.0  0.500  597 1/3  612.0   \n3    2001   LG   4.65  68.0  36.0  31.0  14.0  28.0  0.537  609 1/3  663.0   \n4    2001   키움   4.73  70.0  39.0  31.0  17.0  34.0  0.557      617  669.0   \n..    ...  ...    ...   ...   ...   ...   ...   ...    ...      ...    ...   \n195  2020   롯데   4.80  66.0  32.0  34.0  12.0  35.0  0.485  590 2/3  613.0   \n196  2020   SK   4.85  69.0  24.0  44.0  12.0  32.0  0.353  606 1/3  625.0   \n197  2020   두산   4.90  68.0  40.0  28.0  15.0  23.0  0.588  606 2/3  696.0   \n198  2020   KT   5.29  68.0  34.0  33.0  12.0  25.0  0.507  605 1/3  661.0   \n199  2020   한화   5.54  70.0  17.0  52.0   7.0  22.0  0.246  609 1/3  715.0   \n\n       홈런     볼넷    사구     삼진     실점    자책점  이닝당출루허용률  \n0    50.0  206.0  24.0  495.0  300.0  273.0      1.36  \n1    72.0  243.0  32.0  497.0  313.0  297.0      1.33  \n2    72.0  247.0  33.0  422.0  337.0  301.0      1.44  \n3    65.0  220.0  36.0  473.0  349.0  315.0      1.45  \n4    68.0  195.0  34.0  454.0  353.0  324.0      1.40  \n..    ...    ...   ...    ...    ...    ...       ...  \n195  76.0  215.0  23.0  452.0  342.0  315.0      1.40  \n196  61.0  293.0  35.0  475.0  361.0  327.0      1.51  \n197  50.0  222.0  26.0  451.0  368.0  330.0      1.51  \n198  69.0  239.0  30.0  399.0  375.0  356.0      1.49  \n199  84.0  283.0  43.0  531.0  417.0  375.0      1.64  \n\n[200 rows x 18 columns]",
      "text/html": "<div>\n<style scoped>\n    .dataframe tbody tr th:only-of-type {\n        vertical-align: middle;\n    }\n\n    .dataframe tbody tr th {\n        vertical-align: top;\n    }\n\n    .dataframe thead th {\n        text-align: right;\n    }\n</style>\n<table border=\"1\" class=\"dataframe\">\n  <thead>\n    <tr style=\"text-align: right;\">\n      <th></th>\n      <th>연도</th>\n      <th>팀명</th>\n      <th>평균자책점</th>\n      <th>경기</th>\n      <th>승리</th>\n      <th>패배</th>\n      <th>세이브</th>\n      <th>홀드</th>\n      <th>승률</th>\n      <th>이닝</th>\n      <th>피안타</th>\n      <th>홈런</th>\n      <th>볼넷</th>\n      <th>사구</th>\n      <th>삼진</th>\n      <th>실점</th>\n      <th>자책점</th>\n      <th>이닝당출루허용률</th>\n    </tr>\n  </thead>\n  <tbody>\n    <tr>\n      <th>0</th>\n      <td>2001</td>\n      <td>KIA</td>\n      <td>4.24</td>\n      <td>66.0</td>\n      <td>37.0</td>\n      <td>29.0</td>\n      <td>15.0</td>\n      <td>33.0</td>\n      <td>0.561</td>\n      <td>579 2/3</td>\n      <td>581.0</td>\n      <td>50.0</td>\n      <td>206.0</td>\n      <td>24.0</td>\n      <td>495.0</td>\n      <td>300.0</td>\n      <td>273.0</td>\n      <td>1.36</td>\n    </tr>\n    <tr>\n      <th>1</th>\n      <td>2001</td>\n      <td>NC</td>\n      <td>4.40</td>\n      <td>67.0</td>\n      <td>44.0</td>\n      <td>21.0</td>\n      <td>16.0</td>\n      <td>36.0</td>\n      <td>0.677</td>\n      <td>607</td>\n      <td>566.0</td>\n      <td>72.0</td>\n      <td>243.0</td>\n      <td>32.0</td>\n      <td>497.0</td>\n      <td>313.0</td>\n      <td>297.0</td>\n      <td>1.33</td>\n    </tr>\n    <tr>\n      <th>2</th>\n      <td>2001</td>\n      <td>삼성</td>\n      <td>4.54</td>\n      <td>68.0</td>\n      <td>34.0</td>\n      <td>34.0</td>\n      <td>13.0</td>\n      <td>40.0</td>\n      <td>0.500</td>\n      <td>597 1/3</td>\n      <td>612.0</td>\n      <td>72.0</td>\n      <td>247.0</td>\n      <td>33.0</td>\n      <td>422.0</td>\n      <td>337.0</td>\n      <td>301.0</td>\n      <td>1.44</td>\n    </tr>\n    <tr>\n      <th>3</th>\n      <td>2001</td>\n      <td>LG</td>\n      <td>4.65</td>\n      <td>68.0</td>\n      <td>36.0</td>\n      <td>31.0</td>\n      <td>14.0</td>\n      <td>28.0</td>\n      <td>0.537</td>\n      <td>609 1/3</td>\n      <td>663.0</td>\n      <td>65.0</td>\n      <td>220.0</td>\n      <td>36.0</td>\n      <td>473.0</td>\n      <td>349.0</td>\n      <td>315.0</td>\n      <td>1.45</td>\n    </tr>\n    <tr>\n      <th>4</th>\n      <td>2001</td>\n      <td>키움</td>\n      <td>4.73</td>\n      <td>70.0</td>\n      <td>39.0</td>\n      <td>31.0</td>\n      <td>17.0</td>\n      <td>34.0</td>\n      <td>0.557</td>\n      <td>617</td>\n      <td>669.0</td>\n      <td>68.0</td>\n      <td>195.0</td>\n      <td>34.0</td>\n      <td>454.0</td>\n      <td>353.0</td>\n      <td>324.0</td>\n      <td>1.40</td>\n    </tr>\n    <tr>\n      <th>...</th>\n      <td>...</td>\n      <td>...</td>\n      <td>...</td>\n      <td>...</td>\n      <td>...</td>\n      <td>...</td>\n      <td>...</td>\n      <td>...</td>\n      <td>...</td>\n      <td>...</td>\n      <td>...</td>\n      <td>...</td>\n      <td>...</td>\n      <td>...</td>\n      <td>...</td>\n      <td>...</td>\n      <td>...</td>\n      <td>...</td>\n    </tr>\n    <tr>\n      <th>195</th>\n      <td>2020</td>\n      <td>롯데</td>\n      <td>4.80</td>\n      <td>66.0</td>\n      <td>32.0</td>\n      <td>34.0</td>\n      <td>12.0</td>\n      <td>35.0</td>\n      <td>0.485</td>\n      <td>590 2/3</td>\n      <td>613.0</td>\n      <td>76.0</td>\n      <td>215.0</td>\n      <td>23.0</td>\n      <td>452.0</td>\n      <td>342.0</td>\n      <td>315.0</td>\n      <td>1.40</td>\n    </tr>\n    <tr>\n      <th>196</th>\n      <td>2020</td>\n      <td>SK</td>\n      <td>4.85</td>\n      <td>69.0</td>\n      <td>24.0</td>\n      <td>44.0</td>\n      <td>12.0</td>\n      <td>32.0</td>\n      <td>0.353</td>\n      <td>606 1/3</td>\n      <td>625.0</td>\n      <td>61.0</td>\n      <td>293.0</td>\n      <td>35.0</td>\n      <td>475.0</td>\n      <td>361.0</td>\n      <td>327.0</td>\n      <td>1.51</td>\n    </tr>\n    <tr>\n      <th>197</th>\n      <td>2020</td>\n      <td>두산</td>\n      <td>4.90</td>\n      <td>68.0</td>\n      <td>40.0</td>\n      <td>28.0</td>\n      <td>15.0</td>\n      <td>23.0</td>\n      <td>0.588</td>\n      <td>606 2/3</td>\n      <td>696.0</td>\n      <td>50.0</td>\n      <td>222.0</td>\n      <td>26.0</td>\n      <td>451.0</td>\n      <td>368.0</td>\n      <td>330.0</td>\n      <td>1.51</td>\n    </tr>\n    <tr>\n      <th>198</th>\n      <td>2020</td>\n      <td>KT</td>\n      <td>5.29</td>\n      <td>68.0</td>\n      <td>34.0</td>\n      <td>33.0</td>\n      <td>12.0</td>\n      <td>25.0</td>\n      <td>0.507</td>\n      <td>605 1/3</td>\n      <td>661.0</td>\n      <td>69.0</td>\n      <td>239.0</td>\n      <td>30.0</td>\n      <td>399.0</td>\n      <td>375.0</td>\n      <td>356.0</td>\n      <td>1.49</td>\n    </tr>\n    <tr>\n      <th>199</th>\n      <td>2020</td>\n      <td>한화</td>\n      <td>5.54</td>\n      <td>70.0</td>\n      <td>17.0</td>\n      <td>52.0</td>\n      <td>7.0</td>\n      <td>22.0</td>\n      <td>0.246</td>\n      <td>609 1/3</td>\n      <td>715.0</td>\n      <td>84.0</td>\n      <td>283.0</td>\n      <td>43.0</td>\n      <td>531.0</td>\n      <td>417.0</td>\n      <td>375.0</td>\n      <td>1.64</td>\n    </tr>\n  </tbody>\n</table>\n<p>200 rows × 18 columns</p>\n</div>"
     },
     "metadata": {},
     "execution_count": 17
    }
   ],
   "source": [
    "data.columns = [ \n",
    "    \"연도\", '팀명', '평균자책점', '경기', '승리', '패배', '세이브', '홀드', '승률', '이닝', \n",
    "    '피안타', '홈런', '볼넷', '사구', '삼진', '실점', '자책점', '이닝당출루허용률']\n",
    "data"
   ]
  },
  {
   "cell_type": "code",
   "execution_count": 11,
   "metadata": {},
   "outputs": [],
   "source": [
    "target_site = f'https://www.koreabaseball.com/Record/Team/Pitcher/Basic2.aspx'\n",
    "driver.get(target_site)\n",
    "res = urlopen(target_site)\n",
    "soup = BeautifulSoup(res, 'html5lib')\n",
    "\n",
    "pttr2 = list()\n",
    "\n",
    "yrs = [\n",
    "    option.get_attribute('value')\n",
    "    for option in driver.find_elements_by_css_selector('#cphContents_cphContents_cphContents_ddlSeason_ddlSeason > option')\n",
    "    if option.get_attribute('value')\n",
    "]\n",
    "    \n",
    "for yr in yrs :\n",
    "    yr_sel = driver.find_element_by_class_name('select03')\n",
    "    yr_sel.send_keys(yr)\n",
    "    time.sleep(1)\n",
    "\n",
    "    for tr in soup.select('#cphContents_cphContents_cphContents_udpContent > div.record_result > table > tbody > tr') :\n",
    "        pttr2.append([\n",
    "            driver.find_element_by_class_name('select03').get_attribute('value'),\n",
    "            tr.select_one('td:nth-child(2)').string,\n",
    "            float(tr.select_one('td:nth-child(3)').string),\n",
    "            float(tr.select_one('td:nth-child(4)').string),\n",
    "            float(tr.select_one('td:nth-child(5)').string),\n",
    "            float(tr.select_one('td:nth-child(6)').string),\n",
    "            float(tr.select_one('td:nth-child(7)').string),\n",
    "            float(tr.select_one('td:nth-child(8)').string),\n",
    "            float(tr.select_one('td:nth-child(9)').string),\n",
    "            tr.select_one('td:nth-child(10)').string,\n",
    "            float(tr.select_one('td:nth-child(11)').string),\n",
    "            float(tr.select_one('td:nth-child(12)').string),\n",
    "            float(tr.select_one('td:nth-child(13)').string),\n",
    "            float(tr.select_one('td:nth-child(14)').string),\n",
    "            float(tr.select_one('td:nth-child(15)').string),\n",
    "            float(tr.select_one('td:nth-child(16)').string),\n",
    "            float(tr.select_one('td:nth-child(17)').string)\n",
    "        ])"
   ]
  },
  {
   "cell_type": "code",
   "execution_count": 12,
   "metadata": {},
   "outputs": [
    {
     "output_type": "execute_result",
     "data": {
      "text/plain": "        0    1     2    3    4     5     6       7        8      9     10  \\\n0    2001  KIA  4.24  1.0  2.0  28.0   5.0  2481.0   9649.0  0.263  107.0   \n1    2001   NC  4.40  0.0  5.0  39.0  11.0  2596.0  10193.0  0.248   91.0   \n2    2001   삼성  4.54  1.0  7.0  26.0   6.0  2614.0  10335.0  0.267  111.0   \n3    2001   LG  4.65  1.0  7.0  37.0   9.0  2684.0  10133.0  0.278  122.0   \n4    2001   키움  4.73  0.0  2.0  27.0  10.0  2671.0  10242.0  0.278  101.0   \n..    ...  ...   ...  ...  ...   ...   ...     ...      ...    ...    ...   \n195  2020   롯데  4.80  0.0  7.0  25.0   9.0  2558.0   9881.0  0.271  106.0   \n196  2020   SK  4.85  0.0  2.0  29.0  13.0  2702.0  10685.0  0.268  114.0   \n197  2020   두산  4.90  0.0  2.0  31.0   5.0  2706.0  10518.0  0.288  139.0   \n198  2020   KT  5.29  0.0  1.0  29.0  13.0  2678.0  10179.0  0.279  105.0   \n199  2020   한화  5.54  1.0  1.0  20.0  10.0  2818.0  11043.0  0.293  122.0   \n\n       11    12    13    14    15   16  \n0    15.0  24.0  21.0   3.0  28.0  4.0  \n1     4.0  22.0  16.0   5.0  34.0  4.0  \n2     9.0  20.0  23.0   7.0  20.0  2.0  \n3     8.0  17.0  29.0   7.0  19.0  2.0  \n4     9.0  19.0  17.0   3.0  26.0  6.0  \n..    ...   ...   ...   ...   ...  ...  \n195   5.0  25.0  29.0   9.0  40.0  1.0  \n196   8.0  21.0  20.0   4.0  44.0  2.0  \n197  12.0  19.0  26.0   9.0  26.0  1.0  \n198   3.0  19.0  23.0   8.0  32.0  1.0  \n199  14.0  27.0  24.0  15.0  38.0  3.0  \n\n[200 rows x 17 columns]",
      "text/html": "<div>\n<style scoped>\n    .dataframe tbody tr th:only-of-type {\n        vertical-align: middle;\n    }\n\n    .dataframe tbody tr th {\n        vertical-align: top;\n    }\n\n    .dataframe thead th {\n        text-align: right;\n    }\n</style>\n<table border=\"1\" class=\"dataframe\">\n  <thead>\n    <tr style=\"text-align: right;\">\n      <th></th>\n      <th>0</th>\n      <th>1</th>\n      <th>2</th>\n      <th>3</th>\n      <th>4</th>\n      <th>5</th>\n      <th>6</th>\n      <th>7</th>\n      <th>8</th>\n      <th>9</th>\n      <th>10</th>\n      <th>11</th>\n      <th>12</th>\n      <th>13</th>\n      <th>14</th>\n      <th>15</th>\n      <th>16</th>\n    </tr>\n  </thead>\n  <tbody>\n    <tr>\n      <th>0</th>\n      <td>2001</td>\n      <td>KIA</td>\n      <td>4.24</td>\n      <td>1.0</td>\n      <td>2.0</td>\n      <td>28.0</td>\n      <td>5.0</td>\n      <td>2481.0</td>\n      <td>9649.0</td>\n      <td>0.263</td>\n      <td>107.0</td>\n      <td>15.0</td>\n      <td>24.0</td>\n      <td>21.0</td>\n      <td>3.0</td>\n      <td>28.0</td>\n      <td>4.0</td>\n    </tr>\n    <tr>\n      <th>1</th>\n      <td>2001</td>\n      <td>NC</td>\n      <td>4.40</td>\n      <td>0.0</td>\n      <td>5.0</td>\n      <td>39.0</td>\n      <td>11.0</td>\n      <td>2596.0</td>\n      <td>10193.0</td>\n      <td>0.248</td>\n      <td>91.0</td>\n      <td>4.0</td>\n      <td>22.0</td>\n      <td>16.0</td>\n      <td>5.0</td>\n      <td>34.0</td>\n      <td>4.0</td>\n    </tr>\n    <tr>\n      <th>2</th>\n      <td>2001</td>\n      <td>삼성</td>\n      <td>4.54</td>\n      <td>1.0</td>\n      <td>7.0</td>\n      <td>26.0</td>\n      <td>6.0</td>\n      <td>2614.0</td>\n      <td>10335.0</td>\n      <td>0.267</td>\n      <td>111.0</td>\n      <td>9.0</td>\n      <td>20.0</td>\n      <td>23.0</td>\n      <td>7.0</td>\n      <td>20.0</td>\n      <td>2.0</td>\n    </tr>\n    <tr>\n      <th>3</th>\n      <td>2001</td>\n      <td>LG</td>\n      <td>4.65</td>\n      <td>1.0</td>\n      <td>7.0</td>\n      <td>37.0</td>\n      <td>9.0</td>\n      <td>2684.0</td>\n      <td>10133.0</td>\n      <td>0.278</td>\n      <td>122.0</td>\n      <td>8.0</td>\n      <td>17.0</td>\n      <td>29.0</td>\n      <td>7.0</td>\n      <td>19.0</td>\n      <td>2.0</td>\n    </tr>\n    <tr>\n      <th>4</th>\n      <td>2001</td>\n      <td>키움</td>\n      <td>4.73</td>\n      <td>0.0</td>\n      <td>2.0</td>\n      <td>27.0</td>\n      <td>10.0</td>\n      <td>2671.0</td>\n      <td>10242.0</td>\n      <td>0.278</td>\n      <td>101.0</td>\n      <td>9.0</td>\n      <td>19.0</td>\n      <td>17.0</td>\n      <td>3.0</td>\n      <td>26.0</td>\n      <td>6.0</td>\n    </tr>\n    <tr>\n      <th>...</th>\n      <td>...</td>\n      <td>...</td>\n      <td>...</td>\n      <td>...</td>\n      <td>...</td>\n      <td>...</td>\n      <td>...</td>\n      <td>...</td>\n      <td>...</td>\n      <td>...</td>\n      <td>...</td>\n      <td>...</td>\n      <td>...</td>\n      <td>...</td>\n      <td>...</td>\n      <td>...</td>\n      <td>...</td>\n    </tr>\n    <tr>\n      <th>195</th>\n      <td>2020</td>\n      <td>롯데</td>\n      <td>4.80</td>\n      <td>0.0</td>\n      <td>7.0</td>\n      <td>25.0</td>\n      <td>9.0</td>\n      <td>2558.0</td>\n      <td>9881.0</td>\n      <td>0.271</td>\n      <td>106.0</td>\n      <td>5.0</td>\n      <td>25.0</td>\n      <td>29.0</td>\n      <td>9.0</td>\n      <td>40.0</td>\n      <td>1.0</td>\n    </tr>\n    <tr>\n      <th>196</th>\n      <td>2020</td>\n      <td>SK</td>\n      <td>4.85</td>\n      <td>0.0</td>\n      <td>2.0</td>\n      <td>29.0</td>\n      <td>13.0</td>\n      <td>2702.0</td>\n      <td>10685.0</td>\n      <td>0.268</td>\n      <td>114.0</td>\n      <td>8.0</td>\n      <td>21.0</td>\n      <td>20.0</td>\n      <td>4.0</td>\n      <td>44.0</td>\n      <td>2.0</td>\n    </tr>\n    <tr>\n      <th>197</th>\n      <td>2020</td>\n      <td>두산</td>\n      <td>4.90</td>\n      <td>0.0</td>\n      <td>2.0</td>\n      <td>31.0</td>\n      <td>5.0</td>\n      <td>2706.0</td>\n      <td>10518.0</td>\n      <td>0.288</td>\n      <td>139.0</td>\n      <td>12.0</td>\n      <td>19.0</td>\n      <td>26.0</td>\n      <td>9.0</td>\n      <td>26.0</td>\n      <td>1.0</td>\n    </tr>\n    <tr>\n      <th>198</th>\n      <td>2020</td>\n      <td>KT</td>\n      <td>5.29</td>\n      <td>0.0</td>\n      <td>1.0</td>\n      <td>29.0</td>\n      <td>13.0</td>\n      <td>2678.0</td>\n      <td>10179.0</td>\n      <td>0.279</td>\n      <td>105.0</td>\n      <td>3.0</td>\n      <td>19.0</td>\n      <td>23.0</td>\n      <td>8.0</td>\n      <td>32.0</td>\n      <td>1.0</td>\n    </tr>\n    <tr>\n      <th>199</th>\n      <td>2020</td>\n      <td>한화</td>\n      <td>5.54</td>\n      <td>1.0</td>\n      <td>1.0</td>\n      <td>20.0</td>\n      <td>10.0</td>\n      <td>2818.0</td>\n      <td>11043.0</td>\n      <td>0.293</td>\n      <td>122.0</td>\n      <td>14.0</td>\n      <td>27.0</td>\n      <td>24.0</td>\n      <td>15.0</td>\n      <td>38.0</td>\n      <td>3.0</td>\n    </tr>\n  </tbody>\n</table>\n<p>200 rows × 17 columns</p>\n</div>"
     },
     "metadata": {},
     "execution_count": 12
    }
   ],
   "source": [
    "data2 = pd.DataFrame(pttr2)\n",
    "data2"
   ]
  },
  {
   "cell_type": "code",
   "execution_count": 13,
   "metadata": {},
   "outputs": [
    {
     "output_type": "execute_result",
     "data": {
      "text/plain": "       연도   팀명  평균자책점   완투   완봉    QS  블론세이브     타자수      투구수   피안타율    2루타  \\\n0    2001  KIA   4.24  1.0  2.0  28.0    5.0  2481.0   9649.0  0.263  107.0   \n1    2001   NC   4.40  0.0  5.0  39.0   11.0  2596.0  10193.0  0.248   91.0   \n2    2001   삼성   4.54  1.0  7.0  26.0    6.0  2614.0  10335.0  0.267  111.0   \n3    2001   LG   4.65  1.0  7.0  37.0    9.0  2684.0  10133.0  0.278  122.0   \n4    2001   키움   4.73  0.0  2.0  27.0   10.0  2671.0  10242.0  0.278  101.0   \n..    ...  ...    ...  ...  ...   ...    ...     ...      ...    ...    ...   \n195  2020   롯데   4.80  0.0  7.0  25.0    9.0  2558.0   9881.0  0.271  106.0   \n196  2020   SK   4.85  0.0  2.0  29.0   13.0  2702.0  10685.0  0.268  114.0   \n197  2020   두산   4.90  0.0  2.0  31.0    5.0  2706.0  10518.0  0.288  139.0   \n198  2020   KT   5.29  0.0  1.0  29.0   13.0  2678.0  10179.0  0.279  105.0   \n199  2020   한화   5.54  1.0  1.0  20.0   10.0  2818.0  11043.0  0.293  122.0   \n\n      3루타  희생번트  희생플라이  고의4구    폭투   보크  \n0    15.0  24.0   21.0   3.0  28.0  4.0  \n1     4.0  22.0   16.0   5.0  34.0  4.0  \n2     9.0  20.0   23.0   7.0  20.0  2.0  \n3     8.0  17.0   29.0   7.0  19.0  2.0  \n4     9.0  19.0   17.0   3.0  26.0  6.0  \n..    ...   ...    ...   ...   ...  ...  \n195   5.0  25.0   29.0   9.0  40.0  1.0  \n196   8.0  21.0   20.0   4.0  44.0  2.0  \n197  12.0  19.0   26.0   9.0  26.0  1.0  \n198   3.0  19.0   23.0   8.0  32.0  1.0  \n199  14.0  27.0   24.0  15.0  38.0  3.0  \n\n[200 rows x 17 columns]",
      "text/html": "<div>\n<style scoped>\n    .dataframe tbody tr th:only-of-type {\n        vertical-align: middle;\n    }\n\n    .dataframe tbody tr th {\n        vertical-align: top;\n    }\n\n    .dataframe thead th {\n        text-align: right;\n    }\n</style>\n<table border=\"1\" class=\"dataframe\">\n  <thead>\n    <tr style=\"text-align: right;\">\n      <th></th>\n      <th>연도</th>\n      <th>팀명</th>\n      <th>평균자책점</th>\n      <th>완투</th>\n      <th>완봉</th>\n      <th>QS</th>\n      <th>블론세이브</th>\n      <th>타자수</th>\n      <th>투구수</th>\n      <th>피안타율</th>\n      <th>2루타</th>\n      <th>3루타</th>\n      <th>희생번트</th>\n      <th>희생플라이</th>\n      <th>고의4구</th>\n      <th>폭투</th>\n      <th>보크</th>\n    </tr>\n  </thead>\n  <tbody>\n    <tr>\n      <th>0</th>\n      <td>2001</td>\n      <td>KIA</td>\n      <td>4.24</td>\n      <td>1.0</td>\n      <td>2.0</td>\n      <td>28.0</td>\n      <td>5.0</td>\n      <td>2481.0</td>\n      <td>9649.0</td>\n      <td>0.263</td>\n      <td>107.0</td>\n      <td>15.0</td>\n      <td>24.0</td>\n      <td>21.0</td>\n      <td>3.0</td>\n      <td>28.0</td>\n      <td>4.0</td>\n    </tr>\n    <tr>\n      <th>1</th>\n      <td>2001</td>\n      <td>NC</td>\n      <td>4.40</td>\n      <td>0.0</td>\n      <td>5.0</td>\n      <td>39.0</td>\n      <td>11.0</td>\n      <td>2596.0</td>\n      <td>10193.0</td>\n      <td>0.248</td>\n      <td>91.0</td>\n      <td>4.0</td>\n      <td>22.0</td>\n      <td>16.0</td>\n      <td>5.0</td>\n      <td>34.0</td>\n      <td>4.0</td>\n    </tr>\n    <tr>\n      <th>2</th>\n      <td>2001</td>\n      <td>삼성</td>\n      <td>4.54</td>\n      <td>1.0</td>\n      <td>7.0</td>\n      <td>26.0</td>\n      <td>6.0</td>\n      <td>2614.0</td>\n      <td>10335.0</td>\n      <td>0.267</td>\n      <td>111.0</td>\n      <td>9.0</td>\n      <td>20.0</td>\n      <td>23.0</td>\n      <td>7.0</td>\n      <td>20.0</td>\n      <td>2.0</td>\n    </tr>\n    <tr>\n      <th>3</th>\n      <td>2001</td>\n      <td>LG</td>\n      <td>4.65</td>\n      <td>1.0</td>\n      <td>7.0</td>\n      <td>37.0</td>\n      <td>9.0</td>\n      <td>2684.0</td>\n      <td>10133.0</td>\n      <td>0.278</td>\n      <td>122.0</td>\n      <td>8.0</td>\n      <td>17.0</td>\n      <td>29.0</td>\n      <td>7.0</td>\n      <td>19.0</td>\n      <td>2.0</td>\n    </tr>\n    <tr>\n      <th>4</th>\n      <td>2001</td>\n      <td>키움</td>\n      <td>4.73</td>\n      <td>0.0</td>\n      <td>2.0</td>\n      <td>27.0</td>\n      <td>10.0</td>\n      <td>2671.0</td>\n      <td>10242.0</td>\n      <td>0.278</td>\n      <td>101.0</td>\n      <td>9.0</td>\n      <td>19.0</td>\n      <td>17.0</td>\n      <td>3.0</td>\n      <td>26.0</td>\n      <td>6.0</td>\n    </tr>\n    <tr>\n      <th>...</th>\n      <td>...</td>\n      <td>...</td>\n      <td>...</td>\n      <td>...</td>\n      <td>...</td>\n      <td>...</td>\n      <td>...</td>\n      <td>...</td>\n      <td>...</td>\n      <td>...</td>\n      <td>...</td>\n      <td>...</td>\n      <td>...</td>\n      <td>...</td>\n      <td>...</td>\n      <td>...</td>\n      <td>...</td>\n    </tr>\n    <tr>\n      <th>195</th>\n      <td>2020</td>\n      <td>롯데</td>\n      <td>4.80</td>\n      <td>0.0</td>\n      <td>7.0</td>\n      <td>25.0</td>\n      <td>9.0</td>\n      <td>2558.0</td>\n      <td>9881.0</td>\n      <td>0.271</td>\n      <td>106.0</td>\n      <td>5.0</td>\n      <td>25.0</td>\n      <td>29.0</td>\n      <td>9.0</td>\n      <td>40.0</td>\n      <td>1.0</td>\n    </tr>\n    <tr>\n      <th>196</th>\n      <td>2020</td>\n      <td>SK</td>\n      <td>4.85</td>\n      <td>0.0</td>\n      <td>2.0</td>\n      <td>29.0</td>\n      <td>13.0</td>\n      <td>2702.0</td>\n      <td>10685.0</td>\n      <td>0.268</td>\n      <td>114.0</td>\n      <td>8.0</td>\n      <td>21.0</td>\n      <td>20.0</td>\n      <td>4.0</td>\n      <td>44.0</td>\n      <td>2.0</td>\n    </tr>\n    <tr>\n      <th>197</th>\n      <td>2020</td>\n      <td>두산</td>\n      <td>4.90</td>\n      <td>0.0</td>\n      <td>2.0</td>\n      <td>31.0</td>\n      <td>5.0</td>\n      <td>2706.0</td>\n      <td>10518.0</td>\n      <td>0.288</td>\n      <td>139.0</td>\n      <td>12.0</td>\n      <td>19.0</td>\n      <td>26.0</td>\n      <td>9.0</td>\n      <td>26.0</td>\n      <td>1.0</td>\n    </tr>\n    <tr>\n      <th>198</th>\n      <td>2020</td>\n      <td>KT</td>\n      <td>5.29</td>\n      <td>0.0</td>\n      <td>1.0</td>\n      <td>29.0</td>\n      <td>13.0</td>\n      <td>2678.0</td>\n      <td>10179.0</td>\n      <td>0.279</td>\n      <td>105.0</td>\n      <td>3.0</td>\n      <td>19.0</td>\n      <td>23.0</td>\n      <td>8.0</td>\n      <td>32.0</td>\n      <td>1.0</td>\n    </tr>\n    <tr>\n      <th>199</th>\n      <td>2020</td>\n      <td>한화</td>\n      <td>5.54</td>\n      <td>1.0</td>\n      <td>1.0</td>\n      <td>20.0</td>\n      <td>10.0</td>\n      <td>2818.0</td>\n      <td>11043.0</td>\n      <td>0.293</td>\n      <td>122.0</td>\n      <td>14.0</td>\n      <td>27.0</td>\n      <td>24.0</td>\n      <td>15.0</td>\n      <td>38.0</td>\n      <td>3.0</td>\n    </tr>\n  </tbody>\n</table>\n<p>200 rows × 17 columns</p>\n</div>"
     },
     "metadata": {},
     "execution_count": 13
    }
   ],
   "source": [
    "data2.columns = [ \n",
    "    \"연도\", '팀명', '평균자책점', '완투', '완봉', 'QS', '블론세이브', '타자수', '투구수', '피안타율', \n",
    "    '2루타', '3루타', '희생번트', '희생플라이', '고의4구', '폭투', '보크']\n",
    "data2"
   ]
  },
  {
   "cell_type": "code",
   "execution_count": 20,
   "metadata": {},
   "outputs": [
    {
     "output_type": "execute_result",
     "data": {
      "text/plain": "Index(['연도', '팀명', '평균자책점', '경기', '승리', '패배', '세이브', '홀드', '승률', '이닝', '피안타',\n       '홈런', '볼넷', '사구', '삼진', '실점', '자책점', '이닝당출루허용률', '완투', '완봉', 'QS',\n       '블론세이브', '타자수', '투구수', '피안타율', '2루타', '3루타', '희생번트', '희생플라이', '고의4구',\n       '폭투', '보크'],\n      dtype='object')"
     },
     "metadata": {},
     "execution_count": 20
    }
   ],
   "source": [
    "data3 = pd.merge(data, data2, on=['연도', '팀명', '평균자책점'])\n",
    "data3.columns"
   ]
  },
  {
   "cell_type": "code",
   "execution_count": 21,
   "metadata": {},
   "outputs": [],
   "source": [
    "data3.to_csv('kbo_2001_2020_pitcher.csv', encoding='cp949')"
   ]
  },
  {
   "cell_type": "code",
   "execution_count": null,
   "metadata": {},
   "outputs": [],
   "source": [
    "keyword = \"Defense\" \n",
    "target_site = f'https://www.koreabaseball.com/Record/Team/{keyword}/Basic.aspx'\n",
    "driver.get(target_site)\n",
    "res = urlopen(target_site)\n",
    "soup = BeautifulSoup(res, 'html5lib')\n",
    "\n",
    "dftr = list()\n",
    "    \n",
    "for yr in yrs :\n",
    "    yr_sel = driver.find_element_by_class_name('select03')\n",
    "    yr_sel.send_keys(yr)\n",
    "    time.sleep(1)\n",
    "\n",
    "    for tr in soup.select('#cphContents_cphContents_cphContents_udpContent > div.record_result > table > tbody > tr') :\n",
    "        dftr.append([\n",
    "            driver.find_element_by_class_name('select03').get_attribute('value'),\n",
    "            tr.select_one('td:nth-child(2)').string,\n",
    "            float(tr.select_one('td:nth-child(3)').string),\n",
    "            float(tr.select_one('td:nth-child(4)').string),\n",
    "            float(tr.select_one('td:nth-child(5)').string),\n",
    "            float(tr.select_one('td:nth-child(6)').string),\n",
    "            float(tr.select_one('td:nth-child(7)').string),\n",
    "            float(tr.select_one('td:nth-child(8)').string),\n",
    "            float(tr.select_one('td:nth-child(9)').string),\n",
    "            float(tr.select_one('td:nth-child(10)').string),\n",
    "            float(tr.select_one('td:nth-child(11)').string),\n",
    "            float(tr.select_one('td:nth-child(12)').string),\n",
    "            float(tr.select_one('td:nth-child(13)').string)\n",
    "        ])"
   ]
  },
  {
   "cell_type": "code",
   "execution_count": null,
   "metadata": {},
   "outputs": [],
   "source": [
    "data = pd.DataFrame(dftr)\n",
    "data.columns = [ \"연도\", '팀명', '경기', '실책', '견제사', '자살', '보살', '병살', '수비율', '포일', '도루허용', '도루실패', '도루저지율']\n",
    "data"
   ]
  },
  {
   "cell_type": "code",
   "execution_count": null,
   "metadata": {},
   "outputs": [],
   "source": [
    "data.to_csv('team_defense.csv', encoding='cp949')"
   ]
  },
  {
   "cell_type": "code",
   "execution_count": null,
   "metadata": {},
   "outputs": [],
   "source": [
    "keyword = \"Defense\" \n",
    "driver.get(target_site)\n",
    "res = urlopen(target_site)\n",
    "soup = BeautifulSoup(res, 'html5lib')\n",
    "\n",
    "rntr = list()\n",
    "    \n",
    "for yr in yrs :\n",
    "    yr_sel = driver.find_element_by_class_name('select03')\n",
    "    yr_sel.send_keys(yr)\n",
    "    time.sleep(1)\n",
    "\n",
    "    for tr in soup.select('#cphContents_cphContents_cphContents_udpContent > div.record_result > table > tbody > tr') :\n",
    "        rntr.append([\n",
    "            driver.find_element_by_class_name('select03').get_attribute('value'),\n",
    "            tr.select_one('td:nth-child(2)').string,\n",
    "            float(tr.select_one('td:nth-child(3)').string),\n",
    "            float(tr.select_one('td:nth-child(4)').string),\n",
    "            float(tr.select_one('td:nth-child(5)').string),\n",
    "            float(tr.select_one('td:nth-child(6)').string),\n",
    "            float(tr.select_one('td:nth-child(7)').string),\n",
    "            float(tr.select_one('td:nth-child(8)').string),\n",
    "            float(tr.select_one('td:nth-child(9)').string)\n",
    "        ])"
   ]
  },
  {
   "cell_type": "code",
   "execution_count": null,
   "metadata": {},
   "outputs": [],
   "source": [
    "data = pd.DataFrame(rntr)\n",
    "data.columns = [ \n",
    "    \"연도\", '팀명', '경기', '도루시도', '도루허용', '도루실패', '도루성공률', '주루사', '견제사'\n",
    "]\n",
    "data"
   ]
  },
  {
   "cell_type": "code",
   "execution_count": null,
   "metadata": {},
   "outputs": [],
   "source": [
    "data.to_csv('team_runner.csv', encoding='cp949')"
   ]
  },
  {
   "cell_type": "code",
   "execution_count": null,
   "metadata": {},
   "outputs": [],
   "source": [
    "driver.close()\n",
    "driver.quit()"
   ]
  }
 ],
 "metadata": {
  "kernelspec": {
   "display_name": "Python 3",
   "language": "python",
   "name": "python3"
  },
  "language_info": {
   "codemirror_mode": {
    "name": "ipython",
    "version": 3
   },
   "file_extension": ".py",
   "mimetype": "text/x-python",
   "name": "python",
   "nbconvert_exporter": "python",
   "pygments_lexer": "ipython3",
   "version": "3.7.6-final"
  }
 },
 "nbformat": 4,
 "nbformat_minor": 4
}