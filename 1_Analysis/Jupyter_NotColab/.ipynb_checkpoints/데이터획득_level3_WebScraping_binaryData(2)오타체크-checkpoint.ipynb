{
 "cells": [
  {
   "cell_type": "markdown",
   "metadata": {},
   "source": [
    "# 웹스크레핑 고급\n",
    "\n",
    "- 웹사이트에서 바이너리 데이터를 직접 원하는 위치에 다운로드\n",
    "    - http://yann.lecun.com/exdb/mnist/\n",
    "- 압축해제\n",
    "- 바이너리 데이터 디코딩 처리\n",
    "    - 바이너리 데이터의 구조(포멧)를 알고 있어야 한다\n",
    "    "
   ]
  },
  {
   "cell_type": "markdown",
   "metadata": {},
   "source": [
    "## 1. 수집할 데이터 URL 획득 "
   ]
  },
  {
   "cell_type": "code",
   "execution_count": 2,
   "metadata": {},
   "outputs": [
    {
     "data": {
      "text/plain": [
       "<html><head>\n",
       "   <meta content=\"text/html; charset=utf-8\" http-equiv=\"Content-Type\"/>\n",
       "   <title>MNIST handwritten digit database, Yann LeCun, Corinna Cortes and Chris Burges</title>\n",
       "<script type=\"text/javascript\">\n",
       "var gaJsHost = ((\"https:\" == document.location.protocol) ? \"https://ssl.\" : \"http://www.\");\n",
       "document.write(unescape(\"%3Cscript src='\" + gaJsHost + \"google-analytics.com/ga.js' type='text/javascript'%3E%3C/script%3E\"));\n",
       "</script><script type=\"text/javascript\">\n",
       "var pageTracker = _gat._getTracker(\"UA-6178702-1\");\n",
       "pageTracker._trackPageview();\n",
       "</script></head>\n",
       "\n",
       "\n",
       "\n",
       "\n",
       "<body alink=\"#111111\" background=\"wm5b.gif\" bgcolor=\"#FFFFFF\" link=\"#FF0000\" vlink=\"#820594\">\n",
       "\n",
       "<center>\n",
       "<h1>\n",
       "<font color=\"#FF0000\"><font size=\"+4\">THE MNIST DATABASE</font></font></h1></center>\n",
       "\n",
       "<center><font color=\"#FF0000\"><font size=\"+4\">of handwritten digits</font></font></center>\n",
       "\n",
       "<center><font color=\"#FF0000\"><font size=\"+4\"></font></font></center>\n",
       "\n",
       "<center><font color=\"#3366FF\"><font size=\"+1\"><a href=\"http://yann.lecun.com\">Yann LeCun</a>, Courant Institute, NYU</font></font></center>\n",
       "<center><font color=\"#3366FF\"><font size=\"+1\"><a href=\"http://homepage.mac.com/corinnacortes/\">Corinna Cortes</a>, Google Labs, New York</font></font></center>\n",
       "<center><font color=\"#3366FF\"><font size=\"+1\"><a href=\"http://research.microsoft.com/en-us/people/cburges/\">Christopher J.C. Burges</a>, Microsoft Research, Redmond</font></font></center>\n",
       "\n",
       "<center> </center>\n",
       "The MNIST database of handwritten digits, available from this page, has a\n",
       "training set of 60,000 examples, and a test set of 10,000 examples. It\n",
       "is a subset of a larger set available from NIST. The digits have\n",
       "been size-normalized and centered in a fixed-size image.\n",
       "<p>\n",
       "It is a good database for people who want to try learning techniques\n",
       "and pattern recognition methods on real-world data while spending minimal\n",
       "efforts on preprocessing and formatting.\n",
       "</p><p>\n",
       "Four files are available on this site:\n",
       "\n",
       "</p><p><tt><a href=\"train-images-idx3-ubyte.gz\">train-images-idx3-ubyte.gz</a>: \n",
       "training set images (9912422 bytes)</tt>\n",
       "<br/><tt><a href=\"train-labels-idx1-ubyte.gz\">train-labels-idx1-ubyte.gz</a>: \n",
       "training set labels (28881 bytes)</tt>\n",
       "<br/><tt><a href=\"t10k-images-idx3-ubyte.gz\">t10k-images-idx3-ubyte.gz</a>:  \n",
       "test set images (1648877 bytes)</tt>\n",
       "<br/><tt><a href=\"t10k-labels-idx1-ubyte.gz\">t10k-labels-idx1-ubyte.gz</a>:  \n",
       "test set labels (4542 bytes)</tt>\n",
       "</p><p>\n",
       "<b>please note that your browser may uncompress these files without telling you</b>.\n",
       "If the files you downloaded have a larger size than the above, they have been\n",
       "uncompressed by your browser. Simply rename them to remove the .gz extension.\n",
       "Some people have asked me \"my application can't open your image files\".\n",
       "These files are not in any standard image format. You have to write\n",
       "your own (very simple) program to read them. The file format is described\n",
       "at the bottom of this page.\n",
       "</p><p>\n",
       "The original black and white (bilevel) images from NIST were size normalized\n",
       "to fit in a 20x20 pixel box while preserving their aspect ratio. The resulting\n",
       "images contain grey levels as a result of the anti-aliasing technique used\n",
       "by the normalization algorithm. the images were centered in a 28x28 image\n",
       "by computing the center of mass of the pixels, and translating the image\n",
       "so as to position this point at the center of the 28x28 field.\n",
       "</p><p>\n",
       "With some classification methods (particuarly template-based methods,\n",
       "such as SVM and K-nearest neighbors), the error rate improves when the\n",
       "digits are centered by bounding box rather than center of mass. If you\n",
       "do this kind of pre-processing, you should report it in your\n",
       "publications.\n",
       "</p><p>\n",
       "The MNIST database was constructed from NIST's Special Database 3 and\n",
       "Special Database 1 which contain binary images of handwritten digits. NIST\n",
       "originally designated SD-3 as their training set and SD-1 as their test\n",
       "set. However, SD-3 is much cleaner and easier to recognize than SD-1. The\n",
       "reason for this can be found on the fact that SD-3 was collected among\n",
       "Census Bureau employees, while SD-1 was collected among high-school students.\n",
       "Drawing sensible conclusions from learning experiments requires that the\n",
       "result be independent of the choice of training set and test among the\n",
       "complete set of samples. Therefore it was necessary to build a new database\n",
       "by mixing NIST's datasets.\n",
       "</p><p>\n",
       "The MNIST training set is composed of 30,000 patterns from SD-3 and\n",
       "30,000 patterns from SD-1. Our test set was composed of 5,000 patterns\n",
       "from SD-3 and 5,000 patterns from SD-1. The 60,000 pattern training set\n",
       "contained examples from approximately 250 writers. We made sure that the\n",
       "sets of writers of the training set and test set were disjoint.\n",
       "</p><p>\n",
       "SD-1 contains 58,527 digit images written by 500 different writers.\n",
       "In contrast to SD-3, where blocks of data from each writer appeared in\n",
       "sequence, the data in SD-1 is scrambled. Writer identities for SD-1 is\n",
       "available and we used this information to unscramble the writers. We then\n",
       "split SD-1 in two: characters written by the first 250 writers went into\n",
       "our new training set. The remaining 250 writers were placed in our test\n",
       "set. Thus we had two sets with nearly 30,000 examples each. The new training\n",
       "set was completed with enough examples from SD-3, starting at pattern #\n",
       "0, to make a full set of 60,000 training patterns. Similarly, the new test\n",
       "set was completed with SD-3 examples starting at pattern # 35,000 to make\n",
       "a full set with 60,000 test patterns. Only a subset of 10,000 test images\n",
       "(5,000 from SD-1 and 5,000 from SD-3) is available on this site. The full\n",
       "60,000 sample training set is available.\n",
       "</p><p>\n",
       "Many methods have been tested with this training set and test set. Here\n",
       "are a few examples. Details about the methods are given in an upcoming\n",
       "paper. Some of those experiments used a version of the database where the\n",
       "input images where deskewed (by computing the principal axis of the shape\n",
       "that is closest to the vertical, and shifting the lines so as to make it\n",
       "vertical). In some other experiments, the training set was augmented with\n",
       "artificially distorted versions of the original training samples. The distortions\n",
       "are random combinations of shifts, scaling, skewing, and compression.\n",
       "<br/> \n",
       "\n",
       "\n",
       "<table border=\"1\" cellpadding=\"3\">\n",
       "<tbody><tr><td>CLASSIFIER</td>\n",
       " <td>PREPROCESSING</td>\n",
       " <td align=\"right\">TEST ERROR RATE (%)</td>\n",
       " <td>Reference</td></tr>\n",
       "\n",
       "<tr><td align=\"center\" colspan=\"4\"><b>Linear Classifiers</b></td></tr>\n",
       "\n",
       "<tr><td>linear classifier (1-layer NN)</td>\n",
       "  <td>none</td>\n",
       "  <td align=\"right\">12.0</td>\n",
       "  <td><a href=\"http://yann.lecun.com/exdb/publis/index.html#lecun-98\">LeCun et al. 1998</a></td></tr>\n",
       "<tr><td>linear classifier (1-layer NN)</td>\n",
       "  <td>deskewing</td>\n",
       "  <td align=\"right\">8.4</td>\n",
       "  <td><a href=\"http://yann.lecun.com/exdb/publis/index.html#lecun-98\">LeCun et al. 1998</a></td></tr>\n",
       "<tr><td>pairwise linear classifier</td>\n",
       "  <td>deskewing</td>\n",
       "  <td align=\"right\">7.6</td>\n",
       "  <td><a href=\"http://yann.lecun.com/exdb/publis/index.html#lecun-98\">LeCun et al. 1998</a></td></tr>\n",
       "\n",
       "<tr><td align=\"center\" colspan=\"4\"><b>K-Nearest Neighbors</b></td></tr>\n",
       "\n",
       "<tr><td>K-nearest-neighbors, Euclidean (L2)</td>\n",
       "  <td>none</td>\n",
       "  <td align=\"right\">5.0</td>\n",
       "  <td><a href=\"http://yann.lecun.com/exdb/publis/index.html#lecun-98\">LeCun et al. 1998</a></td></tr>\n",
       "<tr><td>K-nearest-neighbors, Euclidean (L2)</td>\n",
       "  <td>none</td>\n",
       "  <td align=\"right\">3.09</td>\n",
       "  <td><a href=\"http://finmath.uchicago.edu/~wilder/Mnist/\">Kenneth Wilder, U. Chicago</a></td></tr>\n",
       "<tr><td>K-nearest-neighbors, L3</td>\n",
       "  <td>none</td>\n",
       "  <td align=\"right\">2.83</td>\n",
       "  <td><a href=\"http://finmath.uchicago.edu/~wilder/Mnist/\">Kenneth Wilder, U. Chicago</a></td></tr>\n",
       "<tr><td>K-nearest-neighbors, Euclidean (L2)</td>\n",
       "  <td>deskewing</td>\n",
       "  <td align=\"right\">2.4</td>\n",
       "  <td><a href=\"http://yann.lecun.com/exdb/publis/index.html#lecun-98\">LeCun et al. 1998</a></td></tr>\n",
       "<tr><td>K-nearest-neighbors, Euclidean (L2)</td>\n",
       "  <td>deskewing, noise removal, blurring</td>\n",
       "  <td align=\"right\">1.80</td>\n",
       "  <td><a href=\"http://finmath.uchicago.edu/~wilder/Mnist/\">Kenneth Wilder, U. Chicago</a></td></tr>\n",
       "<tr><td>K-nearest-neighbors, L3</td>\n",
       "  <td>deskewing, noise removal, blurring</td>\n",
       "  <td align=\"right\">1.73</td>\n",
       "  <td><a href=\"http://finmath.uchicago.edu/~wilder/Mnist/\">Kenneth Wilder, U. Chicago</a></td></tr>\n",
       "<tr><td>K-nearest-neighbors, L3</td>\n",
       "  <td>deskewing, noise removal, blurring, 1 pixel shift</td>\n",
       "  <td align=\"right\">1.33</td>\n",
       "  <td><a href=\"http://finmath.uchicago.edu/~wilder/Mnist/\">Kenneth Wilder, U. Chicago</a></td></tr>\n",
       "<tr><td>K-nearest-neighbors, L3</td>\n",
       "  <td>deskewing, noise removal, blurring, 2 pixel shift</td>\n",
       "  <td align=\"right\">1.22</td>\n",
       "  <td><a href=\"http://finmath.uchicago.edu/~wilder/Mnist/\">Kenneth  Wilder, U. Chicago</a></td></tr>\n",
       "\n",
       "<tr><td>K-NN with non-linear deformation (IDM)</td>\n",
       "  <td>shiftable edges</td>\n",
       "  <td align=\"right\">0.54</td>\n",
       "  <td><a href=\"http://www.iupr.org/~keysers/files/Keysers--Deformation-Models--TPAMI2007.pdf\">Keysers et al. IEEE PAMI 2007</a></td></tr>\n",
       "<tr><td>K-NN with non-linear deformation (P2DHMDM)</td>\n",
       "  <td>shiftable edges</td>\n",
       "  <td align=\"right\">0.52</td>\n",
       "  <td><a href=\"http://www.iupr.org/~keysers/files/Keysers--Deformation-Models--TPAMI2007.pdf\">Keysers et al. IEEE PAMI 2007</a></td></tr>\n",
       "<tr><td>K-NN, Tangent Distance</td>\n",
       "  <td>subsampling to 16x16 pixels</td>\n",
       "  <td align=\"right\">1.1</td>\n",
       "  <td><a href=\"http://yann.lecun.com/exdb/publis/index.html#lecun-98\">LeCun et al. 1998</a></td></tr>\n",
       "<tr><td>K-NN, shape context matching</td>\n",
       "  <td>shape context feature extraction</td>\n",
       "  <td align=\"right\">0.63</td>\n",
       "  <td><a href=\"http://http.cs.berkeley.edu/projects/vision/shape/\">Belongie et al. IEEE PAMI 2002</a></td></tr>\n",
       "\n",
       "<tr><td align=\"center\" colspan=\"4\"><b>Boosted Stumps</b></td></tr>\n",
       "\n",
       "<tr><td>boosted stumps</td>\n",
       "  <td>none</td>\n",
       "  <td align=\"right\">7.7</td>\n",
       "  <td><a href=\"http://users.web.lal.in2p3.fr/kegl/research/PDFs/keglBusafekete09.pdf\">Kegl et al., ICML 2009</a></td></tr>\n",
       "<tr><td>products of boosted stumps (3 terms)</td>\n",
       "  <td>none</td>\n",
       "  <td align=\"right\">1.26</td>\n",
       "  <td><a href=\"http://users.web.lal.in2p3.fr/kegl/research/PDFs/keglBusafekete09.pdf\">Kegl et al., ICML 2009</a></td></tr>\n",
       "<tr><td>boosted trees (17 leaves)</td>\n",
       "  <td>none</td>\n",
       "  <td align=\"right\">1.53</td>\n",
       "  <td><a href=\"http://users.web.lal.in2p3.fr/kegl/research/PDFs/keglBusafekete09.pdf\">Kegl et al., ICML 2009</a></td></tr>\n",
       "<tr><td>stumps on Haar features</td>\n",
       "  <td>Haar features</td>\n",
       "  <td align=\"right\">1.02</td>\n",
       "  <td><a href=\"http://users.web.lal.in2p3.fr/kegl/research/PDFs/keglBusafekete09.pdf\">Kegl et al., ICML 2009</a></td></tr>\n",
       "<tr><td>product of stumps on Haar f.</td>\n",
       "  <td>Haar features</td>\n",
       "  <td align=\"right\">0.87</td>\n",
       "  <td><a href=\"http://users.web.lal.in2p3.fr/kegl/research/PDFs/keglBusafekete09.pdf\">Kegl et al., ICML 2009</a></td></tr>\n",
       "\n",
       "<tr><td align=\"center\" colspan=\"4\"><b>Non-Linear Classifiers</b></td></tr>\n",
       "\n",
       "<tr><td>40 PCA + quadratic classifier</td>\n",
       "  <td>none</td>\n",
       "  <td align=\"right\">3.3</td>\n",
       "  <td><a href=\"http://yann.lecun.com/exdb/publis/index.html#lecun-98\">LeCun et al. 1998</a></td></tr>\n",
       "<tr><td>1000 RBF + linear classifier</td>\n",
       "  <td>none</td>\n",
       "  <td align=\"right\">3.6</td>\n",
       "  <td><a href=\"http://yann.lecun.com/exdb/publis/index.html#lecun-98\">LeCun et al. 1998</a></td></tr>\n",
       "\n",
       "<tr><td align=\"center\" colspan=\"4\"><b>SVMs</b></td></tr>\n",
       "\n",
       "<tr><td>SVM, Gaussian Kernel</td>\n",
       "  <td>none</td>\n",
       "  <td align=\"right\">1.4</td>\n",
       "  <td></td></tr>\n",
       "<tr><td>SVM deg 4 polynomial</td>\n",
       "  <td>deskewing</td>\n",
       "  <td align=\"right\">1.1</td>\n",
       "  <td><a href=\"http://yann.lecun.com/exdb/publis/index.html#lecun-98\">LeCun et al. 1998</a></td></tr>\n",
       "<tr><td>Reduced Set SVM deg 5 polynomial</td>\n",
       "  <td>deskewing</td>\n",
       "  <td align=\"right\">1.0</td>\n",
       "  <td><a href=\"http://yann.lecun.com/exdb/publis/index.html#lecun-98\">LeCun et al. 1998</a></td></tr>\n",
       "<tr><td>Virtual SVM deg-9 poly [distortions]</td>\n",
       "  <td>none</td>\n",
       "  <td align=\"right\">0.8</td>\n",
       "  <td><a href=\"http://yann.lecun.com/exdb/publis/index.html#lecun-98\">LeCun et al. 1998</a></td></tr>\n",
       "<tr><td>Virtual SVM, deg-9 poly, 1-pixel jittered</td>\n",
       "  <td>none</td>\n",
       "  <td align=\"right\">0.68</td>\n",
       "  <td>DeCoste and Scholkopf, MLJ 2002</td></tr>\n",
       "<tr><td>Virtual SVM, deg-9 poly, 1-pixel jittered</td>\n",
       "  <td>deskewing</td>\n",
       "  <td align=\"right\">0.68</td>\n",
       "  <td>DeCoste and Scholkopf, MLJ 2002</td></tr>\n",
       "<tr><td>Virtual SVM, deg-9 poly, 2-pixel jittered</td>\n",
       "  <td>deskewing</td>\n",
       "  <td align=\"right\">0.56</td>\n",
       "  <td>DeCoste and Scholkopf, MLJ 2002</td></tr>\n",
       "\n",
       "\n",
       "<tr><td align=\"center\" colspan=\"4\"><b>Neural Nets</b></td></tr>\n",
       "\n",
       "<tr><td>2-layer NN, 300 hidden units, mean square error</td>\n",
       "  <td>none</td>\n",
       "  <td align=\"right\">4.7</td>\n",
       "  <td><a href=\"http://yann.lecun.com/exdb/publis/index.html#lecun-98\">LeCun et al. 1998</a></td></tr>\n",
       "<tr><td>2-layer NN, 300 HU, MSE, [distortions]</td>\n",
       "  <td>none</td>\n",
       "  <td align=\"right\">3.6</td>\n",
       "  <td><a href=\"http://yann.lecun.com/exdb/publis/index.html#lecun-98\">LeCun et al. 1998</a></td></tr>\n",
       "<tr><td>2-layer NN, 300 HU</td>\n",
       "  <td>deskewing</td>\n",
       "  <td align=\"right\">1.6</td>\n",
       "  <td><a href=\"http://yann.lecun.com/exdb/publis/index.html#lecun-98\">LeCun et al. 1998</a></td></tr>\n",
       "<tr><td>2-layer NN, 1000 hidden units</td>\n",
       "  <td>none</td>\n",
       "  <td align=\"right\">4.5</td>\n",
       "  <td><a href=\"http://yann.lecun.com/exdb/publis/index.html#lecun-98\">LeCun et al. 1998</a></td></tr>\n",
       "<tr><td>2-layer NN, 1000 HU, [distortions]</td>\n",
       "  <td>none</td>\n",
       "  <td align=\"right\">3.8</td>\n",
       "  <td><a href=\"http://yann.lecun.com/exdb/publis/index.html#lecun-98\">LeCun et al. 1998</a></td></tr>\n",
       "<tr><td>3-layer NN, 300+100 hidden units</td>\n",
       "  <td>none</td>\n",
       "  <td align=\"right\">3.05</td>\n",
       "  <td><a href=\"http://yann.lecun.com/exdb/publis/index.html#lecun-98\">LeCun et al. 1998</a></td></tr>\n",
       "<tr><td>3-layer NN, 300+100 HU [distortions]</td>\n",
       "  <td>none</td>\n",
       "  <td align=\"right\">2.5</td>\n",
       "  <td><a href=\"http://yann.lecun.com/exdb/publis/index.html#lecun-98\">LeCun et al. 1998</a></td></tr>\n",
       "<tr><td>3-layer NN, 500+150 hidden units</td>\n",
       "  <td>none</td>\n",
       "  <td align=\"right\">2.95</td>\n",
       "  <td><a href=\"http://yann.lecun.com/exdb/publis/index.html#lecun-98\">LeCun et al. 1998</a></td></tr>\n",
       "<tr><td>3-layer NN, 500+150 HU [distortions]</td>\n",
       "  <td>none</td>\n",
       "  <td align=\"right\">2.45</td>\n",
       "  <td><a href=\"http://yann.lecun.com/exdb/publis/index.html#lecun-98\">LeCun et al. 1998</a></td></tr>\n",
       "<tr><td>3-layer NN, 500+300 HU, softmax, cross entropy, weight decay</td>\n",
       "  <td>none</td>\n",
       "  <td align=\"right\">1.53</td>\n",
       "  <td><a href=\"http://www.cs.toronto.edu/~hinton/\">Hinton, unpublished, 2005</a></td></tr>\n",
       "<tr><td>2-layer NN, 800 HU, Cross-Entropy Loss</td>\n",
       "  <td>none</td>\n",
       "  <td align=\"right\">1.6</td>\n",
       "  <td><a href=\"http://research.microsoft.com/~patrice/publi.html\">Simard et al., ICDAR 2003</a></td></tr>\n",
       "<tr><td>2-layer NN, 800 HU, cross-entropy [affine distortions]</td>\n",
       "  <td>none</td>\n",
       "  <td align=\"right\">1.1</td>\n",
       "  <td><a href=\"http://research.microsoft.com/~patrice/publi.html\">Simard et al., ICDAR 2003</a></td></tr>\n",
       "<tr><td>2-layer NN, 800 HU, MSE [elastic distortions]</td>\n",
       "  <td>none</td>\n",
       "  <td align=\"right\">0.9</td>\n",
       "  <td><a href=\"http://research.microsoft.com/~patrice/publi.html\">Simard et al., ICDAR 2003</a></td></tr>\n",
       "<tr><td>2-layer NN, 800 HU, cross-entropy [elastic distortions]</td>\n",
       "  <td>none</td>\n",
       "  <td align=\"right\">0.7</td>\n",
       "  <td><a href=\"http://research.microsoft.com/~patrice/publi.html\">Simard et al., ICDAR 2003</a></td></tr>\n",
       "<tr><td>NN, 784-500-500-2000-30 + nearest neighbor, RBM + NCA training [no distortions]</td>\n",
       "  <td>none</td>\n",
       "  <td align=\"right\">1.0</td>\n",
       "  <td><a href=\"https://www.cs.utoronto.ca/~hinton/absps/nonlinnca.pdf\">Salakhutdinov and Hinton, AI-Stats 2007</a></td></tr>\n",
       "<tr><td>6-layer NN 784-2500-2000-1500-1000-500-10 (on GPU) [elastic distortions]</td>\n",
       "  <td>none</td>\n",
       "  <td align=\"right\">0.35</td>\n",
       "  <td><a href=\"https://arxiv.org/abs/1003.0358\">Ciresan et al. Neural Computation 10, 2010 and arXiv 1003.0358, 2010</a></td></tr>\n",
       "<tr><td>committee of 25 NN 784-800-10 [elastic distortions]</td>\n",
       "  <td>width normalization, deslanting</td>\n",
       "  <td align=\"right\">0.39</td>\n",
       "  <td><a href=\"\">Meier et al. ICDAR 2011</a></td></tr>\n",
       "<tr><td>deep convex net, unsup pre-training [no distortions]</td>\n",
       "  <td>none</td>\n",
       "  <td align=\"right\">0.83</td>\n",
       "  <td><a href=\"http://research.microsoft.com/pubs/152133/DeepConvexNetwork-Interspeech2011-pub.pdf\">Deng et al. Interspeech 2010</a></td></tr>\n",
       "\n",
       "<tr><td align=\"center\" colspan=\"4\"><b>Convolutional nets</b></td></tr>\n",
       "\n",
       "<tr><td>Convolutional net LeNet-1</td>\n",
       "  <td>subsampling to 16x16 pixels</td>\n",
       "  <td align=\"right\">1.7</td>\n",
       "  <td><a href=\"http://yann.lecun.com/exdb/publis/index.html#lecun-98\">LeCun et al. 1998</a></td></tr>\n",
       "<tr><td>Convolutional net LeNet-4</td>\n",
       "  <td>none</td>\n",
       "  <td align=\"right\">1.1</td>\n",
       "  <td><a href=\"http://yann.lecun.com/exdb/publis/index.html#lecun-98\">LeCun et al. 1998</a></td></tr>\n",
       "<tr><td>Convolutional net LeNet-4 with K-NN instead of last layer</td>\n",
       "  <td>none</td>\n",
       "  <td align=\"right\">1.1</td>\n",
       "  <td><a href=\"http://yann.lecun.com/exdb/publis/index.html#lecun-98\">LeCun et al. 1998</a></td></tr>\n",
       "<tr><td>Convolutional net LeNet-4 with local learning instead of last layer</td>\n",
       "  <td>none</td>\n",
       "  <td align=\"right\">1.1</td>\n",
       "  <td><a href=\"http://yann.lecun.com/exdb/publis/index.html#lecun-98\">LeCun et al. 1998</a></td></tr>\n",
       "<tr><td>Convolutional net LeNet-5, [no distortions]</td>\n",
       "  <td>none</td>\n",
       "  <td align=\"right\">0.95</td>\n",
       "  <td><a href=\"http://yann.lecun.com/exdb/publis/index.html#lecun-98\">LeCun et al. 1998</a></td></tr>\n",
       "<tr><td>Convolutional net LeNet-5, [huge distortions]</td>\n",
       "  <td>none</td>\n",
       "  <td align=\"right\">0.85</td>\n",
       "  <td><a href=\"http://yann.lecun.com/exdb/publis/index.html#lecun-98\">LeCun et al. 1998</a></td></tr>\n",
       "<tr><td>Convolutional net LeNet-5, [distortions]</td>\n",
       "  <td>none</td>\n",
       "  <td align=\"right\">0.8</td>\n",
       "  <td><a href=\"http://yann.lecun.com/exdb/publis/index.html#lecun-98\">LeCun et al. 1998</a></td></tr>\n",
       "<tr><td>Convolutional net Boosted LeNet-4, [distortions]</td>\n",
       "  <td>none</td>\n",
       "  <td align=\"right\">0.7</td>\n",
       "  <td><a href=\"http://yann.lecun.com/exdb/publis/index.html#lecun-98\">LeCun et al. 1998</a></td></tr>\n",
       "\n",
       "<tr><td>Trainable feature extractor + SVMs [no distortions]</td>\n",
       "  <td>none</td>\n",
       "  <td align=\"right\"> 0.83</td>\n",
       "  <td><a href=\"https://hal.archives-ouvertes.fr/hal-00018426/en\">Lauer et al., Pattern Recognition 40-6, 2007</a></td></tr>\n",
       "<tr><td>Trainable feature extractor + SVMs [elastic distortions]</td>\n",
       "  <td>none</td>\n",
       "  <td align=\"right\"> 0.56</td>\n",
       "  <td><a href=\"https://hal.archives-ouvertes.fr/hal-00018426/en\">Lauer et al., Pattern Recognition 40-6, 2007</a></td></tr>\n",
       "<tr><td>Trainable feature extractor + SVMs [affine distortions]</td>\n",
       "  <td>none</td>\n",
       "  <td align=\"right\"> 0.54</td>\n",
       "  <td><a href=\"https://hal.archives-ouvertes.fr/hal-00018426/en\">Lauer et al., Pattern Recognition 40-6, 2007</a></td></tr>\n",
       "\n",
       "<tr><td>unsupervised sparse features + SVM, [no distortions]</td>\n",
       "  <td>none</td>\n",
       "  <td align=\"right\">0.59</td>\n",
       "  <td><a href=\"http://www.inb.uni-luebeck.de/publications/pdfs/LaBaMa08c.pdf\">Labusch et al., IEEE TNN 2008</a></td></tr>\n",
       "<tr><td>Convolutional net, cross-entropy [affine distortions]</td>\n",
       "  <td>none</td>\n",
       "  <td align=\"right\">0.6</td>\n",
       "  <td><a href=\"http://research.microsoft.com/~patrice/publi.html\">Simard et al., ICDAR 2003</a></td></tr>\n",
       "<tr><td>Convolutional net, cross-entropy [elastic distortions]</td>\n",
       "  <td>none</td>\n",
       "  <td align=\"right\">0.4</td>\n",
       "  <td><a href=\"http://research.microsoft.com/~patrice/publi.html\">Simard et al., ICDAR 2003</a></td></tr>\n",
       "<tr><td>large conv. net, random features [no distortions]</td>\n",
       "  <td>none</td>\n",
       "  <td align=\"right\">0.89</td>\n",
       "  <td><a href=\"http://yann.lecun.com/exdb/publis/index.html#ranzato-cvpr-07\">Ranzato et al., CVPR 2007</a></td></tr>\n",
       "<tr><td>large conv. net, unsup features [no distortions]</td>\n",
       "  <td>none</td>\n",
       "  <td align=\"right\">0.62</td>\n",
       "  <td><a href=\"http://yann.lecun.com/exdb/publis/index.html#ranzato-cvpr-07\">Ranzato et al., CVPR 2007</a></td></tr>\n",
       "<tr><td>large conv. net, unsup pretraining [no distortions]</td>\n",
       "  <td>none</td>\n",
       "  <td align=\"right\">0.60</td>\n",
       "  <td><a href=\"http://yann.lecun.com/exdb/publis/index.html#ranzato-06\">Ranzato et al., NIPS 2006</a></td></tr>\n",
       "<tr><td>large conv. net, unsup pretraining [elastic distortions]</td>\n",
       "  <td>none</td>\n",
       "  <td align=\"right\">0.39</td>\n",
       "  <td><a href=\"http://yann.lecun.com/exdb/publis/index.html#ranzato-06\">Ranzato et al., NIPS 2006</a></td></tr>\n",
       "<tr><td>large conv. net, unsup pretraining [no distortions]</td>\n",
       "  <td>none</td>\n",
       "  <td align=\"right\">0.53</td>\n",
       "  <td><a href=\"http://yann.lecun.com/exdb/publis/index.html#jarrett-iccv-09\">Jarrett et al., ICCV 2009</a></td></tr>\n",
       "<tr><td>large/deep conv. net, 1-20-40-60-80-100-120-120-10 [elastic distortions]</td>\n",
       "  <td>none</td>\n",
       "  <td align=\"right\">0.35</td>\n",
       "  <td><a href=\"\">Ciresan et al. IJCAI 2011</a></td></tr>\n",
       "<tr><td>committee of 7 conv. net, 1-20-P-40-P-150-10 [elastic distortions]</td>\n",
       "  <td>width normalization</td>\n",
       "  <td align=\"right\">0.27 +-0.02</td>\n",
       "  <td><a href=\"\">Ciresan et al. ICDAR 2011</a></td></tr>\n",
       "<tr><td>committee of 35 conv. net, 1-20-P-40-P-150-10 [elastic distortions]</td>\n",
       "  <td>width normalization</td>\n",
       "   <td align=\"right\">0.23</td>\n",
       "  <td><a href=\"https://arxiv.org/abs/1202.2745\">Ciresan et al. CVPR 2012</a></td></tr>\n",
       "</tbody></table>\n",
       "\n",
       "</p><h3><font color=\"#3333FF\">References</font></h3>\n",
       "\n",
       "<dl>\n",
       "\n",
       "<dt><a name=\"lecun-98\">[LeCun et al., 1998a]</a></dt><dd>Y. LeCun, L. Bottou,\n",
       "  Y. Bengio, and P. Haffner. \"Gradient-based learning applied to document recognition.\"\n",
       "<cite>Proceedings of the IEEE</cite>, 86(11):2278-2324, November 1998.\n",
       "<a href=\"../publis/index.html#lecun-98\">[on-line version]</a>\n",
       "\n",
       "</dd><dt>\n",
       "\n",
       "</dt></dl>\n",
       "\n",
       "<h2><hr width=\"100%\"/></h2>\n",
       "\n",
       "<h2>\n",
       "<font color=\"#3333FF\">FILE FORMATS FOR THE MNIST DATABASE</font></h2>\n",
       "The data is stored in a very simple file format designed for storing vectors\n",
       "and multidimensional matrices. General info on this format is given at\n",
       "the end of this page, but you don't need to read that to use the data files.\n",
       "\n",
       "<p>All the integers in the files are stored in the MSB first (high endian)\n",
       "format used by most non-Intel processors. Users of Intel processors and\n",
       "other low-endian machines must flip the bytes of the header.\n",
       "\n",
       "</p><p>There are 4 files:<tt></tt>\n",
       "\n",
       "</p><p><tt>train-images-idx3-ubyte: training set images</tt>\n",
       "<br/><tt>train-labels-idx1-ubyte: training set labels</tt>\n",
       "<br/><tt>t10k-images-idx3-ubyte:  test set images</tt>\n",
       "<br/><tt>t10k-labels-idx1-ubyte:  test set labels</tt>\n",
       "\n",
       "</p><p>The training set contains 60000 examples, and the test set 10000 examples.\n",
       "\n",
       "</p><p>The first 5000 examples of the test set are taken from the original\n",
       "NIST training set. The last 5000 are taken from the original NIST test\n",
       "set. The first 5000 are cleaner and easier than the last 5000.\n",
       "</p><h3>\n",
       "TRAINING SET LABEL FILE (train-labels-idx1-ubyte):</h3>\n",
       "<tt>[offset] [type]         \n",
       "[value]          [description]</tt>\n",
       "<br/><tt>0000     32 bit integer  0x00000801(2049)\n",
       "magic number (MSB first)</tt>\n",
       "<br/><tt>0004     32 bit integer  60000           \n",
       "number of items</tt>\n",
       "<br/><tt>0008     unsigned byte   ??              \n",
       "label</tt>\n",
       "<br/><tt>0009     unsigned byte   ??              \n",
       "label</tt>\n",
       "<br/><tt>........</tt>\n",
       "<br/><tt>xxxx     unsigned byte   ??              \n",
       "label</tt>\n",
       "\n",
       "<p><tt>The labels values are 0 to 9.</tt>\n",
       "</p><h3>\n",
       "TRAINING SET IMAGE FILE (train-images-idx3-ubyte):</h3>\n",
       "<tt>[offset] [type]         \n",
       "[value]          [description]</tt>\n",
       "<br/><tt>0000     32 bit integer  0x00000803(2051)\n",
       "magic number</tt>\n",
       "<br/><tt>0004     32 bit integer  60000           \n",
       "number of images</tt>\n",
       "<br/><tt>0008     32 bit integer  28              \n",
       "number of rows</tt>\n",
       "<br/><tt>0012     32 bit integer  28              \n",
       "number of columns</tt>\n",
       "<br/><tt>0016     unsigned byte   ??              \n",
       "pixel</tt>\n",
       "<br/><tt>0017     unsigned byte   ??              \n",
       "pixel</tt>\n",
       "<br/><tt>........</tt>\n",
       "<br/><tt>xxxx     unsigned byte   ??              \n",
       "pixel</tt>\n",
       "\n",
       "<p>Pixels are organized row-wise. Pixel values are 0 to 255. 0 means background\n",
       "(white), 255 means foreground (black).\n",
       "</p><h3>\n",
       "TEST SET LABEL FILE (t10k-labels-idx1-ubyte):</h3>\n",
       "<tt>[offset] [type]         \n",
       "[value]          [description]</tt>\n",
       "<br/><tt>0000     32 bit integer  0x00000801(2049)\n",
       "magic number (MSB first)</tt>\n",
       "<br/><tt>0004     32 bit integer  10000           \n",
       "number of items</tt>\n",
       "<br/><tt>0008     unsigned byte   ??              \n",
       "label</tt>\n",
       "<br/><tt>0009     unsigned byte   ??              \n",
       "label</tt>\n",
       "<br/><tt>........</tt>\n",
       "<br/><tt>xxxx     unsigned byte   ??              \n",
       "label</tt>\n",
       "\n",
       "<p>The labels values are 0 to 9.\n",
       "</p><h3>\n",
       "TEST SET IMAGE FILE (t10k-images-idx3-ubyte):</h3>\n",
       "<tt>[offset] [type]         \n",
       "[value]          [description]</tt>\n",
       "<br/><tt>0000     32 bit integer  0x00000803(2051)\n",
       "magic number</tt>\n",
       "<br/><tt>0004     32 bit integer  10000           \n",
       "number of images</tt>\n",
       "<br/><tt>0008     32 bit integer  28              \n",
       "number of rows</tt>\n",
       "<br/><tt>0012     32 bit integer  28              \n",
       "number of columns</tt>\n",
       "<br/><tt>0016     unsigned byte   ??              \n",
       "pixel</tt>\n",
       "<br/><tt>0017     unsigned byte   ??              \n",
       "pixel</tt>\n",
       "<br/><tt>........</tt>\n",
       "<br/><tt>xxxx     unsigned byte   ??              \n",
       "pixel</tt>\n",
       "\n",
       "<p>Pixels are organized row-wise. Pixel values are 0 to 255. 0 means background\n",
       "(white), 255 means foreground (black).\n",
       "<br/> \n",
       "<br/>\n",
       "</p><hr width=\"100%\"/>\n",
       "<h2>\n",
       "<font color=\"#3333FF\">THE IDX FILE FORMAT</font></h2>\n",
       "the IDX file format is a simple format for vectors and multidimensional\n",
       "matrices of various numerical types.\n",
       "\n",
       "<p>The basic format is\n",
       "\n",
       "</p><p><tt>magic number</tt>\n",
       "<br/><tt>size in dimension 0</tt>\n",
       "<br/><tt>size in dimension 1</tt>\n",
       "<br/><tt>size in dimension 2</tt>\n",
       "<br/><tt>.....</tt>\n",
       "<br/><tt>size in dimension N</tt>\n",
       "<br/><tt>data</tt>\n",
       "\n",
       "</p><p>The magic number is an integer (MSB first). The first 2 bytes are always\n",
       "0.\n",
       "\n",
       "</p><p>The third byte codes the type of the data:\n",
       "<br/>0x08: unsigned byte\n",
       "<br/>0x09: signed byte\n",
       "<br/>0x0B: short (2 bytes)\n",
       "<br/>0x0C: int (4 bytes)\n",
       "<br/>0x0D: float (4 bytes)\n",
       "<br/>0x0E: double (8 bytes)\n",
       "\n",
       "</p><p>The 4-th byte codes the number of dimensions of the vector/matrix: 1\n",
       "for vectors, 2 for matrices....\n",
       "\n",
       "</p><p>The sizes in each dimension are 4-byte integers (MSB first, high endian,\n",
       "like in most non-Intel processors).\n",
       "\n",
       "</p><p>The data is stored like in a C array, i.e. the index in the last dimension\n",
       "changes the fastest.\n",
       "<br/> \n",
       "<br/> \n",
       "<br/>\n",
       "</p><p>\n",
       "Happy hacking.\n",
       "</p><p>\n",
       "</p><hr width=\"100%\"/>\n",
       "<p>\n",
       "The digit images in the MNIST set were originally selected and\n",
       "experimented with by Chris Burges and Corinna Cortes using\n",
       "bounding-box normalization and centering. Yann LeCun's version which\n",
       "is provided on this page uses centering by center of mass within in a\n",
       "larger window.\n",
       "</p><p>\n",
       "<font color=\"#3333FF\"><a href=\"http://yann.lecun.com\">Yann LeCun</a>, Professor<br/>\n",
       "The Courant Institute of Mathematical Sciences<br/>\n",
       "New York University<br/>\n",
       "<img src=\"../../ex/images/email.gif\"/>\n",
       "</font>\n",
       "</p><p>\n",
       "<font color=\"#3333FF\"><a href=\"http://homepage.mac.com/corinnacortes/\">Corinna Cortes</a>, Research Scientist<br/>\n",
       "Google Labs, New York<br/>\n",
       "<i>corinna at google dot com</i>\n",
       "</font>\n",
       "\n",
       "\n",
       "\n",
       "</p></body></html>"
      ]
     },
     "execution_count": 2,
     "metadata": {},
     "output_type": "execute_result"
    }
   ],
   "source": [
    "# 1. 해당 사이트에서 *.gz 링크 4개를 획득하시오\n",
    "# 1-1. soup 생성\n",
    "# 1-1-1. 모듈가져오기\n",
    "from bs4 import BeautifulSoup\n",
    "from urllib.request import urlopen\n",
    "\n",
    "# 1-1-2. 요청(해당사이트)\n",
    "target_url = 'http://yann.lecun.com/exdb/mnist/'\n",
    "res        = urlopen( target_url )\n",
    "\n",
    "# 1-1-3. soup 생성\n",
    "soup = BeautifulSoup( res, 'html5lib' )\n",
    "soup"
   ]
  },
  {
   "cell_type": "code",
   "execution_count": 3,
   "metadata": {},
   "outputs": [
    {
     "data": {
      "text/plain": [
       "['train-images-idx3-ubyte.gz',\n",
       " 'train-labels-idx1-ubyte.gz',\n",
       " 't10k-images-idx3-ubyte.gz',\n",
       " 't10k-labels-idx1-ubyte.gz']"
      ]
     },
     "execution_count": 3,
     "metadata": {},
     "output_type": "execute_result"
    }
   ],
   "source": [
    "# 1-2. *.gz 추출\n",
    "# 1-2-1. HTML을 검사하여 *.gz를 특정한다(css selector or xpath)\n",
    "files = list()\n",
    "for tt in soup.select('tt')[:4]:\n",
    "    # 1-2-2 : *.gz 추출\n",
    "    #print( tt.a.string )\n",
    "    # 1-2-3 : 다운로드가 가능한 완전한 형태의 URL로 추출->조사\n",
    "    # http://yann.lecun.com/exdb/mnist/train-images-idx3-ubyte.gz\n",
    "    # 다음 단계에서 연속적으로 다운로드 받기 쉽게 하기 위해 \n",
    "    # 리스트로 구성했다\n",
    "    files.append( tt.a.string)\n",
    "files"
   ]
  },
  {
   "cell_type": "markdown",
   "metadata": {},
   "source": [
    "## 2. 압축 데이터 다운로드 \n",
    "\n",
    "- *.gz 파일(파일 덩어리)을 원하는 위치에 다운로드 한다"
   ]
  },
  {
   "cell_type": "code",
   "execution_count": 4,
   "metadata": {},
   "outputs": [],
   "source": [
    "# 2-1. 모듈 가져오기\n",
    "import os, os.path"
   ]
  },
  {
   "cell_type": "code",
   "execution_count": 5,
   "metadata": {},
   "outputs": [],
   "source": [
    "# 2-2. 저장된 파일 위치 선정\n",
    "savedPath = './data/mnist'\n",
    "# 2-2-1. 해당 디렉토리가 없으면 생성하라\n",
    "# 2-2-1-1. 폴더 체크, False 상황을 잡는다\n",
    "if not os.path.exists(savedPath):\n",
    "    # 2-2-1-2. 디렉토리 생성\n",
    "    os.makedirs( savedPath )\n",
    "    print('디렉토리 생성')"
   ]
  },
  {
   "cell_type": "code",
   "execution_count": 6,
   "metadata": {},
   "outputs": [
    {
     "name": "stdout",
     "output_type": "stream",
     "text": [
      "error [WinError 183] 파일이 이미 있으므로 만들 수 없습니다: './data/mnist'\n",
      "무조건 수행\n"
     ]
    }
   ],
   "source": [
    "try:\n",
    "    os.makedirs( savedPath )\n",
    "except Exception as e:\n",
    "    print('error', e)\n",
    "else:\n",
    "    print('정상적으로 디렉토리를 생성했다')\n",
    "finally:\n",
    "    print('무조건 수행')"
   ]
  },
  {
   "cell_type": "code",
   "execution_count": 7,
   "metadata": {},
   "outputs": [
    {
     "name": "stdout",
     "output_type": "stream",
     "text": [
      "4.42.1\n"
     ]
    },
    {
     "data": {
      "application/vnd.jupyter.widget-view+json": {
       "model_id": "90d52e66e75c4c7da6bc8790871d72d9",
       "version_major": 2,
       "version_minor": 0
      },
      "text/plain": [
       "HBox(children=(FloatProgress(value=0.0, max=4.0), HTML(value='')))"
      ]
     },
     "metadata": {},
     "output_type": "display_data"
    },
    {
     "name": "stdout",
     "output_type": "stream",
     "text": [
      "./data/mnist/train-images-idx3-ubyte.gz\n",
      "./data/mnist/train-labels-idx1-ubyte.gz\n",
      "./data/mnist/t10k-images-idx3-ubyte.gz\n",
      "./data/mnist/t10k-labels-idx1-ubyte.gz\n",
      "\n"
     ]
    }
   ],
   "source": [
    "# 2-3. 저장\n",
    "import tqdm.notebook \n",
    "# tqdm은 진행율을 보기 위함\n",
    "print(tqdm.__version__)\n",
    "import urllib.request as req\n",
    "#for file in tqdm.tqdm_notebook(files):\n",
    "for file in tqdm.notebook.tqdm(files):\n",
    "    # 2-3-1. 이미 파일이 존재한다면, 진행하지 않는다\n",
    "    # 중간에 파일이 중단될 경우 문제점이 존재한다\n",
    "    local_path = f'{savedPath}/{file}' \n",
    "    if not os.path.exists( local_path ):\n",
    "        # 파일 저장\n",
    "        req.urlretrieve( target_url+file , local_path )\n",
    "    print( local_path ) "
   ]
  },
  {
   "cell_type": "markdown",
   "metadata": {},
   "source": [
    "## 3. 압축 데이터 압축 해제\n",
    "\n",
    "- gzip 파일 압축 해제\n",
    "- train-images-idx3-ubyte.gz => 압축해제 => train-images-idx3-ubyte"
   ]
  },
  {
   "cell_type": "code",
   "execution_count": 8,
   "metadata": {},
   "outputs": [],
   "source": [
    "# 3-1. 모듈가져오기\n",
    "import gzip\n",
    "import tqdm"
   ]
  },
  {
   "cell_type": "code",
   "execution_count": 9,
   "metadata": {},
   "outputs": [
    {
     "name": "stderr",
     "output_type": "stream",
     "text": [
      "C:\\ProgramData\\Anaconda3\\lib\\site-packages\\ipykernel_launcher.py:2: TqdmDeprecationWarning: This function will be removed in tqdm==5.0.0\n",
      "Please use `tqdm.notebook.tqdm` instead of `tqdm.tqdm_notebook`\n",
      "  \n"
     ]
    },
    {
     "data": {
      "application/vnd.jupyter.widget-view+json": {
       "model_id": "8711ef6e1be64e378066fd87cb69404b",
       "version_major": 2,
       "version_minor": 0
      },
      "text/plain": [
       "HBox(children=(FloatProgress(value=0.0, max=4.0), HTML(value='')))"
      ]
     },
     "metadata": {},
     "output_type": "display_data"
    },
    {
     "name": "stdout",
     "output_type": "stream",
     "text": [
      "./data/mnist/train-images-idx3-ubyte\n",
      "./data/mnist/train-labels-idx1-ubyte\n",
      "./data/mnist/t10k-images-idx3-ubyte\n",
      "./data/mnist/t10k-labels-idx1-ubyte\n",
      "\n"
     ]
    }
   ],
   "source": [
    "# 3-2. 반복적으로 압축파일을 풀어서 기록한다\n",
    "for file in tqdm.tqdm_notebook(files):\n",
    "    # 3-2-1. 원본파일 경로\n",
    "    ori_path = f'{savedPath}/{file}' \n",
    "    # 3-2-2. 대상파일 경로\n",
    "    raw_path = f'{savedPath}/{file[:-3]}'\n",
    "    # 3-2-3. 압축파일 오픈=> I/O => with => 자동 close()\n",
    "    with gzip.open(ori_path, 'rb') as fg:\n",
    "        # 3-2-3-1. 읽기\n",
    "        tmp = fg.read()\n",
    "        # 3-2-3-2. 저장될 파일을 열어서\n",
    "        with open(raw_path, 'wb') as f:\n",
    "            # 3-2-3-2-1. 기록한다\n",
    "            f.write( tmp )\n",
    "    \n",
    "    print( raw_path )"
   ]
  },
  {
   "cell_type": "markdown",
   "metadata": {},
   "source": [
    "## 4. 데이터 디코딩\n",
    "\n",
    "- 데이터를 읽어서 *.csv에 저장한다\n",
    "- 데이터는 2종류\n",
    "    - 이미지 파일들을 뭉쳐 놓은  파일 (훈련용 데이터)\n",
    "    - 레이블 데이터들을 뭉쳐 놓은  파일 (정답데이터)\n",
    "    - 스타일 (훈련용, 테스트용으로 구분)\n",
    "- 레이블 파일 포멧\n",
    "    - 기본적으로 모든 정수값은 (high(big) endian)으로 기록되어 있다\n",
    "    - > : 빅에디안\n",
    "    - 최초 4바이트는 매직코드(이파일은 XX 파일이다라는 표식)\n",
    "    - 그다음 4바이트 데이터의 총개수\n",
    "    - 그다음부터 1바이트는 정답 데이터( 0 ~ 9 )\n",
    "    - 이것을 읽어서 csv에 기록한다"
   ]
  },
  {
   "cell_type": "markdown",
   "metadata": {},
   "source": [
    "- 0x12345678, 빅에디언으로 메모리에 기록\n",
    "\n",
    "|주소|...|0x100|0x101|0x102|0x103|...|\n",
    "|:--:|:--:|:--:|:--:|:--:|:--:|:--:|\n",
    "|값|...|0x12|0x34|0x56|0x78|...|"
   ]
  },
  {
   "cell_type": "markdown",
   "metadata": {},
   "source": [
    "- 0x12345678, 리틀 에디언으로 메모리에 기록\n",
    "\n",
    "|주소|...|0x100|0x101|0x102|0x103|...|\n",
    "|:--:|:--:|:--:|:--:|:--:|:--:|:--:|\n",
    "|값|...|0x78|0x56|0x34|0x12|...|"
   ]
  },
  {
   "cell_type": "code",
   "execution_count": 10,
   "metadata": {},
   "outputs": [],
   "source": [
    "# 4-1. 모듈가져오기\n",
    "import struct"
   ]
  },
  {
   "cell_type": "code",
   "execution_count": 11,
   "metadata": {},
   "outputs": [
    {
     "name": "stdout",
     "output_type": "stream",
     "text": [
      "(2049,)\n",
      "60000\n"
     ]
    }
   ],
   "source": [
    "# 디코딩 => *.csv\n",
    "# 4-2파일 오픈, 기본 모드는 읽기모드 \n",
    "with open('./data/mnist/train-labels-idx1-ubyte', 'rb') as f:\n",
    "    # 4-2-1. 매직코드 읽기 => 4 byte\n",
    "    # > : 빅에디안, < : 리틀 에디안\n",
    "    # I : 4바이트 읽는 표식\n",
    "    magic_code = struct.unpack('>I', f.read(4))\n",
    "    print( magic_code )\n",
    "    # 4-2-2. 아이템의 개수 읽기 => 4 byte\n",
    "    label_count = struct.unpack('>I', f.read(4))\n",
    "    print( label_count[0] )\n",
    "    # 4-2-3. 아이템(정답, label) 읽기 => 개수만큼 => for문 => 1 byte\n",
    "        # 4-2-3-1. csv에 기록    \n",
    "    pass "
   ]
  },
  {
   "cell_type": "code",
   "execution_count": 12,
   "metadata": {},
   "outputs": [
    {
     "name": "stdout",
     "output_type": "stream",
     "text": [
      "60000\n"
     ]
    }
   ],
   "source": [
    "# 4바이트를 2(II)번 읽어서 한번에 각각 값을 추출하겟다\n",
    "with open('./data/mnist/train-labels-idx1-ubyte', 'rb') as f:\n",
    "    mgic_code, label_count = struct.unpack('>II', f.read(8))     \n",
    "    print( label_count )\n",
    "    pass "
   ]
  },
  {
   "cell_type": "code",
   "execution_count": 13,
   "metadata": {},
   "outputs": [
    {
     "data": {
      "text/plain": [
       "'60008bytes'"
      ]
     },
     "execution_count": 13,
     "metadata": {},
     "output_type": "execute_result"
    }
   ],
   "source": [
    "# train-labels-idx1-ubyte 의 파일 크기는?\n",
    "f'{4 + 4 + 60000}bytes'"
   ]
  },
  {
   "cell_type": "code",
   "execution_count": 14,
   "metadata": {},
   "outputs": [
    {
     "name": "stdout",
     "output_type": "stream",
     "text": [
      "5\n"
     ]
    }
   ],
   "source": [
    "with open('./data/mnist/train-labels-idx1-ubyte', 'rb') as f:\n",
    "    mgic_code, label_count = struct.unpack('>II', f.read(8))     \n",
    "    # 0 <= idx < label_count\n",
    "    for idx in range(label_count):\n",
    "        # 1 Byte 추출 => unsigned byte => 부호없는 바이트 : 0 ~ 255 \n",
    "        (label,)= struct.unpack('B', f.read(1)) \n",
    "        print( label )\n",
    "        break\n",
    "    pass "
   ]
  },
  {
   "cell_type": "code",
   "execution_count": 15,
   "metadata": {},
   "outputs": [],
   "source": [
    "# train-labels-idx1-ubyte.csv에 정답을 추출해서 기록한다(파일생성)\n",
    "with open('./data/mnist/train-labels-idx1-ubyte', 'rb') as f:\n",
    "    # 4-2-0-1. csv 파일 오픈\n",
    "    with open( f'{savedPath}/train-labels-idx1-ubyte.csv','w' ) as fp:\n",
    "        \n",
    "        mgic_code, label_count = struct.unpack('>II', f.read(8))     \n",
    "        for idx in range(label_count):        \n",
    "            (label,) = struct.unpack('B', f.read(1)) \n",
    "            # csv 파일에 기록, int->str, '\\n' :줄바꿈\n",
    "            fp.write( str(label) + '\\n' )\n",
    "            #break\n",
    "        pass "
   ]
  },
  {
   "cell_type": "code",
   "execution_count": 16,
   "metadata": {},
   "outputs": [
    {
     "data": {
      "text/plain": [
       "47040016"
      ]
     },
     "execution_count": 16,
     "metadata": {},
     "output_type": "execute_result"
    }
   ],
   "source": [
    "# 이미지 데이터의 크기\n",
    "# 4 byte : magic code\n",
    "# 4 byte: image 개수\n",
    "# 4 byte: 이미지의 h\n",
    "# 4 byte: 이미지의 w\n",
    "# 28 pixel: 이미지의 가로크기, 세로크기 => 읽어서 알게 된 값\n",
    "# 60000 개: image 개수를 읽어서 알게 된 값\n",
    "4 + 4 + 4 + 4 + (28*28*60000)"
   ]
  },
  {
   "cell_type": "code",
   "execution_count": 17,
   "metadata": {},
   "outputs": [
    {
     "name": "stdout",
     "output_type": "stream",
     "text": [
      "2051 60000 28 28\n"
     ]
    }
   ],
   "source": [
    "# 이미지가 뭉쳐서 있는 덩어리 파일 오픈\n",
    "with open('./data/mnist/train-images-idx3-ubyte', 'rb') as f:\n",
    "    # 1. magic code, 이미지개수, 이미지의 높이, 이미지의 가로\n",
    "    #    기호 : >IIII\n",
    "    _, imgCnts, img_h, img_w = struct.unpack('>IIII', f.read(4*4))\n",
    "    print( _, imgCnts, img_h, img_w  ) \n",
    "    pass"
   ]
  },
  {
   "cell_type": "code",
   "execution_count": 18,
   "metadata": {},
   "outputs": [
    {
     "name": "stdout",
     "output_type": "stream",
     "text": [
      "b\"\\x00\\x00\\x00\\x00\\x00\\x00\\x00\\x00\\x00\\x00\\x00\\x00\\x00\\x00\\x00\\x00\\x00\\x00\\x00\\x00\\x00\\x00\\x00\\x00\\x00\\x00\\x00\\x00\\x00\\x00\\x00\\x00\\x00\\x00\\x00\\x00\\x00\\x00\\x00\\x00\\x00\\x00\\x00\\x00\\x00\\x00\\x00\\x00\\x00\\x00\\x00\\x00\\x00\\x00\\x00\\x00\\x00\\x00\\x00\\x00\\x00\\x00\\x00\\x00\\x00\\x00\\x00\\x00\\x00\\x00\\x00\\x00\\x00\\x00\\x00\\x00\\x00\\x00\\x00\\x00\\x00\\x00\\x00\\x00\\x00\\x00\\x00\\x00\\x00\\x00\\x00\\x00\\x00\\x00\\x00\\x00\\x00\\x00\\x00\\x00\\x00\\x00\\x00\\x00\\x00\\x00\\x00\\x00\\x00\\x00\\x00\\x00\\x00\\x00\\x00\\x00\\x00\\x00\\x00\\x00\\x00\\x00\\x00\\x00\\x00\\x00\\x00\\x00\\x00\\x00\\x00\\x00\\x00\\x00\\x00\\x00\\x00\\x00\\x00\\x00\\x00\\x00\\x00\\x00\\x00\\x00\\x00\\x00\\x00\\x00\\x00\\x00\\x03\\x12\\x12\\x12~\\x88\\xaf\\x1a\\xa6\\xff\\xf7\\x7f\\x00\\x00\\x00\\x00\\x00\\x00\\x00\\x00\\x00\\x00\\x00\\x00\\x1e$^\\x9a\\xaa\\xfd\\xfd\\xfd\\xfd\\xfd\\xe1\\xac\\xfd\\xf2\\xc3@\\x00\\x00\\x00\\x00\\x00\\x00\\x00\\x00\\x00\\x00\\x001\\xee\\xfd\\xfd\\xfd\\xfd\\xfd\\xfd\\xfd\\xfd\\xfb]RR8'\\x00\\x00\\x00\\x00\\x00\\x00\\x00\\x00\\x00\\x00\\x00\\x00\\x12\\xdb\\xfd\\xfd\\xfd\\xfd\\xfd\\xc6\\xb6\\xf7\\xf1\\x00\\x00\\x00\\x00\\x00\\x00\\x00\\x00\\x00\\x00\\x00\\x00\\x00\\x00\\x00\\x00\\x00\\x00P\\x9ck\\xfd\\xfd\\xcd\\x0b\\x00+\\x9a\\x00\\x00\\x00\\x00\\x00\\x00\\x00\\x00\\x00\\x00\\x00\\x00\\x00\\x00\\x00\\x00\\x00\\x00\\x00\\x0e\\x01\\x9a\\xfdZ\\x00\\x00\\x00\\x00\\x00\\x00\\x00\\x00\\x00\\x00\\x00\\x00\\x00\\x00\\x00\\x00\\x00\\x00\\x00\\x00\\x00\\x00\\x00\\x00\\x00\\x8b\\xfd\\xbe\\x02\\x00\\x00\\x00\\x00\\x00\\x00\\x00\\x00\\x00\\x00\\x00\\x00\\x00\\x00\\x00\\x00\\x00\\x00\\x00\\x00\\x00\\x00\\x00\\x00\\x0b\\xbe\\xfdF\\x00\\x00\\x00\\x00\\x00\\x00\\x00\\x00\\x00\\x00\\x00\\x00\\x00\\x00\\x00\\x00\\x00\\x00\\x00\\x00\\x00\\x00\\x00\\x00\\x00#\\xf1\\xe1\\xa0l\\x01\\x00\\x00\\x00\\x00\\x00\\x00\\x00\\x00\\x00\\x00\\x00\\x00\\x00\\x00\\x00\\x00\\x00\\x00\\x00\\x00\\x00\\x00\\x00Q\\xf0\\xfd\\xfdw\\x19\\x00\\x00\\x00\\x00\\x00\\x00\\x00\\x00\\x00\\x00\\x00\\x00\\x00\\x00\\x00\\x00\\x00\\x00\\x00\\x00\\x00\\x00\\x00-\\xba\\xfd\\xfd\\x96\\x1b\\x00\\x00\\x00\\x00\\x00\\x00\\x00\\x00\\x00\\x00\\x00\\x00\\x00\\x00\\x00\\x00\\x00\\x00\\x00\\x00\\x00\\x00\\x00\\x10]\\xfc\\xfd\\xbb\\x00\\x00\\x00\\x00\\x00\\x00\\x00\\x00\\x00\\x00\\x00\\x00\\x00\\x00\\x00\\x00\\x00\\x00\\x00\\x00\\x00\\x00\\x00\\x00\\x00\\xf9\\xfd\\xf9@\\x00\\x00\\x00\\x00\\x00\\x00\\x00\\x00\\x00\\x00\\x00\\x00\\x00\\x00\\x00\\x00\\x00\\x00\\x00\\x00\\x00.\\x82\\xb7\\xfd\\xfd\\xcf\\x02\\x00\\x00\\x00\\x00\\x00\\x00\\x00\\x00\\x00\\x00\\x00\\x00\\x00\\x00\\x00\\x00\\x00\\x00\\x00'\\x94\\xe5\\xfd\\xfd\\xfd\\xfa\\xb6\\x00\\x00\\x00\\x00\\x00\\x00\\x00\\x00\\x00\\x00\\x00\\x00\\x00\\x00\\x00\\x00\\x00\\x00\\x18r\\xdd\\xfd\\xfd\\xfd\\xfd\\xc9N\\x00\\x00\\x00\\x00\\x00\\x00\\x00\\x00\\x00\\x00\\x00\\x00\\x00\\x00\\x00\\x00\\x00\\x17B\\xd5\\xfd\\xfd\\xfd\\xfd\\xc6Q\\x02\\x00\\x00\\x00\\x00\\x00\\x00\\x00\\x00\\x00\\x00\\x00\\x00\\x00\\x00\\x00\\x00\\x12\\xab\\xdb\\xfd\\xfd\\xfd\\xfd\\xc3P\\t\\x00\\x00\\x00\\x00\\x00\\x00\\x00\\x00\\x00\\x00\\x00\\x00\\x00\\x00\\x00\\x007\\xac\\xe2\\xfd\\xfd\\xfd\\xfd\\xf4\\x85\\x0b\\x00\\x00\\x00\\x00\\x00\\x00\\x00\\x00\\x00\\x00\\x00\\x00\\x00\\x00\\x00\\x00\\x00\\x00\\x88\\xfd\\xfd\\xfd\\xd4\\x87\\x84\\x10\\x00\\x00\\x00\\x00\\x00\\x00\\x00\\x00\\x00\\x00\\x00\\x00\\x00\\x00\\x00\\x00\\x00\\x00\\x00\\x00\\x00\\x00\\x00\\x00\\x00\\x00\\x00\\x00\\x00\\x00\\x00\\x00\\x00\\x00\\x00\\x00\\x00\\x00\\x00\\x00\\x00\\x00\\x00\\x00\\x00\\x00\\x00\\x00\\x00\\x00\\x00\\x00\\x00\\x00\\x00\\x00\\x00\\x00\\x00\\x00\\x00\\x00\\x00\\x00\\x00\\x00\\x00\\x00\\x00\\x00\\x00\\x00\\x00\\x00\\x00\\x00\\x00\\x00\\x00\\x00\\x00\\x00\\x00\\x00\\x00\\x00\\x00\\x00\\x00\\x00\\x00\\x00\\x00\\x00\\x00\\x00\\x00\\x00\\x00\\x00\"\n"
     ]
    }
   ],
   "source": [
    "with open('./data/mnist/train-images-idx3-ubyte', 'rb') as f:\n",
    "    _, imgCnts, img_h, img_w = struct.unpack('>IIII', f.read(4*4))\n",
    "    # 이미지 1개 총 데이터크기, 총 픽셀의 개수\n",
    "    pixels = img_h*img_w\n",
    "    for idx in range(imgCnts):\n",
    "        # 이미지를 파일로 저장, pgm 파일\n",
    "        # 이미지 1개당 데이터크기는? img_h*img_w\n",
    "        header = 'P2 28 28 255\\n'\n",
    "        # 1 byte단위로 pixel만큼 읽어야 하는데, 데이터 자체가 1ubyte\n",
    "        # 이므로 오더링이 필요없다. 그래서 한번에 다 읽는다\n",
    "        body   = f.read(pixels)\n",
    "        # body를 봣더닌 bytes로 표현된 문자열이다 => 한\n",
    "        #src    = header + body\n",
    "        print( body )\n",
    "        #with open('test.pgm', 'w', encoding='utf-8') as fp:\n",
    "        #    fp.write( src )        \n",
    "        break"
   ]
  },
  {
   "cell_type": "code",
   "execution_count": null,
   "metadata": {},
   "outputs": [],
   "source": []
  },
  {
   "cell_type": "code",
   "execution_count": null,
   "metadata": {},
   "outputs": [],
   "source": []
  },
  {
   "cell_type": "code",
   "execution_count": null,
   "metadata": {},
   "outputs": [],
   "source": []
  },
  {
   "cell_type": "code",
   "execution_count": null,
   "metadata": {},
   "outputs": [],
   "source": []
  },
  {
   "cell_type": "code",
   "execution_count": 19,
   "metadata": {},
   "outputs": [
    {
     "data": {
      "text/plain": [
       "2"
      ]
     },
     "execution_count": 19,
     "metadata": {},
     "output_type": "execute_result"
    }
   ],
   "source": [
    "tmp = (1, 2)\n",
    "tmp[1]"
   ]
  },
  {
   "cell_type": "code",
   "execution_count": 20,
   "metadata": {},
   "outputs": [
    {
     "data": {
      "text/plain": [
       "2"
      ]
     },
     "execution_count": 20,
     "metadata": {},
     "output_type": "execute_result"
    }
   ],
   "source": [
    "# 튜플을 분해해서 가각 변수에 담아라\n",
    "a, b = (1, 2)\n",
    "b"
   ]
  },
  {
   "cell_type": "code",
   "execution_count": null,
   "metadata": {},
   "outputs": [],
   "source": []
  },
  {
   "cell_type": "code",
   "execution_count": null,
   "metadata": {},
   "outputs": [],
   "source": []
  },
  {
   "cell_type": "markdown",
   "metadata": {},
   "source": [
    "- java primitive type(원시 타입)\n",
    "    - byte : -2^7  ~ 2^7-1\n",
    "    - short: -2^15 ~ 2^15-1\n",
    "    - int  : -2^31 ~ 2^31-1\n",
    "    - long : -2^63 ~ 2^63-1\n",
    "    - float: -2^31 ~ 2^31-1\n",
    "    - double: -2^63 ~ 2^63-1\n",
    "    - boolean: 1 bit\n",
    "    - char:    0 ~ 2^16-1 : 유일하게 모든 값이 양수"
   ]
  },
  {
   "cell_type": "code",
   "execution_count": null,
   "metadata": {},
   "outputs": [],
   "source": []
  },
  {
   "cell_type": "code",
   "execution_count": null,
   "metadata": {},
   "outputs": [],
   "source": []
  },
  {
   "cell_type": "code",
   "execution_count": null,
   "metadata": {},
   "outputs": [],
   "source": []
  },
  {
   "cell_type": "code",
   "execution_count": null,
   "metadata": {},
   "outputs": [],
   "source": []
  },
  {
   "cell_type": "code",
   "execution_count": null,
   "metadata": {},
   "outputs": [],
   "source": []
  },
  {
   "cell_type": "code",
   "execution_count": null,
   "metadata": {},
   "outputs": [],
   "source": []
  }
 ],
 "metadata": {
  "kernelspec": {
   "display_name": "Python 3",
   "language": "python",
   "name": "python3"
  },
  "language_info": {
   "codemirror_mode": {
    "name": "ipython",
    "version": 3
   },
   "file_extension": ".py",
   "mimetype": "text/x-python",
   "name": "python",
   "nbconvert_exporter": "python",
   "pygments_lexer": "ipython3",
   "version": "3.7.6"
  }
 },
 "nbformat": 4,
 "nbformat_minor": 4
}
