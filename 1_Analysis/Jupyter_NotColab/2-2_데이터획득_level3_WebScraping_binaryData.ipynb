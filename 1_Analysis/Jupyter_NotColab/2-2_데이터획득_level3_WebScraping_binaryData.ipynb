{
  "nbformat": 4,
  "nbformat_minor": 0,
  "metadata": {
    "kernelspec": {
      "display_name": "Python 3",
      "language": "python",
      "name": "python3"
    },
    "language_info": {
      "codemirror_mode": {
        "name": "ipython",
        "version": 3
      },
      "file_extension": ".py",
      "mimetype": "text/x-python",
      "name": "python",
      "nbconvert_exporter": "python",
      "pygments_lexer": "ipython3",
      "version": "3.7.6"
    },
    "colab": {
      "name": "2-2_데이터획득_level3_WebScraping_binaryData.ipynb",
      "provenance": [],
      "collapsed_sections": [],
      "include_colab_link": true
    }
  },
  "cells": [
    {
      "cell_type": "markdown",
      "metadata": {
        "id": "view-in-github",
        "colab_type": "text"
      },
      "source": [
        "<a href=\"https://colab.research.google.com/github/jkjh23/2020_AI_Busan/blob/master/1_Analysis/Jupyter_NotColab/2-2_%EB%8D%B0%EC%9D%B4%ED%84%B0%ED%9A%8D%EB%93%9D_level3_WebScraping_binaryData.ipynb\" target=\"_parent\"><img src=\"https://colab.research.google.com/assets/colab-badge.svg\" alt=\"Open In Colab\"/></a>"
      ]
    },
    {
      "cell_type": "markdown",
      "metadata": {
        "id": "oXhEWFkoWgmg",
        "colab_type": "text"
      },
      "source": [
        "# 웹스크래핑 고급\n",
        "\n",
        "- 웹사이트에서 바이너리 데이터를 직접 원하는 위치에 다운로드\n",
        "    - http://yann.lecun.com/exdb/mnist/\n",
        "- 압축 해제\n",
        "- 바이너리 데이터 디코딩 처리\n",
        "    - 전제 : 바이너리 데이터의 구조(포맷)을 알고 있음"
      ]
    },
    {
      "cell_type": "markdown",
      "metadata": {
        "id": "LSx7T3FpWgmj",
        "colab_type": "text"
      },
      "source": [
        "<p align=\"center\"><img src=\"https://drive.google.com/uc?id=1TYMO5D1WbVUNUZpnBZ7KiePRwwvbGfRx\" width=\"100%\">"
      ]
    },
    {
      "cell_type": "markdown",
      "metadata": {
        "id": "G_Lo8tI2Wgmk",
        "colab_type": "text"
      },
      "source": [
        "## 1. 데이터 수집\n",
        "\n",
        "- 해당 사이트에서 *.gz 링크 4개를 획득하시오"
      ]
    },
    {
      "cell_type": "code",
      "metadata": {
        "id": "bjxY_I5RWgmm",
        "colab_type": "code",
        "colab": {}
      },
      "source": [
        "# 1-1. soup 생성\n",
        "# (1) 모듈 가져오기\n",
        "from bs4 import BeautifulSoup\n",
        "from urllib.request import urlopen\n",
        "# (2) 요청(해당 사이트)\n",
        "target_url = \"http://yann.lecun.com/exdb/mnist/\"\n",
        "res = urlopen(target_url)\n",
        "# (3) soup 생성\n",
        "soup = BeautifulSoup(res, 'html5lib')"
      ],
      "execution_count": null,
      "outputs": []
    },
    {
      "cell_type": "markdown",
      "metadata": {
        "id": "7N8QlIlXWgmu",
        "colab_type": "text"
      },
      "source": [
        "<p align=\"center\"><img src=\"https://drive.google.com/uc?id=1oeIZgddm4UO9zEcPjjGmZrda9bdYRQ5g\" width=\"100%\">"
      ]
    },
    {
      "cell_type": "code",
      "metadata": {
        "id": "bw5rGTZTWgmv",
        "colab_type": "code",
        "colab": {},
        "outputId": "ec9dc9e9-b4e1-4d71-bd99-dc4c71dfa766"
      },
      "source": [
        "# 1-2. *.gz 추출\n",
        "\n",
        "# (1) html을 검사하여 *.gz를 특정(css selector 또는 xpath)\n",
        "files = list()\n",
        "\n",
        "for tt in soup.select('tt')[:4] :\n",
        "    # (2) *.gz 추출\n",
        "    print(tt.a.string)\n",
        "    # (3) 다운로드가 가능한 완전한 형태의 URL로 추출 → 조사\n",
        "    # 다음 단계에서 연속적으로 다운로드 받기 쉽게 만들기 위해 리스트로 구성함\n",
        "    print(target_url + tt.a.string)\n",
        "    files.append(target_url + tt.a.string)\n",
        "    \n",
        "files"
      ],
      "execution_count": null,
      "outputs": [
        {
          "output_type": "stream",
          "text": [
            "train-images-idx3-ubyte.gz\n",
            "http://yann.lecun.com/exdb/mnist/train-images-idx3-ubyte.gz\n",
            "train-labels-idx1-ubyte.gz\n",
            "http://yann.lecun.com/exdb/mnist/train-labels-idx1-ubyte.gz\n",
            "t10k-images-idx3-ubyte.gz\n",
            "http://yann.lecun.com/exdb/mnist/t10k-images-idx3-ubyte.gz\n",
            "t10k-labels-idx1-ubyte.gz\n",
            "http://yann.lecun.com/exdb/mnist/t10k-labels-idx1-ubyte.gz\n"
          ],
          "name": "stdout"
        },
        {
          "output_type": "execute_result",
          "data": {
            "text/plain": [
              "['http://yann.lecun.com/exdb/mnist/train-images-idx3-ubyte.gz',\n",
              " 'http://yann.lecun.com/exdb/mnist/train-labels-idx1-ubyte.gz',\n",
              " 'http://yann.lecun.com/exdb/mnist/t10k-images-idx3-ubyte.gz',\n",
              " 'http://yann.lecun.com/exdb/mnist/t10k-labels-idx1-ubyte.gz']"
            ]
          },
          "metadata": {
            "tags": []
          },
          "execution_count": 115
        }
      ]
    },
    {
      "cell_type": "code",
      "metadata": {
        "id": "kQ9RvOKeWgm0",
        "colab_type": "code",
        "colab": {},
        "outputId": "c07e70cf-fb4a-4144-d64d-0bb6d7768cb7"
      },
      "source": [
        "# line 68에 쓰기 위해 files 리스트 변경\n",
        "\n",
        "files = list()\n",
        "\n",
        "for tt in soup.select('tt')[:4] :\n",
        "    print(tt.a.string)\n",
        "    print(target_url + tt.a.string)\n",
        "    files.append(tt.a.string)\n",
        "    \n",
        "files"
      ],
      "execution_count": null,
      "outputs": [
        {
          "output_type": "stream",
          "text": [
            "train-images-idx3-ubyte.gz\n",
            "http://yann.lecun.com/exdb/mnist/train-images-idx3-ubyte.gz\n",
            "train-labels-idx1-ubyte.gz\n",
            "http://yann.lecun.com/exdb/mnist/train-labels-idx1-ubyte.gz\n",
            "t10k-images-idx3-ubyte.gz\n",
            "http://yann.lecun.com/exdb/mnist/t10k-images-idx3-ubyte.gz\n",
            "t10k-labels-idx1-ubyte.gz\n",
            "http://yann.lecun.com/exdb/mnist/t10k-labels-idx1-ubyte.gz\n"
          ],
          "name": "stdout"
        },
        {
          "output_type": "execute_result",
          "data": {
            "text/plain": [
              "['train-images-idx3-ubyte.gz',\n",
              " 'train-labels-idx1-ubyte.gz',\n",
              " 't10k-images-idx3-ubyte.gz',\n",
              " 't10k-labels-idx1-ubyte.gz']"
            ]
          },
          "metadata": {
            "tags": []
          },
          "execution_count": 116
        }
      ]
    },
    {
      "cell_type": "markdown",
      "metadata": {
        "id": "xIN8aRotWgm9",
        "colab_type": "text"
      },
      "source": [
        "## 2. 압축 데이터 다운로드\n",
        "\n",
        "- *.gz 파일(파일 덩어리, 청크파일)을 원하는 위치에 다운로드"
      ]
    },
    {
      "cell_type": "code",
      "metadata": {
        "id": "O5wnEpzOWgm-",
        "colab_type": "code",
        "colab": {}
      },
      "source": [
        "# 2-1. 모듈 가져오기\n",
        "# import os, os.path, gzip → 3(1)에서 gzip 땡기기로 함\n",
        "import os, os.path"
      ],
      "execution_count": null,
      "outputs": []
    },
    {
      "cell_type": "code",
      "metadata": {
        "id": "qU15xbBMWgnH",
        "colab_type": "code",
        "colab": {}
      },
      "source": [
        "# 2-2. 저장된 파일 위치 선정\n",
        "savedPath = './data/mnist'\n",
        "\n",
        "# (1) 해당 디렉토리가 없으면 생성\n",
        "# (1-1) 폴더 체크, False 상황 잡음\n",
        "if not os.path.exists(savedPath) :\n",
        "    # (1-2) 디렉토리 생성\n",
        "    os.makedirs(savedPath)\n",
        "    print('디렉토리 생성')"
      ],
      "execution_count": null,
      "outputs": []
    },
    {
      "cell_type": "code",
      "metadata": {
        "id": "BaGhi9E_WgnM",
        "colab_type": "code",
        "colab": {},
        "outputId": "e91c66f6-5e92-495b-c913-e89da15e06af"
      },
      "source": [
        "try :\n",
        "    os.makedirs(savedPath)\n",
        "except Exception as e:\n",
        "    print('error', e)\n",
        "else :\n",
        "    print('정상적으로 디렉토리를 생성하였습니다')\n",
        "finally :\n",
        "    print('무조건 수행')"
      ],
      "execution_count": null,
      "outputs": [
        {
          "output_type": "stream",
          "text": [
            "error [WinError 183] 파일이 이미 있으므로 만들 수 없습니다: './data/mnist'\n",
            "무조건 수행\n"
          ],
          "name": "stdout"
        }
      ]
    },
    {
      "cell_type": "code",
      "metadata": {
        "id": "fMh1jx0XWgnT",
        "colab_type": "code",
        "colab": {
          "referenced_widgets": [
            "0b6f2c70eee6489f9fc67d43dbe81599"
          ]
        },
        "outputId": "090b9994-0e78-4221-aced-a17ad52157f4"
      },
      "source": [
        "# 2-3. 저장\n",
        "# tqdm은 진행율을 보기 위함\n",
        "from tqdm import tqdm_notebook\n",
        "\n",
        "# tqdm 버전 확인\n",
        "# print(tqdm.__version__)\n",
        "\n",
        "for file in files :\n",
        "    print(file)\n",
        "for file in tqdm_notebook(files) :\n",
        "    print(file)"
      ],
      "execution_count": null,
      "outputs": [
        {
          "output_type": "stream",
          "text": [
            "train-images-idx3-ubyte.gz\n",
            "train-labels-idx1-ubyte.gz\n",
            "t10k-images-idx3-ubyte.gz\n",
            "t10k-labels-idx1-ubyte.gz\n"
          ],
          "name": "stdout"
        },
        {
          "output_type": "stream",
          "text": [
            "C:\\ProgramData\\Anaconda3\\lib\\site-packages\\ipykernel_launcher.py:10: TqdmDeprecationWarning: This function will be removed in tqdm==5.0.0\n",
            "Please use `tqdm.notebook.tqdm` instead of `tqdm.tqdm_notebook`\n",
            "  # Remove the CWD from sys.path while we load stuff.\n"
          ],
          "name": "stderr"
        },
        {
          "output_type": "display_data",
          "data": {
            "application/vnd.jupyter.widget-view+json": {
              "model_id": "0b6f2c70eee6489f9fc67d43dbe81599",
              "version_major": 2,
              "version_minor": 0
            },
            "text/plain": [
              "HBox(children=(FloatProgress(value=0.0, max=4.0), HTML(value='')))"
            ]
          },
          "metadata": {
            "tags": []
          }
        },
        {
          "output_type": "stream",
          "text": [
            "train-images-idx3-ubyte.gz\n",
            "train-labels-idx1-ubyte.gz\n",
            "t10k-images-idx3-ubyte.gz\n",
            "t10k-labels-idx1-ubyte.gz\n",
            "\n"
          ],
          "name": "stdout"
        }
      ]
    },
    {
      "cell_type": "code",
      "metadata": {
        "id": "_ImOlsyxWgnb",
        "colab_type": "code",
        "colab": {
          "referenced_widgets": [
            "bcbfa72b915a451fbaf155567a68f76d"
          ]
        },
        "outputId": "0a0ef40e-e047-4f33-ec4a-54ac58496ef2"
      },
      "source": [
        "import tqdm\n",
        "\n",
        "for file in tqdm.notebook.tqdm(files) :\n",
        "    print(file)"
      ],
      "execution_count": null,
      "outputs": [
        {
          "output_type": "display_data",
          "data": {
            "application/vnd.jupyter.widget-view+json": {
              "model_id": "bcbfa72b915a451fbaf155567a68f76d",
              "version_major": 2,
              "version_minor": 0
            },
            "text/plain": [
              "HBox(children=(FloatProgress(value=0.0, max=4.0), HTML(value='')))"
            ]
          },
          "metadata": {
            "tags": []
          }
        },
        {
          "output_type": "stream",
          "text": [
            "train-images-idx3-ubyte.gz\n",
            "train-labels-idx1-ubyte.gz\n",
            "t10k-images-idx3-ubyte.gz\n",
            "t10k-labels-idx1-ubyte.gz\n",
            "\n"
          ],
          "name": "stdout"
        }
      ]
    },
    {
      "cell_type": "code",
      "metadata": {
        "id": "aNi_aYEAWgni",
        "colab_type": "code",
        "colab": {
          "referenced_widgets": [
            "0d8e67a0189244bc95d87a6e39679ed2"
          ]
        },
        "outputId": "702dc82e-a981-402d-e1c2-42906ebe5ab1"
      },
      "source": [
        "import tqdm\n",
        "import urllib.request as req\n",
        "\n",
        "for file in tqdm.notebook.tqdm(files) :\n",
        "    # (1) 이미 파일이 존재한다면 진행하지 않음\n",
        "    # 중간에 파일이 중단될 경우(파일 다운로드가 끊김) 문제점이 존재\n",
        "    local_path = f\"{savedPath}/{file}\"\n",
        "    if not os.path.exists(\"\") :\n",
        "        # 파일 저장\n",
        "        req.urlretrieve(target_url + file, local_path)\n",
        "    print(local_path)"
      ],
      "execution_count": null,
      "outputs": [
        {
          "output_type": "display_data",
          "data": {
            "application/vnd.jupyter.widget-view+json": {
              "model_id": "0d8e67a0189244bc95d87a6e39679ed2",
              "version_major": 2,
              "version_minor": 0
            },
            "text/plain": [
              "HBox(children=(FloatProgress(value=0.0, max=4.0), HTML(value='')))"
            ]
          },
          "metadata": {
            "tags": []
          }
        },
        {
          "output_type": "stream",
          "text": [
            "./data/mnist/train-images-idx3-ubyte.gz\n",
            "./data/mnist/train-labels-idx1-ubyte.gz\n",
            "./data/mnist/t10k-images-idx3-ubyte.gz\n",
            "./data/mnist/t10k-labels-idx1-ubyte.gz\n",
            "\n"
          ],
          "name": "stdout"
        }
      ]
    },
    {
      "cell_type": "markdown",
      "metadata": {
        "id": "9wSq4-LTWgnp",
        "colab_type": "text"
      },
      "source": [
        "## 3. 데이터 압축 해제\n",
        "\n",
        "- gzip 파일 압축 해제\n",
        "- train-images-idx3-ubyte.gz → 압축해제 → train-images-idx3-ubyte"
      ]
    },
    {
      "cell_type": "code",
      "metadata": {
        "id": "wNHltUX3Wgnq",
        "colab_type": "code",
        "colab": {}
      },
      "source": [
        "# (1) 모듈 가져오기\n",
        "import gzip"
      ],
      "execution_count": null,
      "outputs": []
    },
    {
      "cell_type": "code",
      "metadata": {
        "id": "gihN4EC7Wgnx",
        "colab_type": "code",
        "colab": {
          "referenced_widgets": [
            "9aa3bbb1b3e04b5f9f2cccfa8dd59f36"
          ]
        },
        "outputId": "020f695d-e429-4b02-b404-b72ebde4673e"
      },
      "source": [
        "# (2) 반복적으로 압축파일 풀어서 기록\n",
        "for file in tqdm.notebook.tqdm(files) :\n",
        "    # (2-1) 원본파일 경로\n",
        "    ori_path = f\"{savedPath}/{file}\"\n",
        "    # (2-2) 대상파일 경로\n",
        "    raw_path = f\"{savedPath}/{file[:-3]}\"\n",
        "    # (2-3) 압축파일 오픈 → I/O → with → 자동 close()\n",
        "    with gzip.open(ori_path, 'rb') as fg :\n",
        "        # (2-3-1)  읽기\n",
        "        tmp = fg.read()\n",
        "        # (2-3-2) 저장될 파일을 열어서\n",
        "        with open(raw_path, 'wb') as f :\n",
        "            # (2-3-2-1) 기록\n",
        "            f.write(tmp)\n",
        "    \n",
        "    print(ori_path, raw_path)"
      ],
      "execution_count": null,
      "outputs": [
        {
          "output_type": "display_data",
          "data": {
            "application/vnd.jupyter.widget-view+json": {
              "model_id": "9aa3bbb1b3e04b5f9f2cccfa8dd59f36",
              "version_major": 2,
              "version_minor": 0
            },
            "text/plain": [
              "HBox(children=(FloatProgress(value=0.0, max=4.0), HTML(value='')))"
            ]
          },
          "metadata": {
            "tags": []
          }
        },
        {
          "output_type": "stream",
          "text": [
            "./data/mnist/train-images-idx3-ubyte.gz ./data/mnist/train-images-idx3-ubyte\n",
            "./data/mnist/train-labels-idx1-ubyte.gz ./data/mnist/train-labels-idx1-ubyte\n",
            "./data/mnist/t10k-images-idx3-ubyte.gz ./data/mnist/t10k-images-idx3-ubyte\n",
            "./data/mnist/t10k-labels-idx1-ubyte.gz ./data/mnist/t10k-labels-idx1-ubyte\n",
            "\n"
          ],
          "name": "stdout"
        }
      ]
    },
    {
      "cell_type": "markdown",
      "metadata": {
        "id": "Wz9w-Q9bWgn5",
        "colab_type": "text"
      },
      "source": [
        "## 4. 데이터 디코딩\n",
        "\n",
        "- 데이터를 읽어서 *.csv에 저장\n",
        "- 데이터는 2종류\n",
        "    - 이미지 파일을 뭉쳐놓은 파일(훈련용/테스트용 데이터)\n",
        "    - 레이블 데이터를 뭉쳐놓은 파일(정답데이터)\n",
        "    - 스타일(훈련용, 테스트용으로 구분)\n",
        "- 레이블 파일 포맷\n",
        "    - 기본적으로 모든 정수값은 high endian / big endian으로 기록되어 있음\n",
        "    - 최초 4바이트는 매직코드('이 파일은 xxx파일이다'라는 표식)\n",
        "    - 그 다음 4바이트는 데이터의 총 개수\n",
        "    - 그 다음부터 1바이트는 정답 데이터(0부터 9까지)\n",
        "    - 이것을 읽어서 csv(포맷 : 텍스트)에 기록"
      ]
    },
    {
      "cell_type": "markdown",
      "metadata": {
        "id": "sIeZIQ6sWgn6",
        "colab_type": "text"
      },
      "source": [
        "- 0x12345678, 빅에디언으로 메모리에 기록\n",
        "\n",
        "|주소|...|0x100|0x101|0x102|0x103|...|\n",
        "|:--:|:--:|:--:|:--:|:--:|:--:|:--:|\n",
        "|값|...|0x12|0x34|0x56|0x78|...|"
      ]
    },
    {
      "cell_type": "markdown",
      "metadata": {
        "id": "jS2-4R-hWgn8",
        "colab_type": "text"
      },
      "source": [
        "- 0x12345678, 리틀에디언으로 메모리에 기록\n",
        "\n",
        "|주소|...|0x100|0x101|0x102|0x103|...|\n",
        "|:--:|:--:|:--:|:--:|:--:|:--:|:--:|\n",
        "|값|...|0x78|0x56|0x34|0x12|...|"
      ]
    },
    {
      "cell_type": "code",
      "metadata": {
        "id": "fMDoeczhWgn9",
        "colab_type": "code",
        "colab": {}
      },
      "source": [
        "# 4-1. 모듈 가져오기\n",
        "# struct가 binary 담당\n",
        "import struct"
      ],
      "execution_count": null,
      "outputs": []
    },
    {
      "cell_type": "code",
      "metadata": {
        "id": "l4pBeqVkWgoD",
        "colab_type": "code",
        "colab": {},
        "outputId": "827ea6fb-971a-41b5-bc6b-359dc38a9f9b"
      },
      "source": [
        "# 디코딩 → *.csv\n",
        "# 4-2. 파일 오픈, 기본 모드는 읽기모드(r)\n",
        "with open('./data/mnist/train-labels-idx1-ubyte', 'rb') as f:\n",
        "    # (1) 매직코드 읽기 → 4byte\n",
        "    # big endian >, little endian <\n",
        "    # I : 엘 아니고 대문자 아이, 4바이트 읽는 표식\n",
        "    magic_code = struct.unpack('>I', f.read(4))\n",
        "    print(magic_code[0])\n",
        "    # (2) 아이템의 개수 읽기 → 4byte\n",
        "    lablel_count = struct.unpack('>I', f.read(4))\n",
        "    print(lablel_count[0])\n",
        "    # (3) 아이템(정답, label) 읽기 → 개수만큼 → for문 → 1byte\n",
        "    # (3-1) csv에 기록\n",
        "    pass"
      ],
      "execution_count": null,
      "outputs": [
        {
          "output_type": "stream",
          "text": [
            "2049\n",
            "60000\n"
          ],
          "name": "stdout"
        }
      ]
    },
    {
      "cell_type": "code",
      "metadata": {
        "id": "mPBgfbyQWgoJ",
        "colab_type": "code",
        "colab": {},
        "outputId": "e11d81d4-dd36-41db-975a-2970a805d050"
      },
      "source": [
        "# 4바이트를 2번(II) 읽어서 한번에 각각 추출\n",
        "with open('./data/mnist/train-labels-idx1-ubyte', 'rb') as f :\n",
        "    magic_code, label_count = struct.unpack('>II', f.read(8))\n",
        "    print(magic_code)\n",
        "    print(label_count) \n",
        "    pass"
      ],
      "execution_count": null,
      "outputs": [
        {
          "output_type": "stream",
          "text": [
            "2049\n",
            "60000\n"
          ],
          "name": "stdout"
        }
      ]
    },
    {
      "cell_type": "code",
      "metadata": {
        "id": "7wezLdvaWgoS",
        "colab_type": "code",
        "colab": {},
        "outputId": "60139c64-ca77-4343-e80e-edc0ee1f75c4"
      },
      "source": [
        "with open('./data/mnist/train-labels-idx1-ubyte', 'rb') as f :\n",
        "    magic_code, label_count = struct.unpack('>II', f.read(8))\n",
        "    \n",
        "    # 0 <= idx < label_count\n",
        "    for idx in range(label_count) :\n",
        "        # 1 Byte 추출 → unsigned byte → 부호 없는 바이트 : 0 ~ 255 (2^8-1)\n",
        "        label = struct.unpack('B', f.read(1))\n",
        "        print(label[0])\n",
        "        break\n",
        "    pass"
      ],
      "execution_count": null,
      "outputs": [
        {
          "output_type": "stream",
          "text": [
            "5\n"
          ],
          "name": "stdout"
        }
      ]
    },
    {
      "cell_type": "code",
      "metadata": {
        "id": "d6ycxt4WWgoZ",
        "colab_type": "code",
        "colab": {},
        "outputId": "129a5188-90a8-41af-d279-2ea78c1fb6db"
      },
      "source": [
        "# train-labels-idx1-ubyte의 파일 크기는?\n",
        "# magic code + label의 총 개수 + 데이터\n",
        "f'{4 + 4 + 60000}bytes'"
      ],
      "execution_count": null,
      "outputs": [
        {
          "output_type": "execute_result",
          "data": {
            "text/plain": [
              "'60008bytes'"
            ]
          },
          "metadata": {
            "tags": []
          },
          "execution_count": 129
        }
      ]
    },
    {
      "cell_type": "markdown",
      "metadata": {
        "id": "lwJWpYFVWgod",
        "colab_type": "text"
      },
      "source": [
        "<img src=\"https://drive.google.com/uc?id=1TPKek3OXlLPVq8ySjTWpQjtAXPdcmXX6\" width=\"40%\">"
      ]
    },
    {
      "cell_type": "code",
      "metadata": {
        "id": "MEpMQUTeWgoe",
        "colab_type": "code",
        "colab": {}
      },
      "source": [
        "# train-labels-idx1-ubyte.csv에 정답을 추출해서 기록한다(파일생성)\n",
        "with open('./data/mnist/train-labels-idx1-ubyte', 'rb') as f :\n",
        "    # 4-2-0-1. csv 파일 오픈\n",
        "    with open(f\"{savedPath}/train-labels-idx1-ubyte.csv\", 'w') as fp :\n",
        "        magic_code, label_count = struct.unpack('>II', f.read(8))\n",
        "        for idx in range(label_count) :\n",
        "            label = struct.unpack('B', f.read(1))\n",
        "            # print(label)\n",
        "            fp.write(str(label[0]) + '\\n')\n",
        "            break\n",
        "        pass"
      ],
      "execution_count": null,
      "outputs": []
    },
    {
      "cell_type": "code",
      "metadata": {
        "id": "smbx2mgFWgoj",
        "colab_type": "code",
        "colab": {}
      },
      "source": [
        "# 위랑 같은 방법인데 튜플만 분해한 것\n",
        "with open('./data/mnist/train-labels-idx1-ubyte', 'rb') as f :\n",
        "    with open(f\"{savedPath}/train-labels-idx1-ubyte.csv\", 'w') as fp :\n",
        "        magic_code, label_count = struct.unpack('>II', f.read(8))\n",
        "        for idx in range(label_count) :\n",
        "            (label,) = struct.unpack('B', f.read(1))\n",
        "            # print(label)\n",
        "            fp.write(str(label) + '\\n')\n",
        "            #break\n",
        "        pass"
      ],
      "execution_count": null,
      "outputs": []
    },
    {
      "cell_type": "code",
      "metadata": {
        "id": "l5nhk1-RWgon",
        "colab_type": "code",
        "colab": {},
        "outputId": "0c4d7f4e-1110-437b-a791-b91498b70130"
      },
      "source": [
        "# 이미지 데이터의 크기(bytes → 8 곱하면 비트로 변환)\n",
        "# magic code + image 개수 + image의 h + image의 w + (image의 가로크기(px) * image의 세로크기(px) * 60000개)\n",
        "# image의 가로크기/세로크기, 60000 → 읽어서 알게된 값\n",
        "4 + 4 + 4 + 4 + (28 * 28 * 60000)"
      ],
      "execution_count": null,
      "outputs": [
        {
          "output_type": "execute_result",
          "data": {
            "text/plain": [
              "47040016"
            ]
          },
          "metadata": {
            "tags": []
          },
          "execution_count": 132
        }
      ]
    },
    {
      "cell_type": "markdown",
      "metadata": {
        "id": "XcokOKn9Wgor",
        "colab_type": "text"
      },
      "source": [
        "<img src=\"https://drive.google.com/uc?id=1uBIsK1qhN1UTI5fWC1FWx2ZxW0iqXx8P\" width=\"40%\">"
      ]
    },
    {
      "cell_type": "code",
      "metadata": {
        "id": "8UEBOdcUWgos",
        "colab_type": "code",
        "colab": {},
        "outputId": "d3bfceda-882b-40de-fd74-8a48d0c63c95"
      },
      "source": [
        "# 이미지가 뭉쳐서 있는 덩어리 파일 오픈\n",
        "with open('./data/mnist/train-images-idx3-ubyte', 'rb') as f:\n",
        "    # 1. magic code, image 개수, image의 높이/가로 : >IIII\n",
        "    _, imgCnts, img_h, img_w = struct.unpack('>IIII', f.read(4*4))\n",
        "    print(_, imgCnts, img_h, img_w)\n",
        "    pass"
      ],
      "execution_count": null,
      "outputs": [
        {
          "output_type": "stream",
          "text": [
            "2051 60000 28 28\n"
          ],
          "name": "stdout"
        }
      ]
    },
    {
      "cell_type": "code",
      "metadata": {
        "id": "nx4PpSDXWgov",
        "colab_type": "code",
        "colab": {}
      },
      "source": [
        "with open('./data/mnist/train-images-idx3-ubyte', 'rb') as f:\n",
        "    _, imgCnts, img_h, img_w = struct.unpack('>IIII', f.read(4*4))\n",
        "    # 이미지 1개 총 데이터 크기, 총 픽셀의 개수\n",
        "    pixels = img_h * img_w\n",
        "    for idx in range(imgCnts) :\n",
        "        # 이미지를 파일로 저장, pgm 파일\n",
        "        # 이미지 1개당 데이터 크기는? img_h * img_w\n",
        "        header = 'P2 28 28 255\\n'\n",
        "        # 1 byte 단위로 pixel만큼 읽어야 하는데, 데이터 자체가 1 ubyte이므로 ordering이 필요 없음\n",
        "        body = f.read(pixels)\n",
        "        # body를 봤더니 bytes로 표현된 문자열임 → 하나하나를 문자열로 처리 → 문자열 사이사이에 공백 삽입\n",
        "        tmp = list(map(str, body))\n",
        "        # list상에 존재하는 모든 요소를 하나의 문자열로 만드는데 그 사이에 공백을 구분자로 넣어서 한개의 문자열로 만들겠음\n",
        "        src = header + ' '.join(tmp) + '\\n'\n",
        "        with open('test.pgm', 'w', encoding = 'utf-8') as fp :\n",
        "            fp.write(src)\n",
        "        break"
      ],
      "execution_count": null,
      "outputs": []
    },
    {
      "cell_type": "markdown",
      "metadata": {
        "id": "Aqqkff65Wgoz",
        "colab_type": "text"
      },
      "source": [
        "- pgm 뷰어 : http://paulcuth.me.uk/netpbm-viewer/  \n",
        "<img src=\"https://drive.google.com/uc?id=1ZNqVkgIKQl-W2qtgVvZNmxcZkoz8j0aJ\" width=\"30%\">"
      ]
    },
    {
      "cell_type": "code",
      "metadata": {
        "id": "u5djF0sJWgo0",
        "colab_type": "code",
        "colab": {},
        "outputId": "7ef0e7be-41d4-493a-f00c-68075823b600"
      },
      "source": [
        "# a의 구성원을 하나씩 꺼내서 int로 변경해서 list에 담겠다\n",
        "# lambda 함수를 활용\n",
        "a = '123456789'\n",
        "list(map(lambda x : int(x), a))"
      ],
      "execution_count": null,
      "outputs": [
        {
          "output_type": "execute_result",
          "data": {
            "text/plain": [
              "[1, 2, 3, 4, 5, 6, 7, 8, 9]"
            ]
          },
          "metadata": {
            "tags": []
          },
          "execution_count": 140
        }
      ]
    },
    {
      "cell_type": "code",
      "metadata": {
        "id": "CT2FjwCjWgo4",
        "colab_type": "code",
        "colab": {},
        "outputId": "4a9699e8-1a99-4478-feee-19b47d1c4f4a"
      },
      "source": [
        "# 내장함수를 활용\n",
        "list(map(int, a))"
      ],
      "execution_count": null,
      "outputs": [
        {
          "output_type": "execute_result",
          "data": {
            "text/plain": [
              "[1, 2, 3, 4, 5, 6, 7, 8, 9]"
            ]
          },
          "metadata": {
            "tags": []
          },
          "execution_count": 141
        }
      ]
    },
    {
      "cell_type": "code",
      "metadata": {
        "id": "lLfrjp8vWgo9",
        "colab_type": "code",
        "colab": {},
        "outputId": "af1b28b6-214c-4ead-be73-e0089a33169d"
      },
      "source": [
        "# custom 함수 사용\n",
        "def myInt(x) :\n",
        "    return int(x)\n",
        "list(map(myInt, a))"
      ],
      "execution_count": null,
      "outputs": [
        {
          "output_type": "execute_result",
          "data": {
            "text/plain": [
              "[1, 2, 3, 4, 5, 6, 7, 8, 9]"
            ]
          },
          "metadata": {
            "tags": []
          },
          "execution_count": 145
        }
      ]
    },
    {
      "cell_type": "code",
      "metadata": {
        "id": "4Z7YgFf5WgpB",
        "colab_type": "code",
        "colab": {},
        "outputId": "4e046f53-056c-4625-8cb8-e978bfcada56"
      },
      "source": [
        "b = list(a)\n",
        "' '.join(b)"
      ],
      "execution_count": null,
      "outputs": [
        {
          "output_type": "execute_result",
          "data": {
            "text/plain": [
              "'1 2 3 4 5 6 7 8 9'"
            ]
          },
          "metadata": {
            "tags": []
          },
          "execution_count": 155
        }
      ]
    }
  ]
}