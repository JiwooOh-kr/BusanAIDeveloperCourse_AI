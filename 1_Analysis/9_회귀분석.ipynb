{
  "nbformat": 4,
  "nbformat_minor": 0,
  "metadata": {
    "colab": {
      "name": "9_회귀분석.ipynb",
      "provenance": [],
      "collapsed_sections": [],
      "toc_visible": true,
      "include_colab_link": true
    },
    "kernelspec": {
      "name": "python3",
      "display_name": "Python 3"
    }
  },
  "cells": [
    {
      "cell_type": "markdown",
      "metadata": {
        "id": "view-in-github",
        "colab_type": "text"
      },
      "source": [
        "<a href=\"https://colab.research.google.com/github/jkjh23/BusanAIDeveloperCourse_AI/blob/master/1_Analysis/9_%ED%9A%8C%EA%B7%80%EB%B6%84%EC%84%9D.ipynb\" target=\"_parent\"><img src=\"https://colab.research.google.com/assets/colab-badge.svg\" alt=\"Open In Colab\"/></a>"
      ]
    },
    {
      "cell_type": "code",
      "metadata": {
        "id": "1KEU93IqZZIh",
        "outputId": "aadd5aec-170e-412e-eff5-6151d885e4b2",
        "colab": {
          "base_uri": "https://localhost:8080/"
        }
      },
      "source": [
        "from google.colab import drive\n",
        "drive.mount('/content/drive')"
      ],
      "execution_count": 1,
      "outputs": [
        {
          "output_type": "stream",
          "text": [
            "Mounted at /content/drive\n"
          ],
          "name": "stdout"
        }
      ]
    },
    {
      "cell_type": "markdown",
      "metadata": {
        "id": "SJNe7CxaLgnT"
      },
      "source": [
        "# 개요\n"
      ]
    },
    {
      "cell_type": "markdown",
      "metadata": {
        "id": "1TdFWgmOLjWl"
      },
      "source": [
        "- 일반적으로 통계를 기반으로 하는 분석은 R로 주로 이루어졌고 파이썬이 확산되고 pandas가 활성화되면서 파이썬으로도 분석이 많이 진행됨\n",
        "- 파이썬의 장점\n",
        "  - 데이터 분석이라는 분야는 파이썬이라는 바다의 한 파트일 뿐\n",
        "  - 확장성이 매우 大\n",
        "  - 분석을 웹하고 연계해서 서비스를 만들고 싶음\n",
        "    - R에서 웹을? -> 연계성에서 한계점이 존재\n",
        "    - 파이썬에서 웹을? -> OK : Flask(vs nodejs), Django(vs spring) or GUI(C# 활용, 윈도우 프로그램 exe/msi/dmg로 배포)활용\n",
        "    - 파이썬이 머신러닝. 딥러닝의 핵심 언어"
      ]
    },
    {
      "cell_type": "markdown",
      "metadata": {
        "id": "BtSmTNnINEiA"
      },
      "source": [
        "- 분석의 간단한 일반 절차\n",
        "  - 6단계: 연구목표 - 데이터수집 - 데이터준비 - 데이터분석 - 예측모델구축(통계/머신러닝/딥러닝) - 시스템통합(산출물제작)\n",
        "  - 통계모델 => 모델 구축 시 사용한 데이터가 아닌, 한번도 접하지 않은 새로운 데이터를 넣었을 때 예측, 상관분석 등을 통해 나온 결과로 판단\n"
      ]
    },
    {
      "cell_type": "markdown",
      "metadata": {
        "id": "KVpSqhhPK7U1"
      },
      "source": [
        "# 분류 분석\n",
        "- 학습 -> 머신러닝 진행"
      ]
    },
    {
      "cell_type": "markdown",
      "metadata": {
        "id": "qea8b-8SLGQV"
      },
      "source": [
        "# 회귀 분석\n",
        "- 목표\n",
        "  - (두) 변수 사이의 관계를 통계적인 분석으로 통해 방정식(식)을 구하는 것\n",
        "  - 해당 식을 통해서 새로운 데이터를 넣으면 답을 예측 可\n",
        "- 종류\n",
        "  - 단순 선형 회귀 분석 : Simple Linear regression\n",
        "  - 다중 회귀(중회귀) 분석 : Multi regression\n",
        "  - 로지스틱 회귀 분석 : Logisitic regression\n",
        "    - 범주형 데이터, 확률을 예측하는 분석 -> 지분 계산\n",
        "    - softmax 함수"
      ]
    },
    {
      "cell_type": "markdown",
      "metadata": {
        "id": "YzYqbgMMSCnj"
      },
      "source": [
        "## 단순 선형 회귀 분석\n"
      ]
    },
    {
      "cell_type": "markdown",
      "metadata": {
        "id": "d-ZYxvWEWgk6"
      },
      "source": [
        "### 연구 목표\n",
        "1. 알코올(독립변수)이 와인 품질(종속변수)에 미치는 영향/상관관계에 대한 분석, 두 변수 간의 관계를 식으로 표현해 그 영향력을 수치화하고 관계를 시각화\n",
        "2. 개별 독립변수들과 와인 품질에 대해서 1대1로 대응시켜서 어떤 변수가 단순 선형 회귀 분석에 있어서 가장 와인 품질에 영향을 미치는지 분석하고 시각화"
      ]
    },
    {
      "cell_type": "markdown",
      "metadata": {
        "id": "7pIehAGUXBF0"
      },
      "source": [
        "### 데이터 준비(1)"
      ]
    },
    {
      "cell_type": "code",
      "metadata": {
        "id": "z38ywj3xSFm_",
        "outputId": "f1541e6c-d37b-4099-ce52-37fd81d60eb7",
        "colab": {
          "base_uri": "https://localhost:8080/"
        }
      },
      "source": [
        "# 1. 모듈 가져오기\n",
        "import pandas as pd\n",
        "import numpy as np\n",
        "\n",
        "# 파이썬에서 통계분석에 편리한 도구를 제공하는 모듈, 편리한 통계 분석 도구를 제공하는 패키지\n",
        "# https://www.statsmodels.org/stable/index.html\n",
        "import statsmodels.api as sm\n",
        "\n",
        "'''\n",
        "R과 관련된 분석 모형 중\n",
        "  - 검정, 추정\n",
        "  - 회귀분석\n",
        "  - 시계열분석\n",
        "  이런 항목들을 R 스타일로 제공, 방법론이 거의 동일\n",
        "'''\n",
        "\n",
        "# 시각화\n",
        "import matplotlib.pyplot as plt\n",
        "import seaborn as sns"
      ],
      "execution_count": 2,
      "outputs": [
        {
          "output_type": "stream",
          "text": [
            "/usr/local/lib/python3.6/dist-packages/statsmodels/tools/_testing.py:19: FutureWarning: pandas.util.testing is deprecated. Use the functions in the public API at pandas.testing instead.\n",
            "  import pandas.util.testing as tm\n"
          ],
          "name": "stderr"
        }
      ]
    },
    {
      "cell_type": "code",
      "metadata": {
        "id": "TqYQs7A_LPFQ"
      },
      "source": [
        "# 2. 데이터 로드\n",
        "# 레드와인 품질을 결정하는 변수들에 대한 데이터\n",
        "# 독립변수(각종 요인) <-> 종속변수(품질)\n",
        "path = '/content/drive/My Drive/2020_AI_Busan/1_Analysis/data/winequality-red.csv'\n",
        "# path = './winequality-red.csv'\n",
        "wine_qu = pd.read_csv( path, sep=\";\" )"
      ],
      "execution_count": 3,
      "outputs": []
    },
    {
      "cell_type": "markdown",
      "metadata": {
        "id": "3WIJ39IeXKW_"
      },
      "source": [
        "### 데이터 준비(2)"
      ]
    },
    {
      "cell_type": "code",
      "metadata": {
        "id": "qT6LUUqoVfvH",
        "outputId": "4507b4d1-6ac2-4840-bdac-49f8e3f3b950",
        "colab": {
          "base_uri": "https://localhost:8080/",
          "height": 212
        }
      },
      "source": [
        "# 3. 데이터 준비\n",
        "# viewing을 통해 데이터에 대한 통찰\n",
        "wine_qu.head()"
      ],
      "execution_count": 4,
      "outputs": [
        {
          "output_type": "execute_result",
          "data": {
            "text/html": [
              "<div>\n",
              "<style scoped>\n",
              "    .dataframe tbody tr th:only-of-type {\n",
              "        vertical-align: middle;\n",
              "    }\n",
              "\n",
              "    .dataframe tbody tr th {\n",
              "        vertical-align: top;\n",
              "    }\n",
              "\n",
              "    .dataframe thead th {\n",
              "        text-align: right;\n",
              "    }\n",
              "</style>\n",
              "<table border=\"1\" class=\"dataframe\">\n",
              "  <thead>\n",
              "    <tr style=\"text-align: right;\">\n",
              "      <th></th>\n",
              "      <th>fixed acidity</th>\n",
              "      <th>volatile acidity</th>\n",
              "      <th>citric acid</th>\n",
              "      <th>residual sugar</th>\n",
              "      <th>chlorides</th>\n",
              "      <th>free sulfur dioxide</th>\n",
              "      <th>total sulfur dioxide</th>\n",
              "      <th>density</th>\n",
              "      <th>pH</th>\n",
              "      <th>sulphates</th>\n",
              "      <th>alcohol</th>\n",
              "      <th>quality</th>\n",
              "    </tr>\n",
              "  </thead>\n",
              "  <tbody>\n",
              "    <tr>\n",
              "      <th>0</th>\n",
              "      <td>7.4</td>\n",
              "      <td>0.70</td>\n",
              "      <td>0.00</td>\n",
              "      <td>1.9</td>\n",
              "      <td>0.076</td>\n",
              "      <td>11.0</td>\n",
              "      <td>34.0</td>\n",
              "      <td>0.9978</td>\n",
              "      <td>3.51</td>\n",
              "      <td>0.56</td>\n",
              "      <td>9.4</td>\n",
              "      <td>5</td>\n",
              "    </tr>\n",
              "    <tr>\n",
              "      <th>1</th>\n",
              "      <td>7.8</td>\n",
              "      <td>0.88</td>\n",
              "      <td>0.00</td>\n",
              "      <td>2.6</td>\n",
              "      <td>0.098</td>\n",
              "      <td>25.0</td>\n",
              "      <td>67.0</td>\n",
              "      <td>0.9968</td>\n",
              "      <td>3.20</td>\n",
              "      <td>0.68</td>\n",
              "      <td>9.8</td>\n",
              "      <td>5</td>\n",
              "    </tr>\n",
              "    <tr>\n",
              "      <th>2</th>\n",
              "      <td>7.8</td>\n",
              "      <td>0.76</td>\n",
              "      <td>0.04</td>\n",
              "      <td>2.3</td>\n",
              "      <td>0.092</td>\n",
              "      <td>15.0</td>\n",
              "      <td>54.0</td>\n",
              "      <td>0.9970</td>\n",
              "      <td>3.26</td>\n",
              "      <td>0.65</td>\n",
              "      <td>9.8</td>\n",
              "      <td>5</td>\n",
              "    </tr>\n",
              "    <tr>\n",
              "      <th>3</th>\n",
              "      <td>11.2</td>\n",
              "      <td>0.28</td>\n",
              "      <td>0.56</td>\n",
              "      <td>1.9</td>\n",
              "      <td>0.075</td>\n",
              "      <td>17.0</td>\n",
              "      <td>60.0</td>\n",
              "      <td>0.9980</td>\n",
              "      <td>3.16</td>\n",
              "      <td>0.58</td>\n",
              "      <td>9.8</td>\n",
              "      <td>6</td>\n",
              "    </tr>\n",
              "    <tr>\n",
              "      <th>4</th>\n",
              "      <td>7.4</td>\n",
              "      <td>0.70</td>\n",
              "      <td>0.00</td>\n",
              "      <td>1.9</td>\n",
              "      <td>0.076</td>\n",
              "      <td>11.0</td>\n",
              "      <td>34.0</td>\n",
              "      <td>0.9978</td>\n",
              "      <td>3.51</td>\n",
              "      <td>0.56</td>\n",
              "      <td>9.4</td>\n",
              "      <td>5</td>\n",
              "    </tr>\n",
              "  </tbody>\n",
              "</table>\n",
              "</div>"
            ],
            "text/plain": [
              "   fixed acidity  volatile acidity  citric acid  ...  sulphates  alcohol  quality\n",
              "0            7.4              0.70         0.00  ...       0.56      9.4        5\n",
              "1            7.8              0.88         0.00  ...       0.68      9.8        5\n",
              "2            7.8              0.76         0.04  ...       0.65      9.8        5\n",
              "3           11.2              0.28         0.56  ...       0.58      9.8        6\n",
              "4            7.4              0.70         0.00  ...       0.56      9.4        5\n",
              "\n",
              "[5 rows x 12 columns]"
            ]
          },
          "metadata": {
            "tags": []
          },
          "execution_count": 4
        }
      ]
    },
    {
      "cell_type": "code",
      "metadata": {
        "id": "pbXBXrHZUk47",
        "outputId": "6e35374f-9b1c-4589-cd0f-380ccd8df64a",
        "colab": {
          "base_uri": "https://localhost:8080/",
          "height": 212
        }
      },
      "source": [
        "wine_qu.tail()"
      ],
      "execution_count": 5,
      "outputs": [
        {
          "output_type": "execute_result",
          "data": {
            "text/html": [
              "<div>\n",
              "<style scoped>\n",
              "    .dataframe tbody tr th:only-of-type {\n",
              "        vertical-align: middle;\n",
              "    }\n",
              "\n",
              "    .dataframe tbody tr th {\n",
              "        vertical-align: top;\n",
              "    }\n",
              "\n",
              "    .dataframe thead th {\n",
              "        text-align: right;\n",
              "    }\n",
              "</style>\n",
              "<table border=\"1\" class=\"dataframe\">\n",
              "  <thead>\n",
              "    <tr style=\"text-align: right;\">\n",
              "      <th></th>\n",
              "      <th>fixed acidity</th>\n",
              "      <th>volatile acidity</th>\n",
              "      <th>citric acid</th>\n",
              "      <th>residual sugar</th>\n",
              "      <th>chlorides</th>\n",
              "      <th>free sulfur dioxide</th>\n",
              "      <th>total sulfur dioxide</th>\n",
              "      <th>density</th>\n",
              "      <th>pH</th>\n",
              "      <th>sulphates</th>\n",
              "      <th>alcohol</th>\n",
              "      <th>quality</th>\n",
              "    </tr>\n",
              "  </thead>\n",
              "  <tbody>\n",
              "    <tr>\n",
              "      <th>1594</th>\n",
              "      <td>6.2</td>\n",
              "      <td>0.600</td>\n",
              "      <td>0.08</td>\n",
              "      <td>2.0</td>\n",
              "      <td>0.090</td>\n",
              "      <td>32.0</td>\n",
              "      <td>44.0</td>\n",
              "      <td>0.99490</td>\n",
              "      <td>3.45</td>\n",
              "      <td>0.58</td>\n",
              "      <td>10.5</td>\n",
              "      <td>5</td>\n",
              "    </tr>\n",
              "    <tr>\n",
              "      <th>1595</th>\n",
              "      <td>5.9</td>\n",
              "      <td>0.550</td>\n",
              "      <td>0.10</td>\n",
              "      <td>2.2</td>\n",
              "      <td>0.062</td>\n",
              "      <td>39.0</td>\n",
              "      <td>51.0</td>\n",
              "      <td>0.99512</td>\n",
              "      <td>3.52</td>\n",
              "      <td>0.76</td>\n",
              "      <td>11.2</td>\n",
              "      <td>6</td>\n",
              "    </tr>\n",
              "    <tr>\n",
              "      <th>1596</th>\n",
              "      <td>6.3</td>\n",
              "      <td>0.510</td>\n",
              "      <td>0.13</td>\n",
              "      <td>2.3</td>\n",
              "      <td>0.076</td>\n",
              "      <td>29.0</td>\n",
              "      <td>40.0</td>\n",
              "      <td>0.99574</td>\n",
              "      <td>3.42</td>\n",
              "      <td>0.75</td>\n",
              "      <td>11.0</td>\n",
              "      <td>6</td>\n",
              "    </tr>\n",
              "    <tr>\n",
              "      <th>1597</th>\n",
              "      <td>5.9</td>\n",
              "      <td>0.645</td>\n",
              "      <td>0.12</td>\n",
              "      <td>2.0</td>\n",
              "      <td>0.075</td>\n",
              "      <td>32.0</td>\n",
              "      <td>44.0</td>\n",
              "      <td>0.99547</td>\n",
              "      <td>3.57</td>\n",
              "      <td>0.71</td>\n",
              "      <td>10.2</td>\n",
              "      <td>5</td>\n",
              "    </tr>\n",
              "    <tr>\n",
              "      <th>1598</th>\n",
              "      <td>6.0</td>\n",
              "      <td>0.310</td>\n",
              "      <td>0.47</td>\n",
              "      <td>3.6</td>\n",
              "      <td>0.067</td>\n",
              "      <td>18.0</td>\n",
              "      <td>42.0</td>\n",
              "      <td>0.99549</td>\n",
              "      <td>3.39</td>\n",
              "      <td>0.66</td>\n",
              "      <td>11.0</td>\n",
              "      <td>6</td>\n",
              "    </tr>\n",
              "  </tbody>\n",
              "</table>\n",
              "</div>"
            ],
            "text/plain": [
              "      fixed acidity  volatile acidity  citric acid  ...  sulphates  alcohol  quality\n",
              "1594            6.2             0.600         0.08  ...       0.58     10.5        5\n",
              "1595            5.9             0.550         0.10  ...       0.76     11.2        6\n",
              "1596            6.3             0.510         0.13  ...       0.75     11.0        6\n",
              "1597            5.9             0.645         0.12  ...       0.71     10.2        5\n",
              "1598            6.0             0.310         0.47  ...       0.66     11.0        6\n",
              "\n",
              "[5 rows x 12 columns]"
            ]
          },
          "metadata": {
            "tags": []
          },
          "execution_count": 5
        }
      ]
    },
    {
      "cell_type": "code",
      "metadata": {
        "id": "UqjbbO2NUl0J",
        "outputId": "4082751f-577b-48fd-8ba4-60aea2a59443",
        "colab": {
          "base_uri": "https://localhost:8080/"
        }
      },
      "source": [
        "wine_qu.shape"
      ],
      "execution_count": 6,
      "outputs": [
        {
          "output_type": "execute_result",
          "data": {
            "text/plain": [
              "(1599, 12)"
            ]
          },
          "metadata": {
            "tags": []
          },
          "execution_count": 6
        }
      ]
    },
    {
      "cell_type": "code",
      "metadata": {
        "id": "tmnaYmhVUxKA",
        "outputId": "d6e1b1e1-d6ef-476d-db26-85572376ee24",
        "colab": {
          "base_uri": "https://localhost:8080/"
        }
      },
      "source": [
        "'''\n",
        "Index(['fixed acidity', 'volatile acidity', 'citric acid', 'residual sugar',\n",
        "       'chlorides', 'free sulfur dioxide', 'total sulfur dioxide', 'density',\n",
        "       'pH', 'sulphates', 'alcohol', 'quality'],\n",
        "      dtype='object')\n",
        "      \n",
        "'고정 산도', '휘발성 산도', '시민 산', '설탕', \n",
        "'염소화합물', '무유황산화물', '총유황산화물', '밀도', \n",
        "'pH', '술파테스', '알코올', '품질'\n",
        "\n",
        "결합산(fixed acid) : 주로 타르타르산(tartaric),사과산(malic)으로 이루어져 있고 와인의 산도를 제어 한다.\n",
        "휘발산(volatile acidity) : 와인의 향에 연관이 많다.\n",
        "구연산(citric acid) : 와인의 신선함을 올려주는 역할, 산성화에 연관을 미친다\n",
        "잔여 설탕(residual sugar) : 와인의 단맛을 올려준다.\n",
        "염화물(chlorides) : 와인의 짠맛의 원인이며 와인의 신맛을 좌우하는 성분\n",
        "황 화합물(free sulfur dioxide, total sulfur, dioxide sulphates)\n",
        "    : 황 화합물은 원하지 않는 박테리아와 효모를 죽여서 와인을 오래 보관하는 역할 \n",
        "밀도(density) : 바디의 높고 낮음을 표현하는 와인의 무게감을 의미한다.\n",
        "산성도(pH) : 와인의 신맛의 정도를 나타낸다.\n",
        "알코올(alcohol) : 와인의 ?과 단맛을 주며 와인의 바디감에 영향을 준다.\n",
        "'''\n",
        "\n",
        "wine_qu.columns\n",
        "\n",
        "# 컬럼의 의미를 이해하고, 컬럼들 중에 독립변수/종속변수 구분 : quality가 종속변수"
      ],
      "execution_count": 7,
      "outputs": [
        {
          "output_type": "execute_result",
          "data": {
            "text/plain": [
              "Index(['fixed acidity', 'volatile acidity', 'citric acid', 'residual sugar',\n",
              "       'chlorides', 'free sulfur dioxide', 'total sulfur dioxide', 'density',\n",
              "       'pH', 'sulphates', 'alcohol', 'quality'],\n",
              "      dtype='object')"
            ]
          },
          "metadata": {
            "tags": []
          },
          "execution_count": 7
        }
      ]
    },
    {
      "cell_type": "code",
      "metadata": {
        "id": "TY8mmwtXVo4q",
        "outputId": "77f73b16-df05-4acd-a197-7445b0006766",
        "colab": {
          "base_uri": "https://localhost:8080/"
        }
      },
      "source": [
        "wine_qu.dtypes"
      ],
      "execution_count": 8,
      "outputs": [
        {
          "output_type": "execute_result",
          "data": {
            "text/plain": [
              "fixed acidity           float64\n",
              "volatile acidity        float64\n",
              "citric acid             float64\n",
              "residual sugar          float64\n",
              "chlorides               float64\n",
              "free sulfur dioxide     float64\n",
              "total sulfur dioxide    float64\n",
              "density                 float64\n",
              "pH                      float64\n",
              "sulphates               float64\n",
              "alcohol                 float64\n",
              "quality                   int64\n",
              "dtype: object"
            ]
          },
          "metadata": {
            "tags": []
          },
          "execution_count": 8
        }
      ]
    },
    {
      "cell_type": "code",
      "metadata": {
        "id": "4l7gPP1oXPf9",
        "outputId": "6224edba-6af9-4e5b-e398-a79f9e48fe37",
        "colab": {
          "base_uri": "https://localhost:8080/",
          "height": 215
        }
      },
      "source": [
        "# 컬럼명이 공백 有 -> 향후에 다소 불편함 존재 可\n",
        "# 공백을 \"_\"로 채움\n",
        "# 직접 변경하는 방법 사용 -> 패턴을 작성할 수 있다면 가능(함수화시켜서 처리)\n",
        "\n",
        "wine_qu.rename( columns=lambda x:x.replace(' ', '_'), inplace=True )\n",
        "wine_qu.head()"
      ],
      "execution_count": 9,
      "outputs": [
        {
          "output_type": "execute_result",
          "data": {
            "text/html": [
              "<div>\n",
              "<style scoped>\n",
              "    .dataframe tbody tr th:only-of-type {\n",
              "        vertical-align: middle;\n",
              "    }\n",
              "\n",
              "    .dataframe tbody tr th {\n",
              "        vertical-align: top;\n",
              "    }\n",
              "\n",
              "    .dataframe thead th {\n",
              "        text-align: right;\n",
              "    }\n",
              "</style>\n",
              "<table border=\"1\" class=\"dataframe\">\n",
              "  <thead>\n",
              "    <tr style=\"text-align: right;\">\n",
              "      <th></th>\n",
              "      <th>fixed_acidity</th>\n",
              "      <th>volatile_acidity</th>\n",
              "      <th>citric_acid</th>\n",
              "      <th>residual_sugar</th>\n",
              "      <th>chlorides</th>\n",
              "      <th>free_sulfur_dioxide</th>\n",
              "      <th>total_sulfur_dioxide</th>\n",
              "      <th>density</th>\n",
              "      <th>pH</th>\n",
              "      <th>sulphates</th>\n",
              "      <th>alcohol</th>\n",
              "      <th>quality</th>\n",
              "    </tr>\n",
              "  </thead>\n",
              "  <tbody>\n",
              "    <tr>\n",
              "      <th>0</th>\n",
              "      <td>7.4</td>\n",
              "      <td>0.70</td>\n",
              "      <td>0.00</td>\n",
              "      <td>1.9</td>\n",
              "      <td>0.076</td>\n",
              "      <td>11.0</td>\n",
              "      <td>34.0</td>\n",
              "      <td>0.9978</td>\n",
              "      <td>3.51</td>\n",
              "      <td>0.56</td>\n",
              "      <td>9.4</td>\n",
              "      <td>5</td>\n",
              "    </tr>\n",
              "    <tr>\n",
              "      <th>1</th>\n",
              "      <td>7.8</td>\n",
              "      <td>0.88</td>\n",
              "      <td>0.00</td>\n",
              "      <td>2.6</td>\n",
              "      <td>0.098</td>\n",
              "      <td>25.0</td>\n",
              "      <td>67.0</td>\n",
              "      <td>0.9968</td>\n",
              "      <td>3.20</td>\n",
              "      <td>0.68</td>\n",
              "      <td>9.8</td>\n",
              "      <td>5</td>\n",
              "    </tr>\n",
              "    <tr>\n",
              "      <th>2</th>\n",
              "      <td>7.8</td>\n",
              "      <td>0.76</td>\n",
              "      <td>0.04</td>\n",
              "      <td>2.3</td>\n",
              "      <td>0.092</td>\n",
              "      <td>15.0</td>\n",
              "      <td>54.0</td>\n",
              "      <td>0.9970</td>\n",
              "      <td>3.26</td>\n",
              "      <td>0.65</td>\n",
              "      <td>9.8</td>\n",
              "      <td>5</td>\n",
              "    </tr>\n",
              "    <tr>\n",
              "      <th>3</th>\n",
              "      <td>11.2</td>\n",
              "      <td>0.28</td>\n",
              "      <td>0.56</td>\n",
              "      <td>1.9</td>\n",
              "      <td>0.075</td>\n",
              "      <td>17.0</td>\n",
              "      <td>60.0</td>\n",
              "      <td>0.9980</td>\n",
              "      <td>3.16</td>\n",
              "      <td>0.58</td>\n",
              "      <td>9.8</td>\n",
              "      <td>6</td>\n",
              "    </tr>\n",
              "    <tr>\n",
              "      <th>4</th>\n",
              "      <td>7.4</td>\n",
              "      <td>0.70</td>\n",
              "      <td>0.00</td>\n",
              "      <td>1.9</td>\n",
              "      <td>0.076</td>\n",
              "      <td>11.0</td>\n",
              "      <td>34.0</td>\n",
              "      <td>0.9978</td>\n",
              "      <td>3.51</td>\n",
              "      <td>0.56</td>\n",
              "      <td>9.4</td>\n",
              "      <td>5</td>\n",
              "    </tr>\n",
              "  </tbody>\n",
              "</table>\n",
              "</div>"
            ],
            "text/plain": [
              "   fixed_acidity  volatile_acidity  citric_acid  ...  sulphates  alcohol  quality\n",
              "0            7.4              0.70         0.00  ...       0.56      9.4        5\n",
              "1            7.8              0.88         0.00  ...       0.68      9.8        5\n",
              "2            7.8              0.76         0.04  ...       0.65      9.8        5\n",
              "3           11.2              0.28         0.56  ...       0.58      9.8        6\n",
              "4            7.4              0.70         0.00  ...       0.56      9.4        5\n",
              "\n",
              "[5 rows x 12 columns]"
            ]
          },
          "metadata": {
            "tags": []
          },
          "execution_count": 9
        }
      ]
    },
    {
      "cell_type": "markdown",
      "metadata": {
        "id": "PvT12CEgYL-5"
      },
      "source": [
        "#### 기본 용어 이해\n",
        "- 단순 선형 회귀 분석\n",
        "- 명제\n",
        "  - 인구가 x명일 때 필요한 전력량은? -> y\n",
        "  - 흡연량이 x일 때 폐암 발생률은? -> y\n",
        "  - 키가 x일 때 몸무게는? -> y\n",
        "- 식\n",
        "  - y = α + βx (α : y절편, 상수, 편향(딥러닝에서) -> 특정 방향으로 보정 / β : 기울기)\n",
        "- 용어\n",
        "  - (정규) 최소 제곱\n",
        "    - 예측한 y의 값, 실제 y값 사이의 수직거리 : 오차\n",
        "    - 오차를 제곱하여(∵ 음수가 존재 可) 총합이 최소가 되게 α, β를 조정(계산)\n",
        "  - 확률 오차(잔차)\n",
        "    - 모델이 예측한 결과와 실제 결과의 편차\n",
        "    - 이 값을 최소로 하는 것이 목표\n",
        "  - 문제점\n",
        "    - 다중 공선성 -> 통계 분석 요약표에 해당 지표가 등장\n",
        "      - 독립변수가 많아지면 회귀식의 성능은 좋아짐(회귀계수가 희소해짐)\n",
        "      - 해결 방안\n",
        "        - 상관계수가 높은 변수 중 종속변수에 가장 큰 영향을 미치는(상관성이 높은) 변수 한 개만 남기고, 나머지는 삭제\n",
        "        - 클러스터링, 차원축소 등의 방법도 可 -> 머신러닝\n",
        "  - 예측\n",
        "    - 새로운 데이터 x를 방정식에 넣어서 y 도출\n",
        "  - 평가\n",
        "    - 예측값과 실제값을 가지고 계산\n",
        "    - 통계 : 평균제곱근오차라는 지표 사용 -> RMSE, MSE -> 0에 가까울수록 성능 좋음 -> 조정\n",
        "    - 머신러닝 : 최적화 기법을 써서 처리(하이퍼파라미터튜닝) -> 조정\n",
        "    - 딥러닝 : 가중치(weight) 조정 통해 성능 조정\n",
        "  - 상관계수\n",
        "    - 0.1 ~ 0.3 : 약한 상관관계\n",
        "    - 0.3 ~ 0.5 : 중간 상관관계\n",
        "    - 0.5 ~　　: 강한 상관관계\n",
        "      - 사람과 연관된 데이터는 0.5 이상이면 강한 상관관계\n",
        "      - 기계 등 연관된 데이터는 0.7 이상을 강한 상관관계\n",
        "  - 부호\n",
        "    - 방향성, 비례적, 반비례적\n",
        "  - 두 변수 간의 관계를 빠르게 판단하는 방법\n",
        "  "
      ]
    },
    {
      "cell_type": "markdown",
      "metadata": {
        "id": "VXNNZKSrSNb9"
      },
      "source": [
        "### stats_models를 이용한 분석"
      ]
    },
    {
      "cell_type": "code",
      "metadata": {
        "id": "_AS7c9BYg01H",
        "outputId": "44cf6d38-8524-42aa-cab1-8f4181b71da0",
        "colab": {
          "base_uri": "https://localhost:8080/"
        }
      },
      "source": [
        "wine_qu.columns"
      ],
      "execution_count": 10,
      "outputs": [
        {
          "output_type": "execute_result",
          "data": {
            "text/plain": [
              "Index(['fixed_acidity', 'volatile_acidity', 'citric_acid', 'residual_sugar',\n",
              "       'chlorides', 'free_sulfur_dioxide', 'total_sulfur_dioxide', 'density',\n",
              "       'pH', 'sulphates', 'alcohol', 'quality'],\n",
              "      dtype='object')"
            ]
          },
          "metadata": {
            "tags": []
          },
          "execution_count": 10
        }
      ]
    },
    {
      "cell_type": "code",
      "metadata": {
        "id": "DgxWkkhehAzI",
        "outputId": "8a30e9b9-2470-4a9b-f07b-d821b44e71b2",
        "colab": {
          "base_uri": "https://localhost:8080/"
        }
      },
      "source": [
        "# 알코올\n",
        "wine_qu['alcohol'][:3], np.max(wine_qu['alcohol']), np.min(wine_qu['alcohol'])"
      ],
      "execution_count": 11,
      "outputs": [
        {
          "output_type": "execute_result",
          "data": {
            "text/plain": [
              "(0    9.4\n",
              " 1    9.8\n",
              " 2    9.8\n",
              " Name: alcohol, dtype: float64, 14.9, 8.4)"
            ]
          },
          "metadata": {
            "tags": []
          },
          "execution_count": 11
        }
      ]
    },
    {
      "cell_type": "code",
      "metadata": {
        "id": "hCVHGl_LhNLG",
        "outputId": "a6f63bd1-a6c3-43f9-c929-cf8996404beb",
        "colab": {
          "base_uri": "https://localhost:8080/"
        }
      },
      "source": [
        "# 품질\n",
        "wine_qu['quality'][:3], np.max(wine_qu['quality']), np.min(wine_qu['quality'])"
      ],
      "execution_count": 12,
      "outputs": [
        {
          "output_type": "execute_result",
          "data": {
            "text/plain": [
              "(0    5\n",
              " 1    5\n",
              " 2    5\n",
              " Name: quality, dtype: int64, 8, 3)"
            ]
          },
          "metadata": {
            "tags": []
          },
          "execution_count": 12
        }
      ]
    },
    {
      "cell_type": "code",
      "metadata": {
        "id": "krIIoKlChjW-",
        "outputId": "b87193e6-fdc4-46bc-c536-fb810a84f5db",
        "colab": {
          "base_uri": "https://localhost:8080/",
          "height": 402
        }
      },
      "source": [
        "# 방정식의 상수 구성을 위해  0이 아닌 값으로 설정\n",
        "sm.add_constant( wine_qu['alcohol'] )"
      ],
      "execution_count": 13,
      "outputs": [
        {
          "output_type": "execute_result",
          "data": {
            "text/html": [
              "<div>\n",
              "<style scoped>\n",
              "    .dataframe tbody tr th:only-of-type {\n",
              "        vertical-align: middle;\n",
              "    }\n",
              "\n",
              "    .dataframe tbody tr th {\n",
              "        vertical-align: top;\n",
              "    }\n",
              "\n",
              "    .dataframe thead th {\n",
              "        text-align: right;\n",
              "    }\n",
              "</style>\n",
              "<table border=\"1\" class=\"dataframe\">\n",
              "  <thead>\n",
              "    <tr style=\"text-align: right;\">\n",
              "      <th></th>\n",
              "      <th>const</th>\n",
              "      <th>alcohol</th>\n",
              "    </tr>\n",
              "  </thead>\n",
              "  <tbody>\n",
              "    <tr>\n",
              "      <th>0</th>\n",
              "      <td>1.0</td>\n",
              "      <td>9.4</td>\n",
              "    </tr>\n",
              "    <tr>\n",
              "      <th>1</th>\n",
              "      <td>1.0</td>\n",
              "      <td>9.8</td>\n",
              "    </tr>\n",
              "    <tr>\n",
              "      <th>2</th>\n",
              "      <td>1.0</td>\n",
              "      <td>9.8</td>\n",
              "    </tr>\n",
              "    <tr>\n",
              "      <th>3</th>\n",
              "      <td>1.0</td>\n",
              "      <td>9.8</td>\n",
              "    </tr>\n",
              "    <tr>\n",
              "      <th>4</th>\n",
              "      <td>1.0</td>\n",
              "      <td>9.4</td>\n",
              "    </tr>\n",
              "    <tr>\n",
              "      <th>...</th>\n",
              "      <td>...</td>\n",
              "      <td>...</td>\n",
              "    </tr>\n",
              "    <tr>\n",
              "      <th>1594</th>\n",
              "      <td>1.0</td>\n",
              "      <td>10.5</td>\n",
              "    </tr>\n",
              "    <tr>\n",
              "      <th>1595</th>\n",
              "      <td>1.0</td>\n",
              "      <td>11.2</td>\n",
              "    </tr>\n",
              "    <tr>\n",
              "      <th>1596</th>\n",
              "      <td>1.0</td>\n",
              "      <td>11.0</td>\n",
              "    </tr>\n",
              "    <tr>\n",
              "      <th>1597</th>\n",
              "      <td>1.0</td>\n",
              "      <td>10.2</td>\n",
              "    </tr>\n",
              "    <tr>\n",
              "      <th>1598</th>\n",
              "      <td>1.0</td>\n",
              "      <td>11.0</td>\n",
              "    </tr>\n",
              "  </tbody>\n",
              "</table>\n",
              "<p>1599 rows × 2 columns</p>\n",
              "</div>"
            ],
            "text/plain": [
              "      const  alcohol\n",
              "0       1.0      9.4\n",
              "1       1.0      9.8\n",
              "2       1.0      9.8\n",
              "3       1.0      9.8\n",
              "4       1.0      9.4\n",
              "...     ...      ...\n",
              "1594    1.0     10.5\n",
              "1595    1.0     11.2\n",
              "1596    1.0     11.0\n",
              "1597    1.0     10.2\n",
              "1598    1.0     11.0\n",
              "\n",
              "[1599 rows x 2 columns]"
            ]
          },
          "metadata": {
            "tags": []
          },
          "execution_count": 13
        }
      ]
    },
    {
      "cell_type": "code",
      "metadata": {
        "id": "IEe8DILzf9vk"
      },
      "source": [
        "# model : 예측 모델, 방정식을 훈련을 통해 생성(내부적)\n",
        "# OLS : Ordinary Least Squares, 최소 제곱법을 이용하여 데이터를 학습하고 방정식을 생성하고 예측모델까지 구축\n",
        "# 독립변수 : 알콜, 종속변수 : 품질\n",
        "# 방정식에서 상수를 계산하기 위해 데이터에 상수 파트를 추가\n",
        "model = sm.OLS( wine_qu['quality'], sm.add_constant( wine_qu['alcohol'] ) )"
      ],
      "execution_count": 14,
      "outputs": []
    },
    {
      "cell_type": "code",
      "metadata": {
        "id": "364eX9pgh_HI"
      },
      "source": [
        "# 학습\n",
        "result = model.fit()"
      ],
      "execution_count": 15,
      "outputs": []
    },
    {
      "cell_type": "code",
      "metadata": {
        "id": "PvYDIakKiNUO",
        "outputId": "b70dabdf-393d-4f68-b2f8-945793178099",
        "colab": {
          "base_uri": "https://localhost:8080/"
        }
      },
      "source": [
        "# 평가 요약\n",
        "print( result.summary() )"
      ],
      "execution_count": 16,
      "outputs": [
        {
          "output_type": "stream",
          "text": [
            "                            OLS Regression Results                            \n",
            "==============================================================================\n",
            "Dep. Variable:                quality   R-squared:                       0.227\n",
            "Model:                            OLS   Adj. R-squared:                  0.226\n",
            "Method:                 Least Squares   F-statistic:                     468.3\n",
            "Date:                Wed, 07 Oct 2020   Prob (F-statistic):           2.83e-91\n",
            "Time:                        04:52:00   Log-Likelihood:                -1721.1\n",
            "No. Observations:                1599   AIC:                             3446.\n",
            "Df Residuals:                    1597   BIC:                             3457.\n",
            "Df Model:                           1                                         \n",
            "Covariance Type:            nonrobust                                         \n",
            "==============================================================================\n",
            "                 coef    std err          t      P>|t|      [0.025      0.975]\n",
            "------------------------------------------------------------------------------\n",
            "const          1.8750      0.175     10.732      0.000       1.532       2.218\n",
            "alcohol        0.3608      0.017     21.639      0.000       0.328       0.394\n",
            "==============================================================================\n",
            "Omnibus:                       38.501   Durbin-Watson:                   1.748\n",
            "Prob(Omnibus):                  0.000   Jarque-Bera (JB):               71.758\n",
            "Skew:                          -0.154   Prob(JB):                     2.62e-16\n",
            "Kurtosis:                       3.991   Cond. No.                         104.\n",
            "==============================================================================\n",
            "\n",
            "Warnings:\n",
            "[1] Standard Errors assume that the covariance matrix of the errors is correctly specified.\n"
          ],
          "name": "stdout"
        }
      ]
    },
    {
      "cell_type": "code",
      "metadata": {
        "id": "TUbmT4tSiYgW",
        "outputId": "3ae8fd83-887e-4d60-e9f5-346416fe81d8",
        "colab": {
          "base_uri": "https://localhost:8080/",
          "height": 426
        }
      },
      "source": [
        "result.summary()"
      ],
      "execution_count": 17,
      "outputs": [
        {
          "output_type": "execute_result",
          "data": {
            "text/html": [
              "<table class=\"simpletable\">\n",
              "<caption>OLS Regression Results</caption>\n",
              "<tr>\n",
              "  <th>Dep. Variable:</th>         <td>quality</td>     <th>  R-squared:         </th> <td>   0.227</td>\n",
              "</tr>\n",
              "<tr>\n",
              "  <th>Model:</th>                   <td>OLS</td>       <th>  Adj. R-squared:    </th> <td>   0.226</td>\n",
              "</tr>\n",
              "<tr>\n",
              "  <th>Method:</th>             <td>Least Squares</td>  <th>  F-statistic:       </th> <td>   468.3</td>\n",
              "</tr>\n",
              "<tr>\n",
              "  <th>Date:</th>             <td>Wed, 07 Oct 2020</td> <th>  Prob (F-statistic):</th> <td>2.83e-91</td>\n",
              "</tr>\n",
              "<tr>\n",
              "  <th>Time:</th>                 <td>04:52:03</td>     <th>  Log-Likelihood:    </th> <td> -1721.1</td>\n",
              "</tr>\n",
              "<tr>\n",
              "  <th>No. Observations:</th>      <td>  1599</td>      <th>  AIC:               </th> <td>   3446.</td>\n",
              "</tr>\n",
              "<tr>\n",
              "  <th>Df Residuals:</th>          <td>  1597</td>      <th>  BIC:               </th> <td>   3457.</td>\n",
              "</tr>\n",
              "<tr>\n",
              "  <th>Df Model:</th>              <td>     1</td>      <th>                     </th>     <td> </td>   \n",
              "</tr>\n",
              "<tr>\n",
              "  <th>Covariance Type:</th>      <td>nonrobust</td>    <th>                     </th>     <td> </td>   \n",
              "</tr>\n",
              "</table>\n",
              "<table class=\"simpletable\">\n",
              "<tr>\n",
              "     <td></td>        <th>coef</th>     <th>std err</th>      <th>t</th>      <th>P>|t|</th>  <th>[0.025</th>    <th>0.975]</th>  \n",
              "</tr>\n",
              "<tr>\n",
              "  <th>const</th>   <td>    1.8750</td> <td>    0.175</td> <td>   10.732</td> <td> 0.000</td> <td>    1.532</td> <td>    2.218</td>\n",
              "</tr>\n",
              "<tr>\n",
              "  <th>alcohol</th> <td>    0.3608</td> <td>    0.017</td> <td>   21.639</td> <td> 0.000</td> <td>    0.328</td> <td>    0.394</td>\n",
              "</tr>\n",
              "</table>\n",
              "<table class=\"simpletable\">\n",
              "<tr>\n",
              "  <th>Omnibus:</th>       <td>38.501</td> <th>  Durbin-Watson:     </th> <td>   1.748</td>\n",
              "</tr>\n",
              "<tr>\n",
              "  <th>Prob(Omnibus):</th> <td> 0.000</td> <th>  Jarque-Bera (JB):  </th> <td>  71.758</td>\n",
              "</tr>\n",
              "<tr>\n",
              "  <th>Skew:</th>          <td>-0.154</td> <th>  Prob(JB):          </th> <td>2.62e-16</td>\n",
              "</tr>\n",
              "<tr>\n",
              "  <th>Kurtosis:</th>      <td> 3.991</td> <th>  Cond. No.          </th> <td>    104.</td>\n",
              "</tr>\n",
              "</table><br/><br/>Warnings:<br/>[1] Standard Errors assume that the covariance matrix of the errors is correctly specified."
            ],
            "text/plain": [
              "<class 'statsmodels.iolib.summary.Summary'>\n",
              "\"\"\"\n",
              "                            OLS Regression Results                            \n",
              "==============================================================================\n",
              "Dep. Variable:                quality   R-squared:                       0.227\n",
              "Model:                            OLS   Adj. R-squared:                  0.226\n",
              "Method:                 Least Squares   F-statistic:                     468.3\n",
              "Date:                Wed, 07 Oct 2020   Prob (F-statistic):           2.83e-91\n",
              "Time:                        04:52:03   Log-Likelihood:                -1721.1\n",
              "No. Observations:                1599   AIC:                             3446.\n",
              "Df Residuals:                    1597   BIC:                             3457.\n",
              "Df Model:                           1                                         \n",
              "Covariance Type:            nonrobust                                         \n",
              "==============================================================================\n",
              "                 coef    std err          t      P>|t|      [0.025      0.975]\n",
              "------------------------------------------------------------------------------\n",
              "const          1.8750      0.175     10.732      0.000       1.532       2.218\n",
              "alcohol        0.3608      0.017     21.639      0.000       0.328       0.394\n",
              "==============================================================================\n",
              "Omnibus:                       38.501   Durbin-Watson:                   1.748\n",
              "Prob(Omnibus):                  0.000   Jarque-Bera (JB):               71.758\n",
              "Skew:                          -0.154   Prob(JB):                     2.62e-16\n",
              "Kurtosis:                       3.991   Cond. No.                         104.\n",
              "==============================================================================\n",
              "\n",
              "Warnings:\n",
              "[1] Standard Errors assume that the covariance matrix of the errors is correctly specified.\n",
              "\"\"\""
            ]
          },
          "metadata": {
            "tags": []
          },
          "execution_count": 17
        }
      ]
    },
    {
      "cell_type": "markdown",
      "metadata": {
        "id": "etrtFxU-i8LF"
      },
      "source": [
        "#### 해석\n",
        "\n",
        "- const\n",
        "  - y절편, 상수, 편향\n",
        "  - 전체 그래프를 y축을 기준으로 상향 혹은 하향시켜서 -> \"최소제곱값\" or \"잔차(잔차이, 작은 차이)\" 최소로 되게 조정\n",
        "  - 개별 데이터의 오차유리 최소가 되도록 조정\n",
        "  - 여기서는 1.8750\n",
        "- alcohol        \n",
        "  - 기울기 (독립변수로 보이지만)\n",
        "  - 여기서는 0.3608\n",
        "\n",
        "- 식\n",
        "  - y = 1.8750 + 0.3608 * x  \n",
        "\n",
        "---\n",
        "\n",
        "- R-squared\n",
        "  - R²\n",
        "  - 결정계수의 일반적인 기호\n",
        "  - 여기서는 0.227 -> 알코올이 와인 품질에 대해서 22.7%만큼 설명\n",
        "  - 합산을 기준으로 계산, 합산으로 계산\n",
        "  - 0.7 이상이여야 높은 상관관계를 가짐\n",
        "- Adj. R-squared\n",
        "  - 조정 R²\n",
        "  - 평균으로 계산\n",
        "  - 여기서는 0.226\n",
        "- P>|t|\n",
        "  - P-value(유의 확률)\n",
        "  - 대상 : 통계적 가설 검정 분야에서 사용하는 지표\n",
        "  - 통계적으로 해석해보면, '특정값 0.05 혹은 0.01보다 P-Value가 작으면 귀무가설을 기각한다'는 명제\n",
        "  - 가설 검증\n",
        "    - 예\n",
        "      - 범죄사건 발생, 용의자 검거\n",
        "        - 귀무가설 : 형사가 '이 용의자가 범죄를 저질렀다'고 추청한다면 \n",
        "        - 대립가설(귀무가설에 대비) : 용의자는 무죄\n",
        "    - 여기서는 \n",
        "      - const : 0.000\n",
        "      - alcohol : 0.000\n",
        "        - 0.01 or 0.05보다 P-Value가 작다\n",
        "        - 귀무가설 기각\n",
        "        - 현재 귀무가설 : 알코올은 와인 품질에 영향을 끼침\n",
        "        - 기각 : 알코올은 와인 품질에 영향을 미치지 X\n",
        "\n",
        "---\n",
        "\n",
        "- VIF(Variance Inflation Factors)\n",
        "  - 다중 공선성을 판단하기 위한 자료\n",
        "  - 1/(1-R²), ... : 현재 분석 상황이 단순 선형 회귀 분석이므로 해당 지표는 검토할 필요 X -> 다중 회귀 시 검토\n",
        "  - 1 ~ 10 사이의 값\n",
        "- AIC\n",
        "  - 수치의 양이 중요한 게 아니라, 값의 변화가 중요. 즉, 상대적 크기가 중요"
      ]
    },
    {
      "cell_type": "code",
      "metadata": {
        "id": "cx2ucfPaigI4",
        "outputId": "cf98d8db-7fbd-4c74-e6f0-92824986b783",
        "colab": {
          "base_uri": "https://localhost:8080/"
        }
      },
      "source": [
        "# R제곱, 수정R제곱, 예측값(y, 종속변수)\n",
        "result.rsquared, result.rsquared_adj, result.predict(), result.aic"
      ],
      "execution_count": 18,
      "outputs": [
        {
          "output_type": "execute_result",
          "data": {
            "text/plain": [
              "(0.2267343681127545,\n",
              " 0.22625016921990082,\n",
              " array([5.26688748, 5.41122419, 5.41122419, ..., 5.84423431, 5.55556089,\n",
              "        5.84423431]),\n",
              " 3446.1135094800384)"
            ]
          },
          "metadata": {
            "tags": []
          },
          "execution_count": 18
        }
      ]
    },
    {
      "cell_type": "markdown",
      "metadata": {
        "id": "_eSTebSi7oGW"
      },
      "source": [
        "\n",
        "\n",
        "```\n",
        "OLS 회귀 결과\n",
        "===================================================== =============================\n",
        "뎁 변수 : 품질 R 제곱 : 0.227\n",
        "모델 : OLS Adj. R 제곱 : 0.226\n",
        "방법 : 최소 제곱 F- 통계량 : 468.3\n",
        "날짜 : 2020 년 7 월 22 일 수요일 (F- 통계) : 2.83e-91\n",
        "시간 : 03:20:38 로그 가능성 : -1721.1\n",
        "관찰 결과 : 1599 AIC : 3446.\n",
        "Df 잔차 : 1597 BIC : 3457.\n",
        "Df 모델 : 1\n",
        "공분산 유형 : 비 강성\n",
        "===================================================== =============================\n",
        "                 coef std err t P> | t | [0.025 0.975]\n",
        "-------------------------------------------------- ----------------------------\n",
        "const 1.8750 0.175 10.732 0.000 1.532 2.218\n",
        "알코올 0.3608 0.017 21.639 0.000 0.328 0.394\n",
        "===================================================== =============================\n",
        "옴니버스 : 38.501 더빈-왓슨 : 1.748\n",
        "프로브 (옴니버스) : 0.000 Jarque-Bera (JB) : 71.758\n",
        "기울기 : -0.154 프로브 (JB) : 2.62e-16\n",
        "첨도 : 3.991 Cond. 104 호\n",
        "===================================================== =============================\n",
        "```\n",
        "\n"
      ]
    },
    {
      "cell_type": "code",
      "metadata": {
        "id": "IhJX3L1B87aB",
        "outputId": "3be91fde-7414-4470-ee40-fc3fb6912ea1",
        "colab": {
          "base_uri": "https://localhost:8080/"
        }
      },
      "source": [
        "# 상수, 기울기\n",
        "result.params"
      ],
      "execution_count": 19,
      "outputs": [
        {
          "output_type": "execute_result",
          "data": {
            "text/plain": [
              "const      1.874975\n",
              "alcohol    0.360842\n",
              "dtype: float64"
            ]
          },
          "metadata": {
            "tags": []
          },
          "execution_count": 19
        }
      ]
    },
    {
      "cell_type": "code",
      "metadata": {
        "id": "AdAPo_6D89pw",
        "outputId": "a2e55f90-9ec3-4be0-9b8d-f0a5d83966a5",
        "colab": {
          "base_uri": "https://localhost:8080/",
          "height": 295
        }
      },
      "source": [
        "# 시각화\n",
        "# 원데이터를 산포도로 시각화\n",
        "plt.scatter( wine_qu['alcohol'], wine_qu['quality'], label='real data' )\n",
        "\n",
        "plt.title('Wine quality regression on alcohol')\n",
        "plt.xlabel('alcohol')\n",
        "plt.ylabel('quality')\n",
        "plt.show()"
      ],
      "execution_count": 20,
      "outputs": [
        {
          "output_type": "display_data",
          "data": {
            "image/png": "[encoded data removed]",
            "text/plain": [
              "<Figure size 432x288 with 1 Axes>"
            ]
          },
          "metadata": {
            "tags": [],
            "needs_background": "light"
          }
        }
      ]
    },
    {
      "cell_type": "code",
      "metadata": {
        "id": "LW1qPm339uNK",
        "outputId": "4e666ab6-f542-459e-deb6-613eb57d667c",
        "colab": {
          "base_uri": "https://localhost:8080/",
          "height": 295
        }
      },
      "source": [
        "plt.scatter( wine_qu['alcohol'], wine_qu['quality'], label='real data' )\n",
        "\n",
        "# 학습된 형태로 선형 회귀 결과를 드로잉\n",
        "# x대비 방정식에 따라 y를 드로잉 -> 선형 차트\n",
        "\n",
        "# 방정식으로 표현\n",
        "# plt.plot( wine_qu['alcohol'], result.params[0]+result.params[1]*wine_qu['alcohol'], label='reg output' )\n",
        "\n",
        "# 방정식을 통해 나온 예측값으로 표현 -> 결론적으로 위와 같은 이야기\n",
        "plt.plot( wine_qu['alcohol'], result.predict(), label='predict' )\n",
        "\n",
        "plt.title('Wine quality regression on alcohol')\n",
        "plt.xlabel('alcohol')\n",
        "plt.ylabel('quality')\n",
        "plt.show()"
      ],
      "execution_count": 21,
      "outputs": [
        {
          "output_type": "display_data",
          "data": {
            "image/png": "[encoded data removed]",
            "text/plain": [
              "<Figure size 432x288 with 1 Axes>"
            ]
          },
          "metadata": {
            "tags": [],
            "needs_background": "light"
          }
        }
      ]
    },
    {
      "cell_type": "code",
      "metadata": {
        "id": "sYG-ffi1AMQ7",
        "outputId": "54a37bbb-3670-4850-8751-773638ad96f4",
        "colab": {
          "base_uri": "https://localhost:8080/",
          "height": 728
        }
      },
      "source": [
        "# 다른 변수들과 품질에 대한 선형 회귀 분석 후 R² 기준으로 바차트를 그리시오\n",
        "# x축은 독립변수\n",
        "# y축은 R²값\n",
        "# 데이터 상에 존재하는 모든 독립변수들 중에 품질에 영향을 미치는 혹은 상관관계가 가장 높은 독립변수를 구할 수 있음\n",
        "# 단순 선형 회귀 분석 기준에서 판단 \n",
        "\n",
        "# 1. 모양\n",
        "plt.figure( figsize=(15,10) )\n",
        "\n",
        "for col in wine_qu.columns[:-1] :\n",
        "  # col에 해당되는 독립변수에 데이터를 가지고 단순 선형 회귀 분석을 위한 모델 생성\n",
        "  model = sm.OLS( wine_qu['quality'], sm.add_constant( wine_qu[ col ] ) )\n",
        "  # 학습\n",
        "  result = model.fit()\n",
        "  # 2. 플로팅\n",
        "  plt.bar( [ col ], result.rsquared, label=col)\n",
        "  # x축의 이름이 수평으로 되어 있어서 겹치는 부분 존재 -> 회전 필요\n",
        "\n",
        "\n",
        "# 3. 보여라\n",
        "# plt.legend()\n",
        "# x축 레이블 회전\n",
        "plt.xticks( fontsize=15, rotation=90 )\n",
        "plt.show()"
      ],
      "execution_count": 22,
      "outputs": [
        {
          "output_type": "display_data",
          "data": {
            "image/png": "[encoded data removed]",
            "text/plain": [
              "<Figure size 1080x720 with 1 Axes>"
            ]
          },
          "metadata": {
            "tags": [],
            "needs_background": "light"
          }
        }
      ]
    },
    {
      "cell_type": "code",
      "metadata": {
        "id": "2XO_FkLYIidB",
        "outputId": "fd90347e-d304-4363-e1f1-74b8ad9ced6d",
        "colab": {
          "base_uri": "https://localhost:8080/",
          "height": 728
        }
      },
      "source": [
        "# vif를 독립변수별로 계산해서 바차트 위에 연결된 바차트로 그리시오\n",
        "\n",
        "plt.figure( figsize=(15,10) )\n",
        "\n",
        "for col in wine_qu.columns[:-1] :\n",
        "  model = sm.OLS( wine_qu['quality'], sm.add_constant( wine_qu[ col ] ) )\n",
        "  result = model.fit()\n",
        "  vif = 1 / (1 - result.rsquared)\n",
        "  # 값이 연속적이여야 의미 有, 여기서는 vif를 그냥 이런 형식으로만 표현\n",
        "  plt.bar( col, vif, label=col, bottom=result.rsquared)\n",
        "  plt.bar( col, result.rsquared, label=col)\n",
        "\n",
        "plt.xticks( fontsize=15, rotation=90 )\n",
        "plt.show()"
      ],
      "execution_count": 23,
      "outputs": [
        {
          "output_type": "display_data",
          "data": {
            "image/png": "[encoded data removed]",
            "text/plain": [
              "<Figure size 1080x720 with 1 Axes>"
            ]
          },
          "metadata": {
            "tags": [],
            "needs_background": "light"
          }
        }
      ]
    },
    {
      "cell_type": "markdown",
      "metadata": {
        "id": "uSwVLS43SUeX"
      },
      "source": [
        "### 직접 구현을 통한 분석\n"
      ]
    },
    {
      "cell_type": "code",
      "metadata": {
        "id": "_q4L06IiAuem"
      },
      "source": [
        "from sklearn.model_selection import train_test_split  # 데이터를 훈련용, 테스트용으로 분리\n",
        "from sklearn.metrics import r2_score                  # 머신러닝에서 성능평가도구, R²을 구하기 위해서 획득"
      ],
      "execution_count": 24,
      "outputs": []
    },
    {
      "cell_type": "code",
      "metadata": {
        "id": "bLwEULQHKmkm"
      },
      "source": [
        "# 데이터를 나눔 -> 통계모델 7:3, 머신러닝 75:25 (일반적으로)\n",
        "# X_ : 독립변수(feature, 특성), y_ : 종속변수(label, class, 정답)\n",
        "# 정답이 수치이고, 소수점까지 표현을 하니까 회귀 분석이 적합\n",
        "# 언제 구동시켜도 항상 같은 데이터만 모여서 분류되게 하고 싶다면(실험환경 통제) -> 난수 고정\n",
        "# 난수 고정 -> 난수의 seed를 고정\n",
        "X_train, X_test, y_train, y_test = train_test_split( \n",
        "    wine_qu['alcohol'], wine_qu['quality'], train_size=0.7, random_state=42\n",
        "    )"
      ],
      "execution_count": 25,
      "outputs": []
    },
    {
      "cell_type": "code",
      "metadata": {
        "id": "CSrbJcRlLtOh",
        "outputId": "52340178-3288-49f2-d68c-238cfb12f107",
        "colab": {
          "base_uri": "https://localhost:8080/"
        }
      },
      "source": [
        "X_train.shape, X_test.shape, y_train.shape, y_test.shape"
      ],
      "execution_count": 26,
      "outputs": [
        {
          "output_type": "execute_result",
          "data": {
            "text/plain": [
              "((1119,), (480,), (1119,), (480,))"
            ]
          },
          "metadata": {
            "tags": []
          },
          "execution_count": 26
        }
      ]
    },
    {
      "cell_type": "code",
      "metadata": {
        "id": "m9meGAgqMZfR",
        "outputId": "270bcf9a-90b4-4b59-e5a4-8703d4e2cdd9",
        "colab": {
          "base_uri": "https://localhost:8080/"
        }
      },
      "source": [
        "1119/480, 7/3\n",
        "# 두 값이 동일 -> 데이터가 7:3으로 분할됨을 의미"
      ],
      "execution_count": 27,
      "outputs": [
        {
          "output_type": "execute_result",
          "data": {
            "text/plain": [
              "(2.33125, 2.3333333333333335)"
            ]
          },
          "metadata": {
            "tags": []
          },
          "execution_count": 27
        }
      ]
    },
    {
      "cell_type": "code",
      "metadata": {
        "id": "uPXzMdWnMb0t",
        "outputId": "eb444820-8231-4059-f7f6-3b68b4025105",
        "colab": {
          "base_uri": "https://localhost:8080/"
        }
      },
      "source": [
        "type(X_train)"
      ],
      "execution_count": 28,
      "outputs": [
        {
          "output_type": "execute_result",
          "data": {
            "text/plain": [
              "pandas.core.series.Series"
            ]
          },
          "metadata": {
            "tags": []
          },
          "execution_count": 28
        }
      ]
    },
    {
      "cell_type": "code",
      "metadata": {
        "id": "q_QReX3xMuTN"
      },
      "source": [
        "# df로 복원\n",
        "X_train = pd.DataFrame( X_train )\n",
        "X_test = pd.DataFrame( X_test )\n",
        "y_train = pd.DataFrame( y_train )\n",
        "y_test = pd.DataFrame( y_test )"
      ],
      "execution_count": 29,
      "outputs": []
    },
    {
      "cell_type": "code",
      "metadata": {
        "id": "jakDW8s8NBWD",
        "outputId": "118ecf58-5408-4708-edf5-ba2723d664d4",
        "colab": {
          "base_uri": "https://localhost:8080/",
          "height": 106
        }
      },
      "source": [
        "X_train.head(2)"
      ],
      "execution_count": 30,
      "outputs": [
        {
          "output_type": "execute_result",
          "data": {
            "text/html": [
              "<div>\n",
              "<style scoped>\n",
              "    .dataframe tbody tr th:only-of-type {\n",
              "        vertical-align: middle;\n",
              "    }\n",
              "\n",
              "    .dataframe tbody tr th {\n",
              "        vertical-align: top;\n",
              "    }\n",
              "\n",
              "    .dataframe thead th {\n",
              "        text-align: right;\n",
              "    }\n",
              "</style>\n",
              "<table border=\"1\" class=\"dataframe\">\n",
              "  <thead>\n",
              "    <tr style=\"text-align: right;\">\n",
              "      <th></th>\n",
              "      <th>alcohol</th>\n",
              "    </tr>\n",
              "  </thead>\n",
              "  <tbody>\n",
              "    <tr>\n",
              "      <th>925</th>\n",
              "      <td>11.0</td>\n",
              "    </tr>\n",
              "    <tr>\n",
              "      <th>363</th>\n",
              "      <td>10.2</td>\n",
              "    </tr>\n",
              "  </tbody>\n",
              "</table>\n",
              "</div>"
            ],
            "text/plain": [
              "     alcohol\n",
              "925     11.0\n",
              "363     10.2"
            ]
          },
          "metadata": {
            "tags": []
          },
          "execution_count": 30
        }
      ]
    },
    {
      "cell_type": "code",
      "metadata": {
        "id": "ayfDQA5JNDdF",
        "outputId": "f04017be-7534-4131-ff35-d524929b03d5",
        "colab": {
          "base_uri": "https://localhost:8080/"
        }
      },
      "source": [
        "# 평균\n",
        "alcohol_mean = round( np.mean(X_train['alcohol']), 2 )\n",
        "quality_mean = round( np.mean(y_train['quality']), 2 )\n",
        "\n",
        "alcohol_mean, quality_mean"
      ],
      "execution_count": 31,
      "outputs": [
        {
          "output_type": "execute_result",
          "data": {
            "text/plain": [
              "(10.42, 5.62)"
            ]
          },
          "metadata": {
            "tags": []
          },
          "execution_count": 31
        }
      ]
    },
    {
      "cell_type": "code",
      "metadata": {
        "id": "dDSqXdupNWnw",
        "outputId": "b76e6476-fbed-46b4-8712-d2900974c217",
        "colab": {
          "base_uri": "https://localhost:8080/"
        }
      },
      "source": [
        "# 회귀 모델의 계수를 계산하기 위해\n",
        "# 분산 : variance\n",
        "#        확률변수가 기대값으로부터 얼마나 떨어진 곳에 데이터가 분포하는지를 가늠하는 수치\n",
        "#        (개별값(개별데이터) - 평균)^2의 총합 -> 통상 소수점 2자리 표현\n",
        "# 알콜 데이터의 분산(독립변수의 분산)\n",
        "alcohol_variance = round( sum( (X_train['alcohol'] - alcohol_mean)**2 ), 2)\n",
        "# 품질 데이터의 분산(종속변수의 분산)\n",
        "quality_variance = round( sum( (y_train['quality'] - quality_mean)**2 ), 2)\n",
        "\n",
        "alcohol_variance, quality_variance\n",
        "\n",
        "# 표준편차 : 분산의 제곱근, 데이터가 얼마나 퍼져있는지 보는 지표로 사용됨\n",
        "# 확률변수 : 확률적인 과정에 따라 값이 결정되는 변수 -> 지금은 개별 데이터로만 생각하고, 차후 기초 용어에서 정리"
      ],
      "execution_count": 32,
      "outputs": [
        {
          "output_type": "execute_result",
          "data": {
            "text/plain": [
              "(1255.6, 737.1)"
            ]
          },
          "metadata": {
            "tags": []
          },
          "execution_count": 32
        }
      ]
    },
    {
      "cell_type": "code",
      "metadata": {
        "id": "sbCYo_sqNu7p",
        "outputId": "3ffcb8fc-f7e1-475c-9f5e-742c544b9d6f",
        "colab": {
          "base_uri": "https://localhost:8080/"
        }
      },
      "source": [
        "# 공분산 : covariance\n",
        "# 2개 변수 중 하나의 값이 상승하면 다른 값도 상승하는가? 그렇다면 공분산은 양수\n",
        "# 2개 변수 중 하나의 값이 상승하면 다른 값은 하강하는가? 그렇다면 공분산은 음수\n",
        "# 상관관계의 부호에 대한 이야기\n",
        "# (알콜개별값 - 알콜평균)*(품질개별값 - 품질평균)의 총합 -> 소수점 2자리\n",
        "covariance = round ( np.sum( ( X_train['alcohol'] - alcohol_mean )*( y_train['quality'] - quality_mean ) ), 2 )\n",
        "covariance"
      ],
      "execution_count": 33,
      "outputs": [
        {
          "output_type": "execute_result",
          "data": {
            "text/plain": [
              "473.34"
            ]
          },
          "metadata": {
            "tags": []
          },
          "execution_count": 33
        }
      ]
    },
    {
      "cell_type": "code",
      "metadata": {
        "id": "ZxqP8Mf5N0YC",
        "outputId": "37c35e26-c577-484f-93b5-5f8efd8e8458",
        "colab": {
          "base_uri": "https://localhost:8080/"
        }
      },
      "source": [
        "# y = a + bx\n",
        "#######################################################\n",
        "# b\n",
        "# 기울기\n",
        "# 공분산 / 알코올분산\n",
        "#######################################################\n",
        "# a\n",
        "# 상수, 편향, y절편\n",
        "# 품질의 평균 - (공분산 / 알코올분산) * 알코올평균\n",
        "\n",
        "b = covariance / alcohol_variance\n",
        "a = quality_mean - b * alcohol_mean\n",
        "\n",
        "a, b"
      ],
      "execution_count": 34,
      "outputs": [
        {
          "output_type": "execute_result",
          "data": {
            "text/plain": [
              "(1.6918359350111505, 0.37698311564192416)"
            ]
          },
          "metadata": {
            "tags": []
          },
          "execution_count": 34
        }
      ]
    },
    {
      "cell_type": "code",
      "metadata": {
        "id": "o3dhnDCWRqCC",
        "outputId": "849373f4-d1e9-4056-bc87-a0495dd9d05a",
        "colab": {
          "base_uri": "https://localhost:8080/",
          "height": 106
        }
      },
      "source": [
        "# 방정식, 독립변수와 종속변수 간의 관계를 규정하는 선형 회귀를 설명하는 식을 만들었으니, 예측 可\n",
        "# X_test -> 방정식을 만들 때 사용하지 않은 데이터 -> 한번도 접하지 않은 데이터\n",
        "y_test['pred'] = a + b * X_test['alcohol']\n",
        "# y_test['quality']과 y_test['pred']이 얼마나 일치하는가 -> 정확도(분류), 회귀에서는 다른 지표로 판단\n",
        "# R^2으로 판단\n",
        "y_test.head(2)"
      ],
      "execution_count": 35,
      "outputs": [
        {
          "output_type": "execute_result",
          "data": {
            "text/html": [
              "<div>\n",
              "<style scoped>\n",
              "    .dataframe tbody tr th:only-of-type {\n",
              "        vertical-align: middle;\n",
              "    }\n",
              "\n",
              "    .dataframe tbody tr th {\n",
              "        vertical-align: top;\n",
              "    }\n",
              "\n",
              "    .dataframe thead th {\n",
              "        text-align: right;\n",
              "    }\n",
              "</style>\n",
              "<table border=\"1\" class=\"dataframe\">\n",
              "  <thead>\n",
              "    <tr style=\"text-align: right;\">\n",
              "      <th></th>\n",
              "      <th>quality</th>\n",
              "      <th>pred</th>\n",
              "    </tr>\n",
              "  </thead>\n",
              "  <tbody>\n",
              "    <tr>\n",
              "      <th>803</th>\n",
              "      <td>6</td>\n",
              "      <td>5.310874</td>\n",
              "    </tr>\n",
              "    <tr>\n",
              "      <th>124</th>\n",
              "      <td>5</td>\n",
              "      <td>5.273176</td>\n",
              "    </tr>\n",
              "  </tbody>\n",
              "</table>\n",
              "</div>"
            ],
            "text/plain": [
              "     quality      pred\n",
              "803        6  5.310874\n",
              "124        5  5.273176"
            ]
          },
          "metadata": {
            "tags": []
          },
          "execution_count": 35
        }
      ]
    },
    {
      "cell_type": "code",
      "metadata": {
        "id": "Un3BpRbmR3o6",
        "outputId": "c0c80e2f-dafc-4d78-99f1-c67c7a9e03eb",
        "colab": {
          "base_uri": "https://localhost:8080/"
        }
      },
      "source": [
        "# R 제곱 통계량 계산\n",
        "# r제곱 = 1 - ( (합산((실제품질값-예측값)제곱) ) / ( (합산((실제품짌값-품질평균값)제곱) )\n",
        "# R_sqrd = 1 - ( (sum(y_test['quality']-y_test['pred']))**2 ) / y_test_mean  )\n",
        "tmp1  = y_test['quality']-y_test['pred']\n",
        "tmp1  = tmp1**2\n",
        "tmp1  = sum(tmp1)\n",
        "\n",
        "tmp2  = y_test['quality']-np.mean(y_test['quality'])\n",
        "tmp2  = tmp2**2\n",
        "tmp2  = sum(tmp2)\n",
        "\n",
        "R_sqrd  = 1 - (tmp1/tmp2)\n",
        "round(R_sqrd, 4)\n",
        "# 0~ 1사이로 나와야 한다. "
      ],
      "execution_count": 36,
      "outputs": [
        {
          "output_type": "execute_result",
          "data": {
            "text/plain": [
              "0.185"
            ]
          },
          "metadata": {
            "tags": []
          },
          "execution_count": 36
        }
      ]
    },
    {
      "cell_type": "markdown",
      "metadata": {
        "id": "nm1FleBdSWpI"
      },
      "source": [
        "### numpy를 이용한 분석\n"
      ]
    },
    {
      "cell_type": "code",
      "metadata": {
        "id": "io15cvapZvLE"
      },
      "source": [
        "import numpy as np"
      ],
      "execution_count": 37,
      "outputs": []
    },
    {
      "cell_type": "code",
      "metadata": {
        "id": "_FrsuZgMZyKz",
        "outputId": "47616bda-4ea2-444f-e853-d208726eaa30",
        "colab": {
          "base_uri": "https://localhost:8080/"
        }
      },
      "source": [
        "tmp = np.corrcoef( wine_qu['alcohol'], wine_qu['quality'] )\n",
        "tmp"
      ],
      "execution_count": 38,
      "outputs": [
        {
          "output_type": "execute_result",
          "data": {
            "text/plain": [
              "array([[1.        , 0.47616632],\n",
              "       [0.47616632, 1.        ]])"
            ]
          },
          "metadata": {
            "tags": []
          },
          "execution_count": 38
        }
      ]
    },
    {
      "cell_type": "code",
      "metadata": {
        "id": "i2--jU__Z5VX",
        "outputId": "c64dd338-6280-4622-e5fd-de72a5a0b719",
        "colab": {
          "base_uri": "https://localhost:8080/"
        }
      },
      "source": [
        "# R제곱값\n",
        "round(np.sum(np.tril(tmp, k=-1))**2, 4)"
      ],
      "execution_count": 39,
      "outputs": [
        {
          "output_type": "execute_result",
          "data": {
            "text/plain": [
              "0.2267"
            ]
          },
          "metadata": {
            "tags": []
          },
          "execution_count": 39
        }
      ]
    },
    {
      "cell_type": "code",
      "metadata": {
        "id": "pXYuTS-paCRl",
        "outputId": "5a346261-57d6-4ce2-f368-2ddd73994069",
        "colab": {
          "base_uri": "https://localhost:8080/"
        }
      },
      "source": [
        "# 함수\n",
        "fp1 = np.polyfit(wine_qu['alcohol'], wine_qu['quality'], 1)\n",
        "fp1\n",
        "\n",
        "# 기울기, y절편"
      ],
      "execution_count": 40,
      "outputs": [
        {
          "output_type": "execute_result",
          "data": {
            "text/plain": [
              "array([0.36084177, 1.87497489])"
            ]
          },
          "metadata": {
            "tags": []
          },
          "execution_count": 40
        }
      ]
    },
    {
      "cell_type": "code",
      "metadata": {
        "id": "F7V86qJTaa_Z"
      },
      "source": [
        "f1 = np.poly1d( fp1 )"
      ],
      "execution_count": 41,
      "outputs": []
    },
    {
      "cell_type": "code",
      "metadata": {
        "id": "iFPIjxflamji",
        "outputId": "bce66c1b-3f5f-44da-a4ff-cc19ff34fcd7",
        "colab": {
          "base_uri": "https://localhost:8080/"
        }
      },
      "source": [
        "# y_test['pred2'] = f1( X_test['alcohol'] )\n",
        "tmp_pred = f1( wine_qu['alcohol'] )\n",
        "tmp_pred.shape"
      ],
      "execution_count": 42,
      "outputs": [
        {
          "output_type": "execute_result",
          "data": {
            "text/plain": [
              "(1599,)"
            ]
          },
          "metadata": {
            "tags": []
          },
          "execution_count": 42
        }
      ]
    },
    {
      "cell_type": "code",
      "metadata": {
        "id": "hwfgfIQObDh5",
        "outputId": "236909ce-30d5-4fb9-a582-2110f5ec098f",
        "colab": {
          "base_uri": "https://localhost:8080/"
        }
      },
      "source": [
        "tmp_pred[:2]"
      ],
      "execution_count": 43,
      "outputs": [
        {
          "output_type": "execute_result",
          "data": {
            "text/plain": [
              "array([5.26688748, 5.41122419])"
            ]
          },
          "metadata": {
            "tags": []
          },
          "execution_count": 43
        }
      ]
    },
    {
      "cell_type": "code",
      "metadata": {
        "id": "I1qvGXPUbTLz",
        "outputId": "6b351ddb-cba7-4bfa-c133-54f1ac560366",
        "colab": {
          "base_uri": "https://localhost:8080/"
        }
      },
      "source": [
        "# wine_qu['quality'], tmp_pred 2개를 가지고 R제곱 => 0.2267 나오면 OK\n",
        "# R_sqrd=1-( sum( ()**2 ) / sum( ()**2 ) )\n",
        "tmp1  = wine_qu['quality']-tmp_pred\n",
        "tmp1  = tmp1**2\n",
        "tmp1  = sum(tmp1)\n",
        "\n",
        "tmp2  = wine_qu['quality']-np.mean(wine_qu['quality'])\n",
        "tmp2  = tmp2**2\n",
        "tmp2  = sum(tmp2)\n",
        "\n",
        "R_sqrd  = 1 - (tmp1/tmp2)\n",
        "round(R_sqrd, 4)"
      ],
      "execution_count": 44,
      "outputs": [
        {
          "output_type": "execute_result",
          "data": {
            "text/plain": [
              "0.2267"
            ]
          },
          "metadata": {
            "tags": []
          },
          "execution_count": 44
        }
      ]
    },
    {
      "cell_type": "markdown",
      "metadata": {
        "id": "RxyCMsZfSY6t"
      },
      "source": [
        "### 머신러닝을 이용한 분석 - 생략"
      ]
    },
    {
      "cell_type": "markdown",
      "metadata": {
        "id": "auNrVVMeSjKH"
      },
      "source": [
        "## 다중 회귀 분석\n",
        "- 여러 개의 독립 변수를 가지고 회귀 분석\n",
        "- 방정식\n",
        "  - y = α + β1x1 + β2x2 + ... + βnxn\n",
        "  - 골프 클럽의 속성, 타격감, 방향성, 브랜드, 서비스, ...\n",
        "    - 골프 클럽의 만족도는 어떤 독립변수들에 의해서 영향을 받는가?\n",
        "    - y = α + β1 * 타격감 + β2 * 방향성 + ... + βn * 브랜드\n",
        "    - β1 + β2 + ... + βn = 1.0은 아님\n",
        "- 변수 선택 방법\n",
        "  - 제공된 데이터 중에서 여러 개의 독립변수들 중 영향성이 없는 독립변수를 제거하거나, 조합으로 가장 높은 성능을 내는 독립변수들을 사용해 처리\n",
        "    - 전진 선택법 \n",
        "      - 빈 대상에서 독립 변수를 추가해가면서 체크하고 성능이 좋은 쪽으로 남기는 방법\n",
        "    - 변수 소거법(후진 제거법) \n",
        "      - 전체 변수를 대상\n",
        "      - 미리 설정한(가정한, 임계값) 통계 수치(잔차, 다중공선성, ...)를 만족할 때까지, 반복적으로 변수를 제거해가면서 학습하고 평가하여 로그 저장 -> 최적 조합 확인 可\n",
        "      - R제곱값 > 0.5 또는 0.7\n",
        "      - 다중공선성값\n",
        "        - 1~10 값 존재, 1은 거의 무한대로 감\n",
        "        - 1에 가까우면 값이 공선성이 작음 = 좋은 평가 결과\n",
        "        - 값이 커지면, 5 이상 10까지 가버림 = 나쁜 평가 결과"
      ]
    },
    {
      "cell_type": "code",
      "metadata": {
        "id": "c8PNGzIAMuqE",
        "outputId": "2f9cee7e-8b6a-4a8e-a29d-377adc472662",
        "colab": {
          "base_uri": "https://localhost:8080/"
        }
      },
      "source": [
        "wine_qu.columns"
      ],
      "execution_count": 45,
      "outputs": [
        {
          "output_type": "execute_result",
          "data": {
            "text/plain": [
              "Index(['fixed_acidity', 'volatile_acidity', 'citric_acid', 'residual_sugar',\n",
              "       'chlorides', 'free_sulfur_dioxide', 'total_sulfur_dioxide', 'density',\n",
              "       'pH', 'sulphates', 'alcohol', 'quality'],\n",
              "      dtype='object')"
            ]
          },
          "metadata": {
            "tags": []
          },
          "execution_count": 45
        }
      ]
    },
    {
      "cell_type": "code",
      "metadata": {
        "id": "lCSC_dlJTBUT"
      },
      "source": [
        "import seaborn as sns"
      ],
      "execution_count": 46,
      "outputs": []
    },
    {
      "cell_type": "code",
      "metadata": {
        "id": "yLGcKkdlTL98",
        "outputId": "b11c8ecd-89bd-4287-ee5e-856032159b09",
        "colab": {
          "base_uri": "https://localhost:8080/"
        }
      },
      "source": [
        "# 변수들 간의 관계를 시각화\n",
        "# 5개 컬럼을 대상으로 비교\n",
        "cols = ['volatile_acidity', 'sulphates', 'chlorides', 'alcohol','quality']\n",
        "cols"
      ],
      "execution_count": 47,
      "outputs": [
        {
          "output_type": "execute_result",
          "data": {
            "text/plain": [
              "['volatile_acidity', 'sulphates', 'chlorides', 'alcohol', 'quality']"
            ]
          },
          "metadata": {
            "tags": []
          },
          "execution_count": 47
        }
      ]
    },
    {
      "cell_type": "code",
      "metadata": {
        "id": "ClWUcEhLTemR",
        "outputId": "f5aefa98-0ac4-4ff6-fcc8-bc5815ff0116",
        "colab": {
          "base_uri": "https://localhost:8080/",
          "height": 901
        }
      },
      "source": [
        "# 산포행렬\n",
        "sns.set(style='whitegrid')\n",
        "sns.pairplot(wine_qu[ cols ], height =2.5, markers=\"s\")\n",
        "plt.show()\n",
        "\n",
        "# 본 데이터는 6개의 품질을 가진 와인을 무작위로 섞어서 데이터를 구성한 것으로 보임"
      ],
      "execution_count": 49,
      "outputs": [
        {
          "output_type": "display_data",
          "data": {
            "image/png": "[encoded data removed]",
            "text/plain": [
              "<Figure size 900x900 with 30 Axes>"
            ]
          },
          "metadata": {
            "tags": []
          }
        }
      ]
    },
    {
      "cell_type": "code",
      "metadata": {
        "id": "mxsLoaNZT_u8",
        "outputId": "231db671-d46e-4f73-c435-6b6e0d87b0ed",
        "colab": {
          "base_uri": "https://localhost:8080/"
        }
      },
      "source": [
        "wine_qu['quality'].unique()"
      ],
      "execution_count": 50,
      "outputs": [
        {
          "output_type": "execute_result",
          "data": {
            "text/plain": [
              "array([5, 6, 7, 4, 8, 3])"
            ]
          },
          "metadata": {
            "tags": []
          },
          "execution_count": 50
        }
      ]
    },
    {
      "cell_type": "code",
      "metadata": {
        "id": "yFt4wQeJUfni",
        "outputId": "68b6cf41-541f-4ad0-a5e4-55c75ef6b5b1",
        "colab": {
          "base_uri": "https://localhost:8080/"
        }
      },
      "source": [
        "# 각 품질 당 데이터의 수는?\n",
        "# 품질이 5인 데이터 x개, ...\n",
        "\n",
        "wine_qu.quality.value_counts()\n",
        "\n",
        "# 데이터의 대부분은 5, 6에 편중되어 있음 (약 82%)\n",
        "# 보다 정확하게 하려면 품질 3 , 4, 7, 8의 데이터가 보완되서 균형을 유지해주어야 적합한 것으로 보임\n",
        "#    -> 보완은 어려우니 그대로 진행\n",
        "#    -> 레벨 5, 6만 모아서 분석해보는 것도 정확할 듯"
      ],
      "execution_count": 51,
      "outputs": [
        {
          "output_type": "execute_result",
          "data": {
            "text/plain": [
              "5    681\n",
              "6    638\n",
              "7    199\n",
              "4     53\n",
              "8     18\n",
              "3     10\n",
              "Name: quality, dtype: int64"
            ]
          },
          "metadata": {
            "tags": []
          },
          "execution_count": 51
        }
      ]
    },
    {
      "cell_type": "code",
      "metadata": {
        "id": "1TY6z4bWVQRp",
        "outputId": "bbe1a6e0-dda9-41b3-c9b2-0143cf904f4e",
        "colab": {
          "base_uri": "https://localhost:8080/"
        }
      },
      "source": [
        "wine_qu[ cols ].values"
      ],
      "execution_count": 52,
      "outputs": [
        {
          "output_type": "execute_result",
          "data": {
            "text/plain": [
              "array([[ 0.7  ,  0.56 ,  0.076,  9.4  ,  5.   ],\n",
              "       [ 0.88 ,  0.68 ,  0.098,  9.8  ,  5.   ],\n",
              "       [ 0.76 ,  0.65 ,  0.092,  9.8  ,  5.   ],\n",
              "       ...,\n",
              "       [ 0.51 ,  0.75 ,  0.076, 11.   ,  6.   ],\n",
              "       [ 0.645,  0.71 ,  0.075, 10.2  ,  5.   ],\n",
              "       [ 0.31 ,  0.66 ,  0.067, 11.   ,  6.   ]])"
            ]
          },
          "metadata": {
            "tags": []
          },
          "execution_count": 52
        }
      ]
    },
    {
      "cell_type": "code",
      "metadata": {
        "id": "j7-MIK3hXAKt",
        "outputId": "530203d9-792d-4972-fb56-35acd4495dc7",
        "colab": {
          "base_uri": "https://localhost:8080/"
        }
      },
      "source": [
        "# numpy를 이용한 상관계수 획득\n",
        "corr_tmp = np.corrcoef(wine_qu[ cols ].values)\n",
        "corr_tmp\n",
        "\n",
        "# 독립변수 기준으로 상관계수값이 나와야 하는데 데이터 중심으로 나옴\n",
        "# 컬럼과 데이터를 맞바꿔서 수행"
      ],
      "execution_count": 53,
      "outputs": [
        {
          "output_type": "execute_result",
          "data": {
            "text/plain": [
              "array([[1.        , 0.9995651 , 0.99969912, ..., 0.99936467, 0.99895203,\n",
              "        0.9988371 ],\n",
              "       [0.9995651 , 1.        , 0.99993997, ..., 0.99823276, 0.9995736 ,\n",
              "        0.99741845],\n",
              "       [0.99969912, 0.99993997, 1.        , ..., 0.99871118, 0.99972031,\n",
              "        0.99805661],\n",
              "       ...,\n",
              "       [0.99936467, 0.99823276, 0.99871118, ..., 1.        , 0.99812814,\n",
              "        0.99988737],\n",
              "       [0.99895203, 0.9995736 , 0.99972031, ..., 0.99812814, 1.        ,\n",
              "        0.99755305],\n",
              "       [0.9988371 , 0.99741845, 0.99805661, ..., 0.99988737, 0.99755305,\n",
              "        1.        ]])"
            ]
          },
          "metadata": {
            "tags": []
          },
          "execution_count": 53
        }
      ]
    },
    {
      "cell_type": "code",
      "metadata": {
        "id": "TwfznvGaXIFJ",
        "outputId": "625b1add-1dc9-41d4-f611-c1be4de8ac21",
        "colab": {
          "base_uri": "https://localhost:8080/"
        }
      },
      "source": [
        "corr_tmp.shape"
      ],
      "execution_count": 54,
      "outputs": [
        {
          "output_type": "execute_result",
          "data": {
            "text/plain": [
              "(1599, 1599)"
            ]
          },
          "metadata": {
            "tags": []
          },
          "execution_count": 54
        }
      ]
    },
    {
      "cell_type": "code",
      "metadata": {
        "id": "evLkxPfUXbuw",
        "outputId": "8a73a099-c16e-4a7f-fcd9-9cda1135b6c8",
        "colab": {
          "base_uri": "https://localhost:8080/"
        }
      },
      "source": [
        "wine_qu[ cols ].values.T"
      ],
      "execution_count": 55,
      "outputs": [
        {
          "output_type": "execute_result",
          "data": {
            "text/plain": [
              "array([[ 0.7  ,  0.88 ,  0.76 , ...,  0.51 ,  0.645,  0.31 ],\n",
              "       [ 0.56 ,  0.68 ,  0.65 , ...,  0.75 ,  0.71 ,  0.66 ],\n",
              "       [ 0.076,  0.098,  0.092, ...,  0.076,  0.075,  0.067],\n",
              "       [ 9.4  ,  9.8  ,  9.8  , ..., 11.   , 10.2  , 11.   ],\n",
              "       [ 5.   ,  5.   ,  5.   , ...,  6.   ,  5.   ,  6.   ]])"
            ]
          },
          "metadata": {
            "tags": []
          },
          "execution_count": 55
        }
      ]
    },
    {
      "cell_type": "code",
      "metadata": {
        "id": "Gb3wkGzIX6H8",
        "outputId": "a41782e6-3eb8-433a-97ae-c1d2bb6384b5",
        "colab": {
          "base_uri": "https://localhost:8080/"
        }
      },
      "source": [
        "wine_qu[ cols ].values.T.shape"
      ],
      "execution_count": 56,
      "outputs": [
        {
          "output_type": "execute_result",
          "data": {
            "text/plain": [
              "(5, 1599)"
            ]
          },
          "metadata": {
            "tags": []
          },
          "execution_count": 56
        }
      ]
    },
    {
      "cell_type": "code",
      "metadata": {
        "id": "DSdH-8-QX89C",
        "outputId": "9db65425-e9ef-445a-a8c9-4c0132840ea4",
        "colab": {
          "base_uri": "https://localhost:8080/"
        }
      },
      "source": [
        "corr_tmp = np.corrcoef(wine_qu[ cols ].values.T)\n",
        "corr_tmp"
      ],
      "execution_count": 57,
      "outputs": [
        {
          "output_type": "execute_result",
          "data": {
            "text/plain": [
              "array([[ 1.        , -0.26098669,  0.06129777, -0.20228803, -0.39055778],\n",
              "       [-0.26098669,  1.        ,  0.37126048,  0.09359475,  0.25139708],\n",
              "       [ 0.06129777,  0.37126048,  1.        , -0.22114054, -0.12890656],\n",
              "       [-0.20228803,  0.09359475, -0.22114054,  1.        ,  0.47616632],\n",
              "       [-0.39055778,  0.25139708, -0.12890656,  0.47616632,  1.        ]])"
            ]
          },
          "metadata": {
            "tags": []
          },
          "execution_count": 57
        }
      ]
    },
    {
      "cell_type": "code",
      "metadata": {
        "id": "WgVAHq-VYB6L",
        "outputId": "8960c96f-d3d1-4fa4-a66b-8699a35b1fd7",
        "colab": {
          "base_uri": "https://localhost:8080/"
        }
      },
      "source": [
        "corr_tmp.shape"
      ],
      "execution_count": 58,
      "outputs": [
        {
          "output_type": "execute_result",
          "data": {
            "text/plain": [
              "(5, 5)"
            ]
          },
          "metadata": {
            "tags": []
          },
          "execution_count": 58
        }
      ]
    },
    {
      "cell_type": "code",
      "metadata": {
        "id": "qfCfsN9SYDLD",
        "outputId": "f98008ce-36d0-4cf9-e0a4-e602a9fa7150",
        "colab": {
          "base_uri": "https://localhost:8080/",
          "height": 272
        }
      },
      "source": [
        "# 히트맵으로 확인\n",
        "sns.heatmap(\n",
        "    corr_tmp, cbar=True, annot=True, square=True, fmt='.2f', annot_kws={'size':15}, yticklabels=cols\n",
        "    )\n",
        "plt.show()"
      ],
      "execution_count": 59,
      "outputs": [
        {
          "output_type": "display_data",
          "data": {
            "image/png": "[encoded data removed]",
            "text/plain": [
              "<Figure size 432x288 with 2 Axes>"
            ]
          },
          "metadata": {
            "tags": []
          }
        }
      ]
    },
    {
      "cell_type": "code",
      "metadata": {
        "id": "t-IbgyYJejfr"
      },
      "source": [
        "# 실제 변수를 후진 제거법으로 처리하면서 성능 확인\n",
        "#    -> 조합을 찾아라\n",
        "# R제곱이 높으면서, VIF가 낮은 조합 찾기 -> 사용할 독립변수 리스트\n",
        "\n",
        "# 대상 컬럼\n",
        "columns = wine_qu.columns[:-1]"
      ],
      "execution_count": 60,
      "outputs": []
    },
    {
      "cell_type": "code",
      "metadata": {
        "id": "oKE-gDpBehdr",
        "outputId": "5e5e08a7-d635-4ce9-e03a-9f77f93c5b65",
        "colab": {
          "base_uri": "https://localhost:8080/",
          "height": 215
        }
      },
      "source": [
        "# x, 독립변수 데이터 -> DataFrame(2D)\n",
        "target_df = wine_qu[columns]\n",
        "target_df.head()"
      ],
      "execution_count": 61,
      "outputs": [
        {
          "output_type": "execute_result",
          "data": {
            "text/html": [
              "<div>\n",
              "<style scoped>\n",
              "    .dataframe tbody tr th:only-of-type {\n",
              "        vertical-align: middle;\n",
              "    }\n",
              "\n",
              "    .dataframe tbody tr th {\n",
              "        vertical-align: top;\n",
              "    }\n",
              "\n",
              "    .dataframe thead th {\n",
              "        text-align: right;\n",
              "    }\n",
              "</style>\n",
              "<table border=\"1\" class=\"dataframe\">\n",
              "  <thead>\n",
              "    <tr style=\"text-align: right;\">\n",
              "      <th></th>\n",
              "      <th>fixed_acidity</th>\n",
              "      <th>volatile_acidity</th>\n",
              "      <th>citric_acid</th>\n",
              "      <th>residual_sugar</th>\n",
              "      <th>chlorides</th>\n",
              "      <th>free_sulfur_dioxide</th>\n",
              "      <th>total_sulfur_dioxide</th>\n",
              "      <th>density</th>\n",
              "      <th>pH</th>\n",
              "      <th>sulphates</th>\n",
              "      <th>alcohol</th>\n",
              "    </tr>\n",
              "  </thead>\n",
              "  <tbody>\n",
              "    <tr>\n",
              "      <th>0</th>\n",
              "      <td>7.4</td>\n",
              "      <td>0.70</td>\n",
              "      <td>0.00</td>\n",
              "      <td>1.9</td>\n",
              "      <td>0.076</td>\n",
              "      <td>11.0</td>\n",
              "      <td>34.0</td>\n",
              "      <td>0.9978</td>\n",
              "      <td>3.51</td>\n",
              "      <td>0.56</td>\n",
              "      <td>9.4</td>\n",
              "    </tr>\n",
              "    <tr>\n",
              "      <th>1</th>\n",
              "      <td>7.8</td>\n",
              "      <td>0.88</td>\n",
              "      <td>0.00</td>\n",
              "      <td>2.6</td>\n",
              "      <td>0.098</td>\n",
              "      <td>25.0</td>\n",
              "      <td>67.0</td>\n",
              "      <td>0.9968</td>\n",
              "      <td>3.20</td>\n",
              "      <td>0.68</td>\n",
              "      <td>9.8</td>\n",
              "    </tr>\n",
              "    <tr>\n",
              "      <th>2</th>\n",
              "      <td>7.8</td>\n",
              "      <td>0.76</td>\n",
              "      <td>0.04</td>\n",
              "      <td>2.3</td>\n",
              "      <td>0.092</td>\n",
              "      <td>15.0</td>\n",
              "      <td>54.0</td>\n",
              "      <td>0.9970</td>\n",
              "      <td>3.26</td>\n",
              "      <td>0.65</td>\n",
              "      <td>9.8</td>\n",
              "    </tr>\n",
              "    <tr>\n",
              "      <th>3</th>\n",
              "      <td>11.2</td>\n",
              "      <td>0.28</td>\n",
              "      <td>0.56</td>\n",
              "      <td>1.9</td>\n",
              "      <td>0.075</td>\n",
              "      <td>17.0</td>\n",
              "      <td>60.0</td>\n",
              "      <td>0.9980</td>\n",
              "      <td>3.16</td>\n",
              "      <td>0.58</td>\n",
              "      <td>9.8</td>\n",
              "    </tr>\n",
              "    <tr>\n",
              "      <th>4</th>\n",
              "      <td>7.4</td>\n",
              "      <td>0.70</td>\n",
              "      <td>0.00</td>\n",
              "      <td>1.9</td>\n",
              "      <td>0.076</td>\n",
              "      <td>11.0</td>\n",
              "      <td>34.0</td>\n",
              "      <td>0.9978</td>\n",
              "      <td>3.51</td>\n",
              "      <td>0.56</td>\n",
              "      <td>9.4</td>\n",
              "    </tr>\n",
              "  </tbody>\n",
              "</table>\n",
              "</div>"
            ],
            "text/plain": [
              "   fixed_acidity  volatile_acidity  citric_acid  ...    pH  sulphates  alcohol\n",
              "0            7.4              0.70         0.00  ...  3.51       0.56      9.4\n",
              "1            7.8              0.88         0.00  ...  3.20       0.68      9.8\n",
              "2            7.8              0.76         0.04  ...  3.26       0.65      9.8\n",
              "3           11.2              0.28         0.56  ...  3.16       0.58      9.8\n",
              "4            7.4              0.70         0.00  ...  3.51       0.56      9.4\n",
              "\n",
              "[5 rows x 11 columns]"
            ]
          },
          "metadata": {
            "tags": []
          },
          "execution_count": 61
        }
      ]
    },
    {
      "cell_type": "code",
      "metadata": {
        "id": "ZObG9IIBf6ZY",
        "outputId": "ff99a052-ba0d-4702-f74f-604d1969e7cd",
        "colab": {
          "base_uri": "https://localhost:8080/"
        }
      },
      "source": [
        "# y, 종속변수 데이터 -> Series(1D)\n",
        "y_data = wine_qu['quality']\n",
        "y_data.head()"
      ],
      "execution_count": 62,
      "outputs": [
        {
          "output_type": "execute_result",
          "data": {
            "text/plain": [
              "0    5\n",
              "1    5\n",
              "2    5\n",
              "3    6\n",
              "4    5\n",
              "Name: quality, dtype: int64"
            ]
          },
          "metadata": {
            "tags": []
          },
          "execution_count": 62
        }
      ]
    },
    {
      "cell_type": "code",
      "metadata": {
        "id": "I2TJnyZei0ee"
      },
      "source": [
        "import random as r"
      ],
      "execution_count": 63,
      "outputs": []
    },
    {
      "cell_type": "code",
      "metadata": {
        "id": "PyItLmJhi260",
        "outputId": "d41789c2-72aa-42f5-dbcd-58bfc506c4d5",
        "colab": {
          "base_uri": "https://localhost:8080/"
        }
      },
      "source": [
        "for n in range (10) :\n",
        "  print(r.randint(0, 100))"
      ],
      "execution_count": 64,
      "outputs": [
        {
          "output_type": "stream",
          "text": [
            "76\n",
            "26\n",
            "98\n",
            "2\n",
            "99\n",
            "62\n",
            "31\n",
            "77\n",
            "57\n",
            "59\n"
          ],
          "name": "stdout"
        }
      ]
    },
    {
      "cell_type": "code",
      "metadata": {
        "id": "dmIE6CsLjohQ",
        "outputId": "0f2b8155-23b9-4fe7-d65f-86032e2f968a",
        "colab": {
          "base_uri": "https://localhost:8080/"
        }
      },
      "source": [
        "# 언제 구동하더라도 난수값이 동일한 패턴으로 나오게 하고 싶음\n",
        "# 동일한 순서대로 난수가 나오게 하고 싶음\n",
        "# 이런 난수를 가지고 셔플해서 동일하게 항상 데이터를 구성하고 싶다면 난수의 시드를 고정해라\n",
        "#    -> 아무런 설정하지 않으면 seed는 현재 시간(항상 바뀜, 항상 흐름 -> 동일 패턴 나올 수  X)\n",
        "\n",
        "r.seed = 0\n",
        "for n in range (10) :\n",
        "  print(r.randint(0, 100))"
      ],
      "execution_count": 65,
      "outputs": [
        {
          "output_type": "stream",
          "text": [
            "19\n",
            "21\n",
            "14\n",
            "81\n",
            "56\n",
            "10\n",
            "47\n",
            "81\n",
            "8\n",
            "50\n"
          ],
          "name": "stdout"
        }
      ]
    },
    {
      "cell_type": "code",
      "metadata": {
        "id": "Ygw0h4mZgGS-",
        "outputId": "4933333d-4a74-45fe-c3f9-93e9f7b72201",
        "colab": {
          "base_uri": "https://localhost:8080/"
        }
      },
      "source": [
        "# 데이터 통계 모델이므로, 훈련:테스트 = 7:3\n",
        "# 단순회귀만 \n",
        "\n",
        "# X_train, X_test, y_train, y_test = train_test_split(target_df, y_data, train_size=0.7, random_state=1) 로 써도 OK\n",
        "# random_state = 42 -> 데이터 셔플할 때 사용하는 재료의 난수값을 42 넣어서 나오는 난수의 패턴으로 구성 = 시드를 고정\n",
        "# 어떤 독립변수가 성능 향상에 영향을 미쳤는지 체크 可\n",
        "#    = 실험환경 통제\n",
        "X_train, X_test, y_train, y_test = train_test_split(target_df, y_data, train_size=0.7, random_state=42)\n",
        "X_train.shape, X_test.shape, y_train.shape, y_test.shape"
      ],
      "execution_count": 66,
      "outputs": [
        {
          "output_type": "execute_result",
          "data": {
            "text/plain": [
              "((1119, 11), (480, 11), (1119,), (480,))"
            ]
          },
          "metadata": {
            "tags": []
          },
          "execution_count": 66
        }
      ]
    },
    {
      "cell_type": "code",
      "metadata": {
        "id": "TNcLi8ushWRN",
        "outputId": "b5c809b2-f608-437a-d7d9-fd41e2f87d79",
        "colab": {
          "base_uri": "https://localhost:8080/",
          "height": 215
        }
      },
      "source": [
        "# 회귀식의 상수를 만들기 위해 0이 아닌 값을 부여\n",
        "# augmentation : 수식을 간단하게 구성하기 위해, 0이 아닌 상수값을 부여하는 행윈\n",
        "X_train_added = sm.add_constant(X_train)\n",
        "X_train_added.head()"
      ],
      "execution_count": 67,
      "outputs": [
        {
          "output_type": "execute_result",
          "data": {
            "text/html": [
              "<div>\n",
              "<style scoped>\n",
              "    .dataframe tbody tr th:only-of-type {\n",
              "        vertical-align: middle;\n",
              "    }\n",
              "\n",
              "    .dataframe tbody tr th {\n",
              "        vertical-align: top;\n",
              "    }\n",
              "\n",
              "    .dataframe thead th {\n",
              "        text-align: right;\n",
              "    }\n",
              "</style>\n",
              "<table border=\"1\" class=\"dataframe\">\n",
              "  <thead>\n",
              "    <tr style=\"text-align: right;\">\n",
              "      <th></th>\n",
              "      <th>const</th>\n",
              "      <th>fixed_acidity</th>\n",
              "      <th>volatile_acidity</th>\n",
              "      <th>citric_acid</th>\n",
              "      <th>residual_sugar</th>\n",
              "      <th>chlorides</th>\n",
              "      <th>free_sulfur_dioxide</th>\n",
              "      <th>total_sulfur_dioxide</th>\n",
              "      <th>density</th>\n",
              "      <th>pH</th>\n",
              "      <th>sulphates</th>\n",
              "      <th>alcohol</th>\n",
              "    </tr>\n",
              "  </thead>\n",
              "  <tbody>\n",
              "    <tr>\n",
              "      <th>925</th>\n",
              "      <td>1.0</td>\n",
              "      <td>8.6</td>\n",
              "      <td>0.22</td>\n",
              "      <td>0.36</td>\n",
              "      <td>1.9</td>\n",
              "      <td>0.064</td>\n",
              "      <td>53.0</td>\n",
              "      <td>77.0</td>\n",
              "      <td>0.99604</td>\n",
              "      <td>3.47</td>\n",
              "      <td>0.87</td>\n",
              "      <td>11.0</td>\n",
              "    </tr>\n",
              "    <tr>\n",
              "      <th>363</th>\n",
              "      <td>1.0</td>\n",
              "      <td>12.5</td>\n",
              "      <td>0.46</td>\n",
              "      <td>0.63</td>\n",
              "      <td>2.0</td>\n",
              "      <td>0.071</td>\n",
              "      <td>6.0</td>\n",
              "      <td>15.0</td>\n",
              "      <td>0.99880</td>\n",
              "      <td>2.99</td>\n",
              "      <td>0.87</td>\n",
              "      <td>10.2</td>\n",
              "    </tr>\n",
              "    <tr>\n",
              "      <th>906</th>\n",
              "      <td>1.0</td>\n",
              "      <td>7.2</td>\n",
              "      <td>0.54</td>\n",
              "      <td>0.27</td>\n",
              "      <td>2.6</td>\n",
              "      <td>0.084</td>\n",
              "      <td>12.0</td>\n",
              "      <td>78.0</td>\n",
              "      <td>0.99640</td>\n",
              "      <td>3.39</td>\n",
              "      <td>0.71</td>\n",
              "      <td>11.0</td>\n",
              "    </tr>\n",
              "    <tr>\n",
              "      <th>426</th>\n",
              "      <td>1.0</td>\n",
              "      <td>6.4</td>\n",
              "      <td>0.67</td>\n",
              "      <td>0.08</td>\n",
              "      <td>2.1</td>\n",
              "      <td>0.045</td>\n",
              "      <td>19.0</td>\n",
              "      <td>48.0</td>\n",
              "      <td>0.99490</td>\n",
              "      <td>3.49</td>\n",
              "      <td>0.49</td>\n",
              "      <td>11.4</td>\n",
              "    </tr>\n",
              "    <tr>\n",
              "      <th>1251</th>\n",
              "      <td>1.0</td>\n",
              "      <td>7.5</td>\n",
              "      <td>0.58</td>\n",
              "      <td>0.14</td>\n",
              "      <td>2.2</td>\n",
              "      <td>0.077</td>\n",
              "      <td>27.0</td>\n",
              "      <td>60.0</td>\n",
              "      <td>0.99630</td>\n",
              "      <td>3.28</td>\n",
              "      <td>0.59</td>\n",
              "      <td>9.8</td>\n",
              "    </tr>\n",
              "  </tbody>\n",
              "</table>\n",
              "</div>"
            ],
            "text/plain": [
              "      const  fixed_acidity  volatile_acidity  ...    pH  sulphates  alcohol\n",
              "925     1.0            8.6              0.22  ...  3.47       0.87     11.0\n",
              "363     1.0           12.5              0.46  ...  2.99       0.87     10.2\n",
              "906     1.0            7.2              0.54  ...  3.39       0.71     11.0\n",
              "426     1.0            6.4              0.67  ...  3.49       0.49     11.4\n",
              "1251    1.0            7.5              0.58  ...  3.28       0.59      9.8\n",
              "\n",
              "[5 rows x 12 columns]"
            ]
          },
          "metadata": {
            "tags": []
          },
          "execution_count": 67
        }
      ]
    },
    {
      "cell_type": "code",
      "metadata": {
        "id": "1hKU8UuQg9mU"
      },
      "source": [
        "# 독립변수가 전체 다 적용(11개)\n",
        "full_model = sm.OLS(y_train, X_train_added)\n",
        "full_model_res = full_model.fit()"
      ],
      "execution_count": 68,
      "outputs": []
    },
    {
      "cell_type": "code",
      "metadata": {
        "id": "84eGJwI9iMMj",
        "outputId": "f49d42b8-795c-42c5-9308-340ab673c142",
        "colab": {
          "base_uri": "https://localhost:8080/"
        }
      },
      "source": [
        "print(full_model_res.summary())"
      ],
      "execution_count": 69,
      "outputs": [
        {
          "output_type": "stream",
          "text": [
            "                            OLS Regression Results                            \n",
            "==============================================================================\n",
            "Dep. Variable:                quality   R-squared:                       0.361\n",
            "Model:                            OLS   Adj. R-squared:                  0.355\n",
            "Method:                 Least Squares   F-statistic:                     56.90\n",
            "Date:                Wed, 07 Oct 2020   Prob (F-statistic):          8.34e-100\n",
            "Time:                        04:53:46   Log-Likelihood:                -1103.5\n",
            "No. Observations:                1119   AIC:                             2231.\n",
            "Df Residuals:                    1107   BIC:                             2291.\n",
            "Df Model:                          11                                         \n",
            "Covariance Type:            nonrobust                                         \n",
            "========================================================================================\n",
            "                           coef    std err          t      P>|t|      [0.025      0.975]\n",
            "----------------------------------------------------------------------------------------\n",
            "const                   17.9626     25.237      0.712      0.477     -31.555      67.480\n",
            "fixed_acidity            0.0235      0.031      0.769      0.442      -0.036       0.083\n",
            "volatile_acidity        -1.0996      0.145     -7.599      0.000      -1.384      -0.816\n",
            "citric_acid             -0.2479      0.177     -1.402      0.161      -0.595       0.099\n",
            "residual_sugar           0.0077      0.018      0.429      0.668      -0.028       0.043\n",
            "chlorides               -1.6736      0.500     -3.344      0.001      -2.656      -0.692\n",
            "free_sulfur_dioxide      0.0046      0.003      1.706      0.088      -0.001       0.010\n",
            "total_sulfur_dioxide    -0.0033      0.001     -3.723      0.000      -0.005      -0.002\n",
            "density                -14.2396     25.750     -0.553      0.580     -64.763      36.284\n",
            "pH                      -0.3192      0.227     -1.404      0.161      -0.766       0.127\n",
            "sulphates                0.8128      0.135      6.007      0.000       0.547       1.078\n",
            "alcohol                  0.2920      0.032      9.268      0.000       0.230       0.354\n",
            "==============================================================================\n",
            "Omnibus:                       29.060   Durbin-Watson:                   2.001\n",
            "Prob(Omnibus):                  0.000   Jarque-Bera (JB):               50.192\n",
            "Skew:                          -0.193   Prob(JB):                     1.26e-11\n",
            "Kurtosis:                       3.963   Cond. No.                     1.13e+05\n",
            "==============================================================================\n",
            "\n",
            "Warnings:\n",
            "[1] Standard Errors assume that the covariance matrix of the errors is correctly specified.\n",
            "[2] The condition number is large, 1.13e+05. This might indicate that there are\n",
            "strong multicollinearity or other numerical problems.\n"
          ],
          "name": "stdout"
        }
      ]
    },
    {
      "cell_type": "code",
      "metadata": {
        "id": "M-TV7vTGiPe8",
        "outputId": "0286b916-113f-4a43-d08f-b021b313ce5c",
        "colab": {
          "base_uri": "https://localhost:8080/"
        }
      },
      "source": [
        "# 후진 제거법 사용\n",
        "# 1차로 수행할 방법 : 맨뒤에서(or 맨앞에서) 하나씩 교대로 제거\n",
        "# 1회 수행 시 독립변수는 10개 -> 9개 -> 8개씩 -> ... -> 2개씩, 11개 해결\n",
        "\n",
        "# 순환하면서 컬럼을 10개씩 구성\n",
        "print(f'{\"제거된 컬럼\":25} {\"R제곱값\":25} {\"다중공선성\":25}')\n",
        "print(\"=\"*77)\n",
        "for idx in range(len(columns)) :\n",
        "  # 독립변수 원본을 리스트로 생성 -> 사본\n",
        "  tmp = list(columns)\n",
        "  # 반복적으로 해당 위치에 해당되는 컬럼 제거\n",
        "  # rm_col : 제거된 컬럼명\n",
        "  rm_col = tmp.pop(idx)\n",
        "  # 다중 회귀 모델 생성\n",
        "  m_model = sm.OLS(y_train, sm.add_constant(X_train[tmp]))\n",
        "  m_model_res = m_model.fit()\n",
        "  # 다중공선성을 점검하는 지표\n",
        "  vif = 1/(1-m_model_res.rsquared)\n",
        "  print(f'{rm_col:25} {m_model_res.rsquared:25} {vif:25}')\n",
        "  # print(tmp)"
      ],
      "execution_count": 70,
      "outputs": [
        {
          "output_type": "stream",
          "text": [
            "제거된 컬럼                    R제곱값                      다중공선성                    \n",
            "=============================================================================\n",
            "fixed_acidity                   0.36085686340584544        1.5645947562368703\n",
            "volatile_acidity                  0.327878240854684        1.4878256601476803\n",
            "citric_acid                     0.36006386105865407        1.5626559263465134\n",
            "residual_sugar                   0.3610919733704998        1.5651705070531152\n",
            "chlorides                       0.35474515532946393        1.5497752682672148\n",
            "free_sulfur_dioxide              0.3595183344246542         1.561324943004728\n",
            "total_sulfur_dioxide             0.3531997417016609        1.5460723572233737\n",
            "density                          0.3610217765909469        1.5649985607722856\n",
            "pH                               0.3600613329280392         1.562649752945075\n",
            "sulphates                        0.3403762077814967         1.516015661952875\n",
            "alcohol                          0.3116341739573988        1.4527159283152917\n"
          ],
          "name": "stdout"
        }
      ]
    },
    {
      "cell_type": "code",
      "metadata": {
        "id": "JjtSALu-tl1A",
        "outputId": "071e064d-9395-4769-f693-ae69ae1247a0",
        "colab": {
          "base_uri": "https://localhost:8080/"
        }
      },
      "source": [
        "a = list(columns)\n",
        "# 맨 뒤에서 빠진다\n",
        "# a.pop()\n",
        "# a.pop( 빼고 싶은 컬럼의 인덱스값을 넣으면 된다 )\n",
        "# 인덱스만 자동으로 게산되면 된다 0 ~ len( columns )-1 <= 연속으로 생성\n",
        "a.pop( 0 )\n",
        "# a[:]\n",
        "a"
      ],
      "execution_count": 71,
      "outputs": [
        {
          "output_type": "execute_result",
          "data": {
            "text/plain": [
              "['volatile_acidity',\n",
              " 'citric_acid',\n",
              " 'residual_sugar',\n",
              " 'chlorides',\n",
              " 'free_sulfur_dioxide',\n",
              " 'total_sulfur_dioxide',\n",
              " 'density',\n",
              " 'pH',\n",
              " 'sulphates',\n",
              " 'alcohol']"
            ]
          },
          "metadata": {
            "tags": []
          },
          "execution_count": 71
        }
      ]
    },
    {
      "cell_type": "code",
      "metadata": {
        "id": "v9m6FEf0qe2s",
        "outputId": "9074c877-d011-4e95-b60f-2d15d4b38aa6",
        "colab": {
          "base_uri": "https://localhost:8080/"
        }
      },
      "source": [
        "#range( 0, len( columns ) )\n",
        "range( len( columns ) )"
      ],
      "execution_count": 72,
      "outputs": [
        {
          "output_type": "execute_result",
          "data": {
            "text/plain": [
              "range(0, 11)"
            ]
          },
          "metadata": {
            "tags": []
          },
          "execution_count": 72
        }
      ]
    },
    {
      "cell_type": "markdown",
      "metadata": {
        "id": "kUT3c0FNtVCn"
      },
      "source": [
        "- 독립 변수 6개 혹은 5개 정도의 조합으로 구성하여 로테이션 후 성능 비교를 수행하시오\n",
        "- 최초 대상은 11개였고 여기서 5개 혹은 6개로 택일하여 중복 없는 조합을 만들고 그것을 이용하여 로테이션 학습 후 R제곱의 최대값과 VIF의 최소값을 찾으시오\n",
        "- volatile acidity, alcohol은 고정으로 두고 5개 조합으로 하고, 나머지 3자리를 로테이션"
      ]
    },
    {
      "cell_type": "code",
      "metadata": {
        "id": "cD60xyusti6Q"
      },
      "source": [
        "# 단순 회귀에서 점수가 높았던 변수 6개를 모아서 (5,6등에 위치한 변수 조합) 2조합으로 구성하여\n",
        "# 5개로 구성해서 비교"
      ],
      "execution_count": 73,
      "outputs": []
    },
    {
      "cell_type": "code",
      "metadata": {
        "id": "aeMGwKo0vmaJ"
      },
      "source": [
        "# 조합 만들기\n",
        "# itertools or 재귀적 호출, 기타 로직 등"
      ],
      "execution_count": 74,
      "outputs": []
    },
    {
      "cell_type": "code",
      "metadata": {
        "id": "V7qdO7XfvueD"
      },
      "source": [
        "from itertools import permutations, combinations"
      ],
      "execution_count": 75,
      "outputs": []
    },
    {
      "cell_type": "code",
      "metadata": {
        "id": "yHs9k89Uv2Xf",
        "outputId": "d0679ee1-84e9-4e1c-bd08-50ed13d74484",
        "colab": {
          "base_uri": "https://localhost:8080/"
        }
      },
      "source": [
        "targets = [1, 2, 3]\n",
        "[item for item in list( permutations (targets) )]"
      ],
      "execution_count": 76,
      "outputs": [
        {
          "output_type": "execute_result",
          "data": {
            "text/plain": [
              "[(1, 2, 3), (1, 3, 2), (2, 1, 3), (2, 3, 1), (3, 1, 2), (3, 2, 1)]"
            ]
          },
          "metadata": {
            "tags": []
          },
          "execution_count": 76
        }
      ]
    },
    {
      "cell_type": "code",
      "metadata": {
        "id": "51Q5bO4vwLkx",
        "outputId": "b8c0270d-4db7-4cf2-c7ce-23a6a2bc7aa1",
        "colab": {
          "base_uri": "https://localhost:8080/"
        }
      },
      "source": [
        "[item for item in list(combinations(targets, 2))]"
      ],
      "execution_count": 77,
      "outputs": [
        {
          "output_type": "execute_result",
          "data": {
            "text/plain": [
              "[(1, 2), (1, 3), (2, 3)]"
            ]
          },
          "metadata": {
            "tags": []
          },
          "execution_count": 77
        }
      ]
    },
    {
      "cell_type": "code",
      "metadata": {
        "id": "dAwU9RF6wmJf",
        "outputId": "9dfcba30-06b5-4f81-ed37-986d56734bab",
        "colab": {
          "base_uri": "https://localhost:8080/"
        }
      },
      "source": [
        "# 5개\n",
        "five_cols = [item for item in list(combinations(columns, 5))]\n",
        "len(five_cols)"
      ],
      "execution_count": 78,
      "outputs": [
        {
          "output_type": "execute_result",
          "data": {
            "text/plain": [
              "462"
            ]
          },
          "metadata": {
            "tags": []
          },
          "execution_count": 78
        }
      ]
    },
    {
      "cell_type": "code",
      "metadata": {
        "id": "qyDFX_6LwjtU",
        "outputId": "c38f8437-f0a2-40e5-9682-0708d8dbcdc2",
        "colab": {
          "base_uri": "https://localhost:8080/"
        }
      },
      "source": [
        "print(f'{\"제거된 컬럼\":25} {\"R제곱값\":25} {\"다중공선성\":25}')\n",
        "print(\"=\"*77)\n",
        "for idx, cols in enumerate(five_cols) :\n",
        "  m_model = sm.OLS(y_train, sm.add_constant(X_train[ list(cols) ]))\n",
        "  m_model_res = m_model.fit()\n",
        "  vif = 1/(1-m_model_res.rsquared)\n",
        "  print(f'{idx:25} {m_model_res.rsquared:25} {vif:25}')"
      ],
      "execution_count": 79,
      "outputs": [
        {
          "output_type": "stream",
          "text": [
            "제거된 컬럼                    R제곱값                      다중공선성                    \n",
            "=============================================================================\n",
            "                        0       0.15854632261382606        1.1884195492570928\n",
            "                        1       0.15239321656369675        1.1797923512903894\n",
            "                        2        0.1790941829886893        1.2181665414928124\n",
            "                        3       0.22626474425712018        1.2924317362789401\n",
            "                        4       0.15465558141225078        1.1829497871064456\n",
            "                        5       0.17125187728549862        1.2066392340347947\n",
            "                        6        0.3309731293551389        1.4947082753733356\n",
            "                        7         0.162342228881869        1.1938049576799958\n",
            "                        8        0.1892278073661674        1.2333920786694124\n",
            "                        9        0.2161471164651778        1.2757495966468249\n",
            "                       10       0.16177075214868664         1.192991061291841\n",
            "                       11       0.19923726654039475         1.248809364141626\n",
            "                       12        0.3308732551544282         1.494485174450456\n",
            "                       13       0.18339101808750247        1.2245762931213429\n",
            "                       14       0.21322602419631065         1.271013061887946\n",
            "                       15        0.1580571580240112        1.1877290834292986\n",
            "                       16       0.17633578267557604        1.2140869773952085\n",
            "                       17        0.3309355889686305        1.4946244091185332\n",
            "                       18       0.22873761497136114        1.2965756134507551\n",
            "                       19        0.1804801735047199        1.2202267323739475\n",
            "                       20       0.20249381313494574        1.2539087676936225\n",
            "                       21       0.33497452121016535        1.5037017857116208\n",
            "                       22        0.2300705373820353        1.2988202797172281\n",
            "                       23       0.24285389927556889        1.3207490589243058\n",
            "                       24        0.3309134011084526        1.4945748452542098\n",
            "                       25        0.1796511450906645        1.2189935952437203\n",
            "                       26        0.3319800026438724        1.4969611747519151\n",
            "                       27        0.3469520749511966        1.5312811841876204\n",
            "                       28       0.16268804517488644        1.1942980083317531\n",
            "                       29       0.18900079666289138        1.2330468339366905\n",
            "                       30       0.22903239362610972        1.2970713577750992\n",
            "                       31       0.16178610403124005        1.1930129109160816\n",
            "                       32       0.19937232911498626        1.2490200331130201\n",
            "                       33       0.32813656772256794        1.4883977188790813\n",
            "                       34       0.18378944416951715        1.2251740593853433\n",
            "                       35       0.22731764707148172        1.2941928804377796\n",
            "                       36       0.15806577907312702        1.1877412452710554\n",
            "                       37       0.17402157166607446        1.2106853710660361\n",
            "                       38        0.3274479948204496        1.4868738659593042\n",
            "                       39        0.2458409262004585        1.3259802006516783\n",
            "                       40       0.18141009260706176        1.2216129113841878\n",
            "                       41        0.2037237030796717        1.2558454946701187\n",
            "                       42        0.3329692808111391          1.49918132888399\n",
            "                       43       0.24682440544051976        1.3277116348743128\n",
            "                       44        0.2550831177275624         1.342431650829832\n",
            "                       45       0.32735283320422537        1.4866635130028198\n",
            "                       46       0.17802973860083404        1.2165890263448096\n",
            "                       47        0.3279450756132164        1.4879736219661657\n",
            "                       48       0.34056796106672915        1.5164564973483066\n",
            "                       49       0.19228127352308255        1.2380547425980442\n",
            "                       50        0.2174804692762814        1.2779233753758747\n",
            "                       51       0.16518688164139483         1.197872886767978\n",
            "                       52       0.20478251702659345        1.2575176243118913\n",
            "                       53        0.3278782887516012        1.4878257661735106\n",
            "                       54       0.23311372200262326        1.3039743032192064\n",
            "                       55       0.18798271314927473         1.231500875896786\n",
            "                       56       0.23187078916519688         1.301864303419993\n",
            "                       57       0.33378558932691615        1.5010182667614302\n",
            "                       58       0.23080148654956645        1.3000545145546996\n",
            "                       59        0.2609321819610253        1.3530558029889281\n",
            "                       60       0.32787937315745896         1.487828166645854\n",
            "                       61        0.2021596676036843        1.2533836149853408\n",
            "                       62        0.3286817960255578        1.4896065592734486\n",
            "                       63        0.3471334152230674        1.5317065129649325\n",
            "                       64        0.2332706602241008        1.3042412075847802\n",
            "                       65       0.18461143131655078        1.2264091482354602\n",
            "                       66       0.20674500587920985        1.2606286848636323\n",
            "                       67        0.3353418478368606        1.5045328139668277\n",
            "                       68       0.23072252064351517        1.2999210646807429\n",
            "                       69       0.24234810793004158          1.31986735658764\n",
            "                       70        0.3272444783240399        1.4864240690419197\n",
            "                       71         0.182672262045656         1.223499403682125\n",
            "                       72        0.3275810175608641         1.487168009999651\n",
            "                       73        0.3405906239669584        1.5165086156583434\n",
            "                       74       0.24020834133944846        1.3161502743566775\n",
            "                       75       0.25974826319395006        1.3508917983964224\n",
            "                       76       0.33305038600075654        1.4993636385868487\n",
            "                       77        0.2062475738855014        1.2598386689601755\n",
            "                       78       0.33423284116183893        1.5020266270645026\n",
            "                       79        0.3478178683993275        1.5333140108356946\n",
            "                       80        0.2650205358012583        1.3605822321718577\n",
            "                       81       0.32738581250826826        1.4867364063923982\n",
            "                       82       0.34134930462622726         1.518255438009547\n",
            "                       83        0.3401434124599192        1.5154808164118818\n",
            "                       84        0.0759717161689677        1.0822179553357263\n",
            "                       85       0.12158791038783989        1.1384178471877862\n",
            "                       86       0.16795527394627718         1.201858468285553\n",
            "                       87        0.0751944791607384         1.081308423734862\n",
            "                       88       0.14087556686919323        1.1639757425543316\n",
            "                       89         0.269599327620598        1.3691115545421573\n",
            "                       90       0.10653304651844309        1.1192355756453192\n",
            "                       91       0.15647073714080262        1.1854953278211533\n",
            "                       92       0.05013212065070516         1.052777993382667\n",
            "                       93       0.08099084125350753        1.0881284375489546\n",
            "                       94        0.2653821156086885         1.361251912385142\n",
            "                       95       0.18431174536875505        1.2259585623824858\n",
            "                       96       0.09215535780884287        1.1015100530707747\n",
            "                       97        0.1274282897105944        1.1460376129640168\n",
            "                       98       0.27343108673658845        1.3763319373360778\n",
            "                       99       0.18018678302850222        1.2197900439982376\n",
            "                      100       0.20349547998923945        1.2554856562351842\n",
            "                      101       0.26664143340164204         1.363589443890242\n",
            "                      102       0.08653462325949701        1.0947322421439514\n",
            "                      103        0.2672653376047345        1.3647505042699362\n",
            "                      104        0.2888409700822149        1.4061552450731123\n",
            "                      105        0.1371811396891296        1.1589918185605073\n",
            "                      106       0.15694153347632733        1.1861573540960584\n",
            "                      107       0.07720419242786325         1.083663354118379\n",
            "                      108        0.1457211656134635        1.1705779889982957\n",
            "                      109       0.26789887783317234        1.3659315219190784\n",
            "                      110       0.18307766413321291        1.2241065718186788\n",
            "                      111       0.12139959052849758        1.1381738378673443\n",
            "                      112       0.18960543374362093        1.2339668127582641\n",
            "                      113        0.2779506501323252         1.384946887886906\n",
            "                      114       0.17036535218749072         1.205349852054385\n",
            "                      115       0.22435477997013387        1.2892492265490854\n",
            "                      116        0.2703529848557664        1.3705257189359217\n",
            "                      117       0.14239488592458815        1.1660378227549457\n",
            "                      118        0.2712122855249154         1.372141681504961\n",
            "                      119       0.30397916039292905        1.4367385904199885\n",
            "                      120       0.18036888757544012         1.220061055322667\n",
            "                      121       0.10759806942094385        1.1205713095568117\n",
            "                      122       0.13993936149399044         1.162708715209983\n",
            "                      123       0.28007144181975085        1.3890267147169193\n",
            "                      124       0.16398788131212494        1.1961549092966555\n",
            "                      125       0.18746930341330725        1.2307227335543565\n",
            "                      126       0.26633592378336546         1.363021623134131\n",
            "                      127       0.08979440434652297        1.0986528810362406\n",
            "                      128       0.26533640417977367         1.361167214068277\n",
            "                      129        0.2876247010422408        1.4037544556402366\n",
            "                      130        0.1807393170772139        1.2206127070963666\n",
            "                      131       0.21171624230204655        1.2685787195721592\n",
            "                      132        0.2750492050154816        1.3794039635770803\n",
            "                      133       0.13047904245349973        1.1500585366241987\n",
            "                      134       0.27576587515019335        1.3807689608762668\n",
            "                      135        0.2977504843348988         1.423995286138288\n",
            "                      136       0.21431454969674713        1.2727739830412128\n",
            "                      137       0.26681817312557865        1.3639181487394927\n",
            "                      138       0.29313584253668357         1.414698976375664\n",
            "                      139        0.2883335324741887        1.4051526180186804\n",
            "                      140       0.07719753215465708        1.0836555328410706\n",
            "                      141       0.15041134201137474          1.17704019538993\n",
            "                      142       0.03198370334263745        1.0330404596008143\n",
            "                      143        0.1237341757931747         1.141206209776783\n",
            "                      144        0.2599018675547573        1.3511721705013038\n",
            "                      145       0.17128188204420158        1.2066829218923114\n",
            "                      146       0.06610427022239218        1.0707833520538035\n",
            "                      147        0.1599077693068961        1.1903454923930994\n",
            "                      148       0.26495974312573667        1.3604697030506465\n",
            "                      149        0.1646601448297904        1.1971175489959582\n",
            "                      150       0.23403368319529005        1.3055404370411225\n",
            "                      151       0.26147030827677264        1.3540417009730215\n",
            "                      152       0.11975418500972712         1.136046298625175\n",
            "                      153       0.26502663260374104        1.3605935185687519\n",
            "                      154        0.3007092671242775        1.4300203806328995\n",
            "                      155       0.17204050504633628        1.2077885525740175\n",
            "                      156       0.06009874126846804        1.0639415478063896\n",
            "                      157       0.11500955958347925        1.1299557083682734\n",
            "                      158        0.2690478284583183        1.3680785678368783\n",
            "                      159        0.1635405501134679        1.1955152161119735\n",
            "                      160       0.20398257208911974        1.2562539021594852\n",
            "                      161       0.25986969358118694         1.351113434117554\n",
            "                      162       0.07254061034745418        1.0782143252381433\n",
            "                      163       0.26174353242282455        1.3545428234199148\n",
            "                      164       0.28687698658128524        1.4022826092878362\n",
            "                      165       0.17714171585599725        1.2152760922134642\n",
            "                      166       0.22744218887597634        1.2944015135191786\n",
            "                      167       0.26526636344455623        1.3610374566328147\n",
            "                      168       0.10725253546601676        1.1201375973909966\n",
            "                      169        0.2682983341474757        1.3666772219725296\n",
            "                      170        0.2943639218829336         1.417161099058909\n",
            "                      171       0.23203440287086485         1.302141663296211\n",
            "                      172        0.2617914326824119           1.3546307158608\n",
            "                      173       0.29185811345740564        1.4121463777299812\n",
            "                      174       0.28820650138507564        1.4049018457542748\n",
            "                      175        0.1573180581487157        1.1866873494442094\n",
            "                      176       0.07721586207449171         1.083677058264221\n",
            "                      177        0.1655102137911224        1.1983370156548498\n",
            "                      178        0.2704109339334362        1.3706345756951974\n",
            "                      179       0.14200504236303302        1.1655080150518995\n",
            "                      180       0.21523285186394103        1.2742633306900675\n",
            "                      181          0.26150888262119        1.3541124279861156\n",
            "                      182       0.12366849191704576        1.1411206726865049\n",
            "                      183        0.2639971454453214        1.3586903825326246\n",
            "                      184        0.3004246440816172        1.4294385751871264\n",
            "                      185       0.15348127915290388        1.1813087831056093\n",
            "                      186       0.23443764117101284         1.306229320795776\n",
            "                      187       0.26691565783754856        1.3640995210049105\n",
            "                      188       0.15794959999185498        1.1875773706542117\n",
            "                      189        0.2719583788208243        1.3735478452184446\n",
            "                      190       0.30927328600472803        1.4477505788300016\n",
            "                      191       0.22609204851098863        1.2921433331651184\n",
            "                      192       0.26440000906886685        1.3594344920181218\n",
            "                      193        0.3057336849325608        1.4403694638459632\n",
            "                      194        0.3037812782278836        1.4363302346346787\n",
            "                      195       0.15832912199603344        1.1881128670763956\n",
            "                      196       0.20860954574287127        1.2635987642012831\n",
            "                      197       0.27100055126259726        1.3717431497814698\n",
            "                      198       0.11528761934124898        1.1303108466227256\n",
            "                      199       0.27473830096384666        1.3788126428418377\n",
            "                      200        0.2988099991213159        1.4261469769204742\n",
            "                      201       0.20613612367506506        1.2596618007476788\n",
            "                      202        0.2613784443802267        1.3538732959951398\n",
            "                      203        0.2917759920071963        1.4119826336219896\n",
            "                      204        0.2872512539471982        1.4030189537870026\n",
            "                      205       0.21745637797036366        1.2778840333607986\n",
            "                      206       0.26831362751990673        1.3667057876319908\n",
            "                      207         0.299396238870977        1.4273403248485277\n",
            "                      208       0.29661260605376816        1.4216916717680637\n",
            "                      209       0.29172917458220693        1.4118893001277053\n",
            "                      210        0.1626954976091879        1.1943086381891324\n",
            "                      211       0.18967475523869892        1.2340723758329555\n",
            "                      212       0.19948900661319047        1.2492020824963197\n",
            "                      213       0.16027890094229025        1.1908715895338902\n",
            "                      214       0.19938245849377412        1.2490358356608948\n",
            "                      215       0.32535898239064487        1.4822697907452775\n",
            "                      216       0.18386939003420866         1.225294073998665\n",
            "                      217       0.19731003960918858         1.245811022120076\n",
            "                      218       0.15587193158215473        1.1846543639690912\n",
            "                      219        0.1767365473369371        1.2146779949543929\n",
            "                      220       0.32543147274094775        1.4824290781297798\n",
            "                      221       0.22441562405610926        1.2893503673059352\n",
            "                      222       0.18138300613050395        1.2215724905405763\n",
            "                      223       0.20392151739115094        1.2561575546205879\n",
            "                      224       0.33146285102280204         1.495803189889912\n",
            "                      225       0.19194269985316204         1.237536001244321\n",
            "                      226       0.21915031862754986        1.2806562182907768\n",
            "                      227       0.32719768576323083        1.4863206901040549\n",
            "                      228       0.17498446771001896         1.212098391922777\n",
            "                      229       0.32964857722766694        1.4917548706980566\n",
            "                      230       0.34059066571341057        1.5165087116667728\n",
            "                      231        0.1944863492280099        1.2414438899224334\n",
            "                      232       0.19788339614737382        1.2467015334141258\n",
            "                      233       0.16433589450239638        1.1966530492589975\n",
            "                      234       0.20480835710272727        1.2575584878589896\n",
            "                      235        0.3257440192103179         1.483116247376567\n",
            "                      236       0.22272716558120564        1.2865495302531058\n",
            "                      237       0.18972885713008414        1.2341547749782618\n",
            "                      238       0.23198102170179113         1.302051157922971\n",
            "                      239        0.3320615184951088         1.497143865325683\n",
            "                      240       0.19440899257165978        1.2413246806121443\n",
            "                      241       0.23808075248267702         1.312475046743407\n",
            "                      242        0.3264553163689745         1.484682492940305\n",
            "                      243       0.20088119857174003        1.2513783910636396\n",
            "                      244        0.3302157056352225        1.4930179886472235\n",
            "                      245       0.34594065081741787        1.5289132419707188\n",
            "                      246        0.2193656342625131        1.2810094506347698\n",
            "                      247       0.18521598252793803         1.227319115932817\n",
            "                      248       0.20659425232286266        1.2603891551425117\n",
            "                      249       0.33337765275369335        1.5000997253254629\n",
            "                      250        0.1907031798113098        1.2356405895266545\n",
            "                      251        0.2176289743148634        1.2781659432291497\n",
            "                      252       0.32661467466368077        1.4850338467066453\n",
            "                      253       0.18077004247274064        1.2206584864381325\n",
            "                      254        0.3298542523299678        1.4922127066788196\n",
            "                      255        0.3415889653507498         1.518808080931878\n",
            "                      256         0.214713727747037        1.2734209616717604\n",
            "                      257       0.24254142404366663        1.3202042088406547\n",
            "                      258       0.33223128900839105        1.4975244924474542\n",
            "                      259       0.20579789243793445         1.259125341620743\n",
            "                      260       0.33592379152436136        1.5058512671240873\n",
            "                      261       0.34827487911697275        1.5343892201747455\n",
            "                      262        0.2135724855137755        1.2715730077848346\n",
            "                      263        0.3308876625555537        1.4945173538711292\n",
            "                      264        0.3410398299818441        1.5175424031659572\n",
            "                      265        0.3440543855429963        1.5245166336355596\n",
            "                      266       0.19346088657518212        1.2398654737941803\n",
            "                      267       0.19820536186865145        1.2472021543204457\n",
            "                      268       0.16405434472181224         1.196250011811136\n",
            "                      269       0.20538882070209152         1.258477134544679\n",
            "                      270        0.3257629632777186        1.4831579185583965\n",
            "                      271       0.22176113214798565        1.2849525271849498\n",
            "                      272       0.18934382751020984        1.2335686002718922\n",
            "                      273       0.23370546343291088         1.304981247132316\n",
            "                      274       0.33206145168603196        1.4971437155771772\n",
            "                      275        0.1918431361554902        1.2373835386893417\n",
            "                      276       0.23912101045365364        1.3142694354015783\n",
            "                      277        0.3267010937490076         1.485224453382997\n",
            "                      278       0.20087594317570623        1.2513701614414963\n",
            "                      279        0.3288439941373126          1.48996655213511\n",
            "                      280        0.3456650668749005         1.528269314957718\n",
            "                      281        0.2193818133403802        1.2810360008125705\n",
            "                      282        0.1849682741490325        1.2269461031788778\n",
            "                      283        0.2072900801703642         1.261495504200217\n",
            "                      284        0.3333937414984105        1.5001359306884088\n",
            "                      285       0.19332233762156326        1.2396525237249845\n",
            "                      286       0.22606983377897016        1.2921062437491369\n",
            "                      287       0.32619179441649404        1.4841018433932809\n",
            "                      288       0.18110683495121982        1.2211605160246166\n",
            "                      289       0.32768235890079933          1.48739217725279\n",
            "                      290        0.3398733875906993        1.5148609088039104\n",
            "                      291       0.21770862080548659         1.278296075599926\n",
            "                      292       0.25156136581454935        1.3361148854753222\n",
            "                      293        0.3319612179625646         1.496919081479258\n",
            "                      294       0.20728133373401136         1.261481585529437\n",
            "                      295        0.3342780574458707         1.502128645727628\n",
            "                      296       0.34725769226499115        1.5319981379328118\n",
            "                      297       0.21734693801513805        1.2777053442606245\n",
            "                      298        0.3280075160891005        1.4881118821153236\n",
            "                      299        0.3392507172266135        1.5134333491860397\n",
            "                      300         0.340246770131968         1.515718233315851\n",
            "                      301        0.2141274416291259        1.2724709488177262\n",
            "                      302        0.1921958052981132         1.237923752511636\n",
            "                      303        0.2356525535101317        1.3083055416647558\n",
            "                      304        0.3339917830575827        1.5014829765778392\n",
            "                      305       0.19029955749894611         1.235024643078046\n",
            "                      306       0.23795151120918412        1.3122524546787762\n",
            "                      307       0.32620394163948785        1.4841285988422235\n",
            "                      308       0.20654185405603587        1.2603059217576202\n",
            "                      309        0.3287331799432427        1.4897205851995596\n",
            "                      310       0.34662391941040493        1.5305121042962233\n",
            "                      311        0.2121829335385006        1.2693302069369043\n",
            "                      312        0.2602716626741861        1.3518476304626805\n",
            "                      313        0.3325764406293902         1.498298922715606\n",
            "                      314       0.23220602579538552        1.3024327275242504\n",
            "                      315        0.3358238946782267         1.505624776301656\n",
            "                      316        0.3546389529218342         1.549520232941609\n",
            "                      317       0.23182705805176873        1.3017901899327664\n",
            "                      318        0.3285520197234014        1.4893186506988323\n",
            "                      319        0.3455327142102915        1.5279602536486707\n",
            "                      320        0.3478581094329386        1.5334086254303694\n",
            "                      321       0.21012900426295067        1.2660295230449294\n",
            "                      322        0.2412257533677864        1.3179150510688211\n",
            "                      323       0.33390581102171724        1.5012891818406238\n",
            "                      324       0.20932045365424645        1.2647348785252546\n",
            "                      325       0.33704311242681506        1.5083937111817218\n",
            "                      326        0.3491205024359054         1.536382700242492\n",
            "                      327       0.21625953575818835        1.2759325894540832\n",
            "                      328       0.32735694383196434        1.4866725982378772\n",
            "                      329       0.33968370325905517        1.5144257455640533\n",
            "                      330       0.34046222558784356        1.5162133827608226\n",
            "                      331       0.23872872337381856        1.3135921854714152\n",
            "                      332       0.33425039919792476         1.502066240513295\n",
            "                      333        0.3472813013251995         1.532053550833271\n",
            "                      334       0.34837283336995206        1.5346198734647536\n",
            "                      335        0.3398178088865157        1.5147333773323515\n",
            "                      336        0.1296554931022973        1.1489703124162265\n",
            "                      337       0.14695706569887068         1.172273938145057\n",
            "                      338       0.07659467352376548         1.082948052526462\n",
            "                      339       0.14304791396188188         1.166926385141583\n",
            "                      340       0.26874330625514786        1.3675088495653716\n",
            "                      341       0.18580607636120583        1.2282086256930065\n",
            "                      342       0.11586962305536597        1.1310549055624428\n",
            "                      343       0.18361146972179054        1.2249069688169423\n",
            "                      344       0.27846159326065867        1.3859276105883773\n",
            "                      345       0.14374744640114112        1.1678797287050013\n",
            "                      346       0.21128295072561187        1.2678818099849498\n",
            "                      347        0.2687625135540992        1.3675447697031915\n",
            "                      348        0.1422628425847089        1.1658583184310265\n",
            "                      349       0.27288542984694675        1.3752990808443104\n",
            "                      350        0.3039374224042287        1.4366524392879172\n",
            "                      351       0.17753671507795477        1.2158597451493316\n",
            "                      352        0.1053140683756395         1.117710656503154\n",
            "                      353       0.13530696591883518         1.156479768641382\n",
            "                      354        0.2809188264588637        1.3906635812414205\n",
            "                      355       0.12853997000905693         1.147499558884408\n",
            "                      356       0.16979350657397407        1.2045196079752214\n",
            "                      357         0.264036113868686        1.3587623235925674\n",
            "                      358       0.08966188295263011        1.0984929459434736\n",
            "                      359        0.2671984926461637        1.3646260139543434\n",
            "                      360       0.28721265546146013        1.4029429782418517\n",
            "                      361       0.16752042172289505        1.2012306681079126\n",
            "                      362       0.20957414639512295         1.265140804085953\n",
            "                      363        0.2736947886055895        1.3768316464095467\n",
            "                      364        0.1298537132006088        1.1492320488756462\n",
            "                      365        0.2761866917840584        1.3815717238811271\n",
            "                      366        0.2977576657251588        1.4240098484416115\n",
            "                      367       0.16590943147619797         1.198910571270251\n",
            "                      368       0.26717847106639536        1.3645887307039015\n",
            "                      369       0.28745475031723255         1.403419643096646\n",
            "                      370        0.2892167896036665        1.4068987356108185\n",
            "                      371        0.1887606216645119         1.232681778899606\n",
            "                      372        0.1312104543458218         1.151026741749089\n",
            "                      373       0.19413261703912588        1.2408989632088774\n",
            "                      374          0.28543859805934        1.3994598606699498\n",
            "                      375       0.14132423315004927        1.1645839309853785\n",
            "                      376       0.20867779795128094        1.2637077506621421\n",
            "                      377        0.2676095216730606        1.3653918634829652\n",
            "                      378       0.14641739715939328        1.1715327803918871\n",
            "                      379       0.27119499805667435        1.3721091339021345\n",
            "                      380       0.30363425830109025        1.4360269900129201\n",
            "                      381       0.17608423841039178        1.2137163125398482\n",
            "                      382       0.24289841458533434        1.3208267150204136\n",
            "                      383       0.27892841318567674        1.3868248566248127\n",
            "                      384        0.1849989725952863        1.2269923182605014\n",
            "                      385        0.2818579605721675        1.3924821902874995\n",
            "                      386         0.316171542689896        1.4623550530985256\n",
            "                      387       0.20476526894547575        1.2574903496404715\n",
            "                      388       0.27164391341238114        1.3729548203338908\n",
            "                      389       0.30456523601535124        1.4379493976836544\n",
            "                      390        0.3065848624806451         1.442137539104542\n",
            "                      391        0.1699384230150326        1.2047298992350663\n",
            "                      392        0.2062585811264267        1.2598561398233894\n",
            "                      393        0.2808357649955434        1.3905029634764903\n",
            "                      394        0.1411618033231158        1.1643636762655822\n",
            "                      395        0.2834301685241718        1.3955374006472288\n",
            "                      396       0.30303370511634287        1.4347896122680186\n",
            "                      397        0.1636705224376067        1.1957010087874085\n",
            "                      398        0.2657006392968194         1.361842394963246\n",
            "                      399        0.2872877580071306        1.4030908143289684\n",
            "                      400        0.2880860229435942        1.4046640917695719\n",
            "                      401       0.19844685263701856         1.247577909574538\n",
            "                      402       0.27639971923691153        1.3819784576996408\n",
            "                      403        0.2993951243128192        1.4273380541623562\n",
            "                      404       0.29935746660325835        1.4272613384630848\n",
            "                      405         0.288947413204659        1.4063657436462227\n",
            "                      406       0.09787625931181032        1.1084953813954004\n",
            "                      407       0.07548445203885845        1.0816475744570508\n",
            "                      408        0.1645378727987924        1.1969423477638574\n",
            "                      409       0.25559006187752187        1.3433458485551135\n",
            "                      410       0.07157309083048768        1.0770907113135169\n",
            "                      411       0.16820466666951805        1.2022188150491684\n",
            "                      412        0.2481868403340568         1.330117712284173\n",
            "                      413       0.12112733849745982         1.137821261034992\n",
            "                      414        0.2630729009562415         1.356986330530668\n",
            "                      415       0.29232699039969046        1.4130820116550658\n",
            "                      416       0.10973605818786047        1.1232623866181661\n",
            "                      417       0.20189928443291671        1.2529746941643312\n",
            "                      418       0.25464394350556996        1.3416406713097835\n",
            "                      419       0.15979103922706994           1.1901801179079\n",
            "                      420        0.2715212540281714        1.3727236457200243\n",
            "                      421        0.3028339807418139        1.4343785732185312\n",
            "                      422       0.16668541269314796        1.2000269948853892\n",
            "                      423       0.26435968878856675        1.3593599817188187\n",
            "                      424        0.2920078815580328         1.412445102073503\n",
            "                      425        0.3034022734659808        1.4355487563469156\n",
            "                      426       0.10397654570772763        1.1160422143077202\n",
            "                      427       0.16577820160067258        1.1987219728839038\n",
            "                      428       0.25813999355242934         1.347963215847885\n",
            "                      429       0.11314533576448937        1.1275804709918544\n",
            "                      430       0.27416547116023693        1.3777244816370018\n",
            "                      431       0.29166458314471544        1.4117605532695021\n",
            "                      432       0.12877557357699865        1.1478098750120154\n",
            "                      433       0.26034071946871284         1.351973842985805\n",
            "                      434       0.27887496591551875         1.386722070007693\n",
            "                      435       0.28628295795536574        1.4011154856765522\n",
            "                      436       0.16656441088215412        1.1998527697364774\n",
            "                      437       0.26767594033273845         1.365515698684486\n",
            "                      438        0.2881505941568253        1.4047915075738742\n",
            "                      439       0.29616739880763576        1.4207923848737583\n",
            "                      440       0.28616654997362756        1.4008869995697948\n",
            "                      441       0.10603621036572752        1.1186135407219433\n",
            "                      442       0.19033506028877611         1.235078797356177\n",
            "                      443       0.25855824647264036        1.3487236121280826\n",
            "                      444         0.165316173152541        1.1980584358234523\n",
            "                      445        0.2782167429579001        1.3854574628096041\n",
            "                      446       0.30581262974939316        1.4405332664565655\n",
            "                      447       0.16286375010624976         1.194548677263612\n",
            "                      448        0.2626195484848155        1.3561520351470933\n",
            "                      449        0.2924332274312115        1.4132941776922991\n",
            "                      450       0.30339597508333915         1.435535776755864\n",
            "                      451       0.19563336141957166        1.2432141663220042\n",
            "                      452        0.2715884954174037        1.3728503650872907\n",
            "                      453        0.3028182895152204        1.4343462901582116\n",
            "                      454        0.3148740964343193         1.459585741533904\n",
            "                      455        0.3030847069101281        1.4348946133271943\n",
            "                      456        0.1568704563086446        1.1860573591358698\n",
            "                      457        0.2739465652660201        1.3773090962187817\n",
            "                      458        0.2917382148371317        1.4119073214857203\n",
            "                      459        0.3012932489579516         1.431215597256795\n",
            "                      460        0.2856853316519349         1.399943252338098\n",
            "                      461       0.29634319329770076        1.4211473412536413\n"
          ],
          "name": "stdout"
        }
      ]
    },
    {
      "cell_type": "code",
      "metadata": {
        "id": "dYcm4Zwh6x0h",
        "outputId": "3198d697-f9d8-4981-928d-6da8b6014f9d",
        "colab": {
          "base_uri": "https://localhost:8080/"
        }
      },
      "source": [
        "print( f'{\"제거된컬럼\":20} {\"R제곱값\":10} {\"다중공선성\":10}' )\n",
        "print( '-'*50 )\n",
        "# r제곱이 가장 클 때 \n",
        "best_r_idx   = -1\n",
        "best_rqsrd   = -1\n",
        "best_vif2    = -1\n",
        "# vif가 가장 작을 때\n",
        "best_v_idx   = -1\n",
        "best_rqsrd2  = -1\n",
        "best_vif     = 10\n",
        "for idx, cols in enumerate(five_cols):  \n",
        "  m_model = sm.OLS(  y_train, sm.add_constant( X_train[ list(cols) ] )  )\n",
        "  m_model_res = m_model.fit()\n",
        "  # 다중공선성을 점검하는 지표\n",
        "  vif = 1/(1-m_model_res.rsquared)\n",
        "  # print( f'{idx:20} {m_model_res.rsquared:10} {vif:10}' )\n",
        "  # 가장 높은 값일때 기록\n",
        "  # r제곱\n",
        "  if m_model_res.rsquared > best_rqsrd:    # 현재 r제곱이, 현재 최고 R제곱보다 크면 갱신\n",
        "    best_rqsrd = m_model_res.rsquared\n",
        "    best_r_idx = idx\n",
        "    best_vif2  = vif\n",
        "  \n",
        "  if vif < best_vif:    # 현재 vif가 현제 최고 vif값보다 작으면 갱신\n",
        "    best_vif   = vif\n",
        "    best_v_idx = idx\n",
        "    best_rqsrd2= m_model_res.rsquared\n",
        "\n",
        "# 결과\n",
        "print( \"R제곱 기준\",  best_r_idx, best_rqsrd, best_vif2, five_cols[best_r_idx] )\n",
        "print( \"VIF   기준\",  best_v_idx, best_rqsrd2, best_vif, five_cols[best_v_idx] )"
      ],
      "execution_count": 80,
      "outputs": [
        {
          "output_type": "stream",
          "text": [
            "제거된컬럼                R제곱값       다중공선성     \n",
            "--------------------------------------------------\n",
            "R제곱 기준 316 0.3546389529218342 1.549520232941609 ('volatile_acidity', 'chlorides', 'total_sulfur_dioxide', 'sulphates', 'alcohol')\n",
            "VIF   기준 142 0.03198370334263745 1.0330404596008143 ('fixed_acidity', 'residual_sugar', 'chlorides', 'free_sulfur_dioxide', 'pH')\n"
          ],
          "name": "stdout"
        }
      ]
    },
    {
      "cell_type": "code",
      "metadata": {
        "id": "-mFqYybFGA6p",
        "outputId": "8d60b4d4-192d-4be8-a81d-250f193953b3",
        "colab": {
          "base_uri": "https://localhost:8080/"
        }
      },
      "source": [
        "print( f'{\"제거된컬럼\":20} {\"R제곱값\":10} {\"다중공선성\":10}' )\n",
        "print( '-'*50 )\n",
        "\n",
        "best_r_idx   = -1\n",
        "best_rqsrd   = -1\n",
        "best_vif2    = -1\n",
        "best_v_idx   = -1\n",
        "best_rqsrd2  = -1\n",
        "best_vif     = 10\n",
        "\n",
        "for n in range (2, len(columns)) :\n",
        "  five_cols = [item for item in list(combinations(columns, n))]\n",
        "\n",
        "  for idx, cols in enumerate(five_cols):  \n",
        "    m_model = sm.OLS(  y_train, sm.add_constant( X_train[ list(cols) ] )  )\n",
        "    m_model_res = m_model.fit()\n",
        "\n",
        "    vif = 1/(1-m_model_res.rsquared)\n",
        "\n",
        "    if m_model_res.rsquared > best_rqsrd:\n",
        "      best_rqsrd = m_model_res.rsquared\n",
        "      best_r_idx = idx\n",
        "      best_vif2  = vif\n",
        "    \n",
        "    if vif < best_vif:\n",
        "      best_vif   = vif\n",
        "      best_v_idx = idx\n",
        "      best_rqsrd2= m_model_res.rsquared\n",
        "\n",
        "print( \"R제곱 기준\",  best_r_idx, best_rqsrd, best_vif2, n )\n",
        "print( \"VIF   기준\",  best_v_idx, best_rqsrd2, best_vif, n )"
      ],
      "execution_count": 81,
      "outputs": [
        {
          "output_type": "stream",
          "text": [
            "제거된컬럼                R제곱값       다중공선성     \n",
            "--------------------------------------------------\n",
            "R제곱 기준 7 0.3610919733704998 1.5651705070531152 10\n",
            "VIF   기준 31 0.0007393019108062893 1.0007398488824988 10\n"
          ],
          "name": "stdout"
        }
      ]
    },
    {
      "cell_type": "code",
      "metadata": {
        "id": "kEY_048ZHxhd"
      },
      "source": [
        "# R제곱값이 0.36이므로 독립변수 10개가 종속변수(품질)에 영향을 미치는 비율, 혹은 설명할 수 있는 비율은 35%\n",
        "# VIF는 1.57이므로 회귀계수의 희소성 문제는 없음\n",
        "# 독립변수와 종속변수 간의 상관성은 없다 or 약하다고 해석"
      ],
      "execution_count": 82,
      "outputs": []
    },
    {
      "cell_type": "code",
      "metadata": {
        "id": "1cbo7gTwIkvI",
        "outputId": "9c9d268d-018a-4435-88be-60affe6e0ade",
        "colab": {
          "base_uri": "https://localhost:8080/"
        }
      },
      "source": [
        "print( f'{\"제거된컬럼\":20} {\"R제곱값\":10} {\"다중공선성\":10}' )\n",
        "print( '-'*50 )\n",
        "\n",
        "best_r_idx   = -1\n",
        "best_rqsrd   = -1\n",
        "best_vif2    = -1\n",
        "best_n1 = 0\n",
        "\n",
        "best_v_idx   = -1\n",
        "best_rqsrd2  = -1\n",
        "best_vif     = 10\n",
        "best_n2 = 0\n",
        "\n",
        "for n in range (2, len(columns)) :\n",
        "  five_cols = [item for item in list(combinations(columns, n))]\n",
        "\n",
        "  for idx, cols in enumerate(five_cols):  \n",
        "    m_model = sm.OLS(  y_train, sm.add_constant( X_train[ list(cols) ] )  )\n",
        "    m_model_res = m_model.fit()\n",
        "\n",
        "    vif = 1/(1-m_model_res.rsquared)\n",
        "\n",
        "    if m_model_res.rsquared > best_rqsrd:\n",
        "      best_rqsrd = m_model_res.rsquared\n",
        "      best_r_idx = idx\n",
        "      best_vif2  = vif\n",
        "      best_n1 = n\n",
        "    \n",
        "    if vif < best_vif:\n",
        "      best_vif   = vif\n",
        "      best_v_idx = idx\n",
        "      best_rqsrd2= m_model_res.rsquared\n",
        "      best_n2 = n\n",
        "\n",
        "print( \"R제곱 기준\",  best_r_idx, best_rqsrd, best_vif2, best_n1)"
      ],
      "execution_count": 83,
      "outputs": [
        {
          "output_type": "stream",
          "text": [
            "제거된컬럼                R제곱값       다중공선성     \n",
            "--------------------------------------------------\n",
            "R제곱 기준 7 0.3610919733704998 1.5651705070531152 10\n"
          ],
          "name": "stdout"
        }
      ]
    },
    {
      "cell_type": "code",
      "metadata": {
        "id": "DdAPT4HJJIzN",
        "outputId": "dd86069a-d0c3-4607-d479-83cf50b6fa43",
        "colab": {
          "base_uri": "https://localhost:8080/"
        }
      },
      "source": [
        "# best_n1아 10이므로 마지막에 세팅된 조합 five_cols에서 독립변수 조합 확인\n",
        "five_cols[ best_r_idx ]"
      ],
      "execution_count": 84,
      "outputs": [
        {
          "output_type": "execute_result",
          "data": {
            "text/plain": [
              "('fixed_acidity',\n",
              " 'volatile_acidity',\n",
              " 'citric_acid',\n",
              " 'chlorides',\n",
              " 'free_sulfur_dioxide',\n",
              " 'total_sulfur_dioxide',\n",
              " 'density',\n",
              " 'pH',\n",
              " 'sulphates',\n",
              " 'alcohol')"
            ]
          },
          "metadata": {
            "tags": []
          },
          "execution_count": 84
        }
      ]
    },
    {
      "cell_type": "code",
      "metadata": {
        "id": "a8N1YzPNJS3v"
      },
      "source": [
        "# 만약 0.7이상이 된다면 => 예측을 수행하고, R제곱을 구해서 비교를 해야한다\n",
        "# 예측을 수행 => 한번도 접하지 않은 데이터를 이용하여 예측\n",
        "# five_cols[ best_r_idx ] => 모든 조합의 평가후 최고 베스트 R제곱을 만들어낸 독립변수조합\n",
        "m_model = sm.OLS(  y_train, sm.add_constant( X_train[ list(five_cols[ best_r_idx ]) ] )  )\n",
        "m_model_res = m_model.fit()"
      ],
      "execution_count": 85,
      "outputs": []
    },
    {
      "cell_type": "code",
      "metadata": {
        "id": "Xk5TffYnKEO9",
        "outputId": "906f205e-f2a6-4e57-f7b8-e860f1621751",
        "colab": {
          "base_uri": "https://localhost:8080/"
        }
      },
      "source": [
        "m_model_res.predict()"
      ],
      "execution_count": 86,
      "outputs": [
        {
          "output_type": "execute_result",
          "data": {
            "text/plain": [
              "array([6.35962957, 5.97782255, 5.67301578, ..., 5.00414069, 6.65121347,\n",
              "       6.78462001])"
            ]
          },
          "metadata": {
            "tags": []
          },
          "execution_count": 86
        }
      ]
    },
    {
      "cell_type": "code",
      "metadata": {
        "id": "bnZI-NEqKHYw"
      },
      "source": [
        "# 현재 가장 좋은 점수를 받은 모델을 생성\n",
        "# 신규 데이터 넣어서 예측\n",
        "# X_test\n",
        "# 모델 만들 때 사용했던 칼럼 목록\n",
        "target_cols = list(five_cols[ best_r_idx ])\n",
        "# 예측할 때 데이터도 동일하게 맞춰줌\n",
        "y_pred = m_model_res.predict( sm.add_constant(X_test[target_cols]) )"
      ],
      "execution_count": 87,
      "outputs": []
    },
    {
      "cell_type": "code",
      "metadata": {
        "id": "qmUZspeSLg4K",
        "outputId": "0551418f-0f24-4a1d-9535-0ac0324035b1",
        "colab": {
          "base_uri": "https://localhost:8080/"
        }
      },
      "source": [
        "# 모델의 r제곱과, 예측한 결과를 가진 r제곱 간의 비교\n",
        "# y_pred, y_test\n",
        "# 일종의 평가도구\n",
        "from sklearn.metrics import r2_score\n",
        "r2_score(y_test, y_pred), m_model_res.rsquared\n",
        "# 성능은 유사하게 나옴 -> 성능평가 수행, 검증"
      ],
      "execution_count": 88,
      "outputs": [
        {
          "output_type": "execute_result",
          "data": {
            "text/plain": [
              "(0.3505201203769094, 0.3610919733704998)"
            ]
          },
          "metadata": {
            "tags": []
          },
          "execution_count": 88
        }
      ]
    },
    {
      "cell_type": "markdown",
      "metadata": {
        "id": "tzC7R0dNLiPY"
      },
      "source": [
        "# 범주형 데이터를 수치화 처리\n",
        "- 회귀 계산을 하려면 데이터는 수치가 되어야 하므로 문자열 데이터를 수치로 바꿔주는 처리가 필요\n",
        "- 원-핫인코딩(대표 처리 방식)\n",
        "  - df에서는 더미변수(이항(1 or 2)으로 처리)"
      ]
    },
    {
      "cell_type": "code",
      "metadata": {
        "id": "Rx0SQs_ZNXN9",
        "outputId": "97d5fcbb-ab07-4f7b-e1e8-9fdb6dc5ffdd",
        "colab": {
          "base_uri": "https://localhost:8080/",
          "height": 284
        }
      },
      "source": [
        "# 더미 데이터 샘플\n",
        "dic = {\n",
        "    'A' : list('helhelhh')\n",
        "}\n",
        "\n",
        "df = pd.DataFrame(dic)\n",
        "df"
      ],
      "execution_count": 89,
      "outputs": [
        {
          "output_type": "execute_result",
          "data": {
            "text/html": [
              "<div>\n",
              "<style scoped>\n",
              "    .dataframe tbody tr th:only-of-type {\n",
              "        vertical-align: middle;\n",
              "    }\n",
              "\n",
              "    .dataframe tbody tr th {\n",
              "        vertical-align: top;\n",
              "    }\n",
              "\n",
              "    .dataframe thead th {\n",
              "        text-align: right;\n",
              "    }\n",
              "</style>\n",
              "<table border=\"1\" class=\"dataframe\">\n",
              "  <thead>\n",
              "    <tr style=\"text-align: right;\">\n",
              "      <th></th>\n",
              "      <th>A</th>\n",
              "    </tr>\n",
              "  </thead>\n",
              "  <tbody>\n",
              "    <tr>\n",
              "      <th>0</th>\n",
              "      <td>h</td>\n",
              "    </tr>\n",
              "    <tr>\n",
              "      <th>1</th>\n",
              "      <td>e</td>\n",
              "    </tr>\n",
              "    <tr>\n",
              "      <th>2</th>\n",
              "      <td>l</td>\n",
              "    </tr>\n",
              "    <tr>\n",
              "      <th>3</th>\n",
              "      <td>h</td>\n",
              "    </tr>\n",
              "    <tr>\n",
              "      <th>4</th>\n",
              "      <td>e</td>\n",
              "    </tr>\n",
              "    <tr>\n",
              "      <th>5</th>\n",
              "      <td>l</td>\n",
              "    </tr>\n",
              "    <tr>\n",
              "      <th>6</th>\n",
              "      <td>h</td>\n",
              "    </tr>\n",
              "    <tr>\n",
              "      <th>7</th>\n",
              "      <td>h</td>\n",
              "    </tr>\n",
              "  </tbody>\n",
              "</table>\n",
              "</div>"
            ],
            "text/plain": [
              "   A\n",
              "0  h\n",
              "1  e\n",
              "2  l\n",
              "3  h\n",
              "4  e\n",
              "5  l\n",
              "6  h\n",
              "7  h"
            ]
          },
          "metadata": {
            "tags": []
          },
          "execution_count": 89
        }
      ]
    },
    {
      "cell_type": "code",
      "metadata": {
        "id": "rUeyQTZTSepm",
        "outputId": "d744d327-107a-4390-b6e1-d62e16263361",
        "colab": {
          "base_uri": "https://localhost:8080/",
          "height": 35
        }
      },
      "source": [
        "# 데이터의 성분이 문자열 -> 회귀 X -> 수치로 변환\n",
        "df.dtypes\n",
        "# 수치로 변환하기 위해 0, 1을 이용해서 표현\n",
        "df.A.unique()\n",
        "\n",
        "'''\n",
        "'h' -> 1 0 0\n",
        "'e' -> 0 1 0 \n",
        "'l' -> 0 0 1\n",
        "'''\n",
        "\n",
        "# 수치로 변환되었음, 값이 0과 1로 표현되었으므로 머신러닝 학습 시 성능이 좋음\n",
        "# 컬럼(특성)의 수가 1개에서 3개로 늘어남 -> 연산의 수 증가\n",
        "# 이렇게 변환할 수 있는 도구를 df에서 수행"
      ],
      "execution_count": 90,
      "outputs": [
        {
          "output_type": "execute_result",
          "data": {
            "application/vnd.google.colaboratory.intrinsic+json": {
              "type": "string"
            },
            "text/plain": [
              "\"\\n'h' -> 1 0 0\\n'e' -> 0 1 0 \\n'l' -> 0 0 1\\n\""
            ]
          },
          "metadata": {
            "tags": []
          },
          "execution_count": 90
        }
      ]
    },
    {
      "cell_type": "code",
      "metadata": {
        "id": "FSCSSV0qSi5F",
        "outputId": "4e958a13-b286-4af8-86f5-b726bd3f740a",
        "colab": {
          "base_uri": "https://localhost:8080/",
          "height": 284
        }
      },
      "source": [
        "# 더미 파생 변수 만들기\n",
        "# 원-핫 인코딩 따름\n",
        "dummy_data = pd.get_dummies( df.A, prefix='a')\n",
        "dummy_data"
      ],
      "execution_count": 91,
      "outputs": [
        {
          "output_type": "execute_result",
          "data": {
            "text/html": [
              "<div>\n",
              "<style scoped>\n",
              "    .dataframe tbody tr th:only-of-type {\n",
              "        vertical-align: middle;\n",
              "    }\n",
              "\n",
              "    .dataframe tbody tr th {\n",
              "        vertical-align: top;\n",
              "    }\n",
              "\n",
              "    .dataframe thead th {\n",
              "        text-align: right;\n",
              "    }\n",
              "</style>\n",
              "<table border=\"1\" class=\"dataframe\">\n",
              "  <thead>\n",
              "    <tr style=\"text-align: right;\">\n",
              "      <th></th>\n",
              "      <th>a_e</th>\n",
              "      <th>a_h</th>\n",
              "      <th>a_l</th>\n",
              "    </tr>\n",
              "  </thead>\n",
              "  <tbody>\n",
              "    <tr>\n",
              "      <th>0</th>\n",
              "      <td>0</td>\n",
              "      <td>1</td>\n",
              "      <td>0</td>\n",
              "    </tr>\n",
              "    <tr>\n",
              "      <th>1</th>\n",
              "      <td>1</td>\n",
              "      <td>0</td>\n",
              "      <td>0</td>\n",
              "    </tr>\n",
              "    <tr>\n",
              "      <th>2</th>\n",
              "      <td>0</td>\n",
              "      <td>0</td>\n",
              "      <td>1</td>\n",
              "    </tr>\n",
              "    <tr>\n",
              "      <th>3</th>\n",
              "      <td>0</td>\n",
              "      <td>1</td>\n",
              "      <td>0</td>\n",
              "    </tr>\n",
              "    <tr>\n",
              "      <th>4</th>\n",
              "      <td>1</td>\n",
              "      <td>0</td>\n",
              "      <td>0</td>\n",
              "    </tr>\n",
              "    <tr>\n",
              "      <th>5</th>\n",
              "      <td>0</td>\n",
              "      <td>0</td>\n",
              "      <td>1</td>\n",
              "    </tr>\n",
              "    <tr>\n",
              "      <th>6</th>\n",
              "      <td>0</td>\n",
              "      <td>1</td>\n",
              "      <td>0</td>\n",
              "    </tr>\n",
              "    <tr>\n",
              "      <th>7</th>\n",
              "      <td>0</td>\n",
              "      <td>1</td>\n",
              "      <td>0</td>\n",
              "    </tr>\n",
              "  </tbody>\n",
              "</table>\n",
              "</div>"
            ],
            "text/plain": [
              "   a_e  a_h  a_l\n",
              "0    0    1    0\n",
              "1    1    0    0\n",
              "2    0    0    1\n",
              "3    0    1    0\n",
              "4    1    0    0\n",
              "5    0    0    1\n",
              "6    0    1    0\n",
              "7    0    1    0"
            ]
          },
          "metadata": {
            "tags": []
          },
          "execution_count": 91
        }
      ]
    },
    {
      "cell_type": "code",
      "metadata": {
        "id": "GPdbQ_KdTk3Z",
        "outputId": "219ac842-5d27-4403-ce7a-b692b7e39440",
        "colab": {
          "base_uri": "https://localhost:8080/",
          "height": 35
        }
      },
      "source": [
        "# 0, 1, 2로 표현\n",
        "'''\n",
        "'h' -> 0\n",
        "'e' -> 1\n",
        "'l' -> 2\n",
        "'''\n",
        "# 여기서 0, 1, 2는 연속적인 의미가 아니라 단지 구분만을 위한 범주형 데이터"
      ],
      "execution_count": 92,
      "outputs": [
        {
          "output_type": "execute_result",
          "data": {
            "application/vnd.google.colaboratory.intrinsic+json": {
              "type": "string"
            },
            "text/plain": [
              "\"\\n'h' -> 0\\n'e' -> 1\\n'l' -> 2\\n\""
            ]
          },
          "metadata": {
            "tags": []
          },
          "execution_count": 92
        }
      ]
    },
    {
      "cell_type": "code",
      "metadata": {
        "id": "fOBpBgIANZAr"
      },
      "source": [
        "# 이항 데이터로 대항 변수 처리"
      ],
      "execution_count": 93,
      "outputs": []
    },
    {
      "cell_type": "markdown",
      "metadata": {
        "id": "q32GtdxqSlH8"
      },
      "source": [
        "## 로지스틱 회귀 분석\n",
        "\n",
        "- 머신러닝 시 회귀 예측모델 구축 때 진행\n",
        "- 데이터 분석의 핵심 능력치 척도\n"
      ]
    },
    {
      "cell_type": "markdown",
      "metadata": {
        "id": "A9Y9ue8ZLHSp"
      },
      "source": [
        "# 군집, 비지도\n",
        "- 머신러닝에서 진행"
      ]
    },
    {
      "cell_type": "markdown",
      "metadata": {
        "id": "ksJItifVLJdR"
      },
      "source": [
        "# 연관 분석"
      ]
    },
    {
      "cell_type": "markdown",
      "metadata": {
        "id": "-89aY5_sLK1v"
      },
      "source": [
        "# 텍스트 마이닝"
      ]
    },
    {
      "cell_type": "markdown",
      "metadata": {
        "id": "MFQyGrdmLMd0"
      },
      "source": [
        "# 소셜 네트워크 분석"
      ]
    }
  ]
}