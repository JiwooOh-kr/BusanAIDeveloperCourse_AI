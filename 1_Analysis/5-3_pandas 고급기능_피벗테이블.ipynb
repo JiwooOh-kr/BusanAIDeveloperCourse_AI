{
  "nbformat": 4,
  "nbformat_minor": 0,
  "metadata": {
    "colab": {
      "name": "5-3_pandas 고급기능 - 피벗테이블.ipynb",
      "provenance": [],
      "collapsed_sections": [],
      "include_colab_link": true
    },
    "kernelspec": {
      "name": "python3",
      "display_name": "Python 3"
    }
  },
  "cells": [
    {
      "cell_type": "markdown",
      "metadata": {
        "id": "view-in-github",
        "colab_type": "text"
      },
      "source": [
        "<a href=\"https://colab.research.google.com/github/jkjh23/BusanAIDeveloperCourse_AI/blob/master/1_Analysis/5-3_pandas%20%EA%B3%A0%EA%B8%89%EA%B8%B0%EB%8A%A5_%ED%94%BC%EB%B2%97%ED%85%8C%EC%9D%B4%EB%B8%94.ipynb\" target=\"_parent\"><img src=\"https://colab.research.google.com/assets/colab-badge.svg\" alt=\"Open In Colab\"/></a>"
      ]
    },
    {
      "cell_type": "code",
      "metadata": {
        "id": "_lIB-PGDaSVH",
        "outputId": "34b4f4ee-9d96-4346-a639-60494407eb3c",
        "colab": {
          "base_uri": "https://localhost:8080/",
          "height": 34
        }
      },
      "source": [
        "from google.colab import drive\n",
        "drive.mount('/content/drive')"
      ],
      "execution_count": 1,
      "outputs": [
        {
          "output_type": "stream",
          "text": [
            "Mounted at /content/drive\n"
          ],
          "name": "stdout"
        }
      ]
    },
    {
      "cell_type": "code",
      "metadata": {
        "id": "B_TX3ZqVzND5"
      },
      "source": [
        "import numpy as np\n",
        "import pandas as pd"
      ],
      "execution_count": 3,
      "outputs": []
    },
    {
      "cell_type": "code",
      "metadata": {
        "id": "ZElSQQbRzp9C",
        "outputId": "552d0239-1b20-4995-a2ab-b8f7218f9981",
        "colab": {
          "base_uri": "https://localhost:8080/",
          "height": 136
        }
      },
      "source": [
        "df = pd.read_excel(\"/content/drive/My Drive/2020_AI_Busan/1_Analysis/data/sales.xlsx\")\n",
        "df.head(3)"
      ],
      "execution_count": 5,
      "outputs": [
        {
          "output_type": "execute_result",
          "data": {
            "text/html": [
              "<div>\n",
              "<style scoped>\n",
              "    .dataframe tbody tr th:only-of-type {\n",
              "        vertical-align: middle;\n",
              "    }\n",
              "\n",
              "    .dataframe tbody tr th {\n",
              "        vertical-align: top;\n",
              "    }\n",
              "\n",
              "    .dataframe thead th {\n",
              "        text-align: right;\n",
              "    }\n",
              "</style>\n",
              "<table border=\"1\" class=\"dataframe\">\n",
              "  <thead>\n",
              "    <tr style=\"text-align: right;\">\n",
              "      <th></th>\n",
              "      <th>Account</th>\n",
              "      <th>Name</th>\n",
              "      <th>Rep</th>\n",
              "      <th>Manager</th>\n",
              "      <th>Product</th>\n",
              "      <th>Quantity</th>\n",
              "      <th>Price</th>\n",
              "      <th>Status</th>\n",
              "    </tr>\n",
              "  </thead>\n",
              "  <tbody>\n",
              "    <tr>\n",
              "      <th>0</th>\n",
              "      <td>714466</td>\n",
              "      <td>Trantow-Barrows</td>\n",
              "      <td>Craig Booker</td>\n",
              "      <td>Debra Henley</td>\n",
              "      <td>CPU</td>\n",
              "      <td>1</td>\n",
              "      <td>30000</td>\n",
              "      <td>presented</td>\n",
              "    </tr>\n",
              "    <tr>\n",
              "      <th>1</th>\n",
              "      <td>714466</td>\n",
              "      <td>Trantow-Barrows</td>\n",
              "      <td>Craig Booker</td>\n",
              "      <td>Debra Henley</td>\n",
              "      <td>Software</td>\n",
              "      <td>1</td>\n",
              "      <td>10000</td>\n",
              "      <td>presented</td>\n",
              "    </tr>\n",
              "    <tr>\n",
              "      <th>2</th>\n",
              "      <td>714466</td>\n",
              "      <td>Trantow-Barrows</td>\n",
              "      <td>Craig Booker</td>\n",
              "      <td>Debra Henley</td>\n",
              "      <td>Maintenance</td>\n",
              "      <td>2</td>\n",
              "      <td>5000</td>\n",
              "      <td>pending</td>\n",
              "    </tr>\n",
              "  </tbody>\n",
              "</table>\n",
              "</div>"
            ],
            "text/plain": [
              "   Account             Name           Rep  ... Quantity  Price     Status\n",
              "0   714466  Trantow-Barrows  Craig Booker  ...        1  30000  presented\n",
              "1   714466  Trantow-Barrows  Craig Booker  ...        1  10000  presented\n",
              "2   714466  Trantow-Barrows  Craig Booker  ...        2   5000    pending\n",
              "\n",
              "[3 rows x 8 columns]"
            ]
          },
          "metadata": {
            "tags": []
          },
          "execution_count": 5
        }
      ]
    },
    {
      "cell_type": "code",
      "metadata": {
        "id": "kRWxb_Yez0sK",
        "outputId": "ff6387f7-2494-4259-9a90-1e3291e00ae8",
        "colab": {
          "base_uri": "https://localhost:8080/",
          "height": 34
        }
      },
      "source": [
        "df.shape"
      ],
      "execution_count": 6,
      "outputs": [
        {
          "output_type": "execute_result",
          "data": {
            "text/plain": [
              "(17, 8)"
            ]
          },
          "metadata": {
            "tags": []
          },
          "execution_count": 6
        }
      ]
    },
    {
      "cell_type": "code",
      "metadata": {
        "id": "pK4jWezO1OhJ",
        "outputId": "24233387-3832-448a-fa01-2c894ce4ecf9",
        "colab": {
          "base_uri": "https://localhost:8080/",
          "height": 550
        }
      },
      "source": [
        "df\n",
        "# 데이터를 전체적으로 살펴보고, 특정 column들을 유추해보고(실제 설명자료를 받으면 명확하게 알 수 있음), ...\n",
        "# 인사이트 분석\n",
        "# 데이터를 보니, 특정 column에 중복으로 등장하는 데이터가 보임 → 피벗, 그룹화"
      ],
      "execution_count": 7,
      "outputs": [
        {
          "output_type": "execute_result",
          "data": {
            "text/html": [
              "<div>\n",
              "<style scoped>\n",
              "    .dataframe tbody tr th:only-of-type {\n",
              "        vertical-align: middle;\n",
              "    }\n",
              "\n",
              "    .dataframe tbody tr th {\n",
              "        vertical-align: top;\n",
              "    }\n",
              "\n",
              "    .dataframe thead th {\n",
              "        text-align: right;\n",
              "    }\n",
              "</style>\n",
              "<table border=\"1\" class=\"dataframe\">\n",
              "  <thead>\n",
              "    <tr style=\"text-align: right;\">\n",
              "      <th></th>\n",
              "      <th>Account</th>\n",
              "      <th>Name</th>\n",
              "      <th>Rep</th>\n",
              "      <th>Manager</th>\n",
              "      <th>Product</th>\n",
              "      <th>Quantity</th>\n",
              "      <th>Price</th>\n",
              "      <th>Status</th>\n",
              "    </tr>\n",
              "  </thead>\n",
              "  <tbody>\n",
              "    <tr>\n",
              "      <th>0</th>\n",
              "      <td>714466</td>\n",
              "      <td>Trantow-Barrows</td>\n",
              "      <td>Craig Booker</td>\n",
              "      <td>Debra Henley</td>\n",
              "      <td>CPU</td>\n",
              "      <td>1</td>\n",
              "      <td>30000</td>\n",
              "      <td>presented</td>\n",
              "    </tr>\n",
              "    <tr>\n",
              "      <th>1</th>\n",
              "      <td>714466</td>\n",
              "      <td>Trantow-Barrows</td>\n",
              "      <td>Craig Booker</td>\n",
              "      <td>Debra Henley</td>\n",
              "      <td>Software</td>\n",
              "      <td>1</td>\n",
              "      <td>10000</td>\n",
              "      <td>presented</td>\n",
              "    </tr>\n",
              "    <tr>\n",
              "      <th>2</th>\n",
              "      <td>714466</td>\n",
              "      <td>Trantow-Barrows</td>\n",
              "      <td>Craig Booker</td>\n",
              "      <td>Debra Henley</td>\n",
              "      <td>Maintenance</td>\n",
              "      <td>2</td>\n",
              "      <td>5000</td>\n",
              "      <td>pending</td>\n",
              "    </tr>\n",
              "    <tr>\n",
              "      <th>3</th>\n",
              "      <td>737550</td>\n",
              "      <td>Fritsch, Russel and Anderson</td>\n",
              "      <td>Craig Booker</td>\n",
              "      <td>Debra Henley</td>\n",
              "      <td>CPU</td>\n",
              "      <td>1</td>\n",
              "      <td>35000</td>\n",
              "      <td>declined</td>\n",
              "    </tr>\n",
              "    <tr>\n",
              "      <th>4</th>\n",
              "      <td>146832</td>\n",
              "      <td>Kiehn-Spinka</td>\n",
              "      <td>Daniel Hilton</td>\n",
              "      <td>Debra Henley</td>\n",
              "      <td>CPU</td>\n",
              "      <td>2</td>\n",
              "      <td>65000</td>\n",
              "      <td>won</td>\n",
              "    </tr>\n",
              "    <tr>\n",
              "      <th>5</th>\n",
              "      <td>218895</td>\n",
              "      <td>Kulas Inc</td>\n",
              "      <td>Daniel Hilton</td>\n",
              "      <td>Debra Henley</td>\n",
              "      <td>CPU</td>\n",
              "      <td>2</td>\n",
              "      <td>40000</td>\n",
              "      <td>pending</td>\n",
              "    </tr>\n",
              "    <tr>\n",
              "      <th>6</th>\n",
              "      <td>218895</td>\n",
              "      <td>Kulas Inc</td>\n",
              "      <td>Daniel Hilton</td>\n",
              "      <td>Debra Henley</td>\n",
              "      <td>Software</td>\n",
              "      <td>1</td>\n",
              "      <td>10000</td>\n",
              "      <td>presented</td>\n",
              "    </tr>\n",
              "    <tr>\n",
              "      <th>7</th>\n",
              "      <td>412290</td>\n",
              "      <td>Jerde-Hilpert</td>\n",
              "      <td>John Smith</td>\n",
              "      <td>Debra Henley</td>\n",
              "      <td>Maintenance</td>\n",
              "      <td>2</td>\n",
              "      <td>5000</td>\n",
              "      <td>pending</td>\n",
              "    </tr>\n",
              "    <tr>\n",
              "      <th>8</th>\n",
              "      <td>740150</td>\n",
              "      <td>Barton LLC</td>\n",
              "      <td>John Smith</td>\n",
              "      <td>Debra Henley</td>\n",
              "      <td>CPU</td>\n",
              "      <td>1</td>\n",
              "      <td>35000</td>\n",
              "      <td>declined</td>\n",
              "    </tr>\n",
              "    <tr>\n",
              "      <th>9</th>\n",
              "      <td>141962</td>\n",
              "      <td>Herman LLC</td>\n",
              "      <td>Cedric Moss</td>\n",
              "      <td>Fred Anderson</td>\n",
              "      <td>CPU</td>\n",
              "      <td>2</td>\n",
              "      <td>65000</td>\n",
              "      <td>won</td>\n",
              "    </tr>\n",
              "    <tr>\n",
              "      <th>10</th>\n",
              "      <td>163416</td>\n",
              "      <td>Purdy-Kunde</td>\n",
              "      <td>Cedric Moss</td>\n",
              "      <td>Fred Anderson</td>\n",
              "      <td>CPU</td>\n",
              "      <td>1</td>\n",
              "      <td>30000</td>\n",
              "      <td>presented</td>\n",
              "    </tr>\n",
              "    <tr>\n",
              "      <th>11</th>\n",
              "      <td>239344</td>\n",
              "      <td>Stokes LLC</td>\n",
              "      <td>Cedric Moss</td>\n",
              "      <td>Fred Anderson</td>\n",
              "      <td>Maintenance</td>\n",
              "      <td>1</td>\n",
              "      <td>5000</td>\n",
              "      <td>pending</td>\n",
              "    </tr>\n",
              "    <tr>\n",
              "      <th>12</th>\n",
              "      <td>239344</td>\n",
              "      <td>Stokes LLC</td>\n",
              "      <td>Cedric Moss</td>\n",
              "      <td>Fred Anderson</td>\n",
              "      <td>Software</td>\n",
              "      <td>1</td>\n",
              "      <td>10000</td>\n",
              "      <td>presented</td>\n",
              "    </tr>\n",
              "    <tr>\n",
              "      <th>13</th>\n",
              "      <td>307599</td>\n",
              "      <td>Kassulke, Ondricka and Metz</td>\n",
              "      <td>Wendy Yule</td>\n",
              "      <td>Fred Anderson</td>\n",
              "      <td>Maintenance</td>\n",
              "      <td>3</td>\n",
              "      <td>7000</td>\n",
              "      <td>won</td>\n",
              "    </tr>\n",
              "    <tr>\n",
              "      <th>14</th>\n",
              "      <td>688981</td>\n",
              "      <td>Keeling LLC</td>\n",
              "      <td>Wendy Yule</td>\n",
              "      <td>Fred Anderson</td>\n",
              "      <td>CPU</td>\n",
              "      <td>5</td>\n",
              "      <td>100000</td>\n",
              "      <td>won</td>\n",
              "    </tr>\n",
              "    <tr>\n",
              "      <th>15</th>\n",
              "      <td>729833</td>\n",
              "      <td>Koepp Ltd</td>\n",
              "      <td>Wendy Yule</td>\n",
              "      <td>Fred Anderson</td>\n",
              "      <td>CPU</td>\n",
              "      <td>2</td>\n",
              "      <td>65000</td>\n",
              "      <td>declined</td>\n",
              "    </tr>\n",
              "    <tr>\n",
              "      <th>16</th>\n",
              "      <td>729833</td>\n",
              "      <td>Koepp Ltd</td>\n",
              "      <td>Wendy Yule</td>\n",
              "      <td>Fred Anderson</td>\n",
              "      <td>Monitor</td>\n",
              "      <td>2</td>\n",
              "      <td>5000</td>\n",
              "      <td>presented</td>\n",
              "    </tr>\n",
              "  </tbody>\n",
              "</table>\n",
              "</div>"
            ],
            "text/plain": [
              "    Account                          Name  ...   Price     Status\n",
              "0    714466               Trantow-Barrows  ...   30000  presented\n",
              "1    714466               Trantow-Barrows  ...   10000  presented\n",
              "2    714466               Trantow-Barrows  ...    5000    pending\n",
              "3    737550  Fritsch, Russel and Anderson  ...   35000   declined\n",
              "4    146832                  Kiehn-Spinka  ...   65000        won\n",
              "5    218895                     Kulas Inc  ...   40000    pending\n",
              "6    218895                     Kulas Inc  ...   10000  presented\n",
              "7    412290                 Jerde-Hilpert  ...    5000    pending\n",
              "8    740150                    Barton LLC  ...   35000   declined\n",
              "9    141962                    Herman LLC  ...   65000        won\n",
              "10   163416                   Purdy-Kunde  ...   30000  presented\n",
              "11   239344                    Stokes LLC  ...    5000    pending\n",
              "12   239344                    Stokes LLC  ...   10000  presented\n",
              "13   307599   Kassulke, Ondricka and Metz  ...    7000        won\n",
              "14   688981                   Keeling LLC  ...  100000        won\n",
              "15   729833                     Koepp Ltd  ...   65000   declined\n",
              "16   729833                     Koepp Ltd  ...    5000  presented\n",
              "\n",
              "[17 rows x 8 columns]"
            ]
          },
          "metadata": {
            "tags": []
          },
          "execution_count": 7
        }
      ]
    },
    {
      "cell_type": "code",
      "metadata": {
        "id": "B7VOzqYF3NKb",
        "outputId": "5084a0ed-0f3e-4bcf-f8f0-d7f706457adf",
        "colab": {
          "base_uri": "https://localhost:8080/",
          "height": 70
        }
      },
      "source": [
        "df.columns"
      ],
      "execution_count": 8,
      "outputs": [
        {
          "output_type": "execute_result",
          "data": {
            "text/plain": [
              "Index(['Account', 'Name', 'Rep', 'Manager', 'Product', 'Quantity', 'Price',\n",
              "       'Status'],\n",
              "      dtype='object')"
            ]
          },
          "metadata": {
            "tags": []
          },
          "execution_count": 8
        }
      ]
    },
    {
      "cell_type": "code",
      "metadata": {
        "id": "T4fP358c1Qan",
        "outputId": "766868f0-cedd-4814-ee1c-b8d43da62bf1",
        "colab": {
          "base_uri": "https://localhost:8080/",
          "height": 432
        }
      },
      "source": [
        "# 피벗 혹은 피벗테이블 → 변수 간 상하관계(종속적 관계) 등 보임, 수치적인 값 획득, ...\n",
        "# 평균, 합산, ... → 데이터를 중심점 기준으로 재배치\n",
        "pd.pivot_table( df, index = ['Name'] )\n",
        "# index에 Name column의 값들만 배치됨\n",
        "# Rep, Manager 제외\n",
        "# Product, Status 제외 → 수치만 살아 남음, 기본값이 aggfunc='mean'이므로"
      ],
      "execution_count": 9,
      "outputs": [
        {
          "output_type": "execute_result",
          "data": {
            "text/html": [
              "<div>\n",
              "<style scoped>\n",
              "    .dataframe tbody tr th:only-of-type {\n",
              "        vertical-align: middle;\n",
              "    }\n",
              "\n",
              "    .dataframe tbody tr th {\n",
              "        vertical-align: top;\n",
              "    }\n",
              "\n",
              "    .dataframe thead th {\n",
              "        text-align: right;\n",
              "    }\n",
              "</style>\n",
              "<table border=\"1\" class=\"dataframe\">\n",
              "  <thead>\n",
              "    <tr style=\"text-align: right;\">\n",
              "      <th></th>\n",
              "      <th>Account</th>\n",
              "      <th>Price</th>\n",
              "      <th>Quantity</th>\n",
              "    </tr>\n",
              "    <tr>\n",
              "      <th>Name</th>\n",
              "      <th></th>\n",
              "      <th></th>\n",
              "      <th></th>\n",
              "    </tr>\n",
              "  </thead>\n",
              "  <tbody>\n",
              "    <tr>\n",
              "      <th>Barton LLC</th>\n",
              "      <td>740150</td>\n",
              "      <td>35000</td>\n",
              "      <td>1.000000</td>\n",
              "    </tr>\n",
              "    <tr>\n",
              "      <th>Fritsch, Russel and Anderson</th>\n",
              "      <td>737550</td>\n",
              "      <td>35000</td>\n",
              "      <td>1.000000</td>\n",
              "    </tr>\n",
              "    <tr>\n",
              "      <th>Herman LLC</th>\n",
              "      <td>141962</td>\n",
              "      <td>65000</td>\n",
              "      <td>2.000000</td>\n",
              "    </tr>\n",
              "    <tr>\n",
              "      <th>Jerde-Hilpert</th>\n",
              "      <td>412290</td>\n",
              "      <td>5000</td>\n",
              "      <td>2.000000</td>\n",
              "    </tr>\n",
              "    <tr>\n",
              "      <th>Kassulke, Ondricka and Metz</th>\n",
              "      <td>307599</td>\n",
              "      <td>7000</td>\n",
              "      <td>3.000000</td>\n",
              "    </tr>\n",
              "    <tr>\n",
              "      <th>Keeling LLC</th>\n",
              "      <td>688981</td>\n",
              "      <td>100000</td>\n",
              "      <td>5.000000</td>\n",
              "    </tr>\n",
              "    <tr>\n",
              "      <th>Kiehn-Spinka</th>\n",
              "      <td>146832</td>\n",
              "      <td>65000</td>\n",
              "      <td>2.000000</td>\n",
              "    </tr>\n",
              "    <tr>\n",
              "      <th>Koepp Ltd</th>\n",
              "      <td>729833</td>\n",
              "      <td>35000</td>\n",
              "      <td>2.000000</td>\n",
              "    </tr>\n",
              "    <tr>\n",
              "      <th>Kulas Inc</th>\n",
              "      <td>218895</td>\n",
              "      <td>25000</td>\n",
              "      <td>1.500000</td>\n",
              "    </tr>\n",
              "    <tr>\n",
              "      <th>Purdy-Kunde</th>\n",
              "      <td>163416</td>\n",
              "      <td>30000</td>\n",
              "      <td>1.000000</td>\n",
              "    </tr>\n",
              "    <tr>\n",
              "      <th>Stokes LLC</th>\n",
              "      <td>239344</td>\n",
              "      <td>7500</td>\n",
              "      <td>1.000000</td>\n",
              "    </tr>\n",
              "    <tr>\n",
              "      <th>Trantow-Barrows</th>\n",
              "      <td>714466</td>\n",
              "      <td>15000</td>\n",
              "      <td>1.333333</td>\n",
              "    </tr>\n",
              "  </tbody>\n",
              "</table>\n",
              "</div>"
            ],
            "text/plain": [
              "                              Account   Price  Quantity\n",
              "Name                                                   \n",
              "Barton LLC                     740150   35000  1.000000\n",
              "Fritsch, Russel and Anderson   737550   35000  1.000000\n",
              "Herman LLC                     141962   65000  2.000000\n",
              "Jerde-Hilpert                  412290    5000  2.000000\n",
              "Kassulke, Ondricka and Metz    307599    7000  3.000000\n",
              "Keeling LLC                    688981  100000  5.000000\n",
              "Kiehn-Spinka                   146832   65000  2.000000\n",
              "Koepp Ltd                      729833   35000  2.000000\n",
              "Kulas Inc                      218895   25000  1.500000\n",
              "Purdy-Kunde                    163416   30000  1.000000\n",
              "Stokes LLC                     239344    7500  1.000000\n",
              "Trantow-Barrows                714466   15000  1.333333"
            ]
          },
          "metadata": {
            "tags": []
          },
          "execution_count": 9
        }
      ]
    },
    {
      "cell_type": "code",
      "metadata": {
        "id": "jud-P_n137Hr",
        "outputId": "2c2ac7a6-d56d-4eea-c06d-31aef94fc1d7",
        "colab": {
          "base_uri": "https://localhost:8080/",
          "height": 136
        }
      },
      "source": [
        "# name이 Trantow-Barrows인 데이터를 구하시오\n",
        "# name이 Trantow-Barrows와 일치하는 조건을 만족하는 데이터를 구하시오\n",
        "# df[ 조건식 ]\n",
        "df[ df.Name == 'Trantow-Barrows' ]"
      ],
      "execution_count": 10,
      "outputs": [
        {
          "output_type": "execute_result",
          "data": {
            "text/html": [
              "<div>\n",
              "<style scoped>\n",
              "    .dataframe tbody tr th:only-of-type {\n",
              "        vertical-align: middle;\n",
              "    }\n",
              "\n",
              "    .dataframe tbody tr th {\n",
              "        vertical-align: top;\n",
              "    }\n",
              "\n",
              "    .dataframe thead th {\n",
              "        text-align: right;\n",
              "    }\n",
              "</style>\n",
              "<table border=\"1\" class=\"dataframe\">\n",
              "  <thead>\n",
              "    <tr style=\"text-align: right;\">\n",
              "      <th></th>\n",
              "      <th>Account</th>\n",
              "      <th>Name</th>\n",
              "      <th>Rep</th>\n",
              "      <th>Manager</th>\n",
              "      <th>Product</th>\n",
              "      <th>Quantity</th>\n",
              "      <th>Price</th>\n",
              "      <th>Status</th>\n",
              "    </tr>\n",
              "  </thead>\n",
              "  <tbody>\n",
              "    <tr>\n",
              "      <th>0</th>\n",
              "      <td>714466</td>\n",
              "      <td>Trantow-Barrows</td>\n",
              "      <td>Craig Booker</td>\n",
              "      <td>Debra Henley</td>\n",
              "      <td>CPU</td>\n",
              "      <td>1</td>\n",
              "      <td>30000</td>\n",
              "      <td>presented</td>\n",
              "    </tr>\n",
              "    <tr>\n",
              "      <th>1</th>\n",
              "      <td>714466</td>\n",
              "      <td>Trantow-Barrows</td>\n",
              "      <td>Craig Booker</td>\n",
              "      <td>Debra Henley</td>\n",
              "      <td>Software</td>\n",
              "      <td>1</td>\n",
              "      <td>10000</td>\n",
              "      <td>presented</td>\n",
              "    </tr>\n",
              "    <tr>\n",
              "      <th>2</th>\n",
              "      <td>714466</td>\n",
              "      <td>Trantow-Barrows</td>\n",
              "      <td>Craig Booker</td>\n",
              "      <td>Debra Henley</td>\n",
              "      <td>Maintenance</td>\n",
              "      <td>2</td>\n",
              "      <td>5000</td>\n",
              "      <td>pending</td>\n",
              "    </tr>\n",
              "  </tbody>\n",
              "</table>\n",
              "</div>"
            ],
            "text/plain": [
              "   Account             Name           Rep  ... Quantity  Price     Status\n",
              "0   714466  Trantow-Barrows  Craig Booker  ...        1  30000  presented\n",
              "1   714466  Trantow-Barrows  Craig Booker  ...        1  10000  presented\n",
              "2   714466  Trantow-Barrows  Craig Booker  ...        2   5000    pending\n",
              "\n",
              "[3 rows x 8 columns]"
            ]
          },
          "metadata": {
            "tags": []
          },
          "execution_count": 10
        }
      ]
    },
    {
      "cell_type": "code",
      "metadata": {
        "id": "GneHOtpB8ylK",
        "outputId": "001e19e6-870b-4f16-8a47-bb4d99b20897",
        "colab": {
          "base_uri": "https://localhost:8080/",
          "height": 432
        }
      },
      "source": [
        "# 인덱스에 Name, Rep, Manager를 표현하려고 함\n",
        "# 인덱스에 3개 표현 = df에서 인덱스/컬럼 등은 n개의 레벨(depth)을 가질 수 있음\n",
        "pd.pivot_table( df, index = ['Name', 'Rep', 'Manager'] )\n",
        "# 나열한 index 간의 서열관계가 잘못되어서 표현이 개별적으로 나열됨 = 중복되는 데이터가 보임"
      ],
      "execution_count": 11,
      "outputs": [
        {
          "output_type": "execute_result",
          "data": {
            "text/html": [
              "<div>\n",
              "<style scoped>\n",
              "    .dataframe tbody tr th:only-of-type {\n",
              "        vertical-align: middle;\n",
              "    }\n",
              "\n",
              "    .dataframe tbody tr th {\n",
              "        vertical-align: top;\n",
              "    }\n",
              "\n",
              "    .dataframe thead th {\n",
              "        text-align: right;\n",
              "    }\n",
              "</style>\n",
              "<table border=\"1\" class=\"dataframe\">\n",
              "  <thead>\n",
              "    <tr style=\"text-align: right;\">\n",
              "      <th></th>\n",
              "      <th></th>\n",
              "      <th></th>\n",
              "      <th>Account</th>\n",
              "      <th>Price</th>\n",
              "      <th>Quantity</th>\n",
              "    </tr>\n",
              "    <tr>\n",
              "      <th>Name</th>\n",
              "      <th>Rep</th>\n",
              "      <th>Manager</th>\n",
              "      <th></th>\n",
              "      <th></th>\n",
              "      <th></th>\n",
              "    </tr>\n",
              "  </thead>\n",
              "  <tbody>\n",
              "    <tr>\n",
              "      <th>Barton LLC</th>\n",
              "      <th>John Smith</th>\n",
              "      <th>Debra Henley</th>\n",
              "      <td>740150</td>\n",
              "      <td>35000</td>\n",
              "      <td>1.000000</td>\n",
              "    </tr>\n",
              "    <tr>\n",
              "      <th>Fritsch, Russel and Anderson</th>\n",
              "      <th>Craig Booker</th>\n",
              "      <th>Debra Henley</th>\n",
              "      <td>737550</td>\n",
              "      <td>35000</td>\n",
              "      <td>1.000000</td>\n",
              "    </tr>\n",
              "    <tr>\n",
              "      <th>Herman LLC</th>\n",
              "      <th>Cedric Moss</th>\n",
              "      <th>Fred Anderson</th>\n",
              "      <td>141962</td>\n",
              "      <td>65000</td>\n",
              "      <td>2.000000</td>\n",
              "    </tr>\n",
              "    <tr>\n",
              "      <th>Jerde-Hilpert</th>\n",
              "      <th>John Smith</th>\n",
              "      <th>Debra Henley</th>\n",
              "      <td>412290</td>\n",
              "      <td>5000</td>\n",
              "      <td>2.000000</td>\n",
              "    </tr>\n",
              "    <tr>\n",
              "      <th>Kassulke, Ondricka and Metz</th>\n",
              "      <th>Wendy Yule</th>\n",
              "      <th>Fred Anderson</th>\n",
              "      <td>307599</td>\n",
              "      <td>7000</td>\n",
              "      <td>3.000000</td>\n",
              "    </tr>\n",
              "    <tr>\n",
              "      <th>Keeling LLC</th>\n",
              "      <th>Wendy Yule</th>\n",
              "      <th>Fred Anderson</th>\n",
              "      <td>688981</td>\n",
              "      <td>100000</td>\n",
              "      <td>5.000000</td>\n",
              "    </tr>\n",
              "    <tr>\n",
              "      <th>Kiehn-Spinka</th>\n",
              "      <th>Daniel Hilton</th>\n",
              "      <th>Debra Henley</th>\n",
              "      <td>146832</td>\n",
              "      <td>65000</td>\n",
              "      <td>2.000000</td>\n",
              "    </tr>\n",
              "    <tr>\n",
              "      <th>Koepp Ltd</th>\n",
              "      <th>Wendy Yule</th>\n",
              "      <th>Fred Anderson</th>\n",
              "      <td>729833</td>\n",
              "      <td>35000</td>\n",
              "      <td>2.000000</td>\n",
              "    </tr>\n",
              "    <tr>\n",
              "      <th>Kulas Inc</th>\n",
              "      <th>Daniel Hilton</th>\n",
              "      <th>Debra Henley</th>\n",
              "      <td>218895</td>\n",
              "      <td>25000</td>\n",
              "      <td>1.500000</td>\n",
              "    </tr>\n",
              "    <tr>\n",
              "      <th>Purdy-Kunde</th>\n",
              "      <th>Cedric Moss</th>\n",
              "      <th>Fred Anderson</th>\n",
              "      <td>163416</td>\n",
              "      <td>30000</td>\n",
              "      <td>1.000000</td>\n",
              "    </tr>\n",
              "    <tr>\n",
              "      <th>Stokes LLC</th>\n",
              "      <th>Cedric Moss</th>\n",
              "      <th>Fred Anderson</th>\n",
              "      <td>239344</td>\n",
              "      <td>7500</td>\n",
              "      <td>1.000000</td>\n",
              "    </tr>\n",
              "    <tr>\n",
              "      <th>Trantow-Barrows</th>\n",
              "      <th>Craig Booker</th>\n",
              "      <th>Debra Henley</th>\n",
              "      <td>714466</td>\n",
              "      <td>15000</td>\n",
              "      <td>1.333333</td>\n",
              "    </tr>\n",
              "  </tbody>\n",
              "</table>\n",
              "</div>"
            ],
            "text/plain": [
              "                                                          Account  ...  Quantity\n",
              "Name                         Rep           Manager                 ...          \n",
              "Barton LLC                   John Smith    Debra Henley    740150  ...  1.000000\n",
              "Fritsch, Russel and Anderson Craig Booker  Debra Henley    737550  ...  1.000000\n",
              "Herman LLC                   Cedric Moss   Fred Anderson   141962  ...  2.000000\n",
              "Jerde-Hilpert                John Smith    Debra Henley    412290  ...  2.000000\n",
              "Kassulke, Ondricka and Metz  Wendy Yule    Fred Anderson   307599  ...  3.000000\n",
              "Keeling LLC                  Wendy Yule    Fred Anderson   688981  ...  5.000000\n",
              "Kiehn-Spinka                 Daniel Hilton Debra Henley    146832  ...  2.000000\n",
              "Koepp Ltd                    Wendy Yule    Fred Anderson   729833  ...  2.000000\n",
              "Kulas Inc                    Daniel Hilton Debra Henley    218895  ...  1.500000\n",
              "Purdy-Kunde                  Cedric Moss   Fred Anderson   163416  ...  1.000000\n",
              "Stokes LLC                   Cedric Moss   Fred Anderson   239344  ...  1.000000\n",
              "Trantow-Barrows              Craig Booker  Debra Henley    714466  ...  1.333333\n",
              "\n",
              "[12 rows x 3 columns]"
            ]
          },
          "metadata": {
            "tags": []
          },
          "execution_count": 11
        }
      ]
    },
    {
      "cell_type": "code",
      "metadata": {
        "id": "LtW_NAeO80WZ",
        "outputId": "f4a02f5c-fb79-4a89-8e53-0c4fa24931fc",
        "colab": {
          "base_uri": "https://localhost:8080/",
          "height": 432
        }
      },
      "source": [
        "tmp = pd.pivot_table( df, index = ['Manager', 'Rep', 'Name'] )\n",
        "tmp"
      ],
      "execution_count": 12,
      "outputs": [
        {
          "output_type": "execute_result",
          "data": {
            "text/html": [
              "<div>\n",
              "<style scoped>\n",
              "    .dataframe tbody tr th:only-of-type {\n",
              "        vertical-align: middle;\n",
              "    }\n",
              "\n",
              "    .dataframe tbody tr th {\n",
              "        vertical-align: top;\n",
              "    }\n",
              "\n",
              "    .dataframe thead th {\n",
              "        text-align: right;\n",
              "    }\n",
              "</style>\n",
              "<table border=\"1\" class=\"dataframe\">\n",
              "  <thead>\n",
              "    <tr style=\"text-align: right;\">\n",
              "      <th></th>\n",
              "      <th></th>\n",
              "      <th></th>\n",
              "      <th>Account</th>\n",
              "      <th>Price</th>\n",
              "      <th>Quantity</th>\n",
              "    </tr>\n",
              "    <tr>\n",
              "      <th>Manager</th>\n",
              "      <th>Rep</th>\n",
              "      <th>Name</th>\n",
              "      <th></th>\n",
              "      <th></th>\n",
              "      <th></th>\n",
              "    </tr>\n",
              "  </thead>\n",
              "  <tbody>\n",
              "    <tr>\n",
              "      <th rowspan=\"6\" valign=\"top\">Debra Henley</th>\n",
              "      <th rowspan=\"2\" valign=\"top\">Craig Booker</th>\n",
              "      <th>Fritsch, Russel and Anderson</th>\n",
              "      <td>737550</td>\n",
              "      <td>35000</td>\n",
              "      <td>1.000000</td>\n",
              "    </tr>\n",
              "    <tr>\n",
              "      <th>Trantow-Barrows</th>\n",
              "      <td>714466</td>\n",
              "      <td>15000</td>\n",
              "      <td>1.333333</td>\n",
              "    </tr>\n",
              "    <tr>\n",
              "      <th rowspan=\"2\" valign=\"top\">Daniel Hilton</th>\n",
              "      <th>Kiehn-Spinka</th>\n",
              "      <td>146832</td>\n",
              "      <td>65000</td>\n",
              "      <td>2.000000</td>\n",
              "    </tr>\n",
              "    <tr>\n",
              "      <th>Kulas Inc</th>\n",
              "      <td>218895</td>\n",
              "      <td>25000</td>\n",
              "      <td>1.500000</td>\n",
              "    </tr>\n",
              "    <tr>\n",
              "      <th rowspan=\"2\" valign=\"top\">John Smith</th>\n",
              "      <th>Barton LLC</th>\n",
              "      <td>740150</td>\n",
              "      <td>35000</td>\n",
              "      <td>1.000000</td>\n",
              "    </tr>\n",
              "    <tr>\n",
              "      <th>Jerde-Hilpert</th>\n",
              "      <td>412290</td>\n",
              "      <td>5000</td>\n",
              "      <td>2.000000</td>\n",
              "    </tr>\n",
              "    <tr>\n",
              "      <th rowspan=\"6\" valign=\"top\">Fred Anderson</th>\n",
              "      <th rowspan=\"3\" valign=\"top\">Cedric Moss</th>\n",
              "      <th>Herman LLC</th>\n",
              "      <td>141962</td>\n",
              "      <td>65000</td>\n",
              "      <td>2.000000</td>\n",
              "    </tr>\n",
              "    <tr>\n",
              "      <th>Purdy-Kunde</th>\n",
              "      <td>163416</td>\n",
              "      <td>30000</td>\n",
              "      <td>1.000000</td>\n",
              "    </tr>\n",
              "    <tr>\n",
              "      <th>Stokes LLC</th>\n",
              "      <td>239344</td>\n",
              "      <td>7500</td>\n",
              "      <td>1.000000</td>\n",
              "    </tr>\n",
              "    <tr>\n",
              "      <th rowspan=\"3\" valign=\"top\">Wendy Yule</th>\n",
              "      <th>Kassulke, Ondricka and Metz</th>\n",
              "      <td>307599</td>\n",
              "      <td>7000</td>\n",
              "      <td>3.000000</td>\n",
              "    </tr>\n",
              "    <tr>\n",
              "      <th>Keeling LLC</th>\n",
              "      <td>688981</td>\n",
              "      <td>100000</td>\n",
              "      <td>5.000000</td>\n",
              "    </tr>\n",
              "    <tr>\n",
              "      <th>Koepp Ltd</th>\n",
              "      <td>729833</td>\n",
              "      <td>35000</td>\n",
              "      <td>2.000000</td>\n",
              "    </tr>\n",
              "  </tbody>\n",
              "</table>\n",
              "</div>"
            ],
            "text/plain": [
              "                                                          Account  ...  Quantity\n",
              "Manager       Rep           Name                                   ...          \n",
              "Debra Henley  Craig Booker  Fritsch, Russel and Anderson   737550  ...  1.000000\n",
              "                            Trantow-Barrows                714466  ...  1.333333\n",
              "              Daniel Hilton Kiehn-Spinka                   146832  ...  2.000000\n",
              "                            Kulas Inc                      218895  ...  1.500000\n",
              "              John Smith    Barton LLC                     740150  ...  1.000000\n",
              "                            Jerde-Hilpert                  412290  ...  2.000000\n",
              "Fred Anderson Cedric Moss   Herman LLC                     141962  ...  2.000000\n",
              "                            Purdy-Kunde                    163416  ...  1.000000\n",
              "                            Stokes LLC                     239344  ...  1.000000\n",
              "              Wendy Yule    Kassulke, Ondricka and Metz    307599  ...  3.000000\n",
              "                            Keeling LLC                    688981  ...  5.000000\n",
              "                            Koepp Ltd                      729833  ...  2.000000\n",
              "\n",
              "[12 rows x 3 columns]"
            ]
          },
          "metadata": {
            "tags": []
          },
          "execution_count": 12
        }
      ]
    },
    {
      "cell_type": "code",
      "metadata": {
        "id": "sHDLX56N-Gb9",
        "outputId": "60a67943-5363-437a-e97b-e0523daf799d",
        "colab": {
          "base_uri": "https://localhost:8080/",
          "height": 34
        }
      },
      "source": [
        "# 17개의 데이터가 12개로 축소 = 1명이 여러 데이터를 가지고 있어서 통합됨\n",
        "tmp.shape"
      ],
      "execution_count": 13,
      "outputs": [
        {
          "output_type": "execute_result",
          "data": {
            "text/plain": [
              "(12, 3)"
            ]
          },
          "metadata": {
            "tags": []
          },
          "execution_count": 13
        }
      ]
    },
    {
      "cell_type": "code",
      "metadata": {
        "id": "GjqMlAEt-InY",
        "outputId": "3a8990b4-5608-4708-e76c-0ff81d711651",
        "colab": {
          "base_uri": "https://localhost:8080/",
          "height": 225
        }
      },
      "source": [
        "# 중간관리자 까지만 데이터 집계해서 인사고과 평가\n",
        "tmp = pd.pivot_table( df, index = ['Manager', 'Rep'] )\n",
        "tmp"
      ],
      "execution_count": 14,
      "outputs": [
        {
          "output_type": "execute_result",
          "data": {
            "text/html": [
              "<div>\n",
              "<style scoped>\n",
              "    .dataframe tbody tr th:only-of-type {\n",
              "        vertical-align: middle;\n",
              "    }\n",
              "\n",
              "    .dataframe tbody tr th {\n",
              "        vertical-align: top;\n",
              "    }\n",
              "\n",
              "    .dataframe thead th {\n",
              "        text-align: right;\n",
              "    }\n",
              "</style>\n",
              "<table border=\"1\" class=\"dataframe\">\n",
              "  <thead>\n",
              "    <tr style=\"text-align: right;\">\n",
              "      <th></th>\n",
              "      <th></th>\n",
              "      <th>Account</th>\n",
              "      <th>Price</th>\n",
              "      <th>Quantity</th>\n",
              "    </tr>\n",
              "    <tr>\n",
              "      <th>Manager</th>\n",
              "      <th>Rep</th>\n",
              "      <th></th>\n",
              "      <th></th>\n",
              "      <th></th>\n",
              "    </tr>\n",
              "  </thead>\n",
              "  <tbody>\n",
              "    <tr>\n",
              "      <th rowspan=\"3\" valign=\"top\">Debra Henley</th>\n",
              "      <th>Craig Booker</th>\n",
              "      <td>720237.0</td>\n",
              "      <td>20000.000000</td>\n",
              "      <td>1.250000</td>\n",
              "    </tr>\n",
              "    <tr>\n",
              "      <th>Daniel Hilton</th>\n",
              "      <td>194874.0</td>\n",
              "      <td>38333.333333</td>\n",
              "      <td>1.666667</td>\n",
              "    </tr>\n",
              "    <tr>\n",
              "      <th>John Smith</th>\n",
              "      <td>576220.0</td>\n",
              "      <td>20000.000000</td>\n",
              "      <td>1.500000</td>\n",
              "    </tr>\n",
              "    <tr>\n",
              "      <th rowspan=\"2\" valign=\"top\">Fred Anderson</th>\n",
              "      <th>Cedric Moss</th>\n",
              "      <td>196016.5</td>\n",
              "      <td>27500.000000</td>\n",
              "      <td>1.250000</td>\n",
              "    </tr>\n",
              "    <tr>\n",
              "      <th>Wendy Yule</th>\n",
              "      <td>614061.5</td>\n",
              "      <td>44250.000000</td>\n",
              "      <td>3.000000</td>\n",
              "    </tr>\n",
              "  </tbody>\n",
              "</table>\n",
              "</div>"
            ],
            "text/plain": [
              "                              Account         Price  Quantity\n",
              "Manager       Rep                                            \n",
              "Debra Henley  Craig Booker   720237.0  20000.000000  1.250000\n",
              "              Daniel Hilton  194874.0  38333.333333  1.666667\n",
              "              John Smith     576220.0  20000.000000  1.500000\n",
              "Fred Anderson Cedric Moss    196016.5  27500.000000  1.250000\n",
              "              Wendy Yule     614061.5  44250.000000  3.000000"
            ]
          },
          "metadata": {
            "tags": []
          },
          "execution_count": 14
        }
      ]
    },
    {
      "cell_type": "code",
      "metadata": {
        "id": "XwjX-D19-weo",
        "outputId": "d1891a46-ad63-45bf-b586-a19e61cf4132",
        "colab": {
          "base_uri": "https://localhost:8080/",
          "height": 136
        }
      },
      "source": [
        "# 매니저까지만 데이터 집계해서 인사고과 평가\n",
        "pd.pivot_table( df, index = ['Manager'] )"
      ],
      "execution_count": 15,
      "outputs": [
        {
          "output_type": "execute_result",
          "data": {
            "text/html": [
              "<div>\n",
              "<style scoped>\n",
              "    .dataframe tbody tr th:only-of-type {\n",
              "        vertical-align: middle;\n",
              "    }\n",
              "\n",
              "    .dataframe tbody tr th {\n",
              "        vertical-align: top;\n",
              "    }\n",
              "\n",
              "    .dataframe thead th {\n",
              "        text-align: right;\n",
              "    }\n",
              "</style>\n",
              "<table border=\"1\" class=\"dataframe\">\n",
              "  <thead>\n",
              "    <tr style=\"text-align: right;\">\n",
              "      <th></th>\n",
              "      <th>Account</th>\n",
              "      <th>Price</th>\n",
              "      <th>Quantity</th>\n",
              "    </tr>\n",
              "    <tr>\n",
              "      <th>Manager</th>\n",
              "      <th></th>\n",
              "      <th></th>\n",
              "      <th></th>\n",
              "    </tr>\n",
              "  </thead>\n",
              "  <tbody>\n",
              "    <tr>\n",
              "      <th>Debra Henley</th>\n",
              "      <td>513112.222222</td>\n",
              "      <td>26111.111111</td>\n",
              "      <td>1.444444</td>\n",
              "    </tr>\n",
              "    <tr>\n",
              "      <th>Fred Anderson</th>\n",
              "      <td>405039.000000</td>\n",
              "      <td>35875.000000</td>\n",
              "      <td>2.125000</td>\n",
              "    </tr>\n",
              "  </tbody>\n",
              "</table>\n",
              "</div>"
            ],
            "text/plain": [
              "                     Account         Price  Quantity\n",
              "Manager                                             \n",
              "Debra Henley   513112.222222  26111.111111  1.444444\n",
              "Fred Anderson  405039.000000  35875.000000  2.125000"
            ]
          },
          "metadata": {
            "tags": []
          },
          "execution_count": 15
        }
      ]
    },
    {
      "cell_type": "code",
      "metadata": {
        "id": "CKNWCB0V_GWl",
        "outputId": "1a5f205e-d0c9-4b82-d5df-965f077e70e8",
        "colab": {
          "base_uri": "https://localhost:8080/",
          "height": 225
        }
      },
      "source": [
        "# df의 구성요소 중 index, values만 사용\n",
        "pd.pivot_table( df, index = ['Manager', 'Rep'], values = ['Price'] )"
      ],
      "execution_count": 16,
      "outputs": [
        {
          "output_type": "execute_result",
          "data": {
            "text/html": [
              "<div>\n",
              "<style scoped>\n",
              "    .dataframe tbody tr th:only-of-type {\n",
              "        vertical-align: middle;\n",
              "    }\n",
              "\n",
              "    .dataframe tbody tr th {\n",
              "        vertical-align: top;\n",
              "    }\n",
              "\n",
              "    .dataframe thead th {\n",
              "        text-align: right;\n",
              "    }\n",
              "</style>\n",
              "<table border=\"1\" class=\"dataframe\">\n",
              "  <thead>\n",
              "    <tr style=\"text-align: right;\">\n",
              "      <th></th>\n",
              "      <th></th>\n",
              "      <th>Price</th>\n",
              "    </tr>\n",
              "    <tr>\n",
              "      <th>Manager</th>\n",
              "      <th>Rep</th>\n",
              "      <th></th>\n",
              "    </tr>\n",
              "  </thead>\n",
              "  <tbody>\n",
              "    <tr>\n",
              "      <th rowspan=\"3\" valign=\"top\">Debra Henley</th>\n",
              "      <th>Craig Booker</th>\n",
              "      <td>20000.000000</td>\n",
              "    </tr>\n",
              "    <tr>\n",
              "      <th>Daniel Hilton</th>\n",
              "      <td>38333.333333</td>\n",
              "    </tr>\n",
              "    <tr>\n",
              "      <th>John Smith</th>\n",
              "      <td>20000.000000</td>\n",
              "    </tr>\n",
              "    <tr>\n",
              "      <th rowspan=\"2\" valign=\"top\">Fred Anderson</th>\n",
              "      <th>Cedric Moss</th>\n",
              "      <td>27500.000000</td>\n",
              "    </tr>\n",
              "    <tr>\n",
              "      <th>Wendy Yule</th>\n",
              "      <td>44250.000000</td>\n",
              "    </tr>\n",
              "  </tbody>\n",
              "</table>\n",
              "</div>"
            ],
            "text/plain": [
              "                                    Price\n",
              "Manager       Rep                        \n",
              "Debra Henley  Craig Booker   20000.000000\n",
              "              Daniel Hilton  38333.333333\n",
              "              John Smith     20000.000000\n",
              "Fred Anderson Cedric Moss    27500.000000\n",
              "              Wendy Yule     44250.000000"
            ]
          },
          "metadata": {
            "tags": []
          },
          "execution_count": 16
        }
      ]
    },
    {
      "cell_type": "code",
      "metadata": {
        "id": "0l-ZYw6-_ZUY",
        "outputId": "a141ce7f-fe0d-4bf1-bc76-f85cc98e0dbd",
        "colab": {
          "base_uri": "https://localhost:8080/",
          "height": 225
        }
      },
      "source": [
        "# 기본 계산은 평균(mean)으로 수행, 이것을 합산으로 변경\n",
        "pd.pivot_table( df, index = ['Manager', 'Rep'], values = ['Price'], aggfunc = np.sum )"
      ],
      "execution_count": 17,
      "outputs": [
        {
          "output_type": "execute_result",
          "data": {
            "text/html": [
              "<div>\n",
              "<style scoped>\n",
              "    .dataframe tbody tr th:only-of-type {\n",
              "        vertical-align: middle;\n",
              "    }\n",
              "\n",
              "    .dataframe tbody tr th {\n",
              "        vertical-align: top;\n",
              "    }\n",
              "\n",
              "    .dataframe thead th {\n",
              "        text-align: right;\n",
              "    }\n",
              "</style>\n",
              "<table border=\"1\" class=\"dataframe\">\n",
              "  <thead>\n",
              "    <tr style=\"text-align: right;\">\n",
              "      <th></th>\n",
              "      <th></th>\n",
              "      <th>Price</th>\n",
              "    </tr>\n",
              "    <tr>\n",
              "      <th>Manager</th>\n",
              "      <th>Rep</th>\n",
              "      <th></th>\n",
              "    </tr>\n",
              "  </thead>\n",
              "  <tbody>\n",
              "    <tr>\n",
              "      <th rowspan=\"3\" valign=\"top\">Debra Henley</th>\n",
              "      <th>Craig Booker</th>\n",
              "      <td>80000</td>\n",
              "    </tr>\n",
              "    <tr>\n",
              "      <th>Daniel Hilton</th>\n",
              "      <td>115000</td>\n",
              "    </tr>\n",
              "    <tr>\n",
              "      <th>John Smith</th>\n",
              "      <td>40000</td>\n",
              "    </tr>\n",
              "    <tr>\n",
              "      <th rowspan=\"2\" valign=\"top\">Fred Anderson</th>\n",
              "      <th>Cedric Moss</th>\n",
              "      <td>110000</td>\n",
              "    </tr>\n",
              "    <tr>\n",
              "      <th>Wendy Yule</th>\n",
              "      <td>177000</td>\n",
              "    </tr>\n",
              "  </tbody>\n",
              "</table>\n",
              "</div>"
            ],
            "text/plain": [
              "                              Price\n",
              "Manager       Rep                  \n",
              "Debra Henley  Craig Booker    80000\n",
              "              Daniel Hilton  115000\n",
              "              John Smith      40000\n",
              "Fred Anderson Cedric Moss    110000\n",
              "              Wendy Yule     177000"
            ]
          },
          "metadata": {
            "tags": []
          },
          "execution_count": 17
        }
      ]
    },
    {
      "cell_type": "code",
      "metadata": {
        "id": "4mQOni9W_tnw",
        "outputId": "b02eeec5-418c-4ed0-b8cc-ee752e1676b5",
        "colab": {
          "base_uri": "https://localhost:8080/",
          "height": 254
        }
      },
      "source": [
        "# 평균과 합산을 같이 보고 싶음\n",
        "tmp = pd.pivot_table( df, index = ['Manager', 'Rep'], values = ['Price'], aggfunc = [np.sum, np.mean, len] )\n",
        "tmp"
      ],
      "execution_count": 18,
      "outputs": [
        {
          "output_type": "execute_result",
          "data": {
            "text/html": [
              "<div>\n",
              "<style scoped>\n",
              "    .dataframe tbody tr th:only-of-type {\n",
              "        vertical-align: middle;\n",
              "    }\n",
              "\n",
              "    .dataframe tbody tr th {\n",
              "        vertical-align: top;\n",
              "    }\n",
              "\n",
              "    .dataframe thead tr th {\n",
              "        text-align: left;\n",
              "    }\n",
              "\n",
              "    .dataframe thead tr:last-of-type th {\n",
              "        text-align: right;\n",
              "    }\n",
              "</style>\n",
              "<table border=\"1\" class=\"dataframe\">\n",
              "  <thead>\n",
              "    <tr>\n",
              "      <th></th>\n",
              "      <th></th>\n",
              "      <th>sum</th>\n",
              "      <th>mean</th>\n",
              "      <th>len</th>\n",
              "    </tr>\n",
              "    <tr>\n",
              "      <th></th>\n",
              "      <th></th>\n",
              "      <th>Price</th>\n",
              "      <th>Price</th>\n",
              "      <th>Price</th>\n",
              "    </tr>\n",
              "    <tr>\n",
              "      <th>Manager</th>\n",
              "      <th>Rep</th>\n",
              "      <th></th>\n",
              "      <th></th>\n",
              "      <th></th>\n",
              "    </tr>\n",
              "  </thead>\n",
              "  <tbody>\n",
              "    <tr>\n",
              "      <th rowspan=\"3\" valign=\"top\">Debra Henley</th>\n",
              "      <th>Craig Booker</th>\n",
              "      <td>80000</td>\n",
              "      <td>20000.000000</td>\n",
              "      <td>4</td>\n",
              "    </tr>\n",
              "    <tr>\n",
              "      <th>Daniel Hilton</th>\n",
              "      <td>115000</td>\n",
              "      <td>38333.333333</td>\n",
              "      <td>3</td>\n",
              "    </tr>\n",
              "    <tr>\n",
              "      <th>John Smith</th>\n",
              "      <td>40000</td>\n",
              "      <td>20000.000000</td>\n",
              "      <td>2</td>\n",
              "    </tr>\n",
              "    <tr>\n",
              "      <th rowspan=\"2\" valign=\"top\">Fred Anderson</th>\n",
              "      <th>Cedric Moss</th>\n",
              "      <td>110000</td>\n",
              "      <td>27500.000000</td>\n",
              "      <td>4</td>\n",
              "    </tr>\n",
              "    <tr>\n",
              "      <th>Wendy Yule</th>\n",
              "      <td>177000</td>\n",
              "      <td>44250.000000</td>\n",
              "      <td>4</td>\n",
              "    </tr>\n",
              "  </tbody>\n",
              "</table>\n",
              "</div>"
            ],
            "text/plain": [
              "                                sum          mean   len\n",
              "                              Price         Price Price\n",
              "Manager       Rep                                      \n",
              "Debra Henley  Craig Booker    80000  20000.000000     4\n",
              "              Daniel Hilton  115000  38333.333333     3\n",
              "              John Smith      40000  20000.000000     2\n",
              "Fred Anderson Cedric Moss    110000  27500.000000     4\n",
              "              Wendy Yule     177000  44250.000000     4"
            ]
          },
          "metadata": {
            "tags": []
          },
          "execution_count": 18
        }
      ]
    },
    {
      "cell_type": "code",
      "metadata": {
        "id": "rhXbr068AMso",
        "outputId": "8f0eb28b-a79d-46a5-9c6d-b538982e1838",
        "colab": {
          "base_uri": "https://localhost:8080/",
          "height": 122
        }
      },
      "source": [
        "tmp.index"
      ],
      "execution_count": 19,
      "outputs": [
        {
          "output_type": "execute_result",
          "data": {
            "text/plain": [
              "MultiIndex([( 'Debra Henley',  'Craig Booker'),\n",
              "            ( 'Debra Henley', 'Daniel Hilton'),\n",
              "            ( 'Debra Henley',    'John Smith'),\n",
              "            ('Fred Anderson',   'Cedric Moss'),\n",
              "            ('Fred Anderson',    'Wendy Yule')],\n",
              "           names=['Manager', 'Rep'])"
            ]
          },
          "metadata": {
            "tags": []
          },
          "execution_count": 19
        }
      ]
    },
    {
      "cell_type": "code",
      "metadata": {
        "id": "TK1_OnDuARqK",
        "outputId": "f3100ec8-a8cc-456b-c4b7-74fe4cf88ee2",
        "colab": {
          "base_uri": "https://localhost:8080/",
          "height": 87
        }
      },
      "source": [
        "tmp.columns"
      ],
      "execution_count": 20,
      "outputs": [
        {
          "output_type": "execute_result",
          "data": {
            "text/plain": [
              "MultiIndex([( 'sum', 'Price'),\n",
              "            ('mean', 'Price'),\n",
              "            ( 'len', 'Price')],\n",
              "           )"
            ]
          },
          "metadata": {
            "tags": []
          },
          "execution_count": 20
        }
      ]
    },
    {
      "cell_type": "code",
      "metadata": {
        "id": "G_klAjVEASz1",
        "outputId": "39aa82d2-e404-4ca0-ea44-e7da5d6891f5",
        "colab": {
          "base_uri": "https://localhost:8080/",
          "height": 34
        }
      },
      "source": [
        "tmp.columns.levels"
      ],
      "execution_count": 21,
      "outputs": [
        {
          "output_type": "execute_result",
          "data": {
            "text/plain": [
              "FrozenList([['sum', 'mean', 'len'], ['Price']])"
            ]
          },
          "metadata": {
            "tags": []
          },
          "execution_count": 21
        }
      ]
    },
    {
      "cell_type": "code",
      "metadata": {
        "id": "T_o7tIWhAYiR",
        "outputId": "682993f8-a267-43b1-a7d6-7b09f4945e5f",
        "colab": {
          "base_uri": "https://localhost:8080/",
          "height": 34
        }
      },
      "source": [
        "tmp.columns.levels[0]"
      ],
      "execution_count": 22,
      "outputs": [
        {
          "output_type": "execute_result",
          "data": {
            "text/plain": [
              "Index(['sum', 'mean', 'len'], dtype='object')"
            ]
          },
          "metadata": {
            "tags": []
          },
          "execution_count": 22
        }
      ]
    },
    {
      "cell_type": "code",
      "metadata": {
        "id": "H2YTDk7sAcVB",
        "outputId": "1cb72409-c4d0-4e29-b590-13fa555a0a87",
        "colab": {
          "base_uri": "https://localhost:8080/",
          "height": 34
        }
      },
      "source": [
        "tmp.columns.levels[1]"
      ],
      "execution_count": 23,
      "outputs": [
        {
          "output_type": "execute_result",
          "data": {
            "text/plain": [
              "Index(['Price'], dtype='object')"
            ]
          },
          "metadata": {
            "tags": []
          },
          "execution_count": 23
        }
      ]
    },
    {
      "cell_type": "code",
      "metadata": {
        "id": "1y3QrMEEAfl2",
        "outputId": "ef7aae72-4a68-4bce-9c8a-96ee4e6184d2",
        "colab": {
          "base_uri": "https://localhost:8080/",
          "height": 225
        }
      },
      "source": [
        "# tmp의 column의 level을 1개로 구성하고 각각 이름은 'sum', 'mean', len'으로 사용\n",
        "# column 변경(column명에 공백/레벨 등이 존재, 의미가 불분명, df의 병합 수행할 때 key값이 상이, ...)\n",
        "tmp.columns = tmp.columns.levels[0]\n",
        "tmp"
      ],
      "execution_count": 24,
      "outputs": [
        {
          "output_type": "execute_result",
          "data": {
            "text/html": [
              "<div>\n",
              "<style scoped>\n",
              "    .dataframe tbody tr th:only-of-type {\n",
              "        vertical-align: middle;\n",
              "    }\n",
              "\n",
              "    .dataframe tbody tr th {\n",
              "        vertical-align: top;\n",
              "    }\n",
              "\n",
              "    .dataframe thead th {\n",
              "        text-align: right;\n",
              "    }\n",
              "</style>\n",
              "<table border=\"1\" class=\"dataframe\">\n",
              "  <thead>\n",
              "    <tr style=\"text-align: right;\">\n",
              "      <th></th>\n",
              "      <th></th>\n",
              "      <th>sum</th>\n",
              "      <th>mean</th>\n",
              "      <th>len</th>\n",
              "    </tr>\n",
              "    <tr>\n",
              "      <th>Manager</th>\n",
              "      <th>Rep</th>\n",
              "      <th></th>\n",
              "      <th></th>\n",
              "      <th></th>\n",
              "    </tr>\n",
              "  </thead>\n",
              "  <tbody>\n",
              "    <tr>\n",
              "      <th rowspan=\"3\" valign=\"top\">Debra Henley</th>\n",
              "      <th>Craig Booker</th>\n",
              "      <td>80000</td>\n",
              "      <td>20000.000000</td>\n",
              "      <td>4</td>\n",
              "    </tr>\n",
              "    <tr>\n",
              "      <th>Daniel Hilton</th>\n",
              "      <td>115000</td>\n",
              "      <td>38333.333333</td>\n",
              "      <td>3</td>\n",
              "    </tr>\n",
              "    <tr>\n",
              "      <th>John Smith</th>\n",
              "      <td>40000</td>\n",
              "      <td>20000.000000</td>\n",
              "      <td>2</td>\n",
              "    </tr>\n",
              "    <tr>\n",
              "      <th rowspan=\"2\" valign=\"top\">Fred Anderson</th>\n",
              "      <th>Cedric Moss</th>\n",
              "      <td>110000</td>\n",
              "      <td>27500.000000</td>\n",
              "      <td>4</td>\n",
              "    </tr>\n",
              "    <tr>\n",
              "      <th>Wendy Yule</th>\n",
              "      <td>177000</td>\n",
              "      <td>44250.000000</td>\n",
              "      <td>4</td>\n",
              "    </tr>\n",
              "  </tbody>\n",
              "</table>\n",
              "</div>"
            ],
            "text/plain": [
              "                                sum          mean  len\n",
              "Manager       Rep                                     \n",
              "Debra Henley  Craig Booker    80000  20000.000000    4\n",
              "              Daniel Hilton  115000  38333.333333    3\n",
              "              John Smith      40000  20000.000000    2\n",
              "Fred Anderson Cedric Moss    110000  27500.000000    4\n",
              "              Wendy Yule     177000  44250.000000    4"
            ]
          },
          "metadata": {
            "tags": []
          },
          "execution_count": 24
        }
      ]
    },
    {
      "cell_type": "code",
      "metadata": {
        "id": "4j5qkQaLBLxk",
        "outputId": "8b0b60e0-f17f-45ab-f58a-839352c3be2a",
        "colab": {
          "base_uri": "https://localhost:8080/",
          "height": 34
        }
      },
      "source": [
        "# column명 1개만 변경하고자 하니 생기는 문제점\n",
        "# Index does not support mutable operations → (현재시점) column명을 변경하려면 전체 다 변경해라\n",
        "try:\n",
        "  tmp.columns[-1] = 'counts'\n",
        "  tmp\n",
        "except Exception as e :\n",
        "  print(\"Error\")"
      ],
      "execution_count": 25,
      "outputs": [
        {
          "output_type": "stream",
          "text": [
            "Error\n"
          ],
          "name": "stdout"
        }
      ]
    },
    {
      "cell_type": "code",
      "metadata": {
        "id": "Jed8CujvBcjW",
        "outputId": "08d6cdbb-1b49-4564-d9d5-fc74ac79dae9",
        "colab": {
          "base_uri": "https://localhost:8080/",
          "height": 284
        }
      },
      "source": [
        "pd.pivot_table( \n",
        "    df, \n",
        "    index   = ['Manager', 'Rep'], \n",
        "    values  = ['Price'], \n",
        "    columns = ['Product'],\n",
        "    aggfunc = [np.sum] \n",
        ")\n",
        "# 제품이 추가되니, 어느 부서가 무엇을 잘 팔고 무엇을 못 파는지 집계 → 향후 약점을 보완할 것인지 강점을 강화할 건인지 전략 수립 可"
      ],
      "execution_count": 26,
      "outputs": [
        {
          "output_type": "execute_result",
          "data": {
            "text/html": [
              "<div>\n",
              "<style scoped>\n",
              "    .dataframe tbody tr th:only-of-type {\n",
              "        vertical-align: middle;\n",
              "    }\n",
              "\n",
              "    .dataframe tbody tr th {\n",
              "        vertical-align: top;\n",
              "    }\n",
              "\n",
              "    .dataframe thead tr th {\n",
              "        text-align: left;\n",
              "    }\n",
              "\n",
              "    .dataframe thead tr:last-of-type th {\n",
              "        text-align: right;\n",
              "    }\n",
              "</style>\n",
              "<table border=\"1\" class=\"dataframe\">\n",
              "  <thead>\n",
              "    <tr>\n",
              "      <th></th>\n",
              "      <th></th>\n",
              "      <th colspan=\"4\" halign=\"left\">sum</th>\n",
              "    </tr>\n",
              "    <tr>\n",
              "      <th></th>\n",
              "      <th></th>\n",
              "      <th colspan=\"4\" halign=\"left\">Price</th>\n",
              "    </tr>\n",
              "    <tr>\n",
              "      <th></th>\n",
              "      <th>Product</th>\n",
              "      <th>CPU</th>\n",
              "      <th>Maintenance</th>\n",
              "      <th>Monitor</th>\n",
              "      <th>Software</th>\n",
              "    </tr>\n",
              "    <tr>\n",
              "      <th>Manager</th>\n",
              "      <th>Rep</th>\n",
              "      <th></th>\n",
              "      <th></th>\n",
              "      <th></th>\n",
              "      <th></th>\n",
              "    </tr>\n",
              "  </thead>\n",
              "  <tbody>\n",
              "    <tr>\n",
              "      <th rowspan=\"3\" valign=\"top\">Debra Henley</th>\n",
              "      <th>Craig Booker</th>\n",
              "      <td>65000.0</td>\n",
              "      <td>5000.0</td>\n",
              "      <td>NaN</td>\n",
              "      <td>10000.0</td>\n",
              "    </tr>\n",
              "    <tr>\n",
              "      <th>Daniel Hilton</th>\n",
              "      <td>105000.0</td>\n",
              "      <td>NaN</td>\n",
              "      <td>NaN</td>\n",
              "      <td>10000.0</td>\n",
              "    </tr>\n",
              "    <tr>\n",
              "      <th>John Smith</th>\n",
              "      <td>35000.0</td>\n",
              "      <td>5000.0</td>\n",
              "      <td>NaN</td>\n",
              "      <td>NaN</td>\n",
              "    </tr>\n",
              "    <tr>\n",
              "      <th rowspan=\"2\" valign=\"top\">Fred Anderson</th>\n",
              "      <th>Cedric Moss</th>\n",
              "      <td>95000.0</td>\n",
              "      <td>5000.0</td>\n",
              "      <td>NaN</td>\n",
              "      <td>10000.0</td>\n",
              "    </tr>\n",
              "    <tr>\n",
              "      <th>Wendy Yule</th>\n",
              "      <td>165000.0</td>\n",
              "      <td>7000.0</td>\n",
              "      <td>5000.0</td>\n",
              "      <td>NaN</td>\n",
              "    </tr>\n",
              "  </tbody>\n",
              "</table>\n",
              "</div>"
            ],
            "text/plain": [
              "                                  sum                             \n",
              "                                Price                             \n",
              "Product                           CPU Maintenance Monitor Software\n",
              "Manager       Rep                                                 \n",
              "Debra Henley  Craig Booker    65000.0      5000.0     NaN  10000.0\n",
              "              Daniel Hilton  105000.0         NaN     NaN  10000.0\n",
              "              John Smith      35000.0      5000.0     NaN      NaN\n",
              "Fred Anderson Cedric Moss     95000.0      5000.0     NaN  10000.0\n",
              "              Wendy Yule     165000.0      7000.0  5000.0      NaN"
            ]
          },
          "metadata": {
            "tags": []
          },
          "execution_count": 26
        }
      ]
    },
    {
      "cell_type": "code",
      "metadata": {
        "id": "7DnltWzRCImy",
        "outputId": "0808adac-431a-4d71-d576-edf1539b51da",
        "colab": {
          "base_uri": "https://localhost:8080/",
          "height": 284
        }
      },
      "source": [
        "# 결측치 0으로 처리\n",
        "tmp = pd.pivot_table( \n",
        "    df, \n",
        "    index   = ['Manager', 'Rep'], \n",
        "    values  = ['Price'], \n",
        "    columns = ['Product'],\n",
        "    aggfunc = [np.sum] \n",
        ")\n",
        "tmp.fillna(0)"
      ],
      "execution_count": 27,
      "outputs": [
        {
          "output_type": "execute_result",
          "data": {
            "text/html": [
              "<div>\n",
              "<style scoped>\n",
              "    .dataframe tbody tr th:only-of-type {\n",
              "        vertical-align: middle;\n",
              "    }\n",
              "\n",
              "    .dataframe tbody tr th {\n",
              "        vertical-align: top;\n",
              "    }\n",
              "\n",
              "    .dataframe thead tr th {\n",
              "        text-align: left;\n",
              "    }\n",
              "\n",
              "    .dataframe thead tr:last-of-type th {\n",
              "        text-align: right;\n",
              "    }\n",
              "</style>\n",
              "<table border=\"1\" class=\"dataframe\">\n",
              "  <thead>\n",
              "    <tr>\n",
              "      <th></th>\n",
              "      <th></th>\n",
              "      <th colspan=\"4\" halign=\"left\">sum</th>\n",
              "    </tr>\n",
              "    <tr>\n",
              "      <th></th>\n",
              "      <th></th>\n",
              "      <th colspan=\"4\" halign=\"left\">Price</th>\n",
              "    </tr>\n",
              "    <tr>\n",
              "      <th></th>\n",
              "      <th>Product</th>\n",
              "      <th>CPU</th>\n",
              "      <th>Maintenance</th>\n",
              "      <th>Monitor</th>\n",
              "      <th>Software</th>\n",
              "    </tr>\n",
              "    <tr>\n",
              "      <th>Manager</th>\n",
              "      <th>Rep</th>\n",
              "      <th></th>\n",
              "      <th></th>\n",
              "      <th></th>\n",
              "      <th></th>\n",
              "    </tr>\n",
              "  </thead>\n",
              "  <tbody>\n",
              "    <tr>\n",
              "      <th rowspan=\"3\" valign=\"top\">Debra Henley</th>\n",
              "      <th>Craig Booker</th>\n",
              "      <td>65000.0</td>\n",
              "      <td>5000.0</td>\n",
              "      <td>0.0</td>\n",
              "      <td>10000.0</td>\n",
              "    </tr>\n",
              "    <tr>\n",
              "      <th>Daniel Hilton</th>\n",
              "      <td>105000.0</td>\n",
              "      <td>0.0</td>\n",
              "      <td>0.0</td>\n",
              "      <td>10000.0</td>\n",
              "    </tr>\n",
              "    <tr>\n",
              "      <th>John Smith</th>\n",
              "      <td>35000.0</td>\n",
              "      <td>5000.0</td>\n",
              "      <td>0.0</td>\n",
              "      <td>0.0</td>\n",
              "    </tr>\n",
              "    <tr>\n",
              "      <th rowspan=\"2\" valign=\"top\">Fred Anderson</th>\n",
              "      <th>Cedric Moss</th>\n",
              "      <td>95000.0</td>\n",
              "      <td>5000.0</td>\n",
              "      <td>0.0</td>\n",
              "      <td>10000.0</td>\n",
              "    </tr>\n",
              "    <tr>\n",
              "      <th>Wendy Yule</th>\n",
              "      <td>165000.0</td>\n",
              "      <td>7000.0</td>\n",
              "      <td>5000.0</td>\n",
              "      <td>0.0</td>\n",
              "    </tr>\n",
              "  </tbody>\n",
              "</table>\n",
              "</div>"
            ],
            "text/plain": [
              "                                  sum                             \n",
              "                                Price                             \n",
              "Product                           CPU Maintenance Monitor Software\n",
              "Manager       Rep                                                 \n",
              "Debra Henley  Craig Booker    65000.0      5000.0     0.0  10000.0\n",
              "              Daniel Hilton  105000.0         0.0     0.0  10000.0\n",
              "              John Smith      35000.0      5000.0     0.0      0.0\n",
              "Fred Anderson Cedric Moss     95000.0      5000.0     0.0  10000.0\n",
              "              Wendy Yule     165000.0      7000.0  5000.0      0.0"
            ]
          },
          "metadata": {
            "tags": []
          },
          "execution_count": 27
        }
      ]
    },
    {
      "cell_type": "code",
      "metadata": {
        "id": "0vw0qVd6C-1c",
        "outputId": "7f609195-ddc9-4f5f-9d8a-fe12afc267d9",
        "colab": {
          "base_uri": "https://localhost:8080/",
          "height": 284
        }
      },
      "source": [
        "# 처음부터 피벗의 결과값을 정수로 표현하고 싶음\n",
        "# fill_value = 0 : 기본값을 0으로 다 채우고 나서 피벗하시오\n",
        "tmp = pd.pivot_table( \n",
        "    df, \n",
        "    index      = ['Manager', 'Rep'], \n",
        "    values     = ['Price'], \n",
        "    columns    = ['Product'],\n",
        "    aggfunc    = [np.sum],\n",
        "    fill_value = 0 \n",
        ")\n",
        "tmp"
      ],
      "execution_count": 28,
      "outputs": [
        {
          "output_type": "execute_result",
          "data": {
            "text/html": [
              "<div>\n",
              "<style scoped>\n",
              "    .dataframe tbody tr th:only-of-type {\n",
              "        vertical-align: middle;\n",
              "    }\n",
              "\n",
              "    .dataframe tbody tr th {\n",
              "        vertical-align: top;\n",
              "    }\n",
              "\n",
              "    .dataframe thead tr th {\n",
              "        text-align: left;\n",
              "    }\n",
              "\n",
              "    .dataframe thead tr:last-of-type th {\n",
              "        text-align: right;\n",
              "    }\n",
              "</style>\n",
              "<table border=\"1\" class=\"dataframe\">\n",
              "  <thead>\n",
              "    <tr>\n",
              "      <th></th>\n",
              "      <th></th>\n",
              "      <th colspan=\"4\" halign=\"left\">sum</th>\n",
              "    </tr>\n",
              "    <tr>\n",
              "      <th></th>\n",
              "      <th></th>\n",
              "      <th colspan=\"4\" halign=\"left\">Price</th>\n",
              "    </tr>\n",
              "    <tr>\n",
              "      <th></th>\n",
              "      <th>Product</th>\n",
              "      <th>CPU</th>\n",
              "      <th>Maintenance</th>\n",
              "      <th>Monitor</th>\n",
              "      <th>Software</th>\n",
              "    </tr>\n",
              "    <tr>\n",
              "      <th>Manager</th>\n",
              "      <th>Rep</th>\n",
              "      <th></th>\n",
              "      <th></th>\n",
              "      <th></th>\n",
              "      <th></th>\n",
              "    </tr>\n",
              "  </thead>\n",
              "  <tbody>\n",
              "    <tr>\n",
              "      <th rowspan=\"3\" valign=\"top\">Debra Henley</th>\n",
              "      <th>Craig Booker</th>\n",
              "      <td>65000</td>\n",
              "      <td>5000</td>\n",
              "      <td>0</td>\n",
              "      <td>10000</td>\n",
              "    </tr>\n",
              "    <tr>\n",
              "      <th>Daniel Hilton</th>\n",
              "      <td>105000</td>\n",
              "      <td>0</td>\n",
              "      <td>0</td>\n",
              "      <td>10000</td>\n",
              "    </tr>\n",
              "    <tr>\n",
              "      <th>John Smith</th>\n",
              "      <td>35000</td>\n",
              "      <td>5000</td>\n",
              "      <td>0</td>\n",
              "      <td>0</td>\n",
              "    </tr>\n",
              "    <tr>\n",
              "      <th rowspan=\"2\" valign=\"top\">Fred Anderson</th>\n",
              "      <th>Cedric Moss</th>\n",
              "      <td>95000</td>\n",
              "      <td>5000</td>\n",
              "      <td>0</td>\n",
              "      <td>10000</td>\n",
              "    </tr>\n",
              "    <tr>\n",
              "      <th>Wendy Yule</th>\n",
              "      <td>165000</td>\n",
              "      <td>7000</td>\n",
              "      <td>5000</td>\n",
              "      <td>0</td>\n",
              "    </tr>\n",
              "  </tbody>\n",
              "</table>\n",
              "</div>"
            ],
            "text/plain": [
              "                                sum                             \n",
              "                              Price                             \n",
              "Product                         CPU Maintenance Monitor Software\n",
              "Manager       Rep                                               \n",
              "Debra Henley  Craig Booker    65000        5000       0    10000\n",
              "              Daniel Hilton  105000           0       0    10000\n",
              "              John Smith      35000        5000       0        0\n",
              "Fred Anderson Cedric Moss     95000        5000       0    10000\n",
              "              Wendy Yule     165000        7000    5000        0"
            ]
          },
          "metadata": {
            "tags": []
          },
          "execution_count": 28
        }
      ]
    },
    {
      "cell_type": "code",
      "metadata": {
        "id": "MiW0knV9DbTk",
        "outputId": "deea3c6d-fd1a-4fb5-90f4-b3464091931e",
        "colab": {
          "base_uri": "https://localhost:8080/",
          "height": 284
        }
      },
      "source": [
        "tmp = pd.pivot_table( \n",
        "    df, \n",
        "    index      = ['Manager', 'Rep'], \n",
        "    values     = ['Price'], \n",
        "    columns    = ['Product'],\n",
        "    aggfunc    = [np.sum],\n",
        "    fill_value = 0.0\n",
        ")\n",
        "tmp\n",
        "# fill_value = 0.0 으로 쓰면 거의 무시됨"
      ],
      "execution_count": 29,
      "outputs": [
        {
          "output_type": "execute_result",
          "data": {
            "text/html": [
              "<div>\n",
              "<style scoped>\n",
              "    .dataframe tbody tr th:only-of-type {\n",
              "        vertical-align: middle;\n",
              "    }\n",
              "\n",
              "    .dataframe tbody tr th {\n",
              "        vertical-align: top;\n",
              "    }\n",
              "\n",
              "    .dataframe thead tr th {\n",
              "        text-align: left;\n",
              "    }\n",
              "\n",
              "    .dataframe thead tr:last-of-type th {\n",
              "        text-align: right;\n",
              "    }\n",
              "</style>\n",
              "<table border=\"1\" class=\"dataframe\">\n",
              "  <thead>\n",
              "    <tr>\n",
              "      <th></th>\n",
              "      <th></th>\n",
              "      <th colspan=\"4\" halign=\"left\">sum</th>\n",
              "    </tr>\n",
              "    <tr>\n",
              "      <th></th>\n",
              "      <th></th>\n",
              "      <th colspan=\"4\" halign=\"left\">Price</th>\n",
              "    </tr>\n",
              "    <tr>\n",
              "      <th></th>\n",
              "      <th>Product</th>\n",
              "      <th>CPU</th>\n",
              "      <th>Maintenance</th>\n",
              "      <th>Monitor</th>\n",
              "      <th>Software</th>\n",
              "    </tr>\n",
              "    <tr>\n",
              "      <th>Manager</th>\n",
              "      <th>Rep</th>\n",
              "      <th></th>\n",
              "      <th></th>\n",
              "      <th></th>\n",
              "      <th></th>\n",
              "    </tr>\n",
              "  </thead>\n",
              "  <tbody>\n",
              "    <tr>\n",
              "      <th rowspan=\"3\" valign=\"top\">Debra Henley</th>\n",
              "      <th>Craig Booker</th>\n",
              "      <td>65000</td>\n",
              "      <td>5000</td>\n",
              "      <td>0</td>\n",
              "      <td>10000</td>\n",
              "    </tr>\n",
              "    <tr>\n",
              "      <th>Daniel Hilton</th>\n",
              "      <td>105000</td>\n",
              "      <td>0</td>\n",
              "      <td>0</td>\n",
              "      <td>10000</td>\n",
              "    </tr>\n",
              "    <tr>\n",
              "      <th>John Smith</th>\n",
              "      <td>35000</td>\n",
              "      <td>5000</td>\n",
              "      <td>0</td>\n",
              "      <td>0</td>\n",
              "    </tr>\n",
              "    <tr>\n",
              "      <th rowspan=\"2\" valign=\"top\">Fred Anderson</th>\n",
              "      <th>Cedric Moss</th>\n",
              "      <td>95000</td>\n",
              "      <td>5000</td>\n",
              "      <td>0</td>\n",
              "      <td>10000</td>\n",
              "    </tr>\n",
              "    <tr>\n",
              "      <th>Wendy Yule</th>\n",
              "      <td>165000</td>\n",
              "      <td>7000</td>\n",
              "      <td>5000</td>\n",
              "      <td>0</td>\n",
              "    </tr>\n",
              "  </tbody>\n",
              "</table>\n",
              "</div>"
            ],
            "text/plain": [
              "                                sum                             \n",
              "                              Price                             \n",
              "Product                         CPU Maintenance Monitor Software\n",
              "Manager       Rep                                               \n",
              "Debra Henley  Craig Booker    65000        5000       0    10000\n",
              "              Daniel Hilton  105000           0       0    10000\n",
              "              John Smith      35000        5000       0        0\n",
              "Fred Anderson Cedric Moss     95000        5000       0    10000\n",
              "              Wendy Yule     165000        7000    5000        0"
            ]
          },
          "metadata": {
            "tags": []
          },
          "execution_count": 29
        }
      ]
    }
  ]
}