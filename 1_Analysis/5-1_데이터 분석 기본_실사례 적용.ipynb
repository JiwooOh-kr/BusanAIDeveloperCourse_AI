{
  "nbformat": 4,
  "nbformat_minor": 0,
  "metadata": {
    "colab": {
      "name": "5-1_데이터 분석 기본_실사례 적용.ipynb",
      "provenance": [],
      "collapsed_sections": [],
      "toc_visible": true,
      "include_colab_link": true
    },
    "kernelspec": {
      "name": "python3",
      "display_name": "Python 3"
    }
  },
  "cells": [
    {
      "cell_type": "markdown",
      "metadata": {
        "id": "view-in-github",
        "colab_type": "text"
      },
      "source": [
        "<a href=\"https://colab.research.google.com/github/jkjh23/BusanAIDeveloperCourse_AI/blob/master/1_Analysis/5-1_%EB%8D%B0%EC%9D%B4%ED%84%B0%20%EB%B6%84%EC%84%9D%20%EA%B8%B0%EB%B3%B8_%EC%8B%A4%EC%82%AC%EB%A1%80%20%EC%A0%81%EC%9A%A9.ipynb\" target=\"_parent\"><img src=\"https://colab.research.google.com/assets/colab-badge.svg\" alt=\"Open In Colab\"/></a>"
      ]
    },
    {
      "cell_type": "markdown",
      "metadata": {
        "id": "d1I_rJpwC2wY"
      },
      "source": [
        "# 연구목표\n",
        "\n",
        "- 연간 음원(음반) 출시 데이터를 이용해 음반 제작 현황 파악 및 편중 현상 등 분석\n",
        "- 기타 데이터 상황에 따라 추가 분석 진행\n",
        "- pandas를 좀 더 유기적으로 사용할 수 있게 실습"
      ]
    },
    {
      "cell_type": "markdown",
      "metadata": {
        "id": "7vi-dfV6DML_"
      },
      "source": [
        "# 데이터 수집\n",
        "\n",
        "- 제공되는 music.csv를 이용"
      ]
    },
    {
      "cell_type": "markdown",
      "metadata": {
        "id": "6WTYOYmnDOLC"
      },
      "source": [
        "# 데이터 준비\n",
        "\n",
        "- 데이터를 로드, 통찰을 얻고, 필요한 데이터를 생성"
      ]
    },
    {
      "cell_type": "code",
      "metadata": {
        "id": "sjSMhGKfVQF7",
        "outputId": "c1820026-bca3-47b2-9e00-59b508141a85",
        "colab": {
          "base_uri": "https://localhost:8080/",
          "height": 34
        }
      },
      "source": [
        "from google.colab import drive\n",
        "drive.mount('/content/drive')"
      ],
      "execution_count": 1,
      "outputs": [
        {
          "output_type": "stream",
          "text": [
            "Mounted at /content/drive\n"
          ],
          "name": "stdout"
        }
      ]
    },
    {
      "cell_type": "code",
      "metadata": {
        "id": "FLATZ89aD2_K"
      },
      "source": [
        "# 모듈 가져오기\n",
        "import numpy as np\n",
        "import pandas as pd"
      ],
      "execution_count": 1,
      "outputs": []
    },
    {
      "cell_type": "code",
      "metadata": {
        "id": "H2-ccyn0D-Ph",
        "outputId": "7a6bf508-716c-4f20-9160-806a257bc8fd",
        "colab": {
          "base_uri": "https://localhost:8080/",
          "height": 402
        }
      },
      "source": [
        "# csv 데이터 로드(읽기)\n",
        "path = '/content/drive/My Drive/2020_AI_Busan/1_Analysis/data/music.csv'\n",
        "music = pd.read_csv(path, encoding = 'UTF-8')\n",
        "music"
      ],
      "execution_count": 2,
      "outputs": [
        {
          "output_type": "execute_result",
          "data": {
            "text/html": [
              "<div>\n",
              "<style scoped>\n",
              "    .dataframe tbody tr th:only-of-type {\n",
              "        vertical-align: middle;\n",
              "    }\n",
              "\n",
              "    .dataframe tbody tr th {\n",
              "        vertical-align: top;\n",
              "    }\n",
              "\n",
              "    .dataframe thead th {\n",
              "        text-align: right;\n",
              "    }\n",
              "</style>\n",
              "<table border=\"1\" class=\"dataframe\">\n",
              "  <thead>\n",
              "    <tr style=\"text-align: right;\">\n",
              "      <th></th>\n",
              "      <th>Year</th>\n",
              "      <th>Month</th>\n",
              "      <th>Album Title</th>\n",
              "      <th>Artist Name</th>\n",
              "      <th>Genre</th>\n",
              "      <th>Date</th>\n",
              "      <th>Distribution</th>\n",
              "      <th>Rating</th>\n",
              "      <th>Music Count</th>\n",
              "    </tr>\n",
              "  </thead>\n",
              "  <tbody>\n",
              "    <tr>\n",
              "      <th>0</th>\n",
              "      <td>2017</td>\n",
              "      <td>1</td>\n",
              "      <td>Boys and Girls Music Vol. 1</td>\n",
              "      <td>샘김</td>\n",
              "      <td>알앤비/어반</td>\n",
              "      <td>2017.01.25</td>\n",
              "      <td>로엔 엔터테인먼트</td>\n",
              "      <td>8.6</td>\n",
              "      <td>2</td>\n",
              "    </tr>\n",
              "    <tr>\n",
              "      <th>1</th>\n",
              "      <td>2017</td>\n",
              "      <td>1</td>\n",
              "      <td>여자친구 The 1st Album 'LOL'</td>\n",
              "      <td>여자친구(GFRIEND)</td>\n",
              "      <td>댄스</td>\n",
              "      <td>2016.07.11</td>\n",
              "      <td>로엔엔터테인먼트</td>\n",
              "      <td>8.1</td>\n",
              "      <td>12</td>\n",
              "    </tr>\n",
              "    <tr>\n",
              "      <th>2</th>\n",
              "      <td>2017</td>\n",
              "      <td>1</td>\n",
              "      <td>Collage (EP)</td>\n",
              "      <td>The Chainsmokers</td>\n",
              "      <td>일렉트로니카</td>\n",
              "      <td>2016.11.05</td>\n",
              "      <td>소니뮤직</td>\n",
              "      <td>7.5</td>\n",
              "      <td>5</td>\n",
              "    </tr>\n",
              "    <tr>\n",
              "      <th>3</th>\n",
              "      <td>2017</td>\n",
              "      <td>1</td>\n",
              "      <td>If You</td>\n",
              "      <td>에일리</td>\n",
              "      <td>발라드</td>\n",
              "      <td>2016.08.23</td>\n",
              "      <td>로엔 엔터테인먼트</td>\n",
              "      <td>6.9</td>\n",
              "      <td>1</td>\n",
              "    </tr>\n",
              "    <tr>\n",
              "      <th>4</th>\n",
              "      <td>2017</td>\n",
              "      <td>1</td>\n",
              "      <td>세 단어</td>\n",
              "      <td>젝스키스</td>\n",
              "      <td>발라드</td>\n",
              "      <td>2016.10.07</td>\n",
              "      <td>YG PLUS</td>\n",
              "      <td>9.0</td>\n",
              "      <td>1</td>\n",
              "    </tr>\n",
              "    <tr>\n",
              "      <th>...</th>\n",
              "      <td>...</td>\n",
              "      <td>...</td>\n",
              "      <td>...</td>\n",
              "      <td>...</td>\n",
              "      <td>...</td>\n",
              "      <td>...</td>\n",
              "      <td>...</td>\n",
              "      <td>...</td>\n",
              "      <td>...</td>\n",
              "    </tr>\n",
              "    <tr>\n",
              "      <th>2173</th>\n",
              "      <td>2018</td>\n",
              "      <td>10</td>\n",
              "      <td>RECIPE</td>\n",
              "      <td>벤</td>\n",
              "      <td>발라드</td>\n",
              "      <td>2018.05.08</td>\n",
              "      <td>(주)지니뮤직</td>\n",
              "      <td>7.1</td>\n",
              "      <td>10</td>\n",
              "    </tr>\n",
              "    <tr>\n",
              "      <th>2174</th>\n",
              "      <td>2018</td>\n",
              "      <td>10</td>\n",
              "      <td>Eyes On You</td>\n",
              "      <td>GOT7 (갓세븐)</td>\n",
              "      <td>댄스,  알앤비/어반</td>\n",
              "      <td>2018.03.12</td>\n",
              "      <td>(주)아이리버</td>\n",
              "      <td>8.6</td>\n",
              "      <td>7</td>\n",
              "    </tr>\n",
              "    <tr>\n",
              "      <th>2175</th>\n",
              "      <td>2018</td>\n",
              "      <td>10</td>\n",
              "      <td>Take</td>\n",
              "      <td>숀(SHAUN)</td>\n",
              "      <td>일렉트로니카,  인디뮤직</td>\n",
              "      <td>2018.06.27</td>\n",
              "      <td>워너뮤직코리아</td>\n",
              "      <td>3.7</td>\n",
              "      <td>4</td>\n",
              "    </tr>\n",
              "    <tr>\n",
              "      <th>2176</th>\n",
              "      <td>2018</td>\n",
              "      <td>10</td>\n",
              "      <td>우리 그만하자</td>\n",
              "      <td>로이킴</td>\n",
              "      <td>발라드</td>\n",
              "      <td>2018.09.18</td>\n",
              "      <td>(주)지니뮤직</td>\n",
              "      <td>7.0</td>\n",
              "      <td>2</td>\n",
              "    </tr>\n",
              "    <tr>\n",
              "      <th>2177</th>\n",
              "      <td>2018</td>\n",
              "      <td>10</td>\n",
              "      <td>하루도 그대를 사랑하지 않은 적이 없었다</td>\n",
              "      <td>임창정</td>\n",
              "      <td>발라드,  댄스</td>\n",
              "      <td>2018.09.19</td>\n",
              "      <td>(주)인터파크</td>\n",
              "      <td>8.5</td>\n",
              "      <td>14</td>\n",
              "    </tr>\n",
              "  </tbody>\n",
              "</table>\n",
              "<p>2178 rows × 9 columns</p>\n",
              "</div>"
            ],
            "text/plain": [
              "      Year  Month  ... Rating Music Count\n",
              "0     2017      1  ...    8.6           2\n",
              "1     2017      1  ...    8.1          12\n",
              "2     2017      1  ...    7.5           5\n",
              "3     2017      1  ...    6.9           1\n",
              "4     2017      1  ...    9.0           1\n",
              "...    ...    ...  ...    ...         ...\n",
              "2173  2018     10  ...    7.1          10\n",
              "2174  2018     10  ...    8.6           7\n",
              "2175  2018     10  ...    3.7           4\n",
              "2176  2018     10  ...    7.0           2\n",
              "2177  2018     10  ...    8.5          14\n",
              "\n",
              "[2178 rows x 9 columns]"
            ]
          },
          "metadata": {
            "tags": []
          },
          "execution_count": 2
        }
      ]
    },
    {
      "cell_type": "code",
      "metadata": {
        "id": "z0ZQYSDbEwt8",
        "outputId": "4a51ff1b-723f-4a5a-a4fd-adde2f86a394",
        "colab": {
          "base_uri": "https://localhost:8080/",
          "height": 34
        }
      },
      "source": [
        "# 음원은 매일 1등 수행 可\n",
        "# 음악방송은 마케팅 일환으로 주간 공중파 3회, 케이블 3회의 1등 기회가 존재\n",
        "# 차트 집계는 가온차트(음원, 뮤비, 음반 등 총 집계해서 기준, 반영일 늦음), 한터(pos 기반, 실제 돈 내고 결제된 데이터 기준, 실시간 반영)\n",
        "music.shape"
      ],
      "execution_count": 3,
      "outputs": [
        {
          "output_type": "execute_result",
          "data": {
            "text/plain": [
              "(2178, 9)"
            ]
          },
          "metadata": {
            "tags": []
          },
          "execution_count": 3
        }
      ]
    },
    {
      "cell_type": "code",
      "metadata": {
        "id": "UBNeNWO4E8qP",
        "outputId": "57674742-1643-486a-d8b1-74589302462b",
        "colab": {
          "base_uri": "https://localhost:8080/",
          "height": 193
        }
      },
      "source": [
        "music.dtypes"
      ],
      "execution_count": 4,
      "outputs": [
        {
          "output_type": "execute_result",
          "data": {
            "text/plain": [
              "Year              int64\n",
              "Month             int64\n",
              "Album Title      object\n",
              "Artist Name      object\n",
              "Genre            object\n",
              "Date             object\n",
              "Distribution     object\n",
              "Rating          float64\n",
              "Music Count       int64\n",
              "dtype: object"
            ]
          },
          "metadata": {
            "tags": []
          },
          "execution_count": 4
        }
      ]
    },
    {
      "cell_type": "code",
      "metadata": {
        "id": "lRT3pDF_Fwtl",
        "outputId": "3abf83c4-3135-4f72-b008-313806836d45",
        "colab": {
          "base_uri": "https://localhost:8080/",
          "height": 77
        }
      },
      "source": [
        "music.head(1)"
      ],
      "execution_count": 5,
      "outputs": [
        {
          "output_type": "execute_result",
          "data": {
            "text/html": [
              "<div>\n",
              "<style scoped>\n",
              "    .dataframe tbody tr th:only-of-type {\n",
              "        vertical-align: middle;\n",
              "    }\n",
              "\n",
              "    .dataframe tbody tr th {\n",
              "        vertical-align: top;\n",
              "    }\n",
              "\n",
              "    .dataframe thead th {\n",
              "        text-align: right;\n",
              "    }\n",
              "</style>\n",
              "<table border=\"1\" class=\"dataframe\">\n",
              "  <thead>\n",
              "    <tr style=\"text-align: right;\">\n",
              "      <th></th>\n",
              "      <th>Year</th>\n",
              "      <th>Month</th>\n",
              "      <th>Album Title</th>\n",
              "      <th>Artist Name</th>\n",
              "      <th>Genre</th>\n",
              "      <th>Date</th>\n",
              "      <th>Distribution</th>\n",
              "      <th>Rating</th>\n",
              "      <th>Music Count</th>\n",
              "    </tr>\n",
              "  </thead>\n",
              "  <tbody>\n",
              "    <tr>\n",
              "      <th>0</th>\n",
              "      <td>2017</td>\n",
              "      <td>1</td>\n",
              "      <td>Boys and Girls Music Vol. 1</td>\n",
              "      <td>샘김</td>\n",
              "      <td>알앤비/어반</td>\n",
              "      <td>2017.01.25</td>\n",
              "      <td>로엔 엔터테인먼트</td>\n",
              "      <td>8.6</td>\n",
              "      <td>2</td>\n",
              "    </tr>\n",
              "  </tbody>\n",
              "</table>\n",
              "</div>"
            ],
            "text/plain": [
              "   Year  Month                  Album Title  ... Distribution Rating Music Count\n",
              "0  2017      1  Boys and Girls Music Vol. 1  ...    로엔 엔터테인먼트    8.6           2\n",
              "\n",
              "[1 rows x 9 columns]"
            ]
          },
          "metadata": {
            "tags": []
          },
          "execution_count": 5
        }
      ]
    },
    {
      "cell_type": "code",
      "metadata": {
        "id": "zbaE45q5HBXi",
        "outputId": "bb7eb824-f3cd-4a12-d4a0-a7d9f2aeaeaf",
        "colab": {
          "base_uri": "https://localhost:8080/",
          "height": 210
        }
      },
      "source": [
        "# Date 항목이 문자열이어서, 시간계산 등에 불리 → 형변환 처리\n",
        "# 데이터의 타입을 변경해서 다시 원본 반영 or 특정 컬럼으로 추가\n",
        "\n",
        "# music['Date'] = music['Date'].astype('datetime64')\n",
        "music['Date1'] = music['Date'].astype('datetime64')\n",
        "music.dtypes"
      ],
      "execution_count": 6,
      "outputs": [
        {
          "output_type": "execute_result",
          "data": {
            "text/plain": [
              "Year                     int64\n",
              "Month                    int64\n",
              "Album Title             object\n",
              "Artist Name             object\n",
              "Genre                   object\n",
              "Date                    object\n",
              "Distribution            object\n",
              "Rating                 float64\n",
              "Music Count              int64\n",
              "Date1           datetime64[ns]\n",
              "dtype: object"
            ]
          },
          "metadata": {
            "tags": []
          },
          "execution_count": 6
        }
      ]
    },
    {
      "cell_type": "code",
      "metadata": {
        "id": "y7CSXDBmIFDU",
        "outputId": "65bd99bf-a413-4a92-ddbb-73953ff32dfb",
        "colab": {
          "base_uri": "https://localhost:8080/",
          "height": 228
        }
      },
      "source": [
        "# 현재 데이터 중에서 발매사별 제작 횟수를 집계하여 상위 5개만 출력하시오\n",
        "\n",
        "# 1. Distribution만 추출(Series)\n",
        "# music['Distribution']\n",
        "music.Distribution, type( music.Distribution )"
      ],
      "execution_count": 7,
      "outputs": [
        {
          "output_type": "execute_result",
          "data": {
            "text/plain": [
              "(0       로엔 엔터테인먼트\n",
              " 1        로엔엔터테인먼트\n",
              " 2            소니뮤직\n",
              " 3       로엔 엔터테인먼트\n",
              " 4         YG PLUS\n",
              "           ...    \n",
              " 2173      (주)지니뮤직\n",
              " 2174      (주)아이리버\n",
              " 2175      워너뮤직코리아\n",
              " 2176      (주)지니뮤직\n",
              " 2177      (주)인터파크\n",
              " Name: Distribution, Length: 2178, dtype: object, pandas.core.series.Series)"
            ]
          },
          "metadata": {
            "tags": []
          },
          "execution_count": 7
        }
      ]
    },
    {
      "cell_type": "code",
      "metadata": {
        "id": "df_usBv6JDtY",
        "outputId": "b443271e-95c2-42ca-e64a-cec2480291d9",
        "colab": {
          "base_uri": "https://localhost:8080/",
          "height": 34
        }
      },
      "source": [
        "# 2. Series 중에서 동일값의 개수를 카운트해라\n",
        "# 값들의 종류는 몇 개인가 = 발매사는 총 몇 개인가 = 중복제거해라\n",
        "music.Distribution.unique().shape"
      ],
      "execution_count": 8,
      "outputs": [
        {
          "output_type": "execute_result",
          "data": {
            "text/plain": [
              "(24,)"
            ]
          },
          "metadata": {
            "tags": []
          },
          "execution_count": 8
        }
      ]
    },
    {
      "cell_type": "code",
      "metadata": {
        "id": "EiicvoYUKMbk",
        "outputId": "0d85561f-94b3-4240-8140-ea4c8a905891",
        "colab": {
          "base_uri": "https://localhost:8080/",
          "height": 105
        }
      },
      "source": [
        "music.Distribution.unique()\n",
        "\n",
        "# 데이터를 살펴보고 보정 처리, 전처리를 수행해서 품질 향상\n",
        "# '로엔 엔터테인먼트' '로엔엔터테인먼트'\n",
        "# '소니뮤직' 'Sony Music'\n",
        "# '(주)인터파크' '㈜인터파크'\n",
        "# '(주)지니뮤직' '지니뮤직'\n",
        "# 'Mirrorball Music' '(주)미러볼뮤직'\n",
        "# '유니버설뮤직' 'Universal'\n",
        "# '(주)엔에이치엔벅스' '(주)벅스'\n",
        "# '워너뮤직코리아' 'Warner(Korea)'\n",
        "# '퍼플파인 엔터테인먼트' '퍼플파인엔터테인먼트'"
      ],
      "execution_count": 9,
      "outputs": [
        {
          "output_type": "execute_result",
          "data": {
            "text/plain": [
              "array(['로엔 엔터테인먼트', '로엔엔터테인먼트', '소니뮤직', 'YG PLUS', 'Mirrorball Music',\n",
              "       '(주)지니뮤직', '유니버설뮤직', '(주)인터파크', '(주)아이리버', 'Sony Music',\n",
              "       '(주)엔에이치엔벅스', '(주)벅스', '(주)뮤직앤뉴', 'Universal', '지니뮤직', '워너뮤직코리아',\n",
              "       '퍼플파인 엔터테인먼트', '포크라노스', '다날 엔터테인먼트', '(주)루미넌트엔터테인먼트',\n",
              "       'Warner(Korea)', '㈜인터파크', '(주)미러볼뮤직', '퍼플파인엔터테인먼트'], dtype=object)"
            ]
          },
          "metadata": {
            "tags": []
          },
          "execution_count": 9
        }
      ]
    },
    {
      "cell_type": "code",
      "metadata": {
        "id": "RDzMsBe4K9dv",
        "outputId": "169c09dd-388c-4086-c255-5f1deb6de28f",
        "colab": {
          "base_uri": "https://localhost:8080/",
          "height": 439
        }
      },
      "source": [
        "dic ={\n",
        "    '로엔 엔터테인먼트':0, '로엔엔터테인먼트':0, '소니뮤직':0, 'YG PLUS':0, 'Mirrorball Music':0,\n",
        "       '(주)지니뮤직':0, '유니버설뮤직':0, '(주)인터파크':0, '(주)아이리버':0, 'Sony Music':0,\n",
        "       '(주)엔에이치엔벅스':0, '(주)벅스':0, '(주)뮤직앤뉴':0, 'Universal':0, '지니뮤직':0, '워너뮤직코리아':0,\n",
        "       '퍼플파인 엔터테인먼트':0, '포크라노스':0, '다날 엔터테인먼트':0, '(주)루미넌트엔터테인먼트':0,\n",
        "       'Warner(Korea)':0, '㈜인터파크':0, '(주)미러볼뮤직':0, '퍼플파인엔터테인먼트':0\n",
        "}\n",
        "\n",
        "for d in music.Distribution :\n",
        "  dic[d] += 1\n",
        "dic"
      ],
      "execution_count": 10,
      "outputs": [
        {
          "output_type": "execute_result",
          "data": {
            "text/plain": [
              "{'(주)루미넌트엔터테인먼트': 4,\n",
              " '(주)뮤직앤뉴': 13,\n",
              " '(주)미러볼뮤직': 6,\n",
              " '(주)벅스': 1,\n",
              " '(주)아이리버': 453,\n",
              " '(주)엔에이치엔벅스': 78,\n",
              " '(주)인터파크': 16,\n",
              " '(주)지니뮤직': 768,\n",
              " 'Mirrorball Music': 8,\n",
              " 'Sony Music': 6,\n",
              " 'Universal': 11,\n",
              " 'Warner(Korea)': 2,\n",
              " 'YG PLUS': 46,\n",
              " '㈜인터파크': 2,\n",
              " '다날 엔터테인먼트': 6,\n",
              " '로엔 엔터테인먼트': 229,\n",
              " '로엔엔터테인먼트': 353,\n",
              " '소니뮤직': 39,\n",
              " '워너뮤직코리아': 61,\n",
              " '유니버설뮤직': 45,\n",
              " '지니뮤직': 16,\n",
              " '퍼플파인 엔터테인먼트': 7,\n",
              " '퍼플파인엔터테인먼트': 7,\n",
              " '포크라노스': 1}"
            ]
          },
          "metadata": {
            "tags": []
          },
          "execution_count": 10
        }
      ]
    },
    {
      "cell_type": "code",
      "metadata": {
        "id": "IktC-SgnL3tm",
        "outputId": "78d81954-4a5f-44bf-ed52-17eecf8099e7",
        "colab": {
          "base_uri": "https://localhost:8080/",
          "height": 122
        }
      },
      "source": [
        "# api를 이용해 간단하게 구현 - 데이터 성향이 log인 경우, 같은 데이터가 한번 나오고 또 나오고 또 나올 때\n",
        "tmp = music.Distribution.value_counts().head()\n",
        "# tmp = music.Distribution.value_counts()\n",
        "tmp, tmp.shape"
      ],
      "execution_count": 11,
      "outputs": [
        {
          "output_type": "execute_result",
          "data": {
            "text/plain": [
              "((주)지니뮤직       768\n",
              " (주)아이리버       453\n",
              " 로엔엔터테인먼트      353\n",
              " 로엔 엔터테인먼트     229\n",
              " (주)엔에이치엔벅스     78\n",
              " Name: Distribution, dtype: int64, (5,))"
            ]
          },
          "metadata": {
            "tags": []
          },
          "execution_count": 11
        }
      ]
    },
    {
      "cell_type": "code",
      "metadata": {
        "id": "7mdovQeJZWRs",
        "outputId": "a97626c7-9a15-47d5-8091-1dfc6daf1b49",
        "colab": {
          "base_uri": "https://localhost:8080/",
          "height": 34
        }
      },
      "source": [
        "type(tmp)"
      ],
      "execution_count": 12,
      "outputs": [
        {
          "output_type": "execute_result",
          "data": {
            "text/plain": [
              "pandas.core.series.Series"
            ]
          },
          "metadata": {
            "tags": []
          },
          "execution_count": 12
        }
      ]
    },
    {
      "cell_type": "code",
      "metadata": {
        "id": "Z8DOn2pFVrYG",
        "outputId": "afa2e51e-ddd3-4eb3-da63-65e35b60ec2b",
        "colab": {
          "base_uri": "https://localhost:8080/",
          "height": 34
        }
      },
      "source": [
        "tmp.index"
      ],
      "execution_count": 13,
      "outputs": [
        {
          "output_type": "execute_result",
          "data": {
            "text/plain": [
              "Index(['(주)지니뮤직', '(주)아이리버', '로엔엔터테인먼트', '로엔 엔터테인먼트', '(주)엔에이치엔벅스'], dtype='object')"
            ]
          },
          "metadata": {
            "tags": []
          },
          "execution_count": 13
        }
      ]
    },
    {
      "cell_type": "code",
      "metadata": {
        "id": "6LSq7ojEVsKB",
        "outputId": "7f691afc-c1af-4fb7-c157-a9d134618541",
        "colab": {
          "base_uri": "https://localhost:8080/",
          "height": 34
        }
      },
      "source": [
        "tmp.values"
      ],
      "execution_count": 14,
      "outputs": [
        {
          "output_type": "execute_result",
          "data": {
            "text/plain": [
              "array([768, 453, 353, 229,  78])"
            ]
          },
          "metadata": {
            "tags": []
          },
          "execution_count": 14
        }
      ]
    },
    {
      "cell_type": "code",
      "metadata": {
        "id": "nhP-5rCl-iae"
      },
      "source": [
        "# 간단한 시각화를 통해 편중되는 현상 살펴보기\n",
        "# 시각적 분석 → 파이썬에서 시각화 담당하는 모듈 : matplotlib\n",
        "# 시각화 : pandas 자체로도 가능, matplotlib 가능, 기타 third part 모듈로도 가능\n",
        "# 웹에서 시각화 : D3.js(https://d3js.org/) → 인터랙티브 시각화 → js, modern js(ECMA 2015, 2016, 2017)\n",
        "\n",
        "# x는 발매사, 발매사 간에 연관성/연속성 없음 → 바 차트(or 파이 차트)로 구성하여 값의 우위를 비교\n",
        "# y는 제작건수"
      ],
      "execution_count": 17,
      "outputs": []
    },
    {
      "cell_type": "code",
      "metadata": {
        "id": "VuoamRaNWu1r"
      },
      "source": [
        "# 1. 모듈 가져오기\n",
        "\n",
        "# import pandas as pd\n",
        "# import numpy as np\n",
        "import matplotlib.pyplot as plt\n",
        "import matplotlib as mpl\n",
        "%matplotlib inline"
      ],
      "execution_count": 15,
      "outputs": []
    },
    {
      "cell_type": "code",
      "metadata": {
        "id": "kVs1TltBa4kQ",
        "outputId": "c11e673d-8b67-434b-b323-1a97050a2cfe",
        "colab": {
          "base_uri": "https://localhost:8080/",
          "height": 52
        }
      },
      "source": [
        "# 한글 처리 (구글링)\n",
        "%config InlineBackend.figure_format = 'retina'\n",
        " \n",
        "!apt -qq -y install fonts-nanum\n",
        " \n",
        "import matplotlib.font_manager as fm\n",
        "fontpath = '/usr/share/fonts/truetype/nanum/NanumBarunGothic.ttf'\n",
        "font = fm.FontProperties(fname=fontpath, size=9)\n",
        "plt.rc('font', family='NanumBarunGothic') \n",
        "mpl.font_manager._rebuild()"
      ],
      "execution_count": 16,
      "outputs": [
        {
          "output_type": "stream",
          "text": [
            "fonts-nanum is already the newest version (20170925-1).\n",
            "0 upgraded, 0 newly installed, 0 to remove and 22 not upgraded.\n"
          ],
          "name": "stdout"
        }
      ]
    },
    {
      "cell_type": "code",
      "metadata": {
        "id": "2YiKU8T9tve3"
      },
      "source": [
        "# 한글 처리(강의, colab에서와 로컬pc(윈, 맥, 리)와 조금 다름)\n",
        "import matplotlib as mpl\n",
        "import matplotlib.pyplot as plt\n",
        "\n",
        "# colab에서만 추가되는 부분\n",
        "%config InlineBackend.figure_format = 'retina'"
      ],
      "execution_count": 20,
      "outputs": []
    },
    {
      "cell_type": "code",
      "metadata": {
        "id": "Jalr-mGiuQwP"
      },
      "source": [
        "# 설치 : colab이 운용되는 우분투 리눅스에 설치\n",
        "# !명령어\n",
        "!apt -qq -y install fonts-nanum"
      ],
      "execution_count": null,
      "outputs": []
    },
    {
      "cell_type": "code",
      "metadata": {
        "id": "AcNv44q7ueIR"
      },
      "source": [
        "# 폰트 정보 추출\n",
        "# 폰트의 실제 위치 : /usr/share/fonts/truetype/nanum/*.ttf\n",
        "# 실제 파일 > 우클릭 > 경로 복사\n",
        "\n",
        "path = \"/usr/share/fonts/truetype/nanum/NanumGothic.ttf\"\n",
        "import matplotlib.font_manager as fm\n",
        "font = fm.FontProperties(fname=path, size=10)"
      ],
      "execution_count": 22,
      "outputs": []
    },
    {
      "cell_type": "code",
      "metadata": {
        "id": "VUbjF3o6v4ge"
      },
      "source": [
        "font.get_name()"
      ],
      "execution_count": null,
      "outputs": []
    },
    {
      "cell_type": "code",
      "metadata": {
        "id": "0xYAbpwawDdl"
      },
      "source": [
        "# 폰트 실제 적용, 실제 폰트가 존재하고 그 이름을 정확하게 안다면 아래 한 줄로 처리 가능(주석 바로 아래)\n",
        "plt.rc('font', family='NanumGothic') \n",
        "mpl.font_manager._rebuild()"
      ],
      "execution_count": 24,
      "outputs": []
    },
    {
      "cell_type": "code",
      "metadata": {
        "id": "z43NUISuXF9g",
        "outputId": "7597af21-1846-40c7-d415-0b3f487f336d",
        "colab": {
          "base_uri": "https://localhost:8080/",
          "height": 711
        }
      },
      "source": [
        "# 2. 차트의 모양\n",
        "plt.figure( figsize = (15,10) )\n",
        "\n",
        "# 3. 플로팅\n",
        "# 플로팅\n",
        "# x : 연속된 수(스칼라값), ex) 0, 1, 2, ...\n",
        "# x축에 데이터에 대한 설명이 나타나야 하는데 현재는 0, 1, 2, .. 같은 수치로 되어 있어 의미 없음. 이에 일단 y값을 Series로 넣어서 처리\n",
        "x = np.arange(tmp.index.shape[0])\n",
        "y = tmp\n",
        "\n",
        "# plt.bar( tmp.index, tmp.values )\n",
        "plt.bar( x, y )\n",
        "\n",
        "# 라벨링(x, y)\n",
        "plt.xlabel('발매사', fontsize = 13)\n",
        "plt.ylabel('발매횟수', fontsize = 13)\n",
        "\n",
        "# 제목\n",
        "plt.title('음반/음원 제작 통계')\n",
        "\n",
        "# x축에 항목 보이기\n",
        "plt.xticks( x, tmp.index, fontsize = 15, rotation = 45 )\n",
        "\n",
        "# 4. 차트 보이기\n",
        "plt.show()"
      ],
      "execution_count": 17,
      "outputs": [
        {
          "output_type": "display_data",
          "data": {
            "image/png": "[encoded data removed]",
            "text/plain": [
              "<Figure size 1080x720 with 1 Axes>"
            ]
          },
          "metadata": {
            "tags": [],
            "image/png": {
              "width": 893,
              "height": 694
            },
            "needs_background": "light"
          }
        }
      ]
    },
    {
      "cell_type": "code",
      "metadata": {
        "id": "EujnPqQJxJz-",
        "outputId": "773d113b-9e63-4099-c7e4-d1b649a20831",
        "colab": {
          "base_uri": "https://localhost:8080/",
          "height": 711
        }
      },
      "source": [
        "# Series 자체 구성원을 가지고 표현 가능\n",
        "# pandas로 만든 데이터를 matplotlib를 이용해서 표현\n",
        "\n",
        "tmp = music.Distribution.value_counts().head(10)\n",
        "# x = np.arange(tmp.index.shape[0])\n",
        "\n",
        "plt.figure( figsize = (20,10) )\n",
        "plt.bar( tmp.index, tmp.values )\n",
        "plt.xlabel('발매사', fontsize = 13)\n",
        "plt.ylabel('발매횟수', fontsize = 13)\n",
        "plt.title('음반/음원 제작 통계')\n",
        "plt.xticks( tmp.index, tmp.index, fontsize = 15, rotation = 45 )\n",
        "plt.show()"
      ],
      "execution_count": 18,
      "outputs": [
        {
          "output_type": "display_data",
          "data": {
            "image/png": "[encoded data removed]",
            "text/plain": [
              "<Figure size 1440x720 with 1 Axes>"
            ]
          },
          "metadata": {
            "tags": [],
            "image/png": {
              "width": 1172,
              "height": 694
            },
            "needs_background": "light"
          }
        }
      ]
    },
    {
      "cell_type": "code",
      "metadata": {
        "id": "tezLhf6WyWLi",
        "outputId": "2be76596-be4f-41a6-feaa-b1b53f5d600f",
        "colab": {
          "base_uri": "https://localhost:8080/",
          "height": 136
        }
      },
      "source": [
        "# 데이터 프레임이나 시리즈로 직접 그리기\n",
        "# pandas도 ploting 함수를 가지고 있음\n",
        "\n",
        "music.head(3)\n",
        "# 데이터를 들여다보니 특정 column에 중복된 데이터가 다수 존재(반복되는 패턴 有) → 피벗 테이블의 대상이거나 그룹화의 대상(group by)"
      ],
      "execution_count": 19,
      "outputs": [
        {
          "output_type": "execute_result",
          "data": {
            "text/html": [
              "<div>\n",
              "<style scoped>\n",
              "    .dataframe tbody tr th:only-of-type {\n",
              "        vertical-align: middle;\n",
              "    }\n",
              "\n",
              "    .dataframe tbody tr th {\n",
              "        vertical-align: top;\n",
              "    }\n",
              "\n",
              "    .dataframe thead th {\n",
              "        text-align: right;\n",
              "    }\n",
              "</style>\n",
              "<table border=\"1\" class=\"dataframe\">\n",
              "  <thead>\n",
              "    <tr style=\"text-align: right;\">\n",
              "      <th></th>\n",
              "      <th>Year</th>\n",
              "      <th>Month</th>\n",
              "      <th>Album Title</th>\n",
              "      <th>Artist Name</th>\n",
              "      <th>Genre</th>\n",
              "      <th>Date</th>\n",
              "      <th>Distribution</th>\n",
              "      <th>Rating</th>\n",
              "      <th>Music Count</th>\n",
              "      <th>Date1</th>\n",
              "    </tr>\n",
              "  </thead>\n",
              "  <tbody>\n",
              "    <tr>\n",
              "      <th>0</th>\n",
              "      <td>2017</td>\n",
              "      <td>1</td>\n",
              "      <td>Boys and Girls Music Vol. 1</td>\n",
              "      <td>샘김</td>\n",
              "      <td>알앤비/어반</td>\n",
              "      <td>2017.01.25</td>\n",
              "      <td>로엔 엔터테인먼트</td>\n",
              "      <td>8.6</td>\n",
              "      <td>2</td>\n",
              "      <td>2017-01-25</td>\n",
              "    </tr>\n",
              "    <tr>\n",
              "      <th>1</th>\n",
              "      <td>2017</td>\n",
              "      <td>1</td>\n",
              "      <td>여자친구 The 1st Album 'LOL'</td>\n",
              "      <td>여자친구(GFRIEND)</td>\n",
              "      <td>댄스</td>\n",
              "      <td>2016.07.11</td>\n",
              "      <td>로엔엔터테인먼트</td>\n",
              "      <td>8.1</td>\n",
              "      <td>12</td>\n",
              "      <td>2016-07-11</td>\n",
              "    </tr>\n",
              "    <tr>\n",
              "      <th>2</th>\n",
              "      <td>2017</td>\n",
              "      <td>1</td>\n",
              "      <td>Collage (EP)</td>\n",
              "      <td>The Chainsmokers</td>\n",
              "      <td>일렉트로니카</td>\n",
              "      <td>2016.11.05</td>\n",
              "      <td>소니뮤직</td>\n",
              "      <td>7.5</td>\n",
              "      <td>5</td>\n",
              "      <td>2016-11-05</td>\n",
              "    </tr>\n",
              "  </tbody>\n",
              "</table>\n",
              "</div>"
            ],
            "text/plain": [
              "   Year  Month                  Album Title  ... Rating Music Count      Date1\n",
              "0  2017      1  Boys and Girls Music Vol. 1  ...    8.6           2 2017-01-25\n",
              "1  2017      1     여자친구 The 1st Album 'LOL'  ...    8.1          12 2016-07-11\n",
              "2  2017      1                 Collage (EP)  ...    7.5           5 2016-11-05\n",
              "\n",
              "[3 rows x 10 columns]"
            ]
          },
          "metadata": {
            "tags": []
          },
          "execution_count": 19
        }
      ]
    },
    {
      "cell_type": "code",
      "metadata": {
        "id": "hOi6JUNcJoZU",
        "outputId": "d5665a47-32c5-403e-aa71-5b00b89582ac",
        "colab": {
          "base_uri": "https://localhost:8080/",
          "height": 817
        }
      },
      "source": [
        "# Distribution 기준으로 피벗을 수행하시오 = Distribution을 인덱스로 배치, 나머지는 알아서 표현\n",
        "pd.pivot_table(\n",
        "    music, \n",
        "    index   = 'Distribution', \n",
        "    values  = ['Music Count', 'Rating'],\n",
        "    aggfunc = [np.sum, np.mean, len]\n",
        ")\n",
        "# Rating에서는 합산을 원하고, Distribution의 개수를 포함하는 형식으로 테이블을 꾸리고 싶음\n",
        "# 그룹 단위로 개별적인 데이터를 특성 있게 구하고 싶음 → 피벗보다는 그룹화(groupby)가 적합"
      ],
      "execution_count": 20,
      "outputs": [
        {
          "output_type": "execute_result",
          "data": {
            "text/html": [
              "<div>\n",
              "<style scoped>\n",
              "    .dataframe tbody tr th:only-of-type {\n",
              "        vertical-align: middle;\n",
              "    }\n",
              "\n",
              "    .dataframe tbody tr th {\n",
              "        vertical-align: top;\n",
              "    }\n",
              "\n",
              "    .dataframe thead tr th {\n",
              "        text-align: left;\n",
              "    }\n",
              "\n",
              "    .dataframe thead tr:last-of-type th {\n",
              "        text-align: right;\n",
              "    }\n",
              "</style>\n",
              "<table border=\"1\" class=\"dataframe\">\n",
              "  <thead>\n",
              "    <tr>\n",
              "      <th></th>\n",
              "      <th colspan=\"2\" halign=\"left\">sum</th>\n",
              "      <th colspan=\"2\" halign=\"left\">mean</th>\n",
              "      <th colspan=\"2\" halign=\"left\">len</th>\n",
              "    </tr>\n",
              "    <tr>\n",
              "      <th></th>\n",
              "      <th>Music Count</th>\n",
              "      <th>Rating</th>\n",
              "      <th>Music Count</th>\n",
              "      <th>Rating</th>\n",
              "      <th>Music Count</th>\n",
              "      <th>Rating</th>\n",
              "    </tr>\n",
              "    <tr>\n",
              "      <th>Distribution</th>\n",
              "      <th></th>\n",
              "      <th></th>\n",
              "      <th></th>\n",
              "      <th></th>\n",
              "      <th></th>\n",
              "      <th></th>\n",
              "    </tr>\n",
              "  </thead>\n",
              "  <tbody>\n",
              "    <tr>\n",
              "      <th>(주)루미넌트엔터테인먼트</th>\n",
              "      <td>19</td>\n",
              "      <td>29.1</td>\n",
              "      <td>4.750000</td>\n",
              "      <td>7.275000</td>\n",
              "      <td>4</td>\n",
              "      <td>4.0</td>\n",
              "    </tr>\n",
              "    <tr>\n",
              "      <th>(주)뮤직앤뉴</th>\n",
              "      <td>62</td>\n",
              "      <td>108.7</td>\n",
              "      <td>4.769231</td>\n",
              "      <td>8.361538</td>\n",
              "      <td>13</td>\n",
              "      <td>13.0</td>\n",
              "    </tr>\n",
              "    <tr>\n",
              "      <th>(주)미러볼뮤직</th>\n",
              "      <td>30</td>\n",
              "      <td>24.0</td>\n",
              "      <td>5.000000</td>\n",
              "      <td>4.000000</td>\n",
              "      <td>6</td>\n",
              "      <td>6.0</td>\n",
              "    </tr>\n",
              "    <tr>\n",
              "      <th>(주)벅스</th>\n",
              "      <td>2</td>\n",
              "      <td>8.6</td>\n",
              "      <td>2.000000</td>\n",
              "      <td>8.600000</td>\n",
              "      <td>1</td>\n",
              "      <td>1.0</td>\n",
              "    </tr>\n",
              "    <tr>\n",
              "      <th>(주)아이리버</th>\n",
              "      <td>5122</td>\n",
              "      <td>3818.9</td>\n",
              "      <td>11.306843</td>\n",
              "      <td>8.430243</td>\n",
              "      <td>453</td>\n",
              "      <td>453.0</td>\n",
              "    </tr>\n",
              "    <tr>\n",
              "      <th>(주)엔에이치엔벅스</th>\n",
              "      <td>614</td>\n",
              "      <td>663.8</td>\n",
              "      <td>7.871795</td>\n",
              "      <td>8.510256</td>\n",
              "      <td>78</td>\n",
              "      <td>78.0</td>\n",
              "    </tr>\n",
              "    <tr>\n",
              "      <th>(주)인터파크</th>\n",
              "      <td>104</td>\n",
              "      <td>123.3</td>\n",
              "      <td>6.500000</td>\n",
              "      <td>7.706250</td>\n",
              "      <td>16</td>\n",
              "      <td>16.0</td>\n",
              "    </tr>\n",
              "    <tr>\n",
              "      <th>(주)지니뮤직</th>\n",
              "      <td>4480</td>\n",
              "      <td>6192.9</td>\n",
              "      <td>5.833333</td>\n",
              "      <td>8.063672</td>\n",
              "      <td>768</td>\n",
              "      <td>768.0</td>\n",
              "    </tr>\n",
              "    <tr>\n",
              "      <th>Mirrorball Music</th>\n",
              "      <td>48</td>\n",
              "      <td>64.8</td>\n",
              "      <td>6.000000</td>\n",
              "      <td>8.100000</td>\n",
              "      <td>8</td>\n",
              "      <td>8.0</td>\n",
              "    </tr>\n",
              "    <tr>\n",
              "      <th>Sony Music</th>\n",
              "      <td>9</td>\n",
              "      <td>56.6</td>\n",
              "      <td>1.500000</td>\n",
              "      <td>9.433333</td>\n",
              "      <td>6</td>\n",
              "      <td>6.0</td>\n",
              "    </tr>\n",
              "    <tr>\n",
              "      <th>Universal</th>\n",
              "      <td>51</td>\n",
              "      <td>98.7</td>\n",
              "      <td>4.636364</td>\n",
              "      <td>8.972727</td>\n",
              "      <td>11</td>\n",
              "      <td>11.0</td>\n",
              "    </tr>\n",
              "    <tr>\n",
              "      <th>Warner(Korea)</th>\n",
              "      <td>17</td>\n",
              "      <td>19.2</td>\n",
              "      <td>8.500000</td>\n",
              "      <td>9.600000</td>\n",
              "      <td>2</td>\n",
              "      <td>2.0</td>\n",
              "    </tr>\n",
              "    <tr>\n",
              "      <th>YG PLUS</th>\n",
              "      <td>276</td>\n",
              "      <td>385.0</td>\n",
              "      <td>6.000000</td>\n",
              "      <td>8.369565</td>\n",
              "      <td>46</td>\n",
              "      <td>46.0</td>\n",
              "    </tr>\n",
              "    <tr>\n",
              "      <th>㈜인터파크</th>\n",
              "      <td>12</td>\n",
              "      <td>16.8</td>\n",
              "      <td>6.000000</td>\n",
              "      <td>8.400000</td>\n",
              "      <td>2</td>\n",
              "      <td>2.0</td>\n",
              "    </tr>\n",
              "    <tr>\n",
              "      <th>다날 엔터테인먼트</th>\n",
              "      <td>12</td>\n",
              "      <td>42.6</td>\n",
              "      <td>2.000000</td>\n",
              "      <td>7.100000</td>\n",
              "      <td>6</td>\n",
              "      <td>6.0</td>\n",
              "    </tr>\n",
              "    <tr>\n",
              "      <th>로엔 엔터테인먼트</th>\n",
              "      <td>960</td>\n",
              "      <td>1918.7</td>\n",
              "      <td>4.192140</td>\n",
              "      <td>8.378603</td>\n",
              "      <td>229</td>\n",
              "      <td>229.0</td>\n",
              "    </tr>\n",
              "    <tr>\n",
              "      <th>로엔엔터테인먼트</th>\n",
              "      <td>2074</td>\n",
              "      <td>2891.8</td>\n",
              "      <td>5.875354</td>\n",
              "      <td>8.192068</td>\n",
              "      <td>353</td>\n",
              "      <td>353.0</td>\n",
              "    </tr>\n",
              "    <tr>\n",
              "      <th>소니뮤직</th>\n",
              "      <td>338</td>\n",
              "      <td>323.7</td>\n",
              "      <td>8.666667</td>\n",
              "      <td>8.300000</td>\n",
              "      <td>39</td>\n",
              "      <td>39.0</td>\n",
              "    </tr>\n",
              "    <tr>\n",
              "      <th>워너뮤직코리아</th>\n",
              "      <td>798</td>\n",
              "      <td>518.1</td>\n",
              "      <td>13.081967</td>\n",
              "      <td>8.493443</td>\n",
              "      <td>61</td>\n",
              "      <td>61.0</td>\n",
              "    </tr>\n",
              "    <tr>\n",
              "      <th>유니버설뮤직</th>\n",
              "      <td>661</td>\n",
              "      <td>371.3</td>\n",
              "      <td>14.688889</td>\n",
              "      <td>8.251111</td>\n",
              "      <td>45</td>\n",
              "      <td>45.0</td>\n",
              "    </tr>\n",
              "    <tr>\n",
              "      <th>지니뮤직</th>\n",
              "      <td>71</td>\n",
              "      <td>128.7</td>\n",
              "      <td>4.437500</td>\n",
              "      <td>8.043750</td>\n",
              "      <td>16</td>\n",
              "      <td>16.0</td>\n",
              "    </tr>\n",
              "    <tr>\n",
              "      <th>퍼플파인 엔터테인먼트</th>\n",
              "      <td>14</td>\n",
              "      <td>41.3</td>\n",
              "      <td>2.000000</td>\n",
              "      <td>5.900000</td>\n",
              "      <td>7</td>\n",
              "      <td>7.0</td>\n",
              "    </tr>\n",
              "    <tr>\n",
              "      <th>퍼플파인엔터테인먼트</th>\n",
              "      <td>35</td>\n",
              "      <td>10.5</td>\n",
              "      <td>5.000000</td>\n",
              "      <td>1.500000</td>\n",
              "      <td>7</td>\n",
              "      <td>7.0</td>\n",
              "    </tr>\n",
              "    <tr>\n",
              "      <th>포크라노스</th>\n",
              "      <td>1</td>\n",
              "      <td>7.9</td>\n",
              "      <td>1.000000</td>\n",
              "      <td>7.900000</td>\n",
              "      <td>1</td>\n",
              "      <td>1.0</td>\n",
              "    </tr>\n",
              "  </tbody>\n",
              "</table>\n",
              "</div>"
            ],
            "text/plain": [
              "                         sum                mean                   len       \n",
              "                 Music Count  Rating Music Count    Rating Music Count Rating\n",
              "Distribution                                                                 \n",
              "(주)루미넌트엔터테인먼트             19    29.1    4.750000  7.275000           4    4.0\n",
              "(주)뮤직앤뉴                   62   108.7    4.769231  8.361538          13   13.0\n",
              "(주)미러볼뮤직                  30    24.0    5.000000  4.000000           6    6.0\n",
              "(주)벅스                      2     8.6    2.000000  8.600000           1    1.0\n",
              "(주)아이리버                 5122  3818.9   11.306843  8.430243         453  453.0\n",
              "(주)엔에이치엔벅스               614   663.8    7.871795  8.510256          78   78.0\n",
              "(주)인터파크                  104   123.3    6.500000  7.706250          16   16.0\n",
              "(주)지니뮤직                 4480  6192.9    5.833333  8.063672         768  768.0\n",
              "Mirrorball Music          48    64.8    6.000000  8.100000           8    8.0\n",
              "Sony Music                 9    56.6    1.500000  9.433333           6    6.0\n",
              "Universal                 51    98.7    4.636364  8.972727          11   11.0\n",
              "Warner(Korea)             17    19.2    8.500000  9.600000           2    2.0\n",
              "YG PLUS                  276   385.0    6.000000  8.369565          46   46.0\n",
              "㈜인터파크                     12    16.8    6.000000  8.400000           2    2.0\n",
              "다날 엔터테인먼트                 12    42.6    2.000000  7.100000           6    6.0\n",
              "로엔 엔터테인먼트                960  1918.7    4.192140  8.378603         229  229.0\n",
              "로엔엔터테인먼트                2074  2891.8    5.875354  8.192068         353  353.0\n",
              "소니뮤직                     338   323.7    8.666667  8.300000          39   39.0\n",
              "워너뮤직코리아                  798   518.1   13.081967  8.493443          61   61.0\n",
              "유니버설뮤직                   661   371.3   14.688889  8.251111          45   45.0\n",
              "지니뮤직                      71   128.7    4.437500  8.043750          16   16.0\n",
              "퍼플파인 엔터테인먼트               14    41.3    2.000000  5.900000           7    7.0\n",
              "퍼플파인엔터테인먼트                35    10.5    5.000000  1.500000           7    7.0\n",
              "포크라노스                      1     7.9    1.000000  7.900000           1    1.0"
            ]
          },
          "metadata": {
            "tags": []
          },
          "execution_count": 20
        }
      ]
    },
    {
      "cell_type": "code",
      "metadata": {
        "id": "G82tkMYULwjP",
        "outputId": "b17e4f63-a269-4a59-e977-1a2c71bcd985",
        "colab": {
          "base_uri": "https://localhost:8080/",
          "height": 225
        }
      },
      "source": [
        "# Distribution 단위로 그룹화\n",
        "# Rating은 총합, Distribution의 개수로 표현\n",
        "music.groupby('Distribution').agg({\n",
        "    'Rating'       : 'sum',\n",
        "    'Distribution' : 'count'\n",
        "}).head()"
      ],
      "execution_count": 21,
      "outputs": [
        {
          "output_type": "execute_result",
          "data": {
            "text/html": [
              "<div>\n",
              "<style scoped>\n",
              "    .dataframe tbody tr th:only-of-type {\n",
              "        vertical-align: middle;\n",
              "    }\n",
              "\n",
              "    .dataframe tbody tr th {\n",
              "        vertical-align: top;\n",
              "    }\n",
              "\n",
              "    .dataframe thead th {\n",
              "        text-align: right;\n",
              "    }\n",
              "</style>\n",
              "<table border=\"1\" class=\"dataframe\">\n",
              "  <thead>\n",
              "    <tr style=\"text-align: right;\">\n",
              "      <th></th>\n",
              "      <th>Rating</th>\n",
              "      <th>Distribution</th>\n",
              "    </tr>\n",
              "    <tr>\n",
              "      <th>Distribution</th>\n",
              "      <th></th>\n",
              "      <th></th>\n",
              "    </tr>\n",
              "  </thead>\n",
              "  <tbody>\n",
              "    <tr>\n",
              "      <th>(주)루미넌트엔터테인먼트</th>\n",
              "      <td>29.1</td>\n",
              "      <td>4</td>\n",
              "    </tr>\n",
              "    <tr>\n",
              "      <th>(주)뮤직앤뉴</th>\n",
              "      <td>108.7</td>\n",
              "      <td>13</td>\n",
              "    </tr>\n",
              "    <tr>\n",
              "      <th>(주)미러볼뮤직</th>\n",
              "      <td>24.0</td>\n",
              "      <td>6</td>\n",
              "    </tr>\n",
              "    <tr>\n",
              "      <th>(주)벅스</th>\n",
              "      <td>8.6</td>\n",
              "      <td>1</td>\n",
              "    </tr>\n",
              "    <tr>\n",
              "      <th>(주)아이리버</th>\n",
              "      <td>3818.9</td>\n",
              "      <td>453</td>\n",
              "    </tr>\n",
              "  </tbody>\n",
              "</table>\n",
              "</div>"
            ],
            "text/plain": [
              "               Rating  Distribution\n",
              "Distribution                       \n",
              "(주)루미넌트엔터테인먼트    29.1             4\n",
              "(주)뮤직앤뉴         108.7            13\n",
              "(주)미러볼뮤직         24.0             6\n",
              "(주)벅스             8.6             1\n",
              "(주)아이리버        3818.9           453"
            ]
          },
          "metadata": {
            "tags": []
          },
          "execution_count": 21
        }
      ]
    },
    {
      "cell_type": "code",
      "metadata": {
        "id": "uG8PYUmhMjtc",
        "outputId": "2ae3a3bf-87da-4278-87cd-e6dfa30d2ce7",
        "colab": {
          "base_uri": "https://localhost:8080/",
          "height": 787
        }
      },
      "source": [
        "tmp = music.groupby('Distribution').agg({\n",
        "    'Rating'       : 'mean',\n",
        "    'Distribution' : 'count'\n",
        "}).sort_values( by = 'Rating', ascending = False)\n",
        "tmp\n",
        "# 데이터를 살펴보니 평점이 높아도, 제작수가 적어서 유리한 부분이 존재\n",
        "# 2년간 제작수가 10개 이상 되는 제작사만 통계에 포함시키겠음"
      ],
      "execution_count": 22,
      "outputs": [
        {
          "output_type": "execute_result",
          "data": {
            "text/html": [
              "<div>\n",
              "<style scoped>\n",
              "    .dataframe tbody tr th:only-of-type {\n",
              "        vertical-align: middle;\n",
              "    }\n",
              "\n",
              "    .dataframe tbody tr th {\n",
              "        vertical-align: top;\n",
              "    }\n",
              "\n",
              "    .dataframe thead th {\n",
              "        text-align: right;\n",
              "    }\n",
              "</style>\n",
              "<table border=\"1\" class=\"dataframe\">\n",
              "  <thead>\n",
              "    <tr style=\"text-align: right;\">\n",
              "      <th></th>\n",
              "      <th>Rating</th>\n",
              "      <th>Distribution</th>\n",
              "    </tr>\n",
              "    <tr>\n",
              "      <th>Distribution</th>\n",
              "      <th></th>\n",
              "      <th></th>\n",
              "    </tr>\n",
              "  </thead>\n",
              "  <tbody>\n",
              "    <tr>\n",
              "      <th>Warner(Korea)</th>\n",
              "      <td>9.600000</td>\n",
              "      <td>2</td>\n",
              "    </tr>\n",
              "    <tr>\n",
              "      <th>Sony Music</th>\n",
              "      <td>9.433333</td>\n",
              "      <td>6</td>\n",
              "    </tr>\n",
              "    <tr>\n",
              "      <th>Universal</th>\n",
              "      <td>8.972727</td>\n",
              "      <td>11</td>\n",
              "    </tr>\n",
              "    <tr>\n",
              "      <th>(주)벅스</th>\n",
              "      <td>8.600000</td>\n",
              "      <td>1</td>\n",
              "    </tr>\n",
              "    <tr>\n",
              "      <th>(주)엔에이치엔벅스</th>\n",
              "      <td>8.510256</td>\n",
              "      <td>78</td>\n",
              "    </tr>\n",
              "    <tr>\n",
              "      <th>워너뮤직코리아</th>\n",
              "      <td>8.493443</td>\n",
              "      <td>61</td>\n",
              "    </tr>\n",
              "    <tr>\n",
              "      <th>(주)아이리버</th>\n",
              "      <td>8.430243</td>\n",
              "      <td>453</td>\n",
              "    </tr>\n",
              "    <tr>\n",
              "      <th>㈜인터파크</th>\n",
              "      <td>8.400000</td>\n",
              "      <td>2</td>\n",
              "    </tr>\n",
              "    <tr>\n",
              "      <th>로엔 엔터테인먼트</th>\n",
              "      <td>8.378603</td>\n",
              "      <td>229</td>\n",
              "    </tr>\n",
              "    <tr>\n",
              "      <th>YG PLUS</th>\n",
              "      <td>8.369565</td>\n",
              "      <td>46</td>\n",
              "    </tr>\n",
              "    <tr>\n",
              "      <th>(주)뮤직앤뉴</th>\n",
              "      <td>8.361538</td>\n",
              "      <td>13</td>\n",
              "    </tr>\n",
              "    <tr>\n",
              "      <th>소니뮤직</th>\n",
              "      <td>8.300000</td>\n",
              "      <td>39</td>\n",
              "    </tr>\n",
              "    <tr>\n",
              "      <th>유니버설뮤직</th>\n",
              "      <td>8.251111</td>\n",
              "      <td>45</td>\n",
              "    </tr>\n",
              "    <tr>\n",
              "      <th>로엔엔터테인먼트</th>\n",
              "      <td>8.192068</td>\n",
              "      <td>353</td>\n",
              "    </tr>\n",
              "    <tr>\n",
              "      <th>Mirrorball Music</th>\n",
              "      <td>8.100000</td>\n",
              "      <td>8</td>\n",
              "    </tr>\n",
              "    <tr>\n",
              "      <th>(주)지니뮤직</th>\n",
              "      <td>8.063672</td>\n",
              "      <td>768</td>\n",
              "    </tr>\n",
              "    <tr>\n",
              "      <th>지니뮤직</th>\n",
              "      <td>8.043750</td>\n",
              "      <td>16</td>\n",
              "    </tr>\n",
              "    <tr>\n",
              "      <th>포크라노스</th>\n",
              "      <td>7.900000</td>\n",
              "      <td>1</td>\n",
              "    </tr>\n",
              "    <tr>\n",
              "      <th>(주)인터파크</th>\n",
              "      <td>7.706250</td>\n",
              "      <td>16</td>\n",
              "    </tr>\n",
              "    <tr>\n",
              "      <th>(주)루미넌트엔터테인먼트</th>\n",
              "      <td>7.275000</td>\n",
              "      <td>4</td>\n",
              "    </tr>\n",
              "    <tr>\n",
              "      <th>다날 엔터테인먼트</th>\n",
              "      <td>7.100000</td>\n",
              "      <td>6</td>\n",
              "    </tr>\n",
              "    <tr>\n",
              "      <th>퍼플파인 엔터테인먼트</th>\n",
              "      <td>5.900000</td>\n",
              "      <td>7</td>\n",
              "    </tr>\n",
              "    <tr>\n",
              "      <th>(주)미러볼뮤직</th>\n",
              "      <td>4.000000</td>\n",
              "      <td>6</td>\n",
              "    </tr>\n",
              "    <tr>\n",
              "      <th>퍼플파인엔터테인먼트</th>\n",
              "      <td>1.500000</td>\n",
              "      <td>7</td>\n",
              "    </tr>\n",
              "  </tbody>\n",
              "</table>\n",
              "</div>"
            ],
            "text/plain": [
              "                    Rating  Distribution\n",
              "Distribution                            \n",
              "Warner(Korea)     9.600000             2\n",
              "Sony Music        9.433333             6\n",
              "Universal         8.972727            11\n",
              "(주)벅스             8.600000             1\n",
              "(주)엔에이치엔벅스        8.510256            78\n",
              "워너뮤직코리아           8.493443            61\n",
              "(주)아이리버           8.430243           453\n",
              "㈜인터파크             8.400000             2\n",
              "로엔 엔터테인먼트         8.378603           229\n",
              "YG PLUS           8.369565            46\n",
              "(주)뮤직앤뉴           8.361538            13\n",
              "소니뮤직              8.300000            39\n",
              "유니버설뮤직            8.251111            45\n",
              "로엔엔터테인먼트          8.192068           353\n",
              "Mirrorball Music  8.100000             8\n",
              "(주)지니뮤직           8.063672           768\n",
              "지니뮤직              8.043750            16\n",
              "포크라노스             7.900000             1\n",
              "(주)인터파크           7.706250            16\n",
              "(주)루미넌트엔터테인먼트     7.275000             4\n",
              "다날 엔터테인먼트         7.100000             6\n",
              "퍼플파인 엔터테인먼트       5.900000             7\n",
              "(주)미러볼뮤직          4.000000             6\n",
              "퍼플파인엔터테인먼트        1.500000             7"
            ]
          },
          "metadata": {
            "tags": []
          },
          "execution_count": 22
        }
      ]
    },
    {
      "cell_type": "code",
      "metadata": {
        "id": "hEt3LoU8NBG3",
        "outputId": "5e3dabe5-6614-457e-eff0-ba966624034b",
        "colab": {
          "base_uri": "https://localhost:8080/",
          "height": 34
        }
      },
      "source": [
        "# 10개 이상 제작한 제작사만 수집(10이라는 수치는 설정)\n",
        "# 후에 산포도를 그리고 평균선을 그려보면 지표를 추론할 수 있음(지금은 10)\n",
        "tmp = tmp[ tmp.Distribution >= 10 ]\n",
        "tmp.shape"
      ],
      "execution_count": 23,
      "outputs": [
        {
          "output_type": "execute_result",
          "data": {
            "text/plain": [
              "(13, 2)"
            ]
          },
          "metadata": {
            "tags": []
          },
          "execution_count": 23
        }
      ]
    },
    {
      "cell_type": "code",
      "metadata": {
        "id": "84IDZCoTOXPx",
        "outputId": "961aea47-6c25-470b-8106-b6b72aa6c9aa",
        "colab": {
          "base_uri": "https://localhost:8080/",
          "height": 462
        }
      },
      "source": [
        "tmp"
      ],
      "execution_count": 24,
      "outputs": [
        {
          "output_type": "execute_result",
          "data": {
            "text/html": [
              "<div>\n",
              "<style scoped>\n",
              "    .dataframe tbody tr th:only-of-type {\n",
              "        vertical-align: middle;\n",
              "    }\n",
              "\n",
              "    .dataframe tbody tr th {\n",
              "        vertical-align: top;\n",
              "    }\n",
              "\n",
              "    .dataframe thead th {\n",
              "        text-align: right;\n",
              "    }\n",
              "</style>\n",
              "<table border=\"1\" class=\"dataframe\">\n",
              "  <thead>\n",
              "    <tr style=\"text-align: right;\">\n",
              "      <th></th>\n",
              "      <th>Rating</th>\n",
              "      <th>Distribution</th>\n",
              "    </tr>\n",
              "    <tr>\n",
              "      <th>Distribution</th>\n",
              "      <th></th>\n",
              "      <th></th>\n",
              "    </tr>\n",
              "  </thead>\n",
              "  <tbody>\n",
              "    <tr>\n",
              "      <th>Universal</th>\n",
              "      <td>8.972727</td>\n",
              "      <td>11</td>\n",
              "    </tr>\n",
              "    <tr>\n",
              "      <th>(주)엔에이치엔벅스</th>\n",
              "      <td>8.510256</td>\n",
              "      <td>78</td>\n",
              "    </tr>\n",
              "    <tr>\n",
              "      <th>워너뮤직코리아</th>\n",
              "      <td>8.493443</td>\n",
              "      <td>61</td>\n",
              "    </tr>\n",
              "    <tr>\n",
              "      <th>(주)아이리버</th>\n",
              "      <td>8.430243</td>\n",
              "      <td>453</td>\n",
              "    </tr>\n",
              "    <tr>\n",
              "      <th>로엔 엔터테인먼트</th>\n",
              "      <td>8.378603</td>\n",
              "      <td>229</td>\n",
              "    </tr>\n",
              "    <tr>\n",
              "      <th>YG PLUS</th>\n",
              "      <td>8.369565</td>\n",
              "      <td>46</td>\n",
              "    </tr>\n",
              "    <tr>\n",
              "      <th>(주)뮤직앤뉴</th>\n",
              "      <td>8.361538</td>\n",
              "      <td>13</td>\n",
              "    </tr>\n",
              "    <tr>\n",
              "      <th>소니뮤직</th>\n",
              "      <td>8.300000</td>\n",
              "      <td>39</td>\n",
              "    </tr>\n",
              "    <tr>\n",
              "      <th>유니버설뮤직</th>\n",
              "      <td>8.251111</td>\n",
              "      <td>45</td>\n",
              "    </tr>\n",
              "    <tr>\n",
              "      <th>로엔엔터테인먼트</th>\n",
              "      <td>8.192068</td>\n",
              "      <td>353</td>\n",
              "    </tr>\n",
              "    <tr>\n",
              "      <th>(주)지니뮤직</th>\n",
              "      <td>8.063672</td>\n",
              "      <td>768</td>\n",
              "    </tr>\n",
              "    <tr>\n",
              "      <th>지니뮤직</th>\n",
              "      <td>8.043750</td>\n",
              "      <td>16</td>\n",
              "    </tr>\n",
              "    <tr>\n",
              "      <th>(주)인터파크</th>\n",
              "      <td>7.706250</td>\n",
              "      <td>16</td>\n",
              "    </tr>\n",
              "  </tbody>\n",
              "</table>\n",
              "</div>"
            ],
            "text/plain": [
              "                Rating  Distribution\n",
              "Distribution                        \n",
              "Universal     8.972727            11\n",
              "(주)엔에이치엔벅스    8.510256            78\n",
              "워너뮤직코리아       8.493443            61\n",
              "(주)아이리버       8.430243           453\n",
              "로엔 엔터테인먼트     8.378603           229\n",
              "YG PLUS       8.369565            46\n",
              "(주)뮤직앤뉴       8.361538            13\n",
              "소니뮤직          8.300000            39\n",
              "유니버설뮤직        8.251111            45\n",
              "로엔엔터테인먼트      8.192068           353\n",
              "(주)지니뮤직       8.063672           768\n",
              "지니뮤직          8.043750            16\n",
              "(주)인터파크       7.706250            16"
            ]
          },
          "metadata": {
            "tags": []
          },
          "execution_count": 24
        }
      ]
    },
    {
      "cell_type": "code",
      "metadata": {
        "id": "MkVZN92tOlFG",
        "outputId": "6bf93190-2026-4579-cebe-babc9888ce17",
        "colab": {
          "base_uri": "https://localhost:8080/",
          "height": 225
        }
      },
      "source": [
        "tmp = music.groupby('Distribution').agg({\n",
        "    'Rating'       : 'sum',\n",
        "    'Distribution' : 'count'\n",
        "}).sort_values( by = 'Rating', ascending = False)\n",
        "tmp.head()"
      ],
      "execution_count": 25,
      "outputs": [
        {
          "output_type": "execute_result",
          "data": {
            "text/html": [
              "<div>\n",
              "<style scoped>\n",
              "    .dataframe tbody tr th:only-of-type {\n",
              "        vertical-align: middle;\n",
              "    }\n",
              "\n",
              "    .dataframe tbody tr th {\n",
              "        vertical-align: top;\n",
              "    }\n",
              "\n",
              "    .dataframe thead th {\n",
              "        text-align: right;\n",
              "    }\n",
              "</style>\n",
              "<table border=\"1\" class=\"dataframe\">\n",
              "  <thead>\n",
              "    <tr style=\"text-align: right;\">\n",
              "      <th></th>\n",
              "      <th>Rating</th>\n",
              "      <th>Distribution</th>\n",
              "    </tr>\n",
              "    <tr>\n",
              "      <th>Distribution</th>\n",
              "      <th></th>\n",
              "      <th></th>\n",
              "    </tr>\n",
              "  </thead>\n",
              "  <tbody>\n",
              "    <tr>\n",
              "      <th>(주)지니뮤직</th>\n",
              "      <td>6192.9</td>\n",
              "      <td>768</td>\n",
              "    </tr>\n",
              "    <tr>\n",
              "      <th>(주)아이리버</th>\n",
              "      <td>3818.9</td>\n",
              "      <td>453</td>\n",
              "    </tr>\n",
              "    <tr>\n",
              "      <th>로엔엔터테인먼트</th>\n",
              "      <td>2891.8</td>\n",
              "      <td>353</td>\n",
              "    </tr>\n",
              "    <tr>\n",
              "      <th>로엔 엔터테인먼트</th>\n",
              "      <td>1918.7</td>\n",
              "      <td>229</td>\n",
              "    </tr>\n",
              "    <tr>\n",
              "      <th>(주)엔에이치엔벅스</th>\n",
              "      <td>663.8</td>\n",
              "      <td>78</td>\n",
              "    </tr>\n",
              "  </tbody>\n",
              "</table>\n",
              "</div>"
            ],
            "text/plain": [
              "              Rating  Distribution\n",
              "Distribution                      \n",
              "(주)지니뮤직       6192.9           768\n",
              "(주)아이리버       3818.9           453\n",
              "로엔엔터테인먼트      2891.8           353\n",
              "로엔 엔터테인먼트     1918.7           229\n",
              "(주)엔에이치엔벅스     663.8            78"
            ]
          },
          "metadata": {
            "tags": []
          },
          "execution_count": 25
        }
      ]
    },
    {
      "cell_type": "code",
      "metadata": {
        "id": "Gmry9PhJOpEv",
        "outputId": "98014601-0390-4485-c616-8d6799b8b338",
        "colab": {
          "base_uri": "https://localhost:8080/",
          "height": 698
        }
      },
      "source": [
        "# 직접 시각화\n",
        "# 시각화 방법 (2) DataFrame에서 직접 시각화 수행\n",
        "# 플로팅 함수는 plot() 하나임, https://pandas.pydata.org/docs/reference/api/pandas.DataFrame.plot.html?highlight=plot#pandas.DataFrame.plot\n",
        "# 종류는 kind parameter로 결정됨\n",
        "tmp['Distribution'].plot( kind = \"bar\", figsize = (15, 10), rot = 45 )"
      ],
      "execution_count": 26,
      "outputs": [
        {
          "output_type": "execute_result",
          "data": {
            "text/plain": [
              "<matplotlib.axes._subplots.AxesSubplot at 0x7f4b4ff174e0>"
            ]
          },
          "metadata": {
            "tags": []
          },
          "execution_count": 26
        },
        {
          "output_type": "display_data",
          "data": {
            "image/png": "[encoded data removed]",
            "text/plain": [
              "<Figure size 1080x720 with 1 Axes>"
            ]
          },
          "metadata": {
            "tags": [],
            "image/png": {
              "width": 878,
              "height": 663
            },
            "needs_background": "light"
          }
        }
      ]
    },
    {
      "cell_type": "markdown",
      "metadata": {
        "id": "ZaFQM-DXDP8l"
      },
      "source": [
        "# 데이터 분석"
      ]
    },
    {
      "cell_type": "code",
      "metadata": {
        "id": "OeCCNvhwQRzP",
        "outputId": "1b52dcb7-60ff-4a7a-9d1b-d736a24e5809",
        "colab": {
          "base_uri": "https://localhost:8080/",
          "height": 284
        }
      },
      "source": [
        "music.describe()"
      ],
      "execution_count": 27,
      "outputs": [
        {
          "output_type": "execute_result",
          "data": {
            "text/html": [
              "<div>\n",
              "<style scoped>\n",
              "    .dataframe tbody tr th:only-of-type {\n",
              "        vertical-align: middle;\n",
              "    }\n",
              "\n",
              "    .dataframe tbody tr th {\n",
              "        vertical-align: top;\n",
              "    }\n",
              "\n",
              "    .dataframe thead th {\n",
              "        text-align: right;\n",
              "    }\n",
              "</style>\n",
              "<table border=\"1\" class=\"dataframe\">\n",
              "  <thead>\n",
              "    <tr style=\"text-align: right;\">\n",
              "      <th></th>\n",
              "      <th>Year</th>\n",
              "      <th>Month</th>\n",
              "      <th>Rating</th>\n",
              "      <th>Music Count</th>\n",
              "    </tr>\n",
              "  </thead>\n",
              "  <tbody>\n",
              "    <tr>\n",
              "      <th>count</th>\n",
              "      <td>2178.000000</td>\n",
              "      <td>2178.000000</td>\n",
              "      <td>2178.000000</td>\n",
              "      <td>2178.000000</td>\n",
              "    </tr>\n",
              "    <tr>\n",
              "      <th>mean</th>\n",
              "      <td>2017.455464</td>\n",
              "      <td>6.053260</td>\n",
              "      <td>8.202479</td>\n",
              "      <td>7.258953</td>\n",
              "    </tr>\n",
              "    <tr>\n",
              "      <th>std</th>\n",
              "      <td>0.498127</td>\n",
              "      <td>3.228962</td>\n",
              "      <td>0.969064</td>\n",
              "      <td>4.977393</td>\n",
              "    </tr>\n",
              "    <tr>\n",
              "      <th>min</th>\n",
              "      <td>2017.000000</td>\n",
              "      <td>1.000000</td>\n",
              "      <td>1.500000</td>\n",
              "      <td>1.000000</td>\n",
              "    </tr>\n",
              "    <tr>\n",
              "      <th>25%</th>\n",
              "      <td>2017.000000</td>\n",
              "      <td>3.000000</td>\n",
              "      <td>7.700000</td>\n",
              "      <td>3.000000</td>\n",
              "    </tr>\n",
              "    <tr>\n",
              "      <th>50%</th>\n",
              "      <td>2017.000000</td>\n",
              "      <td>6.000000</td>\n",
              "      <td>8.400000</td>\n",
              "      <td>6.000000</td>\n",
              "    </tr>\n",
              "    <tr>\n",
              "      <th>75%</th>\n",
              "      <td>2018.000000</td>\n",
              "      <td>9.000000</td>\n",
              "      <td>8.800000</td>\n",
              "      <td>11.000000</td>\n",
              "    </tr>\n",
              "    <tr>\n",
              "      <th>max</th>\n",
              "      <td>2018.000000</td>\n",
              "      <td>12.000000</td>\n",
              "      <td>9.900000</td>\n",
              "      <td>26.000000</td>\n",
              "    </tr>\n",
              "  </tbody>\n",
              "</table>\n",
              "</div>"
            ],
            "text/plain": [
              "              Year        Month       Rating  Music Count\n",
              "count  2178.000000  2178.000000  2178.000000  2178.000000\n",
              "mean   2017.455464     6.053260     8.202479     7.258953\n",
              "std       0.498127     3.228962     0.969064     4.977393\n",
              "min    2017.000000     1.000000     1.500000     1.000000\n",
              "25%    2017.000000     3.000000     7.700000     3.000000\n",
              "50%    2017.000000     6.000000     8.400000     6.000000\n",
              "75%    2018.000000     9.000000     8.800000    11.000000\n",
              "max    2018.000000    12.000000     9.900000    26.000000"
            ]
          },
          "metadata": {
            "tags": []
          },
          "execution_count": 27
        }
      ]
    },
    {
      "cell_type": "code",
      "metadata": {
        "id": "h_Tiwj8DRkJ3",
        "outputId": "95850760-08c1-4557-a21b-938d2b44494a",
        "colab": {
          "base_uri": "https://localhost:8080/",
          "height": 210
        }
      },
      "source": [
        "# type 기반으로 데이터를 모아라 : 수치 number, 블린 bool, ...\n",
        "# music df 중에서 데이터가 수치인 컬럼만 모음\n",
        "music.dtypes"
      ],
      "execution_count": 28,
      "outputs": [
        {
          "output_type": "execute_result",
          "data": {
            "text/plain": [
              "Year                     int64\n",
              "Month                    int64\n",
              "Album Title             object\n",
              "Artist Name             object\n",
              "Genre                   object\n",
              "Date                    object\n",
              "Distribution            object\n",
              "Rating                 float64\n",
              "Music Count              int64\n",
              "Date1           datetime64[ns]\n",
              "dtype: object"
            ]
          },
          "metadata": {
            "tags": []
          },
          "execution_count": 28
        }
      ]
    },
    {
      "cell_type": "code",
      "metadata": {
        "id": "Jwp8d_jXQYOt",
        "outputId": "daec73e6-1ef8-4a2c-fad7-1fb5357df5f2",
        "colab": {
          "base_uri": "https://localhost:8080/",
          "height": 136
        }
      },
      "source": [
        "# include : 값을 주거나 리스트로 나열하거나, exclude\n",
        "music.select_dtypes(include = ['number']).head(3)"
      ],
      "execution_count": 29,
      "outputs": [
        {
          "output_type": "execute_result",
          "data": {
            "text/html": [
              "<div>\n",
              "<style scoped>\n",
              "    .dataframe tbody tr th:only-of-type {\n",
              "        vertical-align: middle;\n",
              "    }\n",
              "\n",
              "    .dataframe tbody tr th {\n",
              "        vertical-align: top;\n",
              "    }\n",
              "\n",
              "    .dataframe thead th {\n",
              "        text-align: right;\n",
              "    }\n",
              "</style>\n",
              "<table border=\"1\" class=\"dataframe\">\n",
              "  <thead>\n",
              "    <tr style=\"text-align: right;\">\n",
              "      <th></th>\n",
              "      <th>Year</th>\n",
              "      <th>Month</th>\n",
              "      <th>Rating</th>\n",
              "      <th>Music Count</th>\n",
              "    </tr>\n",
              "  </thead>\n",
              "  <tbody>\n",
              "    <tr>\n",
              "      <th>0</th>\n",
              "      <td>2017</td>\n",
              "      <td>1</td>\n",
              "      <td>8.6</td>\n",
              "      <td>2</td>\n",
              "    </tr>\n",
              "    <tr>\n",
              "      <th>1</th>\n",
              "      <td>2017</td>\n",
              "      <td>1</td>\n",
              "      <td>8.1</td>\n",
              "      <td>12</td>\n",
              "    </tr>\n",
              "    <tr>\n",
              "      <th>2</th>\n",
              "      <td>2017</td>\n",
              "      <td>1</td>\n",
              "      <td>7.5</td>\n",
              "      <td>5</td>\n",
              "    </tr>\n",
              "  </tbody>\n",
              "</table>\n",
              "</div>"
            ],
            "text/plain": [
              "   Year  Month  Rating  Music Count\n",
              "0  2017      1     8.6            2\n",
              "1  2017      1     8.1           12\n",
              "2  2017      1     7.5            5"
            ]
          },
          "metadata": {
            "tags": []
          },
          "execution_count": 29
        }
      ]
    },
    {
      "cell_type": "code",
      "metadata": {
        "id": "waM2XmZXRN-w",
        "outputId": "58d81cba-03d3-4b54-fa15-9ea3f18370bd",
        "colab": {
          "base_uri": "https://localhost:8080/",
          "height": 136
        }
      },
      "source": [
        "# 수치 중에서도 정수만(특정 크기도 可)\n",
        "# exclude\n",
        "music.select_dtypes(include = ['number'], exclude=['float64']).head(3)"
      ],
      "execution_count": 30,
      "outputs": [
        {
          "output_type": "execute_result",
          "data": {
            "text/html": [
              "<div>\n",
              "<style scoped>\n",
              "    .dataframe tbody tr th:only-of-type {\n",
              "        vertical-align: middle;\n",
              "    }\n",
              "\n",
              "    .dataframe tbody tr th {\n",
              "        vertical-align: top;\n",
              "    }\n",
              "\n",
              "    .dataframe thead th {\n",
              "        text-align: right;\n",
              "    }\n",
              "</style>\n",
              "<table border=\"1\" class=\"dataframe\">\n",
              "  <thead>\n",
              "    <tr style=\"text-align: right;\">\n",
              "      <th></th>\n",
              "      <th>Year</th>\n",
              "      <th>Month</th>\n",
              "      <th>Music Count</th>\n",
              "    </tr>\n",
              "  </thead>\n",
              "  <tbody>\n",
              "    <tr>\n",
              "      <th>0</th>\n",
              "      <td>2017</td>\n",
              "      <td>1</td>\n",
              "      <td>2</td>\n",
              "    </tr>\n",
              "    <tr>\n",
              "      <th>1</th>\n",
              "      <td>2017</td>\n",
              "      <td>1</td>\n",
              "      <td>12</td>\n",
              "    </tr>\n",
              "    <tr>\n",
              "      <th>2</th>\n",
              "      <td>2017</td>\n",
              "      <td>1</td>\n",
              "      <td>5</td>\n",
              "    </tr>\n",
              "  </tbody>\n",
              "</table>\n",
              "</div>"
            ],
            "text/plain": [
              "   Year  Month  Music Count\n",
              "0  2017      1            2\n",
              "1  2017      1           12\n",
              "2  2017      1            5"
            ]
          },
          "metadata": {
            "tags": []
          },
          "execution_count": 30
        }
      ]
    },
    {
      "cell_type": "code",
      "metadata": {
        "id": "9mZqUZ_KRwcc",
        "outputId": "a25f3f5c-0b74-4bc5-daf2-d4471dc4463b",
        "colab": {
          "base_uri": "https://localhost:8080/",
          "height": 70
        }
      },
      "source": [
        "music.columns"
      ],
      "execution_count": 31,
      "outputs": [
        {
          "output_type": "execute_result",
          "data": {
            "text/plain": [
              "Index(['Year', 'Month', 'Album Title', 'Artist Name', 'Genre', 'Date',\n",
              "       'Distribution', 'Rating', 'Music Count', 'Date1'],\n",
              "      dtype='object')"
            ]
          },
          "metadata": {
            "tags": []
          },
          "execution_count": 31
        }
      ]
    },
    {
      "cell_type": "code",
      "metadata": {
        "id": "lONFyKm-Rokw",
        "outputId": "442fc036-d2ad-4bb4-b9b8-818a20b36a3d",
        "colab": {
          "base_uri": "https://localhost:8080/",
          "height": 77
        }
      },
      "source": [
        "# music data 중에서 장르 결측치가 있다면 출력하시오\n",
        "# NaN이 존재한다면 혹은 아예 값이 없다면\n",
        "music[ music.Genre.isna() ]"
      ],
      "execution_count": 32,
      "outputs": [
        {
          "output_type": "execute_result",
          "data": {
            "text/html": [
              "<div>\n",
              "<style scoped>\n",
              "    .dataframe tbody tr th:only-of-type {\n",
              "        vertical-align: middle;\n",
              "    }\n",
              "\n",
              "    .dataframe tbody tr th {\n",
              "        vertical-align: top;\n",
              "    }\n",
              "\n",
              "    .dataframe thead th {\n",
              "        text-align: right;\n",
              "    }\n",
              "</style>\n",
              "<table border=\"1\" class=\"dataframe\">\n",
              "  <thead>\n",
              "    <tr style=\"text-align: right;\">\n",
              "      <th></th>\n",
              "      <th>Year</th>\n",
              "      <th>Month</th>\n",
              "      <th>Album Title</th>\n",
              "      <th>Artist Name</th>\n",
              "      <th>Genre</th>\n",
              "      <th>Date</th>\n",
              "      <th>Distribution</th>\n",
              "      <th>Rating</th>\n",
              "      <th>Music Count</th>\n",
              "      <th>Date1</th>\n",
              "    </tr>\n",
              "  </thead>\n",
              "  <tbody>\n",
              "    <tr>\n",
              "      <th>1104</th>\n",
              "      <td>2017</td>\n",
              "      <td>12</td>\n",
              "      <td>All I Want For Christmas (EP)</td>\n",
              "      <td>Mariah Carey</td>\n",
              "      <td>NaN</td>\n",
              "      <td>2007.11.26</td>\n",
              "      <td>Sony Music</td>\n",
              "      <td>8.9</td>\n",
              "      <td>3</td>\n",
              "      <td>2007-11-26</td>\n",
              "    </tr>\n",
              "  </tbody>\n",
              "</table>\n",
              "</div>"
            ],
            "text/plain": [
              "      Year  Month  ... Music Count      Date1\n",
              "1104  2017     12  ...           3 2007-11-26\n",
              "\n",
              "[1 rows x 10 columns]"
            ]
          },
          "metadata": {
            "tags": []
          },
          "execution_count": 32
        }
      ]
    },
    {
      "cell_type": "code",
      "metadata": {
        "id": "0IL8cuJhSegi",
        "outputId": "164842f5-a4b1-4844-ac5d-afb147cf0603",
        "colab": {
          "base_uri": "https://localhost:8080/",
          "height": 77
        }
      },
      "source": [
        "music[ music.Genre.isnull() ]"
      ],
      "execution_count": 33,
      "outputs": [
        {
          "output_type": "execute_result",
          "data": {
            "text/html": [
              "<div>\n",
              "<style scoped>\n",
              "    .dataframe tbody tr th:only-of-type {\n",
              "        vertical-align: middle;\n",
              "    }\n",
              "\n",
              "    .dataframe tbody tr th {\n",
              "        vertical-align: top;\n",
              "    }\n",
              "\n",
              "    .dataframe thead th {\n",
              "        text-align: right;\n",
              "    }\n",
              "</style>\n",
              "<table border=\"1\" class=\"dataframe\">\n",
              "  <thead>\n",
              "    <tr style=\"text-align: right;\">\n",
              "      <th></th>\n",
              "      <th>Year</th>\n",
              "      <th>Month</th>\n",
              "      <th>Album Title</th>\n",
              "      <th>Artist Name</th>\n",
              "      <th>Genre</th>\n",
              "      <th>Date</th>\n",
              "      <th>Distribution</th>\n",
              "      <th>Rating</th>\n",
              "      <th>Music Count</th>\n",
              "      <th>Date1</th>\n",
              "    </tr>\n",
              "  </thead>\n",
              "  <tbody>\n",
              "    <tr>\n",
              "      <th>1104</th>\n",
              "      <td>2017</td>\n",
              "      <td>12</td>\n",
              "      <td>All I Want For Christmas (EP)</td>\n",
              "      <td>Mariah Carey</td>\n",
              "      <td>NaN</td>\n",
              "      <td>2007.11.26</td>\n",
              "      <td>Sony Music</td>\n",
              "      <td>8.9</td>\n",
              "      <td>3</td>\n",
              "      <td>2007-11-26</td>\n",
              "    </tr>\n",
              "  </tbody>\n",
              "</table>\n",
              "</div>"
            ],
            "text/plain": [
              "      Year  Month  ... Music Count      Date1\n",
              "1104  2017     12  ...           3 2007-11-26\n",
              "\n",
              "[1 rows x 10 columns]"
            ]
          },
          "metadata": {
            "tags": []
          },
          "execution_count": 33
        }
      ]
    },
    {
      "cell_type": "code",
      "metadata": {
        "id": "V375LO8jSmR2",
        "outputId": "b9bfa653-d54d-4e77-c498-da19252317c5",
        "colab": {
          "base_uri": "https://localhost:8080/",
          "height": 193
        }
      },
      "source": [
        "# 보정 = 값을 채움\n",
        "music.Genre.unique()"
      ],
      "execution_count": 34,
      "outputs": [
        {
          "output_type": "execute_result",
          "data": {
            "text/plain": [
              "array(['알앤비/어반', '댄스', '일렉트로니카', '발라드', '드라마음악', '포크,  인디뮤직', '팝',\n",
              "       '발라드,  락,  포크', '랩/힙합', '포크', '락', '팝,  얼터너티브 락', '댄스,  알앤비/어반',\n",
              "       '인디뮤직,  랩/힙합', '발라드,  알앤비/어반', '얼터너티브 락', '인디뮤직', 'TV', '발라드,  댄스',\n",
              "       '클럽/댄스', '발라드,  댄스,  알앤비/어반,  일렉트로니카', '댄스,  일렉트로니카', '영화음악',\n",
              "       '댄스,  발라드', nan, '발라드,  재즈', '팝,  캐롤', '인디뮤직,  포크', '뮤지컬',\n",
              "       '발라드,  알앤비/어반,  포크', '발라드,  댄스,  알앤비/어반', '발라드,  락',\n",
              "       '드라마음악,  드라마음악', '유럽 음악', '댄스,  발라드,  랩/힙합,  알앤비/어반',\n",
              "       '일렉트로니카,  댄스,  알앤비/어반', '댄스,  알앤비/어반,  일렉트로니카',\n",
              "       '알앤비/어반,  발라드,  댄스', '일렉트로니카,  인디뮤직', '일렉트로니카,  댄스,  알앤비/어반,  발라드',\n",
              "       '댄스,  발라드,  알앤비/어반,  랩/힙합,  락'], dtype=object)"
            ]
          },
          "metadata": {
            "tags": []
          },
          "execution_count": 34
        }
      ]
    },
    {
      "cell_type": "code",
      "metadata": {
        "id": "0Fc-LQACS07G",
        "outputId": "66435d14-0f47-4ed5-d24d-ede2d02a61b2",
        "colab": {
          "base_uri": "https://localhost:8080/",
          "height": 35
        }
      },
      "source": [
        "# 데이터 보정 : '팝,  캐롤'\n",
        "music.loc[1104, 'Genre'] = '팝,  캐롤'\n",
        "music.loc[1104, 'Genre']"
      ],
      "execution_count": 35,
      "outputs": [
        {
          "output_type": "execute_result",
          "data": {
            "application/vnd.google.colaboratory.intrinsic+json": {
              "type": "string"
            },
            "text/plain": [
              "'팝,  캐롤'"
            ]
          },
          "metadata": {
            "tags": []
          },
          "execution_count": 35
        }
      ]
    },
    {
      "cell_type": "code",
      "metadata": {
        "id": "od-GE1ntTRtx",
        "outputId": "1b2e8ce3-b4cd-4266-d4df-b8c050099ac0",
        "colab": {
          "base_uri": "https://localhost:8080/",
          "height": 47
        }
      },
      "source": [
        "music[ music.Genre.isna() ]\n",
        "# 결측 처리 끝남"
      ],
      "execution_count": 36,
      "outputs": [
        {
          "output_type": "execute_result",
          "data": {
            "text/html": [
              "<div>\n",
              "<style scoped>\n",
              "    .dataframe tbody tr th:only-of-type {\n",
              "        vertical-align: middle;\n",
              "    }\n",
              "\n",
              "    .dataframe tbody tr th {\n",
              "        vertical-align: top;\n",
              "    }\n",
              "\n",
              "    .dataframe thead th {\n",
              "        text-align: right;\n",
              "    }\n",
              "</style>\n",
              "<table border=\"1\" class=\"dataframe\">\n",
              "  <thead>\n",
              "    <tr style=\"text-align: right;\">\n",
              "      <th></th>\n",
              "      <th>Year</th>\n",
              "      <th>Month</th>\n",
              "      <th>Album Title</th>\n",
              "      <th>Artist Name</th>\n",
              "      <th>Genre</th>\n",
              "      <th>Date</th>\n",
              "      <th>Distribution</th>\n",
              "      <th>Rating</th>\n",
              "      <th>Music Count</th>\n",
              "      <th>Date1</th>\n",
              "    </tr>\n",
              "  </thead>\n",
              "  <tbody>\n",
              "  </tbody>\n",
              "</table>\n",
              "</div>"
            ],
            "text/plain": [
              "Empty DataFrame\n",
              "Columns: [Year, Month, Album Title, Artist Name, Genre, Date, Distribution, Rating, Music Count, Date1]\n",
              "Index: []"
            ]
          },
          "metadata": {
            "tags": []
          },
          "execution_count": 36
        }
      ]
    },
    {
      "cell_type": "markdown",
      "metadata": {
        "id": "I2A3LA8UDSLP"
      },
      "source": [
        "# 데이터 모델"
      ]
    },
    {
      "cell_type": "markdown",
      "metadata": {
        "id": "qqJ4eoTDDyCj"
      },
      "source": [
        "# 시스템 통합"
      ]
    }
  ]
}