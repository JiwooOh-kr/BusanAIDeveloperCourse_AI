{
 "cells": [
  {
   "cell_type": "markdown",
   "metadata": {},
   "source": [
    "# 모듈"
   ]
  },
  {
   "cell_type": "code",
   "execution_count": null,
   "metadata": {},
   "outputs": [],
   "source": [
    "!pip install selenium"
   ]
  },
  {
   "cell_type": "code",
   "execution_count": 58,
   "metadata": {},
   "outputs": [],
   "source": [
    "from selenium import webdriver as wd\n",
    "import time\n",
    "import pandas as pd \n",
    "import random"
   ]
  },
  {
   "cell_type": "code",
   "execution_count": 2,
   "metadata": {
    "tags": []
   },
   "outputs": [],
   "source": [
    "chrome_options = wd.ChromeOptions()\n",
    "chrome_options.add_argument(\"--incognito\")\n",
    "\n",
    "driver = wd.Chrome('./tool/chromedriver.exe', chrome_options=chrome_options)\n",
    "driver.implicitly_wait(3)"
   ]
  },
  {
   "cell_type": "code",
   "execution_count": 28,
   "metadata": {},
   "outputs": [],
   "source": [
    "target_year = '2019'\n",
    "target_month = '02'\n",
    "target_day = '29'\n",
    "\n",
    "target_site = f'http://www.kbreport.com/teams/main?rows=20&order=TPCT&orderType=DESC&teamId=&defense_no=&year_from=2015&year_to=2020&split01=day&split02_1={target_year}-{target_month}-{target_day}&split02_2={target_year}-{target_month}-{target_day}'\n",
    "driver.get(target_site)"
   ]
  },
  {
   "cell_type": "code",
   "execution_count": 48,
   "metadata": {
    "tags": []
   },
   "outputs": [
    {
     "output_type": "execute_result",
     "data": {
      "text/plain": "     연도   월   일    팀명  승  무  패   R/G 득점 홈런 도루   볼넷%   삼진%  BABIP     타율  \\\n0  2015  05  21    LG  1  0  0  4.00  4  2  2  14.0  20.9  0.400  0.323   \n1  2015  05  21    롯데  1  0  0  4.00  4  1  0   6.1  18.2  0.304  0.267   \n2  2015  05  21    삼성  1  0  0  6.00  6  1  2  10.5   7.9  0.267  0.265   \n3  2015  05  21    한화  1  0  0  7.00  7  2  0   4.9  17.1  0.276  0.263   \n4  2015  05  21    NC  1  0  0  5.00  5  2  1  13.5  18.9  0.273  0.258   \n5  2015  05  21   KIA  0  0  1  2.00  2  1  1   5.4  16.2  0.296  0.265   \n6  2015  05  21    KT  0  0  1  2.00  2  0  2   7.7  20.5  0.333  0.257   \n7  2015  05  21  Hero  0  0  1  3.00  3  1  0   0.0  29.4  0.304  0.235   \n8  2015  05  21    두산  0  0  1  1.00  1  0  0   6.2  21.9  0.217  0.167   \n9  2015  05  21    SK  0  0  1  1.00  1  0  1  18.9  24.3  0.190  0.133   \n\n     출루율    장타율    OPS   wOBA  \n0  0.475  0.548  1.023  0.457  \n1  0.333  0.467  0.800  0.353  \n2  0.342  0.441  0.783  0.349  \n3  0.300  0.500  0.800  0.344  \n4  0.361  0.548  0.909  0.391  \n5  0.306  0.382  0.688  0.308  \n6  0.333  0.257  0.590  0.288  \n7  0.235  0.382  0.617  0.267  \n8  0.219  0.200  0.419  0.200  \n9  0.297  0.133  0.430  0.236  ",
      "text/html": "<div>\n<style scoped>\n    .dataframe tbody tr th:only-of-type {\n        vertical-align: middle;\n    }\n\n    .dataframe tbody tr th {\n        vertical-align: top;\n    }\n\n    .dataframe thead th {\n        text-align: right;\n    }\n</style>\n<table border=\"1\" class=\"dataframe\">\n  <thead>\n    <tr style=\"text-align: right;\">\n      <th></th>\n      <th>연도</th>\n      <th>월</th>\n      <th>일</th>\n      <th>팀명</th>\n      <th>승</th>\n      <th>무</th>\n      <th>패</th>\n      <th>R/G</th>\n      <th>득점</th>\n      <th>홈런</th>\n      <th>도루</th>\n      <th>볼넷%</th>\n      <th>삼진%</th>\n      <th>BABIP</th>\n      <th>타율</th>\n      <th>출루율</th>\n      <th>장타율</th>\n      <th>OPS</th>\n      <th>wOBA</th>\n    </tr>\n  </thead>\n  <tbody>\n    <tr>\n      <th>0</th>\n      <td>2015</td>\n      <td>05</td>\n      <td>21</td>\n      <td>LG</td>\n      <td>1</td>\n      <td>0</td>\n      <td>0</td>\n      <td>4.00</td>\n      <td>4</td>\n      <td>2</td>\n      <td>2</td>\n      <td>14.0</td>\n      <td>20.9</td>\n      <td>0.400</td>\n      <td>0.323</td>\n      <td>0.475</td>\n      <td>0.548</td>\n      <td>1.023</td>\n      <td>0.457</td>\n    </tr>\n    <tr>\n      <th>1</th>\n      <td>2015</td>\n      <td>05</td>\n      <td>21</td>\n      <td>롯데</td>\n      <td>1</td>\n      <td>0</td>\n      <td>0</td>\n      <td>4.00</td>\n      <td>4</td>\n      <td>1</td>\n      <td>0</td>\n      <td>6.1</td>\n      <td>18.2</td>\n      <td>0.304</td>\n      <td>0.267</td>\n      <td>0.333</td>\n      <td>0.467</td>\n      <td>0.800</td>\n      <td>0.353</td>\n    </tr>\n    <tr>\n      <th>2</th>\n      <td>2015</td>\n      <td>05</td>\n      <td>21</td>\n      <td>삼성</td>\n      <td>1</td>\n      <td>0</td>\n      <td>0</td>\n      <td>6.00</td>\n      <td>6</td>\n      <td>1</td>\n      <td>2</td>\n      <td>10.5</td>\n      <td>7.9</td>\n      <td>0.267</td>\n      <td>0.265</td>\n      <td>0.342</td>\n      <td>0.441</td>\n      <td>0.783</td>\n      <td>0.349</td>\n    </tr>\n    <tr>\n      <th>3</th>\n      <td>2015</td>\n      <td>05</td>\n      <td>21</td>\n      <td>한화</td>\n      <td>1</td>\n      <td>0</td>\n      <td>0</td>\n      <td>7.00</td>\n      <td>7</td>\n      <td>2</td>\n      <td>0</td>\n      <td>4.9</td>\n      <td>17.1</td>\n      <td>0.276</td>\n      <td>0.263</td>\n      <td>0.300</td>\n      <td>0.500</td>\n      <td>0.800</td>\n      <td>0.344</td>\n    </tr>\n    <tr>\n      <th>4</th>\n      <td>2015</td>\n      <td>05</td>\n      <td>21</td>\n      <td>NC</td>\n      <td>1</td>\n      <td>0</td>\n      <td>0</td>\n      <td>5.00</td>\n      <td>5</td>\n      <td>2</td>\n      <td>1</td>\n      <td>13.5</td>\n      <td>18.9</td>\n      <td>0.273</td>\n      <td>0.258</td>\n      <td>0.361</td>\n      <td>0.548</td>\n      <td>0.909</td>\n      <td>0.391</td>\n    </tr>\n    <tr>\n      <th>5</th>\n      <td>2015</td>\n      <td>05</td>\n      <td>21</td>\n      <td>KIA</td>\n      <td>0</td>\n      <td>0</td>\n      <td>1</td>\n      <td>2.00</td>\n      <td>2</td>\n      <td>1</td>\n      <td>1</td>\n      <td>5.4</td>\n      <td>16.2</td>\n      <td>0.296</td>\n      <td>0.265</td>\n      <td>0.306</td>\n      <td>0.382</td>\n      <td>0.688</td>\n      <td>0.308</td>\n    </tr>\n    <tr>\n      <th>6</th>\n      <td>2015</td>\n      <td>05</td>\n      <td>21</td>\n      <td>KT</td>\n      <td>0</td>\n      <td>0</td>\n      <td>1</td>\n      <td>2.00</td>\n      <td>2</td>\n      <td>0</td>\n      <td>2</td>\n      <td>7.7</td>\n      <td>20.5</td>\n      <td>0.333</td>\n      <td>0.257</td>\n      <td>0.333</td>\n      <td>0.257</td>\n      <td>0.590</td>\n      <td>0.288</td>\n    </tr>\n    <tr>\n      <th>7</th>\n      <td>2015</td>\n      <td>05</td>\n      <td>21</td>\n      <td>Hero</td>\n      <td>0</td>\n      <td>0</td>\n      <td>1</td>\n      <td>3.00</td>\n      <td>3</td>\n      <td>1</td>\n      <td>0</td>\n      <td>0.0</td>\n      <td>29.4</td>\n      <td>0.304</td>\n      <td>0.235</td>\n      <td>0.235</td>\n      <td>0.382</td>\n      <td>0.617</td>\n      <td>0.267</td>\n    </tr>\n    <tr>\n      <th>8</th>\n      <td>2015</td>\n      <td>05</td>\n      <td>21</td>\n      <td>두산</td>\n      <td>0</td>\n      <td>0</td>\n      <td>1</td>\n      <td>1.00</td>\n      <td>1</td>\n      <td>0</td>\n      <td>0</td>\n      <td>6.2</td>\n      <td>21.9</td>\n      <td>0.217</td>\n      <td>0.167</td>\n      <td>0.219</td>\n      <td>0.200</td>\n      <td>0.419</td>\n      <td>0.200</td>\n    </tr>\n    <tr>\n      <th>9</th>\n      <td>2015</td>\n      <td>05</td>\n      <td>21</td>\n      <td>SK</td>\n      <td>0</td>\n      <td>0</td>\n      <td>1</td>\n      <td>1.00</td>\n      <td>1</td>\n      <td>0</td>\n      <td>1</td>\n      <td>18.9</td>\n      <td>24.3</td>\n      <td>0.190</td>\n      <td>0.133</td>\n      <td>0.297</td>\n      <td>0.133</td>\n      <td>0.430</td>\n      <td>0.236</td>\n    </tr>\n  </tbody>\n</table>\n</div>"
     },
     "metadata": {},
     "execution_count": 48
    }
   ],
   "source": [
    "results = list()\n",
    "pre_df = list()\n",
    "\n",
    "for td in driver.find_elements_by_css_selector('#resultListDiv > table > tbody > tr') :\n",
    "    results.append(td.text.split())\n",
    "            \n",
    "if len(results) == 12 :\n",
    "    for i in range (1, 11) :\n",
    "            pre_df.append({\n",
    "                    \"연도\" : target_year,\n",
    "                    \"월\"   : target_month,\n",
    "                    \"일\"   : target_day,\n",
    "                    \"팀명\" : results[i][1],\n",
    "                    '승' : results[i][3], \n",
    "                    '무' : results[i][4], \n",
    "                    '패' : results[i][5], \n",
    "                    'R/G' : results[i][8], \n",
    "                    '득점' : results[i][9], \n",
    "                    '홈런' : results[i][10], \n",
    "                    '도루' : results[i][11], \n",
    "                    '볼넷%' : results[i][12], \n",
    "                    '삼진%' : results[i][13], \n",
    "                    'BABIP' : results[i][14], \n",
    "                    '타율' : results[i][15], \n",
    "                    '출루율' : results[i][16], \n",
    "                    '장타율' : results[i][17], \n",
    "                    'OPS' : results[i][18],\n",
    "                    'wOBA' : results[i][19]\n",
    "            }) \n",
    "\n",
    "dfhm = pd.DataFrame(pre_df)\n",
    "dfhm"
   ]
  },
  {
   "cell_type": "code",
   "execution_count": 55,
   "metadata": {},
   "outputs": [],
   "source": [
    "pre_df_team = list()\n",
    "target_year_ls = ['2015', '2016', '2017', '2018', '2019', '2020']\n",
    "target_month_ls = ['03', '04', '05', '06', '07', '08', '09', '10', '11']\n",
    "target_day_ls = ['01', '02', '03', '04', '05', '06', '07', '08', '09', '10', '11', '12', '13', '14', '15', '16', '17', '18', '19', '20', '21', '22', '23', '24', '25', '26', '27', '28', '29', '30', '31']"
   ]
  },
  {
   "cell_type": "code",
   "execution_count": 72,
   "metadata": {},
   "outputs": [
    {
     "output_type": "error",
     "ename": "KeyboardInterrupt",
     "evalue": "",
     "traceback": [
      "\u001b[1;31m---------------------------------------------------------------------------\u001b[0m",
      "\u001b[1;31mKeyboardInterrupt\u001b[0m                         Traceback (most recent call last)",
      "\u001b[1;32m<ipython-input-72-2589fd50703e>\u001b[0m in \u001b[0;36m<module>\u001b[1;34m\u001b[0m\n\u001b[0;32m      5\u001b[0m             \u001b[0mdriver\u001b[0m\u001b[1;33m.\u001b[0m\u001b[0mget\u001b[0m\u001b[1;33m(\u001b[0m\u001b[0mtarget_site\u001b[0m\u001b[1;33m)\u001b[0m\u001b[1;33m\u001b[0m\u001b[1;33m\u001b[0m\u001b[0m\n\u001b[0;32m      6\u001b[0m             \u001b[0mrandom_d\u001b[0m \u001b[1;33m=\u001b[0m \u001b[0mrandom\u001b[0m\u001b[1;33m.\u001b[0m\u001b[0mrandrange\u001b[0m\u001b[1;33m(\u001b[0m\u001b[1;36m7\u001b[0m\u001b[1;33m,\u001b[0m\u001b[1;36m15\u001b[0m\u001b[1;33m)\u001b[0m\u001b[1;33m\u001b[0m\u001b[1;33m\u001b[0m\u001b[0m\n\u001b[1;32m----> 7\u001b[1;33m             \u001b[0mtime\u001b[0m\u001b[1;33m.\u001b[0m\u001b[0msleep\u001b[0m\u001b[1;33m(\u001b[0m\u001b[0mrandom_d\u001b[0m\u001b[1;33m)\u001b[0m\u001b[1;33m\u001b[0m\u001b[1;33m\u001b[0m\u001b[0m\n\u001b[0m\u001b[0;32m      8\u001b[0m \u001b[1;33m\u001b[0m\u001b[0m\n\u001b[0;32m      9\u001b[0m             \u001b[0mdriver\u001b[0m\u001b[1;33m.\u001b[0m\u001b[0mfind_elements_by_css_selector\u001b[0m\u001b[1;33m(\u001b[0m\u001b[1;34m'#resultListDiv > table > tbody > tr'\u001b[0m\u001b[1;33m)\u001b[0m\u001b[1;33m\u001b[0m\u001b[1;33m\u001b[0m\u001b[0m\n",
      "\u001b[1;31mKeyboardInterrupt\u001b[0m: "
     ]
    }
   ],
   "source": [
    "for target_year in target_year_ls :\n",
    "    for target_month in target_month_ls :\n",
    "        for target_day in target_day_ls :\n",
    "            target_site = f'http://www.kbreport.com/teams/main?rows=20&order=TPCT&orderType=DESC&teamId=&defense_no=&year_from=2015&year_to=2020&split01=day&split02_1={target_year}-{target_month}-{target_day}&split02_2={target_year}-{target_month}-{target_day}'\n",
    "            driver.get(target_site)\n",
    "            random_d = random.randrange(10,15)\n",
    "            time.sleep(random_d)\n",
    "\n",
    "            driver.find_elements_by_css_selector('#resultListDiv > table > tbody > tr')\n",
    "            results = list()\n",
    "\n",
    "            for td in driver.find_elements_by_css_selector('#resultListDiv > table > tbody > tr') :\n",
    "                results.append(td.text.split())\n",
    "                        \n",
    "            if len(results) == 12 :\n",
    "                for i in range (1, 11) :\n",
    "                    pre_df_team.append({\n",
    "                            \"연도\" : target_year,\n",
    "                            \"월\"   : target_month,\n",
    "                            \"일\"   : target_day,\n",
    "                            \"팀명\" : results[i][1],\n",
    "                            '승' : results[i][3], \n",
    "                            '무' : results[i][4], \n",
    "                            '패' : results[i][5], \n",
    "                            'R/G' : results[i][8], \n",
    "                            '득점' : results[i][9], \n",
    "                            '홈런' : results[i][10], \n",
    "                            '도루' : results[i][11], \n",
    "                            '볼넷%' : results[i][12], \n",
    "                            '삼진%' : results[i][13], \n",
    "                            'BABIP' : results[i][14], \n",
    "                            '타율' : results[i][15], \n",
    "                            '출루율' : results[i][16], \n",
    "                            '장타율' : results[i][17], \n",
    "                            'OPS' : results[i][18],\n",
    "                            'wOBA' : results[i][19]\n",
    "                            }) \n",
    "        random_m = random.randrange(10,15)\n",
    "        time.sleep(random_m)\n",
    "    random_y = random.randrange(10,15)\n",
    "    time.sleep(random_y)"
   ]
  },
  {
   "cell_type": "code",
   "execution_count": 57,
   "metadata": {},
   "outputs": [
    {
     "output_type": "execute_result",
     "data": {
      "text/plain": "      연도   월   일    팀명  승  무  패    R/G  득점 홈런 도루   볼넷%   삼진%  BABIP     타율  \\\n0   2015  03  28    롯데  1  0  0  12.00  12  2  2   7.1  19.0  0.444  0.378   \n1   2015  03  28    두산  1  0  0   9.00   9  2  1  14.0   7.0  0.323  0.343   \n2   2015  03  28    삼성  1  0  0   6.00   6  0  3   9.5  11.9  0.394  0.342   \n3   2015  03  28   KIA  1  0  0   3.00   3  1  2   8.8  14.7  0.280  0.267   \n4   2015  03  28  Hero  1  0  0   5.00   5  2  2  13.0  15.2  0.194  0.200   \n5   2015  03  28    KT  0  0  1   9.00   9  2  1  17.4  17.4  0.462  0.400   \n6   2015  03  28    NC  0  0  1   4.00   4  0  2  10.5  21.0  0.360  0.290   \n7   2015  03  28    LG  0  0  1   1.00   1  0  0  11.8  17.6  0.304  0.241   \n8   2015  03  28    한화  0  0  1   4.00   4  0  4  13.0  13.0  0.278  0.238   \n9   2015  03  28    SK  0  0  1   1.00   1  0  0  13.9  22.2  0.217  0.161   \n10  2015  03  29   KIA  1  0  0   7.00   7  3  0  15.4   5.1  0.240  0.300   \n11  2015  03  29    한화  1  0  0   5.00   5  1  2  14.6  22.0  0.364  0.281   \n12  2015  03  29    SK  1  0  0   7.00   7  1  1  10.0  12.5  0.286  0.273   \n13  2015  03  29    두산  1  0  0   4.00   4  2  0   0.0   6.9  0.200  0.241   \n14  2015  03  29    롯데  1  0  0   5.00   5  2  2  23.1  20.5  0.211  0.207   \n15  2015  03  29    LG  0  0  1   6.00   6  0  3   7.0  14.0  0.441  0.385   \n16  2015  03  29    NC  0  0  1   1.00   1  0  0   5.3   2.6  0.257  0.250   \n17  2015  03  29    삼성  0  0  1   3.00   3  1  3  12.5  10.0  0.241  0.235   \n18  2015  03  29    KT  0  0  1   4.00   4  0  1  15.0  15.0  0.286  0.235   \n19  2015  03  29  Hero  0  0  1   3.00   3  0  0  10.3  18.0  0.269  0.212   \n\n      출루율    장타율    OPS   wOBA  \n0   0.439  0.676  1.115  0.479  \n1   0.429  0.571  1.000  0.427  \n2   0.405  0.421  0.826  0.378  \n3   0.324  0.467  0.791  0.344  \n4   0.304  0.400  0.704  0.315  \n5   0.511  0.600  1.111  0.486  \n6   0.368  0.290  0.658  0.314  \n7   0.333  0.379  0.712  0.328  \n8   0.353  0.286  0.639  0.309  \n9   0.278  0.258  0.536  0.260  \n10  0.432  0.633  1.065  0.456  \n11  0.425  0.438  0.863  0.398  \n12  0.342  0.424  0.766  0.340  \n13  0.241  0.448  0.689  0.293  \n14  0.410  0.448  0.858  0.391  \n15  0.419  0.513  0.932  0.412  \n16  0.289  0.333  0.622  0.283  \n17  0.350  0.324  0.674  0.320  \n18  0.350  0.294  0.644  0.288  \n19  0.333  0.273  0.606  0.297  ",
      "text/html": "<div>\n<style scoped>\n    .dataframe tbody tr th:only-of-type {\n        vertical-align: middle;\n    }\n\n    .dataframe tbody tr th {\n        vertical-align: top;\n    }\n\n    .dataframe thead th {\n        text-align: right;\n    }\n</style>\n<table border=\"1\" class=\"dataframe\">\n  <thead>\n    <tr style=\"text-align: right;\">\n      <th></th>\n      <th>연도</th>\n      <th>월</th>\n      <th>일</th>\n      <th>팀명</th>\n      <th>승</th>\n      <th>무</th>\n      <th>패</th>\n      <th>R/G</th>\n      <th>득점</th>\n      <th>홈런</th>\n      <th>도루</th>\n      <th>볼넷%</th>\n      <th>삼진%</th>\n      <th>BABIP</th>\n      <th>타율</th>\n      <th>출루율</th>\n      <th>장타율</th>\n      <th>OPS</th>\n      <th>wOBA</th>\n    </tr>\n  </thead>\n  <tbody>\n    <tr>\n      <th>0</th>\n      <td>2015</td>\n      <td>03</td>\n      <td>28</td>\n      <td>롯데</td>\n      <td>1</td>\n      <td>0</td>\n      <td>0</td>\n      <td>12.00</td>\n      <td>12</td>\n      <td>2</td>\n      <td>2</td>\n      <td>7.1</td>\n      <td>19.0</td>\n      <td>0.444</td>\n      <td>0.378</td>\n      <td>0.439</td>\n      <td>0.676</td>\n      <td>1.115</td>\n      <td>0.479</td>\n    </tr>\n    <tr>\n      <th>1</th>\n      <td>2015</td>\n      <td>03</td>\n      <td>28</td>\n      <td>두산</td>\n      <td>1</td>\n      <td>0</td>\n      <td>0</td>\n      <td>9.00</td>\n      <td>9</td>\n      <td>2</td>\n      <td>1</td>\n      <td>14.0</td>\n      <td>7.0</td>\n      <td>0.323</td>\n      <td>0.343</td>\n      <td>0.429</td>\n      <td>0.571</td>\n      <td>1.000</td>\n      <td>0.427</td>\n    </tr>\n    <tr>\n      <th>2</th>\n      <td>2015</td>\n      <td>03</td>\n      <td>28</td>\n      <td>삼성</td>\n      <td>1</td>\n      <td>0</td>\n      <td>0</td>\n      <td>6.00</td>\n      <td>6</td>\n      <td>0</td>\n      <td>3</td>\n      <td>9.5</td>\n      <td>11.9</td>\n      <td>0.394</td>\n      <td>0.342</td>\n      <td>0.405</td>\n      <td>0.421</td>\n      <td>0.826</td>\n      <td>0.378</td>\n    </tr>\n    <tr>\n      <th>3</th>\n      <td>2015</td>\n      <td>03</td>\n      <td>28</td>\n      <td>KIA</td>\n      <td>1</td>\n      <td>0</td>\n      <td>0</td>\n      <td>3.00</td>\n      <td>3</td>\n      <td>1</td>\n      <td>2</td>\n      <td>8.8</td>\n      <td>14.7</td>\n      <td>0.280</td>\n      <td>0.267</td>\n      <td>0.324</td>\n      <td>0.467</td>\n      <td>0.791</td>\n      <td>0.344</td>\n    </tr>\n    <tr>\n      <th>4</th>\n      <td>2015</td>\n      <td>03</td>\n      <td>28</td>\n      <td>Hero</td>\n      <td>1</td>\n      <td>0</td>\n      <td>0</td>\n      <td>5.00</td>\n      <td>5</td>\n      <td>2</td>\n      <td>2</td>\n      <td>13.0</td>\n      <td>15.2</td>\n      <td>0.194</td>\n      <td>0.200</td>\n      <td>0.304</td>\n      <td>0.400</td>\n      <td>0.704</td>\n      <td>0.315</td>\n    </tr>\n    <tr>\n      <th>5</th>\n      <td>2015</td>\n      <td>03</td>\n      <td>28</td>\n      <td>KT</td>\n      <td>0</td>\n      <td>0</td>\n      <td>1</td>\n      <td>9.00</td>\n      <td>9</td>\n      <td>2</td>\n      <td>1</td>\n      <td>17.4</td>\n      <td>17.4</td>\n      <td>0.462</td>\n      <td>0.400</td>\n      <td>0.511</td>\n      <td>0.600</td>\n      <td>1.111</td>\n      <td>0.486</td>\n    </tr>\n    <tr>\n      <th>6</th>\n      <td>2015</td>\n      <td>03</td>\n      <td>28</td>\n      <td>NC</td>\n      <td>0</td>\n      <td>0</td>\n      <td>1</td>\n      <td>4.00</td>\n      <td>4</td>\n      <td>0</td>\n      <td>2</td>\n      <td>10.5</td>\n      <td>21.0</td>\n      <td>0.360</td>\n      <td>0.290</td>\n      <td>0.368</td>\n      <td>0.290</td>\n      <td>0.658</td>\n      <td>0.314</td>\n    </tr>\n    <tr>\n      <th>7</th>\n      <td>2015</td>\n      <td>03</td>\n      <td>28</td>\n      <td>LG</td>\n      <td>0</td>\n      <td>0</td>\n      <td>1</td>\n      <td>1.00</td>\n      <td>1</td>\n      <td>0</td>\n      <td>0</td>\n      <td>11.8</td>\n      <td>17.6</td>\n      <td>0.304</td>\n      <td>0.241</td>\n      <td>0.333</td>\n      <td>0.379</td>\n      <td>0.712</td>\n      <td>0.328</td>\n    </tr>\n    <tr>\n      <th>8</th>\n      <td>2015</td>\n      <td>03</td>\n      <td>28</td>\n      <td>한화</td>\n      <td>0</td>\n      <td>0</td>\n      <td>1</td>\n      <td>4.00</td>\n      <td>4</td>\n      <td>0</td>\n      <td>4</td>\n      <td>13.0</td>\n      <td>13.0</td>\n      <td>0.278</td>\n      <td>0.238</td>\n      <td>0.353</td>\n      <td>0.286</td>\n      <td>0.639</td>\n      <td>0.309</td>\n    </tr>\n    <tr>\n      <th>9</th>\n      <td>2015</td>\n      <td>03</td>\n      <td>28</td>\n      <td>SK</td>\n      <td>0</td>\n      <td>0</td>\n      <td>1</td>\n      <td>1.00</td>\n      <td>1</td>\n      <td>0</td>\n      <td>0</td>\n      <td>13.9</td>\n      <td>22.2</td>\n      <td>0.217</td>\n      <td>0.161</td>\n      <td>0.278</td>\n      <td>0.258</td>\n      <td>0.536</td>\n      <td>0.260</td>\n    </tr>\n    <tr>\n      <th>10</th>\n      <td>2015</td>\n      <td>03</td>\n      <td>29</td>\n      <td>KIA</td>\n      <td>1</td>\n      <td>0</td>\n      <td>0</td>\n      <td>7.00</td>\n      <td>7</td>\n      <td>3</td>\n      <td>0</td>\n      <td>15.4</td>\n      <td>5.1</td>\n      <td>0.240</td>\n      <td>0.300</td>\n      <td>0.432</td>\n      <td>0.633</td>\n      <td>1.065</td>\n      <td>0.456</td>\n    </tr>\n    <tr>\n      <th>11</th>\n      <td>2015</td>\n      <td>03</td>\n      <td>29</td>\n      <td>한화</td>\n      <td>1</td>\n      <td>0</td>\n      <td>0</td>\n      <td>5.00</td>\n      <td>5</td>\n      <td>1</td>\n      <td>2</td>\n      <td>14.6</td>\n      <td>22.0</td>\n      <td>0.364</td>\n      <td>0.281</td>\n      <td>0.425</td>\n      <td>0.438</td>\n      <td>0.863</td>\n      <td>0.398</td>\n    </tr>\n    <tr>\n      <th>12</th>\n      <td>2015</td>\n      <td>03</td>\n      <td>29</td>\n      <td>SK</td>\n      <td>1</td>\n      <td>0</td>\n      <td>0</td>\n      <td>7.00</td>\n      <td>7</td>\n      <td>1</td>\n      <td>1</td>\n      <td>10.0</td>\n      <td>12.5</td>\n      <td>0.286</td>\n      <td>0.273</td>\n      <td>0.342</td>\n      <td>0.424</td>\n      <td>0.766</td>\n      <td>0.340</td>\n    </tr>\n    <tr>\n      <th>13</th>\n      <td>2015</td>\n      <td>03</td>\n      <td>29</td>\n      <td>두산</td>\n      <td>1</td>\n      <td>0</td>\n      <td>0</td>\n      <td>4.00</td>\n      <td>4</td>\n      <td>2</td>\n      <td>0</td>\n      <td>0.0</td>\n      <td>6.9</td>\n      <td>0.200</td>\n      <td>0.241</td>\n      <td>0.241</td>\n      <td>0.448</td>\n      <td>0.689</td>\n      <td>0.293</td>\n    </tr>\n    <tr>\n      <th>14</th>\n      <td>2015</td>\n      <td>03</td>\n      <td>29</td>\n      <td>롯데</td>\n      <td>1</td>\n      <td>0</td>\n      <td>0</td>\n      <td>5.00</td>\n      <td>5</td>\n      <td>2</td>\n      <td>2</td>\n      <td>23.1</td>\n      <td>20.5</td>\n      <td>0.211</td>\n      <td>0.207</td>\n      <td>0.410</td>\n      <td>0.448</td>\n      <td>0.858</td>\n      <td>0.391</td>\n    </tr>\n    <tr>\n      <th>15</th>\n      <td>2015</td>\n      <td>03</td>\n      <td>29</td>\n      <td>LG</td>\n      <td>0</td>\n      <td>0</td>\n      <td>1</td>\n      <td>6.00</td>\n      <td>6</td>\n      <td>0</td>\n      <td>3</td>\n      <td>7.0</td>\n      <td>14.0</td>\n      <td>0.441</td>\n      <td>0.385</td>\n      <td>0.419</td>\n      <td>0.513</td>\n      <td>0.932</td>\n      <td>0.412</td>\n    </tr>\n    <tr>\n      <th>16</th>\n      <td>2015</td>\n      <td>03</td>\n      <td>29</td>\n      <td>NC</td>\n      <td>0</td>\n      <td>0</td>\n      <td>1</td>\n      <td>1.00</td>\n      <td>1</td>\n      <td>0</td>\n      <td>0</td>\n      <td>5.3</td>\n      <td>2.6</td>\n      <td>0.257</td>\n      <td>0.250</td>\n      <td>0.289</td>\n      <td>0.333</td>\n      <td>0.622</td>\n      <td>0.283</td>\n    </tr>\n    <tr>\n      <th>17</th>\n      <td>2015</td>\n      <td>03</td>\n      <td>29</td>\n      <td>삼성</td>\n      <td>0</td>\n      <td>0</td>\n      <td>1</td>\n      <td>3.00</td>\n      <td>3</td>\n      <td>1</td>\n      <td>3</td>\n      <td>12.5</td>\n      <td>10.0</td>\n      <td>0.241</td>\n      <td>0.235</td>\n      <td>0.350</td>\n      <td>0.324</td>\n      <td>0.674</td>\n      <td>0.320</td>\n    </tr>\n    <tr>\n      <th>18</th>\n      <td>2015</td>\n      <td>03</td>\n      <td>29</td>\n      <td>KT</td>\n      <td>0</td>\n      <td>0</td>\n      <td>1</td>\n      <td>4.00</td>\n      <td>4</td>\n      <td>0</td>\n      <td>1</td>\n      <td>15.0</td>\n      <td>15.0</td>\n      <td>0.286</td>\n      <td>0.235</td>\n      <td>0.350</td>\n      <td>0.294</td>\n      <td>0.644</td>\n      <td>0.288</td>\n    </tr>\n    <tr>\n      <th>19</th>\n      <td>2015</td>\n      <td>03</td>\n      <td>29</td>\n      <td>Hero</td>\n      <td>0</td>\n      <td>0</td>\n      <td>1</td>\n      <td>3.00</td>\n      <td>3</td>\n      <td>0</td>\n      <td>0</td>\n      <td>10.3</td>\n      <td>18.0</td>\n      <td>0.269</td>\n      <td>0.212</td>\n      <td>0.333</td>\n      <td>0.273</td>\n      <td>0.606</td>\n      <td>0.297</td>\n    </tr>\n  </tbody>\n</table>\n</div>"
     },
     "metadata": {},
     "execution_count": 57
    }
   ],
   "source": [
    "df = pd.DataFrame(pre_df_team)\n",
    "df"
   ]
  },
  {
   "cell_type": "code",
   "execution_count": 30,
   "metadata": {},
   "outputs": [],
   "source": [
    "driver.close()\n",
    "driver.quit()"
   ]
  }
 ],
 "metadata": {
  "language_info": {
   "codemirror_mode": {
    "name": "ipython",
    "version": 3
   },
   "file_extension": ".py",
   "mimetype": "text/x-python",
   "name": "python",
   "nbconvert_exporter": "python",
   "pygments_lexer": "ipython3",
   "version": "3.7.6-final"
  },
  "orig_nbformat": 2,
  "kernelspec": {
   "name": "python3",
   "display_name": "Python 3"
  }
 },
 "nbformat": 4,
 "nbformat_minor": 2
}