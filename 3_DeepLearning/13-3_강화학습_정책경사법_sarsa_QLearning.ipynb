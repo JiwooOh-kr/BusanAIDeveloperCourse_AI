{
  "nbformat": 4,
  "nbformat_minor": 0,
  "metadata": {
    "colab": {
      "name": "13-3_강화학습_정책경사법_sarsa_QLearning.ipynb",
      "provenance": [],
      "collapsed_sections": [],
      "toc_visible": true,
      "include_colab_link": true
    },
    "kernelspec": {
      "name": "python3",
      "display_name": "Python 3"
    }
  },
  "cells": [
    {
      "cell_type": "markdown",
      "metadata": {
        "id": "view-in-github",
        "colab_type": "text"
      },
      "source": [
        "<a href=\"https://colab.research.google.com/github/jkjh23/BusanAIDeveloperCourse_AI/blob/master/3_DeepLearning/13-3_%EA%B0%95%ED%99%94%ED%95%99%EC%8A%B5_%EC%A0%95%EC%B1%85%EA%B2%BD%EC%82%AC%EB%B2%95_sarsa_QLearning.ipynb\" target=\"_parent\"><img src=\"https://colab.research.google.com/assets/colab-badge.svg\" alt=\"Open In Colab\"/></a>"
      ]
    },
    {
      "cell_type": "markdown",
      "metadata": {
        "id": "ZfXkpmoi_qkS"
      },
      "source": [
        "# 정책 경사법을 활용한 미로 게임"
      ]
    },
    {
      "cell_type": "markdown",
      "metadata": {
        "id": "6WY1OYY6_uTB"
      },
      "source": [
        "- 정책 계산 방법 > 정책 반복법 > 정책 경사법\n",
        "  - 행동을 중시\n",
        "  - 정책을 갱신 => 정책 기준으로 행동을 수행"
      ]
    },
    {
      "cell_type": "markdown",
      "metadata": {
        "id": "xEJE7-je_8KB"
      },
      "source": [
        "# 가치 반복법을 활용한 미로게임"
      ]
    },
    {
      "cell_type": "markdown",
      "metadata": {
        "id": "Qv2P9l42__1I"
      },
      "source": [
        "- 정책 계산 방법 > 가치 반복법 > Sarsa(살사), Q Learning(큐러닝)\n",
        "  - 가치를 중시\n",
        "  - 정책을 갱신 => 정책 기준으로 행동을 수행"
      ]
    },
    {
      "cell_type": "markdown",
      "metadata": {
        "id": "NzralJqDAZVS"
      },
      "source": [
        "# 미로게임\n"
      ]
    },
    {
      "cell_type": "markdown",
      "metadata": {
        "id": "iMA4DPV6AcNw"
      },
      "source": [
        "- 미로 게임은 입구와 출구가 각각 1개만 존재\n",
        "- 바둑판과 같은 사격형에 열린 곳과 막힌 곳이 존재\n",
        "- 에이전트(마우스, 쥐)는 4방향으로 이동이 가능\n",
        "  - 상:0, 우:1, 하:2, 좌:3 \n",
        "  - 시계 방향으로 수치를 배치\n",
        "- 게임판 수직에서 밑으로 투시해서 보는 직각으로 보는 뷰로 설정\n",
        "- 게임판 3x3\n",
        "  - 바둑판은 9칸\n",
        "- 목적\n",
        "  - 에이전트는 최단거리로 입구에서 출발하여 출구로 나간다"
      ]
    },
    {
      "cell_type": "code",
      "metadata": {
        "id": "lXPPLnmvBUje"
      },
      "source": [
        "# 모듈 가져오기\n",
        "import numpy as np\n",
        "import matplotlib.pyplot as plt\n",
        "%matplotlib inline"
      ],
      "execution_count": null,
      "outputs": []
    },
    {
      "cell_type": "code",
      "metadata": {
        "id": "4hSccdZFBv6_",
        "outputId": "1efb8691-838e-4220-d7f0-e347d82aa4ca",
        "colab": {
          "base_uri": "https://localhost:8080/",
          "height": 194
        }
      },
      "source": [
        "# 게임판 그리기\n",
        "fig = plt.figure( figsize=(3,3) )\n",
        "\n",
        "# 외곽 벽그리기\n",
        "plt.plot( [0,3], [3,3], color='k') # 맨위 수평선\n",
        "plt.plot( [0,3], [0,0], color='k') # 맨아래 수평선\n",
        "plt.plot( [0,0], [0,2], color='k') # 왼쪽 수직선, 입구 표시\n",
        "plt.plot( [3,3], [1,3], color='k') # 오른쪽 수직선, 출구 표시\n",
        "\n",
        "# 내부 벽 그리기\n",
        "plt.plot( [1,1], [1,2], color='k') \n",
        "plt.plot( [2,3], [2,2], color='k')\n",
        "plt.plot( [1,2], [1,1], color='k')\n",
        "plt.plot( [2,2], [0,1], color='k')\n",
        "\n",
        "# 각 포인트에 숫자 표현\n",
        "for n in range( 3 ):\n",
        "  for m in range( 3 ):\n",
        "      plt.text( n+0.5, 3-m-0.5, str(n+m*3), size=20, ha='center', va='center' )\n",
        "\n",
        "# 에이전트 그리기\n",
        "mouse = plt.plot( 0.5, 2.5, marker='o', color='#dadada', markersize=40 )\n",
        "\n",
        "# 눈금 정리 -> 제거\n",
        "plt.tick_params( \n",
        "                #axis='both', \n",
        "                #which='both', \n",
        "                 bottom=False, left=False, #right=False, top=False, \n",
        "                 labelbottom=False, labelleft=False\n",
        "                )\n",
        "\n",
        "plt.box(False)\n",
        "plt.show()"
      ],
      "execution_count": null,
      "outputs": [
        {
          "output_type": "display_data",
          "data": {
            "image/png": "[encoded data removed]",
            "text/plain": [
              "<Figure size 216x216 with 1 Axes>"
            ]
          },
          "metadata": {
            "tags": []
          }
        }
      ]
    },
    {
      "cell_type": "markdown",
      "metadata": {
        "id": "gVszNiKiKM9Q"
      },
      "source": [
        "## 미션/목적"
      ]
    },
    {
      "cell_type": "markdown",
      "metadata": {
        "id": "IhjN7VdUKPwZ"
      },
      "source": [
        "- 에이전트가 시작지점(0번)에서 상우하좌로 이동하여, 골인 지점(8번 위치)까지 최단거리로 이동하는 능력을 학습하는 것\n",
        "  - 최단 거리 학습 (미로에서)"
      ]
    },
    {
      "cell_type": "markdown",
      "metadata": {
        "id": "WvX9sZmxKKNf"
      },
      "source": [
        "## 요소 설계"
      ]
    },
    {
      "cell_type": "markdown",
      "metadata": {
        "id": "ceoynDJrKI46"
      },
      "source": [
        "|강화 학습 요소|다중 슬롯머신의 내용|\n",
        "|--:|:--|\n",
        "|에이전트|미로속의 마우스|\n",
        "|환경|미로|\n",
        "|목적|0번위치에서 8번위치(골인지점)까지 최단거리로 이동|\n",
        "|행동|상우하좌 이동, 4방향 존재|\n",
        "|에피소드|8번위치에 도착하면, 미로를 탈출하면 종료됨|\n",
        "|상태|에이전트의 위치|\n",
        "|보상|골인 지점까지 이동하는 행동을 중시하겠다 -> 정책경사법을 활용|\n",
        "|학습방법|정책 경사법|\n",
        "|파라미터 변경 주기(정책 결정하는 측면)|- 정책 결정에 영향을 미치겠다(가중치)<BR>- 정책은 행동에 영향을 미친다<BR>- 각 포인트별로 갈 수 있는 곳과 갈 수 없는 곳에 대한 정보를 가지고 있고, 갈 수 있는 곳은 확률을 가지고 있다<BR>- 1 에피소드가 종료되면 파라미터를 갱신하겠다|"
      ]
    },
    {
      "cell_type": "code",
      "metadata": {
        "id": "XDidAxhFMQMo",
        "outputId": "8bd7b8ea-d26f-4d97-aaef-36214f2d9fde",
        "colab": {
          "base_uri": "https://localhost:8080/",
          "height": 274
        }
      },
      "source": [
        "from IPython.display import Image\n",
        "Image('/content/drive/My Drive/2020_AI_Busan/4_DeepLearning/pic_rl/미로게임_학습사이클.jpg', width=400)"
      ],
      "execution_count": null,
      "outputs": [
        {
          "output_type": "execute_result",
          "data": {
            "image/jpeg": "[encoded data removed]",
            "text/plain": [
              "<IPython.core.display.Image object>"
            ]
          },
          "metadata": {
            "tags": [],
            "image/jpeg": {
              "width": 400
            }
          },
          "execution_count": 44
        }
      ]
    },
    {
      "cell_type": "markdown",
      "metadata": {
        "id": "HY0w9OQEpkSC"
      },
      "source": [
        "# 정책\n"
      ]
    },
    {
      "cell_type": "markdown",
      "metadata": {
        "id": "idAZS0MQqCPH"
      },
      "source": [
        "- 에이전트의 상태 정의(미로상에서 취할 수 있는 행동 확률)\n",
        "  - 특정 상태(에이전트가 미로상에 위치한 정보)에서 특정 행동(상우하좌)을 할 확률\n",
        "  - 해당 확률을 매개변수 혹은 파라미터로 표현 가능\n",
        "  - 이것을 묘사하면, 정책을 표현할 수 있다.\n",
        "  "
      ]
    },
    {
      "cell_type": "markdown",
      "metadata": {
        "id": "IKpXXdbMqCRW"
      },
      "source": [
        "|구분|상|우|하|좌|\n",
        "|:--:|:--:|:--:|:--:|:--:|\n",
        "|p0|np.nan|1|1|np.nan|\n",
        "|p1|np.nan|1|1|np.nan|\n",
        "|p2|np.nan|np.nan|np.nan|1|\n",
        "|p3|..||||\n",
        "|p4|||||\n",
        "|p5|||||\n",
        "|p6|||||\n",
        "|p7|||||\n",
        "|p8||||..|"
      ]
    },
    {
      "cell_type": "markdown",
      "metadata": {
        "id": "4Ng2J0GfrNcI"
      },
      "source": [
        "# 이런 정책을 softmax로 통과하면 "
      ]
    },
    {
      "cell_type": "markdown",
      "metadata": {
        "id": "tcunEFLGrZE_"
      },
      "source": [
        "|구분|상|우|하|좌|\n",
        "|:--:|:--:|:--:|:--:|:--:|\n",
        "|p0|0|0.5|0.5|0|\n",
        "|p1|0|0.5|0.5|0|\n",
        "|p2|0|0|0|0.5|\n",
        "|p3|..||||\n",
        "|p4|||||\n",
        "|p5|||||\n",
        "|p6|||||\n",
        "|p7|||||\n",
        "|p8||||..|"
      ]
    },
    {
      "cell_type": "markdown",
      "metadata": {
        "id": "AODukBrPrK6c"
      },
      "source": [
        "# 파라미터 초기화(정책 초기값)"
      ]
    },
    {
      "cell_type": "code",
      "metadata": {
        "id": "Tk7GZ_NorwSK"
      },
      "source": [
        "theta_0 = np.array([\n",
        "                    # [상, 우, 하, 좌]\n",
        "                    [np.nan, 1, 1, np.nan],        # 0\n",
        "                    [np.nan, 1, 1, 1],             # 1\n",
        "                    [np.nan, np.nan, np.nan, 1],   # 2\n",
        "                    [1, np.nan, 1,np.nan],         # 3\n",
        "                    [1, 1, np.nan, np.nan],        # 4\n",
        "                    [np.nan, np.nan, 1, 1],        # 5\n",
        "                    [1, 1, np.nan, np.nan],        # 6\n",
        "                    [np.nan, np.nan, np.nan, 1]    # 7\n",
        "])"
      ],
      "execution_count": null,
      "outputs": []
    },
    {
      "cell_type": "code",
      "metadata": {
        "id": "sL1vnIzksHXZ",
        "outputId": "357ae4bb-9257-48f1-9506-da1bfa7365ff",
        "colab": {
          "base_uri": "https://localhost:8080/"
        }
      },
      "source": [
        "# 에이전트가 특정 상태(미로상의 위치)에서 특정 행동(상우하좌로 이동한다는 행동)을 취할 확률\n",
        "# 이것을 우리는 정책으로 보고, 에피소드가 종료되면 정책 갱신 -> 다시 에피소드 진행\n",
        "theta_0"
      ],
      "execution_count": null,
      "outputs": [
        {
          "output_type": "execute_result",
          "data": {
            "text/plain": [
              "array([[nan,  1.,  1., nan],\n",
              "       [nan,  1.,  1.,  1.],\n",
              "       [nan, nan, nan,  1.],\n",
              "       [ 1., nan,  1., nan],\n",
              "       [ 1.,  1., nan, nan],\n",
              "       [nan, nan,  1.,  1.],\n",
              "       [ 1.,  1., nan, nan],\n",
              "       [nan, nan, nan,  1.]])"
            ]
          },
          "metadata": {
            "tags": []
          },
          "execution_count": 46
        }
      ]
    },
    {
      "cell_type": "code",
      "metadata": {
        "id": "_9MH7HE2tNSO",
        "outputId": "f0ecc229-3d9f-463e-bbad-f79ed4f64571",
        "colab": {
          "base_uri": "https://localhost:8080/"
        }
      },
      "source": [
        "# 확률로 표현\n",
        "a = theta_0[0]\n",
        "a"
      ],
      "execution_count": null,
      "outputs": [
        {
          "output_type": "execute_result",
          "data": {
            "text/plain": [
              "array([nan,  1.,  1., nan])"
            ]
          },
          "metadata": {
            "tags": []
          },
          "execution_count": 47
        }
      ]
    },
    {
      "cell_type": "code",
      "metadata": {
        "id": "BG4N1PhQtrDw",
        "outputId": "d1dc42fe-8453-47ca-fe70-64e9f5c33ab2",
        "colab": {
          "base_uri": "https://localhost:8080/"
        }
      },
      "source": [
        "a / np.sum(a)\n",
        "# nan 들어가면 다 뭉개진다."
      ],
      "execution_count": null,
      "outputs": [
        {
          "output_type": "execute_result",
          "data": {
            "text/plain": [
              "array([nan, nan, nan, nan])"
            ]
          },
          "metadata": {
            "tags": []
          },
          "execution_count": 48
        }
      ]
    },
    {
      "cell_type": "code",
      "metadata": {
        "id": "T5G48Iv8t6vm",
        "outputId": "39667b4f-051b-4689-9e46-8c812ca70011",
        "colab": {
          "base_uri": "https://localhost:8080/"
        }
      },
      "source": [
        "# nansum() => nan을 배제하고 계산\n",
        "a / np.nansum(a)"
      ],
      "execution_count": null,
      "outputs": [
        {
          "output_type": "execute_result",
          "data": {
            "text/plain": [
              "array([nan, 0.5, 0.5, nan])"
            ]
          },
          "metadata": {
            "tags": []
          },
          "execution_count": 49
        }
      ]
    },
    {
      "cell_type": "code",
      "metadata": {
        "id": "b66lWlHBuC_f",
        "outputId": "b0bf65ab-5856-4a4a-c0e4-d1d2962cbb72",
        "colab": {
          "base_uri": "https://localhost:8080/"
        }
      },
      "source": [
        "# softmax 처리 직접 구현\n",
        "def mySoftmax( theta ) :\n",
        "  # 각각 1차원을 계산해서 결과를 담아서 리턴하겠다.\n",
        "  # 모든 구성원의 값이 0인, theta와 동일한 크기의 배열을 생성\n",
        "  output = np.zeros_like( theta )\n",
        "  # 만약 큰 수를 이용한, 복잡한 범위를 가진 수치들을 가지고 계산한다면! -> 지수함수로 1차 처리 후 진행\n",
        "  # e, 2.71, ...의 x제곱 등으로 표현(= 지수함수 치환)\n",
        "  # 수치를 조정해서, 계산이 비교적 빠르게 처리되게끔 조정한다.\n",
        "  # 여기서는 생략 가능\n",
        "  theta = np.exp(theta)\n",
        "  # 각각 1차원을 확률로 계산하여 output에 채운다.\n",
        "  # 실습 => np.apply_along_axis 사용하는 방법도 연구  \n",
        "  for i in range( theta.shape[0] ) : \n",
        "    output[i] = theta[i] / np.nansum( theta[i] )\n",
        "    # 동일한 결과인데 iloc 사용 => output[i, :] = theta[i, :] / np.nansum(theta[i, :])\n",
        "  return np.nan_to_num( output )\n",
        "\n",
        "mySoftmax(theta_0)"
      ],
      "execution_count": null,
      "outputs": [
        {
          "output_type": "execute_result",
          "data": {
            "text/plain": [
              "array([[0.        , 0.5       , 0.5       , 0.        ],\n",
              "       [0.        , 0.33333333, 0.33333333, 0.33333333],\n",
              "       [0.        , 0.        , 0.        , 1.        ],\n",
              "       [0.5       , 0.        , 0.5       , 0.        ],\n",
              "       [0.5       , 0.5       , 0.        , 0.        ],\n",
              "       [0.        , 0.        , 0.5       , 0.5       ],\n",
              "       [0.5       , 0.5       , 0.        , 0.        ],\n",
              "       [0.        , 0.        , 0.        , 1.        ]])"
            ]
          },
          "metadata": {
            "tags": []
          },
          "execution_count": 50
        }
      ]
    },
    {
      "cell_type": "code",
      "metadata": {
        "id": "1caO1r7hv7SA"
      },
      "source": [
        "# 정책에 따른 행동 정보 획득\n",
        "# policy : 에이전트가 특정 상태에서 특정 행동을 선택할 수 있는 정책\n",
        "# state  : 에이전트의 현재 상태 -> 미로상에 에이전트가 어디에 위치해 있는가\n",
        "def getAction( policy, state ) : \n",
        "  # 최종 리턴값 => [상:0 우:1 하:2 좌:3]\n",
        "  return np.random.choice( [ 0, 1, 2, 3 ], p=policy[state] )"
      ],
      "execution_count": null,
      "outputs": []
    },
    {
      "cell_type": "code",
      "metadata": {
        "id": "eHYpyBNN1gW8"
      },
      "source": [
        "# 행동에 따른 다음 상태(미로상의 위치 정보) 획득\n",
        "# curState   : 현재 상태(행동을 취하려고 한다. 에이전트의 현재 위치는), 후보군은 0 ~ 7\n",
        "# nextAction : 현재 상테에서 취하려고 하는 행동, 0 ~ 3\n",
        "def getNextState( curState, nextAction ) :\n",
        "  if nextAction == 0 :      # 상\n",
        "    return curState - 3\n",
        "  elif nextAction == 1 :    # 우\n",
        "    return curState + 1\n",
        "  elif nextAction == 2 :    # 하\n",
        "    return curState + 3\n",
        "  elif nextAction == 3 :    # 좌\n",
        "    return curState - 1"
      ],
      "execution_count": null,
      "outputs": []
    },
    {
      "cell_type": "code",
      "metadata": {
        "id": "Kfn7VY9Q2uJZ"
      },
      "source": [
        "# 시뮬레이션을 위한 환경변수, 상수 정의\n",
        "AGENT_FIRST_STATE = 0\n",
        "# 에이전트가 AGENT_LAST_STATE로 상태값이 세팅되면 에피소드 종료 -> 판단 기준\n",
        "AGENT_LAST_STATE = 8\n",
        "# 최초 정책\n",
        "theta = mySoftmax(theta_0)"
      ],
      "execution_count": null,
      "outputs": []
    },
    {
      "cell_type": "code",
      "metadata": {
        "id": "KnW0QCms4OaO"
      },
      "source": [
        "# 1 에피소드에 대한 시뮬레이션 함수\n",
        "# updatePolicy : 매 에피소드마다 갱신된 정책이 반영된다. 인자로 전달\n",
        "def simulation_miro_game( updatePolicy ) :\n",
        "  # 에이전트가 이동한 로그를 기록 -> 데이터\n",
        "  # [ [특정 상태, 다음 상태로 가기 위한 행동], ... ]\n",
        "  # 에이전트의 최초 위치는 0, 다음 상태를 위한 행동은 결정된 바 없다(np.nan).\n",
        "  st_act_his = [ [AGENT_FIRST_STATE, np.nan] ]\n",
        "  # 편의상 에이전트의 현재 위치는 변수를 받아준다.\n",
        "  cur_agent_state = AGENT_FIRST_STATE\n",
        "\n",
        "  while True :\n",
        "    # 1. 현재 상태(미로상의 위치)에서 정책에 따라 다음 행동을 구한다.\n",
        "    agent_action = getAction(updatePolicy, cur_agent_state)\n",
        "    # 2. 다음 행동에 따른 다음 상태(미로상의 위치) 획득\n",
        "    next_agent_state = getNextState(cur_agent_state, agent_action)\n",
        "    # 3. 행동에 대한 로그에 기록을 갱신 : 현재 상태에 대한 다음 행동을 기록\n",
        "    # 로그 특성상 마지막 멤버의 마지막 멤버가 항상 np.nan\n",
        "    st_act_his[-1][-1] = agent_action\n",
        "    # 4. 행동에 대한 로그에 기록을 추가 : 다음 상태에 대한 기록을 추가\n",
        "    st_act_his.append([ next_agent_state, np.nan ])\n",
        "\n",
        "    # 에이전트의 상태(현재 혹은 다음)가 AGENT_LAST_STATE => 에피소드 종료\n",
        "    cur_agent_state = next_agent_state\n",
        "    if cur_agent_state == AGENT_LAST_STATE :    # 마우스(에이전트)는 8번 위치에 도착했다.\n",
        "      break\n",
        "\n",
        "  return st_act_his"
      ],
      "execution_count": null,
      "outputs": []
    },
    {
      "cell_type": "code",
      "metadata": {
        "id": "nXiV1GMl94DZ",
        "outputId": "6e4434a1-22d0-475f-f311-4fe67765653a",
        "colab": {
          "base_uri": "https://localhost:8080/"
        }
      },
      "source": [
        "his = simulation_miro_game(theta)\n",
        "his"
      ],
      "execution_count": null,
      "outputs": [
        {
          "output_type": "execute_result",
          "data": {
            "text/plain": [
              "[[0, 2],\n",
              " [3, 0],\n",
              " [0, 2],\n",
              " [3, 0],\n",
              " [0, 2],\n",
              " [3, 2],\n",
              " [6, 1],\n",
              " [7, 3],\n",
              " [6, 0],\n",
              " [3, 2],\n",
              " [6, 0],\n",
              " [3, 2],\n",
              " [6, 0],\n",
              " [3, 2],\n",
              " [6, 0],\n",
              " [3, 2],\n",
              " [6, 0],\n",
              " [3, 2],\n",
              " [6, 0],\n",
              " [3, 0],\n",
              " [0, 2],\n",
              " [3, 0],\n",
              " [0, 2],\n",
              " [3, 0],\n",
              " [0, 1],\n",
              " [1, 2],\n",
              " [4, 0],\n",
              " [1, 3],\n",
              " [0, 2],\n",
              " [3, 0],\n",
              " [0, 1],\n",
              " [1, 3],\n",
              " [0, 1],\n",
              " [1, 2],\n",
              " [4, 0],\n",
              " [1, 2],\n",
              " [4, 0],\n",
              " [1, 1],\n",
              " [2, 3],\n",
              " [1, 2],\n",
              " [4, 1],\n",
              " [5, 2],\n",
              " [8, nan]]"
            ]
          },
          "metadata": {
            "tags": []
          },
          "execution_count": 68
        }
      ]
    },
    {
      "cell_type": "code",
      "metadata": {
        "id": "uWM0d44gDkBH",
        "outputId": "62d86936-c42f-4af7-d471-ec1fae89a927",
        "colab": {
          "base_uri": "https://localhost:8080/"
        }
      },
      "source": [
        "# 에이전트가 미로를 탈출하기 위해 수행한 이동 횟수\n",
        "len(his)"
      ],
      "execution_count": null,
      "outputs": [
        {
          "output_type": "execute_result",
          "data": {
            "text/plain": [
              "43"
            ]
          },
          "metadata": {
            "tags": []
          },
          "execution_count": 69
        }
      ]
    },
    {
      "cell_type": "markdown",
      "metadata": {
        "id": "rPgXmWkADshT"
      },
      "source": [
        "# 정책을 갱신하여 최단 이동을 통해서 탈출하게끔 행동을 강화하겠다 "
      ]
    },
    {
      "cell_type": "code",
      "metadata": {
        "id": "v3RfWFojD3NP",
        "outputId": "e62b5439-ef19-4e16-f66e-dca67a75a0b6",
        "colab": {
          "base_uri": "https://localhost:8080/",
          "height": 365
        }
      },
      "source": [
        "# 정책을 갱신하는 식\n",
        "Image('/content/drive/My Drive/2020_AI_Busan/4_DeepLearning/pic_rl/파라미터세타변경량.jpeg')\n",
        "\n",
        "# 정책 경사법에서 사용하는, 정책 갱신에 관련된 식\n",
        "# 정책 갱신 = 원래 정책 + 학습률 * (파라미터 θ의 변경량)\n",
        "#   => 각 상태에서 특정 행동을 취할 확률을 조정하겠다.\n",
        "# T       : 에이전트의 이동 횟수, 골인 지점까지 걸린 총 횟수, 총 몇번 움직였다\n",
        "# s       : 상태\n",
        "# a       : 행동\n",
        "# θ(s,a) : 상태 s에서 행동 a를 선택하는 파라미터 θ => 확률\n",
        "# N(s,a)  : 상태 s에서 행동 a를 선택한 횟수          => 0번 위치에서 10번 이동했는데, 우측으로 3회, 아래로 7회 이동했다.\n",
        "# P(s,a)  : 상태 s에서 행동 a를 선택하는 정책        => 확률값\n",
        "# N(s)    : 상태 s에서 행동을 선택한 횟수            => (N(s,a) 설명 기준으로) 10번 \n",
        "# η      : 학습률                                   => 설정하여 사용, 튜닝 포인트"
      ],
      "execution_count": null,
      "outputs": [
        {
          "output_type": "execute_result",
          "data": {
            "image/jpeg": "[encoded data removed]",
            "text/plain": [
              "<IPython.core.display.Image object>"
            ]
          },
          "metadata": {
            "tags": []
          },
          "execution_count": 57
        }
      ]
    },
    {
      "cell_type": "code",
      "metadata": {
        "id": "1gA9lPLN4Uln"
      },
      "source": [
        "# 에피소드를 n번 수행하는 함수\n",
        "# 에피소드 종료 후 -> 정책/가치 계산(정책 경사법을 활용) -> 정책을 갱신 -> 다음 에피소드 진행"
      ],
      "execution_count": null,
      "outputs": []
    },
    {
      "cell_type": "markdown",
      "metadata": {
        "id": "zLMtw-rgF_rd"
      },
      "source": [
        "# 정책 갱신 함수"
      ]
    },
    {
      "cell_type": "code",
      "metadata": {
        "id": "BeqTIzftHjdX",
        "outputId": "72fb8b1c-b51a-45b0-937f-12cced4a4a20",
        "colab": {
          "base_uri": "https://localhost:8080/"
        }
      },
      "source": [
        "theta.shape"
      ],
      "execution_count": null,
      "outputs": [
        {
          "output_type": "execute_result",
          "data": {
            "text/plain": [
              "(8, 4)"
            ]
          },
          "metadata": {
            "tags": []
          },
          "execution_count": 59
        }
      ]
    },
    {
      "cell_type": "code",
      "metadata": {
        "id": "XSZNAYMHGEu0"
      },
      "source": [
        "# theta_0    : 갱신되기 전 정책 or 파라미터로 정책을 가진 θ -> np.nan을 가진 원재료\n",
        "# policy     : theta_0를 softmax로 통과시켜서 만든 정책값(확률을 가지고 있다.)\n",
        "# st_act_his : 한번의 에피소드가 종료되면 나오는 에이전트의 이동 기록\n",
        "def update_theta( theta_0, policy, st_act_his ) :\n",
        "  # 학습률\n",
        "  eta = 0.1                                 # 학습률(학습계수)은 θ 변동량의 10%만 정책에 증가시키겠다. 변동 가능.\n",
        "  updateTheta = theta_0.copy()              # 정책 갱신 전 θ를 카피 떠서 for문을 돌리겠다.\n",
        "  # 총 수행횟수(마지막 8번 상태는 제외한다 -> 다음 행동값이 없다.)\n",
        "  T = len(st_act_his) - 1\n",
        "  # 정책 갱신 : updateTheta 갱신\n",
        "  state_cnt, action_cnt = theta.shape       # (8, 4)\n",
        "  for s in range(state_cnt) :               # 상태의 총 개수\n",
        "    for a in range(action_cnt) :            # 행동의 총 개수\n",
        "      # 갱신대상이 아닌 0 혹은 np.nan은 계산에서 배제\n",
        "      if not np.isnan( theta_0[s,a] ) :\n",
        "      # if theta_0[s,a] :                   => 0이 아니면, np.nan이 아니면\n",
        "        # 1을 넣는다면 len([1,1,1]) or sum([1,1,1]) => 3\n",
        "        # 현재 상태 s에서 a라는 행동을 취한 개수를 모아서 카운트\n",
        "        n_sa = len([ 1 for sah in st_act_his if sah == [s,a] ])\n",
        "        p_sa = policy[s,a]\n",
        "        # 현재 상태에서 행동을 몇번 했는가?\n",
        "        n_s  = len([ 1 for sah in st_act_his if sah[0] == s ])\n",
        "        # 파라미터 θ의 변경량\n",
        "        updateTheta[s,a] = (n_sa - p_sa * n_s) / T\n",
        "\n",
        "  # 갱신된 정책 리턴\n",
        "  return theta_0 + eta * updateTheta"
      ],
      "execution_count": null,
      "outputs": []
    },
    {
      "cell_type": "code",
      "metadata": {
        "id": "Kk14wb3Pd0D2",
        "outputId": "16d79c57-77a9-416b-941d-a565ee7f9c5b",
        "colab": {
          "base_uri": "https://localhost:8080/"
        }
      },
      "source": [
        "update_theta(theta_0, theta, his)"
      ],
      "execution_count": null,
      "outputs": [
        {
          "output_type": "execute_result",
          "data": {
            "text/plain": [
              "array([[       nan, 0.99642857, 1.00357143,        nan],\n",
              "       [       nan, 0.9968254 , 1.00396825, 0.99920635],\n",
              "       [       nan,        nan,        nan, 1.        ],\n",
              "       [1.        ,        nan, 1.        ,        nan],\n",
              "       [1.00238095, 0.99761905,        nan,        nan],\n",
              "       [       nan,        nan, 1.00119048, 0.99880952],\n",
              "       [1.00595238, 0.99404762,        nan,        nan],\n",
              "       [       nan,        nan,        nan, 1.        ]])"
            ]
          },
          "metadata": {
            "tags": []
          },
          "execution_count": 70
        }
      ]
    },
    {
      "cell_type": "markdown",
      "metadata": {
        "id": "UCBnt2X2hcae"
      },
      "source": [
        "# 에피소드 1000번 적용하여 완성\n",
        "- 1000번은 설정값"
      ]
    },
    {
      "cell_type": "code",
      "metadata": {
        "id": "H6h7xzbjh2nL"
      },
      "source": [
        "# 환경변수\n",
        "SIMULATE_COUNTS = 1000\n",
        "# SIMULATE_COUNTS까지 다 구동되지 않아도, 변동량이 지정된 값보다 미비하면 그만하겠다.\n",
        "EPISODE_STOP_VALUE = 10**-3"
      ],
      "execution_count": null,
      "outputs": []
    },
    {
      "cell_type": "code",
      "metadata": {
        "id": "pRo6rlkwh7n6",
        "outputId": "932d267a-4aaa-4348-f7e6-90e8715a01b2",
        "colab": {
          "base_uri": "https://localhost:8080/"
        }
      },
      "source": [
        "for episode in range(SIMULATE_COUNTS) :\n",
        "  # 1. 에피소드 수행\n",
        "  a_s_his = simulation_miro_game( theta )\n",
        "  # 2. 정책 갱신\n",
        "  new_policy = update_theta(theta_0, theta, a_s_his)\n",
        "  # 3. 정책의 변동량(혹은 변화량) 측정\n",
        "  new_policy = mySoftmax(new_policy)\n",
        "  policy_delta = np.nansum(np.abs(new_policy - theta))\n",
        "  # 4. 정책 교체\n",
        "  theta = new_policy\n",
        "  # 5. 로그\n",
        "  print(f'에피소드 {episode:10}, 정책변동량 {policy_delta}')\n",
        "  # 변동량 체크로 종료처리\n",
        "  if policy_delta < EPISODE_STOP_VALUE :      # 변화가 없다\n",
        "    # 더 이상 시뮬레이션 해도 진전이 없다.\n",
        "    break\n",
        "\n",
        "a_s_his, len(a_s_his)"
      ],
      "execution_count": null,
      "outputs": [
        {
          "output_type": "stream",
          "text": [
            "에피소드          0, 정책변동량 0.052867962265820856\n",
            "에피소드          1, 정책변동량 0.054251140885377525\n",
            "에피소드          2, 정책변동량 0.03640026036333405\n",
            "에피소드          3, 정책변동량 0.02789006266119437\n",
            "에피소드          4, 정책변동량 0.012087625743006924\n",
            "에피소드          5, 정책변동량 0.02274342968604043\n",
            "에피소드          6, 정책변동량 0.01577992525379618\n",
            "에피소드          7, 정책변동량 0.04242842646626466\n",
            "에피소드          8, 정책변동량 0.046443198197062274\n",
            "에피소드          9, 정책변동량 0.012747855081090609\n",
            "에피소드         10, 정책변동량 0.016162196979708443\n",
            "에피소드         11, 정책변동량 0.049721152264479596\n",
            "에피소드         12, 정책변동량 0.04920305822446197\n",
            "에피소드         13, 정책변동량 0.05755194261459645\n",
            "에피소드         14, 정책변동량 0.04246378384184296\n",
            "에피소드         15, 정책변동량 0.03594344340811417\n",
            "에피소드         16, 정책변동량 0.05656177141045565\n",
            "에피소드         17, 정책변동량 0.008770513090702647\n",
            "에피소드         18, 정책변동량 0.012446628224866307\n",
            "에피소드         19, 정책변동량 0.019916664010140306\n",
            "에피소드         20, 정책변동량 0.02022483450833895\n",
            "에피소드         21, 정책변동량 0.027063837831874327\n",
            "에피소드         22, 정책변동량 0.032013383851068944\n",
            "에피소드         23, 정책변동량 0.03135174166964655\n",
            "에피소드         24, 정책변동량 0.022051599811703126\n",
            "에피소드         25, 정책변동량 0.014894957874809489\n",
            "에피소드         26, 정책변동량 0.05482307267078529\n",
            "에피소드         27, 정책변동량 0.04360334512333708\n",
            "에피소드         28, 정책변동량 0.018177807349266217\n",
            "에피소드         29, 정책변동량 0.01599941151547346\n",
            "에피소드         30, 정책변동량 0.011543308585287015\n",
            "에피소드         31, 정책변동량 0.03972881948236762\n",
            "에피소드         32, 정책변동량 0.02919704419006719\n",
            "에피소드         33, 정책변동량 0.01777420001635238\n",
            "에피소드         34, 정책변동량 0.021065825586219167\n",
            "에피소드         35, 정책변동량 0.015010831389935086\n",
            "에피소드         36, 정책변동량 0.014569391836811274\n",
            "에피소드         37, 정책변동량 0.010724463572335974\n",
            "에피소드         38, 정책변동량 0.008980444524702369\n",
            "에피소드         39, 정책변동량 0.013518590468581337\n",
            "에피소드         40, 정책변동량 0.009313272770481607\n",
            "에피소드         41, 정책변동량 0.0195397613370486\n",
            "에피소드         42, 정책변동량 0.013875707224643041\n",
            "에피소드         43, 정책변동량 0.01773274509346706\n",
            "에피소드         44, 정책변동량 0.021480387107883803\n",
            "에피소드         45, 정책변동량 0.01683131785638925\n",
            "에피소드         46, 정책변동량 0.03826308063049477\n",
            "에피소드         47, 정책변동량 0.044433226488132416\n",
            "에피소드         48, 정책변동량 0.024418691841048168\n",
            "에피소드         49, 정책변동량 0.016397173759086003\n",
            "에피소드         50, 정책변동량 0.02439163031290026\n",
            "에피소드         51, 정책변동량 0.03534544576447801\n",
            "에피소드         52, 정책변동량 0.04717904988418681\n",
            "에피소드         53, 정책변동량 0.018657219625396515\n",
            "에피소드         54, 정책변동량 0.01544074731720707\n",
            "에피소드         55, 정책변동량 0.039257707873408876\n",
            "에피소드         56, 정책변동량 0.038182586804634544\n",
            "에피소드         57, 정책변동량 0.02237535205108665\n",
            "에피소드         58, 정책변동량 0.03698860320973563\n",
            "에피소드         59, 정책변동량 0.03590194072139574\n",
            "에피소드         60, 정책변동량 0.022489592552729476\n",
            "에피소드         61, 정책변동량 0.027888132306927826\n",
            "에피소드         62, 정책변동량 0.03419696971595404\n",
            "에피소드         63, 정책변동량 0.008390318255500573\n",
            "에피소드         64, 정책변동량 0.014046971874254521\n",
            "에피소드         65, 정책변동량 0.007860366166215993\n",
            "에피소드         66, 정책변동량 0.008414329562337897\n",
            "에피소드         67, 정책변동량 0.01084782255529776\n",
            "에피소드         68, 정책변동량 0.012907267802151401\n",
            "에피소드         69, 정책변동량 0.026170026381471867\n",
            "에피소드         70, 정책변동량 0.06044129620326144\n",
            "에피소드         71, 정책변동량 0.05533782869496412\n",
            "에피소드         72, 정책변동량 0.014515730447176356\n",
            "에피소드         73, 정책변동량 0.010210838822724\n",
            "에피소드         74, 정책변동량 0.02182909779811798\n",
            "에피소드         75, 정책변동량 0.026329310344971713\n",
            "에피소드         76, 정책변동량 0.03538826414128016\n",
            "에피소드         77, 정책변동량 0.037935057298440766\n",
            "에피소드         78, 정책변동량 0.028981212827656644\n",
            "에피소드         79, 정책변동량 0.03437899168886538\n",
            "에피소드         80, 정책변동량 0.026069332483500685\n",
            "에피소드         81, 정책변동량 0.023284613471085402\n",
            "에피소드         82, 정책변동량 0.02520100666424485\n",
            "에피소드         83, 정책변동량 0.024920492649498416\n",
            "에피소드         84, 정책변동량 0.012902702229747931\n",
            "에피소드         85, 정책변동량 0.05977160071852017\n",
            "에피소드         86, 정책변동량 0.061495431415872714\n",
            "에피소드         87, 정책변동량 0.027074185502604653\n",
            "에피소드         88, 정책변동량 0.03247949640183667\n",
            "에피소드         89, 정책변동량 0.036770465059315804\n",
            "에피소드         90, 정책변동량 0.018941627866854938\n",
            "에피소드         91, 정책변동량 0.01585904149516565\n",
            "에피소드         92, 정책변동량 0.039553182839777545\n",
            "에피소드         93, 정책변동량 0.028424788485800323\n",
            "에피소드         94, 정책변동량 0.023147004685945882\n",
            "에피소드         95, 정책변동량 0.028435292175520877\n",
            "에피소드         96, 정책변동량 0.035927549714951046\n",
            "에피소드         97, 정책변동량 0.024350229493188658\n",
            "에피소드         98, 정책변동량 0.0209538730146987\n",
            "에피소드         99, 정책변동량 0.0299409262497618\n",
            "에피소드        100, 정책변동량 0.021542602872275607\n",
            "에피소드        101, 정책변동량 0.020706764230487062\n",
            "에피소드        102, 정책변동량 0.03711807867623784\n",
            "에피소드        103, 정책변동량 0.03652205598685543\n",
            "에피소드        104, 정책변동량 0.015510423584638833\n",
            "에피소드        105, 정책변동량 0.010154448421692053\n",
            "에피소드        106, 정책변동량 0.009366424358487446\n",
            "에피소드        107, 정책변동량 0.01900502525491926\n",
            "에피소드        108, 정책변동량 0.024347458886896545\n",
            "에피소드        109, 정책변동량 0.03672321846301352\n",
            "에피소드        110, 정책변동량 0.02869148822306533\n",
            "에피소드        111, 정책변동량 0.015354650272403736\n",
            "에피소드        112, 정책변동량 0.012187536704741209\n",
            "에피소드        113, 정책변동량 0.049675497886605136\n",
            "에피소드        114, 정책변동량 0.036885708148460705\n",
            "에피소드        115, 정책변동량 0.0567511955773336\n",
            "에피소드        116, 정책변동량 0.02227036895130141\n",
            "에피소드        117, 정책변동량 0.017433739284420213\n",
            "에피소드        118, 정책변동량 0.03005719803510426\n",
            "에피소드        119, 정책변동량 0.03626805942748834\n",
            "에피소드        120, 정책변동량 0.020464048901901455\n",
            "에피소드        121, 정책변동량 0.02734528908120548\n",
            "에피소드        122, 정책변동량 0.01756078156429891\n",
            "에피소드        123, 정책변동량 0.021992589314012323\n",
            "에피소드        124, 정책변동량 0.011893815883253334\n",
            "에피소드        125, 정책변동량 0.01445558029934313\n",
            "에피소드        126, 정책변동량 0.012644749401763689\n",
            "에피소드        127, 정책변동량 0.010493931417059565\n",
            "에피소드        128, 정책변동량 0.02920918011088769\n",
            "에피소드        129, 정책변동량 0.021368321220399\n",
            "에피소드        130, 정책변동량 0.008449052938759583\n",
            "에피소드        131, 정책변동량 0.010179336226870506\n",
            "에피소드        132, 정책변동량 0.015280352225163552\n",
            "에피소드        133, 정책변동량 0.01909242215972401\n",
            "에피소드        134, 정책변동량 0.03927441679268895\n",
            "에피소드        135, 정책변동량 0.01714592084872052\n",
            "에피소드        136, 정책변동량 0.013686518091462485\n",
            "에피소드        137, 정책변동량 0.015973530675991943\n",
            "에피소드        138, 정책변동량 0.01944084592835127\n",
            "에피소드        139, 정책변동량 0.01943544200757963\n",
            "에피소드        140, 정책변동량 0.023307935676667557\n",
            "에피소드        141, 정책변동량 0.0363836276264089\n",
            "에피소드        142, 정책변동량 0.03839628483314861\n",
            "에피소드        143, 정책변동량 0.024437592555823562\n",
            "에피소드        144, 정책변동량 0.03994192114867928\n",
            "에피소드        145, 정책변동량 0.014217179852824724\n",
            "에피소드        146, 정책변동량 0.02859530315804243\n",
            "에피소드        147, 정책변동량 0.015134399784653751\n",
            "에피소드        148, 정책변동량 0.03546521142275111\n",
            "에피소드        149, 정책변동량 0.033088551853540316\n",
            "에피소드        150, 정책변동량 0.00030097950337304447\n"
          ],
          "name": "stdout"
        },
        {
          "output_type": "execute_result",
          "data": {
            "text/plain": [
              "([[0, 1], [1, 2], [4, 1], [5, 2], [8, nan]], 5)"
            ]
          },
          "metadata": {
            "tags": []
          },
          "execution_count": 103
        }
      ]
    },
    {
      "cell_type": "code",
      "metadata": {
        "id": "_UuUX7KVkV6O",
        "outputId": "163c347a-ce4d-49e4-d7c0-fc89a611ab50",
        "colab": {
          "base_uri": "https://localhost:8080/"
        }
      },
      "source": [
        "# 150회만에 최적 경로에 대한 시뮬레이션을 완성하였다.\n",
        "episode, a_s_his"
      ],
      "execution_count": null,
      "outputs": [
        {
          "output_type": "execute_result",
          "data": {
            "text/plain": [
              "(150, [[0, 1], [1, 2], [4, 1], [5, 2], [8, nan]])"
            ]
          },
          "metadata": {
            "tags": []
          },
          "execution_count": 104
        }
      ]
    },
    {
      "cell_type": "markdown",
      "metadata": {
        "id": "PaYF5c70qGIc"
      },
      "source": [
        "# 플레이"
      ]
    },
    {
      "cell_type": "markdown",
      "metadata": {
        "id": "xKbsaZqTqWRh"
      },
      "source": [
        "- 에이전트가 미로판을 이동하면서 실제 플레이하는 시뮬레이션을 구현"
      ]
    },
    {
      "cell_type": "code",
      "metadata": {
        "id": "W9ty5UAOBhGT"
      },
      "source": [
        "# 애니메이션 처리\n",
        "from matplotlib import animation\n",
        "# 코랩에 게임판이 html로 생성되는데, 삽입\n",
        "from IPython.display import HTML"
      ],
      "execution_count": null,
      "outputs": []
    },
    {
      "cell_type": "code",
      "metadata": {
        "id": "DSyuS_oWqOxs",
        "outputId": "d21fabe6-2a6f-4c32-8593-71e6575cfcf7",
        "colab": {
          "base_uri": "https://localhost:8080/",
          "height": 311
        }
      },
      "source": [
        "# frame : 0 ~ len(a_s_his)-1 => 인자로 넣어서 호출\n",
        "def simulatorPlay(frame) :\n",
        "  # 각 프레임에서 미로게임상의 에이전트의 상태값을 획득\n",
        "  state = a_s_his[ frame ][0]\n",
        "  # 에이전트를 새로운 위치에 그린다.\n",
        "  mouse[0].set_data( (state%3)+0.5, 3-(state//3)-0.5 )\n",
        "\n",
        "# 애니메이션 정의\n",
        "ani = animation.FuncAnimation( fig, simulatorPlay, frames=len(a_s_his), interval=200, repeat=False )\n",
        "\n",
        "# HTML을 코랩에 임베딩하여 재생\n",
        "HTML( ani.to_jshtml() )"
      ],
      "execution_count": null,
      "outputs": [
        {
          "output_type": "execute_result",
          "data": {
            "text/html": [
              "\n",
              "<link rel=\"stylesheet\"\n",
              "href=\"https://maxcdn.bootstrapcdn.com/font-awesome/4.4.0/\n",
              "css/font-awesome.min.css\">\n",
              "<script language=\"javascript\">\n",
              "  function isInternetExplorer() {\n",
              "    ua = navigator.userAgent;\n",
              "    /* MSIE used to detect old browsers and Trident used to newer ones*/\n",
              "    return ua.indexOf(\"MSIE \") > -1 || ua.indexOf(\"Trident/\") > -1;\n",
              "  }\n",
              "\n",
              "  /* Define the Animation class */\n",
              "  function Animation(frames, img_id, slider_id, interval, loop_select_id){\n",
              "    this.img_id = img_id;\n",
              "    this.slider_id = slider_id;\n",
              "    this.loop_select_id = loop_select_id;\n",
              "    this.interval = interval;\n",
              "    this.current_frame = 0;\n",
              "    this.direction = 0;\n",
              "    this.timer = null;\n",
              "    this.frames = new Array(frames.length);\n",
              "\n",
              "    for (var i=0; i<frames.length; i++)\n",
              "    {\n",
              "     this.frames[i] = new Image();\n",
              "     this.frames[i].src = frames[i];\n",
              "    }\n",
              "    var slider = document.getElementById(this.slider_id);\n",
              "    slider.max = this.frames.length - 1;\n",
              "    if (isInternetExplorer()) {\n",
              "        // switch from oninput to onchange because IE <= 11 does not conform\n",
              "        // with W3C specification. It ignores oninput and onchange behaves\n",
              "        // like oninput. In contrast, Mircosoft Edge behaves correctly.\n",
              "        slider.setAttribute('onchange', slider.getAttribute('oninput'));\n",
              "        slider.setAttribute('oninput', null);\n",
              "    }\n",
              "    this.set_frame(this.current_frame);\n",
              "  }\n",
              "\n",
              "  Animation.prototype.get_loop_state = function(){\n",
              "    var button_group = document[this.loop_select_id].state;\n",
              "    for (var i = 0; i < button_group.length; i++) {\n",
              "        var button = button_group[i];\n",
              "        if (button.checked) {\n",
              "            return button.value;\n",
              "        }\n",
              "    }\n",
              "    return undefined;\n",
              "  }\n",
              "\n",
              "  Animation.prototype.set_frame = function(frame){\n",
              "    this.current_frame = frame;\n",
              "    document.getElementById(this.img_id).src =\n",
              "            this.frames[this.current_frame].src;\n",
              "    document.getElementById(this.slider_id).value = this.current_frame;\n",
              "  }\n",
              "\n",
              "  Animation.prototype.next_frame = function()\n",
              "  {\n",
              "    this.set_frame(Math.min(this.frames.length - 1, this.current_frame + 1));\n",
              "  }\n",
              "\n",
              "  Animation.prototype.previous_frame = function()\n",
              "  {\n",
              "    this.set_frame(Math.max(0, this.current_frame - 1));\n",
              "  }\n",
              "\n",
              "  Animation.prototype.first_frame = function()\n",
              "  {\n",
              "    this.set_frame(0);\n",
              "  }\n",
              "\n",
              "  Animation.prototype.last_frame = function()\n",
              "  {\n",
              "    this.set_frame(this.frames.length - 1);\n",
              "  }\n",
              "\n",
              "  Animation.prototype.slower = function()\n",
              "  {\n",
              "    this.interval /= 0.7;\n",
              "    if(this.direction > 0){this.play_animation();}\n",
              "    else if(this.direction < 0){this.reverse_animation();}\n",
              "  }\n",
              "\n",
              "  Animation.prototype.faster = function()\n",
              "  {\n",
              "    this.interval *= 0.7;\n",
              "    if(this.direction > 0){this.play_animation();}\n",
              "    else if(this.direction < 0){this.reverse_animation();}\n",
              "  }\n",
              "\n",
              "  Animation.prototype.anim_step_forward = function()\n",
              "  {\n",
              "    this.current_frame += 1;\n",
              "    if(this.current_frame < this.frames.length){\n",
              "      this.set_frame(this.current_frame);\n",
              "    }else{\n",
              "      var loop_state = this.get_loop_state();\n",
              "      if(loop_state == \"loop\"){\n",
              "        this.first_frame();\n",
              "      }else if(loop_state == \"reflect\"){\n",
              "        this.last_frame();\n",
              "        this.reverse_animation();\n",
              "      }else{\n",
              "        this.pause_animation();\n",
              "        this.last_frame();\n",
              "      }\n",
              "    }\n",
              "  }\n",
              "\n",
              "  Animation.prototype.anim_step_reverse = function()\n",
              "  {\n",
              "    this.current_frame -= 1;\n",
              "    if(this.current_frame >= 0){\n",
              "      this.set_frame(this.current_frame);\n",
              "    }else{\n",
              "      var loop_state = this.get_loop_state();\n",
              "      if(loop_state == \"loop\"){\n",
              "        this.last_frame();\n",
              "      }else if(loop_state == \"reflect\"){\n",
              "        this.first_frame();\n",
              "        this.play_animation();\n",
              "      }else{\n",
              "        this.pause_animation();\n",
              "        this.first_frame();\n",
              "      }\n",
              "    }\n",
              "  }\n",
              "\n",
              "  Animation.prototype.pause_animation = function()\n",
              "  {\n",
              "    this.direction = 0;\n",
              "    if (this.timer){\n",
              "      clearInterval(this.timer);\n",
              "      this.timer = null;\n",
              "    }\n",
              "  }\n",
              "\n",
              "  Animation.prototype.play_animation = function()\n",
              "  {\n",
              "    this.pause_animation();\n",
              "    this.direction = 1;\n",
              "    var t = this;\n",
              "    if (!this.timer) this.timer = setInterval(function() {\n",
              "        t.anim_step_forward();\n",
              "    }, this.interval);\n",
              "  }\n",
              "\n",
              "  Animation.prototype.reverse_animation = function()\n",
              "  {\n",
              "    this.pause_animation();\n",
              "    this.direction = -1;\n",
              "    var t = this;\n",
              "    if (!this.timer) this.timer = setInterval(function() {\n",
              "        t.anim_step_reverse();\n",
              "    }, this.interval);\n",
              "  }\n",
              "</script>\n",
              "\n",
              "<style>\n",
              ".animation {\n",
              "    display: inline-block;\n",
              "    text-align: center;\n",
              "}\n",
              "input[type=range].anim-slider {\n",
              "    width: 374px;\n",
              "    margin-left: auto;\n",
              "    margin-right: auto;\n",
              "}\n",
              ".anim-buttons {\n",
              "    margin: 8px 0px;\n",
              "}\n",
              ".anim-buttons button {\n",
              "    padding: 0;\n",
              "    width: 36px;\n",
              "}\n",
              ".anim-state label {\n",
              "    margin-right: 8px;\n",
              "}\n",
              ".anim-state input {\n",
              "    margin: 0;\n",
              "    vertical-align: middle;\n",
              "}\n",
              "</style>\n",
              "\n",
              "<div class=\"animation\">\n",
              "  <img id=\"_anim_img681037d6a9a748248376c7a5824f3c78\">\n",
              "  <div class=\"anim-controls\">\n",
              "    <input id=\"_anim_slider681037d6a9a748248376c7a5824f3c78\" type=\"range\" class=\"anim-slider\"\n",
              "           name=\"points\" min=\"0\" max=\"1\" step=\"1\" value=\"0\"\n",
              "           oninput=\"anim681037d6a9a748248376c7a5824f3c78.set_frame(parseInt(this.value));\"></input>\n",
              "    <div class=\"anim-buttons\">\n",
              "      <button onclick=\"anim681037d6a9a748248376c7a5824f3c78.slower()\"><i class=\"fa fa-minus\"></i></button>\n",
              "      <button onclick=\"anim681037d6a9a748248376c7a5824f3c78.first_frame()\"><i class=\"fa fa-fast-backward\">\n",
              "          </i></button>\n",
              "      <button onclick=\"anim681037d6a9a748248376c7a5824f3c78.previous_frame()\">\n",
              "          <i class=\"fa fa-step-backward\"></i></button>\n",
              "      <button onclick=\"anim681037d6a9a748248376c7a5824f3c78.reverse_animation()\">\n",
              "          <i class=\"fa fa-play fa-flip-horizontal\"></i></button>\n",
              "      <button onclick=\"anim681037d6a9a748248376c7a5824f3c78.pause_animation()\"><i class=\"fa fa-pause\">\n",
              "          </i></button>\n",
              "      <button onclick=\"anim681037d6a9a748248376c7a5824f3c78.play_animation()\"><i class=\"fa fa-play\"></i>\n",
              "          </button>\n",
              "      <button onclick=\"anim681037d6a9a748248376c7a5824f3c78.next_frame()\"><i class=\"fa fa-step-forward\">\n",
              "          </i></button>\n",
              "      <button onclick=\"anim681037d6a9a748248376c7a5824f3c78.last_frame()\"><i class=\"fa fa-fast-forward\">\n",
              "          </i></button>\n",
              "      <button onclick=\"anim681037d6a9a748248376c7a5824f3c78.faster()\"><i class=\"fa fa-plus\"></i></button>\n",
              "    </div>\n",
              "    <form action=\"#n\" name=\"_anim_loop_select681037d6a9a748248376c7a5824f3c78\" class=\"anim-state\">\n",
              "      <input type=\"radio\" name=\"state\" value=\"once\" id=\"_anim_radio1_681037d6a9a748248376c7a5824f3c78\"\n",
              "             checked>\n",
              "      <label for=\"_anim_radio1_681037d6a9a748248376c7a5824f3c78\">Once</label>\n",
              "      <input type=\"radio\" name=\"state\" value=\"loop\" id=\"_anim_radio2_681037d6a9a748248376c7a5824f3c78\"\n",
              "             >\n",
              "      <label for=\"_anim_radio2_681037d6a9a748248376c7a5824f3c78\">Loop</label>\n",
              "      <input type=\"radio\" name=\"state\" value=\"reflect\" id=\"_anim_radio3_681037d6a9a748248376c7a5824f3c78\"\n",
              "             >\n",
              "      <label for=\"_anim_radio3_681037d6a9a748248376c7a5824f3c78\">Reflect</label>\n",
              "    </form>\n",
              "  </div>\n",
              "</div>\n",
              "\n",
              "\n",
              "<script language=\"javascript\">\n",
              "  /* Instantiate the Animation class. */\n",
              "  /* The IDs given should match those used in the template above. */\n",
              "  (function() {\n",
              "    var img_id = \"_anim_img681037d6a9a748248376c7a5824f3c78\";\n",
              "    var slider_id = \"_anim_slider681037d6a9a748248376c7a5824f3c78\";\n",
              "    var loop_select_id = \"_anim_loop_select681037d6a9a748248376c7a5824f3c78\";\n",
              "    var frames = new Array(5);\n",
              "    \n",
              "  frames[0] = \"data:image/png;base64,iVBORw0KGgoAAAANSUhEUgAAANgAAADYCAYAAACJIC3tAAAABHNCSVQICAgIfAhkiAAAAAlwSFlz\\\n",
              "AAALEgAACxIB0t1+/AAAADh0RVh0U29mdHdhcmUAbWF0cGxvdGxpYiB2ZXJzaW9uMy4yLjIsIGh0\\\n",
              "dHA6Ly9tYXRwbG90bGliLm9yZy+WH4yJAAASZ0lEQVR4nO3de1BU9f/H8dcRgV1YXGBBKFdueSlv\\\n",
              "gc14i8sX78poWFZ/JF5GK5vBS9YojjWiFqVpoGNNkY2oNFOj4iXR0RIRMdFSyBtliEI3EHcIAdkF\\\n",
              "4/z+4LckiiXsfvbsLq/HjH+4BzhvZn2653x296wky7IMIhKim9IDEDkzBkYkEAMjEoiBEQnEwIgE\\\n",
              "YmBEAjEwIoEYGJFADIxIIAZGJBADIxKIgREJxMCIBGJgRAIxMCKBGBiRQAyMSCAGRiQQAyMSiIER\\\n",
              "CcTAiARiYEQCMTAigRgYkUAMjEggBkYkEAMjEoiBEQnEwIgEYmBEAjEwIoG6Kz2A2eLFi1FUVKT0\\\n",
              "GOSkSkpK4O/vj8LCQpvu124CIxKprq5Okf1K/IRL6gr+97//AQByc3Ntul+egxEJxMCIBGJgRAI5\\\n",
              "7SJHU1MTjEYjGhoaYDQa0djYiLtPNyVJgpubG1QqFdRqNVQqFVxdXRWcmJyRUwUmyzLq6+tRXV0N\\\n",
              "k8nUetuDvtZkMsFkMuHWrVsAAHd3d/j4+MDT0xOSJNlsbnJeThGYLMuoqamBwWCALMsPjOrfvh8A\\\n",
              "jEYjKioqIEkSdDodtFotQyOLOHxgTU1NqKiogMlk6nBY7TEHevPmTdTW1iIwMJCHjtRpDr3IUVNT\\\n",
              "g7KyMhiNRqvEdTdZlmE0GlFWVoaamhqr/mzqOhw2MIPBgKqqKquHdS9ZllFVVQWDwSB0P+ScHDIw\\\n",
              "g8GA6upq4XGZybKM6upqRkYd5nCB1dTU2DQuM3NkPFykjnCowJqammxyWPgg5sPFpqYmRfZPjsdh\\\n",
              "ApNlGRUVFYrFZW9zkGNwmMBqampanzxWmslk4qEiPRSHCEyW5dYnke2Bvc1D9sshAquvr7foH3NF\\\n",
              "RQWWL1+OyMhIDBw4ELGxsXj33XctehQyvyzLlnbt2oUFCxYgKioKPXr0gCRJmDFjhk1nsAaDwYAt\\\n",
              "W7Zg2rRp6NOnD9RqNbRaLSIjI/H555+jublZ6RGtxiFeyWHJqmF5eTlefPFFGAwGjBkzBmFhYbhw\\\n",
              "4QK2bduGvLw8fPnll/Dx8enwzzWvKmo0mk7N1RnvvPMOfvzxR2g0Guj1evz0008227c17dy5E6+9\\\n",
              "9hoeeeQRxMbGIigoCJWVlcjKysK8efNw6NAh7Ny50ylepmb3gTU1NVl07pWcnAyDwYC33noLM2fO\\\n",
              "bL09JSUFGRkZSE1NxerVqzv1s00mE5qammz2UqrU1FTo9Xr06dMHx48fR2xsrE32a239+vXD/v37\\\n",
              "ERcXh27d/jmISklJwbBhw7B7925kZWXhueeeU3BK67D7Q0Sj0djp7y0vL0d+fj70ev19h1ILFy6E\\\n",
              "h4cH9u3bh9u3bysyX0fFxsaib9++Dv8/++jRozFlypQ2cQFAYGAg5s+fD8D2b+0Xxe4Da2ho6PTh\\\n",
              "YUFBAQDg6aefvu/O1Gg0GDp0KBoaGjp9NStZltHQ0NCp76X2mY8Gune3+4Orh2L3gVnyCHHt2jUA\\\n",
              "QEhISLvbg4ODAQDXr1/v9D5s+Qjm7O7cuYPt27cDACZOnKjwNNZh94E1NjZ2+ntra2sBAF5eXu1u\\\n",
              "N99ufsNlZ1gyH7WVlJSEixcvYvLkyZgwYYLS41iF3Qdm78812ft8jmLTpk3YsGEDHn/8cezYsUPp\\\n",
              "cazG7gOzhPkRyvxIdi/z7T169LDZTHS/zZs3Y9GiRRgwYACOHTsGX19fpUeyGqcOLDQ0FMCDz7HK\\\n",
              "ysoAPPgcjcRLS0vDggULMGjQIBw7dgyBgYFKj2RVdh+YJUvSI0aMAACcPHnyvlcH1NXV4dy5c1Cr\\\n",
              "1QgPD1dkvq5u7dq1eP311xEeHo5jx46hZ8+eSo9kdXYfmJubW6e/NygoCJGRkfjtt9+QmZnZZtum\\\n",
              "TZtw+/ZtPPPMM/Dw8FBkvq5szZo1SEpKwlNPPYWjR4/Cz89P6ZGEsPtr09+4ccOi1wze+1Kpxx57\\\n",
              "DOfPn0dBQQFCQ0M7/VIpM61Wa7P/effu3Yu9e/cCaHl95eHDhxEWFoaoqCgAgJ+fH9avX2+TWSyx\\\n",
              "bds2zJ49Gy4uLliwYAG0Wu19XxMSEoLZs2dbbZ9KXZve7p/NU6vVuHXrVqdX64KCgpCVlYWNGzfi\\\n",
              "xIkTyMvLg7+/P2bNmoXExMR279yHJUkS1Gp1p7+/o4qKirBt27Y2t5WWlqK0tBRAy/N6jhCY+fnJ\\\n",
              "v//+G2lpae1+TUxMjFUDU4rdP4I1NTWhrKzMLpfDJUlCcHAwL+vmAPjpKg/g6uoKd3d3pcdol7u7\\\n",
              "O+Oif2X3gQGAj4+P3a3WSZJk0bkbdQ0OEZg9XitekiR4enoqPQbZOYcIzHyteHuJzN7mIfvlEIEB\\\n",
              "Lcvh9nIu5u7ubtHqI3UdDhOYJEkIDAxU/FHDXuYgx+AwgQEtK4r+/v6K/eOWJAn+/v5cOaSH5lCB\\\n",
              "AS2HikqsKppXDXloSB3hcIEBgE6ns2lk5rh0Op1N9kfOwyEDA1ois8XhovmwkHFRZ9j9axH/jVar\\\n",
              "hYeHh1U/4dJMkiS4u7vzEy7JIg4dGNCy8KHX6y36jOa7SZLEz2gmq3H4wICWKLy9vaHValFfX4/q\\\n",
              "6urWi5U+TGzmiNzd3eHj42OXrxwhx+QUgZlJkgSNRgONRoOmpiYYjUY0NDTAaDSisbGxTWySJMHN\\\n",
              "zQ0qlQpqtRoqlYqHgmR1ThXY3VxdXeHq6vrAS7YR2YLDriISOQIGRiSQ3RwiLl68GAAe+BZyR+Es\\\n",
              "vwfQ8rt09rr99qaoqMimHzVlZjeBOdMdSWRmN4GR/XGGR2Ez8zU5bI3nYEQCMTAigRgYkUAMjEgg\\\n",
              "BkYkEAMjEoiBEQnEwIgEYmBEAjEwIoEYGJFADIxIIAZGJBADIxLI6QNbtmwZxowZg969e0OtVsPX\\\n",
              "1xcRERFYtWoVDAaD0uNZJDMzs/Uyc1u2bFF6nA4JCQlpnf3eP4GBgUqPZzVO/36w1NRUDB06FOPG\\\n",
              "jUPPnj1RX1+PgoICJCcnIz09HQUFBejdu7fSY3bYr7/+isTERGg0GtTV1Sk9TqdotdrWd4DfTYl3\\\n",
              "Hovi9IHdunULKpXqvttXrFiBlJQUvPfee/j4448VmKzzZFnGnDlzoNPp8Oyzz2L9+vVKj9Qp3t7e\\\n",
              "SE5OVnoMoZz+ELG9uADghRdeAAD88ssvthzHKjZt2oScnBxs3bqVH2Nr55z+EexBvv76awDAkCFD\\\n",
              "FJ6kY4qLi5GUlIRFixYhOjoaOTk5So/UaSaTCZmZmSgvL4enpyeGDBmC6OhouLi4KD2a1XSZwNav\\\n",
              "X4+6ujrU1NTghx9+QH5+PoYMGYKkpCSlR3tod+7cQUJCAoKCgpCSkqL0OBarqKhAQkJCm9tCQ0Ox\\\n",
              "detWxMTEKDSVdXWpwCorK1v/PnHiRGRkZMDf31/BqTpm9erVKCwsRH5+PtRqtdLjWGTOnDmIiorC\\\n",
              "wIED4eXlhdLSUmzevBnp6emYNGkSTp06hSeffFLpMS3m9OdgZhUVFZBlGRUVFcjKykJpaSkiIiJw\\\n",
              "7tw5pUd7KKdPn0ZKSgreeOMNjBw5UulxLLZy5UqMHj0aAQEB8PDwwKBBg/DJJ59gyZIlaGhocJrF\\\n",
              "jy4TmFlAQACmTZuGI0eOwGAwYObMmUqP9J/u3LmDmTNnol+/flizZo3S4wg1f/58AEBeXp7Ck1hH\\\n",
              "lwvMLDg4GAMGDMClS5dw8+ZNpcf5V3V1dbhy5QqKi4uhUqnaPCm7atUqAMDLL78MSZLafV7JkZgP\\\n",
              "2evr6xWexDq6zDlYe/744w8AsPtVK3d3d8ydO7fdbefOnUNhYSEiIyPRv39/hz98LCgoAACEhYUp\\\n",
              "PIl1OHVgV65cQUBAALRabZvbm5ub8fbbb+PGjRsYNWoUfHx8FJrw4ajV6ge+FCo5ORmFhYWYNWsW\\\n",
              "5s2bZ+PJOqe4uBhBQUH3PYd3/fp1JCYmAgBmzJihxGhW59SBHTx4EMuXL0dkZCRCQ0Oh0+lQWVmJ\\\n",
              "48ePo7S0FIGBgfjss8+UHrPL+eqrr7BhwwZER0cjODgYXl5euHr1KrKzs2E0GjF58mS8+eabSo9p\\\n",
              "FU4d2NixY1FSUoL8/HwUFhbir7/+gqenJ/r164eEhAQsXLgQvr6+So/Z5cTGxuLnn39GYWEhTp48\\\n",
              "ifr6enh7eyMyMhIJCQlISEhwmo/wlWRLPjHciswX58/NzVV0Dks5y+/hbJS6X7rsKiKRLTAwIoEY\\\n",
              "GJFADIxIIAZGJBADIxKIgREJxMCIBGJgRAIxMCKBGBiRQAyMSCAGRiQQAyMSiIERCcTAiARiYEQC\\\n",
              "OfUlA5RQUlKCurq61nfQOrKSkhL4+/ujsLBQ6VEcFgOzMke6FPd/cdTPHWtPeHi4IvtlYFbmTP/b\\\n",
              "O8OjsFlaWpoi++U5GJFADIxIIAZGJBADIxKIgREJxMCIBGJgRAIxMCKBGBiRQAyMSCAGRiQQAyMS\\\n",
              "iIERCcTAiATqMoEdPXoU06ZNQ2BgINzd3fHoo49iwoQJOHjwoNKjPZSMjAxIkvSvf1xcXJQe86Fl\\\n",
              "Z2dj/Pjx0Ov1UKvVCAsLw/PPP49Tp04pPZpVdYn3gy1duhQffPAB9Ho9pk6dCj8/P1RVVeHs2bPI\\\n",
              "zc3F5MmTlR7xP4WHh2PlypXtbjtx4gRycnIwadIkG0/VOcuWLcO6deug0+kQHx8PPz8/lJSUYN++\\\n",
              "fdi9eze2b9+OGTNmKD2mdch2IiYmRo6JibH6z01PT5cByLNmzZJNJtN92xsbG62+T1sbMWKEDEDe\\\n",
              "t2+fVX+uiPvkzz//lLt16yYHBATIlZWVbbbl5OTIAOTQ0FCr7lNJTn2IaDKZsGLFCgQFBSE9PR1u\\\n",
              "bm73fY2rq6sCk1nPhQsXUFBQgF69eiEuLk7pcf5TWVkZmpubMXz4cPTs2bPNttjYWHh5eaGqqkqh\\\n",
              "6azPqQ8Rv/nmG1RVVWHx4sXo1q0bsrOzcfHiRahUKgwbNgwjR45UekSLpaenAwDmzp3rEOdgffv2\\\n",
              "hZubG86cOYObN2/Cz8+vdVteXh5qa2sRHx+v4ITW5dSBff/99wAAlUqFiIgIXLx4sc326Oho7Nq1\\\n",
              "y2EvVNPQ0IDMzEy4uLhg3rx5So/zUHx9fbF27VosWbIEAwYMQHx8PHQ6Ha5evYr9+/dj3Lhx+PTT\\\n",
              "T5Ue03qUPkY1E3G8P3/+fBmA7OLiIg8ePFg+ceKEXFtbK58/f14eP368DEDIeZ+tZGRkyADkuLg4\\\n",
              "IT9f1HmxLMvynj17ZB8fHxlA658+ffrIX3zxhZD9KcWpz8Gam5sBAN27d8f+/fsRGRkJjUaDwYMH\\\n",
              "Y8+ePdDr9Th+/LjDLg2bDw9fffVVhSfpmHXr1mH69OmYPXs2rl69ivr6epw9exZhYWF46aWXsHTp\\\n",
              "UqVHtBqnDszb2xsAEBERgZCQkDbbPDw8MGHCBADAmTNnbD2axS5duoTvvvsOer3eIZ5mMMvNzcWy\\\n",
              "ZcswdepUfPjhhwgLC4OHhweGDh2KPXv2oFevXtiwYQNKS0uVHtUqnDqw/v37A/gntHv5+PgAaDmX\\\n",
              "cTSOtrhhduDAAQAtK4b38vDwwLBhw9Dc3Ow015d06sDGjBkDSZJw+fLl1sPFu5kXPUJDQ209mkWM\\\n",
              "RiN27NgBFxcXzJ07V+lxOsRkMgHAA5fizbe395SKI3LqwIKDgzFlyhSUl5dj48aNbbYdOXIEhw8f\\\n",
              "hre3NyZOnKjQhJ2zc+dOVFdXY9KkSejdu7fS43RIVFQUgJZH4N9//73NtkOHDuHkyZNQqVQYNWqU\\\n",
              "EuNZnVMv0wPARx99hMLCQixZsgTZ2dmIiIjAtWvXsHfvXri4uGDLli3QarVKj9kh5sPDV155ReFJ\\\n",
              "Om769OkYO3Ysvv32WzzxxBOtrw8tLi7GgQMHIMsy3n//feh0OqVHtQ6llzHNRC4J37hxQ05MTJSD\\\n",
              "goJkV1dXWafTyfHx8fLp06eF7E+ky5cvywBkvV4v37lzR+i+RN0njY2Ncmpqqjx8+HDZy8tLdnFx\\\n",
              "kf39/eW4uDj58OHDVt+fkiRZlmWlIwf++aCB3NxcReegf/A+sZxTn4MRKY2BEQnEwIgEYmBEAjEw\\\n",
              "IoEYGJFADIxIIAZGJBADIxKIgREJxMCIBGJgRAIxMCKBGBiRQAyMSCAGRiQQAyMSiIERCWQ3lwzQ\\\n",
              "6/Woq6tDeHi40qPQ/ysqKgIAp7lPwsPDkZaWZtN92s1VpRz1AxicmUajUXoEh2c3j2BEzojnYEQC\\\n",
              "MTAigRgYkUAMjEggBkYkEAMjEoiBEQnEwIgEYmBEAjEwIoEYGJFADIxIIAZGJBADIxKIgREJxMCI\\\n",
              "BGJgRAIxMCKBGBiRQAyMSCAGRiQQAyMSiIERCcTAiARiYEQCMTAigRgYkUAMjEggBkYkEAMjEoiB\\\n",
              "EQnEwIgE+j/3qOiIAr3vPwAAAABJRU5ErkJggg==\\\n",
              "\"\n",
              "  frames[1] = \"data:image/png;base64,iVBORw0KGgoAAAANSUhEUgAAANgAAADYCAYAAACJIC3tAAAABHNCSVQICAgIfAhkiAAAAAlwSFlz\\\n",
              "AAALEgAACxIB0t1+/AAAADh0RVh0U29mdHdhcmUAbWF0cGxvdGxpYiB2ZXJzaW9uMy4yLjIsIGh0\\\n",
              "dHA6Ly9tYXRwbG90bGliLm9yZy+WH4yJAAASYUlEQVR4nO3de1BU9f/H8dcRYXe5zIILgorcVLyk\\\n",
              "BtZ4C+HrDS+MpmXNNImXtLLSNHKUcspLM5amiY46Rjaa2h+NKWniXcE7mopTKqmAol24yCAKsQvE\\\n",
              "+f3Rb0kSS2E/57McXo8Z/2iPct7O+mw/5+zZs4qqqiqISIgWsgcg0jMGRiQQAyMSiIERCcTAiARi\\\n",
              "YEQCMTAigRgYkUAMjEggBkYkEAMjEoiBEQnEwIgEYmBEAjEwIoEYGJFADIxIIAZGJBADIxKIgREJ\\\n",
              "xMCIBGJgRAIxMCKBGBiRQAyMSCAGRiQQAyMSiIERCcTAiARiYEQCMTAigVrKHsBu1qxZuHDhguwx\\\n",
              "SKeys7Ph5+eHzMxMTffrNIERiVRWViZlvwq/4ZKag//9738AgPT0dE33y2MwIoEYGJFADIxIIJ7k\\\n",
              "aAKqqqpgtVpRUVEBq9WKyspK3H/orCgK3NzcYDQaYTKZYDQa4erqKnFismNgTkpVVZSXl6OkpAQ2\\\n",
              "m632sYf9XpvNBpvNhrt37wIADAYDfHx84OHhAUVRNJub6mJgTkZVVZSWlqK4uBiqqj40qn/78wBg\\\n",
              "tVqRn58PRVFgsVhgNpsZmgQMzIlUVVUhPz8fNpvtscOqjz3Q27dv4969ewgICODSUWM8yeEkSktL\\\n",
              "kZeXB6vV6pC47qeqKqxWK/Ly8lBaWurQn03/joE5geLiYhQVFTk8rH9SVRVFRUUoLi4Wuh/6GwOT\\\n",
              "rLi4GCUlJcLjslNVFSUlJYxMIwxMotLSUk3jsrNHxuWieAxMkqqqKk2WhQ9jXy5WVVVJ2X9zwcAk\\\n",
              "UFUV+fn50uJytjn0jIFJUFpaWvvmsWw2m41LRYEYmMZUVa19E9kZONs8etMsAvvll1/wyiuvoG3b\\\n",
              "tjAYDAgJCcGsWbNQUlKi+Szl5eUN/se8d+9eLFq0CC+99BIiIyMRHh6O2bNnN3om+2VZWikuLsb6\\\n",
              "9esxduxYdOzYESaTCWazGVFRUfjyyy9RU1Oj2Syi6f5KjpycHPTv3x+FhYV49tln0aVLF5w5cwYr\\\n",
              "V67E3r17ceLECVgsFs3macxZw7Vr1+Lnn3+Gh4cH/P39kZub65CZ7GcVPT09HfLz/svWrVvxxhtv\\\n",
              "oE2bNhg4cCCCgoJQUFCA7du3Y+rUqdizZw+2bt2qi0u7dB/Ym2++icLCQqxatQozZsyofTwhIQEr\\\n",
              "VqzAvHnzsG7dOk1mqaqqatSx1/vvv4+AgAAEBwfjzJkziI+Pd9hsNpsNVVVVmlxKFR4ejp07dyIu\\\n",
              "Lg4tWvy9iFq8eDF69+6Nbdu2Yfv27Xj++eeFzyKarpeIOTk52L9/P0JCQvDWW2/V2bZw4UJ4eHhg\\\n",
              "8+bNmi2PrFZro/583759ERISIuz/7I2d71ENGjQIo0aNqhMXAAQEBGDatGkAtP9ovyi6DiwtLQ0A\\\n",
              "EBsb+8CT6eXlhWeeeQZ//PEHMjIyNJmnoqLCaU8mqKqKiooK2WPUvoK2bKmPxZWuA7ty5QqAv5Yk\\\n",
              "9enUqRMA4OrVq5rMo9UrREPJnq+6uhqbNm0CAAwfPlzqLI6i68Ds7++YzeZ6t9sfv3PnjibzVFZW\\\n",
              "arKfhpI9X2JiIi5evIiRI0di2LBhUmdxFF0H5mycdXloJ3O+VatWYfny5ejSpQs2b94sbQ5H03Vg\\\n",
              "9leoh12pYH/c29tbs5noQatXr8bMmTPRrVs3pKWloVWrVrJHchhdB9a5c2cADz/GunbtGoCHH6OR\\\n",
              "eElJSZgxYwa6d++OtLQ0BAQEyB7JoXQd2MCBAwEA+/fvf+DqgHv37uHEiRNwd3dH3759NZnH2d84\\\n",
              "1Xq+JUuW4J133kFERATS0tLQunVrTfevBV0H1qFDB8TGxuLGjRtYs2ZNnW3z589HeXk54uPj4eHh\\\n",
              "ock8bm5umuynobSc76OPPkJiYiKeeuopHDp0CL6+vprtW0u6vzf9Py+V6tq1K06fPo20tDSEh4fj\\\n",
              "5MmTml0qVVhY2Kgr1w8cOICDBw8CAG7fvo1jx46hffv2ePrppwEAPj4+SExMbPDPN5vNmryKfPXV\\\n",
              "V5g0aRJcXFwwY8aMes/yhoSEYNKkSQ7bp6x70+vj3bx/0aFDB5w9exYffvgh9u7di927d6NNmzaY\\\n",
              "OXMm5s+fDx8fH81mMZlMuHv3boPP1mVlZSElJaXOY7du3cKtW7cAAO3atWtwYIqiwGQyNejPPq7r\\\n",
              "168DAP78808kJSXV+3tiYmIcGpgsun8FcyZVVVXIy8tzytP1iqIgODhYt7d147erNAOurq4wGAyy\\\n",
              "x6iXwWDQbVwyMTCN+fj4ON3ZREVRNF0qNycMTGPOeK94RVE0O5Pa3DAwjdnvFe8skTnbPHrDwCQw\\\n",
              "m81OcyxmMBgeejE0NR4Dk0BRFAQEBEh/1XCWOfSMgUni6uoKPz8/af+4FUWBn58fzxwKxsAkMpvN\\\n",
              "Us4q2s8acmkoHgOTzGKxaBqZPS4t76TVnDEwJ2CxWDRZLtqXhYxLO7q/FrGpMJvNcHd3d+g3XNop\\\n",
              "igKDwcBvuJSAgTkRV1dXBAYGNuo7mu+nKAq/o1kyBuZkFEWBt7c3zGYzysvLUVJSUnuz0keJzR6R\\\n",
              "wWCAj4+PU1450pwwMCelKAo8PT3h6emJqqoqWK1WVFRUwGq1orKysk5siqLAzc0NRqMRJpMJRqOR\\\n",
              "S0EnwcCaAFdXV7i6usLLy0v2KPSYeBaRSCAGRiSQ0ywRZ82aBQAP/Qh5U6GXvwfw19/lwoULssdw\\\n",
              "iAsXLmj29Uz3c5rA9PREEtk5TWDkfPTwKmxnvyeH1ngMRiQQAyMSiIERCcTAiARiYEQCMTAigRgY\\\n",
              "kUAMjEggBkYkEAMjEoiBEQnEwIgEYmBEAjEwIoF0H9jcuXMxePBgtG/fHiaTCa1atUJkZCQWLlyI\\\n",
              "4uJi2eM1ypYtW2pvzbZ+/XrZ4zyWkJCQ2tn/+SsgIED2eA6j+8+DrVixAr169cLQoUPRunVrlJeX\\\n",
              "IyMjAwsWLEBycjIyMjLQvn172WM+tlu3bmH69Onw9PREWVmZ7HEaxGw2134C/H4yPnksiu4Du3v3\\\n",
              "LoxG4wOPz5s3D4sXL8bHH3+MtWvXSpis4VRVxeTJk2GxWPDcc89h2bJlskdqEG9vbyxYsED2GELp\\\n",
              "folYX1wA8OKLLwIArl27puU4DrFq1SocPnwYGzZs4Fe/Ojndv4I9zPfffw8A6Nmzp+RJHk9WVhYS\\\n",
              "ExMxc+ZMREdH4/Dhw7JHajCbzYYtW7bg5s2b8PDwQM+ePREdHQ0XFxfZozlMswls2bJlKCsrQ2lp\\\n",
              "Kc6ePYvjx4+jZ8+eSExMlD3aI6uurkZ8fDyCgoKwePFi2eM0Wn5+PuLj4+s8Fhoaig0bNiAmJkbS\\\n",
              "VI7VrAIrKCio/e/hw4dj48aN8PPzkzjV41m0aBEyMzNx/PhxmEwm2eM0yuTJkzFgwAA88cQT8PLy\\\n",
              "Qm5uLlavXo3k5GSMGDECp06dwpNPPil7zEbT/TGYXX5+PlRVRX5+PrZv347c3FxERkbi/Pnzskd7\\\n",
              "JKdPn8bixYvx7rvvol+/frLHabT58+dj0KBB8Pf3h7u7O7p3745169YhISEBFRUVujn50WwCs/P3\\\n",
              "98fYsWOxf/9+FBcXY8KECbJH+k/V1dWYMGECwsPD8dFHH8keR6hp06YBAI4ePSp5EsdodoHZBQcH\\\n",
              "o1u3brh06RJu374te5x/VVZWhqtXryIrKwtGo7HOm7ILFy4EALz66qtQFKXe95WaEvuSvby8XPIk\\\n",
              "jtFsjsHq89tvvwGA05+1MhgMmDJlSr3bzp8/j8zMTERFRaFz585NfvmYkZEBAAgLC5M8iWPoOrCr\\\n",
              "V6/C398fZrO5zuM1NTX44IMPUFhYiP79+8PHx0fShI/GZDI99FKoBQsWIDMzExMnTsTUqVM1nqxh\\\n",
              "srKyEBQU9MB7eDdu3MD06dMBAOPHj5cxmsPpOrDdu3fjvffeQ1RUFEJDQ2GxWFBQUIAjR44gNzcX\\\n",
              "AQEB+OKLL2SP2ex88803WL58OaKjoxEcHAwvLy/k5OQgNTUVVqsVI0eOxOzZs2WP6RC6DmzIkCHI\\\n",
              "zs7G8ePHkZmZiTt37sDDwwPh4eGIj4/H22+/jVatWskes9kZOHAgrly5gszMTJw4cQLl5eXw9vZG\\\n",
              "VFQU4uPjER8fr5uvvVVUR36dfSPYb86fnp4udY7G0svfQ29kPS/N9iwikRYYGJFADIxIIAZGJBAD\\\n",
              "IxKIgREJxMCIBGJgRAIxMCKBGBiRQAyMSCAGRiQQAyMSiIERCcTAiARiYEQCMTAigXR9ywAZsrOz\\\n",
              "UVZWVvsJ2qYsOzsbfn5+yMzMlD1Kk8XAHKwp3Yr7vzTV7x2rT0REhJT9MjAH09P/7fXwKmyXlJQk\\\n",
              "Zb88BiMSiIERCcTAiARiYEQCMTAigRgYkUAMjEggBkYkEAMjEoiBEQnEwIgEYmBEAjEwIoEYGJFA\\\n",
              "zSawQ4cOYezYsQgICIDBYEDbtm0xbNgw7N69W/Zoj2Tjxo1QFOVff7m4uMge85GlpqYiNjYWgYGB\\\n",
              "MJlMCAsLwwsvvIBTp07JHs2hmsXnwebMmYNPP/0UgYGBGD16NHx9fVFUVIRz584hPT0dI0eOlD3i\\\n",
              "f4qIiMD8+fPr3Xbs2DEcPnwYI0aM0Hiqhpk7dy6WLl0Ki8WCMWPGwNfXF9nZ2dixYwe2bduGTZs2\\\n",
              "Yfz48bLHdAzVScTExKgxMTEO/7nJyckqAHXixImqzWZ7YHtlZaXD96m1vn37qgDUHTt2OPTninhO\\\n",
              "fv/9d7VFixaqv7+/WlBQUGfb4cOHVQBqaGioQ/cpk66XiDabDfPmzUNQUBCSk5Ph5ub2wO9xdXWV\\\n",
              "MJnj/PTTT8jIyEC7du0QFxcne5z/lJeXh5qaGvTp0wetW7eus23gwIHw8vJCUVGRpOkcT9dLxAMH\\\n",
              "DqCoqAizZs1CixYtkJqaiosXL8JoNKJ3797o16+f7BEbLTk5GQAwZcqUJnEM1qlTJ7i5ueHMmTO4\\\n",
              "ffs2fH19a7cdPXoU9+7dw5gxYyRO6Fi6DuyHH34AABiNRkRGRuLixYt1tkdHR+Pbb79tsjeqqaio\\\n",
              "wJYtW+Di4oKpU6fKHueRtGrVCkuWLEFCQgK6deuGMWPGwGKxICcnBzt37sTQoUPx+eefyx7TcWSv\\\n",
              "Ue1ErPenTZumAlBdXFzUHj16qMeOHVPv3bun/vjjj2psbKwKQMhxn1Y2btyoAlDj4uKE/HxRx8Wq\\\n",
              "qqopKSmqj4+PCqD2V8eOHdWvv/5ayP5k0fUxWE1NDQCgZcuW2LlzJ6KiouDp6YkePXogJSUFgYGB\\\n",
              "OHLkSJM9NWxfHr7++uuSJ3k8S5cuxbhx4zBp0iTk5OSgvLwc586dQ1hYGF5++WXMmTNH9ogOo+vA\\\n",
              "vL29AQCRkZEICQmps83d3R3Dhg0DAJw5c0br0Rrt0qVLOHnyJAIDA5vE2wx26enpmDt3LkaPHo3P\\\n",
              "PvsMYWFhcHd3R69evZCSkoJ27dph+fLlyM3NlT2qQ+g6sM6dOwP4O7R/8vHxAfDXsUxT09RObtjt\\\n",
              "2rULwF9nDP/J3d0dvXv3Rk1NjW7uL6nrwAYPHgxFUXD58uXa5eL97Cc9QkNDtR6tUaxWKzZv3gwX\\\n",
              "FxdMmTJF9jiPxWazAcBDT8XbH6/vLZWmSNeBBQcHY9SoUbh58yZWrlxZZ9v+/fuxb98+eHt7Y/jw\\\n",
              "4ZImbJitW7eipKQEI0aMQPv27WWP81gGDBgA4K9X4F9//bXOtj179uDEiRMwGo3o37+/jPEcTten\\\n",
              "6QFgzZo1yMzMREJCAlJTUxEZGYnr16/ju+++g4uLC9avXw+z2Sx7zMdiXx6+9tprkid5fOPGjcOQ\\\n",
              "IUNw8OBBdO3atfb60KysLOzatQuqquKTTz6BxWKRPapjyD6NaSfylHBhYaE6ffp0NSgoSHV1dVUt\\\n",
              "Fos6ZswY9fTp00L2J9Lly5dVAGpgYKBaXV0tdF+inpPKykp1xYoVap8+fVQvLy/VxcVF9fPzU+Pi\\\n",
              "4tR9+/Y5fH8yKaqqqrIjB/7+ooH09HSpc9Df+Jw0nq6PwYhkY2BEAjEwIoEYGJFADIxIIAZGJBAD\\\n",
              "IxKIgREJxMCIBGJgRAIxMCKBGBiRQAyMSCAGRiQQAyMSiIERCcTAiARiYEQCOc0tAwIDA1FWVoaI\\\n",
              "iAjZo9D/u3DhAgDo5jmJiIhAUlKSpvt0mrtKNdUvYNAzT09P2SM0eU7zCkakRzwGIxKIgREJxMCI\\\n",
              "BGJgRAIxMCKBGBiRQAyMSCAGRiQQAyMSiIERCcTAiARiYEQCMTAigRgYkUAMjEggBkYkEAMjEoiB\\\n",
              "EQnEwIgEYmBEAjEwIoEYGJFADIxIIAZGJBADIxKIgREJxMCIBGJgRAIxMCKBGBiRQAyMSCAGRiTQ\\\n",
              "/wF0Yui7ZKP0ygAAAABJRU5ErkJggg==\\\n",
              "\"\n",
              "  frames[2] = \"data:image/png;base64,iVBORw0KGgoAAAANSUhEUgAAANgAAADYCAYAAACJIC3tAAAABHNCSVQICAgIfAhkiAAAAAlwSFlz\\\n",
              "AAALEgAACxIB0t1+/AAAADh0RVh0U29mdHdhcmUAbWF0cGxvdGxpYiB2ZXJzaW9uMy4yLjIsIGh0\\\n",
              "dHA6Ly9tYXRwbG90bGliLm9yZy+WH4yJAAASGklEQVR4nO3de1BU9f/H8dcRF5bbd4EFJV25pXhJ\\\n",
              "DXRSM5VIxdtkMGP9oySpkzajiUyjNNpoN9PSvIw2RjqZ2jSleUs0LQXvaBlYhqmI4lSiSMhNdsH4\\\n",
              "/P7wtxgKJXI+5yyH12OGP9qje97M+mzPOXv2HEUIIUBEUrTRewAiI2NgRBIxMCKJGBiRRAyMSCIG\\\n",
              "RiQRAyOSiIERScTAiCRiYEQSMTAiiRgYkUQMjEgiBkYkEQMjkoiBEUnEwIgkYmBEEjEwIokYGJFE\\\n",
              "DIxIIgZGJBEDI5KIgRFJxMCIJGJgRBIxMCKJGBiRRAyMSCIGRiQRAyOSqK3eAzglJycjJydH7zHI\\\n",
              "oPLy8hAUFITs7GxN1+sygRHJVFFRoct6Fd7hklqDp59+GgCQmZmp6Xq5D0YkEQMjkoiBEUnEwIgk\\\n",
              "YmBEEjEwIokYGJFEDIxIIgZGJBEDI5KIgRFJxMCIJGJgRBIxMCKJGBiRRK0isN9//x2TJk1Chw4d\\\n",
              "4OHhgbCwMCQnJ6OkpETv0Zpky5YtmDFjBgYPHoz//e9/UBQFEyZM0HusJisuLsbatWuRkJCAzp07\\\n",
              "w9PTExaLBYMGDcK6detQW1ur94iqMfw3mi9evIiBAwfi+vXreO6559CtWzecPHkSK1aswLfffouj\\\n",
              "R4/CarXqPeYDeeedd3D69Gn4+PjAZrPht99+03ukh7J582a88soreOSRRxAbG4uQkBBcu3YNW7du\\\n",
              "xZQpU7Bnzx5s3rwZiqLoPWrzCYOLi4sTAMTKlSvrPT5r1iwBQEydOlWnyZruwIED4vz586K2tlZk\\\n",
              "ZGQIAGL8+PF6j9Vk+/fvFzt37hR///13vcevXr0qOnXqJACILVu2qLrOmJgYERMTo+pzPghDB5aX\\\n",
              "lycAiLCwsPtezLKyMuHt7S28vLxERUWFThM+vJYc2L959913BQAxffp0VZ9Xr8AMvQ+WkZEBAIiL\\\n",
              "i0ObNvV/VV9fXzz11FO4desWsrKy9BiPGmAymQAAbdsaY+/F0IGdO3cOABAZGdng8i5dugAAzp8/\\\n",
              "r9lM1Ljbt29jw4YNAICRI0fqPI06DB1YaWkpAMBisTS43Pn4zZs3NZuJGpeamoozZ85g9OjRGDFi\\\n",
              "hN7jqMLQgVHLsXLlSixduhTdunXDxo0b9R5HNYYOzPkO5Xwnu5fzcT8/P81movutWrUKM2fORI8e\\\n",
              "PZCRkYGAgAC9R1KNoQPr2rUrgMb3sS5cuACg8X00km/58uWYMWMGevbsiYyMDAQHB+s9kqoMHVhs\\\n",
              "bCwAYN++ffedHVBeXo6jR4/Cy8sLAwYM0GO8Vm/x4sWYNWsWoqKikJGRgXbt2uk9kuoMHdijjz6K\\\n",
              "uLg4XL58GatXr663bP78+aisrERiYiK8vb11mrD1evvtt5Gamoq+ffti//79CAwM1HskKQx/bfp7\\\n",
              "T5Xq3r07Tpw4gYyMDERGRuLYsWMt5lSp7du3Y/v27QCAwsJC7N27FxERERg8eDAAIDAwEEuWLNFz\\\n",
              "xAfy2WefISkpCW5ubpgxY0aDR3nDwsKQlJSk2jr1uja9oc/kcLpy5YpISkoSwcHBwmQyiZCQEDFz\\\n",
              "5kzx119/6T1ak8yfP18AaPQnNDRU7xEfyH/9HgBUP+tCrzM5DP8ORgTw7ipEhsTAiCRiYEQSMTAi\\\n",
              "iRgYkUQMjEgiBkYkEQMjkoiBEUnEwIgkYmBEEjEwIokYGJFEDIxIIgZGJBEDI5KIgRFJ5DIXAE9O\\\n",
              "TgZw5zJeLZlRfg/gzu+Sk5Oj9xiqyMnJgY+Pj+brdZnAjPRCEjm5TGDkeozwLuzkvCaH1rgPRiQR\\\n",
              "AyOSiJuILUBNTQ3sdjuqqqpgt9tRXV2Nf15tT1EUuLu7w2w2w9PTE2azue5GdqQvBuaihBCorKxE\\\n",
              "SUkJHA5H3WON/VmHwwGHw4GysjIAgIeHB/z9/eHt7W2Mm4m3UAzMxQghUFpaiuLiYog799Bu8t8H\\\n",
              "ALvdjsLCQiiKAqvVCovFwtB0wMBcSE1NDQoLC+FwOJocVkOcgd64cQPl5eUIDg7mpqPGeJDDRZSW\\\n",
              "lqKgoAB2u12VuP5JCAG73Y6CgoJGb0ZIcjAwF1BcXIyioiLVw7qXEAJFRUUoLi6Wuh66i4HprLi4\\\n",
              "GCUlJdLjchJCoKSkhJFphIHpqLS0VNO4nJyRcXNRPgamk5qaGk02Cxvj3FysqanRZf2tBQPTgRAC\\\n",
              "hYWFusXlanMYGQPTQWlpad2Hx3pzOBzcVJSIgWlMCFH3IbIrcLV5jMbwgc2ZMwdDhw5Fp06d4Onp\\\n",
              "iYCAAERHR+PNN9/U5UhaZWWlav+Yd+zYgcjISERGRuKrr7566OdxnpalpbCwMCiK0uBPcHCwprPI\\\n",
              "ZPgzOZYtW4Y+ffpg+PDhaNeuHSorK5GVlYUFCxYgLS0NWVlZ6NSpk2bzqHXU8OrVq3jrrbfg7e3d\\\n",
              "7DicRxW1/savxWKp+wb4P+nxzWNZDB9YWVkZzGbzfY/PnTsXCxcuxHvvvYePPvpIk1lqampU2fcS\\\n",
              "QiA1NRV+fn6Ii4vDunXrmv2cDocDNTU1mp5K5efnhwULFmi2Pj0YfhOxobgA4IUXXgAAXLhwQbNZ\\\n",
              "7Ha7Ks+zYcMGZGVlYdGiRfD09FTlOQH15qO7DP8O1phvvvkGANC7d2/N1llVVdXszcO8vDwsWbIE\\\n",
              "EydOxBNPPIHjx4+rMpsQAlVVVfD19VXl+R6Ew+HApk2bcOXKFXh7e6N3794YMmQI3NzcNJtBtlYT\\\n",
              "2JIlS1BRUYHS0lL8+OOPOHLkCHr37o3U1FTNZmjuO8Tt27cxe/ZsdOjQASkpKSpNdZfW72CFhYVI\\\n",
              "TEys91h4eDg+/fRTxMTEaDqLLK0qsGvXrtX998iRI7F+/XoEBQVpNkN1dXWz/v7q1auRm5uLL774\\\n",
              "otFN3+Zo7nxN8dJLL2Hw4MF47LHH4Ovri/z8fKxatQppaWkYNWoUjh8/jscff1yzeWQx/D6Yk/OM\\\n",
              "hcLCQmzduhX5+fmIjo7GTz/9pNkMzdk8PH36NNasWYNJkyYhOjpaxanu0vKzsPnz5+OZZ55B+/bt\\\n",
              "4eXlhZ49e2LNmjVISUlBVVWVYQ5+tJrAnNq3b4+EhATs27cPxcXFePHFF/Ue6T85Nw3DwsIaPKxt\\\n",
              "JNOmTQMAHDp0SOdJ1NFqNhHvFRoaih49eiAnJwc3btxAYGCg3iM16tatW7h06RIAoGfPng3+mXnz\\\n",
              "5mHevHmYOHEi5s6dq+V4qnJusmv9wbcsrTYwAPjzzz8BQLOjVoqiPNRmmLu7O8aNG9fgstzcXOTm\\\n",
              "5qJv374IDw9HVFRUs+bTW1ZWFgAgIiJC50nUYejAzp8/j/bt28NisdR7vLa2Fm+88QauX7+OgQMH\\\n",
              "wt/fX5N53N3dH+qDZrPZjIULFza4bOXKlcjNzUVCQkLdZ3vNmU8LZ8+eRUhICLy9ves9fvnyZUyf\\\n",
              "Ph0AMGHCBE1mkc3Qge3evRuvv/46Bg0ahPDwcFitVly7dg0HDx5Efn4+goOD8cknn2g2j9lsdpmz\\\n",
              "6Bsi48hkQ7788kssXboUQ4YMQWhoKHx9fXHx4kWkp6fDbrdj9OjReO211zSZRTZDBzZs2DDk5eXh\\\n",
              "yJEjyM7Oxs2bN+Ht7Y3IyEgkJibi1VdfRUBAgGbzeHp6oqyszCXPXFcURdWzQv5NbGwszp07h+zs\\\n",
              "bBw9ehSVlZXw8/PDoEGDkJiYiMTERJfYXFWDIlzk1XZenD8zM1PXOZrr336PmpoaFBQUuGxgoaGh\\\n",
              "hr2sm17/vlrdYXo9mUwmeHh46D1Ggzw8PAwbl54YmMb8/f1dbvNHURTNDvS0NgxMY654rXhFUe47\\\n",
              "okfqYGAac14r3lUic7V5jIaB6cBisbjMvpiHh8d9nxOSehiYDpzXndD7XcNV5jAyBqYTk8mEoKAg\\\n",
              "3f5xK4qCoKAgHjmUjIHpyGKx6HJU0XnUkJuG8jEwnVmtVk0jc8ZltVo1WV9rx8BcgNVq1WRz0blZ\\\n",
              "yLi0Y+hzEVsSi8UCLy8vVe9w6aQoCjw8PHiHSx0wMBdiMplgs9madY/mf3JeKZf3aNYPA3MxiqLA\\\n",
              "z88PFosFlZWVKCkpqfuKy4PE5ozIw8MD/v7+LnnmSGvCwFyUoijw8fGBj48PampqYLfbUVVVBbvd\\\n",
              "jurq6nqxKYoCd3d3mM1meHp6wmw2c1PQRTCwFsBkMsFkMml6UVBSB48iEknEwIgk4iaiyvLy8lBR\\\n",
              "UVH3DdqWLC8vD0FBQcjOztZ7lBaLgalMy0txy1ZRUaH3CKppzuXsmoOBqcxI/7c3wruw0/Lly3VZ\\\n",
              "L/fBiCRiYEQSMTAiiRgYkUQMjEgiBkYkEQMjkoiBEUnEwIgkYmBEEjEwIokYGJFEDIxIIgZGJFGr\\\n",
              "CWz//v1ISEhAcHAwPDw80KFDB4wYMQK7d+/We7QHsn79+rrLsDX24+bmpveYDyw9PR1xcXGw2Wzw\\\n",
              "9PREREQEnn/+eRw/flzv0VTVKr4PNnv2bHzwwQew2WwYO3YsAgMDUVRUhFOnTiEzMxOjR4/We8T/\\\n",
              "FBUVhfnz5ze47PDhwzhw4ABGjRql8VQPZ86cOXj//fdhtVoRHx+PwMBA5OXlYceOHfj666+xYcMG\\\n",
              "TJgwQe8x1SFcRExMjIiJiVH9edPS0gQAMXHiROFwOO5bXl1drfo6tTZgwAABQOzYsUPV55Xxmly9\\\n",
              "elW0adNGtG/fXly7dq3esgMHDggAIjw8XNV16snQm4gOhwNz585FSEgI0tLS4O7uft+faenXD/zl\\\n",
              "l1+QlZWFjh07YsyYMXqP858KCgpQW1uL/v37o127dvWWxcbGwtfXF0VFRTpNpz5DbyJ+9913KCoq\\\n",
              "QnJyMtq0aYP09HScOXMGZrMZ/fr1w5NPPqn3iM2WlpYGAJg8eXKL2Afr0qUL3N3dcfLkSdy4cQOB\\\n",
              "gYF1yw4dOoTy8nLEx8frOKG6DB3YDz/8AAAwm82Ijo7GmTNn6i0fMmQItmzZ0mIvVFNVVYVNmzbB\\\n",
              "zc0NU6ZM0XucBxIQEIDFixcjJSUFPXr0QHx8PKxWKy5evIidO3di+PDh+Pjjj/UeUz16b6M6ydje\\\n",
              "nzZtmgAg3NzcRK9evcThw4dFeXm5+Pnnn0VcXJwAIGW/Tyvr168XAMSYMWOkPL+s/WIhhNi2bZvw\\\n",
              "9/cXAOp+OnfuLD7//HMp69OLoffBamtrAQBt27bFzp07MWjQIPj4+KBXr17Ytm0bbDYbDh482GIP\\\n",
              "DTs3D6dOnarzJE3z/vvvY9y4cUhKSsLFixdRWVmJU6dOISIiAuPHj8fs2bP1HlE1hg7Mz88PABAd\\\n",
              "HY2wsLB6y7y8vDBixAgAwMmTJ7Uerdl+/fVXHDt2DDabrUV8zOCUmZmJOXPmYOzYsfjwww8REREB\\\n",
              "Ly8v9OnTB9u2bUPHjh2xdOlS5Ofn6z2qKgwdWNeuXQHcDe1e/v7+AO7sy7Q0Le3ghtOuXbsA3Dli\\\n",
              "eC8vLy/069cPtbW1hrm+pKEDGzp0KBRFQW5ubt3m4j85D3qEh4drPVqz2O12bNy4EW5ubpg8ebLe\\\n",
              "4zSJ815njR2Kdz7e0EcqLZGhAwsNDcWzzz6LK1euYMWKFfWW7du3D3v37oWfnx9Gjhyp04QPZ/Pm\\\n",
              "zSgpKcGoUaPQqVMnvcdpksGDBwO48w78xx9/1Fu2Z88eHD16FGazGQMHDtRjPNUZ+jA9AKxevRrZ\\\n",
              "2dlISUlBeno6oqOjcenSJWzfvh1ubm5Yu3YtLBaL3mM2iXPz8OWXX9Z5kqYbN24chg0bhu+//x7d\\\n",
              "u3evOz/07Nmz2LVrF4QQWLRokXFu1K73YUwnmYeEr1+/LqZPny5CQkKEyWQSVqtVxMfHixMnTkhZ\\\n",
              "n0y5ubkCgLDZbOL27dtS1yXrNamurhbLli0T/fv3F76+vsLNzU0EBQWJMWPGiL1796q+Pj0pQqh4\\\n",
              "O/tmcN5oIDMzU9c56C6+Js1n6H0wIr0xMCKJGBiRRAyMSCIGRiQRAyOSiIERScTAiCRiYEQSMTAi\\\n",
              "iRgYkUQMjEgiBkYkEQMjkoiBEUnEwIgkYmBEEjEwIolc5pIBNpsNFRUViIqK0nsU+n85OTkAYJjX\\\n",
              "JCoqCsuXL9d0nS5zVamWegMGI/Px8dF7hBbPZd7BiIyI+2BEEjEwIokYGJFEDIxIIgZGJBEDI5KI\\\n",
              "gRFJxMCIJGJgRBIxMCKJGBiRRAyMSCIGRiQRAyOSiIERScTAiCRiYEQSMTAiiRgYkUQMjEgiBkYk\\\n",
              "EQMjkoiBEUnEwIgkYmBEEjEwIokYGJFEDIxIIgZGJBEDI5KIgRFJxMCIJPo/81Es+eJdyqUAAAAA\\\n",
              "SUVORK5CYII=\\\n",
              "\"\n",
              "  frames[3] = \"data:image/png;base64,iVBORw0KGgoAAAANSUhEUgAAANgAAADYCAYAAACJIC3tAAAABHNCSVQICAgIfAhkiAAAAAlwSFlz\\\n",
              "AAALEgAACxIB0t1+/AAAADh0RVh0U29mdHdhcmUAbWF0cGxvdGxpYiB2ZXJzaW9uMy4yLjIsIGh0\\\n",
              "dHA6Ly9tYXRwbG90bGliLm9yZy+WH4yJAAASMElEQVR4nO3deVDU9R/H8dfXddkDaIEFJV0RSUGd\\\n",
              "dEDNK5UcFa9J0bFmGu+0rBnxalIbp/EqU9M8ymYiG03tD0fzyiMtAfNITcXKoxQ1jxRFQhBklzU+\\\n",
              "vz/8LYVCcnw/+939+nrM8Ee7tt83sz79Hvvd71cRQggQkRR1tB6ASM8YGJFEDIxIIgZGJBEDI5KI\\\n",
              "gRFJxMCIJGJgRBIxMCKJGBiRRAyMSCIGRiQRAyOSiIERScTAiCRiYEQSMTAiiRgYkUQMjEgiBkYk\\\n",
              "EQMjkoiBEUnEwIgkYmBEEjEwIokYGJFEDIxIIgZGJBEDI5KIgRFJxMCIJKqr9QAekyZNwsmTJ7Ue\\\n",
              "g3QqKysLERERyMzM9OpyfSYwIpkKCws1Wa7CO1zSk+CFF14AAGRkZHh1udwHI5KIgRFJxMCIJGJg\\\n",
              "RBIxMCKJGBiRRAyMSCIGRiQRAyOSiIERScTAiCRiYEQSMTAiiRgYkUQMjEiiJyKwa9eu4dVXX0WD\\\n",
              "Bg1gMpkQHR2NSZMmIS8vT+vRqmXjxo1ISUlB165d8dRTT0FRFAwbNkzrsaotNzcXK1euxKBBg9C0\\\n",
              "aVNYLBbYbDZ06dIFX3zxBUpLS7UeUTW6/0bzhQsX0LlzZ9y6dQsDBw5E8+bNcfToUSxbtgzffvst\\\n",
              "Dh48CLvdrvWYVfLee+/h559/RlBQEBwOB3777TetR6qRDRs24M0338TTTz+N7t27IyoqCjdv3sSm\\\n",
              "TZswduxY7Nq1Cxs2bICiKFqPWntC55KSkgQAsXz58nKPT548WQAQ48aN02iy6ktLSxPnzp0TpaWl\\\n",
              "Ij09XQAQQ4cO1Xqsatu7d6/Ytm2b+Pvvv8s9fuPGDdGoUSMBQGzcuFHVZSYmJorExERVX7MqdB1Y\\\n",
              "VlaWACCio6MfeTMLCgpEYGCgsFqtorCwUKMJa86fA/sv77//vgAgxo8fr+rrahWYrvfB0tPTAQBJ\\\n",
              "SUmoU6f8rxocHIznn38e9+7dw+HDh7UYjypgNBoBAHXr6mPvRdeB/f777wCA2NjYCp9v1qwZAODc\\\n",
              "uXNem4kqd//+faxZswYA0KdPH42nUYeuA8vPzwcA2Gy2Cp/3PH7nzh2vzUSVmz59Ok6dOoV+/fqh\\\n",
              "d+/eWo+jCl0HRv5j+fLlWLx4MZo3b461a9dqPY5qdB2YZw3lWZM9zPN4SEiI12aiR33yySeYOHEi\\\n",
              "WrZsifT0dISFhWk9kmp0HVhcXByAyvexzp8/D6DyfTSSb+nSpUhJScGzzz6L9PR0REZGaj2SqnQd\\\n",
              "WPfu3QEAe/bseeTsgLt37+LgwYOwWq3o2LGjFuM98RYsWIDJkycjPj4e6enpqFevntYjqU7XgT3z\\\n",
              "zDNISkrCH3/8gRUrVpR7bubMmSgqKsLw4cMRGBio0YRPrrlz52L69Olo27Yt9u7di/DwcK1HkkL3\\\n",
              "16Z/+FSpFi1a4MiRI0hPT0dsbCwOHTrkN6dKbdmyBVu2bAEAZGdnY/fu3YiJiUHXrl0BAOHh4Vi0\\\n",
              "aJGWI1bJl19+iVGjRsFgMCAlJaXCo7zR0dEYNWqUasvU6tr0uj6Tw+PKlSti1KhRIjIyUhiNRhEV\\\n",
              "FSUmTpwo/vrrL61Hq5aZM2cKAJX+NG7cWOsRq+RxvwcA1c+60OpMDt2vwYgA3l2FSJcYGJFEDIxI\\\n",
              "IgZGJBEDI5KIgRFJxMCIJGJgRBIxMCKJGBiRRAyMSCIGRiQRAyOSiIERScTAiCRiYEQSMTAiiXzm\\\n",
              "AuCTJk0C8OAyXv5ML78H8OB3OXnypNZjqOLkyZMICgry+nJ9JjA9vZFEHj4TGPkePayFPTzX5PA2\\\n",
              "7oMRScTAiCTiJiJ5jdvthtPpRHFxMZxOJ0pKSvDvqwYqioKAgACYzWZYLBaYzeayG/L5KwZGUgkh\\\n",
              "UFRUhLy8PLhcrrLHKvuzLpcLLpcLBQUFAACTyYTQ0FAEBgb65U3RGRhJIYRAfn4+cnNzIR7cC7za\\\n",
              "/z8AOJ1OZGdnQ1EU2O122Gw2vwqNgZHq3G43srOz4XK5qh1WRTyB3r59G3fv3kVkZKTfbDryIAep\\\n",
              "Kj8/H5cvX4bT6VQlrn8TQsDpdOLy5cuV3lTR1zAwUk1ubi5ycnJUD+thQgjk5OQgNzdX6nLUwMBI\\\n",
              "Fbm5ucjLy5Mel4cQAnl5eT4fGQOjWsvPz/dqXB6eyHx5c5GBUa243W6vbBZWxrO56Ha7NVn+4zAw\\\n",
              "qjEhBLKzszWLy9fmqAgDoxrLz88v+/BYay6Xyyc3FRkY1YgQouxDZF/ga/N46D6wadOmoUePHmjU\\\n",
              "qBEsFgvCwsKQkJCA2bNn+/wRqMdZt24dFEWBoihYuXKlV5ddVFRUq7/M3bt3R2xsbIU/nTt3rtFr\\\n",
              "ek7L8iW6P5NjyZIlaNOmDXr16oV69eqhqKgIhw8fxqxZs5CamorDhw+jUaNGWo9ZbVevXsX48eMR\\\n",
              "FBSEwsJCry9fjaOGwcHBGDly5COPBwYG1uj1PEcVtfjmcmV0H1hBQQHMZvMjj8+YMQPz5s3DBx98\\\n",
              "gE8//VSDyWpOCIHRo0fDbrdj8ODBWLRokVeX73a7Vdn3euqppzBhwgQVJvqHy+WC2+32mVOpdL+J\\\n",
              "WFFcAPDyyy8DAM6fP+/NcVSxfPlypKWlYdWqVTX+1742nE6n15dZHb40n+7XYJX55ptvAACtW7fW\\\n",
              "eJLqOXv2LKZPn46JEyeiW7duSEtL8/oMxcXFqhxMKCkpwdatW3H9+nVYrVbExcXhueeeg8FgqPFr\\\n",
              "CiFQXFyM4ODgWs+nhicmsEWLFqGwsBD5+fk4duwYDhw4gNatW2P69Olaj1Zl9+/fx/DhwxEVFYV5\\\n",
              "8+ZpNodaa4icnBy8/fbb5R5zOByYP38+2rdvX+PX5RpMA4sWLcLNmzfL/rtPnz5YvXo1IiIiNJyq\\\n",
              "eubMmYPMzEwcOHAAFotFszlKSkpq/RqDBw9Gu3bt0KxZMwQGBuLq1atYt24d1q9fj7Fjx2L9+vVo\\\n",
              "0aKFZvOpRff7YB6eT/qzs7OxadMmXLx4EQkJCThx4oTWo1XJkSNHMG/ePLz11lvo1KmTprOosXmY\\\n",
              "kpKCTp06ITw8HBaLBbGxsZgzZw5Gjx4Np9OJjz/+WNP51PLEBOZRv359DBo0CHv27EFubi5GjBih\\\n",
              "9UiPdf/+fYwYMQKxsbGYO3eu1uNI9corrwAAjh07pvEk6njiAvNo3LgxWrZsidOnT+P27dtaj/Of\\\n",
              "CgsLce7cOZw9exZms7nsw2VFUTB79mwAwGuvvQZFUcquLOyvwsLCAAD37t3TeBJ1PDH7YBW5fv06\\\n",
              "ANTqqJU3mEwmjBkzpsLnTpw4gczMTHTp0gVxcXFe2XxUFEXaZpjnysi1+fDfl67ZoevAzp07h/r1\\\n",
              "68Nms5V7vLS0FO+++y5u3bqFzp07IzQ0VKMJq8ZisVR6KtSsWbOQmZmJkSNHYuzYsV6ZJyAgoFYf\\\n",
              "NGdlZaFBgwawWq3lHr927RrmzJkDABgwYECt5vMVug5s586deOedd9ClSxc0adIEdrsdN2/exL59\\\n",
              "+3Dx4kVERkbi888/13pMv2M2m2sV2M6dO7Fq1Sq0a9cODRs2RGBgIK5cuYKMjAy4XC4kJiZWusau\\\n",
              "6ny+QteB9ezZE1lZWThw4AAyMzNx584dBAYGIjY2FsOHD8eECRPKtvmp6iwWCwoKCmq8mdixY0dc\\\n",
              "unQJZ86cwYkTJ8o+GG7bti0GDhyI5OTkGm/mKYqi6UcYD1OEjxzT9FycPyMjQ9M5aksvv8d/cbvd\\\n",
              "uHz5sk8dDvdQFAWNGzd+5FxErd6XJ/YoItWc0WiEyWTSeowKmUwmnznRF2BgVEOhoaE+dbQOeLD2\\\n",
              "8rUDVgyMasQXrxWvKIom3y74LwyMasRzrXhficzX5vFgYFRjNpvNZ/bFTCbTI593+gIGRjWmKAoi\\\n",
              "IyM1X2v4yhwVYWBUK0ajEREREZr95VYUBRERET515PDfGBjVms1m0+SooueooS9uGnowMFKF3W73\\\n",
              "amSeuOx2u1eWV1MMjFRjt9u9srno2Sz09bgAnZ+LSN5ns9lgtVpVvcOlh6IoMJlMfnWHSwZGqjMa\\\n",
              "jXA4HLW6R/O/eb5cyns0E/2foigICQmBzWZDUVER8vLyyr7iUpXYPBGZTCaEhob65JkjVcHASCpF\\\n",
              "URAUFISgoCC43W44nU4UFxfD6XSipKSkXGyKoiAgIABmsxkWiwVms9lvNgUrw8DIa4xGI4xGo89c\\\n",
              "FNQbeBSRSCIGRiQRNxFVlpWVhcLCwrJv0PqzrKwsREREIDMzU+tR/BYDU5k/XYr7cbS475gs8fHx\\\n",
              "miyXgalMT//a62Et7LF06VJNlst9MCKJGBiRRAyMSCIGRiQRAyOSiIERScTAiCRiYEQSMTAiiRgY\\\n",
              "kUQMjEgiBkYkEQMjkoiBEUn0xAS2d+9eDBo0CJGRkTCZTGjQoAF69+6NnTt3aj1alaxevbrs8mWV\\\n",
              "/RgMBq3HrLIdO3YgKSkJDocDFosFMTExeOmll/Djjz9qPZqqnojvg02dOhUffvghHA4HBgwYgPDw\\\n",
              "cOTk5OD48ePIyMhAv379tB7xseLj4zFz5swKn9u/fz/S0tLQt29fL09VM9OmTcPChQtht9uRnJyM\\\n",
              "8PBwZGVlYevWrfj666+xZs0aDBs2TOsx1SF8RGJiokhMTFT9dVNTUwUAMXLkSOFyuR55vqSkRPVl\\\n",
              "elvHjh0FALF161ZVX1fGe3Ljxg1Rp04dUb9+fXHz5s1yz6WlpQkAokmTJqouU0u63kR0uVyYMWMG\\\n",
              "oqKikJqaioCAgEf+jL9fd+/XX3/F4cOH0bBhQ/Tv31/rcR7r8uXLKC0tRYcOHVCvXr1yz3Xv3h3B\\\n",
              "wcHIycnRaDr16XoT8bvvvkNOTg4mTZqEOnXqYMeOHTh16hTMZjPat2+PTp06aT1iraWmpgIAxowZ\\\n",
              "4xf7YM2aNUNAQACOHj2K27dvIzw8vOy5H374AXfv3kVycrKGE6pL14H99NNPAACz2YyEhAScOnWq\\\n",
              "3PPdunXDxo0b/fZCNcXFxVi3bh0MBgPGjh2r9ThVEhYWhgULFmDKlClo2bIlkpOTYbfbceHCBWzb\\\n",
              "tg29evXCZ599pvWY6tF6G9VDxvb+G2+8IQAIg8EgWrVqJfbv3y/u3r0rfvnlF5GUlCQASNnv85bV\\\n",
              "q1cLAKJ///5SXl/WfrEQQmzevFmEhoYKAGU/TZs2FV999ZWU5WlF1/tgpaWlAIC6deti27Zt6NKl\\\n",
              "C4KCgtCqVSts3rwZDocD+/bt89tDw57Nw3Hjxmk8SfUsXLgQQ4YMwahRo3DhwgUUFRXh+PHjiImJ\\\n",
              "wdChQzF16lStR1SNrgMLCQkBACQkJCA6Orrcc1arFb179wYAHD161Nuj1drp06dx6NAhOBwOv/iY\\\n",
              "wSMjIwPTpk3DgAED8NFHHyEmJgZWqxVt2rTB5s2b0bBhQyxevBgXL17UelRV6DqwuLg4AP+E9rDQ\\\n",
              "0FAAD/Zl/I2/Hdzw2L59O4AHRwwfZrVa0b59e5SWlurm+pK6DqxHjx5QFAVnzpwp21z8N89BjyZN\\\n",
              "mnh7tFpxOp1Yu3YtDAYDxowZo/U41eK5R1hlh+I9j1f0kYo/0nVgjRs3xosvvogrV65g2bJl5Z7b\\\n",
              "s2cPdu/ejZCQEPTp00ejCWtmw4YNyMvLQ9++fdGoUSOtx6mWrl27AniwBv7zzz/LPbdr1y4cPHgQ\\\n",
              "ZrMZnTt31mI81en6MD0ArFixApmZmZgyZQp27NiBhIQEXLp0CVu2bIHBYMDKlSths9m0HrNaPJuH\\\n",
              "r7/+usaTVN+QIUPQs2dPfP/992jRokXZ+aFnz57F9u3bIYTA/Pnz/eIG51Wi9WFMD5mHhG/duiXG\\\n",
              "jx8voqKihNFoFHa7XSQnJ4sjR45IWZ5MZ86cEQCEw+EQ9+/fl7osWe9JSUmJWLJkiejQoYMIDg4W\\\n",
              "BoNBREREiP79+4vdu3ervjwtKUKoeBv4WvDcaCAjI0PTOegffE9qT9f7YERaY2BEEjEwIokYGJFE\\\n",
              "DIxIIgZGJBEDI5KIgRFJxMCIJGJgRBIxMCKJGBiRRAyMSCIGRiQRAyOSiIERScTAiCRiYEQS+cwl\\\n",
              "AxwOBwoLCxEfH6/1KPR/J0+eBADdvCfx8fFYunSpV5fpM1eV8tcbMOhZUFCQ1iP4PZ9ZgxHpEffB\\\n",
              "iCRiYEQSMTAiiRgYkUQMjEgiBkYkEQMjkoiBEUnEwIgkYmBEEjEwIokYGJFEDIxIIgZGJBEDI5KI\\\n",
              "gRFJxMCIJGJgRBIxMCKJGBiRRAyMSCIGRiQRAyOSiIERScTAiCRiYEQSMTAiiRgYkUQMjEgiBkYk\\\n",
              "EQMjkoiBEUn0Pwo2LheMw9SaAAAAAElFTkSuQmCC\\\n",
              "\"\n",
              "  frames[4] = \"data:image/png;base64,iVBORw0KGgoAAAANSUhEUgAAANgAAADYCAYAAACJIC3tAAAABHNCSVQICAgIfAhkiAAAAAlwSFlz\\\n",
              "AAALEgAACxIB0t1+/AAAADh0RVh0U29mdHdhcmUAbWF0cGxvdGxpYiB2ZXJzaW9uMy4yLjIsIGh0\\\n",
              "dHA6Ly9tYXRwbG90bGliLm9yZy+WH4yJAAASKElEQVR4nO3de1BU9f/H8dcRl11u7XITNG5aoXlB\\\n",
              "qMa8AKYiAk05OFP/JIhpWTNe8FJhToOX0kl0UkebBjQt7Q8vo44OmhYs3lFL0DQS0RQb5SIiArGI\\\n",
              "cn5/+Fu+omCyu589y+H1mOGP9sSeN4NP9tz2rCTLsgwiEqKb0gMQqRkDIxKIgREJxMCIBGJgRAIx\\\n",
              "MCKBGBiRQAyMSCAGRiQQAyMSiIERCcTAiARiYEQCMTAigRgYkUAMjEggBkYkEAMjEoiBEQnEwIgE\\\n",
              "YmBEAjEwIoEYGJFADIxIIAZGJBADIxKIgREJxMCIBGJgRAIxMCKBGBiRQN2VHsAsNTUVhYWFSo9B\\\n",
              "KlVSUgJfX18UFBTYdb0OExiRSHV1dYqsV+InXFJX8MYbbwAA8vLy7Lpe7oMRCcTAiARiYEQCMTAi\\\n",
              "gRgYkUAMjEggBkYkEAMjEoiBEQnEwIgEYmBEAjEwIoEYGJFADIxIIAZGJFCXCOyff/7B+++/j169\\\n",
              "ekGr1SIkJASpqamorq5WerQO2bFjB2bMmIGoqCg899xzkCQJEydOVHqsDquqqsL69euRmJiIF198\\\n",
              "ES4uLtDr9YiMjMSGDRvQ3Nys9Ig2o/p3NF++fBnDhw9HRUUFxo8fj379+uHUqVNYvXo1fv75Zxw7\\\n",
              "dgze3t5Kj/lMvvzyS5w9exbu7u4ICAjAX3/9pfRIFtm+fTs+/vhj9OzZE6NGjUJQUBDKy8uxc+dO\\\n",
              "TJ06Ffv378f27dshSZLSo1pPVrnY2FgZgLxmzZpWj8+ePVsGIE+bNk2hyTouNzdXLi4ulpubm2Wj\\\n",
              "0SgDkN977z2lx+qwnJwcec+ePfKDBw9aPX7z5k05MDBQBiDv2LHDpuscOXKkPHLkSJs+57NQdWAl\\\n",
              "JSUyADkkJOSJX+bdu3dlNzc32dXVVa6rq1NoQst15sCe5quvvpIByNOnT7fp8yoVmKr3wYxGIwAg\\\n",
              "NjYW3bq1/lE9PDwwYsQI/Pvvv8jPz1diPGqDRqMBAHTvro69F1UHdvHiRQBAaGhom8tfeuklAEBx\\\n",
              "cbHdZqL23b9/Hz/++CMAIC4uTuFpbEPVgdXU1AAA9Hp9m8vNj9+5c8duM1H70tLScP78eSQkJGDc\\\n",
              "uHFKj2MTqg6MOo81a9Zg5cqV6NevHzZv3qz0ODaj6sDMr1DmV7LHmR83GAx2m4metHbtWsyaNQv9\\\n",
              "+/eH0WiEl5eX0iPZjKoD69u3L4D297EuXboEoP19NBJv1apVmDFjBgYOHAij0Qh/f3+lR7IpVQc2\\\n",
              "atQoAMDBgwefuDqgtrYWx44dg6urK4YOHarEeF3e119/jdmzZyM8PBxGoxE9evRQeiSbU3VgL7zw\\\n",
              "AmJjY3H16lWsW7eu1bL09HTU19cjKSkJbm5uCk3YdS1ZsgRpaWl49dVXkZOTAx8fH6VHEkL196Z/\\\n",
              "/FKpl19+GSdPnoTRaERoaCiOHz/eaS6V2r17N3bv3g0AKCsrw4EDB9CnTx9ERUUBAHx8fLBixQol\\\n",
              "R3wmP/zwA1JSUuDk5IQZM2a0eZQ3JCQEKSkpNlunUvemV/WVHGalpaVySkqK7O/vL2s0GjkoKEie\\\n",
              "NWuWfPv2baVH65D09HQZQLtfwcHBSo/4TP7r5wBg86sulLqSQ/WvYEQAP12FSJUYGJFADIxIIAZG\\\n",
              "JBADIxKIgREJxMCIBGJgRAIxMCKBGBiRQAyMSCAGRiQQAyMSiIERCcTAiARiYEQCMTAigRzmBuCp\\\n",
              "qakAHt7GqzNTy88BPPxZCgsLlR7DJgoLC+Hu7m739TpMYGr6RRKZOUxg5HjU8CpsZr4nh71xH4xI\\\n",
              "IAZGJBADIxKIgREJxMCIBGJgRAIxMCKBGBiRQAyMSCAGRiQQAyMSiIERCcTAiARiYEQCqT6wzz77\\\n",
              "DGPGjEFgYCBcXFzg5eWFiIgILFq0CFVVVUqPZ5UtW7ZAkiRIkoT169crPU6HhISEtMz++Je/v7/S\\\n",
              "49mM6t8P9s033+CVV17B2LFj0aNHD9TX1yM/Px8LFy5EZmYm8vPzERgYqPSYHXb9+nVMnz4d7u7u\\\n",
              "qKurU3oci+j1+pZ3gD9KiXcei6L6wO7evQudTvfE4wsWLMDSpUuxbNkyfPvttwpMZjlZljF58mR4\\\n",
              "e3tjwoQJWLFihdIjWcRgMGDhwoVKjyGU6jcR24oLAN59910AwKVLl+w5jk2sWbMGubm52LhxI9zc\\\n",
              "3JQeh55C9a9g7dm7dy8AICwsTOFJOqaoqAhpaWmYNWsWoqOjkZubq/RIFmtsbMSWLVtQWloKNzc3\\\n",
              "hIWFITo6Gk5OTkqPZjNdJrAVK1agrq4ONTU1+O2333D06FGEhYUhLS1N6dGe2f3795GUlISgoCAs\\\n",
              "XbpU6XGsVlZWhqSkpFaP9e7dGxs3bsTIkSMVmsq2ulRg5eXlLf8dFxeHTZs2wdfXV8GpOmbx4sUo\\\n",
              "KCjA0aNH4eLiovQ4Vpk8eTKioqIwYMAAeHh44MqVK1i7di0yMzMRHx+PEydOYPDgwUqPaTXV74OZ\\\n",
              "lZWVQZZllJWVYefOnbhy5QoiIiJw5swZpUd7JidPnsTSpUsxd+5cDBs2TOlxrJaeno7Ro0fDz88P\\\n",
              "rq6uGDhwIL777jvMmTMHDQ0Nqjn40WUCM/Pz80NiYiIOHjyIqqoqJCcnKz3Sf7p//z6Sk5MRGhqK\\\n",
              "JUuWKD2OUB999BEA4PDhwwpPYhtdLjCz4OBg9O/fHxcuXMCtW7eUHuep6urqUFxcjKKiIuh0ulYn\\\n",
              "ZRctWgQA+OCDDyBJUpvnlToT8yZ7fX29wpPYRpfZB2vLjRs3AMDhj1pptVpMmTKlzWVnzpxBQUEB\\\n",
              "IiMj0bdv306/+Zifnw8A6NOnj8KT2IaqAysuLoafnx/0en2rx5ubm/HFF1+goqICw4cPh6enp0IT\\\n",
              "PhsXF5d2L4VauHAhCgoKMGnSJEydOtXOk1mmqKgIQUFBT5zDu3r1KqZPnw4AmDhxohKj2ZyqA9u3\\\n",
              "bx/mz5+PyMhI9O7dG97e3igvL8ehQ4dw5coV+Pv7IysrS+kxu5ytW7di5cqViI6ORnBwMDw8PHD5\\\n",
              "8mVkZ2fDZDIhISEB8+bNU3pMm1B1YDExMSgpKcHRo0dRUFCAO3fuwM3NDaGhoUhKSsLMmTPh5eWl\\\n",
              "9JhdzqhRo3Dx4kUUFBTg2LFjqK+vh8FgQGRkJJKSkpCUlARJkpQe0yYkWZZlpYcA/ndz/ry8PEXn\\\n",
              "sJZafg61Uer30mWPIhLZAwMjEoiBEQnEwIgEYmBEAjEwIoEYGJFADIxIIAZGJBADIxKIgREJxMCI\\\n",
              "BGJgRAIxMCKBGBiRQAyMSCAGRiSQqm8ZoISSkhLU1dW1vIO2MyspKYGvry8KCgqUHqXTYmA21plu\\\n",
              "xf1fOuvnjrUlPDxckfUyMBtT0197NbwKm61atUqR9XIfjEggBkYkEAMjEoj7YGQ3TU1NMJlMaGho\\\n",
              "gMlkwr179/DobTklSYKzszN0Oh1cXFyg0+mg0WgUnNh6DIyEkmUZ9fX1qK6uRmNjY8tj7f2/jY2N\\\n",
              "aGxsxN27dwE8/OALT09PuLm5dcq7/TIwEkKWZdTU1KCqqgqyLLcb1dO+HwBMJhPKysogSRK8vb2h\\\n",
              "1+s7VWgMjGyuqakJZWVlaGxs7HBYbTEHeuvWLdTW1sLf37/TbDryIAfZVE1NDa5duwaTyWSTuB4l\\\n",
              "yzJMJhOuXbuGmpoamz63KAyMbKaqqgqVlZU2D+txsiyjsrISVVVVQtdjCwyMbKKqqgrV1dXC4zKT\\\n",
              "ZRnV1dUOHxkDI6vV1NTYNS4zc2SOvLnIwMgqTU1NdtksbI95c7GpqUmR9f8XBkYWk2UZZWVlisXl\\\n",
              "aHO0hYGRxWpqalpOHiutsbHRITcVu0xgOTk5SExMhL+/P7RaLXr16oVx48Zh3759So/2TDZt2gRJ\\\n",
              "kp765eTkZLd5ZFluOYlsCaPRiMmTJyMqKgqDBg3C6NGjMXPmTIvf7mPtPKJ0iRPNn376KTIyMhAQ\\\n",
              "EIC3334bPj4+qKysxO+//468vDwkJCQoPeJ/Cg8PR3p6epvLjhw5gtzcXMTHx9ttnvr6eov/MWdk\\\n",
              "ZCArKwsGgwExMTHw9PREaWkpcnJycODAASxfvhzjx4/v8POaL8tyd3e3aC4RVB9YVlYWMjIyMGnS\\\n",
              "JGRmZsLZ2bnVckfdOX5ceHh4u+/KHTZsGADgww8/tNs8lh41rKysxIYNG+Dj44O9e/fC29u7ZVl+\\\n",
              "fj6Sk5OxevVqiwOrrq52qMBUvYnY2NiIBQsWICgoqM24AHSaS27a88cffyA/Px/PP/883nzzTbus\\\n",
              "s6mpyeJ9rxs3bqC5uRmDBw9uFRcADB06FG5ubqiurrZ4tsbGRof6o6nqV7BffvkFlZWVSE1NRbdu\\\n",
              "3ZCdnY3z589Dp9NhyJAhLX/5O7PMzEwAwJQpU+y2D2YymSz+3uDgYGg0Gpw7dw63b9+Gl5dXy7LT\\\n",
              "p0+jvr4eMTExVs/nKH84VR3Y6dOnAQA6nQ4RERE4f/58q+XR0dHYsWNHp71RTUNDA7Zs2QInJydM\\\n",
              "nTrVruu1dP/LYDDgk08+wbJly5CQkICYmBgYDAZcv34dOTk5GDFiBJYsWWLxbLIso6GhAR4eHhY/\\\n",
              "hy2pehOxoqICwMOdakmScOTIEdTW1uLcuXOIjY3F4cOH8c477yg8peW2bduGO3fuIC4uDoGBgXZb\\\n",
              "rzWvYACQkpKCtWvX4sGDB9i2bRsyMzOxf/9+9OzZExMmTHhi09He89mSqgNrbm4GAHTv3h179uxB\\\n",
              "ZGQk3N3dMWjQIOzatQsBAQE4dOgQTpw4ofCkljFvHk6bNs2u6713755V35+VlYWZM2ciMTERv/76\\\n",
              "K86ePYtdu3YhMDAQc+fOxfLlyxWdz5ZUHZjBYAAAREREICQkpNUyV1dXjBs3DgBw6tQpe49mtQsX\\\n",
              "LuD48eMICAiw+2kGa841nTx5EhkZGRg9ejQ+//xzBAUFwcXFBQMGDMC6devg5+eH77//HqWlpYrM\\\n",
              "Z2uqDqxv374A/hfa4zw9PQE83KfobJQ4uGELRqMRAPD6668/sczFxQVhYWFobm5GUVGRvUcTQtWB\\\n",
              "jRkzBpIk4c8//2zZXHyU+aBH79697T2aVUwmEzZv3gwnJydMmTJF6XE6xLz51t6h+Nu3bwPo/KdP\\\n",
              "zFQdWHBwMN566y2UlpZi9erVrZYdPHgQBw4cgMFgQFxcnEITWmb79u2orq5GfHy8XQ9umFlzT4zX\\\n",
              "XnsNALB161aUlZW1Wnbo0CGcOXMGWq0WERERisxna6o+TA8A69atQ0FBAebMmYPs7GxERETg77//\\\n",
              "xu7du+Hk5IT169dDr9crPWaHmDcP7XnlxqOcnZ0tPtEcFxeH4cOH4/jx44iPj8fYsWPh6+uLy5cv\\\n",
              "w2g0QpZlzJs3r2Xz3dL5HIUkO8geofk+6Hl5eTZ/7srKSixevBh79uzBzZs38dxzzyEqKgrz58/H\\\n",
              "kCFDbL4+kYqKitC/f38EBATg6tWrQve/2vudVFRUWHXlelNTE3766SdkZ2ejpKQEJpMJer0eYWFh\\\n",
              "SE5ORmRkpBVTA3q9Hj169LDqOWylSwRGlmnvd1JbW4vy8nKHOlpnJkkS/Pz8eKKZOi+dTqf0CE/l\\\n",
              "SPMxMOowjUYDrVar9Bht0mq1DnUEkoGRRTw9PR3qaB3wcPPQmoMjIjAwsogj3itekiS4ubkpPUYr\\\n",
              "DIwsYr5XvKNE5mjzmDEwspher3eYfTGtVuuQ5zMZGFlMkiT4+/sr/qrhKHO0hYGRVTQaDXx9fRX7\\\n",
              "xy1JEnx9fR3qyOGjGBhZTa/XK3JU0XzU0BE3Dc0YGNmEt7e3XSMzx2Xtu59FY2BkM97e3nbZXDRv\\\n",
              "Fjp6XEAXuJqe7Euv18PV1dWmn3BpJkkStFptp/qESwZGNqfRaBAQEGDVZzQ/ynxrcH5GM9H/kyQJ\\\n",
              "BoMBer0e9fX1qK6ubnkP2bPEZo5Iq9XC09PTIa8ceRYMjISSJAnu7u5wd3dHU1MTTCYTGhoaYDKZ\\\n",
              "cO/evVaxSZIEZ2dn6HQ6uLi4QKfTdZpNwfYwMLIbjUYDjUbjMO/VsgceRSQSiIERCeQwtwwICAhA\\\n",
              "XV1dux/RQ/ZXWFgIAKr5nYSHh2PVqlV2XafD7IN11g9gUDNH+pytzsphXsGI1Ij7YEQCMTAigRgY\\\n",
              "kUAMjEggBkYkEAMjEoiBEQnEwIgEYmBEAjEwIoEYGJFADIxIIAZGJBADIxKIgREJxMCIBGJgRAIx\\\n",
              "MCKBGBiRQAyMSCAGRiQQAyMSiIERCcTAiARiYEQCMTAigRgYkUAMjEggBkYkEAMjEoiBEQnEwIgE\\\n",
              "+j/D6Pks1yOQNQAAAABJRU5ErkJggg==\\\n",
              "\"\n",
              "\n",
              "\n",
              "    /* set a timeout to make sure all the above elements are created before\n",
              "       the object is initialized. */\n",
              "    setTimeout(function() {\n",
              "        anim681037d6a9a748248376c7a5824f3c78 = new Animation(frames, img_id, slider_id, 200.0,\n",
              "                                 loop_select_id);\n",
              "    }, 0);\n",
              "  })()\n",
              "</script>\n"
            ],
            "text/plain": [
              "<IPython.core.display.HTML object>"
            ]
          },
          "metadata": {
            "tags": []
          },
          "execution_count": 108
        }
      ]
    }
  ]
}