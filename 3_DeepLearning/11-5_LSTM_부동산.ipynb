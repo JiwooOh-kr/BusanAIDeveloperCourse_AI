{
  "nbformat": 4,
  "nbformat_minor": 0,
  "metadata": {
    "colab": {
      "name": "11-5_LSTM_부동산.ipynb",
      "provenance": [],
      "collapsed_sections": [],
      "mount_file_id": "1uPQwUycTw_mhIWp2qV_DvKVPB1f1H7hc",
      "authorship_tag": "ABX9TyNh3il4N2ry2ZE5vyT8Omks",
      "include_colab_link": true
    },
    "kernelspec": {
      "name": "python3",
      "display_name": "Python 3"
    },
    "accelerator": "GPU"
  },
  "cells": [
    {
      "cell_type": "markdown",
      "metadata": {
        "id": "view-in-github",
        "colab_type": "text"
      },
      "source": [
        "<a href=\"https://colab.research.google.com/github/jkjh23/BusanAIDeveloperCourse_AI/blob/master/3_DeepLearning/11-5_LSTM_%EB%B6%80%EB%8F%99%EC%82%B0.ipynb\" target=\"_parent\"><img src=\"https://colab.research.google.com/assets/colab-badge.svg\" alt=\"Open In Colab\"/></a>"
      ]
    },
    {
      "cell_type": "markdown",
      "metadata": {
        "id": "Pknp-ZIOumvk"
      },
      "source": [
        "# 데이터 불러오기\n",
        "- 부동산 개별 실거래가는 매달에 맞춰 거래가 일어나지 않는다. \n",
        "- 한국감정원에서 배포하는 [전국주택가격지수](http://www.r-one.co.kr/rone/resis/common/sub/sub.do?pageVal=page_2_2) 중에서 강남구 아파트 가격 지수를 이용하여 예측"
      ]
    },
    {
      "cell_type": "code",
      "metadata": {
        "id": "_gA-FO9qvV5M"
      },
      "source": [
        "import pandas as pd\n",
        "import numpy as np\n",
        "import matplotlib.pyplot as plt\n",
        "%matplotlib inline"
      ],
      "execution_count": null,
      "outputs": []
    },
    {
      "cell_type": "code",
      "metadata": {
        "id": "PsSvhz1Tubku",
        "outputId": "52953177-a11e-46b3-d1ff-2e0b0dcc5626",
        "colab": {
          "base_uri": "https://localhost:8080/",
          "height": 431
        }
      },
      "source": [
        "dir = '/content/drive/My Drive/2020_AI_Busan/4_DeepLearning/LSTM_Data/aptsellindex_gangnamgu.csv'\n",
        "df  = pd.read_csv(dir, parse_dates=['date'], index_col='date', engine='python', encoding='euc-kr', dtype={'trade_price_idx_value' : 'float'})\n",
        "df"
      ],
      "execution_count": null,
      "outputs": [
        {
          "output_type": "execute_result",
          "data": {
            "text/html": [
              "<div>\n",
              "<style scoped>\n",
              "    .dataframe tbody tr th:only-of-type {\n",
              "        vertical-align: middle;\n",
              "    }\n",
              "\n",
              "    .dataframe tbody tr th {\n",
              "        vertical-align: top;\n",
              "    }\n",
              "\n",
              "    .dataframe thead th {\n",
              "        text-align: right;\n",
              "    }\n",
              "</style>\n",
              "<table border=\"1\" class=\"dataframe\">\n",
              "  <thead>\n",
              "    <tr style=\"text-align: right;\">\n",
              "      <th></th>\n",
              "      <th>trade_price_idx_value</th>\n",
              "    </tr>\n",
              "    <tr>\n",
              "      <th>date</th>\n",
              "      <th></th>\n",
              "    </tr>\n",
              "  </thead>\n",
              "  <tbody>\n",
              "    <tr>\n",
              "      <th>2006-01-01</th>\n",
              "      <td>74.2</td>\n",
              "    </tr>\n",
              "    <tr>\n",
              "      <th>2006-02-01</th>\n",
              "      <td>75.8</td>\n",
              "    </tr>\n",
              "    <tr>\n",
              "      <th>2006-03-01</th>\n",
              "      <td>78.1</td>\n",
              "    </tr>\n",
              "    <tr>\n",
              "      <th>2006-04-01</th>\n",
              "      <td>81.4</td>\n",
              "    </tr>\n",
              "    <tr>\n",
              "      <th>2006-05-01</th>\n",
              "      <td>83.6</td>\n",
              "    </tr>\n",
              "    <tr>\n",
              "      <th>...</th>\n",
              "      <td>...</td>\n",
              "    </tr>\n",
              "    <tr>\n",
              "      <th>2018-10-01</th>\n",
              "      <td>109.7</td>\n",
              "    </tr>\n",
              "    <tr>\n",
              "      <th>2018-12-01</th>\n",
              "      <td>109.3</td>\n",
              "    </tr>\n",
              "    <tr>\n",
              "      <th>2019-01-01</th>\n",
              "      <td>108.3</td>\n",
              "    </tr>\n",
              "    <tr>\n",
              "      <th>2019-02-01</th>\n",
              "      <td>107.5</td>\n",
              "    </tr>\n",
              "    <tr>\n",
              "      <th>2019-03-01</th>\n",
              "      <td>106.7</td>\n",
              "    </tr>\n",
              "  </tbody>\n",
              "</table>\n",
              "<p>165 rows × 1 columns</p>\n",
              "</div>"
            ],
            "text/plain": [
              "            trade_price_idx_value\n",
              "date                             \n",
              "2006-01-01                   74.2\n",
              "2006-02-01                   75.8\n",
              "2006-03-01                   78.1\n",
              "2006-04-01                   81.4\n",
              "2006-05-01                   83.6\n",
              "...                           ...\n",
              "2018-10-01                  109.7\n",
              "2018-12-01                  109.3\n",
              "2019-01-01                  108.3\n",
              "2019-02-01                  107.5\n",
              "2019-03-01                  106.7\n",
              "\n",
              "[165 rows x 1 columns]"
            ]
          },
          "metadata": {
            "tags": []
          },
          "execution_count": 2
        }
      ]
    },
    {
      "cell_type": "code",
      "metadata": {
        "id": "t59JFR1Xve_c",
        "outputId": "7d0828ff-300b-4409-9b2d-522b3a6fa85e",
        "colab": {
          "base_uri": "https://localhost:8080/",
          "height": 158
        }
      },
      "source": [
        "df.info()"
      ],
      "execution_count": null,
      "outputs": [
        {
          "output_type": "stream",
          "text": [
            "<class 'pandas.core.frame.DataFrame'>\n",
            "DatetimeIndex: 165 entries, 2006-01-01 to 2019-03-01\n",
            "Data columns (total 1 columns):\n",
            " #   Column                 Non-Null Count  Dtype  \n",
            "---  ------                 --------------  -----  \n",
            " 0   trade_price_idx_value  165 non-null    float64\n",
            "dtypes: float64(1)\n",
            "memory usage: 2.6 KB\n"
          ],
          "name": "stdout"
        }
      ]
    },
    {
      "cell_type": "code",
      "metadata": {
        "id": "NgA9i9tFwTy8",
        "outputId": "85e75291-fb45-4e8a-a17a-f5b2fae7c82e",
        "colab": {
          "base_uri": "https://localhost:8080/",
          "height": 286
        }
      },
      "source": [
        "df['trade_price_idx_value'].plot()"
      ],
      "execution_count": null,
      "outputs": [
        {
          "output_type": "execute_result",
          "data": {
            "text/plain": [
              "<matplotlib.axes._subplots.AxesSubplot at 0x7fd349798470>"
            ]
          },
          "metadata": {
            "tags": []
          },
          "execution_count": 4
        },
        {
          "output_type": "display_data",
          "data": {
            "image/png": "[encoded data removed]",
            "text/plain": [
              "<Figure size 432x288 with 1 Axes>"
            ]
          },
          "metadata": {
            "tags": [],
            "needs_background": "light"
          }
        }
      ]
    },
    {
      "cell_type": "markdown",
      "metadata": {
        "id": "AaVZrgxG0weB"
      },
      "source": [
        "# 데이터 전처리"
      ]
    },
    {
      "cell_type": "markdown",
      "metadata": {
        "id": "O0qeccup2cUS"
      },
      "source": [
        "## 데이터 분할\n",
        "- 훈련 데이터와 테스트 데이터 분리\n",
        "  - 2014년 강남구 아파트 매매지수의 저점이 특이점\n",
        "  - 2017년 1월 1일 이후 데이터를 테스트 데이터로 분리"
      ]
    },
    {
      "cell_type": "code",
      "metadata": {
        "id": "WRHYCLON1dJk"
      },
      "source": [
        "split_date = pd.Timestamp('01-01-2017')\n",
        "train      = df.loc[:split_date, ['trade_price_idx_value']]\n",
        "test       = df.loc[split_date:, ['trade_price_idx_value']]"
      ],
      "execution_count": null,
      "outputs": []
    },
    {
      "cell_type": "code",
      "metadata": {
        "id": "K8I6mAbP1-TU",
        "outputId": "2b3449aa-5a40-4aee-8662-02b99d510511",
        "colab": {
          "base_uri": "https://localhost:8080/",
          "height": 269
        }
      },
      "source": [
        "ax = train.plot()\n",
        "test.plot(ax=ax)\n",
        "plt.legend(['train', 'test'])\n",
        "plt.show()"
      ],
      "execution_count": null,
      "outputs": [
        {
          "output_type": "display_data",
          "data": {
            "image/png": "[encoded data removed]",
            "text/plain": [
              "<Figure size 432x288 with 1 Axes>"
            ]
          },
          "metadata": {
            "tags": [],
            "needs_background": "light"
          }
        }
      ]
    },
    {
      "cell_type": "markdown",
      "metadata": {
        "id": "I1lt2TGx2K_x"
      },
      "source": [
        "## 데이터 스케일링\n"
      ]
    },
    {
      "cell_type": "code",
      "metadata": {
        "id": "tm_MhKaZ2ffB"
      },
      "source": [
        "from sklearn.preprocessing import MinMaxScaler\n",
        "sc       = MinMaxScaler()\n",
        "train_sc = sc.fit_transform(train)\n",
        "test_sc  = sc.fit_transform(test)"
      ],
      "execution_count": null,
      "outputs": []
    },
    {
      "cell_type": "code",
      "metadata": {
        "id": "6KB3KrW72uex",
        "outputId": "26a1a1ac-72c3-4ef0-ad64-062d223dd080",
        "colab": {
          "base_uri": "https://localhost:8080/",
          "height": 34
        }
      },
      "source": [
        "## 위도우 작업을 위해 판다스 데이터프레임 타입으로 변환\n",
        "train_sc_df = pd.DataFrame(train_sc, columns=['trade_price_idx_value'], index=train.index)\n",
        "test_sc_df  = pd.DataFrame(test_sc,  columns=['trade_price_idx_value'], index=test.index)\n",
        "train_sc_df.shape, test_sc_df.shape"
      ],
      "execution_count": null,
      "outputs": [
        {
          "output_type": "execute_result",
          "data": {
            "text/plain": [
              "((137, 1), (28, 1))"
            ]
          },
          "metadata": {
            "tags": []
          },
          "execution_count": 8
        }
      ]
    },
    {
      "cell_type": "markdown",
      "metadata": {
        "id": "Pz5rfh313ASt"
      },
      "source": [
        "## Window 구성"
      ]
    },
    {
      "cell_type": "code",
      "metadata": {
        "id": "dr_leV823fej",
        "outputId": "fb0761bb-2283-4089-b8d1-b0d8a009c664",
        "colab": {
          "base_uri": "https://localhost:8080/",
          "height": 680
        }
      },
      "source": [
        "for s in range(1, 13) :\n",
        "  train_sc_df['shift_{}'.format(s)] = train_sc_df['trade_price_idx_value'].shift(s)\n",
        "  test_sc_df['shift_{}'.format(s)]  = test_sc_df['trade_price_idx_value'].shift(s)\n",
        "train_sc_df.head(13)"
      ],
      "execution_count": null,
      "outputs": [
        {
          "output_type": "execute_result",
          "data": {
            "text/html": [
              "<div>\n",
              "<style scoped>\n",
              "    .dataframe tbody tr th:only-of-type {\n",
              "        vertical-align: middle;\n",
              "    }\n",
              "\n",
              "    .dataframe tbody tr th {\n",
              "        vertical-align: top;\n",
              "    }\n",
              "\n",
              "    .dataframe thead th {\n",
              "        text-align: right;\n",
              "    }\n",
              "</style>\n",
              "<table border=\"1\" class=\"dataframe\">\n",
              "  <thead>\n",
              "    <tr style=\"text-align: right;\">\n",
              "      <th></th>\n",
              "      <th>trade_price_idx_value</th>\n",
              "      <th>shift_1</th>\n",
              "      <th>shift_2</th>\n",
              "      <th>shift_3</th>\n",
              "      <th>shift_4</th>\n",
              "      <th>shift_5</th>\n",
              "      <th>shift_6</th>\n",
              "      <th>shift_7</th>\n",
              "      <th>shift_8</th>\n",
              "      <th>shift_9</th>\n",
              "      <th>shift_10</th>\n",
              "      <th>shift_11</th>\n",
              "      <th>shift_12</th>\n",
              "    </tr>\n",
              "    <tr>\n",
              "      <th>date</th>\n",
              "      <th></th>\n",
              "      <th></th>\n",
              "      <th></th>\n",
              "      <th></th>\n",
              "      <th></th>\n",
              "      <th></th>\n",
              "      <th></th>\n",
              "      <th></th>\n",
              "      <th></th>\n",
              "      <th></th>\n",
              "      <th></th>\n",
              "      <th></th>\n",
              "      <th></th>\n",
              "    </tr>\n",
              "  </thead>\n",
              "  <tbody>\n",
              "    <tr>\n",
              "      <th>2006-01-01</th>\n",
              "      <td>0.000000</td>\n",
              "      <td>NaN</td>\n",
              "      <td>NaN</td>\n",
              "      <td>NaN</td>\n",
              "      <td>NaN</td>\n",
              "      <td>NaN</td>\n",
              "      <td>NaN</td>\n",
              "      <td>NaN</td>\n",
              "      <td>NaN</td>\n",
              "      <td>NaN</td>\n",
              "      <td>NaN</td>\n",
              "      <td>NaN</td>\n",
              "      <td>NaN</td>\n",
              "    </tr>\n",
              "    <tr>\n",
              "      <th>2006-02-01</th>\n",
              "      <td>0.072727</td>\n",
              "      <td>0.000000</td>\n",
              "      <td>NaN</td>\n",
              "      <td>NaN</td>\n",
              "      <td>NaN</td>\n",
              "      <td>NaN</td>\n",
              "      <td>NaN</td>\n",
              "      <td>NaN</td>\n",
              "      <td>NaN</td>\n",
              "      <td>NaN</td>\n",
              "      <td>NaN</td>\n",
              "      <td>NaN</td>\n",
              "      <td>NaN</td>\n",
              "    </tr>\n",
              "    <tr>\n",
              "      <th>2006-03-01</th>\n",
              "      <td>0.177273</td>\n",
              "      <td>0.072727</td>\n",
              "      <td>0.000000</td>\n",
              "      <td>NaN</td>\n",
              "      <td>NaN</td>\n",
              "      <td>NaN</td>\n",
              "      <td>NaN</td>\n",
              "      <td>NaN</td>\n",
              "      <td>NaN</td>\n",
              "      <td>NaN</td>\n",
              "      <td>NaN</td>\n",
              "      <td>NaN</td>\n",
              "      <td>NaN</td>\n",
              "    </tr>\n",
              "    <tr>\n",
              "      <th>2006-04-01</th>\n",
              "      <td>0.327273</td>\n",
              "      <td>0.177273</td>\n",
              "      <td>0.072727</td>\n",
              "      <td>0.000000</td>\n",
              "      <td>NaN</td>\n",
              "      <td>NaN</td>\n",
              "      <td>NaN</td>\n",
              "      <td>NaN</td>\n",
              "      <td>NaN</td>\n",
              "      <td>NaN</td>\n",
              "      <td>NaN</td>\n",
              "      <td>NaN</td>\n",
              "      <td>NaN</td>\n",
              "    </tr>\n",
              "    <tr>\n",
              "      <th>2006-05-01</th>\n",
              "      <td>0.427273</td>\n",
              "      <td>0.327273</td>\n",
              "      <td>0.177273</td>\n",
              "      <td>0.072727</td>\n",
              "      <td>0.000000</td>\n",
              "      <td>NaN</td>\n",
              "      <td>NaN</td>\n",
              "      <td>NaN</td>\n",
              "      <td>NaN</td>\n",
              "      <td>NaN</td>\n",
              "      <td>NaN</td>\n",
              "      <td>NaN</td>\n",
              "      <td>NaN</td>\n",
              "    </tr>\n",
              "    <tr>\n",
              "      <th>2006-06-01</th>\n",
              "      <td>0.436364</td>\n",
              "      <td>0.427273</td>\n",
              "      <td>0.327273</td>\n",
              "      <td>0.177273</td>\n",
              "      <td>0.072727</td>\n",
              "      <td>0.000000</td>\n",
              "      <td>NaN</td>\n",
              "      <td>NaN</td>\n",
              "      <td>NaN</td>\n",
              "      <td>NaN</td>\n",
              "      <td>NaN</td>\n",
              "      <td>NaN</td>\n",
              "      <td>NaN</td>\n",
              "    </tr>\n",
              "    <tr>\n",
              "      <th>2006-07-01</th>\n",
              "      <td>0.427273</td>\n",
              "      <td>0.436364</td>\n",
              "      <td>0.427273</td>\n",
              "      <td>0.327273</td>\n",
              "      <td>0.177273</td>\n",
              "      <td>0.072727</td>\n",
              "      <td>0.000000</td>\n",
              "      <td>NaN</td>\n",
              "      <td>NaN</td>\n",
              "      <td>NaN</td>\n",
              "      <td>NaN</td>\n",
              "      <td>NaN</td>\n",
              "      <td>NaN</td>\n",
              "    </tr>\n",
              "    <tr>\n",
              "      <th>2006-08-01</th>\n",
              "      <td>0.422727</td>\n",
              "      <td>0.427273</td>\n",
              "      <td>0.436364</td>\n",
              "      <td>0.427273</td>\n",
              "      <td>0.327273</td>\n",
              "      <td>0.177273</td>\n",
              "      <td>0.072727</td>\n",
              "      <td>0.000000</td>\n",
              "      <td>NaN</td>\n",
              "      <td>NaN</td>\n",
              "      <td>NaN</td>\n",
              "      <td>NaN</td>\n",
              "      <td>NaN</td>\n",
              "    </tr>\n",
              "    <tr>\n",
              "      <th>2006-09-01</th>\n",
              "      <td>0.436364</td>\n",
              "      <td>0.422727</td>\n",
              "      <td>0.427273</td>\n",
              "      <td>0.436364</td>\n",
              "      <td>0.427273</td>\n",
              "      <td>0.327273</td>\n",
              "      <td>0.177273</td>\n",
              "      <td>0.072727</td>\n",
              "      <td>0.000000</td>\n",
              "      <td>NaN</td>\n",
              "      <td>NaN</td>\n",
              "      <td>NaN</td>\n",
              "      <td>NaN</td>\n",
              "    </tr>\n",
              "    <tr>\n",
              "      <th>2006-10-01</th>\n",
              "      <td>0.522727</td>\n",
              "      <td>0.436364</td>\n",
              "      <td>0.422727</td>\n",
              "      <td>0.427273</td>\n",
              "      <td>0.436364</td>\n",
              "      <td>0.427273</td>\n",
              "      <td>0.327273</td>\n",
              "      <td>0.177273</td>\n",
              "      <td>0.072727</td>\n",
              "      <td>0.000000</td>\n",
              "      <td>NaN</td>\n",
              "      <td>NaN</td>\n",
              "      <td>NaN</td>\n",
              "    </tr>\n",
              "    <tr>\n",
              "      <th>2006-11-01</th>\n",
              "      <td>0.763636</td>\n",
              "      <td>0.522727</td>\n",
              "      <td>0.436364</td>\n",
              "      <td>0.422727</td>\n",
              "      <td>0.427273</td>\n",
              "      <td>0.436364</td>\n",
              "      <td>0.427273</td>\n",
              "      <td>0.327273</td>\n",
              "      <td>0.177273</td>\n",
              "      <td>0.072727</td>\n",
              "      <td>0.000000</td>\n",
              "      <td>NaN</td>\n",
              "      <td>NaN</td>\n",
              "    </tr>\n",
              "    <tr>\n",
              "      <th>2006-12-01</th>\n",
              "      <td>0.868182</td>\n",
              "      <td>0.763636</td>\n",
              "      <td>0.522727</td>\n",
              "      <td>0.436364</td>\n",
              "      <td>0.422727</td>\n",
              "      <td>0.427273</td>\n",
              "      <td>0.436364</td>\n",
              "      <td>0.427273</td>\n",
              "      <td>0.327273</td>\n",
              "      <td>0.177273</td>\n",
              "      <td>0.072727</td>\n",
              "      <td>0.000000</td>\n",
              "      <td>NaN</td>\n",
              "    </tr>\n",
              "    <tr>\n",
              "      <th>2007-01-01</th>\n",
              "      <td>0.909091</td>\n",
              "      <td>0.868182</td>\n",
              "      <td>0.763636</td>\n",
              "      <td>0.522727</td>\n",
              "      <td>0.436364</td>\n",
              "      <td>0.422727</td>\n",
              "      <td>0.427273</td>\n",
              "      <td>0.436364</td>\n",
              "      <td>0.427273</td>\n",
              "      <td>0.327273</td>\n",
              "      <td>0.177273</td>\n",
              "      <td>0.072727</td>\n",
              "      <td>0.0</td>\n",
              "    </tr>\n",
              "  </tbody>\n",
              "</table>\n",
              "</div>"
            ],
            "text/plain": [
              "            trade_price_idx_value   shift_1  ...  shift_11  shift_12\n",
              "date                                         ...                    \n",
              "2006-01-01               0.000000       NaN  ...       NaN       NaN\n",
              "2006-02-01               0.072727  0.000000  ...       NaN       NaN\n",
              "2006-03-01               0.177273  0.072727  ...       NaN       NaN\n",
              "2006-04-01               0.327273  0.177273  ...       NaN       NaN\n",
              "2006-05-01               0.427273  0.327273  ...       NaN       NaN\n",
              "2006-06-01               0.436364  0.427273  ...       NaN       NaN\n",
              "2006-07-01               0.427273  0.436364  ...       NaN       NaN\n",
              "2006-08-01               0.422727  0.427273  ...       NaN       NaN\n",
              "2006-09-01               0.436364  0.422727  ...       NaN       NaN\n",
              "2006-10-01               0.522727  0.436364  ...       NaN       NaN\n",
              "2006-11-01               0.763636  0.522727  ...       NaN       NaN\n",
              "2006-12-01               0.868182  0.763636  ...  0.000000       NaN\n",
              "2007-01-01               0.909091  0.868182  ...  0.072727       0.0\n",
              "\n",
              "[13 rows x 13 columns]"
            ]
          },
          "metadata": {
            "tags": []
          },
          "execution_count": 9
        }
      ]
    },
    {
      "cell_type": "code",
      "metadata": {
        "id": "9K_04q8W36fE",
        "outputId": "37d7b6f0-d6de-4254-9c9f-376069d0f120",
        "colab": {
          "base_uri": "https://localhost:8080/",
          "height": 298
        }
      },
      "source": [
        "X_train = train_sc_df.dropna().drop('trade_price_idx_value', axis=1)\n",
        "y_train = train_sc_df.dropna()[['trade_price_idx_value']]\n",
        "print(X_train.head())\n",
        "print(y_train.head())"
      ],
      "execution_count": null,
      "outputs": [
        {
          "output_type": "stream",
          "text": [
            "             shift_1   shift_2   shift_3  ...  shift_10  shift_11  shift_12\n",
            "date                                      ...                              \n",
            "2007-01-01  0.868182  0.763636  0.522727  ...  0.177273  0.072727  0.000000\n",
            "2007-02-01  0.909091  0.868182  0.763636  ...  0.327273  0.177273  0.072727\n",
            "2007-03-01  0.909091  0.909091  0.868182  ...  0.427273  0.327273  0.177273\n",
            "2007-04-01  0.904545  0.909091  0.909091  ...  0.436364  0.427273  0.327273\n",
            "2007-05-01  0.872727  0.904545  0.909091  ...  0.427273  0.436364  0.427273\n",
            "\n",
            "[5 rows x 12 columns]\n",
            "            trade_price_idx_value\n",
            "date                             \n",
            "2007-01-01               0.909091\n",
            "2007-02-01               0.909091\n",
            "2007-03-01               0.904545\n",
            "2007-04-01               0.872727\n",
            "2007-05-01               0.845455\n"
          ],
          "name": "stdout"
        }
      ]
    },
    {
      "cell_type": "code",
      "metadata": {
        "id": "6zKVy6Lx4fzb",
        "outputId": "524d68e3-25df-4526-b078-d0b6b90043c6",
        "colab": {
          "base_uri": "https://localhost:8080/",
          "height": 298
        }
      },
      "source": [
        "X_test = test_sc_df.dropna().drop('trade_price_idx_value', axis=1)\n",
        "y_test = test_sc_df.dropna()[['trade_price_idx_value']]\n",
        "print(X_test.head())\n",
        "print(y_test.head())"
      ],
      "execution_count": null,
      "outputs": [
        {
          "output_type": "stream",
          "text": [
            "             shift_1   shift_2   shift_3  ...  shift_10  shift_11  shift_12\n",
            "date                                      ...                              \n",
            "2018-02-01  0.284024  0.284024  0.230769  ...  0.059172  0.000000  0.041420\n",
            "2018-02-01  0.644970  0.284024  0.284024  ...  0.023669  0.059172  0.000000\n",
            "2018-03-01  0.757396  0.644970  0.284024  ...  0.041420  0.023669  0.059172\n",
            "2018-03-01  0.822485  0.757396  0.644970  ...  0.071006  0.041420  0.023669\n",
            "2018-04-01  0.692308  0.822485  0.757396  ...  0.177515  0.071006  0.041420\n",
            "\n",
            "[5 rows x 12 columns]\n",
            "            trade_price_idx_value\n",
            "date                             \n",
            "2018-02-01               0.644970\n",
            "2018-02-01               0.757396\n",
            "2018-03-01               0.822485\n",
            "2018-03-01               0.692308\n",
            "2018-04-01               0.710059\n"
          ],
          "name": "stdout"
        }
      ]
    },
    {
      "cell_type": "code",
      "metadata": {
        "id": "-F7TDdvu4xBb"
      },
      "source": [
        "# ndarray 타입으로 다시 변환\n",
        "X_train = X_train.values\n",
        "X_test  = X_test.values\n",
        "y_train = y_train.values\n",
        "y_test  = y_test.values"
      ],
      "execution_count": null,
      "outputs": []
    },
    {
      "cell_type": "code",
      "metadata": {
        "id": "ixptQfTL5XtR"
      },
      "source": [
        "# 차원 변환\n",
        "# 12 : TmeStep\n",
        "X_train_t = X_train.reshape(X_train.shape[0], 12, 1)\n",
        "X_test_t  = X_test.reshape(X_test.shape[0], 12, 1)"
      ],
      "execution_count": null,
      "outputs": []
    },
    {
      "cell_type": "markdown",
      "metadata": {
        "id": "mhsgIjGq6wi4"
      },
      "source": [
        "# 학습 및 예측"
      ]
    },
    {
      "cell_type": "code",
      "metadata": {
        "id": "Ceyk9f3I5q1P"
      },
      "source": [
        "from keras.layers import LSTM, Dense\n",
        "from keras.models import Sequential\n",
        "import keras.backend as K\n",
        "from keras.callbacks import EarlyStopping"
      ],
      "execution_count": null,
      "outputs": []
    },
    {
      "cell_type": "code",
      "metadata": {
        "id": "iZ69UhrH6Dw4"
      },
      "source": [
        "# 초기화\n",
        "K.clear_session()"
      ],
      "execution_count": null,
      "outputs": []
    },
    {
      "cell_type": "code",
      "metadata": {
        "id": "HRWBIIGG6IvQ",
        "outputId": "96fd9829-1634-451c-f8ec-922912ca313d",
        "colab": {
          "base_uri": "https://localhost:8080/",
          "height": 228
        }
      },
      "source": [
        "model = Sequential()\n",
        "model.add(LSTM(20, input_shape=(12, 1)))\n",
        "model.add(Dense(1))\n",
        "model.compile(loss='mean_squared_error', optimizer='adam', metrics=['accuracy'])\n",
        "model.summary()"
      ],
      "execution_count": null,
      "outputs": [
        {
          "output_type": "stream",
          "text": [
            "Model: \"sequential\"\n",
            "_________________________________________________________________\n",
            "Layer (type)                 Output Shape              Param #   \n",
            "=================================================================\n",
            "lstm (LSTM)                  (None, 20)                1760      \n",
            "_________________________________________________________________\n",
            "dense (Dense)                (None, 1)                 21        \n",
            "=================================================================\n",
            "Total params: 1,781\n",
            "Trainable params: 1,781\n",
            "Non-trainable params: 0\n",
            "_________________________________________________________________\n"
          ],
          "name": "stdout"
        }
      ]
    },
    {
      "cell_type": "code",
      "metadata": {
        "id": "WVl5OSiK6cJi",
        "outputId": "c1782bd8-4670-4eee-f10a-7dfdfeb92d0b",
        "colab": {
          "base_uri": "https://localhost:8080/",
          "height": 334
        }
      },
      "source": [
        "early_stop = EarlyStopping(monitor='loss', patience=1, verbose=1)\n",
        "model.fit(X_train_t, y_train, epochs=100, batch_size=30, verbose=1, callbacks=[early_stop])"
      ],
      "execution_count": null,
      "outputs": [
        {
          "output_type": "stream",
          "text": [
            "Epoch 1/100\n",
            "5/5 [==============================] - 0s 4ms/step - loss: 0.3852 - accuracy: 0.0000e+00\n",
            "Epoch 2/100\n",
            "5/5 [==============================] - 0s 3ms/step - loss: 0.2681 - accuracy: 0.0000e+00\n",
            "Epoch 3/100\n",
            "5/5 [==============================] - 0s 3ms/step - loss: 0.1721 - accuracy: 0.0000e+00\n",
            "Epoch 4/100\n",
            "5/5 [==============================] - 0s 3ms/step - loss: 0.1021 - accuracy: 0.0000e+00\n",
            "Epoch 5/100\n",
            "5/5 [==============================] - 0s 3ms/step - loss: 0.0524 - accuracy: 0.0080\n",
            "Epoch 6/100\n",
            "5/5 [==============================] - 0s 3ms/step - loss: 0.0306 - accuracy: 0.0080\n",
            "Epoch 7/100\n",
            "5/5 [==============================] - 0s 3ms/step - loss: 0.0294 - accuracy: 0.0080\n",
            "Epoch 8/100\n",
            "5/5 [==============================] - 0s 3ms/step - loss: 0.0339 - accuracy: 0.0080\n",
            "Epoch 00008: early stopping\n"
          ],
          "name": "stdout"
        },
        {
          "output_type": "execute_result",
          "data": {
            "text/plain": [
              "<tensorflow.python.keras.callbacks.History at 0x7fd2a2f2c668>"
            ]
          },
          "metadata": {
            "tags": []
          },
          "execution_count": 17
        }
      ]
    },
    {
      "cell_type": "code",
      "metadata": {
        "id": "mUmi9N3q7D4d",
        "outputId": "e1a9a731-be1d-4f97-e2ab-6e71afbca107",
        "colab": {
          "base_uri": "https://localhost:8080/",
          "height": 52
        }
      },
      "source": [
        "score = model.evaluate(X_train_t, y_train, verbose=0)\n",
        "print('Keras Model Loss =', score[0])\n",
        "print('Keras Model Accuracy =', score[1])"
      ],
      "execution_count": null,
      "outputs": [
        {
          "output_type": "stream",
          "text": [
            "Keras Model Loss = 0.03259090706706047\n",
            "Keras Model Accuracy = 0.00800000037997961\n"
          ],
          "name": "stdout"
        }
      ]
    },
    {
      "cell_type": "code",
      "metadata": {
        "id": "-jAmtwa770SU",
        "outputId": "2011aa3f-2027-4ea9-bdab-f069bc6c3b68",
        "colab": {
          "base_uri": "https://localhost:8080/",
          "height": 52
        }
      },
      "source": [
        "score = model.evaluate(X_test_t, y_test, verbose=0)\n",
        "print('Keras Model Loss =', score[0])\n",
        "print('Keras Model Accuracy =', score[1])\n",
        "# 에러는 0.06으로 조금 더 커졌다."
      ],
      "execution_count": null,
      "outputs": [
        {
          "output_type": "stream",
          "text": [
            "Keras Model Loss = 0.05558869242668152\n",
            "Keras Model Accuracy = 0.0625\n"
          ],
          "name": "stdout"
        }
      ]
    },
    {
      "cell_type": "code",
      "metadata": {
        "id": "1As45xG58UjV"
      },
      "source": [
        "y_pred = model.predict(X_test_t, batch_size=32)"
      ],
      "execution_count": null,
      "outputs": []
    },
    {
      "cell_type": "code",
      "metadata": {
        "id": "iF1pUPn081Iq",
        "outputId": "81788f72-48ce-42bc-caed-23e696881cad",
        "colab": {
          "base_uri": "https://localhost:8080/",
          "height": 527
        }
      },
      "source": [
        "plt.figure(figsize=(16,8))\n",
        "plt.scatter(y_test, y_pred)\n",
        "plt.xlabel('Price Index : $Y_i$', fontsize=14)\n",
        "plt.ylabel('Predicted price Index : $\\hat{y}_i$', fontsize=14)\n",
        "plt.title('Prices vs Predicted price Index : $Y_i$ vs $\\hat{y}_i$', fontsize=16)\n",
        "plt.show()"
      ],
      "execution_count": null,
      "outputs": [
        {
          "output_type": "display_data",
          "data": {
            "image/png": "[encoded data removed]",
            "text/plain": [
              "<Figure size 1152x576 with 1 Axes>"
            ]
          },
          "metadata": {
            "tags": [],
            "needs_background": "light"
          }
        }
      ]
    }
  ]
}