{
  "nbformat": 4,
  "nbformat_minor": 0,
  "metadata": {
    "colab": {
      "name": "05_텐서플로를 이용한 CNN 구현.ipynb",
      "provenance": [],
      "collapsed_sections": [],
      "toc_visible": true,
      "include_colab_link": true
    },
    "kernelspec": {
      "name": "python3",
      "display_name": "Python 3"
    }
  },
  "cells": [
    {
      "cell_type": "markdown",
      "metadata": {
        "id": "view-in-github",
        "colab_type": "text"
      },
      "source": [
        "<a href=\"https://colab.research.google.com/github/jkjh23/BusanAIDeveloperCourse_AI/blob/master/3_DeepLearning/05_%ED%85%90%EC%84%9C%ED%94%8C%EB%A1%9C%EB%A5%BC%20%EC%9D%B4%EC%9A%A9%ED%95%9C%20CNN%20%EA%B5%AC%ED%98%84.ipynb\" target=\"_parent\"><img src=\"https://colab.research.google.com/assets/colab-badge.svg\" alt=\"Open In Colab\"/></a>"
      ]
    },
    {
      "cell_type": "markdown",
      "metadata": {
        "id": "8dVntvbR-SOx"
      },
      "source": [
        "# 연구 목표"
      ]
    },
    {
      "cell_type": "markdown",
      "metadata": {
        "id": "MD1wMatlaf78"
      },
      "source": [
        "- 목표\n",
        "  - 임계값을 부여해서 정확하게 제시\n",
        "    - 기존 예측 정확도를 3% 개선해라 등\n",
        "  - 손글씨 이미지 MNIST(0~9까지의 손글씨 이미지)\n",
        "    - CNN으로 학습하여, 0~9까지 숫자 이미지가 들어왔을 때, 정확하게 인식(분류)되도록 웹서비스(케라스 버전에서 적용)를 구현하시오\n",
        "    - 페이지에서 손글씨를 업로드하면, 서버에서 예측 모델이 예측하여 결과를 돌려준다.\n",
        "  - 평가지표\n",
        "    - 손실함수를 사용하겠다.(수치)"
      ]
    },
    {
      "cell_type": "markdown",
      "metadata": {
        "id": "cFWOK0gnaR_w"
      },
      "source": [
        "# 데이터 수집 및 확보\n",
        "- 제공되는 데이터를 사용"
      ]
    },
    {
      "cell_type": "code",
      "metadata": {
        "id": "yCzz-VPZbVsu",
        "outputId": "c9a67548-76cb-408e-8fca-39e60e25a3c5",
        "colab": {
          "base_uri": "https://localhost:8080/",
          "height": 53
        }
      },
      "source": [
        "%tensorflow_version 1.x\n",
        "import tensorflow as tf\n",
        "tf.__version__"
      ],
      "execution_count": 1,
      "outputs": [
        {
          "output_type": "stream",
          "text": [
            "TensorFlow 1.x selected.\n"
          ],
          "name": "stdout"
        },
        {
          "output_type": "execute_result",
          "data": {
            "application/vnd.google.colaboratory.intrinsic+json": {
              "type": "string"
            },
            "text/plain": [
              "'1.15.2'"
            ]
          },
          "metadata": {
            "tags": []
          },
          "execution_count": 1
        }
      ]
    },
    {
      "cell_type": "code",
      "metadata": {
        "id": "7BiOWV6fbas-"
      },
      "source": [
        "# gpu 목록 확인\n",
        "from tensorflow.python.client import device_lib"
      ],
      "execution_count": 2,
      "outputs": []
    },
    {
      "cell_type": "code",
      "metadata": {
        "id": "uEsNkpwubsK7",
        "outputId": "3575f1b1-44f2-4148-bce9-f7f416ae41a9",
        "colab": {
          "base_uri": "https://localhost:8080/",
          "height": 281
        }
      },
      "source": [
        "'''\n",
        "\"/device:XLA_GPU:0\"이 gpu 사용 시 지정할 이름\n",
        "\n",
        "만약 GPU를 여러장 쓴다면 아래와 같은 방식이 된다.\n",
        "\"/device:XLA_GPU:0\"이 gpu 사용 시 지정할 이름\n",
        "\"/device:XLA_GPU:1\"이 gpu 사용 시 지정할 이름\n",
        "\"/device:XLA_GPU:2\"이 gpu 사용 시 지정할 이름\n",
        "'''\n",
        "for device in device_lib.list_local_devices() :\n",
        "  print(device)"
      ],
      "execution_count": 3,
      "outputs": [
        {
          "output_type": "stream",
          "text": [
            "name: \"/device:CPU:0\"\n",
            "device_type: \"CPU\"\n",
            "memory_limit: 268435456\n",
            "locality {\n",
            "}\n",
            "incarnation: 11901787179580796247\n",
            "\n",
            "name: \"/device:XLA_CPU:0\"\n",
            "device_type: \"XLA_CPU\"\n",
            "memory_limit: 17179869184\n",
            "locality {\n",
            "}\n",
            "incarnation: 18446012547152074491\n",
            "physical_device_desc: \"device: XLA_CPU device\"\n",
            "\n"
          ],
          "name": "stdout"
        }
      ]
    },
    {
      "cell_type": "code",
      "metadata": {
        "id": "MLf0DbTob0Dk",
        "outputId": "0d2e04f5-6ed5-4205-b48d-4223d1baeb57",
        "colab": {
          "base_uri": "https://localhost:8080/",
          "height": 52
        }
      },
      "source": [
        "# 데이터 획득\n",
        "mnist = tf.keras.datasets.mnist.load_data()"
      ],
      "execution_count": 4,
      "outputs": [
        {
          "output_type": "stream",
          "text": [
            "Downloading data from https://storage.googleapis.com/tensorflow/tf-keras-datasets/mnist.npz\n",
            "11493376/11490434 [==============================] - 0s 0us/step\n"
          ],
          "name": "stdout"
        }
      ]
    },
    {
      "cell_type": "code",
      "metadata": {
        "id": "ARnSI_qEdJqD",
        "outputId": "e921f69b-e8eb-443c-e0e7-1e77b7107cf3",
        "colab": {
          "base_uri": "https://localhost:8080/",
          "height": 34
        }
      },
      "source": [
        "# 훈련데이터는 mnist[0][0]\n",
        "# 테스트데이터는 mnist[1][0]\n",
        "type(mnist), len(mnist), len(mnist[0]), len(mnist[1]), len(mnist[0][0]), len(mnist[1][0])"
      ],
      "execution_count": 5,
      "outputs": [
        {
          "output_type": "execute_result",
          "data": {
            "text/plain": [
              "(tuple, 2, 2, 2, 60000, 10000)"
            ]
          },
          "metadata": {
            "tags": []
          },
          "execution_count": 5
        }
      ]
    },
    {
      "cell_type": "code",
      "metadata": {
        "id": "zScOTdnqdQvV",
        "outputId": "ce79c35a-1378-4930-dbaf-ed94da15cc7c",
        "colab": {
          "base_uri": "https://localhost:8080/",
          "height": 34
        }
      },
      "source": [
        "# 훈련데이터 독립변수(feature, 특성) : 60000건, 28(세로)x28(가로) => (데이터 개수, h, w) \n",
        "# 컬러이미지면 (60000, 28, 28, 3)으로 뜬다, 현재 데이터는 그레이스케일(0~255)\n",
        "# 훈련데이터 종속변수(정답)\n",
        "mnist[0][0].shape, mnist[0][1].shape"
      ],
      "execution_count": 6,
      "outputs": [
        {
          "output_type": "execute_result",
          "data": {
            "text/plain": [
              "((60000, 28, 28), (60000,))"
            ]
          },
          "metadata": {
            "tags": []
          },
          "execution_count": 6
        }
      ]
    },
    {
      "cell_type": "code",
      "metadata": {
        "id": "NCaL3xQZiYgl",
        "outputId": "84da9a85-d014-4cea-8c5c-491dbd0174f1",
        "colab": {
          "base_uri": "https://localhost:8080/",
          "height": 1000
        }
      },
      "source": [
        "mnist[0][0][0]\n",
        "# 이 데이터의 문제점 : 정규화 처리가 안 되어있음\n",
        "# 0이면 Black / 255면 White\n",
        "# shaep 부분을 나눠져 있는 부분 => 좀 더 편한 구조에서 진행하는 것으로, tensorflow에서 사용(2.x에서는 빠졌을 수도 있음)"
      ],
      "execution_count": 7,
      "outputs": [
        {
          "output_type": "execute_result",
          "data": {
            "text/plain": [
              "array([[  0,   0,   0,   0,   0,   0,   0,   0,   0,   0,   0,   0,   0,\n",
              "          0,   0,   0,   0,   0,   0,   0,   0,   0,   0,   0,   0,   0,\n",
              "          0,   0],\n",
              "       [  0,   0,   0,   0,   0,   0,   0,   0,   0,   0,   0,   0,   0,\n",
              "          0,   0,   0,   0,   0,   0,   0,   0,   0,   0,   0,   0,   0,\n",
              "          0,   0],\n",
              "       [  0,   0,   0,   0,   0,   0,   0,   0,   0,   0,   0,   0,   0,\n",
              "          0,   0,   0,   0,   0,   0,   0,   0,   0,   0,   0,   0,   0,\n",
              "          0,   0],\n",
              "       [  0,   0,   0,   0,   0,   0,   0,   0,   0,   0,   0,   0,   0,\n",
              "          0,   0,   0,   0,   0,   0,   0,   0,   0,   0,   0,   0,   0,\n",
              "          0,   0],\n",
              "       [  0,   0,   0,   0,   0,   0,   0,   0,   0,   0,   0,   0,   0,\n",
              "          0,   0,   0,   0,   0,   0,   0,   0,   0,   0,   0,   0,   0,\n",
              "          0,   0],\n",
              "       [  0,   0,   0,   0,   0,   0,   0,   0,   0,   0,   0,   0,   3,\n",
              "         18,  18,  18, 126, 136, 175,  26, 166, 255, 247, 127,   0,   0,\n",
              "          0,   0],\n",
              "       [  0,   0,   0,   0,   0,   0,   0,   0,  30,  36,  94, 154, 170,\n",
              "        253, 253, 253, 253, 253, 225, 172, 253, 242, 195,  64,   0,   0,\n",
              "          0,   0],\n",
              "       [  0,   0,   0,   0,   0,   0,   0,  49, 238, 253, 253, 253, 253,\n",
              "        253, 253, 253, 253, 251,  93,  82,  82,  56,  39,   0,   0,   0,\n",
              "          0,   0],\n",
              "       [  0,   0,   0,   0,   0,   0,   0,  18, 219, 253, 253, 253, 253,\n",
              "        253, 198, 182, 247, 241,   0,   0,   0,   0,   0,   0,   0,   0,\n",
              "          0,   0],\n",
              "       [  0,   0,   0,   0,   0,   0,   0,   0,  80, 156, 107, 253, 253,\n",
              "        205,  11,   0,  43, 154,   0,   0,   0,   0,   0,   0,   0,   0,\n",
              "          0,   0],\n",
              "       [  0,   0,   0,   0,   0,   0,   0,   0,   0,  14,   1, 154, 253,\n",
              "         90,   0,   0,   0,   0,   0,   0,   0,   0,   0,   0,   0,   0,\n",
              "          0,   0],\n",
              "       [  0,   0,   0,   0,   0,   0,   0,   0,   0,   0,   0, 139, 253,\n",
              "        190,   2,   0,   0,   0,   0,   0,   0,   0,   0,   0,   0,   0,\n",
              "          0,   0],\n",
              "       [  0,   0,   0,   0,   0,   0,   0,   0,   0,   0,   0,  11, 190,\n",
              "        253,  70,   0,   0,   0,   0,   0,   0,   0,   0,   0,   0,   0,\n",
              "          0,   0],\n",
              "       [  0,   0,   0,   0,   0,   0,   0,   0,   0,   0,   0,   0,  35,\n",
              "        241, 225, 160, 108,   1,   0,   0,   0,   0,   0,   0,   0,   0,\n",
              "          0,   0],\n",
              "       [  0,   0,   0,   0,   0,   0,   0,   0,   0,   0,   0,   0,   0,\n",
              "         81, 240, 253, 253, 119,  25,   0,   0,   0,   0,   0,   0,   0,\n",
              "          0,   0],\n",
              "       [  0,   0,   0,   0,   0,   0,   0,   0,   0,   0,   0,   0,   0,\n",
              "          0,  45, 186, 253, 253, 150,  27,   0,   0,   0,   0,   0,   0,\n",
              "          0,   0],\n",
              "       [  0,   0,   0,   0,   0,   0,   0,   0,   0,   0,   0,   0,   0,\n",
              "          0,   0,  16,  93, 252, 253, 187,   0,   0,   0,   0,   0,   0,\n",
              "          0,   0],\n",
              "       [  0,   0,   0,   0,   0,   0,   0,   0,   0,   0,   0,   0,   0,\n",
              "          0,   0,   0,   0, 249, 253, 249,  64,   0,   0,   0,   0,   0,\n",
              "          0,   0],\n",
              "       [  0,   0,   0,   0,   0,   0,   0,   0,   0,   0,   0,   0,   0,\n",
              "          0,  46, 130, 183, 253, 253, 207,   2,   0,   0,   0,   0,   0,\n",
              "          0,   0],\n",
              "       [  0,   0,   0,   0,   0,   0,   0,   0,   0,   0,   0,   0,  39,\n",
              "        148, 229, 253, 253, 253, 250, 182,   0,   0,   0,   0,   0,   0,\n",
              "          0,   0],\n",
              "       [  0,   0,   0,   0,   0,   0,   0,   0,   0,   0,  24, 114, 221,\n",
              "        253, 253, 253, 253, 201,  78,   0,   0,   0,   0,   0,   0,   0,\n",
              "          0,   0],\n",
              "       [  0,   0,   0,   0,   0,   0,   0,   0,  23,  66, 213, 253, 253,\n",
              "        253, 253, 198,  81,   2,   0,   0,   0,   0,   0,   0,   0,   0,\n",
              "          0,   0],\n",
              "       [  0,   0,   0,   0,   0,   0,  18, 171, 219, 253, 253, 253, 253,\n",
              "        195,  80,   9,   0,   0,   0,   0,   0,   0,   0,   0,   0,   0,\n",
              "          0,   0],\n",
              "       [  0,   0,   0,   0,  55, 172, 226, 253, 253, 253, 253, 244, 133,\n",
              "         11,   0,   0,   0,   0,   0,   0,   0,   0,   0,   0,   0,   0,\n",
              "          0,   0],\n",
              "       [  0,   0,   0,   0, 136, 253, 253, 253, 212, 135, 132,  16,   0,\n",
              "          0,   0,   0,   0,   0,   0,   0,   0,   0,   0,   0,   0,   0,\n",
              "          0,   0],\n",
              "       [  0,   0,   0,   0,   0,   0,   0,   0,   0,   0,   0,   0,   0,\n",
              "          0,   0,   0,   0,   0,   0,   0,   0,   0,   0,   0,   0,   0,\n",
              "          0,   0],\n",
              "       [  0,   0,   0,   0,   0,   0,   0,   0,   0,   0,   0,   0,   0,\n",
              "          0,   0,   0,   0,   0,   0,   0,   0,   0,   0,   0,   0,   0,\n",
              "          0,   0],\n",
              "       [  0,   0,   0,   0,   0,   0,   0,   0,   0,   0,   0,   0,   0,\n",
              "          0,   0,   0,   0,   0,   0,   0,   0,   0,   0,   0,   0,   0,\n",
              "          0,   0]], dtype=uint8)"
            ]
          },
          "metadata": {
            "tags": []
          },
          "execution_count": 7
        }
      ]
    },
    {
      "cell_type": "code",
      "metadata": {
        "id": "3PE1AW3GiyTd"
      },
      "source": [
        "from tensorflow.examples.tutorials.mnist import input_data"
      ],
      "execution_count": 8,
      "outputs": []
    },
    {
      "cell_type": "code",
      "metadata": {
        "id": "XvAukV1Ci7Qs",
        "outputId": "78d9349a-5eaf-4f9d-c1eb-81cdd55a9f42",
        "colab": {
          "base_uri": "https://localhost:8080/",
          "height": 547
        }
      },
      "source": [
        "mnist = input_data.read_data_sets('./data/mnist', one_hot=True)"
      ],
      "execution_count": 9,
      "outputs": [
        {
          "output_type": "stream",
          "text": [
            "WARNING:tensorflow:From <ipython-input-9-d8621bf70bc1>:1: read_data_sets (from tensorflow.contrib.learn.python.learn.datasets.mnist) is deprecated and will be removed in a future version.\n",
            "Instructions for updating:\n",
            "Please use alternatives such as official/mnist/dataset.py from tensorflow/models.\n",
            "WARNING:tensorflow:From /tensorflow-1.15.2/python3.6/tensorflow_core/contrib/learn/python/learn/datasets/mnist.py:260: maybe_download (from tensorflow.contrib.learn.python.learn.datasets.base) is deprecated and will be removed in a future version.\n",
            "Instructions for updating:\n",
            "Please write your own downloading logic.\n",
            "WARNING:tensorflow:From /tensorflow-1.15.2/python3.6/tensorflow_core/contrib/learn/python/learn/datasets/base.py:252: _internal_retry.<locals>.wrap.<locals>.wrapped_fn (from tensorflow.contrib.learn.python.learn.datasets.base) is deprecated and will be removed in a future version.\n",
            "Instructions for updating:\n",
            "Please use urllib or similar directly.\n",
            "Successfully downloaded train-images-idx3-ubyte.gz 9912422 bytes.\n",
            "WARNING:tensorflow:From /tensorflow-1.15.2/python3.6/tensorflow_core/contrib/learn/python/learn/datasets/mnist.py:262: extract_images (from tensorflow.contrib.learn.python.learn.datasets.mnist) is deprecated and will be removed in a future version.\n",
            "Instructions for updating:\n",
            "Please use tf.data to implement this functionality.\n",
            "Extracting ./data/mnist/train-images-idx3-ubyte.gz\n",
            "Successfully downloaded train-labels-idx1-ubyte.gz 28881 bytes.\n",
            "WARNING:tensorflow:From /tensorflow-1.15.2/python3.6/tensorflow_core/contrib/learn/python/learn/datasets/mnist.py:267: extract_labels (from tensorflow.contrib.learn.python.learn.datasets.mnist) is deprecated and will be removed in a future version.\n",
            "Instructions for updating:\n",
            "Please use tf.data to implement this functionality.\n",
            "Extracting ./data/mnist/train-labels-idx1-ubyte.gz\n",
            "WARNING:tensorflow:From /tensorflow-1.15.2/python3.6/tensorflow_core/contrib/learn/python/learn/datasets/mnist.py:110: dense_to_one_hot (from tensorflow.contrib.learn.python.learn.datasets.mnist) is deprecated and will be removed in a future version.\n",
            "Instructions for updating:\n",
            "Please use tf.one_hot on tensors.\n",
            "Successfully downloaded t10k-images-idx3-ubyte.gz 1648877 bytes.\n",
            "Extracting ./data/mnist/t10k-images-idx3-ubyte.gz\n",
            "Successfully downloaded t10k-labels-idx1-ubyte.gz 4542 bytes.\n",
            "Extracting ./data/mnist/t10k-labels-idx1-ubyte.gz\n",
            "WARNING:tensorflow:From /tensorflow-1.15.2/python3.6/tensorflow_core/contrib/learn/python/learn/datasets/mnist.py:290: DataSet.__init__ (from tensorflow.contrib.learn.python.learn.datasets.mnist) is deprecated and will be removed in a future version.\n",
            "Instructions for updating:\n",
            "Please use alternatives such as official/mnist/dataset.py from tensorflow/models.\n"
          ],
          "name": "stdout"
        }
      ]
    },
    {
      "cell_type": "code",
      "metadata": {
        "id": "Z9BQHxGhjJ7M",
        "outputId": "aa1428bf-55b7-4fce-efa3-d45189f8ad36",
        "colab": {
          "base_uri": "https://localhost:8080/",
          "height": 34
        }
      },
      "source": [
        "mnist.train.images.shape, mnist.train.labels.shape"
      ],
      "execution_count": 10,
      "outputs": [
        {
          "output_type": "execute_result",
          "data": {
            "text/plain": [
              "((55000, 784), (55000, 10))"
            ]
          },
          "metadata": {
            "tags": []
          },
          "execution_count": 10
        }
      ]
    },
    {
      "cell_type": "code",
      "metadata": {
        "id": "oHgx4cH8javU",
        "outputId": "9ebeee7d-c825-4ff0-f725-b631cceda0c7",
        "colab": {
          "base_uri": "https://localhost:8080/",
          "height": 34
        }
      },
      "source": [
        "mnist.test.images.shape, mnist.test.labels.shape"
      ],
      "execution_count": 11,
      "outputs": [
        {
          "output_type": "execute_result",
          "data": {
            "text/plain": [
              "((10000, 784), (10000, 10))"
            ]
          },
          "metadata": {
            "tags": []
          },
          "execution_count": 11
        }
      ]
    },
    {
      "cell_type": "code",
      "metadata": {
        "id": "2P8Mtwokjh78",
        "outputId": "260968e2-eeb5-4187-a175-15be7e71f4c1",
        "colab": {
          "base_uri": "https://localhost:8080/",
          "height": 34
        }
      },
      "source": [
        "mnist.validation.images.shape, mnist.validation.labels.shape"
      ],
      "execution_count": 12,
      "outputs": [
        {
          "output_type": "execute_result",
          "data": {
            "text/plain": [
              "((5000, 784), (5000, 10))"
            ]
          },
          "metadata": {
            "tags": []
          },
          "execution_count": 12
        }
      ]
    },
    {
      "cell_type": "code",
      "metadata": {
        "id": "PLyKebaLjlHk",
        "outputId": "180bb6da-2ea0-41d8-c5fe-bcf49880c7f4",
        "colab": {
          "base_uri": "https://localhost:8080/",
          "height": 140
        }
      },
      "source": [
        "mnist.train.labels\n",
        "# 0 중에 1이 존재하는 인덱스를 찾아라 -> argmax(확률이 높은 값을 가진 위치를 찾을 때도 사용함)\n",
        "# 정답 데이터는 one-hot 인코딩 처리가 되어있다."
      ],
      "execution_count": 13,
      "outputs": [
        {
          "output_type": "execute_result",
          "data": {
            "text/plain": [
              "array([[0., 0., 0., ..., 1., 0., 0.],\n",
              "       [0., 0., 0., ..., 0., 0., 0.],\n",
              "       [0., 0., 0., ..., 0., 0., 0.],\n",
              "       ...,\n",
              "       [0., 0., 0., ..., 0., 0., 0.],\n",
              "       [0., 0., 0., ..., 0., 0., 0.],\n",
              "       [0., 0., 0., ..., 0., 1., 0.]])"
            ]
          },
          "metadata": {
            "tags": []
          },
          "execution_count": 13
        }
      ]
    },
    {
      "cell_type": "code",
      "metadata": {
        "id": "TWY9GDtjj_iU",
        "outputId": "934f2f5b-1b96-4e25-9a6a-f2bcc48031d9",
        "colab": {
          "base_uri": "https://localhost:8080/",
          "height": 1000
        }
      },
      "source": [
        "mnist.train.images[0]\n",
        "# 이미지 데이터는 정규화 처리 되어있음"
      ],
      "execution_count": 14,
      "outputs": [
        {
          "output_type": "execute_result",
          "data": {
            "text/plain": [
              "array([0.        , 0.        , 0.        , 0.        , 0.        ,\n",
              "       0.        , 0.        , 0.        , 0.        , 0.        ,\n",
              "       0.        , 0.        , 0.        , 0.        , 0.        ,\n",
              "       0.        , 0.        , 0.        , 0.        , 0.        ,\n",
              "       0.        , 0.        , 0.        , 0.        , 0.        ,\n",
              "       0.        , 0.        , 0.        , 0.        , 0.        ,\n",
              "       0.        , 0.        , 0.        , 0.        , 0.        ,\n",
              "       0.        , 0.        , 0.        , 0.        , 0.        ,\n",
              "       0.        , 0.        , 0.        , 0.        , 0.        ,\n",
              "       0.        , 0.        , 0.        , 0.        , 0.        ,\n",
              "       0.        , 0.        , 0.        , 0.        , 0.        ,\n",
              "       0.        , 0.        , 0.        , 0.        , 0.        ,\n",
              "       0.        , 0.        , 0.        , 0.        , 0.        ,\n",
              "       0.        , 0.        , 0.        , 0.        , 0.        ,\n",
              "       0.        , 0.        , 0.        , 0.        , 0.        ,\n",
              "       0.        , 0.        , 0.        , 0.        , 0.        ,\n",
              "       0.        , 0.        , 0.        , 0.        , 0.        ,\n",
              "       0.        , 0.        , 0.        , 0.        , 0.        ,\n",
              "       0.        , 0.        , 0.        , 0.        , 0.        ,\n",
              "       0.        , 0.        , 0.        , 0.        , 0.        ,\n",
              "       0.        , 0.        , 0.        , 0.        , 0.        ,\n",
              "       0.        , 0.        , 0.        , 0.        , 0.        ,\n",
              "       0.        , 0.        , 0.        , 0.        , 0.        ,\n",
              "       0.        , 0.        , 0.        , 0.        , 0.        ,\n",
              "       0.        , 0.        , 0.        , 0.        , 0.        ,\n",
              "       0.        , 0.        , 0.        , 0.        , 0.        ,\n",
              "       0.        , 0.        , 0.        , 0.        , 0.        ,\n",
              "       0.        , 0.        , 0.        , 0.        , 0.        ,\n",
              "       0.        , 0.        , 0.        , 0.        , 0.        ,\n",
              "       0.        , 0.        , 0.        , 0.        , 0.        ,\n",
              "       0.        , 0.        , 0.        , 0.        , 0.        ,\n",
              "       0.        , 0.        , 0.        , 0.        , 0.        ,\n",
              "       0.        , 0.        , 0.        , 0.        , 0.        ,\n",
              "       0.        , 0.        , 0.        , 0.        , 0.        ,\n",
              "       0.        , 0.        , 0.        , 0.        , 0.        ,\n",
              "       0.        , 0.        , 0.        , 0.        , 0.        ,\n",
              "       0.        , 0.        , 0.        , 0.        , 0.        ,\n",
              "       0.        , 0.        , 0.        , 0.        , 0.        ,\n",
              "       0.        , 0.        , 0.        , 0.        , 0.        ,\n",
              "       0.        , 0.        , 0.        , 0.        , 0.        ,\n",
              "       0.        , 0.        , 0.        , 0.        , 0.        ,\n",
              "       0.        , 0.        , 0.3803922 , 0.37647063, 0.3019608 ,\n",
              "       0.46274513, 0.2392157 , 0.        , 0.        , 0.        ,\n",
              "       0.        , 0.        , 0.        , 0.        , 0.        ,\n",
              "       0.        , 0.        , 0.        , 0.        , 0.        ,\n",
              "       0.        , 0.        , 0.3529412 , 0.5411765 , 0.9215687 ,\n",
              "       0.9215687 , 0.9215687 , 0.9215687 , 0.9215687 , 0.9215687 ,\n",
              "       0.9843138 , 0.9843138 , 0.9725491 , 0.9960785 , 0.9607844 ,\n",
              "       0.9215687 , 0.74509805, 0.08235294, 0.        , 0.        ,\n",
              "       0.        , 0.        , 0.        , 0.        , 0.        ,\n",
              "       0.        , 0.        , 0.        , 0.        , 0.54901963,\n",
              "       0.9843138 , 0.9960785 , 0.9960785 , 0.9960785 , 0.9960785 ,\n",
              "       0.9960785 , 0.9960785 , 0.9960785 , 0.9960785 , 0.9960785 ,\n",
              "       0.9960785 , 0.9960785 , 0.9960785 , 0.9960785 , 0.9960785 ,\n",
              "       0.7411765 , 0.09019608, 0.        , 0.        , 0.        ,\n",
              "       0.        , 0.        , 0.        , 0.        , 0.        ,\n",
              "       0.        , 0.        , 0.8862746 , 0.9960785 , 0.81568635,\n",
              "       0.7803922 , 0.7803922 , 0.7803922 , 0.7803922 , 0.54509807,\n",
              "       0.2392157 , 0.2392157 , 0.2392157 , 0.2392157 , 0.2392157 ,\n",
              "       0.5019608 , 0.8705883 , 0.9960785 , 0.9960785 , 0.7411765 ,\n",
              "       0.08235294, 0.        , 0.        , 0.        , 0.        ,\n",
              "       0.        , 0.        , 0.        , 0.        , 0.        ,\n",
              "       0.14901961, 0.32156864, 0.0509804 , 0.        , 0.        ,\n",
              "       0.        , 0.        , 0.        , 0.        , 0.        ,\n",
              "       0.        , 0.        , 0.        , 0.        , 0.13333334,\n",
              "       0.8352942 , 0.9960785 , 0.9960785 , 0.45098042, 0.        ,\n",
              "       0.        , 0.        , 0.        , 0.        , 0.        ,\n",
              "       0.        , 0.        , 0.        , 0.        , 0.        ,\n",
              "       0.        , 0.        , 0.        , 0.        , 0.        ,\n",
              "       0.        , 0.        , 0.        , 0.        , 0.        ,\n",
              "       0.        , 0.        , 0.        , 0.32941177, 0.9960785 ,\n",
              "       0.9960785 , 0.9176471 , 0.        , 0.        , 0.        ,\n",
              "       0.        , 0.        , 0.        , 0.        , 0.        ,\n",
              "       0.        , 0.        , 0.        , 0.        , 0.        ,\n",
              "       0.        , 0.        , 0.        , 0.        , 0.        ,\n",
              "       0.        , 0.        , 0.        , 0.        , 0.        ,\n",
              "       0.        , 0.32941177, 0.9960785 , 0.9960785 , 0.9176471 ,\n",
              "       0.        , 0.        , 0.        , 0.        , 0.        ,\n",
              "       0.        , 0.        , 0.        , 0.        , 0.        ,\n",
              "       0.        , 0.        , 0.        , 0.        , 0.        ,\n",
              "       0.        , 0.        , 0.        , 0.        , 0.        ,\n",
              "       0.        , 0.        , 0.        , 0.4156863 , 0.6156863 ,\n",
              "       0.9960785 , 0.9960785 , 0.95294124, 0.20000002, 0.        ,\n",
              "       0.        , 0.        , 0.        , 0.        , 0.        ,\n",
              "       0.        , 0.        , 0.        , 0.        , 0.        ,\n",
              "       0.        , 0.        , 0.        , 0.        , 0.        ,\n",
              "       0.        , 0.09803922, 0.45882356, 0.8941177 , 0.8941177 ,\n",
              "       0.8941177 , 0.9921569 , 0.9960785 , 0.9960785 , 0.9960785 ,\n",
              "       0.9960785 , 0.94117653, 0.        , 0.        , 0.        ,\n",
              "       0.        , 0.        , 0.        , 0.        , 0.        ,\n",
              "       0.        , 0.        , 0.        , 0.        , 0.        ,\n",
              "       0.        , 0.        , 0.26666668, 0.4666667 , 0.86274517,\n",
              "       0.9960785 , 0.9960785 , 0.9960785 , 0.9960785 , 0.9960785 ,\n",
              "       0.9960785 , 0.9960785 , 0.9960785 , 0.9960785 , 0.5568628 ,\n",
              "       0.        , 0.        , 0.        , 0.        , 0.        ,\n",
              "       0.        , 0.        , 0.        , 0.        , 0.        ,\n",
              "       0.        , 0.        , 0.        , 0.14509805, 0.73333335,\n",
              "       0.9921569 , 0.9960785 , 0.9960785 , 0.9960785 , 0.8745099 ,\n",
              "       0.8078432 , 0.8078432 , 0.29411766, 0.26666668, 0.8431373 ,\n",
              "       0.9960785 , 0.9960785 , 0.45882356, 0.        , 0.        ,\n",
              "       0.        , 0.        , 0.        , 0.        , 0.        ,\n",
              "       0.        , 0.        , 0.        , 0.        , 0.        ,\n",
              "       0.4431373 , 0.8588236 , 0.9960785 , 0.9490197 , 0.89019614,\n",
              "       0.45098042, 0.34901962, 0.12156864, 0.        , 0.        ,\n",
              "       0.        , 0.        , 0.7843138 , 0.9960785 , 0.9450981 ,\n",
              "       0.16078432, 0.        , 0.        , 0.        , 0.        ,\n",
              "       0.        , 0.        , 0.        , 0.        , 0.        ,\n",
              "       0.        , 0.        , 0.        , 0.6627451 , 0.9960785 ,\n",
              "       0.6901961 , 0.24313727, 0.        , 0.        , 0.        ,\n",
              "       0.        , 0.        , 0.        , 0.        , 0.18823531,\n",
              "       0.9058824 , 0.9960785 , 0.9176471 , 0.        , 0.        ,\n",
              "       0.        , 0.        , 0.        , 0.        , 0.        ,\n",
              "       0.        , 0.        , 0.        , 0.        , 0.        ,\n",
              "       0.        , 0.07058824, 0.48627454, 0.        , 0.        ,\n",
              "       0.        , 0.        , 0.        , 0.        , 0.        ,\n",
              "       0.        , 0.        , 0.32941177, 0.9960785 , 0.9960785 ,\n",
              "       0.6509804 , 0.        , 0.        , 0.        , 0.        ,\n",
              "       0.        , 0.        , 0.        , 0.        , 0.        ,\n",
              "       0.        , 0.        , 0.        , 0.        , 0.        ,\n",
              "       0.        , 0.        , 0.        , 0.        , 0.        ,\n",
              "       0.        , 0.        , 0.        , 0.        , 0.        ,\n",
              "       0.54509807, 0.9960785 , 0.9333334 , 0.22352943, 0.        ,\n",
              "       0.        , 0.        , 0.        , 0.        , 0.        ,\n",
              "       0.        , 0.        , 0.        , 0.        , 0.        ,\n",
              "       0.        , 0.        , 0.        , 0.        , 0.        ,\n",
              "       0.        , 0.        , 0.        , 0.        , 0.        ,\n",
              "       0.        , 0.        , 0.8235295 , 0.9803922 , 0.9960785 ,\n",
              "       0.65882355, 0.        , 0.        , 0.        , 0.        ,\n",
              "       0.        , 0.        , 0.        , 0.        , 0.        ,\n",
              "       0.        , 0.        , 0.        , 0.        , 0.        ,\n",
              "       0.        , 0.        , 0.        , 0.        , 0.        ,\n",
              "       0.        , 0.        , 0.        , 0.        , 0.        ,\n",
              "       0.9490197 , 0.9960785 , 0.93725497, 0.22352943, 0.        ,\n",
              "       0.        , 0.        , 0.        , 0.        , 0.        ,\n",
              "       0.        , 0.        , 0.        , 0.        , 0.        ,\n",
              "       0.        , 0.        , 0.        , 0.        , 0.        ,\n",
              "       0.        , 0.        , 0.        , 0.        , 0.        ,\n",
              "       0.        , 0.        , 0.34901962, 0.9843138 , 0.9450981 ,\n",
              "       0.3372549 , 0.        , 0.        , 0.        , 0.        ,\n",
              "       0.        , 0.        , 0.        , 0.        , 0.        ,\n",
              "       0.        , 0.        , 0.        , 0.        , 0.        ,\n",
              "       0.        , 0.        , 0.        , 0.        , 0.        ,\n",
              "       0.        , 0.        , 0.        , 0.        , 0.01960784,\n",
              "       0.8078432 , 0.96470594, 0.6156863 , 0.        , 0.        ,\n",
              "       0.        , 0.        , 0.        , 0.        , 0.        ,\n",
              "       0.        , 0.        , 0.        , 0.        , 0.        ,\n",
              "       0.        , 0.        , 0.        , 0.        , 0.        ,\n",
              "       0.        , 0.        , 0.        , 0.        , 0.        ,\n",
              "       0.        , 0.        , 0.01568628, 0.45882356, 0.27058825,\n",
              "       0.        , 0.        , 0.        , 0.        , 0.        ,\n",
              "       0.        , 0.        , 0.        , 0.        , 0.        ,\n",
              "       0.        , 0.        , 0.        , 0.        , 0.        ,\n",
              "       0.        , 0.        , 0.        , 0.        , 0.        ,\n",
              "       0.        , 0.        , 0.        , 0.        , 0.        ,\n",
              "       0.        , 0.        , 0.        , 0.        , 0.        ,\n",
              "       0.        , 0.        , 0.        , 0.        , 0.        ,\n",
              "       0.        , 0.        , 0.        , 0.        ], dtype=float32)"
            ]
          },
          "metadata": {
            "tags": []
          },
          "execution_count": 14
        }
      ]
    },
    {
      "cell_type": "markdown",
      "metadata": {
        "id": "3f3dh7JQkSPj"
      },
      "source": [
        "## 데이터 처리\n",
        "- 차후 서비스 시 데이터 처리에 대한 규칙\n",
        "  - 손글씨 이미지를 예측하려면\n",
        "    - 이미지 자체를 28x28 데이터로 획득해서 픽셀을 255로 나누는 정규화를 수행(MinMaxScaler) -> 예측 -> argmax() -> 결과를 획득"
      ]
    },
    {
      "cell_type": "markdown",
      "metadata": {
        "id": "sOIeifuAaUI4"
      },
      "source": [
        "# 데이터 전처리(생략)\n",
        "- 전처리된 데이터를 받았다."
      ]
    },
    {
      "cell_type": "markdown",
      "metadata": {
        "id": "PIKZNir0aXzn"
      },
      "source": [
        "# 데이터 분석(생략)"
      ]
    },
    {
      "cell_type": "markdown",
      "metadata": {
        "id": "8czbAB9oaYxX"
      },
      "source": [
        "# 모델 구축(딥러닝)"
      ]
    },
    {
      "cell_type": "markdown",
      "metadata": {
        "id": "ekJVBN0yk_Tj"
      },
      "source": [
        "- 텐서플로의 제작 스타일을 따라가기 위해\n",
        "  - 1부 : 인공신경망을 구축, CNN 방식, 기타 학습에 관련된 작업 수행(처음 등장)\n",
        "  - 2부 : 데이터를 주입, 학습(C++), 예측, 평가"
      ]
    },
    {
      "cell_type": "markdown",
      "metadata": {
        "id": "JU2h-9lBk4RE"
      },
      "source": [
        "## 1부"
      ]
    },
    {
      "cell_type": "markdown",
      "metadata": {
        "id": "KxBErP3llUfE"
      },
      "source": [
        "- 작업 환경에 대한 수치 정의(환경변수)\n",
        "- CNN 구조에 따라 망을 설계/구현\n",
        "- 학습 환경에 대한 최적화 기법, 평가도구 등 정의"
      ]
    },
    {
      "cell_type": "markdown",
      "metadata": {
        "id": "QuA2AfienjsF"
      },
      "source": [
        "### 환경설정값 초기화"
      ]
    },
    {
      "cell_type": "code",
      "metadata": {
        "id": "FqRmPrvKmed0"
      },
      "source": [
        "import numpy as np"
      ],
      "execution_count": 15,
      "outputs": []
    },
    {
      "cell_type": "code",
      "metadata": {
        "id": "UKX2cxngk2o7",
        "outputId": "61e395ab-ac57-4f2e-da6b-dab707864b1f",
        "colab": {
          "base_uri": "https://localhost:8080/",
          "height": 34
        }
      },
      "source": [
        "# 이미지 1개에 대한 픽셀 수(feature의 수) -> 현 데이터는 784개\n",
        "PIXEL = mnist.train.images.shape[1]\n",
        "PIXEL"
      ],
      "execution_count": 16,
      "outputs": [
        {
          "output_type": "execute_result",
          "data": {
            "text/plain": [
              "784"
            ]
          },
          "metadata": {
            "tags": []
          },
          "execution_count": 16
        }
      ]
    },
    {
      "cell_type": "code",
      "metadata": {
        "id": "nIxHNMnbmHge",
        "outputId": "ba93b995-64f9-4452-8462-78cf6f3b4491",
        "colab": {
          "base_uri": "https://localhost:8080/",
          "height": 34
        }
      },
      "source": [
        "# 이미지 1개에 대한 세로, 가로 픽셀의 크기 -> 전제 : 정사각형 이미지\n",
        "PIXEL_H = int(np.sqrt(PIXEL))\n",
        "PIXEL_W = PIXEL_H \n",
        "PIXEL_H, PIXEL_W"
      ],
      "execution_count": 17,
      "outputs": [
        {
          "output_type": "execute_result",
          "data": {
            "text/plain": [
              "(28, 28)"
            ]
          },
          "metadata": {
            "tags": []
          },
          "execution_count": 17
        }
      ]
    },
    {
      "cell_type": "code",
      "metadata": {
        "id": "zAJCpBHBmspc",
        "outputId": "6f3f7aec-aa08-4549-c507-13cf3778f988",
        "colab": {
          "base_uri": "https://localhost:8080/",
          "height": 34
        }
      },
      "source": [
        "# 정답 레이블의 개수 -> 데이터가 원-핫 인코딩으로 구성되어 있음을 알고 있다.\n",
        "LABEL_NUM = mnist.train.labels.shape[-1]\n",
        "LABEL_NUM"
      ],
      "execution_count": 18,
      "outputs": [
        {
          "output_type": "execute_result",
          "data": {
            "text/plain": [
              "10"
            ]
          },
          "metadata": {
            "tags": []
          },
          "execution_count": 18
        }
      ]
    },
    {
      "cell_type": "code",
      "metadata": {
        "id": "FPTXwk9um7nq",
        "outputId": "51cc72a5-ddd0-46c7-df04-ac798575931d",
        "colab": {
          "base_uri": "https://localhost:8080/",
          "height": 34
        }
      },
      "source": [
        "# np.argmax()은 분류값을 처리하는 함수, np.where도 가능한 방법\n",
        "np.argmax(mnist.train.labels[0]), np.where(mnist.train.labels[0])[0][0]"
      ],
      "execution_count": 19,
      "outputs": [
        {
          "output_type": "execute_result",
          "data": {
            "text/plain": [
              "(7, 7)"
            ]
          },
          "metadata": {
            "tags": []
          },
          "execution_count": 19
        }
      ]
    },
    {
      "cell_type": "code",
      "metadata": {
        "id": "o4ORSC7bvBt-",
        "outputId": "b7e43c81-54a7-4e72-de72-068e1a198b4e",
        "colab": {
          "base_uri": "https://localhost:8080/",
          "height": 34
        }
      },
      "source": [
        "# 정답데이터\n",
        "label = [n for n in range(10)]\n",
        "label, label[np.argmax(mnist.train.labels[0])]"
      ],
      "execution_count": 20,
      "outputs": [
        {
          "output_type": "execute_result",
          "data": {
            "text/plain": [
              "([0, 1, 2, 3, 4, 5, 6, 7, 8, 9], 7)"
            ]
          },
          "metadata": {
            "tags": []
          },
          "execution_count": 20
        }
      ]
    },
    {
      "cell_type": "markdown",
      "metadata": {
        "id": "hB0ykObDnn4k"
      },
      "source": [
        "### CNN을 이용한 인공신경망 구축"
      ]
    },
    {
      "cell_type": "markdown",
      "metadata": {
        "id": "bxQ2rCzon2uM"
      },
      "source": [
        "```\n",
        "[ 구현할 CNN 구조 ]\n",
        "- 층 : Layer\n",
        "  └ 입력층\n",
        "  └ 은닉층(중간층) : Hidden Layer\n",
        "    └ 합성곱층     : Convolutional Layer, 특징 추출 목적\n",
        "    └ 풀링층       : Pooling Layer,       특징 강화 목적\n",
        "    └ 합성곱층     : Convolutional Layer, 특징 추출 목적\n",
        "    └ 풀링층       : Pooling Layer,       특징 강화 목적\n",
        "    └ 전결합층     : 1차원으로 퍼준다,    Fully Connected Layer\n",
        "  └ 출력층\n",
        "```"
      ]
    },
    {
      "cell_type": "markdown",
      "metadata": {
        "id": "z_VbYtLlo0WN"
      },
      "source": [
        "#### 입력층\n"
      ]
    },
    {
      "cell_type": "markdown",
      "metadata": {
        "id": "Hh2vHLEPpXcs"
      },
      "source": [
        "- x\n",
        "- 실제 손글씨 데이터가 주입된다(외부에서 데이터를 넣는다). -> 데이터 주입은 2부에서\n",
        "- PlaceHolder 이용, 외부에서 데이터가 주입될 때 받는 그릇이기 때문에\n",
        "- 그릇의 shape 필요\n",
        "  - 훈련데이터 크기는 (55000,784)\n",
        "  - 테스트 데이터는 (10000, 784)\n",
        "  - 검증 데이터는 (5000, 784)\n",
        "  - 그릇의 크기는? (None, 784) => 가변형"
      ]
    },
    {
      "cell_type": "code",
      "metadata": {
        "id": "FUvi5z51qavC",
        "outputId": "46bc3d2c-e2ad-4508-c01f-7f702be40576",
        "colab": {
          "base_uri": "https://localhost:8080/",
          "height": 34
        }
      },
      "source": [
        "x = tf.placeholder(tf.float32, shape=(None, PIXEL), name='x')\n",
        "x"
      ],
      "execution_count": 21,
      "outputs": [
        {
          "output_type": "execute_result",
          "data": {
            "text/plain": [
              "<tf.Tensor 'x:0' shape=(?, 784) dtype=float32>"
            ]
          },
          "metadata": {
            "tags": []
          },
          "execution_count": 21
        }
      ]
    },
    {
      "cell_type": "markdown",
      "metadata": {
        "id": "Jb9TQ-Ano2uk"
      },
      "source": [
        "#### 은닉층 > 합성곱층 - 1f"
      ]
    },
    {
      "cell_type": "markdown",
      "metadata": {
        "id": "IrE08C6QwFPz"
      },
      "source": [
        "- 목적\n",
        "  - 이미지 공간상의 정보를 필터를 통과시켜서 특징을 추출하는 층\n",
        "- 요소\n",
        "  - 입력 : 합성곱층에 입력되는 값, 이전 층의 출력과 동일 -> x\n",
        "  - 커널(필터)\n",
        "    - 정방형 1차 행렬 주로 사용 : (2,2), (3,3), ... (5,5)\n",
        "    - h, w 동일\n",
        "  - 가중치(W)\n",
        "    - 커널이 가지고 있는 값\n",
        "    - 공용 파라미터로 W를 가진 커널\n",
        "    - 딥러닝이 학습해서 최적으로 맞춰야할 값 -> 학습이 되면 조정된다\n",
        "  - 스트라이드(s) \n",
        "    - 커널을 이미지 상에서 슬라이딩하는(이동시키는) 크기\n",
        "    - 커널을 얼마나 이동시킬 것이가?\n",
        "    - 좌에서 우로 이동 -> 경계를 만나면, 동일 크기로 밑으로 이동 -> 이동이 끝나면 다시 좌에서 우로 이동 -> 반복\n",
        "    - 좌우 이동량과, 상하 이동량은 통상 동일하게 부여\n",
        "  - 패딩(p) \n",
        "    - <img src=\"https://drive.google.com/uc?id=1AyyJeFNUF2xbMOVmjpqWsSkEJgRgNmF1\" width=\"35.2%\">   <img src=\"https://drive.google.com/uc?id=1e5CH28n3SlG5PrygRExnbdvHrzG33PYZ\" width=\"40%\">  \n",
        "      - p값은 동일하게 적용되고, 일반적으로 0을 적용\n",
        "      - 이것은 곧 경계선 검출과 연관성을 가진다.\n",
        "\n",
        "    - 커널을 이동시켜서 특징을 뽑다보면, 끝에 가서 크기가 안 맞는 경우가 생긴다.(경계선 부분에서 크기가 안 맞을 경우) => 어떻게 보정할 것인가?\n",
        "    - SAME, VALID\n",
        "  - 출력 : feature map 혹은 activation map(활성화맵 : 특성맵을 특정 활성화함수로 통과시킨 결과물)"
      ]
    },
    {
      "cell_type": "markdown",
      "metadata": {
        "id": "FBHtrW4wzrBi"
      },
      "source": [
        "- 최종식\n",
        "  - 퍼셉트론을 기본으로 설정\n",
        "  - y = x * W + b(편향값)\n",
        "    - x : (None, 784)\n",
        "    - W : (3,3) -> 일종의 설정\n",
        "      - 스트라이드(s)값이 필요함, 몇 개를 출력할 것인지 크기 또한 필요함, 1개의 이미지를 넣어서 몇 개의 특징을 가진 이미지로 뽑아낼 것인가? 예 : 32\n",
        "    - b : 32\n",
        "      - 편향값은 무조건 x*W의 출력채널 수를 따라간다."
      ]
    },
    {
      "cell_type": "code",
      "metadata": {
        "id": "QVXv6dst1LoS"
      },
      "source": [
        "# 공용 파라미터로 W를 가진 필터를 생성하는 함수\n",
        "# W는 최적화를 통해서 조정되므로, 변수가 되야한다.\n",
        "# 단, 초기값은 상수로 제공 가능\n",
        "# shape : 커널의 shape\n",
        "# name : W의 이름, 텐서보드에서 확인할 수 있다.(구분용)\n",
        "def make_WeightFilter(shape, name) :\n",
        "  # W의 초기값(랜덤 혹은 개발한 값(수직, 수평, 가우시안 등) 혹은 일반적인 함수(값의 분포를 표현한 함수))\n",
        "  # stddev=0.1은 설정값\n",
        "  # shape => [ 커널의 세로 크기(가로크기 넣어도 OK ∵ 이미지가 아니라 세로부터 이야기할 필요 X), 커널의 가로 크기, 입력 채널 수, 출력 채널 수 ]\n",
        "  # 커널의 가로/세로 크기 : 동일값으로 지정한다. 3 혹은 5\n",
        "  # 입력 채널 수 : 학습 시 주입되는 데이터의 채널 수 -> 1(만약 컬러면 3)\n",
        "  # 출력 채널 수 : 1장의 이미지에서 몇 개의 특징을 뽑을 것인가, 설계할 때 설정\n",
        "  #                만약 32이라고 지정하면, 1장의 이미지에서 특징을 뽑아서 이미지를 만들어내는 과정을 32번 수행한다.\n",
        "  #                따라서 1장의 이미지가 32장이 된다.(W가 조정되면서 특징을 다양하게 매번 뽑는 것)\n",
        "  tmp = tf.truncated_normal(shape, stddev=0.1)\n",
        "  # 커널(필터)은 상수? 변수? 플레이스홀더? => 어떤 형식을 쓸지부터 결정해야 한다.\n",
        "  # 텐서보드라는 시각화 도구에서 W를 구분해낼 때 \"W_name\"으로 찾을 수 있다.\n",
        "  W = tf.Variable(initial_value=tmp, name=\"W_\"+name)\n",
        "  return W"
      ],
      "execution_count": 22,
      "outputs": []
    },
    {
      "cell_type": "code",
      "metadata": {
        "id": "Tdpdlmlr1OJE"
      },
      "source": [
        "# 편향값을 생성하는 함수\n",
        "def make_Bais(shape, value, name) :\n",
        "  # shape은 xW + b에서 b에 해당되고, 1D-tensor\n",
        "  # 상수로 초기값을 부여하겠다.\n",
        "  tmp = tf.constant(value, shape=[shape])\n",
        "  # b는 변수이므로 차후 최적화를 통해서 미세 조정된다.\n",
        "  b = tf.Variable(tmp, name=\"b_\"+name)\n",
        "  return b"
      ],
      "execution_count": 23,
      "outputs": []
    },
    {
      "cell_type": "code",
      "metadata": {
        "id": "8xtuwZk11UJ8"
      },
      "source": [
        "# 합성곱층을 생성하는 함수\n",
        "def make_Conv_2d(x, W, name) :\n",
        "  conv2d = tf.nn.conv2d(x, W, strides=[1,1,1,1], padding='SAME', name='conv_'+name)\n",
        "  '''\n",
        "  input   : 이전 층의 출력이 여기서는 입력이 된다.\n",
        "            [\n",
        "              batch,      : 1회 훈련 시 주입되는 데이터의 총 수 -> batch_size\n",
        "              in_height,  : 이미지의 세로 크기\n",
        "              in_width,   : 이미지의 가로 크기\n",
        "              in_channels : 이미지의 입력 채널 수(그레이스케일 : 1, 컬러 : 3)\n",
        "            ]\n",
        "            4-D tensor, data_format 중 한가지 형태를 취한 것(다른 타입은 케라스 혹은 파이토치에서 확인)\n",
        "  filter  : 가중치 값을 파라미터로 가진 커널(필터)\n",
        "            [\n",
        "              filter_height, : 커널(필터)의 세로 크기 ex) 3 or 5\n",
        "              filter_width,  : 커널(필터)의 가로 크기 ex) 3 or 5\n",
        "              in_channels,   : 입력 채널 수 ex) 1\n",
        "              out_channels   : 출력 채널 수 ex) 32(설정값)\n",
        "            ]\n",
        "  strides : 커널의 이동량\n",
        "            [\n",
        "              batch, : batch와 depth는 동일값을 사용, 1을 사용한다. ex) 1\n",
        "              W,     : W와 h는 통상 같은 값을 사용 ex) 1, 2, ...\n",
        "              h,     : W와 h는 통상 같은 값을 사용 ex) 1, 2, ...\n",
        "              depth  : batch와 depth는 동일값을 사용, 1을 사용한다. ex) 1\n",
        "            ]\n",
        "  padding : 커널이 이동해서 특징을 추출할 때, 입력 이미지의 크기가 안 맞는 경우 보정하는 방식\n",
        "            SAME  : 만약 stride가 1이면 출력 채널을 통해 나오는 특징맵 이미지는 원본 이미지와 동일 크기를 가진다.\n",
        "            VALID : 원본이미지 대비 크기가 줄어든다.\n",
        "  '''\n",
        "  return conv2d"
      ],
      "execution_count": 24,
      "outputs": []
    },
    {
      "cell_type": "code",
      "metadata": {
        "id": "rb8zPUGZ1XPc",
        "outputId": "6890cab6-b66f-4692-d8ba-e518cbd756e5",
        "colab": {
          "base_uri": "https://localhost:8080/",
          "height": 34
        }
      },
      "source": [
        "# 전과정을 연결해서 만드는 실질적인 합성곱층 생성(함수 또는 모듈)\n",
        "\n",
        "# 텐서보드에서 그래프(관계)를 확인하기 위해서 scope(범위)를 묶는다.\n",
        "layer_name = 'conv_1f'\n",
        "with tf.name_scope(layer_name) as scope :\n",
        "  # y = x * W + b : 퍼셉트론에 입각해서 식 성립\n",
        "  # ---------------------------------------------------------------------------------------------------------------------------------\n",
        "  # 1. 공용 파라미터로 W를 가지는 필터(커널) 생성\n",
        "  #    커널 크기 : 5*5, 입력 채널 수 : 1, 출력 채널 수 : 32(1장의 이미지에서 특징을 뽑아 1개를 출력하는 행위를 32번 수행한다.)\n",
        "  conv1_W = make_WeightFilter([5,5,1,32], layer_name)\n",
        "  # ---------------------------------------------------------------------------------------------------------------------------------\n",
        "  # 2. 편향 bias 생성\n",
        "  #    W의 마지막 요소값과 일치하게 shape을 잡는다.\n",
        "  #    행렬의 합에 의해서 W의 마지막 32가 b의 크기가 된다.(동일하게)\n",
        "  #    브로드캐스팅이라는 지원요소가 행렬의 합 과정에서 반영되어 연산되게 처리한다.\n",
        "  #    value=0.1은 임의로 부여한 초기값 -> 차후에 최초 시작값을 조정할 수 있다.\n",
        "  conv1_b = make_Bais(32, 0.1, layer_name)\n",
        "  # ---------------------------------------------------------------------------------------------------------------------------------\n",
        "  # 3. x(입력값) 준비\n",
        "  #    입력값 조정 -> 합성곱을 만드는 API가 있다. 이 API가 요구하는 입력 형식 => (batch : 데이터 개수, h, w, 입력 채널 수) \n",
        "  #    입력 채널 수 => 그레이 스케일 : 1 / 컬러 : RGB로 구성되어 3\n",
        "  #    데이터를 표현하는 포맷 중에 하나(포맷은 총 2개 존재, 텐서플로가 이 형식을 지원, 나머지는 파이토치할 때 등장)\n",
        "  #    x는 (None, 784)에서 (-1, 28, 28, 1) 형식으로 바꿔야 한다.\n",
        "  #    2D를 4D로 구성 => reshape\n",
        "  x_4d = tf.reshape( x, (-1, PIXEL_H, PIXEL_W, 1) )\n",
        "  # ---------------------------------------------------------------------------------------------------------------------------------\n",
        "  # 4. 합성곱층 생성 -> feature map을 산출물로 생성한다.\n",
        "  #    y = x * W + b\n",
        "  conv1 = make_Conv_2d(x_4d, conv1_W, layer_name) + conv1_b\n",
        "  # ---------------------------------------------------------------------------------------------------------------------------------\n",
        "  # 5. 활성화 함수 통과 -> activation map으로 산출물을 생성한다. -> 만드는 사람이 설정 \n",
        "  #    활성화 함수를 통과시키면 데이터가 전체적으로 특정 컨셉으로 보정된다.\n",
        "  #    (데이터를 비선형으로 흩뜨려놓는다고 이해하면 됨, 깊이를 더 주기 위해)\n",
        "  act_conv1 = tf.nn.relu(conv1)\n",
        "\n",
        "# padding = 'SAME'일 때,  <tf.Tensor 'conv_1f_4/Relu:0' shape=(?, 28, 28, 32) dtype=float32>\n",
        "# padding = 'VALID'일 때, <tf.Tensor 'conv_1f_4/Relu:0' shape=(?, 24, 24, 32) dtype=float32>\n",
        "act_conv1"
      ],
      "execution_count": 25,
      "outputs": [
        {
          "output_type": "execute_result",
          "data": {
            "text/plain": [
              "<tf.Tensor 'conv_1f/Relu:0' shape=(?, 28, 28, 32) dtype=float32>"
            ]
          },
          "metadata": {
            "tags": []
          },
          "execution_count": 25
        }
      ]
    },
    {
      "cell_type": "markdown",
      "metadata": {
        "id": "CVpUvlTPo6f0"
      },
      "source": [
        "#### 은닉층 > 풀링층 - 1f"
      ]
    },
    {
      "cell_type": "markdown",
      "metadata": {
        "id": "SAUTIDSXGiv1"
      },
      "source": [
        "- 구성요소\n",
        "  - 입력 \n",
        "    - 합성곱층의 산출물(결과물) => fature map 혹은 activation map\n",
        "    - <tf.Tensor 'conv_1f/Relu:0' shape=(?, 28, 28, 32) dtype=float32>\n",
        "  - W : 필요 없음, 단, 필터의 크기는 필요함\n",
        "  - b : 필요 없음\n",
        "  - s : 필터의 이동량\n",
        "  - p : same/valid\n",
        "- 목적\n",
        "  - 특징을 강화한다.\n",
        "    - 최대 풀링, 평균 풀링, 최소 풀링 등"
      ]
    },
    {
      "cell_type": "code",
      "metadata": {
        "id": "bYNckHHGHNQG"
      },
      "source": [
        "# 최대 풀링 처리 함수\n",
        "def make_MaxPooling(x) : \n",
        "  # 2x2 커널이 2칸씩 이동하는데 보정값이 SAME이면 이미지의 크기는 정확히 1/2로 줄어든다.\n",
        "  # 커널 크기와 스트라이드, 패딩을 고정하겠다.\n",
        "  pool = tf.nn.max_pool(value=x, ksize=[1,2,2,1], strides=[1,2,2,1], padding=\"SAME\")\n",
        "  '''\n",
        "  value              : 4-D, [batch, h, w, in_channels]\n",
        "  ksize              : [1,2,2,1] => 커널 크기는 (2,2), W의 값은 없다\n",
        "                       [batch, h, w, in_channels]\n",
        "  strides            : [1,2,2,1] => 이동량이 2칸씩\n",
        "  padding            : SAME, VALID\n",
        "  data_format='NHWC' : [데이터 개수, 이미지 높이, 이미지 가로, 채널 수]\n",
        "                       이런 형식으로 value(입력)가 와야 한다.\n",
        "                       <-> 'HWNC' format : [이미지 높이, 이미지 가로, 데이터 개수, 채널 수]\n",
        "  '''\n",
        "  return pool"
      ],
      "execution_count": 26,
      "outputs": []
    },
    {
      "cell_type": "code",
      "metadata": {
        "id": "--_kiiVgHQKQ",
        "outputId": "c36e31ed-8720-4d2d-8121-4d6e482c86f6",
        "colab": {
          "base_uri": "https://localhost:8080/",
          "height": 34
        }
      },
      "source": [
        "# 풀링 처리\n",
        "layer_name = \"pooling_1f\"\n",
        "with tf.name_scope(layer_name) as scope :\n",
        "  pool1 = make_MaxPooling(act_conv1)\n",
        "pool1\n",
        "# (?, 14, 14, 32) => 이미지 크기가 줄어들었다. 픽셀 4개가 1개의 최대값으로 줄어들었다(압축되었다, 특성이 최대값으로 강화되었다).\n",
        "# 이미지의 개수는? => 변화 없다."
      ],
      "execution_count": 27,
      "outputs": [
        {
          "output_type": "execute_result",
          "data": {
            "text/plain": [
              "<tf.Tensor 'pooling_1f/MaxPool:0' shape=(?, 14, 14, 32) dtype=float32>"
            ]
          },
          "metadata": {
            "tags": []
          },
          "execution_count": 27
        }
      ]
    },
    {
      "cell_type": "markdown",
      "metadata": {
        "id": "C16IZJUZo_ib"
      },
      "source": [
        "#### 은닉층 > 합성곱층 - 2f"
      ]
    },
    {
      "cell_type": "markdown",
      "metadata": {
        "id": "vdiL5-cJKdGN"
      },
      "source": [
        "- 입력 : pool1\n",
        "  - shape : (?, 14, 14, 32) (<tf.Tensor 'pooling_1f/MaxPool:0' shape=(?, 14, 14, 32) dtype=float32>)\n",
        "- 출력 : act_conv2\n",
        "  - 출력 채널 수를 32*2개로 늘리겠다(설정)\n",
        "  - shape : (?, 14, 14, 32*2)"
      ]
    },
    {
      "cell_type": "code",
      "metadata": {
        "id": "udBTMZcMKavG",
        "outputId": "29205f83-801b-44f6-d914-bf79af7d1244",
        "colab": {
          "base_uri": "https://localhost:8080/",
          "height": 34
        }
      },
      "source": [
        "layer_name = 'conv_2f'\n",
        "with tf.name_scope(layer_name) as scope :\n",
        "  conv2_W   = make_WeightFilter([5,5,32,32*2], layer_name)\n",
        "  conv2_b   = make_Bais(32*2, 0.1, layer_name)\n",
        "  conv2     = make_Conv_2d(pool1, conv2_W, layer_name) + conv2_b\n",
        "  act_conv2 = tf.nn.relu(conv2)\n",
        "act_conv2"
      ],
      "execution_count": 28,
      "outputs": [
        {
          "output_type": "execute_result",
          "data": {
            "text/plain": [
              "<tf.Tensor 'conv_2f/Relu:0' shape=(?, 14, 14, 64) dtype=float32>"
            ]
          },
          "metadata": {
            "tags": []
          },
          "execution_count": 28
        }
      ]
    },
    {
      "cell_type": "markdown",
      "metadata": {
        "id": "DeUMu6JPpCcT"
      },
      "source": [
        "#### 은닉층 > 풀링층 - 2f"
      ]
    },
    {
      "cell_type": "markdown",
      "metadata": {
        "id": "G3jROEPXKyU9"
      },
      "source": [
        "- 입력 : act_conv2\n",
        "  - shape : (?, 14, 14, 32*2)\n",
        "- 출력 : pool2\n",
        "  - 만약 동일한 커널, 스트라이드, 패딩을 적용하면 shape은 (?, 7, 7, 32*2)\n"
      ]
    },
    {
      "cell_type": "code",
      "metadata": {
        "id": "Z_Mo4CR2LW5m",
        "outputId": "710357ca-8cd7-49a7-b05f-25cd677cca27",
        "colab": {
          "base_uri": "https://localhost:8080/",
          "height": 34
        }
      },
      "source": [
        "layer_name = \"pooling_2f\"\n",
        "with tf.name_scope(layer_name) as scope :\n",
        "  pool2 = make_MaxPooling(act_conv2)\n",
        "pool2"
      ],
      "execution_count": 29,
      "outputs": [
        {
          "output_type": "execute_result",
          "data": {
            "text/plain": [
              "<tf.Tensor 'pooling_2f/MaxPool:0' shape=(?, 7, 7, 64) dtype=float32>"
            ]
          },
          "metadata": {
            "tags": []
          },
          "execution_count": 29
        }
      ]
    },
    {
      "cell_type": "markdown",
      "metadata": {
        "id": "3YYC5WGHpFd8"
      },
      "source": [
        "#### 은닉층 > 전결합층"
      ]
    },
    {
      "cell_type": "markdown",
      "metadata": {
        "id": "CjUCGR6OXvJ3"
      },
      "source": [
        "- 출력층으로 가는 마지막 단계\n",
        "- Flattern 처리를 해서, 2D-Tensor로 수렴(=> 펴준다)\n",
        "- 입력 : pool2(?, 7, 7, 64)\n",
        "- 출력 : fc(FullConnectedLayer)\n",
        "- shape : (?, 1024) => 설정값, 3136개(7x7x64)의 피쳐를 1024개로 수렴\n",
        "\n"
      ]
    },
    {
      "cell_type": "code",
      "metadata": {
        "id": "qePUpl0iKb7N",
        "outputId": "62cc40ea-e7d7-4aeb-df70-4b39a316de01",
        "colab": {
          "base_uri": "https://localhost:8080/",
          "height": 34
        }
      },
      "source": [
        "layer_name = \"fc\"\n",
        "with tf.name_scope(layer_name) as scope :\n",
        "  # pool2의 shape을 구해서 계산(현재는 값을 차용)\n",
        "  in_channels = 7 * 7 * 64\n",
        "  # W\n",
        "  # 1024는 설정값\n",
        "  fc_W = make_WeightFilter([in_channels, 1024], layer_name)\n",
        "  # b\n",
        "  # 브로드캐스팅에 의해서 행렬의 합이 처리된다.\n",
        "  fc_b = make_Bais( 1024, 0.1, layer_name )\n",
        "  # 4D -> 2D\n",
        "  tmp_x = tf.reshape(pool2, [-1, in_channels])\n",
        "  # 식 y = xW + b\n",
        "  # fc의 shape은 (?, 1024)로 나와야함 -> (-1, in_channels) (in_channels) => (?, 1024)\n",
        "  fc = tf.matmul(tmp_x, fc_W) + fc_b\n",
        "  # 활성화 함수\n",
        "  act_fc = tf.nn.relu(fc)\n",
        "act_fc"
      ],
      "execution_count": 30,
      "outputs": [
        {
          "output_type": "execute_result",
          "data": {
            "text/plain": [
              "<tf.Tensor 'fc/Relu:0' shape=(?, 1024) dtype=float32>"
            ]
          },
          "metadata": {
            "tags": []
          },
          "execution_count": 30
        }
      ]
    },
    {
      "cell_type": "markdown",
      "metadata": {
        "id": "EbkBpCzUf_f8"
      },
      "source": [
        "#### 드롭아웃층\n",
        "- 해당 층은 어디서든지 개입이 가능\n",
        "- 과(잉)적합 혹은 overfit 방지\n",
        "- 특정 데이터 모델에 길들여지는, 즉 편향성을 가지는 것을 방지\n",
        "- 입력 \n",
        "  - act_fc\n",
        "  - shape : (?, 1024)\n",
        "- 출력\n",
        "  - fc_dropout\n",
        "  - shape : (?, 1024)"
      ]
    },
    {
      "cell_type": "code",
      "metadata": {
        "id": "Y39NmF_UghPF",
        "outputId": "15059b9d-e4f8-4956-d45b-a9568f5641a5",
        "colab": {
          "base_uri": "https://localhost:8080/",
          "height": 34
        }
      },
      "source": [
        "layer_name = \"fc_dropout\"\n",
        "with tf.name_scope(layer_name) as scope :\n",
        "  # keep_prob : 특정 비율만큼 신경을 죽여서(학습을 방해) 과적합 방지\n",
        "  # keep_prob를 외부에서 입력 받아서 조절한다면? => placeholder\n",
        "  keep_prob = tf.placeholder(tf.float32)\n",
        "  fc_dropout = tf.nn.dropout(act_fc, rate=1-keep_prob)\n",
        "fc_dropout"
      ],
      "execution_count": 31,
      "outputs": [
        {
          "output_type": "execute_result",
          "data": {
            "text/plain": [
              "<tf.Tensor 'fc_dropout/dropout/mul_1:0' shape=(?, 1024) dtype=float32>"
            ]
          },
          "metadata": {
            "tags": []
          },
          "execution_count": 31
        }
      ]
    },
    {
      "cell_type": "markdown",
      "metadata": {
        "id": "xgPIF4_GpHVh"
      },
      "source": [
        "#### 출력층\n"
      ]
    },
    {
      "cell_type": "markdown",
      "metadata": {
        "id": "zBP8sijlhxJd"
      },
      "source": [
        "- 이전 단계의 산출물 (?, 1024)을 최종 레이블(정답)의 shape으로 수렴한다\n",
        "- 입력 \n",
        "  - fc_dropout\n",
        "  - (?, 1024)\n",
        "- 출력\n",
        "  - y_conv\n",
        "  - (?, 10)\n",
        "- 활성화 함수\n",
        "  - softmax() : 확률로 표현\n",
        "    - softmax를 통과한 데이터 1개를 추출해서 그 구성원(10개)을 다 합치면 무조건 1.0\n",
        "    - 그 중에서 가장 확률값이 높은 구성원의 인덱스를 구해서(argmax) 정답표에 대입하여 정답을 구한다."
      ]
    },
    {
      "cell_type": "code",
      "metadata": {
        "id": "kGQGYvNhix9F",
        "outputId": "6583ad5d-0d60-4f01-fb06-9c7b097276aa",
        "colab": {
          "base_uri": "https://localhost:8080/",
          "height": 34
        }
      },
      "source": [
        "layer_name = \"output\"\n",
        "with tf.name_scope(layer_name) as scope :\n",
        "  # x의 shape은 (?, 1024)\n",
        "  # W의 shape은 (1024, 10)\n",
        "  y_W = make_WeightFilter([int(fc_dropout.shape[-1]), LABEL_NUM], layer_name)\n",
        "  y_b = make_Bais(LABEL_NUM, 0.1, layer_name)\n",
        "  # y = x * W + b\n",
        "  y_conv = tf.matmul(fc_dropout, y_W) + y_b\n",
        "  y_conv = tf.nn.softmax(y_conv)\n",
        "y_conv"
      ],
      "execution_count": 32,
      "outputs": [
        {
          "output_type": "execute_result",
          "data": {
            "text/plain": [
              "<tf.Tensor 'output/Softmax:0' shape=(?, 10) dtype=float32>"
            ]
          },
          "metadata": {
            "tags": []
          },
          "execution_count": 32
        }
      ]
    },
    {
      "cell_type": "markdown",
      "metadata": {
        "id": "gkffxfF_llOI"
      },
      "source": [
        "- x -> ... -> y_conv 신경망 연결되었다. 데이터 플로우 그래프가 완성되었다."
      ]
    },
    {
      "cell_type": "markdown",
      "metadata": {
        "id": "mvHvWk0h17Qs"
      },
      "source": [
        "### 학습, 최적화, 평가 등 플로우 구성"
      ]
    },
    {
      "cell_type": "markdown",
      "metadata": {
        "id": "jRL1TFXAoMY7"
      },
      "source": [
        "```\n",
        "학습 관련 플로우\n",
        "- 크로스 엔트로피, 손실함수\n",
        "- 경사하강법, 최적화(나중에 오차역전파도 추가 가능)\n",
        "- 위와 관련된 내용을 연결하여 플로우를 구성 -> train(변수명)이라고 정의한다.\n",
        "```"
      ]
    },
    {
      "cell_type": "markdown",
      "metadata": {
        "id": "LzrNJl5QmAHe"
      },
      "source": [
        "#### 정답 주입 준비\n",
        "- 정답을 외부에서 받을 placeholder 준비\n",
        "- 정답이 있어야 평가가 수행되고, 오차율도 계산됨\n",
        "- 오차율이 있어야 손실함수를 작동할 수 있음\n",
        "- 손실함수가 있어야 최적화가 가능함\n",
        "- 외부에서 정답(훈련 데이터에 대한)을 주입해주어야 함"
      ]
    },
    {
      "cell_type": "code",
      "metadata": {
        "id": "2pA15-fjmWCv",
        "outputId": "5aca0b1b-a03d-4e2b-90a1-f4b7d896ef28",
        "colab": {
          "base_uri": "https://localhost:8080/",
          "height": 34
        }
      },
      "source": [
        "y_ = tf.placeholder(tf.float32, shape=(None, LABEL_NUM), name='y_')\n",
        "y_"
      ],
      "execution_count": 33,
      "outputs": [
        {
          "output_type": "execute_result",
          "data": {
            "text/plain": [
              "<tf.Tensor 'y_:0' shape=(?, 10) dtype=float32>"
            ]
          },
          "metadata": {
            "tags": []
          },
          "execution_count": 33
        }
      ]
    },
    {
      "cell_type": "markdown",
      "metadata": {
        "id": "nM49wcbmm9a4"
      },
      "source": [
        "#### 데이터 정리\n",
        "- 외부에서 주입 받을 데이터 정리\n",
        "- x\n",
        "  - 훈련 데이터\n",
        "- keep_prob\n",
        "  - 과적합 방지를 위한 학습 방해율\n",
        "  - 0.0 ~ 1.0\n",
        "- y_\n",
        "  - 훈련 데이터의 실제 정답"
      ]
    },
    {
      "cell_type": "markdown",
      "metadata": {
        "id": "33ZxmRTWqbHh"
      },
      "source": [
        "#### 손실함수\n",
        "- 성능 평가의 지표로 손실함수를 이용하여 체크를 할 것\n",
        "- 손실함수를 계산하는 방법 중 크로스 엔트로피 사용\n",
        "- <img src=\"https://drive.google.com/uc?id=15V--o0jRDFwjBuaAOoT850e3obm6XY36\" width=\"45%\">\n",
        "\n"
      ]
    },
    {
      "cell_type": "code",
      "metadata": {
        "id": "EBsGfmJxsIxI",
        "outputId": "cfaff603-d706-4771-dc5d-735575550cc8",
        "colab": {
          "base_uri": "https://localhost:8080/",
          "height": 34
        }
      },
      "source": [
        "layer_name = \"loss\"\n",
        "with tf.name_scope(layer_name) as scope :\n",
        "  cross_entropy = -tf.reduce_sum(y_ * tf.log(y_conv))\n",
        "# 1개의 값으로 나온다 -> 이 값이 0에 가까울수록 성능이 향상된다.\n",
        "cross_entropy"
      ],
      "execution_count": 34,
      "outputs": [
        {
          "output_type": "execute_result",
          "data": {
            "text/plain": [
              "<tf.Tensor 'loss/Neg:0' shape=() dtype=float32>"
            ]
          },
          "metadata": {
            "tags": []
          },
          "execution_count": 34
        }
      ]
    },
    {
      "cell_type": "markdown",
      "metadata": {
        "id": "eeak1jwnqeuQ"
      },
      "source": [
        "#### 최적화\n",
        "- 학습계수(W, b) 조정 알고리즘\n",
        "- 알고리즘 : 경사 하강법(SGD), Adam, AdaGrid, FMSProp, Momentum, ...\n",
        "- 목적 : 손실값을 최소로 줄이는 방향으로 값(W, b)을 조정해가면서, 최적화를 수행"
      ]
    },
    {
      "cell_type": "code",
      "metadata": {
        "id": "reQCsYfTtL25",
        "outputId": "d67c9c1b-1384-40fb-fd90-6e0914f4415f",
        "colab": {
          "base_uri": "https://localhost:8080/",
          "height": 34
        }
      },
      "source": [
        "layer_name = \"adam\"\n",
        "with tf.name_scope(layer_name) as scope :\n",
        "  # 최적화 도구 생성\n",
        "  optimizer = tf.train.AdamOptimizer()\n",
        "  # 손실함수를 최소로 나오게끔 조정\n",
        "  train = optimizer.minimize(cross_entropy)\n",
        "train"
      ],
      "execution_count": 35,
      "outputs": [
        {
          "output_type": "execute_result",
          "data": {
            "text/plain": [
              "<tf.Operation 'adam/Adam' type=NoOp>"
            ]
          },
          "metadata": {
            "tags": []
          },
          "execution_count": 35
        }
      ]
    },
    {
      "cell_type": "markdown",
      "metadata": {
        "id": "J8Gvw8_LqlHr"
      },
      "source": [
        "#### 예측 및 평가\n"
      ]
    },
    {
      "cell_type": "code",
      "metadata": {
        "id": "DuLpqCuvuBEi",
        "outputId": "14b61135-5e73-4cfb-c53c-69a0cfbf0361",
        "colab": {
          "base_uri": "https://localhost:8080/",
          "height": 34
        }
      },
      "source": [
        "layer_name = \"predict\"\n",
        "with tf.name_scope(layer_name) as scope :\n",
        "  # 예측 : 같으면 T(1), 틀리면 F(0)\n",
        "  predict = tf.equal(tf.argmax(y_conv, 1), tf.argmax(y_, 1))\n",
        "  # 정확도 = T의 총합(총개수) / 예측의 총개수 * 100\n",
        "  accuracy = tf.reduce_mean(tf.cast(predict, tf.float32))\n",
        "accuracy"
      ],
      "execution_count": 36,
      "outputs": [
        {
          "output_type": "execute_result",
          "data": {
            "text/plain": [
              "<tf.Tensor 'predict/Mean:0' shape=() dtype=float32>"
            ]
          },
          "metadata": {
            "tags": []
          },
          "execution_count": 36
        }
      ]
    },
    {
      "cell_type": "markdown",
      "metadata": {
        "id": "cWFdAtm7k7Pc"
      },
      "source": [
        "## 2부"
      ]
    },
    {
      "cell_type": "markdown",
      "metadata": {
        "id": "jlrgjATFvb-C"
      },
      "source": [
        "```\n",
        "- 학습 수행\n",
        "- 손실함수 획득, 정확도 획득\n",
        "- 학습계수 미세 조정(W, b)\n",
        "- 다시 학습 수행\n",
        "- ...\n",
        "- 특정 학습 수행 횟수가 종료되면 학습 종료\n",
        "```\n",
        "\n"
      ]
    },
    {
      "cell_type": "markdown",
      "metadata": {
        "id": "pL4mJvXllj2L"
      },
      "source": [
        "- 세션 오픈\n",
        "- 데이터 주입\n",
        "- 학습\n",
        "- 예측\n",
        "- 평가"
      ]
    },
    {
      "cell_type": "code",
      "metadata": {
        "id": "mcDHZ2QXz7P8"
      },
      "source": [
        "# 학습 시, 테스트 시 주입할 데이터를 만드는 함수\n",
        "# 작성된 코드 중에 placeholder만 찾아서 만들면 됨 \n",
        "def make_FeedDictParam(featureDatas, labels, prob) :\n",
        "  return {\n",
        "            x         : featureDatas,\n",
        "            keep_prob : prob,\n",
        "            y_        : labels\n",
        "          }"
      ],
      "execution_count": 37,
      "outputs": []
    },
    {
      "cell_type": "code",
      "metadata": {
        "id": "6v-bdT2lRTuz",
        "outputId": "a0f62edb-7065-4637-9371-966fa314a7ec",
        "colab": {
          "base_uri": "https://localhost:8080/",
          "height": 580
        }
      },
      "source": [
        "import time\n",
        "start_time = time.time()\n",
        "# GPU를 이용한 학습\n",
        "with tf.device('/device:GPU:0') :\n",
        "  with tf.Session() as sess :\n",
        "    TRAIN_COUNT = 3000 \n",
        "    BATCH_SIZE = 50\n",
        "    VERBOSE_TERM = 100\n",
        "    sess.run(tf.global_variables_initializer())\n",
        "    test_fd = make_FeedDictParam(mnist.test.images, mnist.test.labels, 1.0)\n",
        "    for step in range(TRAIN_COUNT) :\n",
        "      batch = mnist.train.next_batch(BATCH_SIZE)\n",
        "      train_fd = make_FeedDictParam(batch[0], batch[1], 0.5)\n",
        "      _, loss = sess.run( [train, cross_entropy], feed_dict=train_fd )\n",
        "      if step % VERBOSE_TERM == 0 :\n",
        "        acc = sess.run(accuracy, feed_dict=test_fd)\n",
        "        print(f'step={step:<4} acc={acc:<20}  loss={loss:<20}')\n",
        "    acc = sess.run(accuracy, feed_dict=test_fd)\n",
        "    print(f'step={step:<4} acc={acc:<20}  loss={loss:<20}')\n",
        "train_time = time.time() - start_time\n",
        "print(train_time, train_time/60)"
      ],
      "execution_count": 39,
      "outputs": [
        {
          "output_type": "stream",
          "text": [
            "step=0    acc=0.11999999731779099   loss=602.212158203125    \n",
            "step=100  acc=0.944599986076355     loss=22.799528121948242  \n",
            "step=200  acc=0.9666000008583069    loss=13.022672653198242  \n",
            "step=300  acc=0.9725000262260437    loss=6.609230041503906   \n",
            "step=400  acc=0.9703999757766724    loss=5.9001007080078125  \n",
            "step=500  acc=0.9785000085830688    loss=1.076359748840332   \n",
            "step=600  acc=0.9768999814987183    loss=5.405210971832275   \n",
            "step=700  acc=0.9832000136375427    loss=2.505998373031616   \n",
            "step=800  acc=0.9828000068664551    loss=8.466532707214355   \n",
            "step=900  acc=0.9847999811172485    loss=1.4128525257110596  \n",
            "step=1000 acc=0.9822999835014343    loss=2.017906427383423   \n",
            "step=1100 acc=0.9861000180244446    loss=2.5699799060821533  \n",
            "step=1200 acc=0.9857000112533569    loss=1.6150063276290894  \n",
            "step=1300 acc=0.984000027179718     loss=13.149178504943848  \n",
            "step=1400 acc=0.9860000014305115    loss=10.580198287963867  \n",
            "step=1500 acc=0.9869999885559082    loss=1.2430216073989868  \n",
            "step=1600 acc=0.9860000014305115    loss=3.061756134033203   \n",
            "step=1700 acc=0.9840999841690063    loss=1.6125359535217285  \n",
            "step=1800 acc=0.9882000088691711    loss=0.4767715036869049  \n",
            "step=1900 acc=0.9876000285148621    loss=0.1916518211364746  \n",
            "step=2000 acc=0.9879000186920166    loss=7.721789836883545   \n",
            "step=2100 acc=0.9876000285148621    loss=2.383356809616089   \n",
            "step=2200 acc=0.9890000224113464    loss=0.5053142309188843  \n",
            "step=2300 acc=0.9891999959945679    loss=0.34993356466293335 \n",
            "step=2400 acc=0.9884999990463257    loss=0.03867267817258835 \n",
            "step=2500 acc=0.9876000285148621    loss=1.9011597633361816  \n",
            "step=2600 acc=0.9901000261306763    loss=4.801263809204102   \n",
            "step=2700 acc=0.9900000095367432    loss=1.1165369749069214  \n",
            "step=2800 acc=0.9894999861717224    loss=0.30791616439819336 \n",
            "step=2900 acc=0.9901999831199646    loss=0.42598047852516174 \n",
            "step=2999 acc=0.989300012588501     loss=0.17186619341373444 \n",
            "28.465795278549194 0.47442992130915324\n"
          ],
          "name": "stdout"
        }
      ]
    },
    {
      "cell_type": "markdown",
      "metadata": {
        "id": "FZRVBRc_Sdox"
      },
      "source": [
        "- CPU : 680s\n",
        "- GPU : 25s"
      ]
    },
    {
      "cell_type": "code",
      "metadata": {
        "id": "0lMKmhuVRjaz"
      },
      "source": [
        "aa # 연속 실행 시 강제로 오류 발생"
      ],
      "execution_count": null,
      "outputs": []
    },
    {
      "cell_type": "code",
      "metadata": {
        "id": "m2rtuN2Sv76D",
        "outputId": "c247cb3e-bb3e-4a57-c1de-c39f9b299682",
        "colab": {
          "base_uri": "https://localhost:8080/",
          "height": 580
        }
      },
      "source": [
        "# 학습\n",
        "# 1. 시간 측정 => GPU 사용 대비 시간이 얼마나 단축됐는지 체크\n",
        "import time\n",
        "# 시작 시간\n",
        "start_time = time.time()\n",
        "# -------------------------------------------------------------------------------------------------------------------------------------\n",
        "# CPU로 학습 시\n",
        "with tf.Session() as sess :\n",
        "  # 훈련에 대한 환경 변수 설정\n",
        "  TRAIN_COUNT = 3000    # 총 훈련 횟수 -> 설정값, epoch 개념 미적용\n",
        "  BATCH_SIZE = 50       # 1회 학습 시 50개의 이미지를 사용하겠다. 구해서 사용,\n",
        "  VERBOSE_TERM = 100    # 100번째 될 때마다 로그를 출력, 손실값과 정확도를 체크\n",
        "  # 텐서플로우 전역변수 초기화\n",
        "  sess.run(tf.global_variables_initializer())\n",
        "  # 테스트 데이터 준비\n",
        "  test_fd = make_FeedDictParam(mnist.test.images, mnist.test.labels, 1.0)\n",
        "\n",
        "  # 훈련 진행\n",
        "  for step in range(TRAIN_COUNT) :\n",
        "    # 훈련 데이터 중에서 50개를 추출(섞여있는 데이터 중에서)\n",
        "    batch = mnist.train.next_batch(BATCH_SIZE)\n",
        "    # 훈련 데이터, 학습방해율, 정답 등을 주입해야 한다 ->>\n",
        "    '''\n",
        "    feed_dict = {\n",
        "                  x         : 값,\n",
        "                  keep_prob : 값.\n",
        "                  y_        : 값\n",
        "                }\n",
        "    '''\n",
        "    # 훈련 데이터 준비\n",
        "    train_fd = make_FeedDictParam(batch[0], batch[1], 0.5)\n",
        "    # 훈련\n",
        "    # sess.run에서 구동 및 값 확인 등을 동시에 하고 싶으면 [ ... ]\n",
        "    # 묶어진 개수만큼 리턴된다.\n",
        "    # _는 훈련 히스토리(여기서는 미사용), loss는 손실값\n",
        "    _, loss = sess.run( [train, cross_entropy], feed_dict=train_fd )\n",
        "\n",
        "    if step % VERBOSE_TERM == 0 : # 0, 100, 200, ..., 2900번까지 로그 출력\n",
        "      # 테스트 데이터 주입\n",
        "      # 현재까지 학습된 신경망의 성능 확인 차원\n",
        "      acc = sess.run(accuracy, feed_dict=test_fd)\n",
        "      print(f'step={step:<4} acc={acc:<20}  loss={loss:<20}')\n",
        "\n",
        "  # 최종 결과 출력 : 3000번째 수행 후 결과, step => 2999번째 결과\n",
        "  acc = sess.run(accuracy, feed_dict=test_fd)\n",
        "  print(f'step={step:<4} acc={acc:<20}  loss={loss:<20}')\n",
        "# -------------------------------------------------------------------------------------------------------------------------------------\n",
        "# 종료 시간\n",
        "train_time = time.time() - start_time\n",
        "print(train_time, train_time/60)"
      ],
      "execution_count": 38,
      "outputs": [
        {
          "output_type": "stream",
          "text": [
            "step=0    acc=0.0957999974489212    loss=548.06689453125     \n",
            "step=100  acc=0.9280999898910522    loss=6.455033779144287   \n",
            "step=200  acc=0.958899974822998     loss=8.514816284179688   \n",
            "step=300  acc=0.968500018119812     loss=5.752262115478516   \n",
            "step=400  acc=0.970300018787384     loss=3.6927642822265625  \n",
            "step=500  acc=0.9725000262260437    loss=2.034402847290039   \n",
            "step=600  acc=0.977400004863739     loss=4.816029071807861   \n",
            "step=700  acc=0.9772999882698059    loss=4.257491588592529   \n",
            "step=800  acc=0.9796000123023987    loss=7.876420021057129   \n",
            "step=900  acc=0.9814000129699707    loss=2.494460105895996   \n",
            "step=1000 acc=0.9819999933242798    loss=3.27236270904541    \n",
            "step=1100 acc=0.9847000241279602    loss=3.173518419265747   \n",
            "step=1200 acc=0.982200026512146     loss=0.3545752167701721  \n",
            "step=1300 acc=0.9835000038146973    loss=4.413032054901123   \n",
            "step=1400 acc=0.9851999878883362    loss=1.4965513944625854  \n",
            "step=1500 acc=0.9832000136375427    loss=6.830545902252197   \n",
            "step=1600 acc=0.9869999885559082    loss=3.1001696586608887  \n",
            "step=1700 acc=0.9850999712944031    loss=2.1073732376098633  \n",
            "step=1800 acc=0.9854000210762024    loss=0.5778828859329224  \n",
            "step=1900 acc=0.9878000020980835    loss=2.7829387187957764  \n",
            "step=2000 acc=0.9876000285148621    loss=4.451970100402832   \n",
            "step=2100 acc=0.9868000149726868    loss=2.5937952995300293  \n",
            "step=2200 acc=0.9873999953269958    loss=0.9487707614898682  \n",
            "step=2300 acc=0.989300012588501     loss=11.338282585144043  \n",
            "step=2400 acc=0.9878000020980835    loss=0.27059638500213623 \n",
            "step=2500 acc=0.988099992275238     loss=0.6912615299224854  \n",
            "step=2600 acc=0.987500011920929     loss=2.1260011196136475  \n",
            "step=2700 acc=0.9882000088691711    loss=4.411902904510498   \n",
            "step=2800 acc=0.9883000254631042    loss=0.27417540550231934 \n",
            "step=2900 acc=0.9857000112533569    loss=2.8795790672302246  \n",
            "step=2999 acc=0.9868999719619751    loss=2.859668016433716   \n",
            "649.045068025589 10.817417800426483\n"
          ],
          "name": "stdout"
        }
      ]
    },
    {
      "cell_type": "markdown",
      "metadata": {
        "id": "bKtX8cBwaabI"
      },
      "source": [
        "# 시스템 통합(구현)"
      ]
    }
  ]
}