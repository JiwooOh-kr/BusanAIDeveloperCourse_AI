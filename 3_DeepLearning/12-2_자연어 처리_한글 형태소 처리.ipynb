{
  "nbformat": 4,
  "nbformat_minor": 0,
  "metadata": {
    "colab": {
      "name": "12-2_자연어 처리_한글 형태소 처리.ipynb",
      "provenance": [],
      "collapsed_sections": [
        "G7wJN6GcyDoV",
        "oE83z6bjzg21",
        "6M-HVfIUzSlg",
        "9g39fRc6zSoV",
        "XU0c39OB2Z4O",
        "xIwB0U0dzSq2",
        "vMzQ338KzStV",
        "x0-5vW2SqVCM",
        "xiJt40tBTISY",
        "zhwiOiMtgKCs",
        "XKOcxECDbbQW",
        "L_9O0SNNrAoy"
      ],
      "toc_visible": true,
      "include_colab_link": true
    },
    "kernelspec": {
      "name": "python3",
      "display_name": "Python 3"
    }
  },
  "cells": [
    {
      "cell_type": "markdown",
      "metadata": {
        "id": "view-in-github",
        "colab_type": "text"
      },
      "source": [
        "<a href=\"https://colab.research.google.com/github/jkjh23/BusanAIDeveloperCourse_AI/blob/master/3_DeepLearning/12-2_%EC%9E%90%EC%97%B0%EC%96%B4%20%EC%B2%98%EB%A6%AC_%ED%95%9C%EA%B8%80%20%ED%98%95%ED%83%9C%EC%86%8C%20%EC%B2%98%EB%A6%AC.ipynb\" target=\"_parent\"><img src=\"https://colab.research.google.com/assets/colab-badge.svg\" alt=\"Open In Colab\"/></a>"
      ]
    },
    {
      "cell_type": "markdown",
      "metadata": {
        "id": "G7wJN6GcyDoV"
      },
      "source": [
        "# 절차"
      ]
    },
    {
      "cell_type": "markdown",
      "metadata": {
        "id": "LVaUIM75yJJE"
      },
      "source": [
        "- 데이터 수집(코퍼스 수집, 말뭉치 수집)\n",
        "- 텍스트 정제(정규식 적용)\n",
        "- 분절(형태소 분석기 작동)\n",
        "- 사전 생성(단어장 생성)\n",
        "- 단어 임베딩(텍스트의 수치화)"
      ]
    },
    {
      "cell_type": "markdown",
      "metadata": {
        "id": "oE83z6bjzg21"
      },
      "source": [
        "# 코퍼스(말뭉치) 수집\n",
        "\n",
        "- test.txt 파일 제공\n",
        "- 종류\n",
        "  - 한 개의 언어로만 구성된 데이터 : 단일 언어 코퍼스\n",
        "    - test.txt\n",
        "  - 2개 언어로 구성된 데이터      : 이중 언어 코퍼스\n",
        "  - 2개 이상 언어로 구성된 데이터  : 다중 언어 코퍼스\n",
        "  - 병렬 언어 코퍼스(여러 개의 언어가 쌍으로 구성된 경우)"
      ]
    },
    {
      "cell_type": "markdown",
      "metadata": {
        "id": "6M-HVfIUzSlg"
      },
      "source": [
        "# 정제\n",
        "- 전각 문자(특수문자 등) 제거\n",
        "- 영어 대소문자 -> 소문자로 통일\n",
        "- 정규식 처리 정제과정 진행"
      ]
    },
    {
      "cell_type": "markdown",
      "metadata": {
        "id": "9g39fRc6zSoV"
      },
      "source": [
        "# 분절 (형태소 분석기 작동)\n",
        "- 분절을 수행하기 위해서는 형태소 분석기 설치가 필요\n",
        "- 리눅스 환경에서 설치 (윈도우 환경에서 설치는 아주 까다롭다!(순서중요))\n",
        "  - 코랩에서 수행시, 런타임 종료되면 모두 삭제된다 -> 다시 설치가 필요\n",
        "- 영어권\n",
        "  - nltk\n",
        "- 한국어\n",
        "  - koNlpy + 분석기(mecab)"
      ]
    },
    {
      "cell_type": "code",
      "metadata": {
        "id": "ahy_VTL71H9Q"
      },
      "source": [
        "import nltk\n",
        "# 한글에서 100% 성능을 못 낸다(한글에 적합하지 않다)는 의미이지 안된다는 뜻은 아님"
      ],
      "execution_count": null,
      "outputs": []
    },
    {
      "cell_type": "code",
      "metadata": {
        "id": "4uQUB8S31YGW",
        "outputId": "6efa1fe6-f3cb-4729-80c1-34f2a63a42d2",
        "colab": {
          "base_uri": "https://localhost:8080/",
          "height": 625
        }
      },
      "source": [
        "# konlpy 설치\n",
        "!pip install konlpy"
      ],
      "execution_count": null,
      "outputs": [
        {
          "output_type": "stream",
          "text": [
            "Collecting konlpy\n",
            "\u001b[?25l  Downloading https://files.pythonhosted.org/packages/85/0e/f385566fec837c0b83f216b2da65db9997b35dd675e107752005b7d392b1/konlpy-0.5.2-py2.py3-none-any.whl (19.4MB)\n",
            "\u001b[K     |████████████████████████████████| 19.4MB 1.4MB/s \n",
            "\u001b[?25hCollecting colorama\n",
            "  Downloading https://files.pythonhosted.org/packages/c9/dc/45cdef1b4d119eb96316b3117e6d5708a08029992b2fee2c143c7a0a5cc5/colorama-0.4.3-py2.py3-none-any.whl\n",
            "Requirement already satisfied: lxml>=4.1.0 in /usr/local/lib/python3.6/dist-packages (from konlpy) (4.2.6)\n",
            "Requirement already satisfied: numpy>=1.6 in /usr/local/lib/python3.6/dist-packages (from konlpy) (1.18.5)\n",
            "Collecting JPype1>=0.7.0\n",
            "\u001b[?25l  Downloading https://files.pythonhosted.org/packages/8b/f7/a368401e630f0e390dd0e62c39fb928e5b23741b53c2360ee7d376660927/JPype1-1.0.2-cp36-cp36m-manylinux2010_x86_64.whl (3.8MB)\n",
            "\u001b[K     |████████████████████████████████| 3.8MB 44.8MB/s \n",
            "\u001b[?25hCollecting beautifulsoup4==4.6.0\n",
            "\u001b[?25l  Downloading https://files.pythonhosted.org/packages/9e/d4/10f46e5cfac773e22707237bfcd51bbffeaf0a576b0a847ec7ab15bd7ace/beautifulsoup4-4.6.0-py3-none-any.whl (86kB)\n",
            "\u001b[K     |████████████████████████████████| 92kB 9.6MB/s \n",
            "\u001b[?25hCollecting tweepy>=3.7.0\n",
            "  Downloading https://files.pythonhosted.org/packages/bb/7c/99d51f80f3b77b107ebae2634108717362c059a41384a1810d13e2429a81/tweepy-3.9.0-py2.py3-none-any.whl\n",
            "Requirement already satisfied: typing-extensions; python_version < \"3.8\" in /usr/local/lib/python3.6/dist-packages (from JPype1>=0.7.0->konlpy) (3.7.4.3)\n",
            "Requirement already satisfied: requests[socks]>=2.11.1 in /usr/local/lib/python3.6/dist-packages (from tweepy>=3.7.0->konlpy) (2.23.0)\n",
            "Requirement already satisfied: six>=1.10.0 in /usr/local/lib/python3.6/dist-packages (from tweepy>=3.7.0->konlpy) (1.15.0)\n",
            "Requirement already satisfied: requests-oauthlib>=0.7.0 in /usr/local/lib/python3.6/dist-packages (from tweepy>=3.7.0->konlpy) (1.3.0)\n",
            "Requirement already satisfied: chardet<4,>=3.0.2 in /usr/local/lib/python3.6/dist-packages (from requests[socks]>=2.11.1->tweepy>=3.7.0->konlpy) (3.0.4)\n",
            "Requirement already satisfied: urllib3!=1.25.0,!=1.25.1,<1.26,>=1.21.1 in /usr/local/lib/python3.6/dist-packages (from requests[socks]>=2.11.1->tweepy>=3.7.0->konlpy) (1.24.3)\n",
            "Requirement already satisfied: certifi>=2017.4.17 in /usr/local/lib/python3.6/dist-packages (from requests[socks]>=2.11.1->tweepy>=3.7.0->konlpy) (2020.6.20)\n",
            "Requirement already satisfied: idna<3,>=2.5 in /usr/local/lib/python3.6/dist-packages (from requests[socks]>=2.11.1->tweepy>=3.7.0->konlpy) (2.10)\n",
            "Requirement already satisfied: PySocks!=1.5.7,>=1.5.6; extra == \"socks\" in /usr/local/lib/python3.6/dist-packages (from requests[socks]>=2.11.1->tweepy>=3.7.0->konlpy) (1.7.1)\n",
            "Requirement already satisfied: oauthlib>=3.0.0 in /usr/local/lib/python3.6/dist-packages (from requests-oauthlib>=0.7.0->tweepy>=3.7.0->konlpy) (3.1.0)\n",
            "Installing collected packages: colorama, JPype1, beautifulsoup4, tweepy, konlpy\n",
            "  Found existing installation: beautifulsoup4 4.6.3\n",
            "    Uninstalling beautifulsoup4-4.6.3:\n",
            "      Successfully uninstalled beautifulsoup4-4.6.3\n",
            "  Found existing installation: tweepy 3.6.0\n",
            "    Uninstalling tweepy-3.6.0:\n",
            "      Successfully uninstalled tweepy-3.6.0\n",
            "Successfully installed JPype1-1.0.2 beautifulsoup4-4.6.0 colorama-0.4.3 konlpy-0.5.2 tweepy-3.9.0\n"
          ],
          "name": "stdout"
        }
      ]
    },
    {
      "cell_type": "code",
      "metadata": {
        "id": "flnsU5Bn1NfW",
        "outputId": "967b0d9f-2a96-4e81-91da-501a412213e6",
        "colab": {
          "base_uri": "https://localhost:8080/",
          "height": 90
        }
      },
      "source": [
        "'''\n",
        "# jdk 설치\n",
        "!apt-get install openjdk-8-jdk-headless -qq > /dev/null\n",
        "!pip3 install JPype1-py3\n",
        "'''\n",
        "!java -version"
      ],
      "execution_count": null,
      "outputs": [
        {
          "output_type": "stream",
          "text": [
            "openjdk version \"11.0.8\" 2020-07-14\n",
            "OpenJDK Runtime Environment (build 11.0.8+10-post-Ubuntu-0ubuntu118.04.1)\n",
            "OpenJDK 64-Bit Server VM (build 11.0.8+10-post-Ubuntu-0ubuntu118.04.1, mixed mode, sharing)\n"
          ],
          "name": "stdout"
        }
      ]
    },
    {
      "cell_type": "code",
      "metadata": {
        "id": "z8nbW00Y1Nh9",
        "outputId": "d2acfa6d-1c13-439f-ef50-b9abf0b9acd0",
        "colab": {
          "base_uri": "https://localhost:8080/",
          "height": 1000
        }
      },
      "source": [
        "'''\n",
        "셀스크립트로 설치하는 방법\n",
        "! bash <(curl -s https://.../mecab.sh)\n",
        "'''\n",
        "! bash <(curl -s https://raw.githubusercontent.com/konlpy/konlpy/master/scripts/mecab.sh)"
      ],
      "execution_count": null,
      "outputs": [
        {
          "output_type": "stream",
          "text": [
            "Installing automake (A dependency for mecab-ko)\n",
            "Get:1 https://cloud.r-project.org/bin/linux/ubuntu bionic-cran35/ InRelease [3,626 B]\n",
            "Hit:2 http://ppa.launchpad.net/graphics-drivers/ppa/ubuntu bionic InRelease\n",
            "Get:3 http://security.ubuntu.com/ubuntu bionic-security InRelease [88.7 kB]\n",
            "Hit:4 http://archive.ubuntu.com/ubuntu bionic InRelease\n",
            "Ign:5 https://developer.download.nvidia.com/compute/cuda/repos/ubuntu1804/x86_64  InRelease\n",
            "Get:6 http://archive.ubuntu.com/ubuntu bionic-updates InRelease [88.7 kB]\n",
            "Ign:7 https://developer.download.nvidia.com/compute/machine-learning/repos/ubuntu1804/x86_64  InRelease\n",
            "Hit:8 https://developer.download.nvidia.com/compute/cuda/repos/ubuntu1804/x86_64  Release\n",
            "Hit:9 https://developer.download.nvidia.com/compute/machine-learning/repos/ubuntu1804/x86_64  Release\n",
            "Get:10 http://ppa.launchpad.net/marutter/c2d4u3.5/ubuntu bionic InRelease [15.4 kB]\n",
            "Get:13 http://security.ubuntu.com/ubuntu bionic-security/restricted amd64 Packages [126 kB]\n",
            "Get:14 http://archive.ubuntu.com/ubuntu bionic-backports InRelease [74.6 kB]\n",
            "Get:15 http://ppa.launchpad.net/marutter/c2d4u3.5/ubuntu bionic/main Sources [1,876 kB]\n",
            "Get:16 http://archive.ubuntu.com/ubuntu bionic-updates/multiverse amd64 Packages [34.0 kB]\n",
            "Get:17 http://archive.ubuntu.com/ubuntu bionic-updates/restricted amd64 Packages [146 kB]\n",
            "Get:18 http://security.ubuntu.com/ubuntu bionic-security/main amd64 Packages [1,113 kB]\n",
            "Get:19 http://archive.ubuntu.com/ubuntu bionic-updates/universe amd64 Packages [1,435 kB]\n",
            "Get:20 http://security.ubuntu.com/ubuntu bionic-security/universe amd64 Packages [905 kB]\n",
            "Get:21 http://archive.ubuntu.com/ubuntu bionic-updates/main amd64 Packages [1,404 kB]\n",
            "Get:22 http://ppa.launchpad.net/marutter/c2d4u3.5/ubuntu bionic/main amd64 Packages [906 kB]\n",
            "Fetched 8,216 kB in 5s (1,548 kB/s)\n",
            "Reading package lists... Done\n",
            "Reading package lists... Done\n",
            "Building dependency tree       \n",
            "Reading state information... Done\n",
            "The following additional packages will be installed:\n",
            "  autoconf autotools-dev libsigsegv2 m4\n",
            "Suggested packages:\n",
            "  autoconf-archive gnu-standards autoconf-doc libtool gettext m4-doc\n",
            "The following NEW packages will be installed:\n",
            "  autoconf automake autotools-dev libsigsegv2 m4\n",
            "0 upgraded, 5 newly installed, 0 to remove and 44 not upgraded.\n",
            "Need to get 1,082 kB of archives.\n",
            "After this operation, 3,994 kB of additional disk space will be used.\n",
            "Get:1 http://archive.ubuntu.com/ubuntu bionic/main amd64 libsigsegv2 amd64 2.12-1 [14.7 kB]\n",
            "Get:2 http://archive.ubuntu.com/ubuntu bionic/main amd64 m4 amd64 1.4.18-1 [197 kB]\n",
            "Get:3 http://archive.ubuntu.com/ubuntu bionic/main amd64 autoconf all 2.69-11 [322 kB]\n",
            "Get:4 http://archive.ubuntu.com/ubuntu bionic/main amd64 autotools-dev all 20180224.1 [39.6 kB]\n",
            "Get:5 http://archive.ubuntu.com/ubuntu bionic/main amd64 automake all 1:1.15.1-3ubuntu2 [509 kB]\n",
            "Fetched 1,082 kB in 2s (453 kB/s)\n",
            "debconf: unable to initialize frontend: Dialog\n",
            "debconf: (No usable dialog-like program is installed, so the dialog based frontend cannot be used. at /usr/share/perl5/Debconf/FrontEnd/Dialog.pm line 76, <> line 5.)\n",
            "debconf: falling back to frontend: Readline\n",
            "debconf: unable to initialize frontend: Readline\n",
            "debconf: (This frontend requires a controlling tty.)\n",
            "debconf: falling back to frontend: Teletype\n",
            "dpkg-preconfigure: unable to re-open stdin: \n",
            "Selecting previously unselected package libsigsegv2:amd64.\n",
            "(Reading database ... 144676 files and directories currently installed.)\n",
            "Preparing to unpack .../libsigsegv2_2.12-1_amd64.deb ...\n",
            "Unpacking libsigsegv2:amd64 (2.12-1) ...\n",
            "Selecting previously unselected package m4.\n",
            "Preparing to unpack .../archives/m4_1.4.18-1_amd64.deb ...\n",
            "Unpacking m4 (1.4.18-1) ...\n",
            "Selecting previously unselected package autoconf.\n",
            "Preparing to unpack .../autoconf_2.69-11_all.deb ...\n",
            "Unpacking autoconf (2.69-11) ...\n",
            "Selecting previously unselected package autotools-dev.\n",
            "Preparing to unpack .../autotools-dev_20180224.1_all.deb ...\n",
            "Unpacking autotools-dev (20180224.1) ...\n",
            "Selecting previously unselected package automake.\n",
            "Preparing to unpack .../automake_1%3a1.15.1-3ubuntu2_all.deb ...\n",
            "Unpacking automake (1:1.15.1-3ubuntu2) ...\n",
            "Setting up libsigsegv2:amd64 (2.12-1) ...\n",
            "Setting up m4 (1.4.18-1) ...\n",
            "Setting up autotools-dev (20180224.1) ...\n",
            "Setting up autoconf (2.69-11) ...\n",
            "Setting up automake (1:1.15.1-3ubuntu2) ...\n",
            "update-alternatives: using /usr/bin/automake-1.15 to provide /usr/bin/automake (automake) in auto mode\n",
            "Processing triggers for libc-bin (2.27-3ubuntu1.2) ...\n",
            "/sbin/ldconfig.real: /usr/local/lib/python3.6/dist-packages/ideep4py/lib/libmkldnn.so.0 is not a symbolic link\n",
            "\n",
            "Processing triggers for man-db (2.8.3-2ubuntu0.1) ...\n",
            "Install mecab-ko-dic\n",
            "  % Total    % Received % Xferd  Average Speed   Time    Time     Time  Current\n",
            "                                 Dload  Upload   Total   Spent    Left  Speed\n",
            "  0     0    0     0    0     0      0      0 --:--:-- --:--:-- --:--:--     0\n",
            "100 1381k  100 1381k    0     0   506k      0  0:00:02  0:00:02 --:--:--  890k\n",
            "mecab-0.996-ko-0.9.2/\n",
            "mecab-0.996-ko-0.9.2/example/\n",
            "mecab-0.996-ko-0.9.2/example/example.cpp\n",
            "mecab-0.996-ko-0.9.2/example/example_lattice.cpp\n",
            "mecab-0.996-ko-0.9.2/example/example_lattice.c\n",
            "mecab-0.996-ko-0.9.2/example/example.c\n",
            "mecab-0.996-ko-0.9.2/example/thread_test.cpp\n",
            "mecab-0.996-ko-0.9.2/mecab-config.in\n",
            "mecab-0.996-ko-0.9.2/man/\n",
            "mecab-0.996-ko-0.9.2/man/Makefile.am\n",
            "mecab-0.996-ko-0.9.2/man/mecab.1\n",
            "mecab-0.996-ko-0.9.2/man/Makefile.in\n",
            "mecab-0.996-ko-0.9.2/mecab.iss.in\n",
            "mecab-0.996-ko-0.9.2/config.guess\n",
            "mecab-0.996-ko-0.9.2/README\n",
            "mecab-0.996-ko-0.9.2/COPYING\n",
            "mecab-0.996-ko-0.9.2/CHANGES.md\n",
            "mecab-0.996-ko-0.9.2/README.md\n",
            "mecab-0.996-ko-0.9.2/INSTALL\n",
            "mecab-0.996-ko-0.9.2/config.sub\n",
            "mecab-0.996-ko-0.9.2/configure.in\n",
            "mecab-0.996-ko-0.9.2/swig/\n",
            "mecab-0.996-ko-0.9.2/swig/Makefile\n",
            "mecab-0.996-ko-0.9.2/swig/version.h.in\n",
            "mecab-0.996-ko-0.9.2/swig/version.h\n",
            "mecab-0.996-ko-0.9.2/swig/MeCab.i\n",
            "mecab-0.996-ko-0.9.2/aclocal.m4\n",
            "mecab-0.996-ko-0.9.2/LGPL\n",
            "mecab-0.996-ko-0.9.2/Makefile.am\n",
            "mecab-0.996-ko-0.9.2/configure\n",
            "mecab-0.996-ko-0.9.2/tests/\n",
            "mecab-0.996-ko-0.9.2/tests/autolink/\n",
            "mecab-0.996-ko-0.9.2/tests/autolink/unk.def\n",
            "mecab-0.996-ko-0.9.2/tests/autolink/dicrc\n",
            "mecab-0.996-ko-0.9.2/tests/autolink/dic.csv\n",
            "mecab-0.996-ko-0.9.2/tests/autolink/test\n",
            "mecab-0.996-ko-0.9.2/tests/autolink/char.def\n",
            "mecab-0.996-ko-0.9.2/tests/autolink/matrix.def\n",
            "mecab-0.996-ko-0.9.2/tests/autolink/test.gld\n",
            "mecab-0.996-ko-0.9.2/tests/t9/\n",
            "mecab-0.996-ko-0.9.2/tests/t9/unk.def\n",
            "mecab-0.996-ko-0.9.2/tests/t9/ipadic.pl\n",
            "mecab-0.996-ko-0.9.2/tests/t9/dicrc\n",
            "mecab-0.996-ko-0.9.2/tests/t9/dic.csv\n",
            "mecab-0.996-ko-0.9.2/tests/t9/test\n",
            "mecab-0.996-ko-0.9.2/tests/t9/char.def\n",
            "mecab-0.996-ko-0.9.2/tests/t9/matrix.def\n",
            "mecab-0.996-ko-0.9.2/tests/t9/mkdic.pl\n",
            "mecab-0.996-ko-0.9.2/tests/t9/test.gld\n",
            "mecab-0.996-ko-0.9.2/tests/cost-train/\n",
            "mecab-0.996-ko-0.9.2/tests/cost-train/ipa.train\n",
            "mecab-0.996-ko-0.9.2/tests/cost-train/ipa.test\n",
            "mecab-0.996-ko-0.9.2/tests/cost-train/seed/\n",
            "mecab-0.996-ko-0.9.2/tests/cost-train/seed/rewrite.def\n",
            "mecab-0.996-ko-0.9.2/tests/cost-train/seed/feature.def\n",
            "mecab-0.996-ko-0.9.2/tests/cost-train/seed/unk.def\n",
            "mecab-0.996-ko-0.9.2/tests/cost-train/seed/dicrc\n",
            "mecab-0.996-ko-0.9.2/tests/cost-train/seed/dic.csv\n",
            "mecab-0.996-ko-0.9.2/tests/cost-train/seed/char.def\n",
            "mecab-0.996-ko-0.9.2/tests/cost-train/seed/matrix.def\n",
            "mecab-0.996-ko-0.9.2/tests/run-eval.sh\n",
            "mecab-0.996-ko-0.9.2/tests/run-cost-train.sh\n",
            "mecab-0.996-ko-0.9.2/tests/Makefile.am\n",
            "mecab-0.996-ko-0.9.2/tests/katakana/\n",
            "mecab-0.996-ko-0.9.2/tests/katakana/unk.def\n",
            "mecab-0.996-ko-0.9.2/tests/katakana/dicrc\n",
            "mecab-0.996-ko-0.9.2/tests/katakana/dic.csv\n",
            "mecab-0.996-ko-0.9.2/tests/katakana/test\n",
            "mecab-0.996-ko-0.9.2/tests/katakana/char.def\n",
            "mecab-0.996-ko-0.9.2/tests/katakana/matrix.def\n",
            "mecab-0.996-ko-0.9.2/tests/katakana/test.gld\n",
            "mecab-0.996-ko-0.9.2/tests/eval/\n",
            "mecab-0.996-ko-0.9.2/tests/eval/answer\n",
            "mecab-0.996-ko-0.9.2/tests/eval/system\n",
            "mecab-0.996-ko-0.9.2/tests/eval/test.gld\n",
            "mecab-0.996-ko-0.9.2/tests/shiin/\n",
            "mecab-0.996-ko-0.9.2/tests/shiin/unk.def\n",
            "mecab-0.996-ko-0.9.2/tests/shiin/dicrc\n",
            "mecab-0.996-ko-0.9.2/tests/shiin/dic.csv\n",
            "mecab-0.996-ko-0.9.2/tests/shiin/test\n",
            "mecab-0.996-ko-0.9.2/tests/shiin/char.def\n",
            "mecab-0.996-ko-0.9.2/tests/shiin/matrix.def\n",
            "mecab-0.996-ko-0.9.2/tests/shiin/mkdic.pl\n",
            "mecab-0.996-ko-0.9.2/tests/shiin/test.gld\n",
            "mecab-0.996-ko-0.9.2/tests/latin/\n",
            "mecab-0.996-ko-0.9.2/tests/latin/unk.def\n",
            "mecab-0.996-ko-0.9.2/tests/latin/dicrc\n",
            "mecab-0.996-ko-0.9.2/tests/latin/dic.csv\n",
            "mecab-0.996-ko-0.9.2/tests/latin/test\n",
            "mecab-0.996-ko-0.9.2/tests/latin/char.def\n",
            "mecab-0.996-ko-0.9.2/tests/latin/matrix.def\n",
            "mecab-0.996-ko-0.9.2/tests/latin/test.gld\n",
            "mecab-0.996-ko-0.9.2/tests/chartype/\n",
            "mecab-0.996-ko-0.9.2/tests/chartype/unk.def\n",
            "mecab-0.996-ko-0.9.2/tests/chartype/dicrc\n",
            "mecab-0.996-ko-0.9.2/tests/chartype/dic.csv\n",
            "mecab-0.996-ko-0.9.2/tests/chartype/test\n",
            "mecab-0.996-ko-0.9.2/tests/chartype/char.def\n",
            "mecab-0.996-ko-0.9.2/tests/chartype/matrix.def\n",
            "mecab-0.996-ko-0.9.2/tests/chartype/test.gld\n",
            "mecab-0.996-ko-0.9.2/tests/run-dics.sh\n",
            "mecab-0.996-ko-0.9.2/tests/ngram/\n",
            "mecab-0.996-ko-0.9.2/tests/ngram/unk.def\n",
            "mecab-0.996-ko-0.9.2/tests/ngram/dicrc\n",
            "mecab-0.996-ko-0.9.2/tests/ngram/dic.csv\n",
            "mecab-0.996-ko-0.9.2/tests/ngram/test\n",
            "mecab-0.996-ko-0.9.2/tests/ngram/char.def\n",
            "mecab-0.996-ko-0.9.2/tests/ngram/matrix.def\n",
            "mecab-0.996-ko-0.9.2/tests/ngram/test.gld\n",
            "mecab-0.996-ko-0.9.2/tests/Makefile.in\n",
            "mecab-0.996-ko-0.9.2/ltmain.sh\n",
            "mecab-0.996-ko-0.9.2/config.rpath\n",
            "mecab-0.996-ko-0.9.2/config.h.in\n",
            "mecab-0.996-ko-0.9.2/mecabrc.in\n",
            "mecab-0.996-ko-0.9.2/GPL\n",
            "mecab-0.996-ko-0.9.2/Makefile.train\n",
            "mecab-0.996-ko-0.9.2/ChangeLog\n",
            "mecab-0.996-ko-0.9.2/install-sh\n",
            "mecab-0.996-ko-0.9.2/AUTHORS\n",
            "mecab-0.996-ko-0.9.2/doc/\n",
            "mecab-0.996-ko-0.9.2/doc/bindings.html\n",
            "mecab-0.996-ko-0.9.2/doc/posid.html\n",
            "mecab-0.996-ko-0.9.2/doc/unk.html\n",
            "mecab-0.996-ko-0.9.2/doc/learn.html\n",
            "mecab-0.996-ko-0.9.2/doc/format.html\n",
            "mecab-0.996-ko-0.9.2/doc/libmecab.html\n",
            "mecab-0.996-ko-0.9.2/doc/mecab.css\n",
            "mecab-0.996-ko-0.9.2/doc/feature.html\n",
            "mecab-0.996-ko-0.9.2/doc/Makefile.am\n",
            "mecab-0.996-ko-0.9.2/doc/soft.html\n",
            "mecab-0.996-ko-0.9.2/doc/en/\n",
            "mecab-0.996-ko-0.9.2/doc/en/bindings.html\n",
            "mecab-0.996-ko-0.9.2/doc/dic-detail.html\n",
            "mecab-0.996-ko-0.9.2/doc/flow.png\n",
            "mecab-0.996-ko-0.9.2/doc/mecab.html\n",
            "mecab-0.996-ko-0.9.2/doc/index.html\n",
            "mecab-0.996-ko-0.9.2/doc/result.png\n",
            "mecab-0.996-ko-0.9.2/doc/doxygen/\n",
            "mecab-0.996-ko-0.9.2/doc/doxygen/tab_a.png\n",
            "mecab-0.996-ko-0.9.2/doc/doxygen/globals_eval.html\n",
            "mecab-0.996-ko-0.9.2/doc/doxygen/classMeCab_1_1Tagger-members.html\n",
            "mecab-0.996-ko-0.9.2/doc/doxygen/functions_vars.html\n",
            "mecab-0.996-ko-0.9.2/doc/doxygen/doxygen.css\n",
            "mecab-0.996-ko-0.9.2/doc/doxygen/tab_r.gif\n",
            "mecab-0.996-ko-0.9.2/doc/doxygen/classMeCab_1_1Lattice.html\n",
            "mecab-0.996-ko-0.9.2/doc/doxygen/functions.html\n",
            "mecab-0.996-ko-0.9.2/doc/doxygen/classMeCab_1_1Tagger.html\n",
            "mecab-0.996-ko-0.9.2/doc/doxygen/mecab_8h_source.html\n",
            "mecab-0.996-ko-0.9.2/doc/doxygen/tabs.css\n",
            "mecab-0.996-ko-0.9.2/doc/doxygen/nav_f.png\n",
            "mecab-0.996-ko-0.9.2/doc/doxygen/tab_b.png\n",
            "mecab-0.996-ko-0.9.2/doc/doxygen/globals.html\n",
            "mecab-0.996-ko-0.9.2/doc/doxygen/nav_h.png\n",
            "mecab-0.996-ko-0.9.2/doc/doxygen/tab_h.png\n",
            "mecab-0.996-ko-0.9.2/doc/doxygen/classMeCab_1_1Model.html\n",
            "mecab-0.996-ko-0.9.2/doc/doxygen/globals_func.html\n",
            "mecab-0.996-ko-0.9.2/doc/doxygen/closed.png\n",
            "mecab-0.996-ko-0.9.2/doc/doxygen/tab_l.gif\n",
            "mecab-0.996-ko-0.9.2/doc/doxygen/structmecab__path__t-members.html\n",
            "mecab-0.996-ko-0.9.2/doc/doxygen/functions_func.html\n",
            "mecab-0.996-ko-0.9.2/doc/doxygen/globals_type.html\n",
            "mecab-0.996-ko-0.9.2/doc/doxygen/classMeCab_1_1Lattice-members.html\n",
            "mecab-0.996-ko-0.9.2/doc/doxygen/structmecab__node__t.html\n",
            "mecab-0.996-ko-0.9.2/doc/doxygen/namespacemembers_func.html\n",
            "mecab-0.996-ko-0.9.2/doc/doxygen/tab_s.png\n",
            "mecab-0.996-ko-0.9.2/doc/doxygen/structmecab__dictionary__info__t-members.html\n",
            "mecab-0.996-ko-0.9.2/doc/doxygen/namespacemembers_type.html\n",
            "mecab-0.996-ko-0.9.2/doc/doxygen/classMeCab_1_1Model-members.html\n",
            "mecab-0.996-ko-0.9.2/doc/doxygen/structmecab__dictionary__info__t.html\n",
            "mecab-0.996-ko-0.9.2/doc/doxygen/namespaces.html\n",
            "mecab-0.996-ko-0.9.2/doc/doxygen/namespacemembers.html\n",
            "mecab-0.996-ko-0.9.2/doc/doxygen/namespaceMeCab.html\n",
            "mecab-0.996-ko-0.9.2/doc/doxygen/structmecab__path__t.html\n",
            "mecab-0.996-ko-0.9.2/doc/doxygen/files.html\n",
            "mecab-0.996-ko-0.9.2/doc/doxygen/structmecab__node__t-members.html\n",
            "mecab-0.996-ko-0.9.2/doc/doxygen/index.html\n",
            "mecab-0.996-ko-0.9.2/doc/doxygen/annotated.html\n",
            "mecab-0.996-ko-0.9.2/doc/doxygen/globals_defs.html\n",
            "mecab-0.996-ko-0.9.2/doc/doxygen/classes.html\n",
            "mecab-0.996-ko-0.9.2/doc/doxygen/mecab_8h-source.html\n",
            "mecab-0.996-ko-0.9.2/doc/doxygen/doxygen.png\n",
            "mecab-0.996-ko-0.9.2/doc/doxygen/tab_b.gif\n",
            "mecab-0.996-ko-0.9.2/doc/doxygen/bc_s.png\n",
            "mecab-0.996-ko-0.9.2/doc/doxygen/open.png\n",
            "mecab-0.996-ko-0.9.2/doc/doxygen/mecab_8h.html\n",
            "mecab-0.996-ko-0.9.2/doc/dic.html\n",
            "mecab-0.996-ko-0.9.2/doc/partial.html\n",
            "mecab-0.996-ko-0.9.2/doc/feature.png\n",
            "mecab-0.996-ko-0.9.2/doc/Makefile.in\n",
            "mecab-0.996-ko-0.9.2/missing\n",
            "mecab-0.996-ko-0.9.2/BSD\n",
            "mecab-0.996-ko-0.9.2/NEWS\n",
            "mecab-0.996-ko-0.9.2/mkinstalldirs\n",
            "mecab-0.996-ko-0.9.2/src/\n",
            "mecab-0.996-ko-0.9.2/src/dictionary.h\n",
            "mecab-0.996-ko-0.9.2/src/writer.h\n",
            "mecab-0.996-ko-0.9.2/src/utils.h\n",
            "mecab-0.996-ko-0.9.2/src/string_buffer.cpp\n",
            "mecab-0.996-ko-0.9.2/src/tokenizer.cpp\n",
            "mecab-0.996-ko-0.9.2/src/make.bat\n",
            "mecab-0.996-ko-0.9.2/src/mecab.h\n",
            "mecab-0.996-ko-0.9.2/src/freelist.h\n",
            "mecab-0.996-ko-0.9.2/src/string_buffer.h\n",
            "mecab-0.996-ko-0.9.2/src/learner_tagger.h\n",
            "mecab-0.996-ko-0.9.2/src/dictionary_compiler.cpp\n",
            "mecab-0.996-ko-0.9.2/src/eval.cpp\n",
            "mecab-0.996-ko-0.9.2/src/mecab-system-eval.cpp\n",
            "mecab-0.996-ko-0.9.2/src/darts.h\n",
            "mecab-0.996-ko-0.9.2/src/param.h\n",
            "mecab-0.996-ko-0.9.2/src/char_property.h\n",
            "mecab-0.996-ko-0.9.2/src/learner_node.h\n",
            "mecab-0.996-ko-0.9.2/src/mecab-dict-gen.cpp\n",
            "mecab-0.996-ko-0.9.2/src/mecab-dict-index.cpp\n",
            "mecab-0.996-ko-0.9.2/src/winmain.h\n",
            "mecab-0.996-ko-0.9.2/src/thread.h\n",
            "mecab-0.996-ko-0.9.2/src/context_id.cpp\n",
            "mecab-0.996-ko-0.9.2/src/Makefile.am\n",
            "mecab-0.996-ko-0.9.2/src/connector.h\n",
            "mecab-0.996-ko-0.9.2/src/common.h\n",
            "mecab-0.996-ko-0.9.2/src/dictionary_rewriter.cpp\n",
            "mecab-0.996-ko-0.9.2/src/Makefile.msvc.in\n",
            "mecab-0.996-ko-0.9.2/src/dictionary_rewriter.h\n",
            "mecab-0.996-ko-0.9.2/src/feature_index.h\n",
            "mecab-0.996-ko-0.9.2/src/iconv_utils.cpp\n",
            "mecab-0.996-ko-0.9.2/src/char_property.cpp\n",
            "mecab-0.996-ko-0.9.2/src/mecab-test-gen.cpp\n",
            "mecab-0.996-ko-0.9.2/src/tagger.cpp\n",
            "mecab-0.996-ko-0.9.2/src/mecab-cost-train.cpp\n",
            "mecab-0.996-ko-0.9.2/src/learner.cpp\n",
            "mecab-0.996-ko-0.9.2/src/dictionary.cpp\n",
            "mecab-0.996-ko-0.9.2/src/lbfgs.cpp\n",
            "mecab-0.996-ko-0.9.2/src/ucs.h\n",
            "mecab-0.996-ko-0.9.2/src/writer.cpp\n",
            "mecab-0.996-ko-0.9.2/src/learner_tagger.cpp\n",
            "mecab-0.996-ko-0.9.2/src/lbfgs.h\n",
            "mecab-0.996-ko-0.9.2/src/libmecab.cpp\n",
            "mecab-0.996-ko-0.9.2/src/tokenizer.h\n",
            "mecab-0.996-ko-0.9.2/src/mecab.cpp\n",
            "mecab-0.996-ko-0.9.2/src/utils.cpp\n",
            "mecab-0.996-ko-0.9.2/src/dictionary_generator.cpp\n",
            "mecab-0.996-ko-0.9.2/src/param.cpp\n",
            "mecab-0.996-ko-0.9.2/src/context_id.h\n",
            "mecab-0.996-ko-0.9.2/src/mmap.h\n",
            "mecab-0.996-ko-0.9.2/src/viterbi.h\n",
            "mecab-0.996-ko-0.9.2/src/viterbi.cpp\n",
            "mecab-0.996-ko-0.9.2/src/stream_wrapper.h\n",
            "mecab-0.996-ko-0.9.2/src/feature_index.cpp\n",
            "mecab-0.996-ko-0.9.2/src/nbest_generator.h\n",
            "mecab-0.996-ko-0.9.2/src/ucstable.h\n",
            "mecab-0.996-ko-0.9.2/src/nbest_generator.cpp\n",
            "mecab-0.996-ko-0.9.2/src/iconv_utils.h\n",
            "mecab-0.996-ko-0.9.2/src/connector.cpp\n",
            "mecab-0.996-ko-0.9.2/src/Makefile.in\n",
            "mecab-0.996-ko-0.9.2/src/scoped_ptr.h\n",
            "mecab-0.996-ko-0.9.2/Makefile.in\n",
            "checking for a BSD-compatible install... /usr/bin/install -c\n",
            "checking whether build environment is sane... yes\n",
            "checking for a thread-safe mkdir -p... /bin/mkdir -p\n",
            "checking for gawk... no\n",
            "checking for mawk... mawk\n",
            "checking whether make sets $(MAKE)... yes\n",
            "checking for gcc... gcc\n",
            "checking whether the C compiler works... yes\n",
            "checking for C compiler default output file name... a.out\n",
            "checking for suffix of executables... \n",
            "checking whether we are cross compiling... no\n",
            "checking for suffix of object files... o\n",
            "checking whether we are using the GNU C compiler... yes\n",
            "checking whether gcc accepts -g... yes\n",
            "checking for gcc option to accept ISO C89... none needed\n",
            "checking for style of include used by make... GNU\n",
            "checking dependency style of gcc... none\n",
            "checking for g++... g++\n",
            "checking whether we are using the GNU C++ compiler... yes\n",
            "checking whether g++ accepts -g... yes\n",
            "checking dependency style of g++... none\n",
            "checking how to run the C preprocessor... gcc -E\n",
            "checking for grep that handles long lines and -e... /bin/grep\n",
            "checking for egrep... /bin/grep -E\n",
            "checking whether gcc needs -traditional... no\n",
            "checking whether make sets $(MAKE)... (cached) yes\n",
            "checking build system type... x86_64-unknown-linux-gnu\n",
            "checking host system type... x86_64-unknown-linux-gnu\n",
            "checking how to print strings... printf\n",
            "checking for a sed that does not truncate output... /bin/sed\n",
            "checking for fgrep... /bin/grep -F\n",
            "checking for ld used by gcc... /usr/bin/ld\n",
            "checking if the linker (/usr/bin/ld) is GNU ld... yes\n",
            "checking for BSD- or MS-compatible name lister (nm)... /usr/bin/nm -B\n",
            "checking the name lister (/usr/bin/nm -B) interface... BSD nm\n",
            "checking whether ln -s works... yes\n",
            "checking the maximum length of command line arguments... 1572864\n",
            "checking whether the shell understands some XSI constructs... yes\n",
            "checking whether the shell understands \"+=\"... yes\n",
            "checking how to convert x86_64-unknown-linux-gnu file names to x86_64-unknown-linux-gnu format... func_convert_file_noop\n",
            "checking how to convert x86_64-unknown-linux-gnu file names to toolchain format... func_convert_file_noop\n",
            "checking for /usr/bin/ld option to reload object files... -r\n",
            "checking for objdump... objdump\n",
            "checking how to recognize dependent libraries... pass_all\n",
            "checking for dlltool... dlltool\n",
            "checking how to associate runtime and link libraries... printf %s\\n\n",
            "checking for ar... ar\n",
            "checking for archiver @FILE support... @\n",
            "checking for strip... strip\n",
            "checking for ranlib... ranlib\n",
            "checking command to parse /usr/bin/nm -B output from gcc object... ok\n",
            "checking for sysroot... no\n",
            "./configure: line 7378: /usr/bin/file: No such file or directory\n",
            "checking for mt... no\n",
            "checking if : is a manifest tool... no\n",
            "checking for ANSI C header files... yes\n",
            "checking for sys/types.h... yes\n",
            "checking for sys/stat.h... yes\n",
            "checking for stdlib.h... yes\n",
            "checking for string.h... yes\n",
            "checking for memory.h... yes\n",
            "checking for strings.h... yes\n",
            "checking for inttypes.h... yes\n",
            "checking for stdint.h... yes\n",
            "checking for unistd.h... yes\n",
            "checking for dlfcn.h... yes\n",
            "checking for objdir... .libs\n",
            "checking if gcc supports -fno-rtti -fno-exceptions... no\n",
            "checking for gcc option to produce PIC... -fPIC -DPIC\n",
            "checking if gcc PIC flag -fPIC -DPIC works... yes\n",
            "checking if gcc static flag -static works... yes\n",
            "checking if gcc supports -c -o file.o... yes\n",
            "checking if gcc supports -c -o file.o... (cached) yes\n",
            "checking whether the gcc linker (/usr/bin/ld) supports shared libraries... yes\n",
            "checking whether -lc should be explicitly linked in... no\n",
            "checking dynamic linker characteristics... GNU/Linux ld.so\n",
            "checking how to hardcode library paths into programs... immediate\n",
            "checking whether stripping libraries is possible... yes\n",
            "checking if libtool supports shared libraries... yes\n",
            "checking whether to build shared libraries... yes\n",
            "checking whether to build static libraries... yes\n",
            "checking how to run the C++ preprocessor... g++ -E\n",
            "checking for ld used by g++... /usr/bin/ld\n",
            "checking if the linker (/usr/bin/ld) is GNU ld... yes\n",
            "checking whether the g++ linker (/usr/bin/ld) supports shared libraries... yes\n",
            "checking for g++ option to produce PIC... -fPIC -DPIC\n",
            "checking if g++ PIC flag -fPIC -DPIC works... yes\n",
            "checking if g++ static flag -static works... yes\n",
            "checking if g++ supports -c -o file.o... yes\n",
            "checking if g++ supports -c -o file.o... (cached) yes\n",
            "checking whether the g++ linker (/usr/bin/ld) supports shared libraries... yes\n",
            "checking dynamic linker characteristics... (cached) GNU/Linux ld.so\n",
            "checking how to hardcode library paths into programs... immediate\n",
            "checking for library containing strerror... none required\n",
            "checking whether byte ordering is bigendian... no\n",
            "checking for ld used by GCC... /usr/bin/ld\n",
            "checking if the linker (/usr/bin/ld) is GNU ld... yes\n",
            "checking for shared library run path origin... done\n",
            "checking for iconv... yes\n",
            "checking for working iconv... yes\n",
            "checking for iconv declaration... \n",
            "         extern size_t iconv (iconv_t cd, char * *inbuf, size_t *inbytesleft, char * *outbuf, size_t *outbytesleft);\n",
            "checking for ANSI C header files... (cached) yes\n",
            "checking for an ANSI C-conforming const... yes\n",
            "checking whether byte ordering is bigendian... (cached) no\n",
            "checking for string.h... (cached) yes\n",
            "checking for stdlib.h... (cached) yes\n",
            "checking for unistd.h... (cached) yes\n",
            "checking fcntl.h usability... yes\n",
            "checking fcntl.h presence... yes\n",
            "checking for fcntl.h... yes\n",
            "checking for stdint.h... (cached) yes\n",
            "checking for sys/stat.h... (cached) yes\n",
            "checking sys/mman.h usability... yes\n",
            "checking sys/mman.h presence... yes\n",
            "checking for sys/mman.h... yes\n",
            "checking sys/times.h usability... yes\n",
            "checking sys/times.h presence... yes\n",
            "checking for sys/times.h... yes\n",
            "checking for sys/types.h... (cached) yes\n",
            "checking dirent.h usability... yes\n",
            "checking dirent.h presence... yes\n",
            "checking for dirent.h... yes\n",
            "checking ctype.h usability... yes\n",
            "checking ctype.h presence... yes\n",
            "checking for ctype.h... yes\n",
            "checking for sys/types.h... (cached) yes\n",
            "checking io.h usability... no\n",
            "checking io.h presence... no\n",
            "checking for io.h... no\n",
            "checking windows.h usability... no\n",
            "checking windows.h presence... no\n",
            "checking for windows.h... no\n",
            "checking pthread.h usability... yes\n",
            "checking pthread.h presence... yes\n",
            "checking for pthread.h... yes\n",
            "checking for off_t... yes\n",
            "checking for size_t... yes\n",
            "checking size of char... 1\n",
            "checking size of short... 2\n",
            "checking size of int... 4\n",
            "checking size of long... 8\n",
            "checking size of long long... 8\n",
            "checking size of size_t... 8\n",
            "checking for size_t... (cached) yes\n",
            "checking for unsigned long long int... yes\n",
            "checking for stdlib.h... (cached) yes\n",
            "checking for unistd.h... (cached) yes\n",
            "checking for sys/param.h... yes\n",
            "checking for getpagesize... yes\n",
            "checking for working mmap... yes\n",
            "checking for main in -lstdc++... yes\n",
            "checking for pthread_create in -lpthread... yes\n",
            "checking for pthread_join in -lpthread... yes\n",
            "checking for getenv... yes\n",
            "checking for opendir... yes\n",
            "checking whether make is GNU Make... yes\n",
            "checking if g++ supports stl <vector> (required)... yes\n",
            "checking if g++ supports stl <list> (required)... yes\n",
            "checking if g++ supports stl <map> (required)... yes\n",
            "checking if g++ supports stl <set> (required)... yes\n",
            "checking if g++ supports stl <queue> (required)... yes\n",
            "checking if g++ supports stl <functional> (required)... yes\n",
            "checking if g++ supports stl <algorithm> (required)... yes\n",
            "checking if g++ supports stl <string> (required)... yes\n",
            "checking if g++ supports stl <iostream> (required)... yes\n",
            "checking if g++ supports stl <sstream> (required)... yes\n",
            "checking if g++ supports stl <fstream> (required)... yes\n",
            "checking if g++ supports template <class T> (required)... yes\n",
            "checking if g++ supports const_cast<> (required)... yes\n",
            "checking if g++ supports static_cast<> (required)... yes\n",
            "checking if g++ supports reinterpret_cast<> (required)... yes\n",
            "checking if g++ supports namespaces (required) ... yes\n",
            "checking if g++ supports __thread (optional)... yes\n",
            "checking if g++ supports template <class T> (required)... yes\n",
            "checking if g++ supports GCC native atomic operations (optional)... yes\n",
            "checking if g++ supports OSX native atomic operations (optional)... no\n",
            "checking if g++ environment provides all required features... yes\n",
            "configure: creating ./config.status\n",
            "config.status: creating Makefile\n",
            "config.status: creating src/Makefile\n",
            "config.status: creating src/Makefile.msvc\n",
            "config.status: creating man/Makefile\n",
            "config.status: creating doc/Makefile\n",
            "config.status: creating tests/Makefile\n",
            "config.status: creating swig/version.h\n",
            "config.status: creating mecab.iss\n",
            "config.status: creating mecab-config\n",
            "config.status: creating mecabrc\n",
            "config.status: creating config.h\n",
            "config.status: executing depfiles commands\n",
            "config.status: executing libtool commands\n",
            "config.status: executing default commands\n",
            "make  all-recursive\n",
            "make[1]: Entering directory '/tmp/mecab-0.996-ko-0.9.2'\n",
            "Making all in src\n",
            "make[2]: Entering directory '/tmp/mecab-0.996-ko-0.9.2/src'\n",
            "/bin/bash ../libtool --tag=CXX   --mode=compile g++ -DHAVE_CONFIG_H -I. -I.. -DDIC_VERSION=102   -DMECAB_DEFAULT_RC=\"\\\"/usr/local/etc/mecabrc\\\"\"    -O3 -Wall  -c -o viterbi.lo viterbi.cpp\n",
            "libtool: compile:  g++ -DHAVE_CONFIG_H -I. -I.. -DDIC_VERSION=102 -DMECAB_DEFAULT_RC=\\\"/usr/local/etc/mecabrc\\\" -O3 -Wall -c viterbi.cpp  -fPIC -DPIC -o .libs/viterbi.o\n",
            "In file included from \u001b[01m\u001b[Kviterbi.cpp:14:0\u001b[m\u001b[K:\n",
            "\u001b[01m\u001b[Kparam.h:30:13:\u001b[m\u001b[K \u001b[01;35m\u001b[Kwarning: \u001b[m\u001b[K'\u001b[01m\u001b[KTarget {anonymous}::lexical_cast(Source) [with Target = std::__cxx11::basic_string<char>; Source = std::__cxx11::basic_string<char>]\u001b[m\u001b[K' defined but not used [\u001b[01;35m\u001b[K-Wunused-function\u001b[m\u001b[K]\n",
            " std::string \u001b[01;35m\u001b[Klexical_cast<std::string, std::string>\u001b[m\u001b[K(std::string arg) {\n",
            "             \u001b[01;35m\u001b[K^~~~~~~~~~~~~~~~~~~~~~~~~~~~~~~~~~~~~~\u001b[m\u001b[K\n",
            "libtool: compile:  g++ -DHAVE_CONFIG_H -I. -I.. -DDIC_VERSION=102 -DMECAB_DEFAULT_RC=\\\"/usr/local/etc/mecabrc\\\" -O3 -Wall -c viterbi.cpp -o viterbi.o >/dev/null 2>&1\n",
            "/bin/bash ../libtool --tag=CXX   --mode=compile g++ -DHAVE_CONFIG_H -I. -I.. -DDIC_VERSION=102   -DMECAB_DEFAULT_RC=\"\\\"/usr/local/etc/mecabrc\\\"\"    -O3 -Wall  -c -o tagger.lo tagger.cpp\n",
            "libtool: compile:  g++ -DHAVE_CONFIG_H -I. -I.. -DDIC_VERSION=102 -DMECAB_DEFAULT_RC=\\\"/usr/local/etc/mecabrc\\\" -O3 -Wall -c tagger.cpp  -fPIC -DPIC -o .libs/tagger.o\n",
            "libtool: compile:  g++ -DHAVE_CONFIG_H -I. -I.. -DDIC_VERSION=102 -DMECAB_DEFAULT_RC=\\\"/usr/local/etc/mecabrc\\\" -O3 -Wall -c tagger.cpp -o tagger.o >/dev/null 2>&1\n",
            "/bin/bash ../libtool --tag=CXX   --mode=compile g++ -DHAVE_CONFIG_H -I. -I.. -DDIC_VERSION=102   -DMECAB_DEFAULT_RC=\"\\\"/usr/local/etc/mecabrc\\\"\"    -O3 -Wall  -c -o utils.lo utils.cpp\n",
            "libtool: compile:  g++ -DHAVE_CONFIG_H -I. -I.. -DDIC_VERSION=102 -DMECAB_DEFAULT_RC=\\\"/usr/local/etc/mecabrc\\\" -O3 -Wall -c utils.cpp  -fPIC -DPIC -o .libs/utils.o\n",
            "libtool: compile:  g++ -DHAVE_CONFIG_H -I. -I.. -DDIC_VERSION=102 -DMECAB_DEFAULT_RC=\\\"/usr/local/etc/mecabrc\\\" -O3 -Wall -c utils.cpp -o utils.o >/dev/null 2>&1\n",
            "/bin/bash ../libtool --tag=CXX   --mode=compile g++ -DHAVE_CONFIG_H -I. -I.. -DDIC_VERSION=102   -DMECAB_DEFAULT_RC=\"\\\"/usr/local/etc/mecabrc\\\"\"    -O3 -Wall  -c -o eval.lo eval.cpp\n",
            "libtool: compile:  g++ -DHAVE_CONFIG_H -I. -I.. -DDIC_VERSION=102 -DMECAB_DEFAULT_RC=\\\"/usr/local/etc/mecabrc\\\" -O3 -Wall -c eval.cpp  -fPIC -DPIC -o .libs/eval.o\n",
            "libtool: compile:  g++ -DHAVE_CONFIG_H -I. -I.. -DDIC_VERSION=102 -DMECAB_DEFAULT_RC=\\\"/usr/local/etc/mecabrc\\\" -O3 -Wall -c eval.cpp -o eval.o >/dev/null 2>&1\n",
            "/bin/bash ../libtool --tag=CXX   --mode=compile g++ -DHAVE_CONFIG_H -I. -I.. -DDIC_VERSION=102   -DMECAB_DEFAULT_RC=\"\\\"/usr/local/etc/mecabrc\\\"\"    -O3 -Wall  -c -o iconv_utils.lo iconv_utils.cpp\n",
            "libtool: compile:  g++ -DHAVE_CONFIG_H -I. -I.. -DDIC_VERSION=102 -DMECAB_DEFAULT_RC=\\\"/usr/local/etc/mecabrc\\\" -O3 -Wall -c iconv_utils.cpp  -fPIC -DPIC -o .libs/iconv_utils.o\n",
            "libtool: compile:  g++ -DHAVE_CONFIG_H -I. -I.. -DDIC_VERSION=102 -DMECAB_DEFAULT_RC=\\\"/usr/local/etc/mecabrc\\\" -O3 -Wall -c iconv_utils.cpp -o iconv_utils.o >/dev/null 2>&1\n",
            "/bin/bash ../libtool --tag=CXX   --mode=compile g++ -DHAVE_CONFIG_H -I. -I.. -DDIC_VERSION=102   -DMECAB_DEFAULT_RC=\"\\\"/usr/local/etc/mecabrc\\\"\"    -O3 -Wall  -c -o dictionary_rewriter.lo dictionary_rewriter.cpp\n",
            "libtool: compile:  g++ -DHAVE_CONFIG_H -I. -I.. -DDIC_VERSION=102 -DMECAB_DEFAULT_RC=\\\"/usr/local/etc/mecabrc\\\" -O3 -Wall -c dictionary_rewriter.cpp  -fPIC -DPIC -o .libs/dictionary_rewriter.o\n",
            "libtool: compile:  g++ -DHAVE_CONFIG_H -I. -I.. -DDIC_VERSION=102 -DMECAB_DEFAULT_RC=\\\"/usr/local/etc/mecabrc\\\" -O3 -Wall -c dictionary_rewriter.cpp -o dictionary_rewriter.o >/dev/null 2>&1\n",
            "/bin/bash ../libtool --tag=CXX   --mode=compile g++ -DHAVE_CONFIG_H -I. -I.. -DDIC_VERSION=102   -DMECAB_DEFAULT_RC=\"\\\"/usr/local/etc/mecabrc\\\"\"    -O3 -Wall  -c -o dictionary_generator.lo dictionary_generator.cpp\n",
            "libtool: compile:  g++ -DHAVE_CONFIG_H -I. -I.. -DDIC_VERSION=102 -DMECAB_DEFAULT_RC=\\\"/usr/local/etc/mecabrc\\\" -O3 -Wall -c dictionary_generator.cpp  -fPIC -DPIC -o .libs/dictionary_generator.o\n",
            "libtool: compile:  g++ -DHAVE_CONFIG_H -I. -I.. -DDIC_VERSION=102 -DMECAB_DEFAULT_RC=\\\"/usr/local/etc/mecabrc\\\" -O3 -Wall -c dictionary_generator.cpp -o dictionary_generator.o >/dev/null 2>&1\n",
            "/bin/bash ../libtool --tag=CXX   --mode=compile g++ -DHAVE_CONFIG_H -I. -I.. -DDIC_VERSION=102   -DMECAB_DEFAULT_RC=\"\\\"/usr/local/etc/mecabrc\\\"\"    -O3 -Wall  -c -o dictionary_compiler.lo dictionary_compiler.cpp\n",
            "libtool: compile:  g++ -DHAVE_CONFIG_H -I. -I.. -DDIC_VERSION=102 -DMECAB_DEFAULT_RC=\\\"/usr/local/etc/mecabrc\\\" -O3 -Wall -c dictionary_compiler.cpp  -fPIC -DPIC -o .libs/dictionary_compiler.o\n",
            "libtool: compile:  g++ -DHAVE_CONFIG_H -I. -I.. -DDIC_VERSION=102 -DMECAB_DEFAULT_RC=\\\"/usr/local/etc/mecabrc\\\" -O3 -Wall -c dictionary_compiler.cpp -o dictionary_compiler.o >/dev/null 2>&1\n",
            "/bin/bash ../libtool --tag=CXX   --mode=compile g++ -DHAVE_CONFIG_H -I. -I.. -DDIC_VERSION=102   -DMECAB_DEFAULT_RC=\"\\\"/usr/local/etc/mecabrc\\\"\"    -O3 -Wall  -c -o context_id.lo context_id.cpp\n",
            "libtool: compile:  g++ -DHAVE_CONFIG_H -I. -I.. -DDIC_VERSION=102 -DMECAB_DEFAULT_RC=\\\"/usr/local/etc/mecabrc\\\" -O3 -Wall -c context_id.cpp  -fPIC -DPIC -o .libs/context_id.o\n",
            "libtool: compile:  g++ -DHAVE_CONFIG_H -I. -I.. -DDIC_VERSION=102 -DMECAB_DEFAULT_RC=\\\"/usr/local/etc/mecabrc\\\" -O3 -Wall -c context_id.cpp -o context_id.o >/dev/null 2>&1\n",
            "/bin/bash ../libtool --tag=CXX   --mode=compile g++ -DHAVE_CONFIG_H -I. -I.. -DDIC_VERSION=102   -DMECAB_DEFAULT_RC=\"\\\"/usr/local/etc/mecabrc\\\"\"    -O3 -Wall  -c -o connector.lo connector.cpp\n",
            "libtool: compile:  g++ -DHAVE_CONFIG_H -I. -I.. -DDIC_VERSION=102 -DMECAB_DEFAULT_RC=\\\"/usr/local/etc/mecabrc\\\" -O3 -Wall -c connector.cpp  -fPIC -DPIC -o .libs/connector.o\n",
            "libtool: compile:  g++ -DHAVE_CONFIG_H -I. -I.. -DDIC_VERSION=102 -DMECAB_DEFAULT_RC=\\\"/usr/local/etc/mecabrc\\\" -O3 -Wall -c connector.cpp -o connector.o >/dev/null 2>&1\n",
            "/bin/bash ../libtool --tag=CXX   --mode=compile g++ -DHAVE_CONFIG_H -I. -I.. -DDIC_VERSION=102   -DMECAB_DEFAULT_RC=\"\\\"/usr/local/etc/mecabrc\\\"\"    -O3 -Wall  -c -o nbest_generator.lo nbest_generator.cpp\n",
            "libtool: compile:  g++ -DHAVE_CONFIG_H -I. -I.. -DDIC_VERSION=102 -DMECAB_DEFAULT_RC=\\\"/usr/local/etc/mecabrc\\\" -O3 -Wall -c nbest_generator.cpp  -fPIC -DPIC -o .libs/nbest_generator.o\n",
            "libtool: compile:  g++ -DHAVE_CONFIG_H -I. -I.. -DDIC_VERSION=102 -DMECAB_DEFAULT_RC=\\\"/usr/local/etc/mecabrc\\\" -O3 -Wall -c nbest_generator.cpp -o nbest_generator.o >/dev/null 2>&1\n",
            "/bin/bash ../libtool --tag=CXX   --mode=compile g++ -DHAVE_CONFIG_H -I. -I.. -DDIC_VERSION=102   -DMECAB_DEFAULT_RC=\"\\\"/usr/local/etc/mecabrc\\\"\"    -O3 -Wall  -c -o writer.lo writer.cpp\n",
            "libtool: compile:  g++ -DHAVE_CONFIG_H -I. -I.. -DDIC_VERSION=102 -DMECAB_DEFAULT_RC=\\\"/usr/local/etc/mecabrc\\\" -O3 -Wall -c writer.cpp  -fPIC -DPIC -o .libs/writer.o\n",
            "libtool: compile:  g++ -DHAVE_CONFIG_H -I. -I.. -DDIC_VERSION=102 -DMECAB_DEFAULT_RC=\\\"/usr/local/etc/mecabrc\\\" -O3 -Wall -c writer.cpp -o writer.o >/dev/null 2>&1\n",
            "/bin/bash ../libtool --tag=CXX   --mode=compile g++ -DHAVE_CONFIG_H -I. -I.. -DDIC_VERSION=102   -DMECAB_DEFAULT_RC=\"\\\"/usr/local/etc/mecabrc\\\"\"    -O3 -Wall  -c -o string_buffer.lo string_buffer.cpp\n",
            "libtool: compile:  g++ -DHAVE_CONFIG_H -I. -I.. -DDIC_VERSION=102 -DMECAB_DEFAULT_RC=\\\"/usr/local/etc/mecabrc\\\" -O3 -Wall -c string_buffer.cpp  -fPIC -DPIC -o .libs/string_buffer.o\n",
            "libtool: compile:  g++ -DHAVE_CONFIG_H -I. -I.. -DDIC_VERSION=102 -DMECAB_DEFAULT_RC=\\\"/usr/local/etc/mecabrc\\\" -O3 -Wall -c string_buffer.cpp -o string_buffer.o >/dev/null 2>&1\n",
            "/bin/bash ../libtool --tag=CXX   --mode=compile g++ -DHAVE_CONFIG_H -I. -I.. -DDIC_VERSION=102   -DMECAB_DEFAULT_RC=\"\\\"/usr/local/etc/mecabrc\\\"\"    -O3 -Wall  -c -o param.lo param.cpp\n",
            "libtool: compile:  g++ -DHAVE_CONFIG_H -I. -I.. -DDIC_VERSION=102 -DMECAB_DEFAULT_RC=\\\"/usr/local/etc/mecabrc\\\" -O3 -Wall -c param.cpp  -fPIC -DPIC -o .libs/param.o\n",
            "libtool: compile:  g++ -DHAVE_CONFIG_H -I. -I.. -DDIC_VERSION=102 -DMECAB_DEFAULT_RC=\\\"/usr/local/etc/mecabrc\\\" -O3 -Wall -c param.cpp -o param.o >/dev/null 2>&1\n",
            "/bin/bash ../libtool --tag=CXX   --mode=compile g++ -DHAVE_CONFIG_H -I. -I.. -DDIC_VERSION=102   -DMECAB_DEFAULT_RC=\"\\\"/usr/local/etc/mecabrc\\\"\"    -O3 -Wall  -c -o tokenizer.lo tokenizer.cpp\n",
            "libtool: compile:  g++ -DHAVE_CONFIG_H -I. -I.. -DDIC_VERSION=102 -DMECAB_DEFAULT_RC=\\\"/usr/local/etc/mecabrc\\\" -O3 -Wall -c tokenizer.cpp  -fPIC -DPIC -o .libs/tokenizer.o\n",
            "libtool: compile:  g++ -DHAVE_CONFIG_H -I. -I.. -DDIC_VERSION=102 -DMECAB_DEFAULT_RC=\\\"/usr/local/etc/mecabrc\\\" -O3 -Wall -c tokenizer.cpp -o tokenizer.o >/dev/null 2>&1\n",
            "/bin/bash ../libtool --tag=CXX   --mode=compile g++ -DHAVE_CONFIG_H -I. -I.. -DDIC_VERSION=102   -DMECAB_DEFAULT_RC=\"\\\"/usr/local/etc/mecabrc\\\"\"    -O3 -Wall  -c -o char_property.lo char_property.cpp\n",
            "libtool: compile:  g++ -DHAVE_CONFIG_H -I. -I.. -DDIC_VERSION=102 -DMECAB_DEFAULT_RC=\\\"/usr/local/etc/mecabrc\\\" -O3 -Wall -c char_property.cpp  -fPIC -DPIC -o .libs/char_property.o\n",
            "libtool: compile:  g++ -DHAVE_CONFIG_H -I. -I.. -DDIC_VERSION=102 -DMECAB_DEFAULT_RC=\\\"/usr/local/etc/mecabrc\\\" -O3 -Wall -c char_property.cpp -o char_property.o >/dev/null 2>&1\n",
            "/bin/bash ../libtool --tag=CXX   --mode=compile g++ -DHAVE_CONFIG_H -I. -I.. -DDIC_VERSION=102   -DMECAB_DEFAULT_RC=\"\\\"/usr/local/etc/mecabrc\\\"\"    -O3 -Wall  -c -o dictionary.lo dictionary.cpp\n",
            "libtool: compile:  g++ -DHAVE_CONFIG_H -I. -I.. -DDIC_VERSION=102 -DMECAB_DEFAULT_RC=\\\"/usr/local/etc/mecabrc\\\" -O3 -Wall -c dictionary.cpp  -fPIC -DPIC -o .libs/dictionary.o\n",
            "libtool: compile:  g++ -DHAVE_CONFIG_H -I. -I.. -DDIC_VERSION=102 -DMECAB_DEFAULT_RC=\\\"/usr/local/etc/mecabrc\\\" -O3 -Wall -c dictionary.cpp -o dictionary.o >/dev/null 2>&1\n",
            "/bin/bash ../libtool --tag=CXX   --mode=compile g++ -DHAVE_CONFIG_H -I. -I.. -DDIC_VERSION=102   -DMECAB_DEFAULT_RC=\"\\\"/usr/local/etc/mecabrc\\\"\"    -O3 -Wall  -c -o feature_index.lo feature_index.cpp\n",
            "libtool: compile:  g++ -DHAVE_CONFIG_H -I. -I.. -DDIC_VERSION=102 -DMECAB_DEFAULT_RC=\\\"/usr/local/etc/mecabrc\\\" -O3 -Wall -c feature_index.cpp  -fPIC -DPIC -o .libs/feature_index.o\n",
            "libtool: compile:  g++ -DHAVE_CONFIG_H -I. -I.. -DDIC_VERSION=102 -DMECAB_DEFAULT_RC=\\\"/usr/local/etc/mecabrc\\\" -O3 -Wall -c feature_index.cpp -o feature_index.o >/dev/null 2>&1\n",
            "/bin/bash ../libtool --tag=CXX   --mode=compile g++ -DHAVE_CONFIG_H -I. -I.. -DDIC_VERSION=102   -DMECAB_DEFAULT_RC=\"\\\"/usr/local/etc/mecabrc\\\"\"    -O3 -Wall  -c -o lbfgs.lo lbfgs.cpp\n",
            "libtool: compile:  g++ -DHAVE_CONFIG_H -I. -I.. -DDIC_VERSION=102 -DMECAB_DEFAULT_RC=\\\"/usr/local/etc/mecabrc\\\" -O3 -Wall -c lbfgs.cpp  -fPIC -DPIC -o .libs/lbfgs.o\n",
            "libtool: compile:  g++ -DHAVE_CONFIG_H -I. -I.. -DDIC_VERSION=102 -DMECAB_DEFAULT_RC=\\\"/usr/local/etc/mecabrc\\\" -O3 -Wall -c lbfgs.cpp -o lbfgs.o >/dev/null 2>&1\n",
            "/bin/bash ../libtool --tag=CXX   --mode=compile g++ -DHAVE_CONFIG_H -I. -I.. -DDIC_VERSION=102   -DMECAB_DEFAULT_RC=\"\\\"/usr/local/etc/mecabrc\\\"\"    -O3 -Wall  -c -o learner_tagger.lo learner_tagger.cpp\n",
            "libtool: compile:  g++ -DHAVE_CONFIG_H -I. -I.. -DDIC_VERSION=102 -DMECAB_DEFAULT_RC=\\\"/usr/local/etc/mecabrc\\\" -O3 -Wall -c learner_tagger.cpp  -fPIC -DPIC -o .libs/learner_tagger.o\n",
            "\u001b[01m\u001b[Klearner_tagger.cpp:25:7:\u001b[m\u001b[K \u001b[01;35m\u001b[Kwarning: \u001b[m\u001b[K'\u001b[01m\u001b[Kchar* MeCab::{anonymous}::mystrdup(const string&)\u001b[m\u001b[K' defined but not used [\u001b[01;35m\u001b[K-Wunused-function\u001b[m\u001b[K]\n",
            " char *\u001b[01;35m\u001b[Kmystrdup\u001b[m\u001b[K(const std::string &str) {\n",
            "       \u001b[01;35m\u001b[K^~~~~~~~\u001b[m\u001b[K\n",
            "libtool: compile:  g++ -DHAVE_CONFIG_H -I. -I.. -DDIC_VERSION=102 -DMECAB_DEFAULT_RC=\\\"/usr/local/etc/mecabrc\\\" -O3 -Wall -c learner_tagger.cpp -o learner_tagger.o >/dev/null 2>&1\n",
            "/bin/bash ../libtool --tag=CXX   --mode=compile g++ -DHAVE_CONFIG_H -I. -I.. -DDIC_VERSION=102   -DMECAB_DEFAULT_RC=\"\\\"/usr/local/etc/mecabrc\\\"\"    -O3 -Wall  -c -o learner.lo learner.cpp\n",
            "libtool: compile:  g++ -DHAVE_CONFIG_H -I. -I.. -DDIC_VERSION=102 -DMECAB_DEFAULT_RC=\\\"/usr/local/etc/mecabrc\\\" -O3 -Wall -c learner.cpp  -fPIC -DPIC -o .libs/learner.o\n",
            "libtool: compile:  g++ -DHAVE_CONFIG_H -I. -I.. -DDIC_VERSION=102 -DMECAB_DEFAULT_RC=\\\"/usr/local/etc/mecabrc\\\" -O3 -Wall -c learner.cpp -o learner.o >/dev/null 2>&1\n",
            "/bin/bash ../libtool --tag=CXX   --mode=compile g++ -DHAVE_CONFIG_H -I. -I.. -DDIC_VERSION=102   -DMECAB_DEFAULT_RC=\"\\\"/usr/local/etc/mecabrc\\\"\"    -O3 -Wall  -c -o libmecab.lo libmecab.cpp\n",
            "libtool: compile:  g++ -DHAVE_CONFIG_H -I. -I.. -DDIC_VERSION=102 -DMECAB_DEFAULT_RC=\\\"/usr/local/etc/mecabrc\\\" -O3 -Wall -c libmecab.cpp  -fPIC -DPIC -o .libs/libmecab.o\n",
            "libtool: compile:  g++ -DHAVE_CONFIG_H -I. -I.. -DDIC_VERSION=102 -DMECAB_DEFAULT_RC=\\\"/usr/local/etc/mecabrc\\\" -O3 -Wall -c libmecab.cpp -o libmecab.o >/dev/null 2>&1\n",
            "/bin/bash ../libtool --tag=CXX   --mode=link g++  -O3 -Wall  -no-undefined -version-info 2:0:0  -o libmecab.la -rpath /usr/local/lib viterbi.lo tagger.lo utils.lo eval.lo iconv_utils.lo dictionary_rewriter.lo dictionary_generator.lo dictionary_compiler.lo context_id.lo connector.lo nbest_generator.lo writer.lo string_buffer.lo param.lo tokenizer.lo char_property.lo dictionary.lo feature_index.lo lbfgs.lo learner_tagger.lo learner.lo libmecab.lo  -lpthread -lpthread  -lstdc++ \n",
            "libtool: link: g++  -fPIC -DPIC -shared -nostdlib /usr/lib/gcc/x86_64-linux-gnu/7/../../../x86_64-linux-gnu/crti.o /usr/lib/gcc/x86_64-linux-gnu/7/crtbeginS.o  .libs/viterbi.o .libs/tagger.o .libs/utils.o .libs/eval.o .libs/iconv_utils.o .libs/dictionary_rewriter.o .libs/dictionary_generator.o .libs/dictionary_compiler.o .libs/context_id.o .libs/connector.o .libs/nbest_generator.o .libs/writer.o .libs/string_buffer.o .libs/param.o .libs/tokenizer.o .libs/char_property.o .libs/dictionary.o .libs/feature_index.o .libs/lbfgs.o .libs/learner_tagger.o .libs/learner.o .libs/libmecab.o   -lpthread -L/usr/lib/gcc/x86_64-linux-gnu/7 -L/usr/lib/gcc/x86_64-linux-gnu/7/../../../x86_64-linux-gnu -L/usr/lib/gcc/x86_64-linux-gnu/7/../../../../lib -L/lib/x86_64-linux-gnu -L/lib/../lib -L/usr/lib/x86_64-linux-gnu -L/usr/lib/../lib -L/usr/local/cuda/lib64/stubs -L/usr/lib/gcc/x86_64-linux-gnu/7/../../.. -lstdc++ -lm -lc -lgcc_s /usr/lib/gcc/x86_64-linux-gnu/7/crtendS.o /usr/lib/gcc/x86_64-linux-gnu/7/../../../x86_64-linux-gnu/crtn.o  -O3   -Wl,-soname -Wl,libmecab.so.2 -o .libs/libmecab.so.2.0.0\n",
            "libtool: link: (cd \".libs\" && rm -f \"libmecab.so.2\" && ln -s \"libmecab.so.2.0.0\" \"libmecab.so.2\")\n",
            "libtool: link: (cd \".libs\" && rm -f \"libmecab.so\" && ln -s \"libmecab.so.2.0.0\" \"libmecab.so\")\n",
            "libtool: link: ar cru .libs/libmecab.a  viterbi.o tagger.o utils.o eval.o iconv_utils.o dictionary_rewriter.o dictionary_generator.o dictionary_compiler.o context_id.o connector.o nbest_generator.o writer.o string_buffer.o param.o tokenizer.o char_property.o dictionary.o feature_index.o lbfgs.o learner_tagger.o learner.o libmecab.o\n",
            "ar: `u' modifier ignored since `D' is the default (see `U')\n",
            "libtool: link: ranlib .libs/libmecab.a\n",
            "libtool: link: ( cd \".libs\" && rm -f \"libmecab.la\" && ln -s \"../libmecab.la\" \"libmecab.la\" )\n",
            "g++ -DHAVE_CONFIG_H -I. -I.. -DDIC_VERSION=102   -DMECAB_DEFAULT_RC=\"\\\"/usr/local/etc/mecabrc\\\"\"    -O3 -Wall  -c -o mecab.o mecab.cpp\n",
            "/bin/bash ../libtool --tag=CXX   --mode=link g++  -O3 -Wall    -o mecab mecab.o libmecab.la -lpthread -lpthread  -lstdc++ \n",
            "libtool: link: g++ -O3 -Wall -o .libs/mecab mecab.o  ./.libs/libmecab.so -lpthread -lstdc++\n",
            "g++ -DHAVE_CONFIG_H -I. -I.. -DDIC_VERSION=102   -DMECAB_DEFAULT_RC=\"\\\"/usr/local/etc/mecabrc\\\"\"    -O3 -Wall  -c -o mecab-dict-index.o mecab-dict-index.cpp\n",
            "/bin/bash ../libtool --tag=CXX   --mode=link g++  -O3 -Wall    -o mecab-dict-index mecab-dict-index.o libmecab.la -lpthread -lpthread  -lstdc++ \n",
            "libtool: link: g++ -O3 -Wall -o .libs/mecab-dict-index mecab-dict-index.o  ./.libs/libmecab.so -lpthread -lstdc++\n",
            "g++ -DHAVE_CONFIG_H -I. -I.. -DDIC_VERSION=102   -DMECAB_DEFAULT_RC=\"\\\"/usr/local/etc/mecabrc\\\"\"    -O3 -Wall  -c -o mecab-dict-gen.o mecab-dict-gen.cpp\n",
            "/bin/bash ../libtool --tag=CXX   --mode=link g++  -O3 -Wall    -o mecab-dict-gen mecab-dict-gen.o libmecab.la -lpthread -lpthread  -lstdc++ \n",
            "libtool: link: g++ -O3 -Wall -o .libs/mecab-dict-gen mecab-dict-gen.o  ./.libs/libmecab.so -lpthread -lstdc++\n",
            "g++ -DHAVE_CONFIG_H -I. -I.. -DDIC_VERSION=102   -DMECAB_DEFAULT_RC=\"\\\"/usr/local/etc/mecabrc\\\"\"    -O3 -Wall  -c -o mecab-cost-train.o mecab-cost-train.cpp\n",
            "/bin/bash ../libtool --tag=CXX   --mode=link g++  -O3 -Wall    -o mecab-cost-train mecab-cost-train.o libmecab.la -lpthread -lpthread  -lstdc++ \n",
            "libtool: link: g++ -O3 -Wall -o .libs/mecab-cost-train mecab-cost-train.o  ./.libs/libmecab.so -lpthread -lstdc++\n",
            "g++ -DHAVE_CONFIG_H -I. -I.. -DDIC_VERSION=102   -DMECAB_DEFAULT_RC=\"\\\"/usr/local/etc/mecabrc\\\"\"    -O3 -Wall  -c -o mecab-system-eval.o mecab-system-eval.cpp\n",
            "/bin/bash ../libtool --tag=CXX   --mode=link g++  -O3 -Wall    -o mecab-system-eval mecab-system-eval.o libmecab.la -lpthread -lpthread  -lstdc++ \n",
            "libtool: link: g++ -O3 -Wall -o .libs/mecab-system-eval mecab-system-eval.o  ./.libs/libmecab.so -lpthread -lstdc++\n",
            "g++ -DHAVE_CONFIG_H -I. -I.. -DDIC_VERSION=102   -DMECAB_DEFAULT_RC=\"\\\"/usr/local/etc/mecabrc\\\"\"    -O3 -Wall  -c -o mecab-test-gen.o mecab-test-gen.cpp\n",
            "/bin/bash ../libtool --tag=CXX   --mode=link g++  -O3 -Wall    -o mecab-test-gen mecab-test-gen.o libmecab.la -lpthread -lpthread  -lstdc++ \n",
            "libtool: link: g++ -O3 -Wall -o .libs/mecab-test-gen mecab-test-gen.o  ./.libs/libmecab.so -lpthread -lstdc++\n",
            "make[2]: Leaving directory '/tmp/mecab-0.996-ko-0.9.2/src'\n",
            "Making all in man\n",
            "make[2]: Entering directory '/tmp/mecab-0.996-ko-0.9.2/man'\n",
            "make[2]: Nothing to be done for 'all'.\n",
            "make[2]: Leaving directory '/tmp/mecab-0.996-ko-0.9.2/man'\n",
            "Making all in doc\n",
            "make[2]: Entering directory '/tmp/mecab-0.996-ko-0.9.2/doc'\n",
            "make[2]: Nothing to be done for 'all'.\n",
            "make[2]: Leaving directory '/tmp/mecab-0.996-ko-0.9.2/doc'\n",
            "Making all in tests\n",
            "make[2]: Entering directory '/tmp/mecab-0.996-ko-0.9.2/tests'\n",
            "make[2]: Nothing to be done for 'all'.\n",
            "make[2]: Leaving directory '/tmp/mecab-0.996-ko-0.9.2/tests'\n",
            "make[2]: Entering directory '/tmp/mecab-0.996-ko-0.9.2'\n",
            "make[2]: Leaving directory '/tmp/mecab-0.996-ko-0.9.2'\n",
            "make[1]: Leaving directory '/tmp/mecab-0.996-ko-0.9.2'\n",
            "Making check in src\n",
            "make[1]: Entering directory '/tmp/mecab-0.996-ko-0.9.2/src'\n",
            "make[1]: Nothing to be done for 'check'.\n",
            "make[1]: Leaving directory '/tmp/mecab-0.996-ko-0.9.2/src'\n",
            "Making check in man\n",
            "make[1]: Entering directory '/tmp/mecab-0.996-ko-0.9.2/man'\n",
            "make[1]: Nothing to be done for 'check'.\n",
            "make[1]: Leaving directory '/tmp/mecab-0.996-ko-0.9.2/man'\n",
            "Making check in doc\n",
            "make[1]: Entering directory '/tmp/mecab-0.996-ko-0.9.2/doc'\n",
            "make[1]: Nothing to be done for 'check'.\n",
            "make[1]: Leaving directory '/tmp/mecab-0.996-ko-0.9.2/doc'\n",
            "Making check in tests\n",
            "make[1]: Entering directory '/tmp/mecab-0.996-ko-0.9.2/tests'\n",
            "make  check-TESTS\n",
            "make[2]: Entering directory '/tmp/mecab-0.996-ko-0.9.2/tests'\n",
            "./pos-id.def is not found. minimum setting is used\n",
            "reading ./unk.def ... 2\n",
            "emitting double-array: 100% |###########################################| \n",
            "./model.def is not found. skipped.\n",
            "./pos-id.def is not found. minimum setting is used\n",
            "reading ./dic.csv ... 177\n",
            "emitting double-array: 100% |###########################################| \n",
            "reading ./matrix.def ... 178x178\n",
            "emitting matrix      : 100% |###########################################| \n",
            "\n",
            "done!\n",
            "./pos-id.def is not found. minimum setting is used\n",
            "reading ./unk.def ... 2\n",
            "emitting double-array: 100% |###########################################| \n",
            "./model.def is not found. skipped.\n",
            "./pos-id.def is not found. minimum setting is used\n",
            "reading ./dic.csv ... 83\n",
            "emitting double-array: 100% |###########################################| \n",
            "reading ./matrix.def ... 84x84\n",
            "emitting matrix      : 100% |###########################################| \n",
            "\n",
            "done!\n",
            "./pos-id.def is not found. minimum setting is used\n",
            "reading ./unk.def ... 2\n",
            "emitting double-array: 100% |###########################################| \n",
            "./model.def is not found. skipped.\n",
            "./pos-id.def is not found. minimum setting is used\n",
            "reading ./dic.csv ... 450\n",
            "emitting double-array: 100% |###########################################| \n",
            "reading ./matrix.def ... 1x1\n",
            "\n",
            "done!\n",
            "./pos-id.def is not found. minimum setting is used\n",
            "reading ./unk.def ... 2\n",
            "emitting double-array: 100% |###########################################| \n",
            "./model.def is not found. skipped.\n",
            "./pos-id.def is not found. minimum setting is used\n",
            "reading ./dic.csv ... 162\n",
            "emitting double-array: 100% |###########################################| \n",
            "reading ./matrix.def ... 3x3\n",
            "emitting matrix      : 100% |###########################################| \n",
            "\n",
            "done!\n",
            "./pos-id.def is not found. minimum setting is used\n",
            "reading ./unk.def ... 2\n",
            "emitting double-array: 100% |###########################################| \n",
            "./model.def is not found. skipped.\n",
            "./pos-id.def is not found. minimum setting is used\n",
            "reading ./dic.csv ... 4\n",
            "emitting double-array: 100% |###########################################| \n",
            "reading ./matrix.def ... 1x1\n",
            "\n",
            "done!\n",
            "./pos-id.def is not found. minimum setting is used\n",
            "reading ./unk.def ... 11\n",
            "emitting double-array: 100% |###########################################| \n",
            "./model.def is not found. skipped.\n",
            "./pos-id.def is not found. minimum setting is used\n",
            "reading ./dic.csv ... 1\n",
            "reading ./matrix.def ... 1x1\n",
            "\n",
            "done!\n",
            "./pos-id.def is not found. minimum setting is used\n",
            "reading ./unk.def ... 2\n",
            "emitting double-array: 100% |###########################################| \n",
            "./model.def is not found. skipped.\n",
            "./pos-id.def is not found. minimum setting is used\n",
            "reading ./dic.csv ... 1\n",
            "reading ./matrix.def ... 1x1\n",
            "\n",
            "done!\n",
            "PASS: run-dics.sh\n",
            "PASS: run-eval.sh\n",
            "seed/pos-id.def is not found. minimum setting is used\n",
            "reading seed/unk.def ... 40\n",
            "emitting double-array: 100% |###########################################| \n",
            "seed/model.def is not found. skipped.\n",
            "seed/pos-id.def is not found. minimum setting is used\n",
            "reading seed/dic.csv ... 4335\n",
            "emitting double-array: 100% |###########################################| \n",
            "reading seed/matrix.def ... 1x1\n",
            "\n",
            "done!\n",
            "reading corpus ...\n",
            "Number of sentences: 34\n",
            "Number of features:  64108\n",
            "eta:                 0.00005\n",
            "freq:                1\n",
            "eval-size:           6\n",
            "unk-eval-size:       4\n",
            "threads:             1\n",
            "charset:             EUC-JP\n",
            "C(sigma^2):          1.00000\n",
            "\n",
            "iter=0 err=1.00000 F=0.35771 target=2406.28355 diff=1.00000\n",
            "iter=1 err=0.97059 F=0.65652 target=1484.25231 diff=0.38318\n",
            "iter=2 err=0.91176 F=0.79331 target=863.32765 diff=0.41834\n",
            "iter=3 err=0.85294 F=0.89213 target=596.72480 diff=0.30881\n",
            "iter=4 err=0.61765 F=0.95467 target=336.30744 diff=0.43641\n",
            "iter=5 err=0.50000 F=0.96702 target=246.53039 diff=0.26695\n",
            "iter=6 err=0.35294 F=0.95472 target=188.93963 diff=0.23361\n",
            "iter=7 err=0.20588 F=0.99106 target=168.62665 diff=0.10751\n",
            "iter=8 err=0.05882 F=0.99777 target=158.64865 diff=0.05917\n",
            "iter=9 err=0.08824 F=0.99665 target=154.14530 diff=0.02839\n",
            "iter=10 err=0.08824 F=0.99665 target=151.94257 diff=0.01429\n",
            "iter=11 err=0.02941 F=0.99888 target=147.20825 diff=0.03116\n",
            "iter=12 err=0.00000 F=1.00000 target=147.34956 diff=0.00096\n",
            "iter=13 err=0.02941 F=0.99888 target=146.32592 diff=0.00695\n",
            "iter=14 err=0.00000 F=1.00000 target=145.77299 diff=0.00378\n",
            "iter=15 err=0.02941 F=0.99888 target=145.24641 diff=0.00361\n",
            "iter=16 err=0.00000 F=1.00000 target=144.96490 diff=0.00194\n",
            "iter=17 err=0.02941 F=0.99888 target=144.90246 diff=0.00043\n",
            "iter=18 err=0.00000 F=1.00000 target=144.75959 diff=0.00099\n",
            "iter=19 err=0.00000 F=1.00000 target=144.71727 diff=0.00029\n",
            "iter=20 err=0.00000 F=1.00000 target=144.66337 diff=0.00037\n",
            "iter=21 err=0.00000 F=1.00000 target=144.61349 diff=0.00034\n",
            "iter=22 err=0.00000 F=1.00000 target=144.62987 diff=0.00011\n",
            "iter=23 err=0.00000 F=1.00000 target=144.60060 diff=0.00020\n",
            "iter=24 err=0.00000 F=1.00000 target=144.59125 diff=0.00006\n",
            "iter=25 err=0.00000 F=1.00000 target=144.58619 diff=0.00004\n",
            "iter=26 err=0.00000 F=1.00000 target=144.58219 diff=0.00003\n",
            "iter=27 err=0.00000 F=1.00000 target=144.58059 diff=0.00001\n",
            "\n",
            "Done! writing model file ... \n",
            "model-ipadic.c1.0.f1.model is not a binary model. reopen it as text mode...\n",
            "reading seed/unk.def ... 40\n",
            "reading seed/dic.csv ... 4335\n",
            "emitting model-ipadic.c1.0.f1.dic/left-id.def/ model-ipadic.c1.0.f1.dic/right-id.def\n",
            "emitting model-ipadic.c1.0.f1.dic/unk.def ... 40\n",
            "emitting model-ipadic.c1.0.f1.dic/dic.csv ... 4335\n",
            "emitting matrix      : 100% |###########################################| \n",
            "copying seed/char.def to model-ipadic.c1.0.f1.dic/char.def\n",
            "copying seed/rewrite.def to model-ipadic.c1.0.f1.dic/rewrite.def\n",
            "copying seed/dicrc to model-ipadic.c1.0.f1.dic/dicrc\n",
            "copying seed/feature.def to model-ipadic.c1.0.f1.dic/feature.def\n",
            "copying model-ipadic.c1.0.f1.model to model-ipadic.c1.0.f1.dic/model.def\n",
            "\n",
            "done!\n",
            "model-ipadic.c1.0.f1.dic/pos-id.def is not found. minimum setting is used\n",
            "reading model-ipadic.c1.0.f1.dic/unk.def ... 40\n",
            "emitting double-array: 100% |###########################################| \n",
            "model-ipadic.c1.0.f1.dic/pos-id.def is not found. minimum setting is used\n",
            "reading model-ipadic.c1.0.f1.dic/dic.csv ... 4335\n",
            "emitting double-array: 100% |###########################################| \n",
            "reading model-ipadic.c1.0.f1.dic/matrix.def ... 346x346\n",
            "emitting matrix      : 100% |###########################################| \n",
            "\n",
            "done!\n",
            "              precision          recall         F\n",
            "LEVEL 0:    12.8959(57/442) 11.8998(57/479) 12.3779\n",
            "LEVEL 1:    12.2172(54/442) 11.2735(54/479) 11.7264\n",
            "LEVEL 2:    11.7647(52/442) 10.8559(52/479) 11.2921\n",
            "LEVEL 4:    11.7647(52/442) 10.8559(52/479) 11.2921\n",
            "PASS: run-cost-train.sh\n",
            "==================\n",
            "All 3 tests passed\n",
            "==================\n",
            "make[2]: Leaving directory '/tmp/mecab-0.996-ko-0.9.2/tests'\n",
            "make[1]: Leaving directory '/tmp/mecab-0.996-ko-0.9.2/tests'\n",
            "make[1]: Entering directory '/tmp/mecab-0.996-ko-0.9.2'\n",
            "make[1]: Leaving directory '/tmp/mecab-0.996-ko-0.9.2'\n",
            "Making install in src\n",
            "make[1]: Entering directory '/tmp/mecab-0.996-ko-0.9.2/src'\n",
            "make[2]: Entering directory '/tmp/mecab-0.996-ko-0.9.2/src'\n",
            "test -z \"/usr/local/lib\" || /bin/mkdir -p \"/usr/local/lib\"\n",
            " /bin/bash ../libtool   --mode=install /usr/bin/install -c   libmecab.la '/usr/local/lib'\n",
            "libtool: install: /usr/bin/install -c .libs/libmecab.so.2.0.0 /usr/local/lib/libmecab.so.2.0.0\n",
            "libtool: install: (cd /usr/local/lib && { ln -s -f libmecab.so.2.0.0 libmecab.so.2 || { rm -f libmecab.so.2 && ln -s libmecab.so.2.0.0 libmecab.so.2; }; })\n",
            "libtool: install: (cd /usr/local/lib && { ln -s -f libmecab.so.2.0.0 libmecab.so || { rm -f libmecab.so && ln -s libmecab.so.2.0.0 libmecab.so; }; })\n",
            "libtool: install: /usr/bin/install -c .libs/libmecab.lai /usr/local/lib/libmecab.la\n",
            "libtool: install: /usr/bin/install -c .libs/libmecab.a /usr/local/lib/libmecab.a\n",
            "libtool: install: chmod 644 /usr/local/lib/libmecab.a\n",
            "libtool: install: ranlib /usr/local/lib/libmecab.a\n",
            "libtool: finish: PATH=\"/usr/local/sbin:/usr/local/bin:/usr/sbin:/usr/bin:/sbin:/bin:/snap/bin:/sbin\" ldconfig -n /usr/local/lib\n",
            "----------------------------------------------------------------------\n",
            "Libraries have been installed in:\n",
            "   /usr/local/lib\n",
            "\n",
            "If you ever happen to want to link against installed libraries\n",
            "in a given directory, LIBDIR, you must either use libtool, and\n",
            "specify the full pathname of the library, or use the `-LLIBDIR'\n",
            "flag during linking and do at least one of the following:\n",
            "   - add LIBDIR to the `LD_LIBRARY_PATH' environment variable\n",
            "     during execution\n",
            "   - add LIBDIR to the `LD_RUN_PATH' environment variable\n",
            "     during linking\n",
            "   - use the `-Wl,-rpath -Wl,LIBDIR' linker flag\n",
            "   - have your system administrator add LIBDIR to `/etc/ld.so.conf'\n",
            "\n",
            "See any operating system documentation about shared libraries for\n",
            "more information, such as the ld(1) and ld.so(8) manual pages.\n",
            "----------------------------------------------------------------------\n",
            "test -z \"/usr/local/bin\" || /bin/mkdir -p \"/usr/local/bin\"\n",
            "  /bin/bash ../libtool   --mode=install /usr/bin/install -c mecab '/usr/local/bin'\n",
            "libtool: install: /usr/bin/install -c .libs/mecab /usr/local/bin/mecab\n",
            "test -z \"/usr/local/libexec/mecab\" || /bin/mkdir -p \"/usr/local/libexec/mecab\"\n",
            "  /bin/bash ../libtool   --mode=install /usr/bin/install -c mecab-dict-index mecab-dict-gen mecab-cost-train mecab-system-eval mecab-test-gen '/usr/local/libexec/mecab'\n",
            "libtool: install: /usr/bin/install -c .libs/mecab-dict-index /usr/local/libexec/mecab/mecab-dict-index\n",
            "libtool: install: /usr/bin/install -c .libs/mecab-dict-gen /usr/local/libexec/mecab/mecab-dict-gen\n",
            "libtool: install: /usr/bin/install -c .libs/mecab-cost-train /usr/local/libexec/mecab/mecab-cost-train\n",
            "libtool: install: /usr/bin/install -c .libs/mecab-system-eval /usr/local/libexec/mecab/mecab-system-eval\n",
            "libtool: install: /usr/bin/install -c .libs/mecab-test-gen /usr/local/libexec/mecab/mecab-test-gen\n",
            "test -z \"/usr/local/include\" || /bin/mkdir -p \"/usr/local/include\"\n",
            " /usr/bin/install -c -m 644 mecab.h '/usr/local/include'\n",
            "make[2]: Leaving directory '/tmp/mecab-0.996-ko-0.9.2/src'\n",
            "make[1]: Leaving directory '/tmp/mecab-0.996-ko-0.9.2/src'\n",
            "Making install in man\n",
            "make[1]: Entering directory '/tmp/mecab-0.996-ko-0.9.2/man'\n",
            "make[2]: Entering directory '/tmp/mecab-0.996-ko-0.9.2/man'\n",
            "make[2]: Nothing to be done for 'install-exec-am'.\n",
            "test -z \"/usr/local/share/man/man1\" || /bin/mkdir -p \"/usr/local/share/man/man1\"\n",
            " /usr/bin/install -c -m 644 mecab.1 '/usr/local/share/man/man1'\n",
            "make[2]: Leaving directory '/tmp/mecab-0.996-ko-0.9.2/man'\n",
            "make[1]: Leaving directory '/tmp/mecab-0.996-ko-0.9.2/man'\n",
            "Making install in doc\n",
            "make[1]: Entering directory '/tmp/mecab-0.996-ko-0.9.2/doc'\n",
            "make[2]: Entering directory '/tmp/mecab-0.996-ko-0.9.2/doc'\n",
            "make[2]: Nothing to be done for 'install-exec-am'.\n",
            "make[2]: Nothing to be done for 'install-data-am'.\n",
            "make[2]: Leaving directory '/tmp/mecab-0.996-ko-0.9.2/doc'\n",
            "make[1]: Leaving directory '/tmp/mecab-0.996-ko-0.9.2/doc'\n",
            "Making install in tests\n",
            "make[1]: Entering directory '/tmp/mecab-0.996-ko-0.9.2/tests'\n",
            "make[2]: Entering directory '/tmp/mecab-0.996-ko-0.9.2/tests'\n",
            "make[2]: Nothing to be done for 'install-exec-am'.\n",
            "make[2]: Nothing to be done for 'install-data-am'.\n",
            "make[2]: Leaving directory '/tmp/mecab-0.996-ko-0.9.2/tests'\n",
            "make[1]: Leaving directory '/tmp/mecab-0.996-ko-0.9.2/tests'\n",
            "make[1]: Entering directory '/tmp/mecab-0.996-ko-0.9.2'\n",
            "make[2]: Entering directory '/tmp/mecab-0.996-ko-0.9.2'\n",
            "test -z \"/usr/local/bin\" || /bin/mkdir -p \"/usr/local/bin\"\n",
            " /usr/bin/install -c mecab-config '/usr/local/bin'\n",
            "test -z \"/usr/local/etc\" || /bin/mkdir -p \"/usr/local/etc\"\n",
            " /usr/bin/install -c -m 644 mecabrc '/usr/local/etc'\n",
            "make[2]: Leaving directory '/tmp/mecab-0.996-ko-0.9.2'\n",
            "make[1]: Leaving directory '/tmp/mecab-0.996-ko-0.9.2'\n",
            "Install mecab-ko-dic\n",
            "Install mecab-ko-dic\n",
            "  % Total    % Received % Xferd  Average Speed   Time    Time     Time  Current\n",
            "                                 Dload  Upload   Total   Spent    Left  Speed\n",
            "  0     0    0     0    0     0      0      0 --:--:-- --:--:-- --:--:--     0\n",
            "100 47.4M  100 47.4M    0     0  8701k      0  0:00:05  0:00:05 --:--:-- 10.8M\n",
            "mecab-ko-dic-2.1.1-20180720/\n",
            "mecab-ko-dic-2.1.1-20180720/configure\n",
            "mecab-ko-dic-2.1.1-20180720/COPYING\n",
            "mecab-ko-dic-2.1.1-20180720/autogen.sh\n",
            "mecab-ko-dic-2.1.1-20180720/Place-station.csv\n",
            "mecab-ko-dic-2.1.1-20180720/NNG.csv\n",
            "mecab-ko-dic-2.1.1-20180720/README\n",
            "mecab-ko-dic-2.1.1-20180720/EF.csv\n",
            "mecab-ko-dic-2.1.1-20180720/MAG.csv\n",
            "mecab-ko-dic-2.1.1-20180720/Preanalysis.csv\n",
            "mecab-ko-dic-2.1.1-20180720/NNB.csv\n",
            "mecab-ko-dic-2.1.1-20180720/Person-actor.csv\n",
            "mecab-ko-dic-2.1.1-20180720/VV.csv\n",
            "mecab-ko-dic-2.1.1-20180720/Makefile.in\n",
            "mecab-ko-dic-2.1.1-20180720/matrix.def\n",
            "mecab-ko-dic-2.1.1-20180720/EC.csv\n",
            "mecab-ko-dic-2.1.1-20180720/NNBC.csv\n",
            "mecab-ko-dic-2.1.1-20180720/clean\n",
            "mecab-ko-dic-2.1.1-20180720/ChangeLog\n",
            "mecab-ko-dic-2.1.1-20180720/J.csv\n",
            "mecab-ko-dic-2.1.1-20180720/.keep\n",
            "mecab-ko-dic-2.1.1-20180720/feature.def\n",
            "mecab-ko-dic-2.1.1-20180720/Foreign.csv\n",
            "mecab-ko-dic-2.1.1-20180720/XPN.csv\n",
            "mecab-ko-dic-2.1.1-20180720/EP.csv\n",
            "mecab-ko-dic-2.1.1-20180720/NR.csv\n",
            "mecab-ko-dic-2.1.1-20180720/left-id.def\n",
            "mecab-ko-dic-2.1.1-20180720/Place.csv\n",
            "mecab-ko-dic-2.1.1-20180720/Symbol.csv\n",
            "mecab-ko-dic-2.1.1-20180720/dicrc\n",
            "mecab-ko-dic-2.1.1-20180720/NP.csv\n",
            "mecab-ko-dic-2.1.1-20180720/ETM.csv\n",
            "mecab-ko-dic-2.1.1-20180720/IC.csv\n",
            "mecab-ko-dic-2.1.1-20180720/Place-address.csv\n",
            "mecab-ko-dic-2.1.1-20180720/Group.csv\n",
            "mecab-ko-dic-2.1.1-20180720/model.def\n",
            "mecab-ko-dic-2.1.1-20180720/XSN.csv\n",
            "mecab-ko-dic-2.1.1-20180720/INSTALL\n",
            "mecab-ko-dic-2.1.1-20180720/rewrite.def\n",
            "mecab-ko-dic-2.1.1-20180720/Inflect.csv\n",
            "mecab-ko-dic-2.1.1-20180720/configure.ac\n",
            "mecab-ko-dic-2.1.1-20180720/NNP.csv\n",
            "mecab-ko-dic-2.1.1-20180720/CoinedWord.csv\n",
            "mecab-ko-dic-2.1.1-20180720/XSV.csv\n",
            "mecab-ko-dic-2.1.1-20180720/pos-id.def\n",
            "mecab-ko-dic-2.1.1-20180720/Makefile.am\n",
            "mecab-ko-dic-2.1.1-20180720/unk.def\n",
            "mecab-ko-dic-2.1.1-20180720/missing\n",
            "mecab-ko-dic-2.1.1-20180720/VCP.csv\n",
            "mecab-ko-dic-2.1.1-20180720/install-sh\n",
            "mecab-ko-dic-2.1.1-20180720/Hanja.csv\n",
            "mecab-ko-dic-2.1.1-20180720/MAJ.csv\n",
            "mecab-ko-dic-2.1.1-20180720/XSA.csv\n",
            "mecab-ko-dic-2.1.1-20180720/Wikipedia.csv\n",
            "mecab-ko-dic-2.1.1-20180720/tools/\n",
            "mecab-ko-dic-2.1.1-20180720/tools/add-userdic.sh\n",
            "mecab-ko-dic-2.1.1-20180720/tools/mecab-bestn.sh\n",
            "mecab-ko-dic-2.1.1-20180720/tools/convert_for_using_store.sh\n",
            "mecab-ko-dic-2.1.1-20180720/user-dic/\n",
            "mecab-ko-dic-2.1.1-20180720/user-dic/nnp.csv\n",
            "mecab-ko-dic-2.1.1-20180720/user-dic/place.csv\n",
            "mecab-ko-dic-2.1.1-20180720/user-dic/person.csv\n",
            "mecab-ko-dic-2.1.1-20180720/user-dic/README.md\n",
            "mecab-ko-dic-2.1.1-20180720/NorthKorea.csv\n",
            "mecab-ko-dic-2.1.1-20180720/VX.csv\n",
            "mecab-ko-dic-2.1.1-20180720/right-id.def\n",
            "mecab-ko-dic-2.1.1-20180720/VA.csv\n",
            "mecab-ko-dic-2.1.1-20180720/char.def\n",
            "mecab-ko-dic-2.1.1-20180720/NEWS\n",
            "mecab-ko-dic-2.1.1-20180720/MM.csv\n",
            "mecab-ko-dic-2.1.1-20180720/ETN.csv\n",
            "mecab-ko-dic-2.1.1-20180720/AUTHORS\n",
            "mecab-ko-dic-2.1.1-20180720/Person.csv\n",
            "mecab-ko-dic-2.1.1-20180720/XR.csv\n",
            "mecab-ko-dic-2.1.1-20180720/VCN.csv\n",
            "Looking in current directory for macros.\n",
            "configure.ac:2: warning: AM_INIT_AUTOMAKE: two- and three-arguments forms are deprecated.  For more info, see:\n",
            "configure.ac:2: http://www.gnu.org/software/automake/manual/automake.html#Modernize-AM_005fINIT_005fAUTOMAKE-invocation\n",
            "checking for a BSD-compatible install... /usr/bin/install -c\n",
            "checking whether build environment is sane... yes\n",
            "/tmp/mecab-ko-dic-2.1.1-20180720/missing: Unknown `--is-lightweight' option\n",
            "Try `/tmp/mecab-ko-dic-2.1.1-20180720/missing --help' for more information\n",
            "configure: WARNING: 'missing' script is too old or missing\n",
            "checking for a thread-safe mkdir -p... /bin/mkdir -p\n",
            "checking for gawk... no\n",
            "checking for mawk... mawk\n",
            "checking whether make sets $(MAKE)... yes\n",
            "checking whether make supports nested variables... yes\n",
            "checking for mecab-config... /usr/local/bin/mecab-config\n",
            "checking that generated files are newer than configure... done\n",
            "configure: creating ./config.status\n",
            "config.status: creating Makefile\n",
            "/usr/local/lib\n",
            "/sbin/ldconfig.real: /usr/local/lib/python3.6/dist-packages/ideep4py/lib/libmkldnn.so.0 is not a symbolic link\n",
            "\n",
            "/usr/local/libexec/mecab/mecab-dict-index -d . -o . -f UTF-8 -t UTF-8\n",
            "reading ./unk.def ... 13\n",
            "emitting double-array: 100% |###########################################| \n",
            "reading ./Place-address.csv ... 19301\n",
            "reading ./IC.csv ... 1305\n",
            "reading ./CoinedWord.csv ... 148\n",
            "reading ./NP.csv ... 342\n",
            "reading ./VCP.csv ... 9\n",
            "reading ./NNBC.csv ... 677\n",
            "reading ./XSV.csv ... 23\n",
            "reading ./MAJ.csv ... 240\n",
            "reading ./NNP.csv ... 2371\n",
            "reading ./Inflect.csv ... 44820\n",
            "reading ./MAG.csv ... 14242\n",
            "reading ./J.csv ... 416\n",
            "reading ./EP.csv ... 51\n",
            "reading ./ETM.csv ... 133\n",
            "reading ./XR.csv ... 3637\n",
            "reading ./NorthKorea.csv ... 3\n",
            "reading ./NNG.csv ... 208524\n",
            "reading ./Hanja.csv ... 125750\n",
            "reading ./Preanalysis.csv ... 5\n",
            "reading ./Person.csv ... 196459\n",
            "reading ./Symbol.csv ... 16\n",
            "reading ./XSN.csv ... 124\n",
            "reading ./NNB.csv ... 140\n",
            "reading ./VX.csv ... 125\n",
            "reading ./EC.csv ... 2547\n",
            "reading ./Wikipedia.csv ... 36762\n",
            "reading ./VV.csv ... 7331\n",
            "reading ./Person-actor.csv ... 99230\n",
            "reading ./VCN.csv ... 7\n",
            "reading ./EF.csv ... 1820\n",
            "reading ./ETN.csv ... 14\n",
            "reading ./MM.csv ... 453\n",
            "reading ./XSA.csv ... 19\n",
            "reading ./VA.csv ... 2360\n",
            "reading ./Place-station.csv ... 1145\n",
            "reading ./NR.csv ... 482\n",
            "reading ./Group.csv ... 3176\n",
            "reading ./Place.csv ... 30303\n",
            "reading ./XPN.csv ... 83\n",
            "reading ./Foreign.csv ... 11690\n",
            "emitting double-array: 100% |###########################################| \n",
            "reading ./matrix.def ... 3822x2693\n",
            "emitting matrix      : 100% |###########################################| \n",
            "\n",
            "done!\n",
            "echo To enable dictionary, rewrite /usr/local/etc/mecabrc as \\\"dicdir = /usr/local/lib/mecab/dic/mecab-ko-dic\\\"\n",
            "To enable dictionary, rewrite /usr/local/etc/mecabrc as \"dicdir = /usr/local/lib/mecab/dic/mecab-ko-dic\"\n",
            "make[1]: Entering directory '/tmp/mecab-ko-dic-2.1.1-20180720'\n",
            "make[1]: Nothing to be done for 'install-exec-am'.\n",
            " /bin/mkdir -p '/usr/local/lib/mecab/dic/mecab-ko-dic'\n",
            " /usr/bin/install -c -m 644 model.bin matrix.bin char.bin sys.dic unk.dic left-id.def right-id.def rewrite.def pos-id.def dicrc '/usr/local/lib/mecab/dic/mecab-ko-dic'\n",
            "make[1]: Leaving directory '/tmp/mecab-ko-dic-2.1.1-20180720'\n",
            "Install mecab-python\n",
            "/tmp /tmp/mecab-ko-dic-2.1.1-20180720\n",
            "Cloning into 'mecab-python-0.996'...\n",
            "remote: Counting objects: 17, done.\u001b[K\n",
            "remote: Compressing objects: 100% (16/16), done.\u001b[K\n",
            "remote: Total 17 (delta 3), reused 0 (delta 0)\u001b[K\n",
            "Unpacking objects: 100% (17/17), done.\n",
            "/tmp/mecab-ko-dic-2.1.1-20180720\n",
            "Processing /tmp/mecab-python-0.996\n",
            "Building wheels for collected packages: mecab-python\n",
            "  Building wheel for mecab-python (setup.py) ... \u001b[?25l\u001b[?25hdone\n",
            "  Created wheel for mecab-python: filename=mecab_python-0.996_ko_0.9.2-cp36-cp36m-linux_x86_64.whl size=140573 sha256=f0e348fa81b2ccced6db215ab69448648b5b39aa46243b8f46e572f7239e541d\n",
            "  Stored in directory: /root/.cache/pip/wheels/99/75/a6/e9e73a1dbd73579383644942ef18a6d17ad728a3052a1147fb\n",
            "Successfully built mecab-python\n",
            "Installing collected packages: mecab-python\n",
            "Successfully installed mecab-python-0.996-ko-0.9.2\n",
            "Done.\n"
          ],
          "name": "stdout"
        }
      ]
    },
    {
      "cell_type": "code",
      "metadata": {
        "id": "q6Z4jnat1Nkv",
        "outputId": "19a2cab8-1866-4b43-8dd4-928de61a0724",
        "colab": {
          "base_uri": "https://localhost:8080/",
          "height": 1000
        }
      },
      "source": [
        "import os\n",
        "os.chdir('/tmp/')\n",
        "!curl -LO https://bitbucket.org/eunjeon/mecab-ko/downloads/mecab-0.996-ko-0.9.1.tar.gz\n",
        "!tar zxfv mecab-0.996-ko-0.9.1.tar.gz\n",
        "os.chdir('/tmp/mecab-0.996-ko-0.9.1')\n",
        "!./configure\n",
        "!make\n",
        "!make check\n",
        "!make install"
      ],
      "execution_count": null,
      "outputs": [
        {
          "output_type": "stream",
          "text": [
            "  % Total    % Received % Xferd  Average Speed   Time    Time     Time  Current\n",
            "                                 Dload  Upload   Total   Spent    Left  Speed\n",
            "  0     0    0     0    0     0      0      0 --:--:-- --:--:-- --:--:--     0\n",
            "100 1380k  100 1380k    0     0   503k      0  0:00:02  0:00:02 --:--:-- 1250k\n",
            "mecab-0.996-ko-0.9.1/\n",
            "mecab-0.996-ko-0.9.1/config.h.in\n",
            "mecab-0.996-ko-0.9.1/Makefile.train\n",
            "mecab-0.996-ko-0.9.1/ChangeLog\n",
            "mecab-0.996-ko-0.9.1/configure\n",
            "mecab-0.996-ko-0.9.1/swig/\n",
            "mecab-0.996-ko-0.9.1/swig/version.h.in\n",
            "mecab-0.996-ko-0.9.1/swig/Makefile\n",
            "mecab-0.996-ko-0.9.1/swig/version.h\n",
            "mecab-0.996-ko-0.9.1/swig/MeCab.i\n",
            "mecab-0.996-ko-0.9.1/mkinstalldirs\n",
            "mecab-0.996-ko-0.9.1/mecab-config.in\n",
            "mecab-0.996-ko-0.9.1/configure.in\n",
            "mecab-0.996-ko-0.9.1/mecab.iss.in\n",
            "mecab-0.996-ko-0.9.1/aclocal.m4\n",
            "mecab-0.996-ko-0.9.1/mecabrc.in\n",
            "mecab-0.996-ko-0.9.1/INSTALL\n",
            "mecab-0.996-ko-0.9.1/AUTHORS\n",
            "mecab-0.996-ko-0.9.1/example/\n",
            "mecab-0.996-ko-0.9.1/example/example_lattice.c\n",
            "mecab-0.996-ko-0.9.1/example/example.cpp\n",
            "mecab-0.996-ko-0.9.1/example/example_lattice.cpp\n",
            "mecab-0.996-ko-0.9.1/example/example.c\n",
            "mecab-0.996-ko-0.9.1/example/thread_test.cpp\n",
            "mecab-0.996-ko-0.9.1/BSD\n",
            "mecab-0.996-ko-0.9.1/README\n",
            "mecab-0.996-ko-0.9.1/install-sh\n",
            "mecab-0.996-ko-0.9.1/README.md\n",
            "mecab-0.996-ko-0.9.1/CHANGES.md\n",
            "mecab-0.996-ko-0.9.1/missing\n",
            "mecab-0.996-ko-0.9.1/GPL\n",
            "mecab-0.996-ko-0.9.1/man/\n",
            "mecab-0.996-ko-0.9.1/man/mecab.1\n",
            "mecab-0.996-ko-0.9.1/man/Makefile.in\n",
            "mecab-0.996-ko-0.9.1/man/Makefile.am\n",
            "mecab-0.996-ko-0.9.1/config.rpath\n",
            "mecab-0.996-ko-0.9.1/doc/\n",
            "mecab-0.996-ko-0.9.1/doc/feature.html\n",
            "mecab-0.996-ko-0.9.1/doc/mecab.css\n",
            "mecab-0.996-ko-0.9.1/doc/doxygen/\n",
            "mecab-0.996-ko-0.9.1/doc/doxygen/namespacemembers.html\n",
            "mecab-0.996-ko-0.9.1/doc/doxygen/structmecab__node__t.html\n",
            "mecab-0.996-ko-0.9.1/doc/doxygen/doxygen.png\n",
            "mecab-0.996-ko-0.9.1/doc/doxygen/classMeCab_1_1Lattice.html\n",
            "mecab-0.996-ko-0.9.1/doc/doxygen/tabs.css\n",
            "mecab-0.996-ko-0.9.1/doc/doxygen/tab_b.gif\n",
            "mecab-0.996-ko-0.9.1/doc/doxygen/namespaces.html\n",
            "mecab-0.996-ko-0.9.1/doc/doxygen/structmecab__dictionary__info__t-members.html\n",
            "mecab-0.996-ko-0.9.1/doc/doxygen/classes.html\n",
            "mecab-0.996-ko-0.9.1/doc/doxygen/tab_s.png\n",
            "mecab-0.996-ko-0.9.1/doc/doxygen/tab_b.png\n",
            "mecab-0.996-ko-0.9.1/doc/doxygen/namespacemembers_type.html\n",
            "mecab-0.996-ko-0.9.1/doc/doxygen/classMeCab_1_1Tagger-members.html\n",
            "mecab-0.996-ko-0.9.1/doc/doxygen/bc_s.png\n",
            "mecab-0.996-ko-0.9.1/doc/doxygen/globals_func.html\n",
            "mecab-0.996-ko-0.9.1/doc/doxygen/open.png\n",
            "mecab-0.996-ko-0.9.1/doc/doxygen/tab_h.png\n",
            "mecab-0.996-ko-0.9.1/doc/doxygen/globals_eval.html\n",
            "mecab-0.996-ko-0.9.1/doc/doxygen/structmecab__path__t.html\n",
            "mecab-0.996-ko-0.9.1/doc/doxygen/classMeCab_1_1Tagger.html\n",
            "mecab-0.996-ko-0.9.1/doc/doxygen/doxygen.css\n",
            "mecab-0.996-ko-0.9.1/doc/doxygen/namespacemembers_func.html\n",
            "mecab-0.996-ko-0.9.1/doc/doxygen/structmecab__path__t-members.html\n",
            "mecab-0.996-ko-0.9.1/doc/doxygen/tab_l.gif\n",
            "mecab-0.996-ko-0.9.1/doc/doxygen/files.html\n",
            "mecab-0.996-ko-0.9.1/doc/doxygen/functions.html\n",
            "mecab-0.996-ko-0.9.1/doc/doxygen/tab_a.png\n",
            "mecab-0.996-ko-0.9.1/doc/doxygen/mecab_8h_source.html\n",
            "mecab-0.996-ko-0.9.1/doc/doxygen/globals_defs.html\n",
            "mecab-0.996-ko-0.9.1/doc/doxygen/nav_h.png\n",
            "mecab-0.996-ko-0.9.1/doc/doxygen/functions_vars.html\n",
            "mecab-0.996-ko-0.9.1/doc/doxygen/structmecab__dictionary__info__t.html\n",
            "mecab-0.996-ko-0.9.1/doc/doxygen/mecab_8h.html\n",
            "mecab-0.996-ko-0.9.1/doc/doxygen/nav_f.png\n",
            "mecab-0.996-ko-0.9.1/doc/doxygen/globals.html\n",
            "mecab-0.996-ko-0.9.1/doc/doxygen/structmecab__node__t-members.html\n",
            "mecab-0.996-ko-0.9.1/doc/doxygen/tab_r.gif\n",
            "mecab-0.996-ko-0.9.1/doc/doxygen/mecab_8h-source.html\n",
            "mecab-0.996-ko-0.9.1/doc/doxygen/classMeCab_1_1Model.html\n",
            "mecab-0.996-ko-0.9.1/doc/doxygen/classMeCab_1_1Model-members.html\n",
            "mecab-0.996-ko-0.9.1/doc/doxygen/globals_type.html\n",
            "mecab-0.996-ko-0.9.1/doc/doxygen/namespaceMeCab.html\n",
            "mecab-0.996-ko-0.9.1/doc/doxygen/annotated.html\n",
            "mecab-0.996-ko-0.9.1/doc/doxygen/classMeCab_1_1Lattice-members.html\n",
            "mecab-0.996-ko-0.9.1/doc/doxygen/functions_func.html\n",
            "mecab-0.996-ko-0.9.1/doc/doxygen/closed.png\n",
            "mecab-0.996-ko-0.9.1/doc/doxygen/index.html\n",
            "mecab-0.996-ko-0.9.1/doc/learn.html\n",
            "mecab-0.996-ko-0.9.1/doc/dic.html\n",
            "mecab-0.996-ko-0.9.1/doc/libmecab.html\n",
            "mecab-0.996-ko-0.9.1/doc/dic-detail.html\n",
            "mecab-0.996-ko-0.9.1/doc/unk.html\n",
            "mecab-0.996-ko-0.9.1/doc/bindings.html\n",
            "mecab-0.996-ko-0.9.1/doc/result.png\n",
            "mecab-0.996-ko-0.9.1/doc/flow.png\n",
            "mecab-0.996-ko-0.9.1/doc/Makefile.in\n",
            "mecab-0.996-ko-0.9.1/doc/feature.png\n",
            "mecab-0.996-ko-0.9.1/doc/partial.html\n",
            "mecab-0.996-ko-0.9.1/doc/posid.html\n",
            "mecab-0.996-ko-0.9.1/doc/en/\n",
            "mecab-0.996-ko-0.9.1/doc/en/bindings.html\n",
            "mecab-0.996-ko-0.9.1/doc/Makefile.am\n",
            "mecab-0.996-ko-0.9.1/doc/mecab.html\n",
            "mecab-0.996-ko-0.9.1/doc/index.html\n",
            "mecab-0.996-ko-0.9.1/doc/format.html\n",
            "mecab-0.996-ko-0.9.1/doc/soft.html\n",
            "mecab-0.996-ko-0.9.1/LGPL\n",
            "mecab-0.996-ko-0.9.1/ltmain.sh\n",
            "mecab-0.996-ko-0.9.1/Makefile.in\n",
            "mecab-0.996-ko-0.9.1/COPYING\n",
            "mecab-0.996-ko-0.9.1/Makefile.am\n",
            "mecab-0.996-ko-0.9.1/config.guess\n",
            "mecab-0.996-ko-0.9.1/src/\n",
            "mecab-0.996-ko-0.9.1/src/connector.cpp\n",
            "mecab-0.996-ko-0.9.1/src/param.h\n",
            "mecab-0.996-ko-0.9.1/src/darts.h\n",
            "mecab-0.996-ko-0.9.1/src/lbfgs.h\n",
            "mecab-0.996-ko-0.9.1/src/param.cpp\n",
            "mecab-0.996-ko-0.9.1/src/connector.h\n",
            "mecab-0.996-ko-0.9.1/src/learner_tagger.h\n",
            "mecab-0.996-ko-0.9.1/src/nbest_generator.cpp\n",
            "mecab-0.996-ko-0.9.1/src/ucs.h\n",
            "mecab-0.996-ko-0.9.1/src/nbest_generator.h\n",
            "mecab-0.996-ko-0.9.1/src/string_buffer.cpp\n",
            "mecab-0.996-ko-0.9.1/src/context_id.h\n",
            "mecab-0.996-ko-0.9.1/src/viterbi.h\n",
            "mecab-0.996-ko-0.9.1/src/mecab-system-eval.cpp\n",
            "mecab-0.996-ko-0.9.1/src/dictionary_compiler.cpp\n",
            "mecab-0.996-ko-0.9.1/src/eval.cpp\n",
            "mecab-0.996-ko-0.9.1/src/mecab-cost-train.cpp\n",
            "mecab-0.996-ko-0.9.1/src/iconv_utils.h\n",
            "mecab-0.996-ko-0.9.1/src/common.h\n",
            "mecab-0.996-ko-0.9.1/src/char_property.h\n",
            "mecab-0.996-ko-0.9.1/src/learner_node.h\n",
            "mecab-0.996-ko-0.9.1/src/ucstable.h\n",
            "mecab-0.996-ko-0.9.1/src/context_id.cpp\n",
            "mecab-0.996-ko-0.9.1/src/writer.cpp\n",
            "mecab-0.996-ko-0.9.1/src/libmecab.cpp\n",
            "mecab-0.996-ko-0.9.1/src/tokenizer.h\n",
            "mecab-0.996-ko-0.9.1/src/utils.h\n",
            "mecab-0.996-ko-0.9.1/src/tagger.cpp\n",
            "mecab-0.996-ko-0.9.1/src/tokenizer.cpp\n",
            "mecab-0.996-ko-0.9.1/src/dictionary.h\n",
            "mecab-0.996-ko-0.9.1/src/feature_index.cpp\n",
            "mecab-0.996-ko-0.9.1/src/mecab.h\n",
            "mecab-0.996-ko-0.9.1/src/feature_index.h\n",
            "mecab-0.996-ko-0.9.1/src/dictionary_rewriter.h\n",
            "mecab-0.996-ko-0.9.1/src/dictionary_rewriter.cpp\n",
            "mecab-0.996-ko-0.9.1/src/mecab-test-gen.cpp\n",
            "mecab-0.996-ko-0.9.1/src/viterbi.cpp\n",
            "mecab-0.996-ko-0.9.1/src/mmap.h\n",
            "mecab-0.996-ko-0.9.1/src/mecab.cpp\n",
            "mecab-0.996-ko-0.9.1/src/make.bat\n",
            "mecab-0.996-ko-0.9.1/src/utils.cpp\n",
            "mecab-0.996-ko-0.9.1/src/dictionary.cpp\n",
            "mecab-0.996-ko-0.9.1/src/mecab-dict-gen.cpp\n",
            "mecab-0.996-ko-0.9.1/src/freelist.h\n",
            "mecab-0.996-ko-0.9.1/src/learner_tagger.cpp\n",
            "mecab-0.996-ko-0.9.1/src/Makefile.in\n",
            "mecab-0.996-ko-0.9.1/src/thread.h\n",
            "mecab-0.996-ko-0.9.1/src/dictionary_generator.cpp\n",
            "mecab-0.996-ko-0.9.1/src/scoped_ptr.h\n",
            "mecab-0.996-ko-0.9.1/src/writer.h\n",
            "mecab-0.996-ko-0.9.1/src/lbfgs.cpp\n",
            "mecab-0.996-ko-0.9.1/src/string_buffer.h\n",
            "mecab-0.996-ko-0.9.1/src/stream_wrapper.h\n",
            "mecab-0.996-ko-0.9.1/src/winmain.h\n",
            "mecab-0.996-ko-0.9.1/src/Makefile.am\n",
            "mecab-0.996-ko-0.9.1/src/learner.cpp\n",
            "mecab-0.996-ko-0.9.1/src/char_property.cpp\n",
            "mecab-0.996-ko-0.9.1/src/iconv_utils.cpp\n",
            "mecab-0.996-ko-0.9.1/src/mecab-dict-index.cpp\n",
            "mecab-0.996-ko-0.9.1/src/Makefile.msvc.in\n",
            "mecab-0.996-ko-0.9.1/config.sub\n",
            "mecab-0.996-ko-0.9.1/tests/\n",
            "mecab-0.996-ko-0.9.1/tests/t9/\n",
            "mecab-0.996-ko-0.9.1/tests/t9/dic.csv\n",
            "mecab-0.996-ko-0.9.1/tests/t9/dicrc\n",
            "mecab-0.996-ko-0.9.1/tests/t9/test.gld\n",
            "mecab-0.996-ko-0.9.1/tests/t9/test\n",
            "mecab-0.996-ko-0.9.1/tests/t9/mkdic.pl\n",
            "mecab-0.996-ko-0.9.1/tests/t9/matrix.def\n",
            "mecab-0.996-ko-0.9.1/tests/t9/unk.def\n",
            "mecab-0.996-ko-0.9.1/tests/t9/char.def\n",
            "mecab-0.996-ko-0.9.1/tests/t9/ipadic.pl\n",
            "mecab-0.996-ko-0.9.1/tests/cost-train/\n",
            "mecab-0.996-ko-0.9.1/tests/cost-train/ipa.train\n",
            "mecab-0.996-ko-0.9.1/tests/cost-train/ipa.test\n",
            "mecab-0.996-ko-0.9.1/tests/cost-train/seed/\n",
            "mecab-0.996-ko-0.9.1/tests/cost-train/seed/dic.csv\n",
            "mecab-0.996-ko-0.9.1/tests/cost-train/seed/dicrc\n",
            "mecab-0.996-ko-0.9.1/tests/cost-train/seed/rewrite.def\n",
            "mecab-0.996-ko-0.9.1/tests/cost-train/seed/matrix.def\n",
            "mecab-0.996-ko-0.9.1/tests/cost-train/seed/feature.def\n",
            "mecab-0.996-ko-0.9.1/tests/cost-train/seed/unk.def\n",
            "mecab-0.996-ko-0.9.1/tests/cost-train/seed/char.def\n",
            "mecab-0.996-ko-0.9.1/tests/eval/\n",
            "mecab-0.996-ko-0.9.1/tests/eval/test.gld\n",
            "mecab-0.996-ko-0.9.1/tests/eval/answer\n",
            "mecab-0.996-ko-0.9.1/tests/eval/system\n",
            "mecab-0.996-ko-0.9.1/tests/ngram/\n",
            "mecab-0.996-ko-0.9.1/tests/ngram/dic.csv\n",
            "mecab-0.996-ko-0.9.1/tests/ngram/dicrc\n",
            "mecab-0.996-ko-0.9.1/tests/ngram/test.gld\n",
            "mecab-0.996-ko-0.9.1/tests/ngram/test\n",
            "mecab-0.996-ko-0.9.1/tests/ngram/matrix.def\n",
            "mecab-0.996-ko-0.9.1/tests/ngram/unk.def\n",
            "mecab-0.996-ko-0.9.1/tests/ngram/char.def\n",
            "mecab-0.996-ko-0.9.1/tests/katakana/\n",
            "mecab-0.996-ko-0.9.1/tests/katakana/dic.csv\n",
            "mecab-0.996-ko-0.9.1/tests/katakana/dicrc\n",
            "mecab-0.996-ko-0.9.1/tests/katakana/test.gld\n",
            "mecab-0.996-ko-0.9.1/tests/katakana/test\n",
            "mecab-0.996-ko-0.9.1/tests/katakana/matrix.def\n",
            "mecab-0.996-ko-0.9.1/tests/katakana/unk.def\n",
            "mecab-0.996-ko-0.9.1/tests/katakana/char.def\n",
            "mecab-0.996-ko-0.9.1/tests/run-eval.sh\n",
            "mecab-0.996-ko-0.9.1/tests/run-dics.sh\n",
            "mecab-0.996-ko-0.9.1/tests/shiin/\n",
            "mecab-0.996-ko-0.9.1/tests/shiin/dic.csv\n",
            "mecab-0.996-ko-0.9.1/tests/shiin/dicrc\n",
            "mecab-0.996-ko-0.9.1/tests/shiin/test.gld\n",
            "mecab-0.996-ko-0.9.1/tests/shiin/test\n",
            "mecab-0.996-ko-0.9.1/tests/shiin/mkdic.pl\n",
            "mecab-0.996-ko-0.9.1/tests/shiin/matrix.def\n",
            "mecab-0.996-ko-0.9.1/tests/shiin/unk.def\n",
            "mecab-0.996-ko-0.9.1/tests/shiin/char.def\n",
            "mecab-0.996-ko-0.9.1/tests/autolink/\n",
            "mecab-0.996-ko-0.9.1/tests/autolink/dic.csv\n",
            "mecab-0.996-ko-0.9.1/tests/autolink/dicrc\n",
            "mecab-0.996-ko-0.9.1/tests/autolink/test.gld\n",
            "mecab-0.996-ko-0.9.1/tests/autolink/test\n",
            "mecab-0.996-ko-0.9.1/tests/autolink/matrix.def\n",
            "mecab-0.996-ko-0.9.1/tests/autolink/unk.def\n",
            "mecab-0.996-ko-0.9.1/tests/autolink/char.def\n",
            "mecab-0.996-ko-0.9.1/tests/run-cost-train.sh\n",
            "mecab-0.996-ko-0.9.1/tests/latin/\n",
            "mecab-0.996-ko-0.9.1/tests/latin/dic.csv\n",
            "mecab-0.996-ko-0.9.1/tests/latin/dicrc\n",
            "mecab-0.996-ko-0.9.1/tests/latin/test.gld\n",
            "mecab-0.996-ko-0.9.1/tests/latin/test\n",
            "mecab-0.996-ko-0.9.1/tests/latin/matrix.def\n",
            "mecab-0.996-ko-0.9.1/tests/latin/unk.def\n",
            "mecab-0.996-ko-0.9.1/tests/latin/char.def\n",
            "mecab-0.996-ko-0.9.1/tests/Makefile.in\n",
            "mecab-0.996-ko-0.9.1/tests/Makefile.am\n",
            "mecab-0.996-ko-0.9.1/tests/chartype/\n",
            "mecab-0.996-ko-0.9.1/tests/chartype/dic.csv\n",
            "mecab-0.996-ko-0.9.1/tests/chartype/dicrc\n",
            "mecab-0.996-ko-0.9.1/tests/chartype/test.gld\n",
            "mecab-0.996-ko-0.9.1/tests/chartype/test\n",
            "mecab-0.996-ko-0.9.1/tests/chartype/matrix.def\n",
            "mecab-0.996-ko-0.9.1/tests/chartype/unk.def\n",
            "mecab-0.996-ko-0.9.1/tests/chartype/char.def\n",
            "mecab-0.996-ko-0.9.1/NEWS\n",
            "checking for a BSD-compatible install... /usr/bin/install -c\n",
            "checking whether build environment is sane... yes\n",
            "checking for a thread-safe mkdir -p... /bin/mkdir -p\n",
            "checking for gawk... no\n",
            "checking for mawk... mawk\n",
            "checking whether make sets $(MAKE)... yes\n",
            "checking for gcc... gcc\n",
            "checking whether the C compiler works... yes\n",
            "checking for C compiler default output file name... a.out\n",
            "checking for suffix of executables... \n",
            "checking whether we are cross compiling... no\n",
            "checking for suffix of object files... o\n",
            "checking whether we are using the GNU C compiler... yes\n",
            "checking whether gcc accepts -g... yes\n",
            "checking for gcc option to accept ISO C89... none needed\n",
            "checking for style of include used by make... GNU\n",
            "checking dependency style of gcc... none\n",
            "checking for g++... g++\n",
            "checking whether we are using the GNU C++ compiler... yes\n",
            "checking whether g++ accepts -g... yes\n",
            "checking dependency style of g++... none\n",
            "checking how to run the C preprocessor... gcc -E\n",
            "checking for grep that handles long lines and -e... /bin/grep\n",
            "checking for egrep... /bin/grep -E\n",
            "checking whether gcc needs -traditional... no\n",
            "checking whether make sets $(MAKE)... (cached) yes\n",
            "checking build system type... x86_64-unknown-linux-gnu\n",
            "checking host system type... x86_64-unknown-linux-gnu\n",
            "checking how to print strings... printf\n",
            "checking for a sed that does not truncate output... /bin/sed\n",
            "checking for fgrep... /bin/grep -F\n",
            "checking for ld used by gcc... /usr/bin/ld\n",
            "checking if the linker (/usr/bin/ld) is GNU ld... yes\n",
            "checking for BSD- or MS-compatible name lister (nm)... /usr/bin/nm -B\n",
            "checking the name lister (/usr/bin/nm -B) interface... BSD nm\n",
            "checking whether ln -s works... yes\n",
            "checking the maximum length of command line arguments... 1572864\n",
            "checking whether the shell understands some XSI constructs... yes\n",
            "checking whether the shell understands \"+=\"... yes\n",
            "checking how to convert x86_64-unknown-linux-gnu file names to x86_64-unknown-linux-gnu format... func_convert_file_noop\n",
            "checking how to convert x86_64-unknown-linux-gnu file names to toolchain format... func_convert_file_noop\n",
            "checking for /usr/bin/ld option to reload object files... -r\n",
            "checking for objdump... objdump\n",
            "checking how to recognize dependent libraries... pass_all\n",
            "checking for dlltool... dlltool\n",
            "checking how to associate runtime and link libraries... printf %s\\n\n",
            "checking for ar... ar\n",
            "checking for archiver @FILE support... @\n",
            "checking for strip... strip\n",
            "checking for ranlib... ranlib\n",
            "checking command to parse /usr/bin/nm -B output from gcc object... ok\n",
            "checking for sysroot... no\n",
            "./configure: line 7378: /usr/bin/file: No such file or directory\n",
            "checking for mt... no\n",
            "checking if : is a manifest tool... no\n",
            "checking for ANSI C header files... yes\n",
            "checking for sys/types.h... yes\n",
            "checking for sys/stat.h... yes\n",
            "checking for stdlib.h... yes\n",
            "checking for string.h... yes\n",
            "checking for memory.h... yes\n",
            "checking for strings.h... yes\n",
            "checking for inttypes.h... yes\n",
            "checking for stdint.h... yes\n",
            "checking for unistd.h... yes\n",
            "checking for dlfcn.h... yes\n",
            "checking for objdir... .libs\n",
            "checking if gcc supports -fno-rtti -fno-exceptions... no\n",
            "checking for gcc option to produce PIC... -fPIC -DPIC\n",
            "checking if gcc PIC flag -fPIC -DPIC works... yes\n",
            "checking if gcc static flag -static works... yes\n",
            "checking if gcc supports -c -o file.o... yes\n",
            "checking if gcc supports -c -o file.o... (cached) yes\n",
            "checking whether the gcc linker (/usr/bin/ld) supports shared libraries... yes\n",
            "checking whether -lc should be explicitly linked in... no\n",
            "checking dynamic linker characteristics... GNU/Linux ld.so\n",
            "checking how to hardcode library paths into programs... immediate\n",
            "checking whether stripping libraries is possible... yes\n",
            "checking if libtool supports shared libraries... yes\n",
            "checking whether to build shared libraries... yes\n",
            "checking whether to build static libraries... yes\n",
            "checking how to run the C++ preprocessor... g++ -E\n",
            "checking for ld used by g++... /usr/bin/ld\n",
            "checking if the linker (/usr/bin/ld) is GNU ld... yes\n",
            "checking whether the g++ linker (/usr/bin/ld) supports shared libraries... yes\n",
            "checking for g++ option to produce PIC... -fPIC -DPIC\n",
            "checking if g++ PIC flag -fPIC -DPIC works... yes\n",
            "checking if g++ static flag -static works... yes\n",
            "checking if g++ supports -c -o file.o... yes\n",
            "checking if g++ supports -c -o file.o... (cached) yes\n",
            "checking whether the g++ linker (/usr/bin/ld) supports shared libraries... yes\n",
            "checking dynamic linker characteristics... (cached) GNU/Linux ld.so\n",
            "checking how to hardcode library paths into programs... immediate\n",
            "checking for library containing strerror... none required\n",
            "checking whether byte ordering is bigendian... no\n",
            "checking for ld used by GCC... /usr/bin/ld\n",
            "checking if the linker (/usr/bin/ld) is GNU ld... yes\n",
            "checking for shared library run path origin... done\n",
            "checking for iconv... yes\n",
            "checking for working iconv... yes\n",
            "checking for iconv declaration... \n",
            "         extern size_t iconv (iconv_t cd, char * *inbuf, size_t *inbytesleft, char * *outbuf, size_t *outbytesleft);\n",
            "checking for ANSI C header files... (cached) yes\n",
            "checking for an ANSI C-conforming const... yes\n",
            "checking whether byte ordering is bigendian... (cached) no\n",
            "checking for string.h... (cached) yes\n",
            "checking for stdlib.h... (cached) yes\n",
            "checking for unistd.h... (cached) yes\n",
            "checking fcntl.h usability... yes\n",
            "checking fcntl.h presence... yes\n",
            "checking for fcntl.h... yes\n",
            "checking for stdint.h... (cached) yes\n",
            "checking for sys/stat.h... (cached) yes\n",
            "checking sys/mman.h usability... yes\n",
            "checking sys/mman.h presence... yes\n",
            "checking for sys/mman.h... yes\n",
            "checking sys/times.h usability... yes\n",
            "checking sys/times.h presence... yes\n",
            "checking for sys/times.h... yes\n",
            "checking for sys/types.h... (cached) yes\n",
            "checking dirent.h usability... yes\n",
            "checking dirent.h presence... yes\n",
            "checking for dirent.h... yes\n",
            "checking ctype.h usability... yes\n",
            "checking ctype.h presence... yes\n",
            "checking for ctype.h... yes\n",
            "checking for sys/types.h... (cached) yes\n",
            "checking io.h usability... no\n",
            "checking io.h presence... no\n",
            "checking for io.h... no\n",
            "checking windows.h usability... no\n",
            "checking windows.h presence... no\n",
            "checking for windows.h... no\n",
            "checking pthread.h usability... yes\n",
            "checking pthread.h presence... yes\n",
            "checking for pthread.h... yes\n",
            "checking for off_t... yes\n",
            "checking for size_t... yes\n",
            "checking size of char... 1\n",
            "checking size of short... 2\n",
            "checking size of int... 4\n",
            "checking size of long... 8\n",
            "checking size of long long... 8\n",
            "checking size of size_t... 8\n",
            "checking for size_t... (cached) yes\n",
            "checking for unsigned long long int... yes\n",
            "checking for stdlib.h... (cached) yes\n",
            "checking for unistd.h... (cached) yes\n",
            "checking for sys/param.h... yes\n",
            "checking for getpagesize... yes\n",
            "checking for working mmap... yes\n",
            "checking for main in -lstdc++... yes\n",
            "checking for pthread_create in -lpthread... yes\n",
            "checking for pthread_join in -lpthread... yes\n",
            "checking for getenv... yes\n",
            "checking for opendir... yes\n",
            "checking whether make is GNU Make... yes\n",
            "checking if g++ supports stl <vector> (required)... yes\n",
            "checking if g++ supports stl <list> (required)... yes\n",
            "checking if g++ supports stl <map> (required)... yes\n",
            "checking if g++ supports stl <set> (required)... yes\n",
            "checking if g++ supports stl <queue> (required)... yes\n",
            "checking if g++ supports stl <functional> (required)... yes\n",
            "checking if g++ supports stl <algorithm> (required)... yes\n",
            "checking if g++ supports stl <string> (required)... yes\n",
            "checking if g++ supports stl <iostream> (required)... yes\n",
            "checking if g++ supports stl <sstream> (required)... yes\n",
            "checking if g++ supports stl <fstream> (required)... yes\n",
            "checking if g++ supports template <class T> (required)... yes\n",
            "checking if g++ supports const_cast<> (required)... yes\n",
            "checking if g++ supports static_cast<> (required)... yes\n",
            "checking if g++ supports reinterpret_cast<> (required)... yes\n",
            "checking if g++ supports namespaces (required) ... yes\n",
            "checking if g++ supports __thread (optional)... yes\n",
            "checking if g++ supports template <class T> (required)... yes\n",
            "checking if g++ supports GCC native atomic operations (optional)... yes\n",
            "checking if g++ supports OSX native atomic operations (optional)... no\n",
            "checking if g++ environment provides all required features... yes\n",
            "configure: creating ./config.status\n",
            "config.status: creating Makefile\n",
            "config.status: creating src/Makefile\n",
            "config.status: creating src/Makefile.msvc\n",
            "config.status: creating man/Makefile\n",
            "config.status: creating doc/Makefile\n",
            "config.status: creating tests/Makefile\n",
            "config.status: creating swig/version.h\n",
            "config.status: creating mecab.iss\n",
            "config.status: creating mecab-config\n",
            "config.status: creating mecabrc\n",
            "config.status: creating config.h\n",
            "config.status: executing depfiles commands\n",
            "config.status: executing libtool commands\n",
            "config.status: executing default commands\n",
            "make  all-recursive\n",
            "make[1]: Entering directory '/tmp/mecab-0.996-ko-0.9.1'\n",
            "Making all in src\n",
            "make[2]: Entering directory '/tmp/mecab-0.996-ko-0.9.1/src'\n",
            "/bin/bash ../libtool --tag=CXX   --mode=compile g++ -DHAVE_CONFIG_H -I. -I.. -DDIC_VERSION=102   -DMECAB_DEFAULT_RC=\"\\\"/usr/local/etc/mecabrc\\\"\"    -O3 -Wall  -c -o viterbi.lo viterbi.cpp\n",
            "libtool: compile:  g++ -DHAVE_CONFIG_H -I. -I.. -DDIC_VERSION=102 -DMECAB_DEFAULT_RC=\\\"/usr/local/etc/mecabrc\\\" -O3 -Wall -c viterbi.cpp  -fPIC -DPIC -o .libs/viterbi.o\n",
            "In file included from \u001b[01m\u001b[Kviterbi.cpp:14:0\u001b[m\u001b[K:\n",
            "\u001b[01m\u001b[Kparam.h:30:13:\u001b[m\u001b[K \u001b[01;35m\u001b[Kwarning: \u001b[m\u001b[K'\u001b[01m\u001b[KTarget {anonymous}::lexical_cast(Source) [with Target = std::__cxx11::basic_string<char>; Source = std::__cxx11::basic_string<char>]\u001b[m\u001b[K' defined but not used [\u001b[01;35m\u001b[K-Wunused-function\u001b[m\u001b[K]\n",
            " std::string \u001b[01;35m\u001b[Klexical_cast<std::string, std::string>\u001b[m\u001b[K(std::string arg) {\n",
            "             \u001b[01;35m\u001b[K^~~~~~~~~~~~~~~~~~~~~~~~~~~~~~~~~~~~~~\u001b[m\u001b[K\n",
            "libtool: compile:  g++ -DHAVE_CONFIG_H -I. -I.. -DDIC_VERSION=102 -DMECAB_DEFAULT_RC=\\\"/usr/local/etc/mecabrc\\\" -O3 -Wall -c viterbi.cpp -o viterbi.o >/dev/null 2>&1\n",
            "/bin/bash ../libtool --tag=CXX   --mode=compile g++ -DHAVE_CONFIG_H -I. -I.. -DDIC_VERSION=102   -DMECAB_DEFAULT_RC=\"\\\"/usr/local/etc/mecabrc\\\"\"    -O3 -Wall  -c -o tagger.lo tagger.cpp\n",
            "libtool: compile:  g++ -DHAVE_CONFIG_H -I. -I.. -DDIC_VERSION=102 -DMECAB_DEFAULT_RC=\\\"/usr/local/etc/mecabrc\\\" -O3 -Wall -c tagger.cpp  -fPIC -DPIC -o .libs/tagger.o\n",
            "libtool: compile:  g++ -DHAVE_CONFIG_H -I. -I.. -DDIC_VERSION=102 -DMECAB_DEFAULT_RC=\\\"/usr/local/etc/mecabrc\\\" -O3 -Wall -c tagger.cpp -o tagger.o >/dev/null 2>&1\n",
            "/bin/bash ../libtool --tag=CXX   --mode=compile g++ -DHAVE_CONFIG_H -I. -I.. -DDIC_VERSION=102   -DMECAB_DEFAULT_RC=\"\\\"/usr/local/etc/mecabrc\\\"\"    -O3 -Wall  -c -o utils.lo utils.cpp\n",
            "libtool: compile:  g++ -DHAVE_CONFIG_H -I. -I.. -DDIC_VERSION=102 -DMECAB_DEFAULT_RC=\\\"/usr/local/etc/mecabrc\\\" -O3 -Wall -c utils.cpp  -fPIC -DPIC -o .libs/utils.o\n",
            "libtool: compile:  g++ -DHAVE_CONFIG_H -I. -I.. -DDIC_VERSION=102 -DMECAB_DEFAULT_RC=\\\"/usr/local/etc/mecabrc\\\" -O3 -Wall -c utils.cpp -o utils.o >/dev/null 2>&1\n",
            "/bin/bash ../libtool --tag=CXX   --mode=compile g++ -DHAVE_CONFIG_H -I. -I.. -DDIC_VERSION=102   -DMECAB_DEFAULT_RC=\"\\\"/usr/local/etc/mecabrc\\\"\"    -O3 -Wall  -c -o eval.lo eval.cpp\n",
            "libtool: compile:  g++ -DHAVE_CONFIG_H -I. -I.. -DDIC_VERSION=102 -DMECAB_DEFAULT_RC=\\\"/usr/local/etc/mecabrc\\\" -O3 -Wall -c eval.cpp  -fPIC -DPIC -o .libs/eval.o\n",
            "libtool: compile:  g++ -DHAVE_CONFIG_H -I. -I.. -DDIC_VERSION=102 -DMECAB_DEFAULT_RC=\\\"/usr/local/etc/mecabrc\\\" -O3 -Wall -c eval.cpp -o eval.o >/dev/null 2>&1\n",
            "/bin/bash ../libtool --tag=CXX   --mode=compile g++ -DHAVE_CONFIG_H -I. -I.. -DDIC_VERSION=102   -DMECAB_DEFAULT_RC=\"\\\"/usr/local/etc/mecabrc\\\"\"    -O3 -Wall  -c -o iconv_utils.lo iconv_utils.cpp\n",
            "libtool: compile:  g++ -DHAVE_CONFIG_H -I. -I.. -DDIC_VERSION=102 -DMECAB_DEFAULT_RC=\\\"/usr/local/etc/mecabrc\\\" -O3 -Wall -c iconv_utils.cpp  -fPIC -DPIC -o .libs/iconv_utils.o\n",
            "libtool: compile:  g++ -DHAVE_CONFIG_H -I. -I.. -DDIC_VERSION=102 -DMECAB_DEFAULT_RC=\\\"/usr/local/etc/mecabrc\\\" -O3 -Wall -c iconv_utils.cpp -o iconv_utils.o >/dev/null 2>&1\n",
            "/bin/bash ../libtool --tag=CXX   --mode=compile g++ -DHAVE_CONFIG_H -I. -I.. -DDIC_VERSION=102   -DMECAB_DEFAULT_RC=\"\\\"/usr/local/etc/mecabrc\\\"\"    -O3 -Wall  -c -o dictionary_rewriter.lo dictionary_rewriter.cpp\n",
            "libtool: compile:  g++ -DHAVE_CONFIG_H -I. -I.. -DDIC_VERSION=102 -DMECAB_DEFAULT_RC=\\\"/usr/local/etc/mecabrc\\\" -O3 -Wall -c dictionary_rewriter.cpp  -fPIC -DPIC -o .libs/dictionary_rewriter.o\n",
            "libtool: compile:  g++ -DHAVE_CONFIG_H -I. -I.. -DDIC_VERSION=102 -DMECAB_DEFAULT_RC=\\\"/usr/local/etc/mecabrc\\\" -O3 -Wall -c dictionary_rewriter.cpp -o dictionary_rewriter.o >/dev/null 2>&1\n",
            "/bin/bash ../libtool --tag=CXX   --mode=compile g++ -DHAVE_CONFIG_H -I. -I.. -DDIC_VERSION=102   -DMECAB_DEFAULT_RC=\"\\\"/usr/local/etc/mecabrc\\\"\"    -O3 -Wall  -c -o dictionary_generator.lo dictionary_generator.cpp\n",
            "libtool: compile:  g++ -DHAVE_CONFIG_H -I. -I.. -DDIC_VERSION=102 -DMECAB_DEFAULT_RC=\\\"/usr/local/etc/mecabrc\\\" -O3 -Wall -c dictionary_generator.cpp  -fPIC -DPIC -o .libs/dictionary_generator.o\n",
            "libtool: compile:  g++ -DHAVE_CONFIG_H -I. -I.. -DDIC_VERSION=102 -DMECAB_DEFAULT_RC=\\\"/usr/local/etc/mecabrc\\\" -O3 -Wall -c dictionary_generator.cpp -o dictionary_generator.o >/dev/null 2>&1\n",
            "/bin/bash ../libtool --tag=CXX   --mode=compile g++ -DHAVE_CONFIG_H -I. -I.. -DDIC_VERSION=102   -DMECAB_DEFAULT_RC=\"\\\"/usr/local/etc/mecabrc\\\"\"    -O3 -Wall  -c -o dictionary_compiler.lo dictionary_compiler.cpp\n",
            "libtool: compile:  g++ -DHAVE_CONFIG_H -I. -I.. -DDIC_VERSION=102 -DMECAB_DEFAULT_RC=\\\"/usr/local/etc/mecabrc\\\" -O3 -Wall -c dictionary_compiler.cpp  -fPIC -DPIC -o .libs/dictionary_compiler.o\n",
            "libtool: compile:  g++ -DHAVE_CONFIG_H -I. -I.. -DDIC_VERSION=102 -DMECAB_DEFAULT_RC=\\\"/usr/local/etc/mecabrc\\\" -O3 -Wall -c dictionary_compiler.cpp -o dictionary_compiler.o >/dev/null 2>&1\n",
            "/bin/bash ../libtool --tag=CXX   --mode=compile g++ -DHAVE_CONFIG_H -I. -I.. -DDIC_VERSION=102   -DMECAB_DEFAULT_RC=\"\\\"/usr/local/etc/mecabrc\\\"\"    -O3 -Wall  -c -o context_id.lo context_id.cpp\n",
            "libtool: compile:  g++ -DHAVE_CONFIG_H -I. -I.. -DDIC_VERSION=102 -DMECAB_DEFAULT_RC=\\\"/usr/local/etc/mecabrc\\\" -O3 -Wall -c context_id.cpp  -fPIC -DPIC -o .libs/context_id.o\n",
            "libtool: compile:  g++ -DHAVE_CONFIG_H -I. -I.. -DDIC_VERSION=102 -DMECAB_DEFAULT_RC=\\\"/usr/local/etc/mecabrc\\\" -O3 -Wall -c context_id.cpp -o context_id.o >/dev/null 2>&1\n",
            "/bin/bash ../libtool --tag=CXX   --mode=compile g++ -DHAVE_CONFIG_H -I. -I.. -DDIC_VERSION=102   -DMECAB_DEFAULT_RC=\"\\\"/usr/local/etc/mecabrc\\\"\"    -O3 -Wall  -c -o connector.lo connector.cpp\n",
            "libtool: compile:  g++ -DHAVE_CONFIG_H -I. -I.. -DDIC_VERSION=102 -DMECAB_DEFAULT_RC=\\\"/usr/local/etc/mecabrc\\\" -O3 -Wall -c connector.cpp  -fPIC -DPIC -o .libs/connector.o\n",
            "libtool: compile:  g++ -DHAVE_CONFIG_H -I. -I.. -DDIC_VERSION=102 -DMECAB_DEFAULT_RC=\\\"/usr/local/etc/mecabrc\\\" -O3 -Wall -c connector.cpp -o connector.o >/dev/null 2>&1\n",
            "/bin/bash ../libtool --tag=CXX   --mode=compile g++ -DHAVE_CONFIG_H -I. -I.. -DDIC_VERSION=102   -DMECAB_DEFAULT_RC=\"\\\"/usr/local/etc/mecabrc\\\"\"    -O3 -Wall  -c -o nbest_generator.lo nbest_generator.cpp\n",
            "libtool: compile:  g++ -DHAVE_CONFIG_H -I. -I.. -DDIC_VERSION=102 -DMECAB_DEFAULT_RC=\\\"/usr/local/etc/mecabrc\\\" -O3 -Wall -c nbest_generator.cpp  -fPIC -DPIC -o .libs/nbest_generator.o\n",
            "libtool: compile:  g++ -DHAVE_CONFIG_H -I. -I.. -DDIC_VERSION=102 -DMECAB_DEFAULT_RC=\\\"/usr/local/etc/mecabrc\\\" -O3 -Wall -c nbest_generator.cpp -o nbest_generator.o >/dev/null 2>&1\n",
            "/bin/bash ../libtool --tag=CXX   --mode=compile g++ -DHAVE_CONFIG_H -I. -I.. -DDIC_VERSION=102   -DMECAB_DEFAULT_RC=\"\\\"/usr/local/etc/mecabrc\\\"\"    -O3 -Wall  -c -o writer.lo writer.cpp\n",
            "libtool: compile:  g++ -DHAVE_CONFIG_H -I. -I.. -DDIC_VERSION=102 -DMECAB_DEFAULT_RC=\\\"/usr/local/etc/mecabrc\\\" -O3 -Wall -c writer.cpp  -fPIC -DPIC -o .libs/writer.o\n",
            "libtool: compile:  g++ -DHAVE_CONFIG_H -I. -I.. -DDIC_VERSION=102 -DMECAB_DEFAULT_RC=\\\"/usr/local/etc/mecabrc\\\" -O3 -Wall -c writer.cpp -o writer.o >/dev/null 2>&1\n",
            "/bin/bash ../libtool --tag=CXX   --mode=compile g++ -DHAVE_CONFIG_H -I. -I.. -DDIC_VERSION=102   -DMECAB_DEFAULT_RC=\"\\\"/usr/local/etc/mecabrc\\\"\"    -O3 -Wall  -c -o string_buffer.lo string_buffer.cpp\n",
            "libtool: compile:  g++ -DHAVE_CONFIG_H -I. -I.. -DDIC_VERSION=102 -DMECAB_DEFAULT_RC=\\\"/usr/local/etc/mecabrc\\\" -O3 -Wall -c string_buffer.cpp  -fPIC -DPIC -o .libs/string_buffer.o\n",
            "libtool: compile:  g++ -DHAVE_CONFIG_H -I. -I.. -DDIC_VERSION=102 -DMECAB_DEFAULT_RC=\\\"/usr/local/etc/mecabrc\\\" -O3 -Wall -c string_buffer.cpp -o string_buffer.o >/dev/null 2>&1\n",
            "/bin/bash ../libtool --tag=CXX   --mode=compile g++ -DHAVE_CONFIG_H -I. -I.. -DDIC_VERSION=102   -DMECAB_DEFAULT_RC=\"\\\"/usr/local/etc/mecabrc\\\"\"    -O3 -Wall  -c -o param.lo param.cpp\n",
            "libtool: compile:  g++ -DHAVE_CONFIG_H -I. -I.. -DDIC_VERSION=102 -DMECAB_DEFAULT_RC=\\\"/usr/local/etc/mecabrc\\\" -O3 -Wall -c param.cpp  -fPIC -DPIC -o .libs/param.o\n",
            "libtool: compile:  g++ -DHAVE_CONFIG_H -I. -I.. -DDIC_VERSION=102 -DMECAB_DEFAULT_RC=\\\"/usr/local/etc/mecabrc\\\" -O3 -Wall -c param.cpp -o param.o >/dev/null 2>&1\n",
            "/bin/bash ../libtool --tag=CXX   --mode=compile g++ -DHAVE_CONFIG_H -I. -I.. -DDIC_VERSION=102   -DMECAB_DEFAULT_RC=\"\\\"/usr/local/etc/mecabrc\\\"\"    -O3 -Wall  -c -o tokenizer.lo tokenizer.cpp\n",
            "libtool: compile:  g++ -DHAVE_CONFIG_H -I. -I.. -DDIC_VERSION=102 -DMECAB_DEFAULT_RC=\\\"/usr/local/etc/mecabrc\\\" -O3 -Wall -c tokenizer.cpp  -fPIC -DPIC -o .libs/tokenizer.o\n",
            "libtool: compile:  g++ -DHAVE_CONFIG_H -I. -I.. -DDIC_VERSION=102 -DMECAB_DEFAULT_RC=\\\"/usr/local/etc/mecabrc\\\" -O3 -Wall -c tokenizer.cpp -o tokenizer.o >/dev/null 2>&1\n",
            "/bin/bash ../libtool --tag=CXX   --mode=compile g++ -DHAVE_CONFIG_H -I. -I.. -DDIC_VERSION=102   -DMECAB_DEFAULT_RC=\"\\\"/usr/local/etc/mecabrc\\\"\"    -O3 -Wall  -c -o char_property.lo char_property.cpp\n",
            "libtool: compile:  g++ -DHAVE_CONFIG_H -I. -I.. -DDIC_VERSION=102 -DMECAB_DEFAULT_RC=\\\"/usr/local/etc/mecabrc\\\" -O3 -Wall -c char_property.cpp  -fPIC -DPIC -o .libs/char_property.o\n",
            "libtool: compile:  g++ -DHAVE_CONFIG_H -I. -I.. -DDIC_VERSION=102 -DMECAB_DEFAULT_RC=\\\"/usr/local/etc/mecabrc\\\" -O3 -Wall -c char_property.cpp -o char_property.o >/dev/null 2>&1\n",
            "/bin/bash ../libtool --tag=CXX   --mode=compile g++ -DHAVE_CONFIG_H -I. -I.. -DDIC_VERSION=102   -DMECAB_DEFAULT_RC=\"\\\"/usr/local/etc/mecabrc\\\"\"    -O3 -Wall  -c -o dictionary.lo dictionary.cpp\n",
            "libtool: compile:  g++ -DHAVE_CONFIG_H -I. -I.. -DDIC_VERSION=102 -DMECAB_DEFAULT_RC=\\\"/usr/local/etc/mecabrc\\\" -O3 -Wall -c dictionary.cpp  -fPIC -DPIC -o .libs/dictionary.o\n",
            "libtool: compile:  g++ -DHAVE_CONFIG_H -I. -I.. -DDIC_VERSION=102 -DMECAB_DEFAULT_RC=\\\"/usr/local/etc/mecabrc\\\" -O3 -Wall -c dictionary.cpp -o dictionary.o >/dev/null 2>&1\n",
            "/bin/bash ../libtool --tag=CXX   --mode=compile g++ -DHAVE_CONFIG_H -I. -I.. -DDIC_VERSION=102   -DMECAB_DEFAULT_RC=\"\\\"/usr/local/etc/mecabrc\\\"\"    -O3 -Wall  -c -o feature_index.lo feature_index.cpp\n",
            "libtool: compile:  g++ -DHAVE_CONFIG_H -I. -I.. -DDIC_VERSION=102 -DMECAB_DEFAULT_RC=\\\"/usr/local/etc/mecabrc\\\" -O3 -Wall -c feature_index.cpp  -fPIC -DPIC -o .libs/feature_index.o\n",
            "libtool: compile:  g++ -DHAVE_CONFIG_H -I. -I.. -DDIC_VERSION=102 -DMECAB_DEFAULT_RC=\\\"/usr/local/etc/mecabrc\\\" -O3 -Wall -c feature_index.cpp -o feature_index.o >/dev/null 2>&1\n",
            "/bin/bash ../libtool --tag=CXX   --mode=compile g++ -DHAVE_CONFIG_H -I. -I.. -DDIC_VERSION=102   -DMECAB_DEFAULT_RC=\"\\\"/usr/local/etc/mecabrc\\\"\"    -O3 -Wall  -c -o lbfgs.lo lbfgs.cpp\n",
            "libtool: compile:  g++ -DHAVE_CONFIG_H -I. -I.. -DDIC_VERSION=102 -DMECAB_DEFAULT_RC=\\\"/usr/local/etc/mecabrc\\\" -O3 -Wall -c lbfgs.cpp  -fPIC -DPIC -o .libs/lbfgs.o\n",
            "libtool: compile:  g++ -DHAVE_CONFIG_H -I. -I.. -DDIC_VERSION=102 -DMECAB_DEFAULT_RC=\\\"/usr/local/etc/mecabrc\\\" -O3 -Wall -c lbfgs.cpp -o lbfgs.o >/dev/null 2>&1\n",
            "/bin/bash ../libtool --tag=CXX   --mode=compile g++ -DHAVE_CONFIG_H -I. -I.. -DDIC_VERSION=102   -DMECAB_DEFAULT_RC=\"\\\"/usr/local/etc/mecabrc\\\"\"    -O3 -Wall  -c -o learner_tagger.lo learner_tagger.cpp\n",
            "libtool: compile:  g++ -DHAVE_CONFIG_H -I. -I.. -DDIC_VERSION=102 -DMECAB_DEFAULT_RC=\\\"/usr/local/etc/mecabrc\\\" -O3 -Wall -c learner_tagger.cpp  -fPIC -DPIC -o .libs/learner_tagger.o\n",
            "\u001b[01m\u001b[Klearner_tagger.cpp:25:7:\u001b[m\u001b[K \u001b[01;35m\u001b[Kwarning: \u001b[m\u001b[K'\u001b[01m\u001b[Kchar* MeCab::{anonymous}::mystrdup(const string&)\u001b[m\u001b[K' defined but not used [\u001b[01;35m\u001b[K-Wunused-function\u001b[m\u001b[K]\n",
            " char *\u001b[01;35m\u001b[Kmystrdup\u001b[m\u001b[K(const std::string &str) {\n",
            "       \u001b[01;35m\u001b[K^~~~~~~~\u001b[m\u001b[K\n",
            "libtool: compile:  g++ -DHAVE_CONFIG_H -I. -I.. -DDIC_VERSION=102 -DMECAB_DEFAULT_RC=\\\"/usr/local/etc/mecabrc\\\" -O3 -Wall -c learner_tagger.cpp -o learner_tagger.o >/dev/null 2>&1\n",
            "/bin/bash ../libtool --tag=CXX   --mode=compile g++ -DHAVE_CONFIG_H -I. -I.. -DDIC_VERSION=102   -DMECAB_DEFAULT_RC=\"\\\"/usr/local/etc/mecabrc\\\"\"    -O3 -Wall  -c -o learner.lo learner.cpp\n",
            "libtool: compile:  g++ -DHAVE_CONFIG_H -I. -I.. -DDIC_VERSION=102 -DMECAB_DEFAULT_RC=\\\"/usr/local/etc/mecabrc\\\" -O3 -Wall -c learner.cpp  -fPIC -DPIC -o .libs/learner.o\n",
            "libtool: compile:  g++ -DHAVE_CONFIG_H -I. -I.. -DDIC_VERSION=102 -DMECAB_DEFAULT_RC=\\\"/usr/local/etc/mecabrc\\\" -O3 -Wall -c learner.cpp -o learner.o >/dev/null 2>&1\n",
            "/bin/bash ../libtool --tag=CXX   --mode=compile g++ -DHAVE_CONFIG_H -I. -I.. -DDIC_VERSION=102   -DMECAB_DEFAULT_RC=\"\\\"/usr/local/etc/mecabrc\\\"\"    -O3 -Wall  -c -o libmecab.lo libmecab.cpp\n",
            "libtool: compile:  g++ -DHAVE_CONFIG_H -I. -I.. -DDIC_VERSION=102 -DMECAB_DEFAULT_RC=\\\"/usr/local/etc/mecabrc\\\" -O3 -Wall -c libmecab.cpp  -fPIC -DPIC -o .libs/libmecab.o\n",
            "libtool: compile:  g++ -DHAVE_CONFIG_H -I. -I.. -DDIC_VERSION=102 -DMECAB_DEFAULT_RC=\\\"/usr/local/etc/mecabrc\\\" -O3 -Wall -c libmecab.cpp -o libmecab.o >/dev/null 2>&1\n",
            "/bin/bash ../libtool --tag=CXX   --mode=link g++  -O3 -Wall  -no-undefined -version-info 2:0:0  -o libmecab.la -rpath /usr/local/lib viterbi.lo tagger.lo utils.lo eval.lo iconv_utils.lo dictionary_rewriter.lo dictionary_generator.lo dictionary_compiler.lo context_id.lo connector.lo nbest_generator.lo writer.lo string_buffer.lo param.lo tokenizer.lo char_property.lo dictionary.lo feature_index.lo lbfgs.lo learner_tagger.lo learner.lo libmecab.lo  -lpthread -lpthread  -lstdc++ \n",
            "libtool: link: g++  -fPIC -DPIC -shared -nostdlib /usr/lib/gcc/x86_64-linux-gnu/7/../../../x86_64-linux-gnu/crti.o /usr/lib/gcc/x86_64-linux-gnu/7/crtbeginS.o  .libs/viterbi.o .libs/tagger.o .libs/utils.o .libs/eval.o .libs/iconv_utils.o .libs/dictionary_rewriter.o .libs/dictionary_generator.o .libs/dictionary_compiler.o .libs/context_id.o .libs/connector.o .libs/nbest_generator.o .libs/writer.o .libs/string_buffer.o .libs/param.o .libs/tokenizer.o .libs/char_property.o .libs/dictionary.o .libs/feature_index.o .libs/lbfgs.o .libs/learner_tagger.o .libs/learner.o .libs/libmecab.o   -lpthread -L/usr/lib/gcc/x86_64-linux-gnu/7 -L/usr/lib/gcc/x86_64-linux-gnu/7/../../../x86_64-linux-gnu -L/usr/lib/gcc/x86_64-linux-gnu/7/../../../../lib -L/lib/x86_64-linux-gnu -L/lib/../lib -L/usr/lib/x86_64-linux-gnu -L/usr/lib/../lib -L/usr/local/cuda/lib64/stubs -L/usr/lib/gcc/x86_64-linux-gnu/7/../../.. -lstdc++ -lm -lc -lgcc_s /usr/lib/gcc/x86_64-linux-gnu/7/crtendS.o /usr/lib/gcc/x86_64-linux-gnu/7/../../../x86_64-linux-gnu/crtn.o  -O3   -Wl,-soname -Wl,libmecab.so.2 -o .libs/libmecab.so.2.0.0\n",
            "libtool: link: (cd \".libs\" && rm -f \"libmecab.so.2\" && ln -s \"libmecab.so.2.0.0\" \"libmecab.so.2\")\n",
            "libtool: link: (cd \".libs\" && rm -f \"libmecab.so\" && ln -s \"libmecab.so.2.0.0\" \"libmecab.so\")\n",
            "libtool: link: ar cru .libs/libmecab.a  viterbi.o tagger.o utils.o eval.o iconv_utils.o dictionary_rewriter.o dictionary_generator.o dictionary_compiler.o context_id.o connector.o nbest_generator.o writer.o string_buffer.o param.o tokenizer.o char_property.o dictionary.o feature_index.o lbfgs.o learner_tagger.o learner.o libmecab.o\n",
            "ar: `u' modifier ignored since `D' is the default (see `U')\n",
            "libtool: link: ranlib .libs/libmecab.a\n",
            "libtool: link: ( cd \".libs\" && rm -f \"libmecab.la\" && ln -s \"../libmecab.la\" \"libmecab.la\" )\n",
            "g++ -DHAVE_CONFIG_H -I. -I.. -DDIC_VERSION=102   -DMECAB_DEFAULT_RC=\"\\\"/usr/local/etc/mecabrc\\\"\"    -O3 -Wall  -c -o mecab.o mecab.cpp\n",
            "/bin/bash ../libtool --tag=CXX   --mode=link g++  -O3 -Wall    -o mecab mecab.o libmecab.la -lpthread -lpthread  -lstdc++ \n",
            "libtool: link: g++ -O3 -Wall -o .libs/mecab mecab.o  ./.libs/libmecab.so -lpthread -lstdc++\n",
            "g++ -DHAVE_CONFIG_H -I. -I.. -DDIC_VERSION=102   -DMECAB_DEFAULT_RC=\"\\\"/usr/local/etc/mecabrc\\\"\"    -O3 -Wall  -c -o mecab-dict-index.o mecab-dict-index.cpp\n",
            "/bin/bash ../libtool --tag=CXX   --mode=link g++  -O3 -Wall    -o mecab-dict-index mecab-dict-index.o libmecab.la -lpthread -lpthread  -lstdc++ \n",
            "libtool: link: g++ -O3 -Wall -o .libs/mecab-dict-index mecab-dict-index.o  ./.libs/libmecab.so -lpthread -lstdc++\n",
            "g++ -DHAVE_CONFIG_H -I. -I.. -DDIC_VERSION=102   -DMECAB_DEFAULT_RC=\"\\\"/usr/local/etc/mecabrc\\\"\"    -O3 -Wall  -c -o mecab-dict-gen.o mecab-dict-gen.cpp\n",
            "/bin/bash ../libtool --tag=CXX   --mode=link g++  -O3 -Wall    -o mecab-dict-gen mecab-dict-gen.o libmecab.la -lpthread -lpthread  -lstdc++ \n",
            "libtool: link: g++ -O3 -Wall -o .libs/mecab-dict-gen mecab-dict-gen.o  ./.libs/libmecab.so -lpthread -lstdc++\n",
            "g++ -DHAVE_CONFIG_H -I. -I.. -DDIC_VERSION=102   -DMECAB_DEFAULT_RC=\"\\\"/usr/local/etc/mecabrc\\\"\"    -O3 -Wall  -c -o mecab-cost-train.o mecab-cost-train.cpp\n",
            "/bin/bash ../libtool --tag=CXX   --mode=link g++  -O3 -Wall    -o mecab-cost-train mecab-cost-train.o libmecab.la -lpthread -lpthread  -lstdc++ \n",
            "libtool: link: g++ -O3 -Wall -o .libs/mecab-cost-train mecab-cost-train.o  ./.libs/libmecab.so -lpthread -lstdc++\n",
            "g++ -DHAVE_CONFIG_H -I. -I.. -DDIC_VERSION=102   -DMECAB_DEFAULT_RC=\"\\\"/usr/local/etc/mecabrc\\\"\"    -O3 -Wall  -c -o mecab-system-eval.o mecab-system-eval.cpp\n",
            "/bin/bash ../libtool --tag=CXX   --mode=link g++  -O3 -Wall    -o mecab-system-eval mecab-system-eval.o libmecab.la -lpthread -lpthread  -lstdc++ \n",
            "libtool: link: g++ -O3 -Wall -o .libs/mecab-system-eval mecab-system-eval.o  ./.libs/libmecab.so -lpthread -lstdc++\n",
            "g++ -DHAVE_CONFIG_H -I. -I.. -DDIC_VERSION=102   -DMECAB_DEFAULT_RC=\"\\\"/usr/local/etc/mecabrc\\\"\"    -O3 -Wall  -c -o mecab-test-gen.o mecab-test-gen.cpp\n",
            "/bin/bash ../libtool --tag=CXX   --mode=link g++  -O3 -Wall    -o mecab-test-gen mecab-test-gen.o libmecab.la -lpthread -lpthread  -lstdc++ \n",
            "libtool: link: g++ -O3 -Wall -o .libs/mecab-test-gen mecab-test-gen.o  ./.libs/libmecab.so -lpthread -lstdc++\n",
            "make[2]: Leaving directory '/tmp/mecab-0.996-ko-0.9.1/src'\n",
            "Making all in man\n",
            "make[2]: Entering directory '/tmp/mecab-0.996-ko-0.9.1/man'\n",
            "make[2]: Nothing to be done for 'all'.\n",
            "make[2]: Leaving directory '/tmp/mecab-0.996-ko-0.9.1/man'\n",
            "Making all in doc\n",
            "make[2]: Entering directory '/tmp/mecab-0.996-ko-0.9.1/doc'\n",
            "make[2]: Nothing to be done for 'all'.\n",
            "make[2]: Leaving directory '/tmp/mecab-0.996-ko-0.9.1/doc'\n",
            "Making all in tests\n",
            "make[2]: Entering directory '/tmp/mecab-0.996-ko-0.9.1/tests'\n",
            "make[2]: Nothing to be done for 'all'.\n",
            "make[2]: Leaving directory '/tmp/mecab-0.996-ko-0.9.1/tests'\n",
            "make[2]: Entering directory '/tmp/mecab-0.996-ko-0.9.1'\n",
            "make[2]: Leaving directory '/tmp/mecab-0.996-ko-0.9.1'\n",
            "make[1]: Leaving directory '/tmp/mecab-0.996-ko-0.9.1'\n",
            "Making check in src\n",
            "make[1]: Entering directory '/tmp/mecab-0.996-ko-0.9.1/src'\n",
            "make[1]: Nothing to be done for 'check'.\n",
            "make[1]: Leaving directory '/tmp/mecab-0.996-ko-0.9.1/src'\n",
            "Making check in man\n",
            "make[1]: Entering directory '/tmp/mecab-0.996-ko-0.9.1/man'\n",
            "make[1]: Nothing to be done for 'check'.\n",
            "make[1]: Leaving directory '/tmp/mecab-0.996-ko-0.9.1/man'\n",
            "Making check in doc\n",
            "make[1]: Entering directory '/tmp/mecab-0.996-ko-0.9.1/doc'\n",
            "make[1]: Nothing to be done for 'check'.\n",
            "make[1]: Leaving directory '/tmp/mecab-0.996-ko-0.9.1/doc'\n",
            "Making check in tests\n",
            "make[1]: Entering directory '/tmp/mecab-0.996-ko-0.9.1/tests'\n",
            "make  check-TESTS\n",
            "make[2]: Entering directory '/tmp/mecab-0.996-ko-0.9.1/tests'\n",
            "./pos-id.def is not found. minimum setting is used\n",
            "reading ./unk.def ... 2\n",
            "emitting double-array: 100% |###########################################| \n",
            "./model.def is not found. skipped.\n",
            "./pos-id.def is not found. minimum setting is used\n",
            "reading ./dic.csv ... 177\n",
            "emitting double-array: 100% |###########################################| \n",
            "reading ./matrix.def ... 178x178\n",
            "emitting matrix      : 100% |###########################################| \n",
            "\n",
            "done!\n",
            "./pos-id.def is not found. minimum setting is used\n",
            "reading ./unk.def ... 2\n",
            "emitting double-array: 100% |###########################################| \n",
            "./model.def is not found. skipped.\n",
            "./pos-id.def is not found. minimum setting is used\n",
            "reading ./dic.csv ... 83\n",
            "emitting double-array: 100% |###########################################| \n",
            "reading ./matrix.def ... 84x84\n",
            "emitting matrix      : 100% |###########################################| \n",
            "\n",
            "done!\n",
            "./pos-id.def is not found. minimum setting is used\n",
            "reading ./unk.def ... 2\n",
            "emitting double-array: 100% |###########################################| \n",
            "./model.def is not found. skipped.\n",
            "./pos-id.def is not found. minimum setting is used\n",
            "reading ./dic.csv ... 450\n",
            "emitting double-array: 100% |###########################################| \n",
            "reading ./matrix.def ... 1x1\n",
            "\n",
            "done!\n",
            "./pos-id.def is not found. minimum setting is used\n",
            "reading ./unk.def ... 2\n",
            "emitting double-array: 100% |###########################################| \n",
            "./model.def is not found. skipped.\n",
            "./pos-id.def is not found. minimum setting is used\n",
            "reading ./dic.csv ... 162\n",
            "emitting double-array: 100% |###########################################| \n",
            "reading ./matrix.def ... 3x3\n",
            "emitting matrix      : 100% |###########################################| \n",
            "\n",
            "done!\n",
            "./pos-id.def is not found. minimum setting is used\n",
            "reading ./unk.def ... 2\n",
            "emitting double-array: 100% |###########################################| \n",
            "./model.def is not found. skipped.\n",
            "./pos-id.def is not found. minimum setting is used\n",
            "reading ./dic.csv ... 4\n",
            "emitting double-array: 100% |###########################################| \n",
            "reading ./matrix.def ... 1x1\n",
            "\n",
            "done!\n",
            "./pos-id.def is not found. minimum setting is used\n",
            "reading ./unk.def ... 11\n",
            "emitting double-array: 100% |###########################################| \n",
            "./model.def is not found. skipped.\n",
            "./pos-id.def is not found. minimum setting is used\n",
            "reading ./dic.csv ... 1\n",
            "reading ./matrix.def ... 1x1\n",
            "\n",
            "done!\n",
            "./pos-id.def is not found. minimum setting is used\n",
            "reading ./unk.def ... 2\n",
            "emitting double-array: 100% |###########################################| \n",
            "./model.def is not found. skipped.\n",
            "./pos-id.def is not found. minimum setting is used\n",
            "reading ./dic.csv ... 1\n",
            "reading ./matrix.def ... 1x1\n",
            "\n",
            "done!\n",
            "PASS: run-dics.sh\n",
            "PASS: run-eval.sh\n",
            "seed/pos-id.def is not found. minimum setting is used\n",
            "reading seed/unk.def ... 40\n",
            "emitting double-array: 100% |###########################################| \n",
            "seed/model.def is not found. skipped.\n",
            "seed/pos-id.def is not found. minimum setting is used\n",
            "reading seed/dic.csv ... 4335\n",
            "emitting double-array: 100% |###########################################| \n",
            "reading seed/matrix.def ... 1x1\n",
            "\n",
            "done!\n",
            "reading corpus ...\n",
            "Number of sentences: 34\n",
            "Number of features:  64108\n",
            "eta:                 0.00005\n",
            "freq:                1\n",
            "eval-size:           6\n",
            "unk-eval-size:       4\n",
            "threads:             1\n",
            "charset:             EUC-JP\n",
            "C(sigma^2):          1.00000\n",
            "\n",
            "iter=0 err=1.00000 F=0.35771 target=2406.28355 diff=1.00000\n",
            "iter=1 err=0.97059 F=0.65652 target=1484.25231 diff=0.38318\n",
            "iter=2 err=0.91176 F=0.79331 target=863.32765 diff=0.41834\n",
            "iter=3 err=0.85294 F=0.89213 target=596.72480 diff=0.30881\n",
            "iter=4 err=0.61765 F=0.95467 target=336.30744 diff=0.43641\n",
            "iter=5 err=0.50000 F=0.96702 target=246.53039 diff=0.26695\n",
            "iter=6 err=0.35294 F=0.95472 target=188.93963 diff=0.23361\n",
            "iter=7 err=0.20588 F=0.99106 target=168.62665 diff=0.10751\n",
            "iter=8 err=0.05882 F=0.99777 target=158.64865 diff=0.05917\n",
            "iter=9 err=0.08824 F=0.99665 target=154.14530 diff=0.02839\n",
            "iter=10 err=0.08824 F=0.99665 target=151.94257 diff=0.01429\n",
            "iter=11 err=0.02941 F=0.99888 target=147.20825 diff=0.03116\n",
            "iter=12 err=0.00000 F=1.00000 target=147.34956 diff=0.00096\n",
            "iter=13 err=0.02941 F=0.99888 target=146.32592 diff=0.00695\n",
            "iter=14 err=0.00000 F=1.00000 target=145.77299 diff=0.00378\n",
            "iter=15 err=0.02941 F=0.99888 target=145.24641 diff=0.00361\n",
            "iter=16 err=0.00000 F=1.00000 target=144.96490 diff=0.00194\n",
            "iter=17 err=0.02941 F=0.99888 target=144.90246 diff=0.00043\n",
            "iter=18 err=0.00000 F=1.00000 target=144.75959 diff=0.00099\n",
            "iter=19 err=0.00000 F=1.00000 target=144.71727 diff=0.00029\n",
            "iter=20 err=0.00000 F=1.00000 target=144.66337 diff=0.00037\n",
            "iter=21 err=0.00000 F=1.00000 target=144.61349 diff=0.00034\n",
            "iter=22 err=0.00000 F=1.00000 target=144.62987 diff=0.00011\n",
            "iter=23 err=0.00000 F=1.00000 target=144.60060 diff=0.00020\n",
            "iter=24 err=0.00000 F=1.00000 target=144.59125 diff=0.00006\n",
            "iter=25 err=0.00000 F=1.00000 target=144.58619 diff=0.00004\n",
            "iter=26 err=0.00000 F=1.00000 target=144.58219 diff=0.00003\n",
            "iter=27 err=0.00000 F=1.00000 target=144.58059 diff=0.00001\n",
            "\n",
            "Done! writing model file ... \n",
            "model-ipadic.c1.0.f1.model is not a binary model. reopen it as text mode...\n",
            "reading seed/unk.def ... 40\n",
            "reading seed/dic.csv ... 4335\n",
            "emitting model-ipadic.c1.0.f1.dic/left-id.def/ model-ipadic.c1.0.f1.dic/right-id.def\n",
            "emitting model-ipadic.c1.0.f1.dic/unk.def ... 40\n",
            "emitting model-ipadic.c1.0.f1.dic/dic.csv ... 4335\n",
            "emitting matrix      : 100% |###########################################| \n",
            "copying seed/char.def to model-ipadic.c1.0.f1.dic/char.def\n",
            "copying seed/rewrite.def to model-ipadic.c1.0.f1.dic/rewrite.def\n",
            "copying seed/dicrc to model-ipadic.c1.0.f1.dic/dicrc\n",
            "copying seed/feature.def to model-ipadic.c1.0.f1.dic/feature.def\n",
            "copying model-ipadic.c1.0.f1.model to model-ipadic.c1.0.f1.dic/model.def\n",
            "\n",
            "done!\n",
            "model-ipadic.c1.0.f1.dic/pos-id.def is not found. minimum setting is used\n",
            "reading model-ipadic.c1.0.f1.dic/unk.def ... 40\n",
            "emitting double-array: 100% |###########################################| \n",
            "model-ipadic.c1.0.f1.dic/pos-id.def is not found. minimum setting is used\n",
            "reading model-ipadic.c1.0.f1.dic/dic.csv ... 4335\n",
            "emitting double-array: 100% |###########################################| \n",
            "reading model-ipadic.c1.0.f1.dic/matrix.def ... 346x346\n",
            "emitting matrix      : 100% |###########################################| \n",
            "\n",
            "done!\n",
            "              precision          recall         F\n",
            "LEVEL 0:    12.8959(57/442) 11.8998(57/479) 12.3779\n",
            "LEVEL 1:    12.2172(54/442) 11.2735(54/479) 11.7264\n",
            "LEVEL 2:    11.7647(52/442) 10.8559(52/479) 11.2921\n",
            "LEVEL 4:    11.7647(52/442) 10.8559(52/479) 11.2921\n",
            "PASS: run-cost-train.sh\n",
            "==================\n",
            "All 3 tests passed\n",
            "==================\n",
            "make[2]: Leaving directory '/tmp/mecab-0.996-ko-0.9.1/tests'\n",
            "make[1]: Leaving directory '/tmp/mecab-0.996-ko-0.9.1/tests'\n",
            "make[1]: Entering directory '/tmp/mecab-0.996-ko-0.9.1'\n",
            "make[1]: Leaving directory '/tmp/mecab-0.996-ko-0.9.1'\n",
            "Making install in src\n",
            "make[1]: Entering directory '/tmp/mecab-0.996-ko-0.9.1/src'\n",
            "make[2]: Entering directory '/tmp/mecab-0.996-ko-0.9.1/src'\n",
            "test -z \"/usr/local/lib\" || /bin/mkdir -p \"/usr/local/lib\"\n",
            " /bin/bash ../libtool   --mode=install /usr/bin/install -c   libmecab.la '/usr/local/lib'\n",
            "libtool: install: /usr/bin/install -c .libs/libmecab.so.2.0.0 /usr/local/lib/libmecab.so.2.0.0\n",
            "libtool: install: (cd /usr/local/lib && { ln -s -f libmecab.so.2.0.0 libmecab.so.2 || { rm -f libmecab.so.2 && ln -s libmecab.so.2.0.0 libmecab.so.2; }; })\n",
            "libtool: install: (cd /usr/local/lib && { ln -s -f libmecab.so.2.0.0 libmecab.so || { rm -f libmecab.so && ln -s libmecab.so.2.0.0 libmecab.so; }; })\n",
            "libtool: install: /usr/bin/install -c .libs/libmecab.lai /usr/local/lib/libmecab.la\n",
            "libtool: install: /usr/bin/install -c .libs/libmecab.a /usr/local/lib/libmecab.a\n",
            "libtool: install: chmod 644 /usr/local/lib/libmecab.a\n",
            "libtool: install: ranlib /usr/local/lib/libmecab.a\n",
            "libtool: finish: PATH=\"/usr/local/nvidia/bin:/usr/local/cuda/bin:/usr/local/sbin:/usr/local/bin:/usr/sbin:/usr/bin:/sbin:/bin:/tools/node/bin:/tools/google-cloud-sdk/bin:/opt/bin:/sbin\" ldconfig -n /usr/local/lib\n",
            "----------------------------------------------------------------------\n",
            "Libraries have been installed in:\n",
            "   /usr/local/lib\n",
            "\n",
            "If you ever happen to want to link against installed libraries\n",
            "in a given directory, LIBDIR, you must either use libtool, and\n",
            "specify the full pathname of the library, or use the `-LLIBDIR'\n",
            "flag during linking and do at least one of the following:\n",
            "   - add LIBDIR to the `LD_LIBRARY_PATH' environment variable\n",
            "     during execution\n",
            "   - add LIBDIR to the `LD_RUN_PATH' environment variable\n",
            "     during linking\n",
            "   - use the `-Wl,-rpath -Wl,LIBDIR' linker flag\n",
            "   - have your system administrator add LIBDIR to `/etc/ld.so.conf'\n",
            "\n",
            "See any operating system documentation about shared libraries for\n",
            "more information, such as the ld(1) and ld.so(8) manual pages.\n",
            "----------------------------------------------------------------------\n",
            "test -z \"/usr/local/bin\" || /bin/mkdir -p \"/usr/local/bin\"\n",
            "  /bin/bash ../libtool   --mode=install /usr/bin/install -c mecab '/usr/local/bin'\n",
            "libtool: install: /usr/bin/install -c .libs/mecab /usr/local/bin/mecab\n",
            "test -z \"/usr/local/libexec/mecab\" || /bin/mkdir -p \"/usr/local/libexec/mecab\"\n",
            "  /bin/bash ../libtool   --mode=install /usr/bin/install -c mecab-dict-index mecab-dict-gen mecab-cost-train mecab-system-eval mecab-test-gen '/usr/local/libexec/mecab'\n",
            "libtool: install: /usr/bin/install -c .libs/mecab-dict-index /usr/local/libexec/mecab/mecab-dict-index\n",
            "libtool: install: /usr/bin/install -c .libs/mecab-dict-gen /usr/local/libexec/mecab/mecab-dict-gen\n",
            "libtool: install: /usr/bin/install -c .libs/mecab-cost-train /usr/local/libexec/mecab/mecab-cost-train\n",
            "libtool: install: /usr/bin/install -c .libs/mecab-system-eval /usr/local/libexec/mecab/mecab-system-eval\n",
            "libtool: install: /usr/bin/install -c .libs/mecab-test-gen /usr/local/libexec/mecab/mecab-test-gen\n",
            "test -z \"/usr/local/include\" || /bin/mkdir -p \"/usr/local/include\"\n",
            " /usr/bin/install -c -m 644 mecab.h '/usr/local/include'\n",
            "make[2]: Leaving directory '/tmp/mecab-0.996-ko-0.9.1/src'\n",
            "make[1]: Leaving directory '/tmp/mecab-0.996-ko-0.9.1/src'\n",
            "Making install in man\n",
            "make[1]: Entering directory '/tmp/mecab-0.996-ko-0.9.1/man'\n",
            "make[2]: Entering directory '/tmp/mecab-0.996-ko-0.9.1/man'\n",
            "make[2]: Nothing to be done for 'install-exec-am'.\n",
            "test -z \"/usr/local/share/man/man1\" || /bin/mkdir -p \"/usr/local/share/man/man1\"\n",
            " /usr/bin/install -c -m 644 mecab.1 '/usr/local/share/man/man1'\n",
            "make[2]: Leaving directory '/tmp/mecab-0.996-ko-0.9.1/man'\n",
            "make[1]: Leaving directory '/tmp/mecab-0.996-ko-0.9.1/man'\n",
            "Making install in doc\n",
            "make[1]: Entering directory '/tmp/mecab-0.996-ko-0.9.1/doc'\n",
            "make[2]: Entering directory '/tmp/mecab-0.996-ko-0.9.1/doc'\n",
            "make[2]: Nothing to be done for 'install-exec-am'.\n",
            "make[2]: Nothing to be done for 'install-data-am'.\n",
            "make[2]: Leaving directory '/tmp/mecab-0.996-ko-0.9.1/doc'\n",
            "make[1]: Leaving directory '/tmp/mecab-0.996-ko-0.9.1/doc'\n",
            "Making install in tests\n",
            "make[1]: Entering directory '/tmp/mecab-0.996-ko-0.9.1/tests'\n",
            "make[2]: Entering directory '/tmp/mecab-0.996-ko-0.9.1/tests'\n",
            "make[2]: Nothing to be done for 'install-exec-am'.\n",
            "make[2]: Nothing to be done for 'install-data-am'.\n",
            "make[2]: Leaving directory '/tmp/mecab-0.996-ko-0.9.1/tests'\n",
            "make[1]: Leaving directory '/tmp/mecab-0.996-ko-0.9.1/tests'\n",
            "make[1]: Entering directory '/tmp/mecab-0.996-ko-0.9.1'\n",
            "make[2]: Entering directory '/tmp/mecab-0.996-ko-0.9.1'\n",
            "test -z \"/usr/local/bin\" || /bin/mkdir -p \"/usr/local/bin\"\n",
            " /usr/bin/install -c mecab-config '/usr/local/bin'\n",
            "test -z \"/usr/local/etc\" || /bin/mkdir -p \"/usr/local/etc\"\n",
            " /usr/bin/install -c -m 644 mecabrc '/usr/local/etc'\n",
            "make[2]: Leaving directory '/tmp/mecab-0.996-ko-0.9.1'\n",
            "make[1]: Leaving directory '/tmp/mecab-0.996-ko-0.9.1'\n"
          ],
          "name": "stdout"
        }
      ]
    },
    {
      "cell_type": "code",
      "metadata": {
        "id": "ZuSKRGJN2LsJ",
        "outputId": "e58388cd-f6c3-47a2-8d6c-b604abd9bafa",
        "colab": {
          "base_uri": "https://localhost:8080/",
          "height": 1000
        }
      },
      "source": [
        "import os\n",
        "os.chdir('/tmp')\n",
        "!curl -LO https://bitbucket.org/eunjeon/mecab-ko-dic/downloads/mecab-ko-dic-2.0.1-20150920.tar.gz\n",
        "!tar -zxvf mecab-ko-dic-2.0.1-20150920.tar.gz\n",
        "os.chdir('/tmp/mecab-ko-dic-2.0.1-20150920')\n",
        "!./autogen.sh\n",
        "!./configure\n",
        "!make\n",
        "# !sh -c 'echo \"dicdir=/usr/local/lib/mecab/dic/mecab-ko-dic\" > /usr/local/etc/mecabrc'\n",
        "!make install"
      ],
      "execution_count": null,
      "outputs": [
        {
          "output_type": "stream",
          "text": [
            "  % Total    % Received % Xferd  Average Speed   Time    Time     Time  Current\n",
            "                                 Dload  Upload   Total   Spent    Left  Speed\n",
            "  0     0    0     0    0     0      0      0 --:--:-- --:--:-- --:--:--     0\n",
            "100 46.3M  100 46.3M    0     0  8307k      0  0:00:05  0:00:05 --:--:-- 10.2M\n",
            "mecab-ko-dic-2.0.1-20150920/\n",
            "mecab-ko-dic-2.0.1-20150920/configure.ac\n",
            "mecab-ko-dic-2.0.1-20150920/Person-actor.csv\n",
            "mecab-ko-dic-2.0.1-20150920/IC.csv\n",
            "mecab-ko-dic-2.0.1-20150920/model.def\n",
            "mecab-ko-dic-2.0.1-20150920/user-dic/\n",
            "mecab-ko-dic-2.0.1-20150920/user-dic/place.csv\n",
            "mecab-ko-dic-2.0.1-20150920/user-dic/README.md\n",
            "mecab-ko-dic-2.0.1-20150920/user-dic/person.csv\n",
            "mecab-ko-dic-2.0.1-20150920/user-dic/nnp.csv\n",
            "mecab-ko-dic-2.0.1-20150920/Place.csv\n",
            "mecab-ko-dic-2.0.1-20150920/rewrite.def\n",
            "mecab-ko-dic-2.0.1-20150920/tools/\n",
            "mecab-ko-dic-2.0.1-20150920/tools/add-userdic.sh\n",
            "mecab-ko-dic-2.0.1-20150920/tools/mecab-bestn.sh\n",
            "mecab-ko-dic-2.0.1-20150920/tools/convert_for_using_store.sh\n",
            "mecab-ko-dic-2.0.1-20150920/right-id.def\n",
            "mecab-ko-dic-2.0.1-20150920/VX.csv\n",
            "mecab-ko-dic-2.0.1-20150920/XR.csv\n",
            "mecab-ko-dic-2.0.1-20150920/NP.csv\n",
            "mecab-ko-dic-2.0.1-20150920/XSN.csv\n",
            "mecab-ko-dic-2.0.1-20150920/feature.def\n",
            "mecab-ko-dic-2.0.1-20150920/README\n",
            "mecab-ko-dic-2.0.1-20150920/pos-id.def\n",
            "mecab-ko-dic-2.0.1-20150920/COPYING\n",
            "mecab-ko-dic-2.0.1-20150920/ETM.csv\n",
            "mecab-ko-dic-2.0.1-20150920/CoinedWord.csv\n",
            "mecab-ko-dic-2.0.1-20150920/Symbol.csv\n",
            "mecab-ko-dic-2.0.1-20150920/EC.csv\n",
            "mecab-ko-dic-2.0.1-20150920/INSTALL\n",
            "mecab-ko-dic-2.0.1-20150920/EF.csv\n",
            "mecab-ko-dic-2.0.1-20150920/unk.def\n",
            "mecab-ko-dic-2.0.1-20150920/J.csv\n",
            "mecab-ko-dic-2.0.1-20150920/ETN.csv\n",
            "mecab-ko-dic-2.0.1-20150920/NNBC.csv\n",
            "mecab-ko-dic-2.0.1-20150920/XSV.csv\n",
            "mecab-ko-dic-2.0.1-20150920/Group.csv\n",
            "mecab-ko-dic-2.0.1-20150920/dicrc\n",
            "mecab-ko-dic-2.0.1-20150920/VCP.csv\n",
            "mecab-ko-dic-2.0.1-20150920/EP.csv\n",
            "mecab-ko-dic-2.0.1-20150920/VV.csv\n",
            "mecab-ko-dic-2.0.1-20150920/NNP.csv\n",
            "mecab-ko-dic-2.0.1-20150920/NR.csv\n",
            "mecab-ko-dic-2.0.1-20150920/Preanalysis.csv\n",
            "mecab-ko-dic-2.0.1-20150920/Person.csv\n",
            "mecab-ko-dic-2.0.1-20150920/left-id.def\n",
            "mecab-ko-dic-2.0.1-20150920/Makefile.am\n",
            "mecab-ko-dic-2.0.1-20150920/NorthKorea.csv\n",
            "mecab-ko-dic-2.0.1-20150920/Inflect.csv\n",
            "mecab-ko-dic-2.0.1-20150920/configure\n",
            "mecab-ko-dic-2.0.1-20150920/VCN.csv\n",
            "mecab-ko-dic-2.0.1-20150920/MAJ.csv\n",
            "mecab-ko-dic-2.0.1-20150920/XSA.csv\n",
            "mecab-ko-dic-2.0.1-20150920/Foreign.csv\n",
            "mecab-ko-dic-2.0.1-20150920/NNB.csv\n",
            "mecab-ko-dic-2.0.1-20150920/VA.csv\n",
            "mecab-ko-dic-2.0.1-20150920/XPN.csv\n",
            "mecab-ko-dic-2.0.1-20150920/clean\n",
            "mecab-ko-dic-2.0.1-20150920/ChangeLog\n",
            "mecab-ko-dic-2.0.1-20150920/install-sh\n",
            "mecab-ko-dic-2.0.1-20150920/Wikipedia.csv\n",
            "mecab-ko-dic-2.0.1-20150920/autogen.sh\n",
            "mecab-ko-dic-2.0.1-20150920/Place-station.csv\n",
            "mecab-ko-dic-2.0.1-20150920/Place-address.csv\n",
            "mecab-ko-dic-2.0.1-20150920/AUTHORS\n",
            "mecab-ko-dic-2.0.1-20150920/Hanja.csv\n",
            "mecab-ko-dic-2.0.1-20150920/MM.csv\n",
            "mecab-ko-dic-2.0.1-20150920/missing\n",
            "mecab-ko-dic-2.0.1-20150920/.keep\n",
            "mecab-ko-dic-2.0.1-20150920/char.def\n",
            "mecab-ko-dic-2.0.1-20150920/matrix.def\n",
            "mecab-ko-dic-2.0.1-20150920/NEWS\n",
            "mecab-ko-dic-2.0.1-20150920/MAG.csv\n",
            "mecab-ko-dic-2.0.1-20150920/NNG.csv\n",
            "mecab-ko-dic-2.0.1-20150920/Makefile.in\n",
            "Looking in current directory for macros.\n",
            "configure.ac:2: warning: AM_INIT_AUTOMAKE: two- and three-arguments forms are deprecated.  For more info, see:\n",
            "configure.ac:2: http://www.gnu.org/software/automake/manual/automake.html#Modernize-AM_005fINIT_005fAUTOMAKE-invocation\n",
            "checking for a BSD-compatible install... /usr/bin/install -c\n",
            "checking whether build environment is sane... yes\n",
            "/tmp/mecab-ko-dic-2.0.1-20150920/missing: Unknown `--is-lightweight' option\n",
            "Try `/tmp/mecab-ko-dic-2.0.1-20150920/missing --help' for more information\n",
            "configure: WARNING: 'missing' script is too old or missing\n",
            "checking for a thread-safe mkdir -p... /bin/mkdir -p\n",
            "checking for gawk... no\n",
            "checking for mawk... mawk\n",
            "checking whether make sets $(MAKE)... yes\n",
            "checking whether make supports nested variables... yes\n",
            "checking for mecab-config... /usr/local/bin/mecab-config\n",
            "checking that generated files are newer than configure... done\n",
            "configure: creating ./config.status\n",
            "config.status: creating Makefile\n",
            "/usr/local/libexec/mecab/mecab-dict-index -d . -o . -f UTF-8 -t UTF-8\n",
            "reading ./unk.def ... 13\n",
            "emitting double-array: 100% |###########################################| \n",
            "reading ./Place-address.csv ... 19302\n",
            "reading ./IC.csv ... 1306\n",
            "reading ./CoinedWord.csv ... 142\n",
            "reading ./NP.csv ... 342\n",
            "reading ./VCP.csv ... 9\n",
            "reading ./NNBC.csv ... 677\n",
            "reading ./XSV.csv ... 24\n",
            "reading ./MAJ.csv ... 241\n",
            "reading ./NNP.csv ... 2371\n",
            "reading ./Inflect.csv ... 44850\n",
            "reading ./MAG.csv ... 14244\n",
            "reading ./J.csv ... 416\n",
            "reading ./EP.csv ... 51\n",
            "reading ./ETM.csv ... 133\n",
            "reading ./XR.csv ... 3637\n",
            "reading ./NorthKorea.csv ... 3\n",
            "reading ./NNG.csv ... 205269\n",
            "reading ./Hanja.csv ... 124570\n",
            "reading ./Preanalysis.csv ... 5\n",
            "reading ./Person.csv ... 196461\n",
            "reading ./Symbol.csv ... 16\n",
            "reading ./XSN.csv ... 124\n",
            "reading ./NNB.csv ... 140\n",
            "reading ./VX.csv ... 125\n",
            "reading ./EC.csv ... 2547\n",
            "reading ./Wikipedia.csv ... 36763\n",
            "reading ./VV.csv ... 7331\n",
            "reading ./Person-actor.csv ... 99237\n",
            "reading ./VCN.csv ... 7\n",
            "reading ./EF.csv ... 1820\n",
            "reading ./ETN.csv ... 14\n",
            "reading ./MM.csv ... 453\n",
            "reading ./XSA.csv ... 20\n",
            "reading ./VA.csv ... 2360\n",
            "reading ./Place-station.csv ... 1145\n",
            "reading ./NR.csv ... 482\n",
            "reading ./Group.csv ... 3176\n",
            "reading ./Place.csv ... 30300\n",
            "reading ./XPN.csv ... 83\n",
            "reading ./Foreign.csv ... 11599\n",
            "emitting double-array: 100% |###########################################| \n",
            "reading ./matrix.def ... 3819x2694\n",
            "emitting matrix      : 100% |###########################################| \n",
            "\n",
            "done!\n",
            "echo To enable dictionary, rewrite /usr/local/etc/mecabrc as \\\"dicdir = /usr/local/lib/mecab/dic/mecab-ko-dic\\\"\n",
            "To enable dictionary, rewrite /usr/local/etc/mecabrc as \"dicdir = /usr/local/lib/mecab/dic/mecab-ko-dic\"\n",
            "make[1]: Entering directory '/tmp/mecab-ko-dic-2.0.1-20150920'\n",
            "make[1]: Nothing to be done for 'install-exec-am'.\n",
            " /bin/mkdir -p '/usr/local/lib/mecab/dic/mecab-ko-dic'\n",
            " /usr/bin/install -c -m 644 model.bin matrix.bin char.bin sys.dic unk.dic left-id.def right-id.def rewrite.def pos-id.def dicrc '/usr/local/lib/mecab/dic/mecab-ko-dic'\n",
            "make[1]: Leaving directory '/tmp/mecab-ko-dic-2.0.1-20150920'\n"
          ],
          "name": "stdout"
        }
      ]
    },
    {
      "cell_type": "code",
      "metadata": {
        "id": "cAogrBJd2Lun",
        "outputId": "26cf0b46-bf30-449e-bff6-90526977407b",
        "colab": {
          "base_uri": "https://localhost:8080/",
          "height": 482
        }
      },
      "source": [
        "# install mecab-python\n",
        "import os\n",
        "os.chdir('/content')\n",
        "\n",
        "!git clone https://bitbucket.org/eunjeon/mecab-python-0.996.git\n",
        "os.chdir('/content/mecab-python-0.996')\n",
        "\n",
        "!python3 setup.py build\n",
        "!python3 setup.py install"
      ],
      "execution_count": null,
      "outputs": [
        {
          "output_type": "stream",
          "text": [
            "Cloning into 'mecab-python-0.996'...\n",
            "remote: Counting objects: 17, done.\u001b[K\n",
            "remote: Compressing objects: 100% (16/16), done.\u001b[K\n",
            "remote: Total 17 (delta 3), reused 0 (delta 0)\u001b[K\n",
            "Unpacking objects: 100% (17/17), done.\n",
            "running build\n",
            "running build_py\n",
            "creating build\n",
            "creating build/lib.linux-x86_64-3.6\n",
            "copying MeCab.py -> build/lib.linux-x86_64-3.6\n",
            "running build_ext\n",
            "building '_MeCab' extension\n",
            "creating build/temp.linux-x86_64-3.6\n",
            "x86_64-linux-gnu-gcc -pthread -DNDEBUG -g -fwrapv -O2 -Wall -g -fstack-protector-strong -Wformat -Werror=format-security -Wdate-time -D_FORTIFY_SOURCE=2 -fPIC -I/usr/local/include -I/usr/include/python3.6m -c MeCab_wrap.cxx -o build/temp.linux-x86_64-3.6/MeCab_wrap.o\n",
            "x86_64-linux-gnu-g++ -pthread -shared -Wl,-O1 -Wl,-Bsymbolic-functions -Wl,-Bsymbolic-functions -Wl,-z,relro -Wl,-Bsymbolic-functions -Wl,-z,relro -g -fstack-protector-strong -Wformat -Werror=format-security -Wdate-time -D_FORTIFY_SOURCE=2 build/temp.linux-x86_64-3.6/MeCab_wrap.o -L/usr/local/lib -lmecab -lstdc++ -o build/lib.linux-x86_64-3.6/_MeCab.cpython-36m-x86_64-linux-gnu.so\n",
            "running install\n",
            "running build\n",
            "running build_py\n",
            "running build_ext\n",
            "running install_lib\n",
            "copying build/lib.linux-x86_64-3.6/_MeCab.cpython-36m-x86_64-linux-gnu.so -> /usr/local/lib/python3.6/dist-packages\n",
            "copying build/lib.linux-x86_64-3.6/MeCab.py -> /usr/local/lib/python3.6/dist-packages\n",
            "byte-compiling /usr/local/lib/python3.6/dist-packages/MeCab.py to MeCab.cpython-36.pyc\n",
            "running install_egg_info\n",
            "Writing /usr/local/lib/python3.6/dist-packages/mecab_python-0.996_ko_0.9.0.egg-info\n"
          ],
          "name": "stdout"
        }
      ]
    },
    {
      "cell_type": "markdown",
      "metadata": {
        "id": "XU0c39OB2Z4O"
      },
      "source": [
        "## Mecab\n",
        "\n",
        "- 일본어 형태소 분석용 오픈소스로 개발된 모듈\n",
        "- 한국어에 맞게 wrapping해서 제공\n",
        "- 한글 분절용  형태소 분석기로 가장 많이 사용\n",
        "- his\n",
        "  - 은전한닢이라는 내용을 처음으로 적용(Mecan Fork 프로젝트) \n",
        "  - koLlpy에 포함되었다"
      ]
    },
    {
      "cell_type": "markdown",
      "metadata": {
        "id": "gPk00ArN23dx"
      },
      "source": [
        "- 설치 : 후에는 번거로우니 코드를 한 칸에 몰아서 설치\n",
        "  - konlpy 설치\n",
        "  - open jdk 설치\n",
        "  - Mecab 소스 다운로드, 컴파일\n",
        "  - Mecab-ko 모듈 설치\n",
        "  - Mecab-ko-dic 모듈 설치\n",
        "  - Mecab 설치"
      ]
    },
    {
      "cell_type": "code",
      "metadata": {
        "id": "vZVAp8u12Lw2",
        "outputId": "6fea04cd-cf6d-4b36-a5ac-1e05ff3bd005",
        "colab": {
          "base_uri": "https://localhost:8080/",
          "height": 70
        }
      },
      "source": [
        "# nltk 적용\n",
        "nltk.download('punkt')"
      ],
      "execution_count": null,
      "outputs": [
        {
          "output_type": "stream",
          "text": [
            "[nltk_data] Downloading package punkt to /root/nltk_data...\n",
            "[nltk_data]   Unzipping tokenizers/punkt.zip.\n"
          ],
          "name": "stdout"
        },
        {
          "output_type": "execute_result",
          "data": {
            "text/plain": [
              "True"
            ]
          },
          "metadata": {
            "tags": []
          },
          "execution_count": 8
        }
      ]
    },
    {
      "cell_type": "code",
      "metadata": {
        "id": "WIKXmzfr2LzJ",
        "outputId": "9d5615e0-3d83-4ed0-84f0-beb2ce3f86d2",
        "colab": {
          "base_uri": "https://localhost:8080/",
          "height": 144
        }
      },
      "source": [
        "from nltk.tokenize import sent_tokenize\n",
        "\n",
        "with open('/content/drive/My Drive/2020_AI_Busan/4_DeepLearning/data_download/rnn/test.txt', 'r') as f:\n",
        "  for line  in f:\n",
        "    # 문자 획득\n",
        "    msg = line.strip()\n",
        "    if msg:\n",
        "      # 한 줄상에서 존재하는 여러 개의 문장을 추출\n",
        "      # 문장의 끝을 .을 기준으로 판단\n",
        "      # .을 쓰지 않고 문장을 끝내는 경우가 많은데, 이 경우 적합하지 않다\n",
        "      # 문장은 문단을 구성하고, 형태소 분석을 하기 위해 단위를 나눌 때는 문장 단위가 의미론적으로는 적합\n",
        "      sentences =  sent_tokenize( msg )\n",
        "      for s in sentences:\n",
        "        if s : print( s )"
      ],
      "execution_count": null,
      "outputs": [
        {
          "output_type": "stream",
          "text": [
            "초기 인공지능 연구에 대한 대표적인 정의는 다트머스 회의에서 존 매카시가 제안한 것으로 \"기계를 인간 행동의 지식에서와 같이 행동하게 만드는 것\"이다 그러나 이 정의는 범용인공지능(AGI, 강한 인공지능)에 대한 고려를 하지 못한 것 같다.\n",
            "인공지능의 또다른 정의는 인공적인 장치들이 가지는 지능이다.\n",
            "거의 대부분 정의들이 인간처럼 사고하는 시스템, 인간처럼 행동하는 시스템, 이성적으로 사고하는 시스템 그리고 이성적으로 행동하는 시스템이라는 4개의 분류로 분류된다.\n",
            "신종 코로나바이러스 감염증(코로나19) 여파로 3주 넘게 영업을 못 하고 있는 PC방 점주들이 다음 주 거리로 나온다.\n",
            "거리 집회의 호소 대상은 국회다.\n",
            "PC방은 ‘코로나19 고위험시설’로 지정돼있는데 업계는 이를 해제해달라고 요구하고 있다.\n"
          ],
          "name": "stdout"
        }
      ]
    },
    {
      "cell_type": "markdown",
      "metadata": {
        "id": "mK2Y-ctW6AP_"
      },
      "source": [
        "- 문장단위 작업이 녹록치 않다\n",
        "- 형태소 단위로 쪼개서 진행"
      ]
    },
    {
      "cell_type": "code",
      "metadata": {
        "id": "Uc-XcmVz6KYA"
      },
      "source": [
        "# 영어 쪽 형태소 처리\n",
        "import spacy"
      ],
      "execution_count": null,
      "outputs": []
    },
    {
      "cell_type": "code",
      "metadata": {
        "id": "eQ4_XueP5_yY",
        "outputId": "0ba323b1-7d85-4f39-ddb5-96f1dd273fc7",
        "colab": {
          "base_uri": "https://localhost:8080/",
          "height": 88
        }
      },
      "source": [
        "# 재료\n",
        "enc_txt = 'Founded in July 2003 by engineers Martin Eberhard and Marc Tarpenning as Tesla Motors, the company’s name is a tribute to inventor and electrical engineer Nikola Tesla. The next three employees were Ian Wright, Elon Musk, and J. B. Straubel, all of whom are named as co-founders of the company.'\n",
        "enc_txt"
      ],
      "execution_count": null,
      "outputs": [
        {
          "output_type": "execute_result",
          "data": {
            "application/vnd.google.colaboratory.intrinsic+json": {
              "type": "string"
            },
            "text/plain": [
              "'Founded in July 2003 by engineers Martin Eberhard and Marc Tarpenning as Tesla Motors, the company’s name is a tribute to inventor and electrical engineer Nikola Tesla. The next three employees were Ian Wright, Elon Musk, and J. B. Straubel, all of whom are named as co-founders of the company.'"
            ]
          },
          "metadata": {
            "tags": []
          },
          "execution_count": 11
        }
      ]
    },
    {
      "cell_type": "code",
      "metadata": {
        "id": "OCGU0LsW6jEl"
      },
      "source": [
        "spacy_en = spacy.load('en')"
      ],
      "execution_count": null,
      "outputs": []
    },
    {
      "cell_type": "code",
      "metadata": {
        "id": "vO_r3IEN6s6x",
        "outputId": "bcc70296-1dc9-4b1c-f6ba-219f11f3f8a1",
        "colab": {
          "base_uri": "https://localhost:8080/",
          "height": 54
        }
      },
      "source": [
        "# 말뭉치를 덩어리째 묶어서 토큰 단위로 분해 -> 리스트로 리턴\n",
        "print( [ token for token in spacy_en.tokenizer( enc_txt ) ] )"
      ],
      "execution_count": null,
      "outputs": [
        {
          "output_type": "stream",
          "text": [
            "[Founded, in, July, 2003, by, engineers, Martin, Eberhard, and, Marc, Tarpenning, as, Tesla, Motors, ,, the, company, ’s, name, is, a, tribute, to, inventor, and, electrical, engineer, Nikola, Tesla, ., The, next, three, employees, were, Ian, Wright, ,, Elon, Musk, ,, and, J., B., Straubel, ,, all, of, whom, are, named, as, co, -, founders, of, the, company, .]\n"
          ],
          "name": "stdout"
        }
      ]
    },
    {
      "cell_type": "markdown",
      "metadata": {
        "id": "xIwB0U0dzSq2"
      },
      "source": [
        "## Mecab을 이용한 한글 분절"
      ]
    },
    {
      "cell_type": "markdown",
      "metadata": {
        "id": "OcWbA35Zli1t"
      },
      "source": [
        "- 한글을 띄어쓰기 기준으로 하면, 토큰화 처리 시 의미가 불명확해 진다\n",
        "  - 이런 이유로 언어적인 특징도 고려하여 형태소 단위로 진행"
      ]
    },
    {
      "cell_type": "code",
      "metadata": {
        "id": "QkvstoROlt-U"
      },
      "source": [
        "from konlpy.tag import Mecab"
      ],
      "execution_count": null,
      "outputs": []
    },
    {
      "cell_type": "code",
      "metadata": {
        "id": "I2wVlmszlXUh",
        "outputId": "17ded4c6-ee82-4b3c-e105-192bcede77fb",
        "colab": {
          "base_uri": "https://localhost:8080/",
          "height": 34
        }
      },
      "source": [
        "# 재료\n",
        "ko_sentence = '오늘 점심 무엇으로 먹을까'\n",
        "ko_sentence"
      ],
      "execution_count": null,
      "outputs": [
        {
          "output_type": "execute_result",
          "data": {
            "application/vnd.google.colaboratory.intrinsic+json": {
              "type": "string"
            },
            "text/plain": [
              "'오늘 점심 무엇으로 먹을까'"
            ]
          },
          "metadata": {
            "tags": []
          },
          "execution_count": 15
        }
      ]
    },
    {
      "cell_type": "code",
      "metadata": {
        "id": "dcx_wdaolXbT",
        "outputId": "2a13ca09-61ec-40ef-9994-764821241786",
        "colab": {
          "base_uri": "https://localhost:8080/",
          "height": 34
        }
      },
      "source": [
        "# 형태소 분석기\n",
        "tokenizer = Mecab()\n",
        "# 형태소 처리\n",
        "tokenizer.morphs( ko_sentence )"
      ],
      "execution_count": null,
      "outputs": [
        {
          "output_type": "execute_result",
          "data": {
            "text/plain": [
              "['오늘', '점심', '무엇', '으로', '먹', '을까']"
            ]
          },
          "metadata": {
            "tags": []
          },
          "execution_count": 16
        }
      ]
    },
    {
      "cell_type": "markdown",
      "metadata": {
        "id": "qKJVatXUm3dm"
      },
      "source": [
        "- [성분표](http://bit.ly/2StqivH)(형태소 분석기별 성분에 대한 설명표)"
      ]
    },
    {
      "cell_type": "code",
      "metadata": {
        "id": "n7VCmjA9niSd",
        "outputId": "fcfba208-11a8-4a1c-bcc6-13f32f5cda35",
        "colab": {
          "base_uri": "https://localhost:8080/",
          "height": 124
        }
      },
      "source": [
        "# 형태소 + 요소(tag명) 같이 추출\n",
        "# 품사 태깅을 수행했다 -> pos()\n",
        "# 형태소의 성분을 같이 추출\n",
        "tokens = tokenizer.pos( ko_sentence )\n",
        "tokens"
      ],
      "execution_count": null,
      "outputs": [
        {
          "output_type": "execute_result",
          "data": {
            "text/plain": [
              "[('오늘', 'MAG'),\n",
              " ('점심', 'NNG'),\n",
              " ('무엇', 'NP'),\n",
              " ('으로', 'JKB'),\n",
              " ('먹', 'VV'),\n",
              " ('을까', 'EC')]"
            ]
          },
          "metadata": {
            "tags": []
          },
          "execution_count": 17
        }
      ]
    },
    {
      "cell_type": "code",
      "metadata": {
        "id": "4pvARqxTn8UL",
        "outputId": "2f841820-c645-4ed7-f197-75efecfc76eb",
        "colab": {
          "base_uri": "https://localhost:8080/",
          "height": 34
        }
      },
      "source": [
        "# 성분 정보 추출\n",
        "tokenizer.tagset.get( 'MAG' )"
      ],
      "execution_count": null,
      "outputs": [
        {
          "output_type": "execute_result",
          "data": {
            "application/vnd.google.colaboratory.intrinsic+json": {
              "type": "string"
            },
            "text/plain": [
              "'일반 부사'"
            ]
          },
          "metadata": {
            "tags": []
          },
          "execution_count": 18
        }
      ]
    },
    {
      "cell_type": "code",
      "metadata": {
        "id": "VauBmcWsoNyO",
        "outputId": "76752f7a-7967-4857-bdaf-be460bcf94a6",
        "colab": {
          "base_uri": "https://localhost:8080/",
          "height": 124
        }
      },
      "source": [
        "# tag -> 'MAG' 이렇게 보면 의미를 모르니까 한글로 번역해서 보여준다\n",
        "[ (token, tokenizer.tagset.get( tag ) ) for token, tag in tokens ]"
      ],
      "execution_count": null,
      "outputs": [
        {
          "output_type": "execute_result",
          "data": {
            "text/plain": [
              "[('오늘', '일반 부사'),\n",
              " ('점심', '일반 명사'),\n",
              " ('무엇', '대명사'),\n",
              " ('으로', '부사격 조사'),\n",
              " ('먹', '동사'),\n",
              " ('을까', '연결 어미')]"
            ]
          },
          "metadata": {
            "tags": []
          },
          "execution_count": 19
        }
      ]
    },
    {
      "cell_type": "markdown",
      "metadata": {
        "id": "vMzQ338KzStV"
      },
      "source": [
        "## 영어 분절 샘플"
      ]
    },
    {
      "cell_type": "code",
      "metadata": {
        "id": "BzU3bkDax5Mg",
        "outputId": "a9cce795-2e6b-40ff-d2bd-d2a22dc65757",
        "colab": {
          "base_uri": "https://localhost:8080/",
          "height": 70
        }
      },
      "source": [
        "nltk.download('perluniprops')"
      ],
      "execution_count": null,
      "outputs": [
        {
          "output_type": "stream",
          "text": [
            "[nltk_data] Downloading package perluniprops to /root/nltk_data...\n",
            "[nltk_data]   Unzipping misc/perluniprops.zip.\n"
          ],
          "name": "stdout"
        },
        {
          "output_type": "execute_result",
          "data": {
            "text/plain": [
              "True"
            ]
          },
          "metadata": {
            "tags": []
          },
          "execution_count": 20
        }
      ]
    },
    {
      "cell_type": "code",
      "metadata": {
        "id": "duJfM9-WpONJ"
      },
      "source": [
        "from nltk.tokenize.moses import MosesTokenizer"
      ],
      "execution_count": null,
      "outputs": []
    },
    {
      "cell_type": "code",
      "metadata": {
        "id": "Vl1z8-YjpU_q",
        "outputId": "07bfa381-3fe1-4ee0-d983-20bf8c20d443",
        "colab": {
          "base_uri": "https://localhost:8080/",
          "height": 70
        }
      },
      "source": [
        "# 영어 문자 샘플\n",
        "en_str = '''Trump was born and raised in Queens, a borough of New York City. He attended Fordham University for two years and received a bachelor's degree in economics from the Wharton School of the University of Pennsylvania.'''\n",
        "en_str"
      ],
      "execution_count": null,
      "outputs": [
        {
          "output_type": "execute_result",
          "data": {
            "application/vnd.google.colaboratory.intrinsic+json": {
              "type": "string"
            },
            "text/plain": [
              "\"Trump was born and raised in Queens, a borough of New York City. He attended Fordham University for two years and received a bachelor's degree in economics from the Wharton School of the University of Pennsylvania.\""
            ]
          },
          "metadata": {
            "tags": []
          },
          "execution_count": 22
        }
      ]
    },
    {
      "cell_type": "code",
      "metadata": {
        "id": "ZYH-Ko9cpy8a",
        "outputId": "95b7ff09-2c16-4fd8-a7ee-0514996342fa",
        "colab": {
          "base_uri": "https://localhost:8080/",
          "height": 70
        }
      },
      "source": [
        "# 추가 다운로후 생성\n",
        "nltk.download('nonbreaking_prefixes')\n",
        "mt = MosesTokenizer()"
      ],
      "execution_count": null,
      "outputs": [
        {
          "output_type": "stream",
          "text": [
            "[nltk_data] Downloading package nonbreaking_prefixes to\n",
            "[nltk_data]     /root/nltk_data...\n",
            "[nltk_data]   Unzipping corpora/nonbreaking_prefixes.zip.\n"
          ],
          "name": "stdout"
        }
      ]
    },
    {
      "cell_type": "code",
      "metadata": {
        "id": "F6YEImWjp-C4",
        "outputId": "f855d9aa-4dc6-4758-c1d7-92e1aee4f417",
        "colab": {
          "base_uri": "https://localhost:8080/",
          "height": 730
        }
      },
      "source": [
        "mt.tokenize( en_str )"
      ],
      "execution_count": null,
      "outputs": [
        {
          "output_type": "execute_result",
          "data": {
            "text/plain": [
              "['Trump',\n",
              " 'was',\n",
              " 'born',\n",
              " 'and',\n",
              " 'raised',\n",
              " 'in',\n",
              " 'Queens',\n",
              " ',',\n",
              " 'a',\n",
              " 'borough',\n",
              " 'of',\n",
              " 'New',\n",
              " 'York',\n",
              " 'City',\n",
              " '.',\n",
              " 'He',\n",
              " 'attended',\n",
              " 'Fordham',\n",
              " 'University',\n",
              " 'for',\n",
              " 'two',\n",
              " 'years',\n",
              " 'and',\n",
              " 'received',\n",
              " 'a',\n",
              " 'bachelor',\n",
              " '&apos;s',\n",
              " 'degree',\n",
              " 'in',\n",
              " 'economics',\n",
              " 'from',\n",
              " 'the',\n",
              " 'Wharton',\n",
              " 'School',\n",
              " 'of',\n",
              " 'the',\n",
              " 'University',\n",
              " 'of',\n",
              " 'Pennsylvania',\n",
              " '.']"
            ]
          },
          "metadata": {
            "tags": []
          },
          "execution_count": 24
        }
      ]
    },
    {
      "cell_type": "markdown",
      "metadata": {
        "id": "x0-5vW2SqVCM"
      },
      "source": [
        "# 사전 생성\n",
        "- 단어장, 보케 등"
      ]
    },
    {
      "cell_type": "markdown",
      "metadata": {
        "id": "Auw77lv_qdxL"
      },
      "source": [
        "- 생성방법\n",
        "  - 중복되지 않은 토큰(형태소)을 준비\n",
        "  - 해당 토큰에 고유한 번호를 부여 or 빈도를 부여\n",
        "  - 토큰을 이용해서 만들어진 사전을 이용해, 문장을 수치로 표현 : 단어 임베딩\n",
        "  - 단어 임베딩 데이터를 이용하여 RNN으로 진입하게 된다\n"
      ]
    },
    {
      "cell_type": "markdown",
      "metadata": {
        "id": "Fb9F82yxrqRY"
      },
      "source": [
        "- 단어장 만들기\n",
        "  - 재료 : /content/drive/My Drive/2020_AI_Busan/4_DeepLearning/data_download/rnn/rating.txt\n",
        "  - 내용 : \n",
        "    - 네이버 영화에 대한 감성 데이터(리뷰)\n",
        "    - 아이디, 내용, 평가(1:긍정, 0:부정)\n",
        "    - 구분자 :  \\t\n",
        "    - 1번 라인은 컬럼명이므로 데이터 읽을 때 제외"
      ]
    },
    {
      "cell_type": "code",
      "metadata": {
        "id": "BAeJ9S3TqKOx"
      },
      "source": [
        "# 1. 형태소 분석기 준비\n",
        "from konlpy.tag import Mecab\n",
        "tokenizer = Mecab()"
      ],
      "execution_count": null,
      "outputs": []
    },
    {
      "cell_type": "code",
      "metadata": {
        "id": "Fch6zGX7sdiz",
        "outputId": "5e6f0d8d-4799-4c36-ebd5-0152d0c98e74",
        "colab": {
          "base_uri": "https://localhost:8080/",
          "height": 52
        }
      },
      "source": [
        "# 2. 데이터를 읽어서, 처리(?)\n",
        "with open('/content/drive/My Drive/2020_AI_Busan/4_DeepLearning/data_download/rnn/rating.txt') as f:\n",
        "  # splitlines() : 다 읽어서 라인별로 분할해서 리스트로 반환\n",
        "  # [1:] : 컬럼라인을 제거하고 나머지 모두 획득\n",
        "  raw = f.read().splitlines()[1:]\n",
        "  print( len( raw ) )\n",
        "  print( raw[0] )\n",
        "  pass"
      ],
      "execution_count": null,
      "outputs": [
        {
          "output_type": "stream",
          "text": [
            "18597\n",
            "8112052\t어릴때보고 지금다시봐도 재밌어요ㅋㅋ\t1\n"
          ],
          "name": "stdout"
        }
      ]
    },
    {
      "cell_type": "code",
      "metadata": {
        "id": "GY6aqIyJs0YY",
        "outputId": "408ea8c9-bfbe-4ea0-bfbf-085c22c509ca",
        "colab": {
          "base_uri": "https://localhost:8080/",
          "height": 52
        }
      },
      "source": [
        "with open('/content/drive/My Drive/2020_AI_Busan/4_DeepLearning/data_download/rnn/rating.txt') as f:  \n",
        "  raw = f.read().splitlines()[1:]\n",
        "  # 샘플링 1개의 리뷰만 처리해서 원하는 형태를 구성 -> 전체 적용, 부분 적용\n",
        "  # 리뷰와 긍부정만 취한다면\n",
        "  x = raw[0].split('\\t')[1:]\n",
        "  print( type(raw[0]),  x   )\n",
        "  # 형태소 처리 => x[0]\n",
        "  print( tokenizer.morphs( x[0] ) )"
      ],
      "execution_count": null,
      "outputs": [
        {
          "output_type": "stream",
          "text": [
            "<class 'str'> ['어릴때보고 지금다시봐도 재밌어요ㅋㅋ', '1']\n",
            "['어릴', '때', '보', '고', '지금', '다시', '봐도', '재밌', '어요', 'ㅋㅋ']\n"
          ],
          "name": "stdout"
        }
      ]
    },
    {
      "cell_type": "code",
      "metadata": {
        "id": "VVMUnPwvt_Dg",
        "outputId": "faf17f89-e30a-471e-9ffe-7712c74638ac",
        "colab": {
          "base_uri": "https://localhost:8080/",
          "height": 1000
        }
      },
      "source": [
        "with open('/content/drive/My Drive/2020_AI_Busan/4_DeepLearning/data_download/rnn/rating.txt') as f:  \n",
        "  raw = f.read().splitlines()[1:]\n",
        "  # 산출물 : [ ( ['어릴', '때',...], 1 ), (), (),    ]\n",
        "  # 1. 문자열에서 문장과 평점을 분리\n",
        "  #    문자열이 여러 개 존재 => 18597의 데이터를 한개씩 접근해서 \n",
        "  #    ex) ['어릴때보고 지금다시봐도 재밌어요ㅋㅋ', '1']에 추출해야 한다\n",
        "  data = list( map( lambda x:x.split('\\t')[1:] , raw ) )\n",
        "  # 2. 최종형태\n",
        "  # data = list( map( lambda x:( tokenizer.morphs( x[0] ) , int(x[1]) ), data) )\n",
        "  def chgX( x ):\n",
        "    if len(x)>1: # 정상 데이터    \n",
        "      return ( tokenizer.morphs( x[0] ) , int(x[1].strip()) )\n",
        "    else: # 비정상 데이터 -> 제거, 보정 결정\n",
        "      print( x )\n",
        "      return ( tokenizer.morphs( x[0] ) , 1 )\n",
        "  data = list( map( chgX, data) )\n",
        "  # data로 추출하시오  \n",
        "\n",
        "data[:2]"
      ],
      "execution_count": null,
      "outputs": [
        {
          "output_type": "stream",
          "text": [
            "['리페이스 출연작이라 보게 되었지만 참 좋은 영화군요. 잘 만들었어요. 왜 이제 봤나 싶을 정도, 에이미 아담스 매력 터짐. 리페이스도 멋있어']\n"
          ],
          "name": "stdout"
        },
        {
          "output_type": "execute_result",
          "data": {
            "text/plain": [
              "[(['어릴', '때', '보', '고', '지금', '다시', '봐도', '재밌', '어요', 'ㅋㅋ'], 1),\n",
              " (['디자인',\n",
              "   '을',\n",
              "   '배우',\n",
              "   '는',\n",
              "   '학생',\n",
              "   '으로',\n",
              "   ',',\n",
              "   '외국',\n",
              "   '디자이너',\n",
              "   '와',\n",
              "   '그',\n",
              "   '들',\n",
              "   '이',\n",
              "   '일군',\n",
              "   '전통',\n",
              "   '을',\n",
              "   '통해',\n",
              "   '발전',\n",
              "   '해',\n",
              "   '가',\n",
              "   '는',\n",
              "   '문화',\n",
              "   '산업',\n",
              "   '이',\n",
              "   '부러웠',\n",
              "   '는데',\n",
              "   '.',\n",
              "   '사실',\n",
              "   '우리',\n",
              "   '나라',\n",
              "   '에서',\n",
              "   '도',\n",
              "   '그',\n",
              "   '어려운',\n",
              "   '시절',\n",
              "   '에',\n",
              "   '끝',\n",
              "   '까지',\n",
              "   '열정',\n",
              "   '을',\n",
              "   '지킨',\n",
              "   '노라노',\n",
              "   '같',\n",
              "   '은',\n",
              "   '전통',\n",
              "   '이',\n",
              "   '있',\n",
              "   '어',\n",
              "   '저',\n",
              "   '와',\n",
              "   '같',\n",
              "   '은',\n",
              "   '사람',\n",
              "   '들',\n",
              "   '이',\n",
              "   '꿈',\n",
              "   '을',\n",
              "   '꾸',\n",
              "   '고',\n",
              "   '이뤄나갈',\n",
              "   '수',\n",
              "   '있',\n",
              "   '다는',\n",
              "   '것',\n",
              "   '에',\n",
              "   '감사',\n",
              "   '합니다',\n",
              "   '.'],\n",
              "  1)]"
            ]
          },
          "metadata": {
            "tags": []
          },
          "execution_count": 28
        }
      ]
    },
    {
      "cell_type": "code",
      "metadata": {
        "id": "r9wYOeWT1buV",
        "outputId": "3ca76162-65ac-4a99-e46d-2962bd019c2c",
        "colab": {
          "base_uri": "https://localhost:8080/",
          "height": 34
        }
      },
      "source": [
        "# 현재까지 데이터 \n",
        "len(data), data[0]"
      ],
      "execution_count": null,
      "outputs": [
        {
          "output_type": "execute_result",
          "data": {
            "text/plain": [
              "(18597, (['어릴', '때', '보', '고', '지금', '다시', '봐도', '재밌', '어요', 'ㅋㅋ'], 1))"
            ]
          },
          "metadata": {
            "tags": []
          },
          "execution_count": 29
        }
      ]
    },
    {
      "cell_type": "code",
      "metadata": {
        "id": "Nu5z_nK03_Ha",
        "outputId": "03128336-6d24-4bc9-bce0-919c743d9cbd",
        "colab": {
          "base_uri": "https://localhost:8080/",
          "height": 1000
        }
      },
      "source": [
        "# 사전화시키기 위해서 샘플데이터 앞에서 5번부터 10개, 뒤에서 10개 준비\n",
        "sample_data = data[5:5+10] + data[-10:]\n",
        "sample_data[0], sample_data[-1]"
      ],
      "execution_count": null,
      "outputs": [
        {
          "output_type": "execute_result",
          "data": {
            "text/plain": [
              "((['사랑',\n",
              "   '을',\n",
              "   '해',\n",
              "   '본',\n",
              "   '사람',\n",
              "   '이',\n",
              "   '라면',\n",
              "   '처음',\n",
              "   '부터',\n",
              "   '끝',\n",
              "   '까지',\n",
              "   '웃',\n",
              "   '을',\n",
              "   '수',\n",
              "   '있',\n",
              "   '는',\n",
              "   '영화'],\n",
              "  1),\n",
              " (['리페이스',\n",
              "   '출연',\n",
              "   '작',\n",
              "   '이',\n",
              "   '라',\n",
              "   '보',\n",
              "   '게',\n",
              "   '되',\n",
              "   '었',\n",
              "   '지만',\n",
              "   '참',\n",
              "   '좋',\n",
              "   '은',\n",
              "   '영화',\n",
              "   '군요',\n",
              "   '.',\n",
              "   '잘',\n",
              "   '만들',\n",
              "   '었',\n",
              "   '어요',\n",
              "   '.',\n",
              "   '왜',\n",
              "   '이제',\n",
              "   '봤',\n",
              "   '나',\n",
              "   '싶',\n",
              "   '을',\n",
              "   '정도',\n",
              "   ',',\n",
              "   '에',\n",
              "   '이미',\n",
              "   '아담스',\n",
              "   '매력',\n",
              "   '터짐',\n",
              "   '.',\n",
              "   '리페이스',\n",
              "   '도',\n",
              "   '멋있',\n",
              "   '어'],\n",
              "  1))"
            ]
          },
          "metadata": {
            "tags": []
          },
          "execution_count": 30
        }
      ]
    },
    {
      "cell_type": "code",
      "metadata": {
        "id": "nR1bhEsR49nY",
        "outputId": "6d77a65e-bb2b-41c2-b610-b745ccbda708",
        "colab": {
          "base_uri": "https://localhost:8080/",
          "height": 1000
        }
      },
      "source": [
        "# 리스트 구성원들끼리 묶어서 표현\n",
        "# 구성원들끼지 묶어서 데이터를 구성한다!\n",
        "# 원본 [ ( ['어릴', '때',...], 1 ), (), (),    ] <=  sample_data\n",
        "# 변경 [ ([],[],[],... ),( 1,1,0,0,1,0,,...)   ]\n",
        "# zip( 객체의 실제주소를 입력(함수가 요청해서 포인터 형태로 제공) )\n",
        "tmp = list( zip( *sample_data ) )\n",
        "tmp"
      ],
      "execution_count": null,
      "outputs": [
        {
          "output_type": "execute_result",
          "data": {
            "text/plain": [
              "[(['사랑',\n",
              "   '을',\n",
              "   '해',\n",
              "   '본',\n",
              "   '사람',\n",
              "   '이',\n",
              "   '라면',\n",
              "   '처음',\n",
              "   '부터',\n",
              "   '끝',\n",
              "   '까지',\n",
              "   '웃',\n",
              "   '을',\n",
              "   '수',\n",
              "   '있',\n",
              "   '는',\n",
              "   '영화'],\n",
              "  ['완전', '감동', '입니다', '다시', '봐도', '감동'],\n",
              "  ['개',\n",
              "   '들',\n",
              "   '의',\n",
              "   '전쟁',\n",
              "   '2',\n",
              "   '나오',\n",
              "   '나요',\n",
              "   '?',\n",
              "   '나오',\n",
              "   '면',\n",
              "   '1',\n",
              "   '빠',\n",
              "   '로',\n",
              "   '보',\n",
              "   '고',\n",
              "   '싶',\n",
              "   '음'],\n",
              "  ['굿'],\n",
              "  ['바보', '가', '아니', '라', '병', '쉰', '인', '듯'],\n",
              "  ['내',\n",
              "   '나이',\n",
              "   '와',\n",
              "   '같',\n",
              "   '은',\n",
              "   '영화',\n",
              "   '를',\n",
              "   '지금',\n",
              "   '본',\n",
              "   '나',\n",
              "   '는',\n",
              "   '감동',\n",
              "   '적',\n",
              "   '이',\n",
              "   '다',\n",
              "   '.',\n",
              "   '.',\n",
              "   '하지만',\n",
              "   '훗날',\n",
              "   '다시',\n",
              "   '보',\n",
              "   '면',\n",
              "   '대사',\n",
              "   '하나하나',\n",
              "   '그',\n",
              "   '감정',\n",
              "   '을',\n",
              "   '완벽',\n",
              "   '하',\n",
              "   '게',\n",
              "   '이해',\n",
              "   '할',\n",
              "   '것',\n",
              "   '만',\n",
              "   '같',\n",
              "   '다',\n",
              "   '.',\n",
              "   '..'],\n",
              "  ['재밌', '다'],\n",
              "  ['고질라', '니무', '귀엽', '다', '능', 'ㅋㅋ'],\n",
              "  ['영화',\n",
              "   '의',\n",
              "   '오페라',\n",
              "   '화',\n",
              "   '라고',\n",
              "   '해야',\n",
              "   '할',\n",
              "   '작품',\n",
              "   '.',\n",
              "   '극단',\n",
              "   '적',\n",
              "   '평갈',\n",
              "   '림',\n",
              "   '은',\n",
              "   '어쩔',\n",
              "   '수',\n",
              "   '없',\n",
              "   '는',\n",
              "   '듯',\n",
              "   '.'],\n",
              "  ['3', '도', '반전', '좋', '았', '제', '^^'],\n",
              "  ['애초',\n",
              "   '에',\n",
              "   '부자지간',\n",
              "   '의',\n",
              "   '정',\n",
              "   '에',\n",
              "   '대해',\n",
              "   '모르',\n",
              "   '는',\n",
              "   '사람',\n",
              "   '들',\n",
              "   '은',\n",
              "   '이해',\n",
              "   '못',\n",
              "   '할',\n",
              "   '영화',\n",
              "   '.',\n",
              "   '그러나',\n",
              "   '망',\n",
              "   '작',\n",
              "   '도',\n",
              "   '아님',\n",
              "   '.',\n",
              "   '단지',\n",
              "   '그',\n",
              "   '들',\n",
              "   '이',\n",
              "   '공감',\n",
              "   '하',\n",
              "   '지',\n",
              "   '못하',\n",
              "   '기',\n",
              "   '에',\n",
              "   '평',\n",
              "   '이',\n",
              "   '낮',\n",
              "   '을',\n",
              "   '뿐',\n",
              "   '.'],\n",
              "  ['아주', '유쾌', '하', '고', '신나', '는', '영화', '.'],\n",
              "  ['이렇게',\n",
              "   '예쁘',\n",
              "   '고',\n",
              "   '소중',\n",
              "   '한',\n",
              "   '영화',\n",
              "   '가',\n",
              "   '소리',\n",
              "   '없이',\n",
              "   '사라져서',\n",
              "   '슬퍼요',\n",
              "   '.',\n",
              "   '영화관',\n",
              "   '에',\n",
              "   '도',\n",
              "   '정말',\n",
              "   '관객',\n",
              "   '이',\n",
              "   '적',\n",
              "   '었',\n",
              "   '어요',\n",
              "   '.'],\n",
              "  ['왜',\n",
              "   '그러',\n",
              "   '지',\n",
              "   '별점',\n",
              "   '이',\n",
              "   '약하',\n",
              "   '다',\n",
              "   '나',\n",
              "   '는',\n",
              "   '정말',\n",
              "   '너무',\n",
              "   '재미있',\n",
              "   '게',\n",
              "   '봤',\n",
              "   '다',\n",
              "   '그리고',\n",
              "   '롱리',\n",
              "   '최고'],\n",
              "  ['좋',\n",
              "   '은',\n",
              "   '영화',\n",
              "   '는',\n",
              "   '역시',\n",
              "   '감동',\n",
              "   '을',\n",
              "   '주',\n",
              "   '는구나',\n",
              "   '.',\n",
              "   '..',\n",
              "   '마지막',\n",
              "   '장면',\n",
              "   '이',\n",
              "   '너무',\n",
              "   '울컥',\n",
              "   '했',\n",
              "   '다',\n",
              "   '.'],\n",
              "  ['생각',\n",
              "   '하',\n",
              "   '게',\n",
              "   '하',\n",
              "   '는',\n",
              "   '영화',\n",
              "   '였',\n",
              "   '어요',\n",
              "   '.',\n",
              "   '전',\n",
              "   '여운',\n",
              "   '이',\n",
              "   '남',\n",
              "   '네요',\n",
              "   '~'],\n",
              "  ['엄청', '재밌', '어요', '.', '재대로', '된', '영화', '보', '고', '싶', '음', 'ㅋㅋ'],\n",
              "  ['잘', '된', '시나리오', '에', '연기력', '까지', '굿', '굿', '♡♡'],\n",
              "  ['여성',\n",
              "   '의',\n",
              "   '외로움',\n",
              "   '과',\n",
              "   '고달픔',\n",
              "   '을',\n",
              "   '따뜻',\n",
              "   '하',\n",
              "   '게',\n",
              "   '위로',\n",
              "   '하',\n",
              "   '는',\n",
              "   '영화',\n",
              "   '.',\n",
              "   '칸노',\n",
              "   '미호',\n",
              "   '의',\n",
              "   '최고',\n",
              "   '의',\n",
              "   '연기',\n",
              "   '!',\n",
              "   '!'],\n",
              "  ['리페이스',\n",
              "   '출연',\n",
              "   '작',\n",
              "   '이',\n",
              "   '라',\n",
              "   '보',\n",
              "   '게',\n",
              "   '되',\n",
              "   '었',\n",
              "   '지만',\n",
              "   '참',\n",
              "   '좋',\n",
              "   '은',\n",
              "   '영화',\n",
              "   '군요',\n",
              "   '.',\n",
              "   '잘',\n",
              "   '만들',\n",
              "   '었',\n",
              "   '어요',\n",
              "   '.',\n",
              "   '왜',\n",
              "   '이제',\n",
              "   '봤',\n",
              "   '나',\n",
              "   '싶',\n",
              "   '을',\n",
              "   '정도',\n",
              "   ',',\n",
              "   '에',\n",
              "   '이미',\n",
              "   '아담스',\n",
              "   '매력',\n",
              "   '터짐',\n",
              "   '.',\n",
              "   '리페이스',\n",
              "   '도',\n",
              "   '멋있',\n",
              "   '어']),\n",
              " (1, 1, 1, 1, 1, 1, 1, 1, 1, 1, 1, 1, 1, 1, 1, 1, 1, 1, 1, 1)]"
            ]
          },
          "metadata": {
            "tags": []
          },
          "execution_count": 31
        }
      ]
    },
    {
      "cell_type": "code",
      "metadata": {
        "id": "kik_W7D96Ewd"
      },
      "source": [
        "# 사전 처리\n",
        "vocab = dict() # { 키(:토큰):값(:인덱스) }\n",
        "\n",
        "# torchtext를 위해서 사전화 처리할때 보정사항!\n",
        "# 단어장(사전)에 없는 형태소가 있는 경우 : unknown ->  torchtext에서는 <unk> 표시, 값 0으로 세팅 \n",
        "# 학습 효율상 문장의 길이를 동일하게 맞출 수 있다 => 짧은 문장의 경우 크기를 동일하게 맞추기 위해서 \n",
        "# 보정 => 패딩을 이용하여 특정 값으로 채운다 => <pad>의 값은 1로 세팅\n",
        "\n",
        "vocab['<unk>'] = 0\n",
        "vocab['<pad>'] = 1"
      ],
      "execution_count": null,
      "outputs": []
    },
    {
      "cell_type": "code",
      "metadata": {
        "id": "USLFQQQGNq8t",
        "outputId": "dec274fb-dbc3-4175-f277-278996623045",
        "colab": {
          "base_uri": "https://localhost:8080/",
          "height": 34
        }
      },
      "source": [
        "# 사전화 대상 형태소 데이터\n",
        "# ( 형태소s, 긍정/부정s )\n",
        "len( tmp ), len( tmp[0] )"
      ],
      "execution_count": null,
      "outputs": [
        {
          "output_type": "execute_result",
          "data": {
            "text/plain": [
              "(2, 20)"
            ]
          },
          "metadata": {
            "tags": []
          },
          "execution_count": 33
        }
      ]
    },
    {
      "cell_type": "code",
      "metadata": {
        "id": "esCe9-dWNq_R",
        "outputId": "70c3c095-be02-4b8f-afad-6febb602a645",
        "colab": {
          "base_uri": "https://localhost:8080/",
          "height": 34
        }
      },
      "source": [
        "# 형태소로 쪼개져 있는 20개의 문장을 돌면서, 사전 작업을 개시\n",
        "# 한번도 만나지 않은 새로운 형태소라면 vocab에 추가\n",
        "# vocab['신규형태소'] = 2 ~  자동으로 증가되는 값을 부여\n",
        "for sentence in tmp[0]:\n",
        "  # print( sentence )\n",
        "  # 사전 구현 : 형태소를 하나씩 빼서 사전에 추가한다(단, 사전에 추가되어 있지 않다면)\n",
        "  # 형태소를 하나씩 뺀다\n",
        "  for token in sentence:\n",
        "    if not token in vocab: # 기본 사전에 해당 토큰이 키로 존재하지 않으면 -> 최초\n",
        "      vocab.setdefault( token, len(vocab) )\n",
        "  # break\n",
        "\n",
        "# 만들어진 모든 사전상의 형태소의 개수\n",
        "# 총 리뷰가 아닌, 샘플링 10개 대한 사전, 그 안에 등록된 형태소의 개수\n",
        "len( vocab )"
      ],
      "execution_count": null,
      "outputs": [
        {
          "output_type": "execute_result",
          "data": {
            "text/plain": [
              "188"
            ]
          },
          "metadata": {
            "tags": []
          },
          "execution_count": 34
        }
      ]
    },
    {
      "cell_type": "code",
      "metadata": {
        "id": "rwQqaVjv-8gO",
        "outputId": "d3114950-4f20-4371-e2de-8d67d3c7a0b3",
        "colab": {
          "base_uri": "https://localhost:8080/",
          "height": 1000
        }
      },
      "source": [
        "vocab"
      ],
      "execution_count": null,
      "outputs": [
        {
          "output_type": "execute_result",
          "data": {
            "text/plain": [
              "{'!': 171,\n",
              " ',': 181,\n",
              " '.': 58,\n",
              " '..': 72,\n",
              " '1': 32,\n",
              " '2': 27,\n",
              " '3': 89,\n",
              " '<pad>': 1,\n",
              " '<unk>': 0,\n",
              " '?': 30,\n",
              " '^^': 95,\n",
              " '~': 154,\n",
              " '♡♡': 161,\n",
              " 'ㅋㅋ': 78,\n",
              " '가': 41,\n",
              " '감동': 19,\n",
              " '감정': 64,\n",
              " '같': 51,\n",
              " '개': 23,\n",
              " '것': 70,\n",
              " '게': 67,\n",
              " '고': 36,\n",
              " '고달픔': 165,\n",
              " '고질라': 74,\n",
              " '공감': 108,\n",
              " '과': 164,\n",
              " '관객': 128,\n",
              " '군요': 177,\n",
              " '굿': 39,\n",
              " '귀엽': 76,\n",
              " '그': 63,\n",
              " '그러': 132,\n",
              " '그러나': 103,\n",
              " '그리고': 138,\n",
              " '극단': 84,\n",
              " '기': 111,\n",
              " '까지': 12,\n",
              " '끝': 11,\n",
              " '나': 55,\n",
              " '나오': 28,\n",
              " '나요': 29,\n",
              " '나이': 49,\n",
              " '남': 152,\n",
              " '낮': 113,\n",
              " '내': 48,\n",
              " '너무': 135,\n",
              " '네요': 153,\n",
              " '는': 16,\n",
              " '는구나': 143,\n",
              " '능': 77,\n",
              " '니무': 75,\n",
              " '다': 57,\n",
              " '다시': 21,\n",
              " '단지': 107,\n",
              " '대사': 61,\n",
              " '대해': 100,\n",
              " '도': 90,\n",
              " '되': 174,\n",
              " '된': 157,\n",
              " '들': 24,\n",
              " '듯': 47,\n",
              " '따뜻': 166,\n",
              " '라': 43,\n",
              " '라고': 81,\n",
              " '라면': 8,\n",
              " '로': 34,\n",
              " '롱리': 139,\n",
              " '를': 53,\n",
              " '리페이스': 172,\n",
              " '림': 86,\n",
              " '마지막': 144,\n",
              " '만': 71,\n",
              " '만들': 178,\n",
              " '망': 104,\n",
              " '매력': 184,\n",
              " '멋있': 186,\n",
              " '면': 31,\n",
              " '모르': 101,\n",
              " '못': 102,\n",
              " '못하': 110,\n",
              " '미호': 169,\n",
              " '바보': 40,\n",
              " '반전': 91,\n",
              " '별점': 133,\n",
              " '병': 44,\n",
              " '보': 35,\n",
              " '본': 5,\n",
              " '봐도': 22,\n",
              " '봤': 137,\n",
              " '부자지간': 98,\n",
              " '부터': 10,\n",
              " '빠': 33,\n",
              " '뿐': 114,\n",
              " '사라져서': 124,\n",
              " '사람': 6,\n",
              " '사랑': 2,\n",
              " '생각': 148,\n",
              " '소리': 122,\n",
              " '소중': 120,\n",
              " '수': 14,\n",
              " '쉰': 45,\n",
              " '슬퍼요': 125,\n",
              " '시나리오': 159,\n",
              " '신나': 117,\n",
              " '싶': 37,\n",
              " '아니': 42,\n",
              " '아님': 106,\n",
              " '아담스': 183,\n",
              " '아주': 115,\n",
              " '았': 93,\n",
              " '애초': 96,\n",
              " '약하': 134,\n",
              " '어': 187,\n",
              " '어요': 130,\n",
              " '어쩔': 87,\n",
              " '엄청': 155,\n",
              " '없': 88,\n",
              " '없이': 123,\n",
              " '었': 129,\n",
              " '에': 97,\n",
              " '여성': 162,\n",
              " '여운': 151,\n",
              " '역시': 141,\n",
              " '연기': 170,\n",
              " '연기력': 160,\n",
              " '였': 149,\n",
              " '영화': 17,\n",
              " '영화관': 126,\n",
              " '예쁘': 119,\n",
              " '오페라': 79,\n",
              " '와': 50,\n",
              " '완벽': 65,\n",
              " '완전': 18,\n",
              " '왜': 131,\n",
              " '외로움': 163,\n",
              " '울컥': 146,\n",
              " '웃': 13,\n",
              " '위로': 167,\n",
              " '유쾌': 116,\n",
              " '은': 52,\n",
              " '을': 3,\n",
              " '음': 38,\n",
              " '의': 25,\n",
              " '이': 7,\n",
              " '이렇게': 118,\n",
              " '이미': 182,\n",
              " '이제': 179,\n",
              " '이해': 68,\n",
              " '인': 46,\n",
              " '입니다': 20,\n",
              " '있': 15,\n",
              " '작': 105,\n",
              " '작품': 83,\n",
              " '잘': 158,\n",
              " '장면': 145,\n",
              " '재대로': 156,\n",
              " '재미있': 136,\n",
              " '재밌': 73,\n",
              " '적': 56,\n",
              " '전': 150,\n",
              " '전쟁': 26,\n",
              " '정': 99,\n",
              " '정도': 180,\n",
              " '정말': 127,\n",
              " '제': 94,\n",
              " '좋': 92,\n",
              " '주': 142,\n",
              " '지': 109,\n",
              " '지금': 54,\n",
              " '지만': 175,\n",
              " '참': 176,\n",
              " '처음': 9,\n",
              " '최고': 140,\n",
              " '출연': 173,\n",
              " '칸노': 168,\n",
              " '터짐': 185,\n",
              " '평': 112,\n",
              " '평갈': 85,\n",
              " '하': 66,\n",
              " '하나하나': 62,\n",
              " '하지만': 59,\n",
              " '한': 121,\n",
              " '할': 69,\n",
              " '해': 4,\n",
              " '해야': 82,\n",
              " '했': 147,\n",
              " '화': 80,\n",
              " '훗날': 60}"
            ]
          },
          "metadata": {
            "tags": []
          },
          "execution_count": 35
        }
      ]
    },
    {
      "cell_type": "code",
      "metadata": {
        "id": "AOeo2ZKrS32Q",
        "outputId": "268bb9c4-d342-45d0-8bb3-430da6e35918",
        "colab": {
          "base_uri": "https://localhost:8080/",
          "height": 54
        }
      },
      "source": [
        "print( vocab )"
      ],
      "execution_count": null,
      "outputs": [
        {
          "output_type": "stream",
          "text": [
            "{'<unk>': 0, '<pad>': 1, '사랑': 2, '을': 3, '해': 4, '본': 5, '사람': 6, '이': 7, '라면': 8, '처음': 9, '부터': 10, '끝': 11, '까지': 12, '웃': 13, '수': 14, '있': 15, '는': 16, '영화': 17, '완전': 18, '감동': 19, '입니다': 20, '다시': 21, '봐도': 22, '개': 23, '들': 24, '의': 25, '전쟁': 26, '2': 27, '나오': 28, '나요': 29, '?': 30, '면': 31, '1': 32, '빠': 33, '로': 34, '보': 35, '고': 36, '싶': 37, '음': 38, '굿': 39, '바보': 40, '가': 41, '아니': 42, '라': 43, '병': 44, '쉰': 45, '인': 46, '듯': 47, '내': 48, '나이': 49, '와': 50, '같': 51, '은': 52, '를': 53, '지금': 54, '나': 55, '적': 56, '다': 57, '.': 58, '하지만': 59, '훗날': 60, '대사': 61, '하나하나': 62, '그': 63, '감정': 64, '완벽': 65, '하': 66, '게': 67, '이해': 68, '할': 69, '것': 70, '만': 71, '..': 72, '재밌': 73, '고질라': 74, '니무': 75, '귀엽': 76, '능': 77, 'ㅋㅋ': 78, '오페라': 79, '화': 80, '라고': 81, '해야': 82, '작품': 83, '극단': 84, '평갈': 85, '림': 86, '어쩔': 87, '없': 88, '3': 89, '도': 90, '반전': 91, '좋': 92, '았': 93, '제': 94, '^^': 95, '애초': 96, '에': 97, '부자지간': 98, '정': 99, '대해': 100, '모르': 101, '못': 102, '그러나': 103, '망': 104, '작': 105, '아님': 106, '단지': 107, '공감': 108, '지': 109, '못하': 110, '기': 111, '평': 112, '낮': 113, '뿐': 114, '아주': 115, '유쾌': 116, '신나': 117, '이렇게': 118, '예쁘': 119, '소중': 120, '한': 121, '소리': 122, '없이': 123, '사라져서': 124, '슬퍼요': 125, '영화관': 126, '정말': 127, '관객': 128, '었': 129, '어요': 130, '왜': 131, '그러': 132, '별점': 133, '약하': 134, '너무': 135, '재미있': 136, '봤': 137, '그리고': 138, '롱리': 139, '최고': 140, '역시': 141, '주': 142, '는구나': 143, '마지막': 144, '장면': 145, '울컥': 146, '했': 147, '생각': 148, '였': 149, '전': 150, '여운': 151, '남': 152, '네요': 153, '~': 154, '엄청': 155, '재대로': 156, '된': 157, '잘': 158, '시나리오': 159, '연기력': 160, '♡♡': 161, '여성': 162, '외로움': 163, '과': 164, '고달픔': 165, '따뜻': 166, '위로': 167, '칸노': 168, '미호': 169, '연기': 170, '!': 171, '리페이스': 172, '출연': 173, '되': 174, '지만': 175, '참': 176, '군요': 177, '만들': 178, '이제': 179, '정도': 180, ',': 181, '이미': 182, '아담스': 183, '매력': 184, '터짐': 185, '멋있': 186, '어': 187}\n"
          ],
          "name": "stdout"
        }
      ]
    },
    {
      "cell_type": "code",
      "metadata": {
        "id": "1OdFyXYhNrCe",
        "outputId": "5e2d0593-db6f-4740-8745-d41f6cf5ad8c",
        "colab": {
          "base_uri": "https://localhost:8080/",
          "height": 34
        }
      },
      "source": [
        "# 딕셔너리 안에 특정 키가 존재하는가?\n",
        "# 값 조사(키값 조사)\n",
        "'<pad>' in vocab, '<pad2>' in vocab"
      ],
      "execution_count": null,
      "outputs": [
        {
          "output_type": "execute_result",
          "data": {
            "text/plain": [
              "(True, False)"
            ]
          },
          "metadata": {
            "tags": []
          },
          "execution_count": 37
        }
      ]
    },
    {
      "cell_type": "markdown",
      "metadata": {
        "id": "xiJt40tBTISY"
      },
      "source": [
        "# 단어 임베딩 기법"
      ]
    },
    {
      "cell_type": "markdown",
      "metadata": {
        "id": "zhwiOiMtgKCs"
      },
      "source": [
        "## 일반 방법"
      ]
    },
    {
      "cell_type": "markdown",
      "metadata": {
        "id": "gmjZGbGnTLZz"
      },
      "source": [
        "- 자연어 데이터는 학습을 하기 위해, 수치로 표현되어야 한다\n",
        "  - 이 작업을 하기위해서, 사전을 생성하였다\n",
        "  - 사전을 보고 문장을 수치로 표현해야 한다"
      ]
    },
    {
      "cell_type": "code",
      "metadata": {
        "id": "8n8lDqlyNrE3"
      },
      "source": [
        "# 단어 임베딩 함수\n",
        "# voca : 사전\n",
        "# sent : 문장\n",
        "# 문장 1개에 대한 수치화(단어 임베딩) 작업\n",
        "def numericalize( voca, sent ):\n",
        "  tmp = list()  \n",
        "  for token in sent:\n",
        "    # 형태소에 해당되는 수치를 뽑아서 tmp에 모아둔다\n",
        "    if token in voca:\n",
        "      tmp.append( voca.get( token ) )\n",
        "      # tmp.append( voca[token] )\n",
        "    # 만약 없는 단어는 <unk>에 대응하는 값을 부여\n",
        "    else:\n",
        "      tmp.append( voca.get( '<unk>' ) )\n",
        "  return tmp\n",
        "\n",
        "# 1개의 문장으로 샘플링(단어 임베딩)\n",
        "numericalize( vocab,  sample_data[0][0] )\n",
        "# 문장 전체로 처리해서 저장\n",
        "# numericalize_data = [ ( 수치화된리스트, 긍정/부정 ) ]\n",
        "numericalize_data = [ ( numericalize( vocab,  sent ), label  )\n",
        "                      for sent, label in sample_data ]"
      ],
      "execution_count": null,
      "outputs": []
    },
    {
      "cell_type": "code",
      "metadata": {
        "id": "NC6YAmCmbBG4",
        "outputId": "7a2e9183-b885-4887-db1b-1df70743f94f",
        "colab": {
          "base_uri": "https://localhost:8080/",
          "height": 34
        }
      },
      "source": [
        "print( numericalize_data[0] )"
      ],
      "execution_count": null,
      "outputs": [
        {
          "output_type": "stream",
          "text": [
            "([2, 3, 4, 5, 6, 7, 8, 9, 10, 11, 12, 13, 3, 14, 15, 16, 17], 1)\n"
          ],
          "name": "stdout"
        }
      ]
    },
    {
      "cell_type": "code",
      "metadata": {
        "id": "pjQTm5AtaqKw",
        "outputId": "91dee9b9-7727-4046-c08a-706067d611bf",
        "colab": {
          "base_uri": "https://localhost:8080/",
          "height": 72
        }
      },
      "source": [
        "for sent, label in sample_data:\n",
        "  print( sent )\n",
        "  print( label )\n",
        "  break"
      ],
      "execution_count": null,
      "outputs": [
        {
          "output_type": "stream",
          "text": [
            "['사랑', '을', '해', '본', '사람', '이', '라면', '처음', '부터', '끝', '까지', '웃', '을', '수', '있', '는', '영화']\n",
            "1\n"
          ],
          "name": "stdout"
        }
      ]
    },
    {
      "cell_type": "code",
      "metadata": {
        "id": "vYN8BYhfNrHS",
        "outputId": "c7637481-56fd-400c-9c8a-e9d6697eacc7",
        "colab": {
          "base_uri": "https://localhost:8080/",
          "height": 320
        }
      },
      "source": [
        "sample_data[0][0]"
      ],
      "execution_count": null,
      "outputs": [
        {
          "output_type": "execute_result",
          "data": {
            "text/plain": [
              "['사랑',\n",
              " '을',\n",
              " '해',\n",
              " '본',\n",
              " '사람',\n",
              " '이',\n",
              " '라면',\n",
              " '처음',\n",
              " '부터',\n",
              " '끝',\n",
              " '까지',\n",
              " '웃',\n",
              " '을',\n",
              " '수',\n",
              " '있',\n",
              " '는',\n",
              " '영화']"
            ]
          },
          "metadata": {
            "tags": []
          },
          "execution_count": 42
        }
      ]
    },
    {
      "cell_type": "markdown",
      "metadata": {
        "id": "XKOcxECDbbQW"
      },
      "source": [
        "## 단어 주머니(Bag of Words)\n"
      ]
    },
    {
      "cell_type": "markdown",
      "metadata": {
        "id": "RPQibqJcbhK1"
      },
      "source": [
        "- 고전 기법\n",
        "- 단어의 출현빈도로 기록\n",
        "- 문장, 형태소를 2D 행렬로 표현\n",
        "- 구성요소 \n",
        "  - 행 : 문장 1개 -> 문장의 크기를 동일해게 맞추겠다!\n",
        "  - 열 : 각 문장에서 사용된 고유 단어의 빈도(개수가 표현)"
      ]
    },
    {
      "cell_type": "code",
      "metadata": {
        "id": "--n3DtC8NrKB"
      },
      "source": [
        "# 토치 텍스트를 이용하여 데이터를 최종 세팅(API를 이용한다)\n",
        "import torch\n",
        "# 빈도 계산을 위해\n",
        "from collections import Counter"
      ],
      "execution_count": null,
      "outputs": []
    },
    {
      "cell_type": "markdown",
      "metadata": {
        "id": "Xng4bxMTcuqJ"
      },
      "source": [
        "- 말뭉치 : rating.txt => data\n",
        "- sample_data : data에서 20개 샘플링 했음\n",
        "- 사전 생성\n",
        "- numericalize_data : 사전을 이용하여 문장을 수치로 변환한 단어 임베딩 데이터"
      ]
    },
    {
      "cell_type": "code",
      "metadata": {
        "id": "Gh1Z3CmCNrMq",
        "outputId": "459d6ace-442f-4268-b794-682ec2b6287e",
        "colab": {
          "base_uri": "https://localhost:8080/",
          "height": 34
        }
      },
      "source": [
        "# 행렬 구성을 위한 성분 크기 획득\n",
        "# 행 : 1차원 => 데이터의 개수 => 20개\n",
        "num_docs = len( numericalize_data )\n",
        "num_docs"
      ],
      "execution_count": null,
      "outputs": [
        {
          "output_type": "execute_result",
          "data": {
            "text/plain": [
              "20"
            ]
          },
          "metadata": {
            "tags": []
          },
          "execution_count": 44
        }
      ]
    },
    {
      "cell_type": "code",
      "metadata": {
        "id": "PK2quVj4NrPh",
        "outputId": "3efab2b2-a4ef-437f-b3de-34559ec1c0ca",
        "colab": {
          "base_uri": "https://localhost:8080/",
          "height": 34
        }
      },
      "source": [
        "# 열\n",
        "# 최대문장크기 : 작은 문장의 빈 부분은 padding으로 표현, 확장성이 부족, 문장의 크기가 가변일때 대응 X\n",
        "# 사전의 크기 : 어떤 문장이든 표현할 수 있다. -> 빈도로 표현\n",
        "num_vocab = len( vocab )\n",
        "num_vocab"
      ],
      "execution_count": null,
      "outputs": [
        {
          "output_type": "execute_result",
          "data": {
            "text/plain": [
              "188"
            ]
          },
          "metadata": {
            "tags": []
          },
          "execution_count": 45
        }
      ]
    },
    {
      "cell_type": "code",
      "metadata": {
        "id": "0x0eVmuLeReq",
        "outputId": "e7941e99-ec75-46d8-c8de-e8e3e2a66e80",
        "colab": {
          "base_uri": "https://localhost:8080/",
          "height": 141
        }
      },
      "source": [
        "# 문장을 사전 대비 빈도로 표현한다면 -> 긍정(1) 혹은 부정(0)\n",
        "# 행렬의 크기 ( 20,188 )\n",
        "# 영행렬\n",
        "term_matrix = torch.zeros( num_docs, num_vocab )\n",
        "term_matrix, term_matrix.size()\n",
        "# 개별 데이터가 행렬화되서 term_matrix에 각자 자리에 세팅된다(다음 작업)"
      ],
      "execution_count": null,
      "outputs": [
        {
          "output_type": "execute_result",
          "data": {
            "text/plain": [
              "(tensor([[0., 0., 0.,  ..., 0., 0., 0.],\n",
              "         [0., 0., 0.,  ..., 0., 0., 0.],\n",
              "         [0., 0., 0.,  ..., 0., 0., 0.],\n",
              "         ...,\n",
              "         [0., 0., 0.,  ..., 0., 0., 0.],\n",
              "         [0., 0., 0.,  ..., 0., 0., 0.],\n",
              "         [0., 0., 0.,  ..., 0., 0., 0.]]), torch.Size([20, 188]))"
            ]
          },
          "metadata": {
            "tags": []
          },
          "execution_count": 46
        }
      ]
    },
    {
      "cell_type": "code",
      "metadata": {
        "id": "63yK-u6ve2xS",
        "outputId": "1021f345-d65b-41e5-c457-23588cfaaeb4",
        "colab": {
          "base_uri": "https://localhost:8080/",
          "height": 52
        }
      },
      "source": [
        "# 문장 한개에 대해서 빈도 계산:\n",
        "for sent, label in numericalize_data:\n",
        "  # print(sent)\n",
        "  # print(label)\n",
        "  # print( Counter( sent ) )\n",
        "  # 키과 값을 묶어서 리스트로 리턴\n",
        "  # (수치, 빈도), .....\n",
        "  # print( list( Counter( sent ).items() ) )\n",
        "  # (수치, 수치, 수치,...), (빈도, 빈도, 빈도,...)\n",
        "  # zip()의 결과물을 직접 분해해서 맴버 수대로 변수로 받을 수 있다\n",
        "  tokens, cnts = zip( *list( Counter( sent ).items() ) )\n",
        "  print( tokens  )\n",
        "  print( cnts  )\n",
        "  break\n",
        "  "
      ],
      "execution_count": null,
      "outputs": [
        {
          "output_type": "stream",
          "text": [
            "(2, 3, 4, 5, 6, 7, 8, 9, 10, 11, 12, 13, 14, 15, 16, 17)\n",
            "(1, 2, 1, 1, 1, 1, 1, 1, 1, 1, 1, 1, 1, 1, 1, 1)\n"
          ],
          "name": "stdout"
        }
      ]
    },
    {
      "cell_type": "code",
      "metadata": {
        "id": "BGVWU2MugB7A",
        "outputId": "fb4a7c86-5bb6-46c8-f5fc-b51dd5f58337",
        "colab": {
          "base_uri": "https://localhost:8080/",
          "height": 70
        }
      },
      "source": [
        "# term_matrix에 1개의 데이터마다 구성하면 행렬로 세팅\n",
        "'''\n",
        "# term_matrix 특정 위치에 데이터를 세팅하는 코드\n",
        "term_matrix[ 0 , 표현(tokens, 데이터가 세팅될 컬럼의 인덱스) ] \n",
        "                                    = 표현(무엇이 데이터로 세팅 -> 빈도, cnts) \n",
        "'''\n"
      ],
      "execution_count": null,
      "outputs": [
        {
          "output_type": "execute_result",
          "data": {
            "application/vnd.google.colaboratory.intrinsic+json": {
              "type": "string"
            },
            "text/plain": [
              "'\\n# term_matrix 특정 위치에 데이터를 세팅하는 코드\\nterm_matrix[ 0 , 표현(tokens, 데이터가 세팅될 컬럼의 인덱스) ] \\n                                    = 표현(무엇이 데이터로 세팅->빈도, cnts) \\n'"
            ]
          },
          "metadata": {
            "tags": []
          },
          "execution_count": 48
        }
      ]
    },
    {
      "cell_type": "code",
      "metadata": {
        "id": "cMdpM0buixnP",
        "outputId": "32fae2b2-2e90-4f0e-8d83-d6a4bb33cbf0",
        "colab": {
          "base_uri": "https://localhost:8080/",
          "height": 141
        }
      },
      "source": [
        "# enumerate() => 인덱스가 순차로 발생하고, 이 값을 블럭 내에서 사용한다면 사용\n",
        "# enumerate() => 인덱스, 값\n",
        "for idx, (sent, label) in enumerate( numericalize_data ) :\n",
        "  tokens, cnts  = zip( *list( Counter( sent ).items() ) )\n",
        "  # 카피될 포지션을 리스트로 주로 표현했는데, 여기서는 텐서로도 표현이 가능하다\n",
        "  # 기법적으로는 numpy의 펜시인덱싱, pandas의 iloc과 기법 동일\n",
        "  # 문법 : 변수(배열, 데이터프레임, 텐서)[ 인덱스나열, 인덱스나열 ]\n",
        "  term_matrix[ idx, torch.LongTensor(tokens) ] = torch.Tensor( cnts )\n",
        "  # break\n",
        "term_matrix"
      ],
      "execution_count": null,
      "outputs": [
        {
          "output_type": "execute_result",
          "data": {
            "text/plain": [
              "tensor([[0., 0., 1.,  ..., 0., 0., 0.],\n",
              "        [0., 0., 0.,  ..., 0., 0., 0.],\n",
              "        [0., 0., 0.,  ..., 0., 0., 0.],\n",
              "        ...,\n",
              "        [0., 0., 0.,  ..., 0., 0., 0.],\n",
              "        [0., 0., 0.,  ..., 0., 0., 0.],\n",
              "        [0., 0., 0.,  ..., 1., 1., 1.]])"
            ]
          },
          "metadata": {
            "tags": []
          },
          "execution_count": 49
        }
      ]
    },
    {
      "cell_type": "code",
      "metadata": {
        "id": "0YyrEIsroeSs",
        "outputId": "50b9b403-72f1-4ead-b863-df44ce1bfbee",
        "colab": {
          "base_uri": "https://localhost:8080/",
          "height": 213
        }
      },
      "source": [
        "term_matrix[-1]"
      ],
      "execution_count": null,
      "outputs": [
        {
          "output_type": "execute_result",
          "data": {
            "text/plain": [
              "tensor([0., 0., 0., 1., 0., 0., 0., 1., 0., 0., 0., 0., 0., 0., 0., 0., 0., 1.,\n",
              "        0., 0., 0., 0., 0., 0., 0., 0., 0., 0., 0., 0., 0., 0., 0., 0., 0., 1.,\n",
              "        0., 1., 0., 0., 0., 0., 0., 1., 0., 0., 0., 0., 0., 0., 0., 0., 1., 0.,\n",
              "        0., 1., 0., 0., 3., 0., 0., 0., 0., 0., 0., 0., 0., 1., 0., 0., 0., 0.,\n",
              "        0., 0., 0., 0., 0., 0., 0., 0., 0., 0., 0., 0., 0., 0., 0., 0., 0., 0.,\n",
              "        1., 0., 1., 0., 0., 0., 0., 1., 0., 0., 0., 0., 0., 0., 0., 1., 0., 0.,\n",
              "        0., 0., 0., 0., 0., 0., 0., 0., 0., 0., 0., 0., 0., 0., 0., 0., 0., 0.,\n",
              "        0., 0., 0., 2., 1., 1., 0., 0., 0., 0., 0., 1., 0., 0., 0., 0., 0., 0.,\n",
              "        0., 0., 0., 0., 0., 0., 0., 0., 0., 0., 0., 0., 0., 0., 1., 0., 0., 0.,\n",
              "        0., 0., 0., 0., 0., 0., 0., 0., 0., 0., 2., 1., 1., 1., 1., 1., 1., 1.,\n",
              "        1., 1., 1., 1., 1., 1., 1., 1.])"
            ]
          },
          "metadata": {
            "tags": []
          },
          "execution_count": 50
        }
      ]
    },
    {
      "cell_type": "code",
      "metadata": {
        "id": "JE9MAO4OjdSD",
        "outputId": "f8d02339-6c0b-4872-9423-72185943a7d9",
        "colab": {
          "base_uri": "https://localhost:8080/",
          "height": 70
        }
      },
      "source": [
        "# 데이터가 엄청 클 것까지 고려한다면 Long -> 전체 인덱스는 다 커버 가능함\n",
        "torch.LongTensor(tokens)"
      ],
      "execution_count": null,
      "outputs": [
        {
          "output_type": "execute_result",
          "data": {
            "text/plain": [
              "tensor([172, 173, 105,   7,  43,  35,  67, 174, 129, 175, 176,  92,  52,  17,\n",
              "        177,  58, 158, 178, 130, 131, 179, 137,  55,  37,   3, 180, 181,  97,\n",
              "        182, 183, 184, 185,  90, 186, 187])"
            ]
          },
          "metadata": {
            "tags": []
          },
          "execution_count": 51
        }
      ]
    },
    {
      "cell_type": "markdown",
      "metadata": {
        "id": "BLCUtN8SpauE"
      },
      "source": [
        "- 문제점\n",
        "  - 말뭉치가 많으면 -> 문장도 많아질것이고 -> 토큰도 많아지고 -> 피처도 많아지고 -> 백터가 커진다\n",
        "  - 힙스의 법칙, 로그함수처럼 커진다"
      ]
    },
    {
      "cell_type": "code",
      "metadata": {
        "id": "Dxi0kh5mpyIl",
        "outputId": "0a242bb5-c169-4244-f08e-db9be7cbac4b",
        "colab": {
          "base_uri": "https://localhost:8080/",
          "height": 205
        }
      },
      "source": [
        "from IPython.display import Image\n",
        "Image('/content/drive/My Drive/2020_AI_Busan/4_DeepLearning/data_download/rnn2/힙스의법칙.png', width='300')\n",
        "\n",
        "# 해결방안 -> 백터가 커지면, 0이 많아지고, 데이터가 희소해져서 학습 성과가 저하된다\n",
        "# 0이 많으면 오차역전파(y -> x 가기 위해서, W/b를 조정-> 미분을 통해서 처리)를 통한 최적화시도가 실패하게 된다 \n",
        "#    -> 학습 성과가 저하된다 -> 단어 백터의 밀집화 처리가 필요하다\n",
        "# 문장크기를 같은 크기로 하여서 0을 줄이는 방안 등장 -> 문장의 최대 길이 기준으로 패딩을 처리하여 데이터을 최소로 구성한다"
      ],
      "execution_count": null,
      "outputs": [
        {
          "output_type": "execute_result",
          "data": {
            "image/png": "[encoded data removed]",
            "text/plain": [
              "<IPython.core.display.Image object>"
            ]
          },
          "metadata": {
            "tags": [],
            "image/png": {
              "width": "300"
            }
          },
          "execution_count": 52
        }
      ]
    },
    {
      "cell_type": "markdown",
      "metadata": {
        "id": "L_9O0SNNrAoy"
      },
      "source": [
        "## padding 처리\n",
        "- 최대 문장 길이에 맞춰서 크기를 동일하게 처리\n",
        "- 임의로 맞춰야 할 값은 \n",
        "  - \\<pad\\>로 세팅, 값은 1"
      ]
    },
    {
      "cell_type": "code",
      "metadata": {
        "id": "rYZz8aRPrxEh",
        "outputId": "94a89ad4-51f9-4d22-833e-2000cb3186d4",
        "colab": {
          "base_uri": "https://localhost:8080/",
          "height": 34
        }
      },
      "source": [
        "numericalize_data[0]"
      ],
      "execution_count": null,
      "outputs": [
        {
          "output_type": "execute_result",
          "data": {
            "text/plain": [
              "([2, 3, 4, 5, 6, 7, 8, 9, 10, 11, 12, 13, 3, 14, 15, 16, 17], 1)"
            ]
          },
          "metadata": {
            "tags": []
          },
          "execution_count": 53
        }
      ]
    },
    {
      "cell_type": "code",
      "metadata": {
        "id": "0rstti3freFL",
        "outputId": "89861e92-f3c2-4f29-8e9e-30bb46c701f6",
        "colab": {
          "base_uri": "https://localhost:8080/",
          "height": 34
        }
      },
      "source": [
        "# 훈련용 데이터 중에서 최대 문장길이를 가진 문장의 최대길이값 획득\n",
        "max_len = max( [ len(문장) for 문장, _ in numericalize_data ] )\n",
        "max_len"
      ],
      "execution_count": null,
      "outputs": [
        {
          "output_type": "execute_result",
          "data": {
            "text/plain": [
              "39"
            ]
          },
          "metadata": {
            "tags": []
          },
          "execution_count": 54
        }
      ]
    },
    {
      "cell_type": "code",
      "metadata": {
        "id": "pdSiqBwcrIvO",
        "outputId": "1715b8dc-f35b-4b46-d66a-f5c8a4999679",
        "colab": {
          "base_uri": "https://localhost:8080/",
          "height": 54
        }
      },
      "source": [
        "for sent, _ in numericalize_data :\n",
        "  # 현재 문장 길이 획득\n",
        "  c_len = len( sent )\n",
        "  # 비교\n",
        "  if c_len < max_len:\n",
        "    # 보정의 대상이 된다\n",
        "    # sent = sent + [1] * (max_len-c_len)\n",
        "    sent += [1] * (max_len-c_len)\n",
        "  print( sent )\n",
        "  break"
      ],
      "execution_count": null,
      "outputs": [
        {
          "output_type": "stream",
          "text": [
            "[2, 3, 4, 5, 6, 7, 8, 9, 10, 11, 12, 13, 3, 14, 15, 16, 17, 1, 1, 1, 1, 1, 1, 1, 1, 1, 1, 1, 1, 1, 1, 1, 1, 1, 1, 1, 1, 1, 1]\n"
          ],
          "name": "stdout"
        }
      ]
    },
    {
      "cell_type": "code",
      "metadata": {
        "id": "fo6qzqPTtA_z",
        "outputId": "bf1e67e2-cbb4-49b5-f672-b044871375e8",
        "colab": {
          "base_uri": "https://localhost:8080/",
          "height": 623
        }
      },
      "source": [
        "# expand()\n",
        "[2, 3, 4, 5, 6, 7, 8, 9, 10, 11, 12, 13, 3, 14, 15, 16, 17]+[1, 1, 1, 1, 1, 1, 1, 1, 1, 1, 1, 1, 1, 1, 1, 1, 1]"
      ],
      "execution_count": null,
      "outputs": [
        {
          "output_type": "execute_result",
          "data": {
            "text/plain": [
              "[2,\n",
              " 3,\n",
              " 4,\n",
              " 5,\n",
              " 6,\n",
              " 7,\n",
              " 8,\n",
              " 9,\n",
              " 10,\n",
              " 11,\n",
              " 12,\n",
              " 13,\n",
              " 3,\n",
              " 14,\n",
              " 15,\n",
              " 16,\n",
              " 17,\n",
              " 1,\n",
              " 1,\n",
              " 1,\n",
              " 1,\n",
              " 1,\n",
              " 1,\n",
              " 1,\n",
              " 1,\n",
              " 1,\n",
              " 1,\n",
              " 1,\n",
              " 1,\n",
              " 1,\n",
              " 1,\n",
              " 1,\n",
              " 1,\n",
              " 1]"
            ]
          },
          "metadata": {
            "tags": []
          },
          "execution_count": 56
        }
      ]
    },
    {
      "cell_type": "markdown",
      "metadata": {
        "id": "99qtNh0ct7LT"
      },
      "source": [
        "#  파이토치의 토치텍스트 모듈을 이용하여 처리"
      ]
    },
    {
      "cell_type": "markdown",
      "metadata": {
        "id": "RMkU2mlAuBXZ"
      },
      "source": [
        "- torchtext\n",
        "- 자연어처리, 텍스트를 이용한 머신러닝/딥러닝\n",
        "- 데이터 전처리 기능제공\n",
        "- 분야\n",
        "  - x:코퍼스, y:클래스 => 텍스트분류, 감성(정) 분석\n",
        "  - x:코퍼스, y:-　 　 => 언어적 모델 구성\n",
        "  - x:코퍼스, y:코퍼스 => 기계번역, 문서요약,QA등"
      ]
    },
    {
      "cell_type": "code",
      "metadata": {
        "id": "_LpDrjNYtBQH"
      },
      "source": [
        "# 토치 텍스트를 이용하면 간략하게 전처리 구성을 할수 있다"
      ],
      "execution_count": null,
      "outputs": []
    },
    {
      "cell_type": "code",
      "metadata": {
        "id": "VswJ0cGmuuuQ"
      },
      "source": [
        "# 1. 모듈 및 형태소 분석기 가져오기\n",
        "from torchtext.data import Field\n",
        "from konlpy.tag import Mecab"
      ],
      "execution_count": null,
      "outputs": []
    },
    {
      "cell_type": "code",
      "metadata": {
        "id": "D-5sEvwfuuxE"
      },
      "source": [
        "# 2. 코퍼스를 가져와서 사전작업(형태소 분절 처리), 수치화(임베딩).. 작업을 API를 이용하여 처리\n",
        "# 2-1. 데이터의 컬럼 수대로 Field를 정의한다\n",
        "'''\n",
        "중요 파라미터\n",
        "sequential    : 이 필드에서 다루는 데이터가 시퀀스 데이터인가?, 문장 => 시퀀스를 가진다\n",
        "use_vocab     : 사전을 사용할것인가? True => 내부적으로 사전을 만든다(형태소로 분절, 인덱스 사전 구성)\n",
        "tokenize      : 사전을 사용한다면 => 형태소 분석기가 필요하다 => 제공(한국어 Mecab, ....)\n",
        "lower         : 소문자 처리, 한글은 해당 상황 없음, 그냥 표현했음\n",
        "batch_first   : True => [ batch, h, w ] 형태의 배치상황으로 데이터의 첫번째 Dimension이 개수이다\n",
        "preprocessing : 전처리, 리뷰에서 필요하면 함수로 배치하면 된다.\n",
        "is_target     : 타겟 데이터가 맞는가? 정답용 데이터인가?\n",
        "'''\n",
        "# 구색 맞추기용. 데이터에 필드가 존재하는데 사용은 안 할 것이다 \n",
        "# 그러나 컬럼으로는 존재하므로 일단 구성했다\n",
        "ID    = Field(\n",
        "    sequential = False,\n",
        "    use_vocab  = False,\n",
        ")\n",
        "# 리뷰\n",
        "TEXT  = Field(  \n",
        "    sequential = True,\n",
        "    use_vocab  = True,\n",
        "    tokenize   = tokenizer.morphs,\n",
        "    lower      = True,\n",
        "    batch_first= True   \n",
        ")\n",
        "# 긍정/부정\n",
        "LABEL = Field(\n",
        "    sequential = False,\n",
        "    use_vocab  = False,\n",
        "    batch_first= True,\n",
        "    preprocessing = lambda x:int(x),\n",
        "    is_target  = True \n",
        ")"
      ],
      "execution_count": null,
      "outputs": []
    },
    {
      "cell_type": "code",
      "metadata": {
        "id": "VoYAIqoPuuz-"
      },
      "source": [
        "# 데이터(코퍼스, 말뭉치)를 읽어들여서 데이터를 준비\n",
        "# 공급처의 역할\n",
        "from torchtext.data import TabularDataset"
      ],
      "execution_count": null,
      "outputs": []
    },
    {
      "cell_type": "code",
      "metadata": {
        "id": "6Zsfw8lZuu2R"
      },
      "source": [
        "dataset = TabularDataset( path   = '/content/drive/My Drive/2020_AI_Busan/4_DeepLearning/data_download/rnn/rating.txt',\n",
        "                format = 'tsv',     # 탭으로 구분된 csv \n",
        "                fields = [ ('id' , ID),('document', TEXT),('label', LABEL) ],\n",
        "                skip_header = True  # 데이터의 첫줄은 생략                 \n",
        "               )\n",
        "# 데이터를 읽어들여서 필드 객체에 데이터를 흘려보낸다"
      ],
      "execution_count": null,
      "outputs": []
    },
    {
      "cell_type": "code",
      "metadata": {
        "id": "qVQMsEk4uu44"
      },
      "source": [
        "# 단어장 생성\n",
        "TEXT.build_vocab( dataset )"
      ],
      "execution_count": null,
      "outputs": []
    },
    {
      "cell_type": "code",
      "metadata": {
        "id": "nQor3zojuu7e",
        "outputId": "0d8e19d1-2d47-4fc8-ebe4-06263a2c4a55",
        "colab": {
          "base_uri": "https://localhost:8080/",
          "height": 34
        }
      },
      "source": [
        "# 확인\n",
        "len(TEXT.vocab), TEXT.vocab.itos[0], TEXT.vocab.itos[1], TEXT.vocab.itos[2], TEXT.vocab.itos[100]"
      ],
      "execution_count": null,
      "outputs": [
        {
          "output_type": "execute_result",
          "data": {
            "text/plain": [
              "(18921, '<unk>', '<pad>', '.', '보다')"
            ]
          },
          "metadata": {
            "tags": []
          },
          "execution_count": 69
        }
      ]
    },
    {
      "cell_type": "code",
      "metadata": {
        "id": "qlp7BKW9uu-W",
        "outputId": "17ba7593-98e4-4ebd-be62-fa15dc16d0f0",
        "colab": {
          "base_uri": "https://localhost:8080/",
          "height": 34
        }
      },
      "source": [
        "type(TEXT.vocab.stoi), TEXT.vocab.stoi['보다']"
      ],
      "execution_count": null,
      "outputs": [
        {
          "output_type": "execute_result",
          "data": {
            "text/plain": [
              "(collections.defaultdict, 100)"
            ]
          },
          "metadata": {
            "tags": []
          },
          "execution_count": 71
        }
      ]
    }
  ]
}