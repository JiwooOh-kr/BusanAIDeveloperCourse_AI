{
  "nbformat": 4,
  "nbformat_minor": 0,
  "metadata": {
    "colab": {
      "name": "11-1_LSTM_Retail trade sales.ipynb",
      "provenance": [],
      "collapsed_sections": [],
      "toc_visible": true,
      "mount_file_id": "1Cq6HmLQfNq0Rj8uzuU98jK64sHPql3Cy",
      "authorship_tag": "ABX9TyNW876EFMPvmOqFd90HLP68",
      "include_colab_link": true
    },
    "kernelspec": {
      "name": "python3",
      "display_name": "Python 3"
    },
    "accelerator": "GPU"
  },
  "cells": [
    {
      "cell_type": "markdown",
      "metadata": {
        "id": "view-in-github",
        "colab_type": "text"
      },
      "source": [
        "<a href=\"https://colab.research.google.com/github/jkjh23/BusanAIDeveloperCourse_AI/blob/master/3_DeepLearning/11-1_LSTM_Retail%20trade%20sales.ipynb\" target=\"_parent\"><img src=\"https://colab.research.google.com/assets/colab-badge.svg\" alt=\"Open In Colab\"/></a>"
      ]
    },
    {
      "cell_type": "markdown",
      "metadata": {
        "id": "hpbE4cmlXsuo"
      },
      "source": [
        "# 환경설정"
      ]
    },
    {
      "cell_type": "code",
      "metadata": {
        "id": "6ZItmaJgXGqi",
        "outputId": "b52c9665-f8a4-4403-f766-0db3a7e7cbdf",
        "colab": {
          "base_uri": "https://localhost:8080/",
          "height": 35
        }
      },
      "source": [
        "import keras\n",
        "keras.__version__"
      ],
      "execution_count": null,
      "outputs": [
        {
          "output_type": "execute_result",
          "data": {
            "application/vnd.google.colaboratory.intrinsic+json": {
              "type": "string"
            },
            "text/plain": [
              "'2.4.3'"
            ]
          },
          "metadata": {
            "tags": []
          },
          "execution_count": 1
        }
      ]
    },
    {
      "cell_type": "code",
      "metadata": {
        "id": "EH1s7X9PXOah",
        "outputId": "f525a903-dc9e-43ee-a009-87c6e61c27f9",
        "colab": {
          "base_uri": "https://localhost:8080/",
          "height": 35
        }
      },
      "source": [
        "import tensorflow\n",
        "tensorflow.__version__"
      ],
      "execution_count": null,
      "outputs": [
        {
          "output_type": "execute_result",
          "data": {
            "application/vnd.google.colaboratory.intrinsic+json": {
              "type": "string"
            },
            "text/plain": [
              "'2.3.0'"
            ]
          },
          "metadata": {
            "tags": []
          },
          "execution_count": 2
        }
      ]
    },
    {
      "cell_type": "code",
      "metadata": {
        "id": "LDC7h3yrXcZo"
      },
      "source": [
        "import pandas as pd\n",
        "import numpy as np\n",
        "import matplotlib.pyplot as plt\n",
        "%matplotlib inline"
      ],
      "execution_count": null,
      "outputs": []
    },
    {
      "cell_type": "markdown",
      "metadata": {
        "id": "qG8deCFOYVnN"
      },
      "source": [
        "# Time Series Forcating\n",
        "- 날짜별로 특정한 값이 있는 데이터\n",
        "  - Unadjusted가 Raw값, Seasonally adjusted는 Season의 효과를 보정한 값\n",
        "  - 보통 주식과 같은 시계열 데이터는 Season에 의한 효과가 있는데, Seasonally adjusted는 이 Season에 의한 효과를 보정하여 전체적인 추세만 보고자할 때 사용하는 변수다.\n",
        "- [Retail trade sales by province and territory](https://www150.statcan.gc.ca/t1/tbl1/en/tv.action?pid=2010000801)"
      ]
    },
    {
      "cell_type": "code",
      "metadata": {
        "id": "kRlKWex3Yca4",
        "outputId": "b35931fd-c5d4-4a74-92e0-301855d4f12e",
        "colab": {
          "base_uri": "https://localhost:8080/",
          "height": 402
        }
      },
      "source": [
        "from pandas.tseries.offsets import MonthEnd\n",
        "dir = '/content/drive/My Drive/2020_AI_Busan/4_DeepLearning/LSTM_Data/08_04_Advanced_Model-LSTM_cansim-0800020-eng-6674700030567901031.csv'\n",
        "df = pd.read_csv(dir, skiprows=6, skipfooter=9, engine='python')\n",
        "df"
      ],
      "execution_count": null,
      "outputs": [
        {
          "output_type": "execute_result",
          "data": {
            "text/html": [
              "<div>\n",
              "<style scoped>\n",
              "    .dataframe tbody tr th:only-of-type {\n",
              "        vertical-align: middle;\n",
              "    }\n",
              "\n",
              "    .dataframe tbody tr th {\n",
              "        vertical-align: top;\n",
              "    }\n",
              "\n",
              "    .dataframe thead th {\n",
              "        text-align: right;\n",
              "    }\n",
              "</style>\n",
              "<table border=\"1\" class=\"dataframe\">\n",
              "  <thead>\n",
              "    <tr style=\"text-align: right;\">\n",
              "      <th></th>\n",
              "      <th>Adjustments</th>\n",
              "      <th>Unadjusted</th>\n",
              "      <th>Seasonally adjusted</th>\n",
              "    </tr>\n",
              "  </thead>\n",
              "  <tbody>\n",
              "    <tr>\n",
              "      <th>0</th>\n",
              "      <td>Jan-1991</td>\n",
              "      <td>12588862</td>\n",
              "      <td>15026890</td>\n",
              "    </tr>\n",
              "    <tr>\n",
              "      <th>1</th>\n",
              "      <td>Feb-1991</td>\n",
              "      <td>12154321</td>\n",
              "      <td>15304585</td>\n",
              "    </tr>\n",
              "    <tr>\n",
              "      <th>2</th>\n",
              "      <td>Mar-1991</td>\n",
              "      <td>14337072</td>\n",
              "      <td>15413591</td>\n",
              "    </tr>\n",
              "    <tr>\n",
              "      <th>3</th>\n",
              "      <td>Apr-1991</td>\n",
              "      <td>15108570</td>\n",
              "      <td>15293409</td>\n",
              "    </tr>\n",
              "    <tr>\n",
              "      <th>4</th>\n",
              "      <td>May-1991</td>\n",
              "      <td>17225734</td>\n",
              "      <td>15676083</td>\n",
              "    </tr>\n",
              "    <tr>\n",
              "      <th>...</th>\n",
              "      <td>...</td>\n",
              "      <td>...</td>\n",
              "      <td>...</td>\n",
              "    </tr>\n",
              "    <tr>\n",
              "      <th>308</th>\n",
              "      <td>Sep-2016</td>\n",
              "      <td>45528702</td>\n",
              "      <td>44534797</td>\n",
              "    </tr>\n",
              "    <tr>\n",
              "      <th>309</th>\n",
              "      <td>Oct-2016</td>\n",
              "      <td>44770113</td>\n",
              "      <td>45061618</td>\n",
              "    </tr>\n",
              "    <tr>\n",
              "      <th>310</th>\n",
              "      <td>Nov-2016</td>\n",
              "      <td>46285062</td>\n",
              "      <td>45141762</td>\n",
              "    </tr>\n",
              "    <tr>\n",
              "      <th>311</th>\n",
              "      <td>Dec-2016</td>\n",
              "      <td>50016137</td>\n",
              "      <td>44943929</td>\n",
              "    </tr>\n",
              "    <tr>\n",
              "      <th>312</th>\n",
              "      <td>Jan-2017</td>\n",
              "      <td>37628452</td>\n",
              "      <td>45952103</td>\n",
              "    </tr>\n",
              "  </tbody>\n",
              "</table>\n",
              "<p>313 rows × 3 columns</p>\n",
              "</div>"
            ],
            "text/plain": [
              "    Adjustments  Unadjusted  Seasonally adjusted\n",
              "0      Jan-1991    12588862             15026890\n",
              "1      Feb-1991    12154321             15304585\n",
              "2      Mar-1991    14337072             15413591\n",
              "3      Apr-1991    15108570             15293409\n",
              "4      May-1991    17225734             15676083\n",
              "..          ...         ...                  ...\n",
              "308    Sep-2016    45528702             44534797\n",
              "309    Oct-2016    44770113             45061618\n",
              "310    Nov-2016    46285062             45141762\n",
              "311    Dec-2016    50016137             44943929\n",
              "312    Jan-2017    37628452             45952103\n",
              "\n",
              "[313 rows x 3 columns]"
            ]
          },
          "metadata": {
            "tags": []
          },
          "execution_count": 4
        }
      ]
    },
    {
      "cell_type": "markdown",
      "metadata": {
        "id": "totMumVmYVpY"
      },
      "source": [
        "# 전처리\n",
        "- 문자열로 된 Adjustments 컬럼을 datetime 객체로 변환\n",
        "- MonthEnd(1)을 더하면 해당 월의 마지막 날짜가 지정되게 하여, 이 날짜를 index로 만든다."
      ]
    },
    {
      "cell_type": "code",
      "metadata": {
        "id": "l1t4lO56avbs",
        "outputId": "6aeba2b3-9dd2-4fb8-e15d-a38e1d946b2f",
        "colab": {
          "base_uri": "https://localhost:8080/",
          "height": 431
        }
      },
      "source": [
        "df['Adjustments'] = pd.to_datetime(df['Adjustments']) + MonthEnd(1)\n",
        "df = df.set_index('Adjustments')\n",
        "df"
      ],
      "execution_count": null,
      "outputs": [
        {
          "output_type": "execute_result",
          "data": {
            "text/html": [
              "<div>\n",
              "<style scoped>\n",
              "    .dataframe tbody tr th:only-of-type {\n",
              "        vertical-align: middle;\n",
              "    }\n",
              "\n",
              "    .dataframe tbody tr th {\n",
              "        vertical-align: top;\n",
              "    }\n",
              "\n",
              "    .dataframe thead th {\n",
              "        text-align: right;\n",
              "    }\n",
              "</style>\n",
              "<table border=\"1\" class=\"dataframe\">\n",
              "  <thead>\n",
              "    <tr style=\"text-align: right;\">\n",
              "      <th></th>\n",
              "      <th>Unadjusted</th>\n",
              "      <th>Seasonally adjusted</th>\n",
              "    </tr>\n",
              "    <tr>\n",
              "      <th>Adjustments</th>\n",
              "      <th></th>\n",
              "      <th></th>\n",
              "    </tr>\n",
              "  </thead>\n",
              "  <tbody>\n",
              "    <tr>\n",
              "      <th>1991-01-31</th>\n",
              "      <td>12588862</td>\n",
              "      <td>15026890</td>\n",
              "    </tr>\n",
              "    <tr>\n",
              "      <th>1991-02-28</th>\n",
              "      <td>12154321</td>\n",
              "      <td>15304585</td>\n",
              "    </tr>\n",
              "    <tr>\n",
              "      <th>1991-03-31</th>\n",
              "      <td>14337072</td>\n",
              "      <td>15413591</td>\n",
              "    </tr>\n",
              "    <tr>\n",
              "      <th>1991-04-30</th>\n",
              "      <td>15108570</td>\n",
              "      <td>15293409</td>\n",
              "    </tr>\n",
              "    <tr>\n",
              "      <th>1991-05-31</th>\n",
              "      <td>17225734</td>\n",
              "      <td>15676083</td>\n",
              "    </tr>\n",
              "    <tr>\n",
              "      <th>...</th>\n",
              "      <td>...</td>\n",
              "      <td>...</td>\n",
              "    </tr>\n",
              "    <tr>\n",
              "      <th>2016-09-30</th>\n",
              "      <td>45528702</td>\n",
              "      <td>44534797</td>\n",
              "    </tr>\n",
              "    <tr>\n",
              "      <th>2016-10-31</th>\n",
              "      <td>44770113</td>\n",
              "      <td>45061618</td>\n",
              "    </tr>\n",
              "    <tr>\n",
              "      <th>2016-11-30</th>\n",
              "      <td>46285062</td>\n",
              "      <td>45141762</td>\n",
              "    </tr>\n",
              "    <tr>\n",
              "      <th>2016-12-31</th>\n",
              "      <td>50016137</td>\n",
              "      <td>44943929</td>\n",
              "    </tr>\n",
              "    <tr>\n",
              "      <th>2017-01-31</th>\n",
              "      <td>37628452</td>\n",
              "      <td>45952103</td>\n",
              "    </tr>\n",
              "  </tbody>\n",
              "</table>\n",
              "<p>313 rows × 2 columns</p>\n",
              "</div>"
            ],
            "text/plain": [
              "             Unadjusted  Seasonally adjusted\n",
              "Adjustments                                 \n",
              "1991-01-31     12588862             15026890\n",
              "1991-02-28     12154321             15304585\n",
              "1991-03-31     14337072             15413591\n",
              "1991-04-30     15108570             15293409\n",
              "1991-05-31     17225734             15676083\n",
              "...                 ...                  ...\n",
              "2016-09-30     45528702             44534797\n",
              "2016-10-31     44770113             45061618\n",
              "2016-11-30     46285062             45141762\n",
              "2016-12-31     50016137             44943929\n",
              "2017-01-31     37628452             45952103\n",
              "\n",
              "[313 rows x 2 columns]"
            ]
          },
          "metadata": {
            "tags": []
          },
          "execution_count": 5
        }
      ]
    },
    {
      "cell_type": "code",
      "metadata": {
        "id": "OU5B0Tg7bsgX",
        "outputId": "debf1f5e-dbed-4ed0-e8d8-dc594e0986a7",
        "colab": {
          "base_uri": "https://localhost:8080/",
          "height": 308
        }
      },
      "source": [
        "df.plot()"
      ],
      "execution_count": null,
      "outputs": [
        {
          "output_type": "execute_result",
          "data": {
            "text/plain": [
              "<matplotlib.axes._subplots.AxesSubplot at 0x7fda32430588>"
            ]
          },
          "metadata": {
            "tags": []
          },
          "execution_count": 6
        },
        {
          "output_type": "display_data",
          "data": {
            "image/png": "[encoded data removed]",
            "text/plain": [
              "<Figure size 432x288 with 1 Axes>"
            ]
          },
          "metadata": {
            "tags": [],
            "needs_background": "light"
          }
        }
      ]
    },
    {
      "cell_type": "markdown",
      "metadata": {
        "id": "tnXotg2pbv-u"
      },
      "source": [
        "## 트레이닝, 테스트 세트 만들기 \n",
        "- Split\n",
        "- 2011/1/1을 기준으로 트레이닝세트와 테스트세트로 구분\n",
        "- 학습과 테스트에 사용할 Unadjusted 변수만 남긴다."
      ]
    },
    {
      "cell_type": "code",
      "metadata": {
        "id": "jCrrCoqIhGXN"
      },
      "source": [
        "split_date = pd.Timestamp('01-01-2011')"
      ],
      "execution_count": null,
      "outputs": []
    },
    {
      "cell_type": "code",
      "metadata": {
        "id": "C764FdpHhcSK",
        "outputId": "173d4e1f-3c58-4051-f26b-2817233db932",
        "colab": {
          "base_uri": "https://localhost:8080/",
          "height": 246
        }
      },
      "source": [
        "train = df.loc[:split_date, ['Unadjusted']]\n",
        "test = df.loc[split_date:, ['Unadjusted']]\n",
        "train.head(), test.head()"
      ],
      "execution_count": null,
      "outputs": [
        {
          "output_type": "execute_result",
          "data": {
            "text/plain": [
              "(             Unadjusted\n",
              " Adjustments            \n",
              " 1991-01-31     12588862\n",
              " 1991-02-28     12154321\n",
              " 1991-03-31     14337072\n",
              " 1991-04-30     15108570\n",
              " 1991-05-31     17225734,              Unadjusted\n",
              " Adjustments            \n",
              " 2011-01-31     31191594\n",
              " 2011-02-28     29797949\n",
              " 2011-03-31     36099866\n",
              " 2011-04-30     38035760\n",
              " 2011-05-31     40046516)"
            ]
          },
          "metadata": {
            "tags": []
          },
          "execution_count": 8
        }
      ]
    },
    {
      "cell_type": "code",
      "metadata": {
        "id": "WR2m-_FihyiG",
        "outputId": "35505ba3-0092-49c8-a69c-8bd92c7ae989",
        "colab": {
          "base_uri": "https://localhost:8080/",
          "height": 308
        }
      },
      "source": [
        "ax = train.plot()\n",
        "test.plot(ax=ax)\n",
        "plt.legend(['train', 'test'])"
      ],
      "execution_count": null,
      "outputs": [
        {
          "output_type": "execute_result",
          "data": {
            "text/plain": [
              "<matplotlib.legend.Legend at 0x7fda322f85f8>"
            ]
          },
          "metadata": {
            "tags": []
          },
          "execution_count": 9
        },
        {
          "output_type": "display_data",
          "data": {
            "image/png": "[encoded data removed]",
            "text/plain": [
              "<Figure size 432x288 with 1 Axes>"
            ]
          },
          "metadata": {
            "tags": [],
            "needs_background": "light"
          }
        }
      ]
    },
    {
      "cell_type": "markdown",
      "metadata": {
        "id": "MrFQcxvNhsk2"
      },
      "source": [
        "## Scaling\n",
        "- MinMax Scaling을 통해 변수를 Scaling한다.\n",
        "- Scaling한 데이터는 2차원 numpy ndarray 타입으로 변환하다."
      ]
    },
    {
      "cell_type": "code",
      "metadata": {
        "id": "fQya1hbsiS8z"
      },
      "source": [
        "from sklearn.preprocessing import MinMaxScaler\n",
        "sc = MinMaxScaler()"
      ],
      "execution_count": null,
      "outputs": []
    },
    {
      "cell_type": "code",
      "metadata": {
        "id": "5IuGHXraihzd"
      },
      "source": [
        "train_sc = sc.fit_transform(train)\n",
        "test_sc = sc.fit_transform(test)"
      ],
      "execution_count": null,
      "outputs": []
    },
    {
      "cell_type": "markdown",
      "metadata": {
        "id": "DDqw45ICjGUy"
      },
      "source": [
        "## DataFrame 변환\n",
        "- DataFrame 변환 처리를 해야 Window를 만들기 유용하다.\n",
        "- Window는 순환신경망 트레이닝하기 위한 단위로 Window Size는 TimeStep과 같다고 생각하면 된다."
      ]
    },
    {
      "cell_type": "code",
      "metadata": {
        "id": "ZgPljIrOjGXM",
        "outputId": "cc3a6ed6-f852-4928-952f-989a43b01a55",
        "colab": {
          "base_uri": "https://localhost:8080/",
          "height": 263
        }
      },
      "source": [
        "train_sc_df = pd.DataFrame(train_sc, columns = ['Scaled'], index = train.index)\n",
        "test_sc_df = pd.DataFrame(test_sc, columns = ['Scaled'], index = test.index)\n",
        "print(train_sc_df.head())\n",
        "print(test_sc_df.head())"
      ],
      "execution_count": null,
      "outputs": [
        {
          "output_type": "stream",
          "text": [
            "               Scaled\n",
            "Adjustments          \n",
            "1991-01-31   0.014020\n",
            "1991-02-28   0.000000\n",
            "1991-03-31   0.070426\n",
            "1991-04-30   0.095318\n",
            "1991-05-31   0.163628\n",
            "               Scaled\n",
            "Adjustments          \n",
            "2011-01-31   0.068930\n",
            "2011-02-28   0.000000\n",
            "2011-03-31   0.311695\n",
            "2011-04-30   0.407446\n",
            "2011-05-31   0.506898\n"
          ],
          "name": "stdout"
        }
      ]
    },
    {
      "cell_type": "markdown",
      "metadata": {
        "id": "AkQCH7eRjy-W"
      },
      "source": [
        "## Window\n",
        "- pandas shift를 통해 Window를 만든다.\n",
        "- shift는 이전 정보를 다음 row에서 다시 쓰기 위한 pandas의 함수\n",
        "- 과거의 값을 shift_s와 같은 형태로 저장할 수 있다.\n",
        "- 과거값은 총 12개를 저장하여, timestep은 12개가 된다.\n",
        "- 과거값 shift1-12를 통해 현재 값 Scaled를 예측한다."
      ]
    },
    {
      "cell_type": "code",
      "metadata": {
        "id": "MCYntLU3kw8S",
        "outputId": "c05760d8-4448-4608-c176-e1c54ceedf2b",
        "colab": {
          "base_uri": "https://localhost:8080/",
          "height": 545
        }
      },
      "source": [
        "for s in range(1, 13) :\n",
        "  train_sc_df[f'shift_{s}'] = train_sc_df['Scaled'].shift(s)\n",
        "  test_sc_df[f'shift_{s}']  = test_sc_df['Scaled'].shift(s)\n",
        "print(train_sc_df)\n",
        "print(test_sc_df)"
      ],
      "execution_count": null,
      "outputs": [
        {
          "output_type": "stream",
          "text": [
            "               Scaled   shift_1   shift_2  ...  shift_10  shift_11  shift_12\n",
            "Adjustments                                ...                              \n",
            "1991-01-31   0.014020       NaN       NaN  ...       NaN       NaN       NaN\n",
            "1991-02-28   0.000000  0.014020       NaN  ...       NaN       NaN       NaN\n",
            "1991-03-31   0.070426  0.000000  0.014020  ...       NaN       NaN       NaN\n",
            "1991-04-30   0.095318  0.070426  0.000000  ...       NaN       NaN       NaN\n",
            "1991-05-31   0.163628  0.095318  0.070426  ...       NaN       NaN       NaN\n",
            "...               ...       ...       ...  ...       ...       ...       ...\n",
            "2010-08-31   0.814394  0.863983  0.865311  ...  0.773687  0.754447  0.770968\n",
            "2010-09-30   0.799167  0.814394  0.863983  ...  0.716290  0.773687  0.754447\n",
            "2010-10-31   0.802101  0.799167  0.814394  ...  0.929722  0.716290  0.773687\n",
            "2010-11-30   0.814829  0.802101  0.799167  ...  0.597349  0.929722  0.716290\n",
            "2010-12-31   1.000000  0.814829  0.802101  ...  0.531665  0.597349  0.929722\n",
            "\n",
            "[240 rows x 13 columns]\n",
            "               Scaled   shift_1   shift_2  ...  shift_10  shift_11  shift_12\n",
            "Adjustments                                ...                              \n",
            "2011-01-31   0.068930       NaN       NaN  ...       NaN       NaN       NaN\n",
            "2011-02-28   0.000000  0.068930       NaN  ...       NaN       NaN       NaN\n",
            "2011-03-31   0.311695  0.000000  0.068930  ...       NaN       NaN       NaN\n",
            "2011-04-30   0.407446  0.311695  0.000000  ...       NaN       NaN       NaN\n",
            "2011-05-31   0.506898  0.407446  0.311695  ...       NaN       NaN       NaN\n",
            "...               ...       ...       ...  ...       ...       ...       ...\n",
            "2016-09-30   0.778050  0.811324  0.817253  ...  0.687418  0.727554  0.702421\n",
            "2016-10-31   0.740529  0.778050  0.811324  ...  0.905120  0.687418  0.727554\n",
            "2016-11-30   0.815459  0.740529  0.778050  ...  0.327288  0.905120  0.687418\n",
            "2016-12-31   1.000000  0.815459  0.740529  ...  0.289418  0.327288  0.905120\n",
            "2017-01-31   0.387300  1.000000  0.815459  ...  0.574028  0.289418  0.327288\n",
            "\n",
            "[73 rows x 13 columns]\n"
          ],
          "name": "stdout"
        }
      ]
    },
    {
      "cell_type": "markdown",
      "metadata": {
        "id": "v2aTjIPGlLGG"
      },
      "source": [
        "## 트레이닝, 테스트 세트 만들기 \n",
        "- dropna를 이용하여 NaN이 있는 데이터를 제거\n",
        "- shift1-12는 X로, Scaled는 Y로 지정"
      ]
    },
    {
      "cell_type": "code",
      "metadata": {
        "id": "-vjQK6Ngl5uq"
      },
      "source": [
        "X_train = train_sc_df.dropna().drop('Scaled', axis=1)\n",
        "y_train = train_sc_df.dropna()[['Scaled']]\n",
        "X_test = test_sc_df.dropna().drop('Scaled', axis=1)\n",
        "y_test = test_sc_df.dropna()[['Scaled']]"
      ],
      "execution_count": null,
      "outputs": []
    },
    {
      "cell_type": "code",
      "metadata": {
        "id": "HWv1oe7DmgMc",
        "outputId": "a3dd5ab2-24fa-4ec1-9183-87cfb7b83faf",
        "colab": {
          "base_uri": "https://localhost:8080/",
          "height": 225
        }
      },
      "source": [
        "X_train.head()"
      ],
      "execution_count": null,
      "outputs": [
        {
          "output_type": "execute_result",
          "data": {
            "text/html": [
              "<div>\n",
              "<style scoped>\n",
              "    .dataframe tbody tr th:only-of-type {\n",
              "        vertical-align: middle;\n",
              "    }\n",
              "\n",
              "    .dataframe tbody tr th {\n",
              "        vertical-align: top;\n",
              "    }\n",
              "\n",
              "    .dataframe thead th {\n",
              "        text-align: right;\n",
              "    }\n",
              "</style>\n",
              "<table border=\"1\" class=\"dataframe\">\n",
              "  <thead>\n",
              "    <tr style=\"text-align: right;\">\n",
              "      <th></th>\n",
              "      <th>shift_1</th>\n",
              "      <th>shift_2</th>\n",
              "      <th>shift_3</th>\n",
              "      <th>shift_4</th>\n",
              "      <th>shift_5</th>\n",
              "      <th>shift_6</th>\n",
              "      <th>shift_7</th>\n",
              "      <th>shift_8</th>\n",
              "      <th>shift_9</th>\n",
              "      <th>shift_10</th>\n",
              "      <th>shift_11</th>\n",
              "      <th>shift_12</th>\n",
              "    </tr>\n",
              "    <tr>\n",
              "      <th>Adjustments</th>\n",
              "      <th></th>\n",
              "      <th></th>\n",
              "      <th></th>\n",
              "      <th></th>\n",
              "      <th></th>\n",
              "      <th></th>\n",
              "      <th></th>\n",
              "      <th></th>\n",
              "      <th></th>\n",
              "      <th></th>\n",
              "      <th></th>\n",
              "      <th></th>\n",
              "    </tr>\n",
              "  </thead>\n",
              "  <tbody>\n",
              "    <tr>\n",
              "      <th>1992-01-31</th>\n",
              "      <td>0.200913</td>\n",
              "      <td>0.131738</td>\n",
              "      <td>0.111395</td>\n",
              "      <td>0.092309</td>\n",
              "      <td>0.126174</td>\n",
              "      <td>0.123958</td>\n",
              "      <td>0.135141</td>\n",
              "      <td>0.163628</td>\n",
              "      <td>0.095318</td>\n",
              "      <td>0.070426</td>\n",
              "      <td>0.000000</td>\n",
              "      <td>0.014020</td>\n",
              "    </tr>\n",
              "    <tr>\n",
              "      <th>1992-02-29</th>\n",
              "      <td>0.030027</td>\n",
              "      <td>0.200913</td>\n",
              "      <td>0.131738</td>\n",
              "      <td>0.111395</td>\n",
              "      <td>0.092309</td>\n",
              "      <td>0.126174</td>\n",
              "      <td>0.123958</td>\n",
              "      <td>0.135141</td>\n",
              "      <td>0.163628</td>\n",
              "      <td>0.095318</td>\n",
              "      <td>0.070426</td>\n",
              "      <td>0.000000</td>\n",
              "    </tr>\n",
              "    <tr>\n",
              "      <th>1992-03-31</th>\n",
              "      <td>0.019993</td>\n",
              "      <td>0.030027</td>\n",
              "      <td>0.200913</td>\n",
              "      <td>0.131738</td>\n",
              "      <td>0.111395</td>\n",
              "      <td>0.092309</td>\n",
              "      <td>0.126174</td>\n",
              "      <td>0.123958</td>\n",
              "      <td>0.135141</td>\n",
              "      <td>0.163628</td>\n",
              "      <td>0.095318</td>\n",
              "      <td>0.070426</td>\n",
              "    </tr>\n",
              "    <tr>\n",
              "      <th>1992-04-30</th>\n",
              "      <td>0.065964</td>\n",
              "      <td>0.019993</td>\n",
              "      <td>0.030027</td>\n",
              "      <td>0.200913</td>\n",
              "      <td>0.131738</td>\n",
              "      <td>0.111395</td>\n",
              "      <td>0.092309</td>\n",
              "      <td>0.126174</td>\n",
              "      <td>0.123958</td>\n",
              "      <td>0.135141</td>\n",
              "      <td>0.163628</td>\n",
              "      <td>0.095318</td>\n",
              "    </tr>\n",
              "    <tr>\n",
              "      <th>1992-05-31</th>\n",
              "      <td>0.109831</td>\n",
              "      <td>0.065964</td>\n",
              "      <td>0.019993</td>\n",
              "      <td>0.030027</td>\n",
              "      <td>0.200913</td>\n",
              "      <td>0.131738</td>\n",
              "      <td>0.111395</td>\n",
              "      <td>0.092309</td>\n",
              "      <td>0.126174</td>\n",
              "      <td>0.123958</td>\n",
              "      <td>0.135141</td>\n",
              "      <td>0.163628</td>\n",
              "    </tr>\n",
              "  </tbody>\n",
              "</table>\n",
              "</div>"
            ],
            "text/plain": [
              "              shift_1   shift_2   shift_3  ...  shift_10  shift_11  shift_12\n",
              "Adjustments                                ...                              \n",
              "1992-01-31   0.200913  0.131738  0.111395  ...  0.070426  0.000000  0.014020\n",
              "1992-02-29   0.030027  0.200913  0.131738  ...  0.095318  0.070426  0.000000\n",
              "1992-03-31   0.019993  0.030027  0.200913  ...  0.163628  0.095318  0.070426\n",
              "1992-04-30   0.065964  0.019993  0.030027  ...  0.135141  0.163628  0.095318\n",
              "1992-05-31   0.109831  0.065964  0.019993  ...  0.123958  0.135141  0.163628\n",
              "\n",
              "[5 rows x 12 columns]"
            ]
          },
          "metadata": {
            "tags": []
          },
          "execution_count": 15
        }
      ]
    },
    {
      "cell_type": "code",
      "metadata": {
        "id": "M572plo6mnyF",
        "outputId": "ed6f43f2-bc68-4d24-df51-493aebb5b398",
        "colab": {
          "base_uri": "https://localhost:8080/",
          "height": 225
        }
      },
      "source": [
        "y_train.head()"
      ],
      "execution_count": null,
      "outputs": [
        {
          "output_type": "execute_result",
          "data": {
            "text/html": [
              "<div>\n",
              "<style scoped>\n",
              "    .dataframe tbody tr th:only-of-type {\n",
              "        vertical-align: middle;\n",
              "    }\n",
              "\n",
              "    .dataframe tbody tr th {\n",
              "        vertical-align: top;\n",
              "    }\n",
              "\n",
              "    .dataframe thead th {\n",
              "        text-align: right;\n",
              "    }\n",
              "</style>\n",
              "<table border=\"1\" class=\"dataframe\">\n",
              "  <thead>\n",
              "    <tr style=\"text-align: right;\">\n",
              "      <th></th>\n",
              "      <th>Scaled</th>\n",
              "    </tr>\n",
              "    <tr>\n",
              "      <th>Adjustments</th>\n",
              "      <th></th>\n",
              "    </tr>\n",
              "  </thead>\n",
              "  <tbody>\n",
              "    <tr>\n",
              "      <th>1992-01-31</th>\n",
              "      <td>0.030027</td>\n",
              "    </tr>\n",
              "    <tr>\n",
              "      <th>1992-02-29</th>\n",
              "      <td>0.019993</td>\n",
              "    </tr>\n",
              "    <tr>\n",
              "      <th>1992-03-31</th>\n",
              "      <td>0.065964</td>\n",
              "    </tr>\n",
              "    <tr>\n",
              "      <th>1992-04-30</th>\n",
              "      <td>0.109831</td>\n",
              "    </tr>\n",
              "    <tr>\n",
              "      <th>1992-05-31</th>\n",
              "      <td>0.149130</td>\n",
              "    </tr>\n",
              "  </tbody>\n",
              "</table>\n",
              "</div>"
            ],
            "text/plain": [
              "               Scaled\n",
              "Adjustments          \n",
              "1992-01-31   0.030027\n",
              "1992-02-29   0.019993\n",
              "1992-03-31   0.065964\n",
              "1992-04-30   0.109831\n",
              "1992-05-31   0.149130"
            ]
          },
          "metadata": {
            "tags": []
          },
          "execution_count": 16
        }
      ]
    },
    {
      "cell_type": "markdown",
      "metadata": {
        "id": "pcPOJvNxms88"
      },
      "source": [
        "## 다시 ndarray로 변환\n",
        "- 실제 deep learning 모델의 트레이닝과 테스트로 사용되는 데이터는 일반적으로 ndarray이다.\n"
      ]
    },
    {
      "cell_type": "code",
      "metadata": {
        "id": "sZMdQWKOnKpT"
      },
      "source": [
        "X_train = X_train.values\n",
        "X_test = X_test.values\n",
        "y_train = y_train.values\n",
        "y_test = y_test.values"
      ],
      "execution_count": null,
      "outputs": []
    },
    {
      "cell_type": "code",
      "metadata": {
        "id": "oDl4shwTnAU1",
        "outputId": "5ddfa410-05df-4d0d-b6a1-c1e4476f6ce1",
        "colab": {
          "base_uri": "https://localhost:8080/",
          "height": 34
        }
      },
      "source": [
        "# 트레이닝 데이터는 timestep = 12, size = 228\n",
        "X_train.shape"
      ],
      "execution_count": null,
      "outputs": [
        {
          "output_type": "execute_result",
          "data": {
            "text/plain": [
              "(228, 12)"
            ]
          },
          "metadata": {
            "tags": []
          },
          "execution_count": 18
        }
      ]
    },
    {
      "cell_type": "markdown",
      "metadata": {
        "id": "70eQ15A9nfg8"
      },
      "source": [
        "## 트레이닝, 테스트 세트 만들기 - 최종\n",
        "- keras에서는 모델을 트레이닝할 때 요구되는 데이터의 형식이 있다.\n",
        "  - 3차원의 데이터여야 한다.\n",
        "  - 각각의 차원은 \"size\", \"timestep\", \"feature\" 순서대로 나타내야 한다.\n",
        "- 일반적인 MLP 모델에서는 size와 feature만 있지만, 순환신경망에서는 \"시간\"이라는 개념이 있기 때문에 차원이 한 차원 늘어나게 된다."
      ]
    },
    {
      "cell_type": "code",
      "metadata": {
        "id": "xDtzexSCoTBN"
      },
      "source": [
        "X_train_t = X_train.reshape(X_train.shape[0], 12, 1)\n",
        "X_test_t  = X_test.reshape(X_test.shape[0], 12, 1)"
      ],
      "execution_count": null,
      "outputs": []
    },
    {
      "cell_type": "code",
      "metadata": {
        "id": "q9CALyXBo0EH",
        "outputId": "f8a967b4-9a25-43b8-90a8-68adc705e9e7",
        "colab": {
          "base_uri": "https://localhost:8080/",
          "height": 34
        }
      },
      "source": [
        "X_train_t.shape"
      ],
      "execution_count": null,
      "outputs": [
        {
          "output_type": "execute_result",
          "data": {
            "text/plain": [
              "(228, 12, 1)"
            ]
          },
          "metadata": {
            "tags": []
          },
          "execution_count": 20
        }
      ]
    },
    {
      "cell_type": "markdown",
      "metadata": {
        "id": "mCinKrcMo_l7"
      },
      "source": [
        "# LSTM 모델 만들기\n",
        "- input_shape=(timestep, feature)로 만든다.\n",
        "  - size는 모델 설계 시에는 중요하지 않으므로, feature, timestep만 모델에 알려주면 된다.\n",
        "- 예측하고자 하는 target의 개수가 1이므로 마지막에 Dense(1)을 추가\n",
        "- 실제 연속적인 값을 예측하는 것이기 때문에 loss function은 Mean squared error가 되고, 일반적으로 optimizer는 adam을 자주 사용한다."
      ]
    },
    {
      "cell_type": "code",
      "metadata": {
        "id": "9W7EEazqpOUj"
      },
      "source": [
        "from keras.models import Sequential\n",
        "from keras.layers import LSTM, Dense\n",
        "import keras.backend as K\n",
        "from keras.callbacks import EarlyStopping"
      ],
      "execution_count": null,
      "outputs": []
    },
    {
      "cell_type": "code",
      "metadata": {
        "id": "_a64XyxLo_5r"
      },
      "source": [
        "K.clear_session()\n",
        "model = Sequential()\n",
        "model.add(LSTM(6, input_shape = (12, 1)))\n",
        "model.add(Dense(1))\n",
        "model.compile(loss='mean_squared_error', optimizer='adam')"
      ],
      "execution_count": null,
      "outputs": []
    },
    {
      "cell_type": "markdown",
      "metadata": {
        "id": "_EIUI1wQo_8h"
      },
      "source": [
        "## 모델 Fitting\n",
        "- Fitting은 training dataset으로 optization 과정을 통해 모델의 weight를 찾는 것이다.\n",
        "- early stopping 객체를 이용해 epoch마다 early stopping을 체크한다."
      ]
    },
    {
      "cell_type": "code",
      "metadata": {
        "id": "Z7EZsyZHrSkc"
      },
      "source": [
        "early_stop = EarlyStopping(monitor='loss', patience=1, verbose=1)"
      ],
      "execution_count": null,
      "outputs": []
    },
    {
      "cell_type": "code",
      "metadata": {
        "id": "fYpo_CYQsHqV",
        "outputId": "7290dd05-3277-408e-fadc-c5cbd8353594",
        "colab": {
          "base_uri": "https://localhost:8080/",
          "height": 34
        }
      },
      "source": [
        "model.fit(X_train_t, y_train, epochs=600, batch_size=32, verbose=0)"
      ],
      "execution_count": null,
      "outputs": [
        {
          "output_type": "execute_result",
          "data": {
            "text/plain": [
              "<tensorflow.python.keras.callbacks.History at 0x7fda200d35c0>"
            ]
          },
          "metadata": {
            "tags": []
          },
          "execution_count": 24
        }
      ]
    },
    {
      "cell_type": "markdown",
      "metadata": {
        "id": "NAidKsu5sQza"
      },
      "source": [
        "# 테스트\n",
        "- 학습된 모델을 통해 테스트세트로 테스트하기\n",
        "  - 테스트세트는 2011/1/1 이후 데이터를 나타낸다.\n",
        "  - 트레이닝에는 1991년부터 2010년까지의 데이터가 이용되었다.\n",
        "  - 예측은 1991-2010년 데이터를 통해 2011년 이후 데이터를 예측하는 것으로 볼 수 있다."
      ]
    },
    {
      "cell_type": "code",
      "metadata": {
        "id": "c-LRD5GAv3d-",
        "outputId": "3191daf7-477a-4005-965b-3eca090a3331",
        "colab": {
          "base_uri": "https://localhost:8080/",
          "height": 282
        }
      },
      "source": [
        "y_pred = model.predict(X_test_t)\n",
        "plt.plot(y_test, label='Test')\n",
        "plt.plot(y_pred, label='Prediction')\n",
        "plt.legend(loc='upper left')"
      ],
      "execution_count": null,
      "outputs": [
        {
          "output_type": "execute_result",
          "data": {
            "text/plain": [
              "<matplotlib.legend.Legend at 0x7fd9b64fd7f0>"
            ]
          },
          "metadata": {
            "tags": []
          },
          "execution_count": 25
        },
        {
          "output_type": "display_data",
          "data": {
            "image/png": "[encoded data removed]",
            "text/plain": [
              "<Figure size 432x288 with 1 Axes>"
            ]
          },
          "metadata": {
            "tags": [],
            "needs_background": "light"
          }
        }
      ]
    }
  ]
}