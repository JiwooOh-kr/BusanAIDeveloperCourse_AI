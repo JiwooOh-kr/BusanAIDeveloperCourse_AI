{
  "nbformat": 4,
  "nbformat_minor": 0,
  "metadata": {
    "colab": {
      "name": "08_pyTorch 기초.ipynb",
      "provenance": [],
      "collapsed_sections": [],
      "toc_visible": true,
      "mount_file_id": "1bM9NhNrGRxAynkd_UJ8sXx4Ybre9OnJF",
      "authorship_tag": "ABX9TyPo4avBTNfR8a7MihvvAh9/",
      "include_colab_link": true
    },
    "kernelspec": {
      "name": "python3",
      "display_name": "Python 3"
    }
  },
  "cells": [
    {
      "cell_type": "markdown",
      "metadata": {
        "id": "view-in-github",
        "colab_type": "text"
      },
      "source": [
        "<a href=\"https://colab.research.google.com/github/jkjh23/busan_AI_2020/blob/master/4_DeepLearning/08_pyTorch_%EA%B8%B0%EC%B4%88.ipynb\" target=\"_parent\"><img src=\"https://colab.research.google.com/assets/colab-badge.svg\" alt=\"Open In Colab\"/></a>"
      ]
    },
    {
      "cell_type": "markdown",
      "metadata": {
        "id": "Rjqr9-hRwgfi",
        "colab_type": "text"
      },
      "source": [
        "# pyTorch(파이토치)"
      ]
    },
    {
      "cell_type": "markdown",
      "metadata": {
        "id": "ZUVz27-awqvP",
        "colab_type": "text"
      },
      "source": [
        "- [파이토치 시작하기](https://pytorch.org/get-started/locally/)\n",
        "  - 개발 환경에 따라 설치하는 조합이 잘 나와있다.\n",
        "  - 실제로 구축해보면, pyTorch가 CUDA와 가장 잘 연동된다.\n",
        "  - CUDA vs ROCm : 현재 CUDA만 지원"
      ]
    },
    {
      "cell_type": "markdown",
      "metadata": {
        "id": "5oCj5k6wxW8T",
        "colab_type": "text"
      },
      "source": [
        "## 특징"
      ]
    },
    {
      "cell_type": "markdown",
      "metadata": {
        "id": "rUK1Q5rMxZ45",
        "colab_type": "text"
      },
      "source": [
        "- Define by Run 방식\n",
        "- 파이썬 짜듯이 작성 가능\n",
        "- 디버깅 용이, 즉시 확인 가능\n",
        "- numpy 베이스로 작동\n",
        "  - Scipy, Numpy, Cython\n",
        "  "
      ]
    },
    {
      "cell_type": "code",
      "metadata": {
        "id": "dby5KVT7xt7o",
        "colab_type": "code",
        "colab": {}
      },
      "source": [
        "import torch"
      ],
      "execution_count": 1,
      "outputs": []
    },
    {
      "cell_type": "code",
      "metadata": {
        "id": "Lo71brCAxzJB",
        "colab_type": "code",
        "colab": {
          "base_uri": "https://localhost:8080/",
          "height": 35
        },
        "outputId": "3860484f-6206-4932-b888-aab18f96b915"
      },
      "source": [
        "torch.__version__\n",
        "# 최신 버전으로 적용되어 있다."
      ],
      "execution_count": 2,
      "outputs": [
        {
          "output_type": "execute_result",
          "data": {
            "application/vnd.google.colaboratory.intrinsic+json": {
              "type": "string"
            },
            "text/plain": [
              "'1.6.0+cu101'"
            ]
          },
          "metadata": {
            "tags": []
          },
          "execution_count": 2
        }
      ]
    },
    {
      "cell_type": "markdown",
      "metadata": {
        "id": "3N09fF_myFMB",
        "colab_type": "text"
      },
      "source": [
        "- <img src=\"https://drive.google.com/uc?id=1PzcpfZlUc6Aovz9PsAq0Y-PJIm3ZcIg8\" width=\"80%\">\n",
        "- pip install torch==1.6.0+cu101 torchvision==0.7.0+cu101 -f https://download.pytorch.org/whl/torch_stable.html"
      ]
    },
    {
      "cell_type": "markdown",
      "metadata": {
        "id": "UgfPby6pyb5v",
        "colab_type": "text"
      },
      "source": [
        "# 텐서"
      ]
    },
    {
      "cell_type": "markdown",
      "metadata": {
        "id": "Zb7h4gqix2x4",
        "colab_type": "text"
      },
      "source": [
        "- 텐서플로, 파이토치 등은 텐서를 기반으로 진행되는 연산을 수행하고, 딥러닝은 이런 연산의 연속이다.\n",
        "- 딥러닝 연산의 기본 단위\n",
        "- 행렬\n",
        "- <img src=\"https://drive.google.com/uc?id=1GXInEu6qtFuzp-OkoiH6RFGcpYanV7RM\" width=\"100%\">\n",
        "\n"
      ]
    },
    {
      "cell_type": "code",
      "metadata": {
        "id": "a0nfmMxJysAK",
        "colab_type": "code",
        "colab": {}
      },
      "source": [
        "# 텐서 생성\n",
        "# 리스트, 배열로부터 생성 가능\n",
        "# 기본 자료형 float32"
      ],
      "execution_count": 3,
      "outputs": []
    },
    {
      "cell_type": "code",
      "metadata": {
        "id": "dylKOyHE0a5z",
        "colab_type": "code",
        "colab": {
          "base_uri": "https://localhost:8080/",
          "height": 52
        },
        "outputId": "e192abba-edd5-402d-afb4-dff3e51c15d5"
      },
      "source": [
        "# 리스트\n",
        "list_src = [[10,11,12], [13,14,15]]   # (2,3)\n",
        "# 텐서 생성\n",
        "x = torch.Tensor(list_src)\n",
        "x"
      ],
      "execution_count": 4,
      "outputs": [
        {
          "output_type": "execute_result",
          "data": {
            "text/plain": [
              "tensor([[10., 11., 12.],\n",
              "        [13., 14., 15.]])"
            ]
          },
          "metadata": {
            "tags": []
          },
          "execution_count": 4
        }
      ]
    },
    {
      "cell_type": "code",
      "metadata": {
        "id": "OuAWISIz0zLy",
        "colab_type": "code",
        "colab": {
          "base_uri": "https://localhost:8080/",
          "height": 34
        },
        "outputId": "d0e75ee5-c5c4-4ebe-888a-24efa9000893"
      },
      "source": [
        "# 텐서를 다시 리스트로 변환\n",
        "x.tolist()"
      ],
      "execution_count": 5,
      "outputs": [
        {
          "output_type": "execute_result",
          "data": {
            "text/plain": [
              "[[10.0, 11.0, 12.0], [13.0, 14.0, 15.0]]"
            ]
          },
          "metadata": {
            "tags": []
          },
          "execution_count": 5
        }
      ]
    },
    {
      "cell_type": "code",
      "metadata": {
        "id": "uW5Pz6aj1Bw6",
        "colab_type": "code",
        "colab": {
          "base_uri": "https://localhost:8080/",
          "height": 52
        },
        "outputId": "6dec5f51-8523-47a3-d3f3-0f0de6f2f4ab"
      },
      "source": [
        "# 배열 생성\n",
        "import numpy as np\n",
        "arr = np.array(list_src)\n",
        "arr\n",
        "# 원래 타입대로 값이 적용(텐서는 float으로 변함)"
      ],
      "execution_count": 6,
      "outputs": [
        {
          "output_type": "execute_result",
          "data": {
            "text/plain": [
              "array([[10, 11, 12],\n",
              "       [13, 14, 15]])"
            ]
          },
          "metadata": {
            "tags": []
          },
          "execution_count": 6
        }
      ]
    },
    {
      "cell_type": "code",
      "metadata": {
        "id": "C-aYRzCR1NC6",
        "colab_type": "code",
        "colab": {
          "base_uri": "https://localhost:8080/",
          "height": 52
        },
        "outputId": "3052ba9e-f8f1-44ac-ca46-38745d9cb7af"
      },
      "source": [
        "# 생성 : 배열을 재료로\n",
        "x = torch.Tensor(arr)\n",
        "x"
      ],
      "execution_count": 7,
      "outputs": [
        {
          "output_type": "execute_result",
          "data": {
            "text/plain": [
              "tensor([[10., 11., 12.],\n",
              "        [13., 14., 15.]])"
            ]
          },
          "metadata": {
            "tags": []
          },
          "execution_count": 7
        }
      ]
    },
    {
      "cell_type": "code",
      "metadata": {
        "id": "zyG0QTBY1ZxS",
        "colab_type": "code",
        "colab": {
          "base_uri": "https://localhost:8080/",
          "height": 52
        },
        "outputId": "ef262fe1-72bf-4b49-cc11-82e914a6d1f8"
      },
      "source": [
        "# 텐서를 다시 배열로 변환\n",
        "x.numpy()\n",
        "# 복원은 됐으나 원래 타입으로 돌아가지 않는다."
      ],
      "execution_count": 8,
      "outputs": [
        {
          "output_type": "execute_result",
          "data": {
            "text/plain": [
              "array([[10., 11., 12.],\n",
              "       [13., 14., 15.]], dtype=float32)"
            ]
          },
          "metadata": {
            "tags": []
          },
          "execution_count": 8
        }
      ]
    },
    {
      "cell_type": "code",
      "metadata": {
        "id": "VG5FClPymF5U",
        "colab_type": "code",
        "colab": {
          "base_uri": "https://localhost:8080/",
          "height": 52
        },
        "outputId": "480b9237-d75c-45c9-aceb-16ec87af3749"
      },
      "source": [
        "# 랜덤값으로 텐서 생성\n",
        "torch.rand(2,3)"
      ],
      "execution_count": 10,
      "outputs": [
        {
          "output_type": "execute_result",
          "data": {
            "text/plain": [
              "tensor([[0.0893, 0.1657, 0.5389],\n",
              "        [0.5924, 0.1121, 0.1147]])"
            ]
          },
          "metadata": {
            "tags": []
          },
          "execution_count": 10
        }
      ]
    },
    {
      "cell_type": "code",
      "metadata": {
        "id": "CvbMaNqJmbCz",
        "colab_type": "code",
        "colab": {
          "base_uri": "https://localhost:8080/",
          "height": 52
        },
        "outputId": "4114cd13-fb89-4452-9db8-6d59dfea9ce9"
      },
      "source": [
        "# low는 포함되고 high는 포함되지 않음(low <= x < high)\n",
        "torch.randint( low=0, high=3, size=(2,3) )"
      ],
      "execution_count": 14,
      "outputs": [
        {
          "output_type": "execute_result",
          "data": {
            "text/plain": [
              "tensor([[2, 0, 1],\n",
              "        [1, 2, 1]])"
            ]
          },
          "metadata": {
            "tags": []
          },
          "execution_count": 14
        }
      ]
    },
    {
      "cell_type": "code",
      "metadata": {
        "id": "94Ao6OusmxKr",
        "colab_type": "code",
        "colab": {
          "base_uri": "https://localhost:8080/",
          "height": 52
        },
        "outputId": "a4a8d78e-a6fb-494c-f71f-c13678c3d962"
      },
      "source": [
        "# 제로 행렬, 영행렬\n",
        "torch.zeros(2,2)"
      ],
      "execution_count": 15,
      "outputs": [
        {
          "output_type": "execute_result",
          "data": {
            "text/plain": [
              "tensor([[0., 0.],\n",
              "        [0., 0.]])"
            ]
          },
          "metadata": {
            "tags": []
          },
          "execution_count": 15
        }
      ]
    },
    {
      "cell_type": "code",
      "metadata": {
        "id": "mwY6JiN0m4ID",
        "colab_type": "code",
        "colab": {
          "base_uri": "https://localhost:8080/",
          "height": 52
        },
        "outputId": "df3ee409-329e-4305-9f6a-2298d0ce94e0"
      },
      "source": [
        "# 구성원이 모두 1인 행렬\n",
        "torch.ones(2,2)"
      ],
      "execution_count": 16,
      "outputs": [
        {
          "output_type": "execute_result",
          "data": {
            "text/plain": [
              "tensor([[1., 1.],\n",
              "        [1., 1.]])"
            ]
          },
          "metadata": {
            "tags": []
          },
          "execution_count": 16
        }
      ]
    },
    {
      "cell_type": "code",
      "metadata": {
        "id": "uOHRtTJ8nEWA",
        "colab_type": "code",
        "colab": {
          "base_uri": "https://localhost:8080/",
          "height": 52
        },
        "outputId": "55288d4d-84e1-4437-e3af-6c6f7e025c76"
      },
      "source": [
        "# 영행렬 생성, 대상이 되는 텐서의 크기와 동일\n",
        "# x 텐서의 shape을 본따서 영행렬 생성\n",
        "# 계산의 편의성 때문에 나온 함수\n",
        "a = torch.ones(2,2)\n",
        "torch.zeros_like(a)"
      ],
      "execution_count": 19,
      "outputs": [
        {
          "output_type": "execute_result",
          "data": {
            "text/plain": [
              "tensor([[0., 0.],\n",
              "        [0., 0.]])"
            ]
          },
          "metadata": {
            "tags": []
          },
          "execution_count": 19
        }
      ]
    },
    {
      "cell_type": "code",
      "metadata": {
        "id": "IDyg2K8_nqSD",
        "colab_type": "code",
        "colab": {
          "base_uri": "https://localhost:8080/",
          "height": 52
        },
        "outputId": "e1cf1e65-9416-430d-fc80-29c5a252d232"
      },
      "source": [
        "torch.ones_like(a)"
      ],
      "execution_count": 24,
      "outputs": [
        {
          "output_type": "execute_result",
          "data": {
            "text/plain": [
              "tensor([[1., 1.],\n",
              "        [1., 1.]])"
            ]
          },
          "metadata": {
            "tags": []
          },
          "execution_count": 24
        }
      ]
    },
    {
      "cell_type": "code",
      "metadata": {
        "id": "XjFbz0SInand",
        "colab_type": "code",
        "colab": {
          "base_uri": "https://localhost:8080/",
          "height": 105
        },
        "outputId": "3b9a032a-d7e7-4390-8fe9-f25bcf565879"
      },
      "source": [
        "print(torch.ones_like(torch.ones(2,3))) \n",
        "print(torch.ones_like(torch.ones(2,3)).T)"
      ],
      "execution_count": 23,
      "outputs": [
        {
          "output_type": "stream",
          "text": [
            "tensor([[1., 1., 1.],\n",
            "        [1., 1., 1.]])\n",
            "tensor([[1., 1.],\n",
            "        [1., 1.],\n",
            "        [1., 1.]])\n"
          ],
          "name": "stdout"
        }
      ]
    },
    {
      "cell_type": "code",
      "metadata": {
        "id": "LhjZSBtFnchT",
        "colab_type": "code",
        "colab": {}
      },
      "source": [
        ""
      ],
      "execution_count": null,
      "outputs": []
    },
    {
      "cell_type": "markdown",
      "metadata": {
        "id": "XGd6px2V1jFb",
        "colab_type": "text"
      },
      "source": [
        "# GPU 사용"
      ]
    },
    {
      "cell_type": "code",
      "metadata": {
        "id": "mnwcODsZ1sqV",
        "colab_type": "code",
        "colab": {
          "base_uri": "https://localhost:8080/",
          "height": 34
        },
        "outputId": "6ba95c84-8fa4-4888-b25e-24dde71cf1f3"
      },
      "source": [
        "# 현재 device는 cpu\n",
        "x.device"
      ],
      "execution_count": 9,
      "outputs": [
        {
          "output_type": "execute_result",
          "data": {
            "text/plain": [
              "device(type='cpu')"
            ]
          },
          "metadata": {
            "tags": []
          },
          "execution_count": 9
        }
      ]
    },
    {
      "cell_type": "code",
      "metadata": {
        "id": "HzAWUrRzmW86",
        "colab_type": "code",
        "colab": {}
      },
      "source": [
        "aa # 오류 발생, 밑은 GPU로 바꾼 후 실행"
      ],
      "execution_count": null,
      "outputs": []
    },
    {
      "cell_type": "code",
      "metadata": {
        "id": "WgyuKEG-1zNb",
        "colab_type": "code",
        "colab": {
          "base_uri": "https://localhost:8080/",
          "height": 34
        },
        "outputId": "89e18f96-2585-4a8d-9b49-3d38faf5c43d"
      },
      "source": [
        "try : \n",
        "  # x라는 텐서에 device를 지정\n",
        "  x.to('cuda')\n",
        "  # 텐서별로 지정 가능\n",
        "  print(x.device)\n",
        "except Exception as e :\n",
        "  print(e)\n",
        "  pass"
      ],
      "execution_count": 10,
      "outputs": [
        {
          "output_type": "stream",
          "text": [
            "cuda runtime error (100) : no CUDA-capable device is detected at /pytorch/aten/src/THC/THCGeneral.cpp:47\n"
          ],
          "name": "stdout"
        }
      ]
    },
    {
      "cell_type": "code",
      "metadata": {
        "id": "65UusrIi16Us",
        "colab_type": "code",
        "colab": {}
      },
      "source": [
        "# 현재 하드웨어에서 GPU에 대한 지원사항\n",
        "# 노트 설정을 GPU로 변경 후 사용\n",
        "\n",
        "try : \n",
        "  # CUDA 사용이 가능한가\n",
        "  print(torch.cuda.is_available())\n",
        "  # 현재 사용하는 GPU\n",
        "  print(torch.cuda.current_device())\n",
        "  # GPU의 개수\n",
        "  print(torch.cuda.device_count())\n",
        "  # 장비명\n",
        "  print(torch.cuda.get_device_name(torch.cuda.current_device()))\n",
        "except Exception as e : pass"
      ],
      "execution_count": null,
      "outputs": []
    },
    {
      "cell_type": "code",
      "metadata": {
        "id": "Yccdo4-HkWwX",
        "colab_type": "code",
        "colab": {}
      },
      "source": [
        "try : \n",
        "  # 전체 적용\n",
        "  torch.device('cuda')\n",
        "except Exception as e : pass"
      ],
      "execution_count": null,
      "outputs": []
    },
    {
      "cell_type": "code",
      "metadata": {
        "id": "VMstaRI8lW4s",
        "colab_type": "code",
        "colab": {}
      },
      "source": [
        "try :\n",
        "  # 사용한 메모리 회수\n",
        "  torch.cuda.empty_cache()\n",
        "except Exception as e : pass"
      ],
      "execution_count": null,
      "outputs": []
    },
    {
      "cell_type": "markdown",
      "metadata": {
        "id": "moDAuOB6n-kD",
        "colab_type": "text"
      },
      "source": [
        "# 텐서 타입"
      ]
    },
    {
      "cell_type": "markdown",
      "metadata": {
        "id": "wqwxJvZ_n_cN",
        "colab_type": "text"
      },
      "source": [
        "- <img src=\"https://drive.google.com/uc?id=1GP0cXwtA7rseScIGnhgZ_jPrqth-wRR0\" width=\"80%\">\n",
        "\n",
        "  - 타입은 크게 float 계열, integer 계열(정수 계열), boolean 계열로 나눠진다. => 딥러닝 시 데이터는 수치여야 한다.\n",
        "  - CPU용 텐서와 GPU용 텐서로 종류가 나눠진다."
      ]
    },
    {
      "cell_type": "code",
      "metadata": {
        "id": "MzXkuDLjpwRF",
        "colab_type": "code",
        "colab": {}
      },
      "source": [
        "# torch.Tenseor() => 기본 타입 torch.float32\n",
        "# 타입을 변경하고 싶으면 파라미터에서 지정 가능하다."
      ],
      "execution_count": null,
      "outputs": []
    },
    {
      "cell_type": "code",
      "metadata": {
        "id": "yG5K2K-9pAyT",
        "colab_type": "code",
        "colab": {
          "base_uri": "https://localhost:8080/",
          "height": 34
        },
        "outputId": "af249e88-f177-4fa0-97d8-e4ecfc9cb5dc"
      },
      "source": [
        "# 실수 타입 텐서\n",
        "a = torch.FloatTensor(np.array([1,2,3,4]))\n",
        "# type(a)  : 파이썬 함수\n",
        "# a.type() : 토치 함수, 문자열로 나옴\n",
        "# a.dtype  : 넘파이 함수\n",
        "a, type(a), a.type(), a.dtype"
      ],
      "execution_count": 26,
      "outputs": [
        {
          "output_type": "execute_result",
          "data": {
            "text/plain": [
              "(tensor([1., 2., 3., 4.]), torch.Tensor, 'torch.FloatTensor', torch.float32)"
            ]
          },
          "metadata": {
            "tags": []
          },
          "execution_count": 26
        }
      ]
    },
    {
      "cell_type": "code",
      "metadata": {
        "id": "vtchpTuJpI-k",
        "colab_type": "code",
        "colab": {
          "base_uri": "https://localhost:8080/",
          "height": 34
        },
        "outputId": "03eed860-9993-4b98-9b46-bead59ea3c7e"
      },
      "source": [
        "a = torch.LongTensor(np.array([1,2,3,4]))\n",
        "a, type(a), a.type(), a.dtype"
      ],
      "execution_count": 27,
      "outputs": [
        {
          "output_type": "execute_result",
          "data": {
            "text/plain": [
              "(tensor([1, 2, 3, 4]), torch.Tensor, 'torch.LongTensor', torch.int64)"
            ]
          },
          "metadata": {
            "tags": []
          },
          "execution_count": 27
        }
      ]
    },
    {
      "cell_type": "code",
      "metadata": {
        "id": "vWE_jyfcpguM",
        "colab_type": "code",
        "colab": {
          "base_uri": "https://localhost:8080/",
          "height": 87
        },
        "outputId": "fe449efc-ad2c-44b9-d4e0-6254ccd792bd"
      },
      "source": [
        "a = torch.BoolTensor(np.array([True,False,True,False]))\n",
        "a, type(a), a.type(), a.dtype"
      ],
      "execution_count": 30,
      "outputs": [
        {
          "output_type": "execute_result",
          "data": {
            "text/plain": [
              "(tensor([ True, False,  True, False]),\n",
              " torch.Tensor,\n",
              " 'torch.BoolTensor',\n",
              " torch.bool)"
            ]
          },
          "metadata": {
            "tags": []
          },
          "execution_count": 30
        }
      ]
    },
    {
      "cell_type": "markdown",
      "metadata": {
        "id": "7v6sx2zepjR0",
        "colab_type": "text"
      },
      "source": [
        "# 텐서 조작(연산)"
      ]
    },
    {
      "cell_type": "code",
      "metadata": {
        "id": "pTyq94Dwp_O8",
        "colab_type": "code",
        "colab": {
          "base_uri": "https://localhost:8080/",
          "height": 34
        },
        "outputId": "ca89800c-880b-4813-a34e-a4182e64d634"
      },
      "source": [
        "# torch 난수 고정\n",
        "torch.manual_seed(1024)"
      ],
      "execution_count": 31,
      "outputs": [
        {
          "output_type": "execute_result",
          "data": {
            "text/plain": [
              "<torch._C.Generator at 0x7fec89f72138>"
            ]
          },
          "metadata": {
            "tags": []
          },
          "execution_count": 31
        }
      ]
    },
    {
      "cell_type": "code",
      "metadata": {
        "id": "YvfSXk1jqFe0",
        "colab_type": "code",
        "colab": {
          "base_uri": "https://localhost:8080/",
          "height": 140
        },
        "outputId": "38f7c676-d0c4-4c89-e6f0-6a6ad5a22fbd"
      },
      "source": [
        "# 행렬\n",
        "x = torch.randint(0, 10, size=(2,3,4))\n",
        "x"
      ],
      "execution_count": 32,
      "outputs": [
        {
          "output_type": "execute_result",
          "data": {
            "text/plain": [
              "tensor([[[7, 1, 1, 4],\n",
              "         [5, 1, 1, 8],\n",
              "         [9, 6, 5, 4]],\n",
              "\n",
              "        [[8, 7, 4, 9],\n",
              "         [3, 1, 3, 9],\n",
              "         [2, 3, 3, 9]]])"
            ]
          },
          "metadata": {
            "tags": []
          },
          "execution_count": 32
        }
      ]
    },
    {
      "cell_type": "code",
      "metadata": {
        "id": "QOXJUOfMqQ3E",
        "colab_type": "code",
        "colab": {
          "base_uri": "https://localhost:8080/",
          "height": 34
        },
        "outputId": "8db02ee4-fb20-4b70-ad7f-7b2f86f8e8f3"
      },
      "source": [
        "# 차원(dimension)\n",
        "# dim은 torch에서 정의한 것, ndim은 numpy에서 넘어온 것\n",
        "f'x는 {x.dim()}-D Tesnor다.', x.ndim"
      ],
      "execution_count": 36,
      "outputs": [
        {
          "output_type": "execute_result",
          "data": {
            "text/plain": [
              "('x는 3-D Tesnor다.', 3)"
            ]
          },
          "metadata": {
            "tags": []
          },
          "execution_count": 36
        }
      ]
    },
    {
      "cell_type": "code",
      "metadata": {
        "id": "NIIq5I-IqZX8",
        "colab_type": "code",
        "colab": {
          "base_uri": "https://localhost:8080/",
          "height": 34
        },
        "outputId": "198eeee7-2451-4e59-ab7d-fc39aee1eba0"
      },
      "source": [
        "# shape\n",
        "x.shape"
      ],
      "execution_count": 37,
      "outputs": [
        {
          "output_type": "execute_result",
          "data": {
            "text/plain": [
              "torch.Size([2, 3, 4])"
            ]
          },
          "metadata": {
            "tags": []
          },
          "execution_count": 37
        }
      ]
    },
    {
      "cell_type": "markdown",
      "metadata": {
        "id": "KnvbEWzLq2KV",
        "colab_type": "text"
      },
      "source": [
        "# slicing, indexing"
      ]
    },
    {
      "cell_type": "code",
      "metadata": {
        "id": "D_UIUjT7rDpN",
        "colab_type": "code",
        "colab": {
          "base_uri": "https://localhost:8080/",
          "height": 70
        },
        "outputId": "527324ae-e352-4b6f-9c19-134023cb6898"
      },
      "source": [
        "# 인덱싱 -> 차원축소\n",
        "x[0], x[0].dim()"
      ],
      "execution_count": 38,
      "outputs": [
        {
          "output_type": "execute_result",
          "data": {
            "text/plain": [
              "(tensor([[7, 1, 1, 4],\n",
              "         [5, 1, 1, 8],\n",
              "         [9, 6, 5, 4]]), 2)"
            ]
          },
          "metadata": {
            "tags": []
          },
          "execution_count": 38
        }
      ]
    },
    {
      "cell_type": "code",
      "metadata": {
        "id": "49F4SWntrPCE",
        "colab_type": "code",
        "colab": {
          "base_uri": "https://localhost:8080/",
          "height": 34
        },
        "outputId": "70ff2c27-1990-4a3b-815a-c7b312346a88"
      },
      "source": [
        "# 차원을 내려가거나, 차원을 나열하면서 추출 가능 -> df의 iloc, np의 펜시인덱싱과 스타일이 동일하다.\n",
        "x[0][0], x[0][0][0], x[0, 0], x[0, 0, 0]"
      ],
      "execution_count": 41,
      "outputs": [
        {
          "output_type": "execute_result",
          "data": {
            "text/plain": [
              "(tensor([7, 1, 1, 4]), tensor(7), tensor([7, 1, 1, 4]), tensor(7))"
            ]
          },
          "metadata": {
            "tags": []
          },
          "execution_count": 41
        }
      ]
    },
    {
      "cell_type": "code",
      "metadata": {
        "id": "gRYXziVirxHt",
        "colab_type": "code",
        "colab": {}
      },
      "source": [
        "import matplotlib.pyplot as plt\n",
        "%matplotlib inline"
      ],
      "execution_count": 42,
      "outputs": []
    },
    {
      "cell_type": "code",
      "metadata": {
        "id": "S2bzAPG5sGKG",
        "colab_type": "code",
        "colab": {
          "base_uri": "https://localhost:8080/",
          "height": 34
        },
        "outputId": "03ea7d79-6be6-4008-982d-75c8c4adf6b2"
      },
      "source": [
        "x.shape, len(x), x.shape[0]"
      ],
      "execution_count": 45,
      "outputs": [
        {
          "output_type": "execute_result",
          "data": {
            "text/plain": [
              "(torch.Size([2, 3, 4]), 2, 2)"
            ]
          },
          "metadata": {
            "tags": []
          },
          "execution_count": 45
        }
      ]
    },
    {
      "cell_type": "code",
      "metadata": {
        "id": "tCvGLsjxrWr0",
        "colab_type": "code",
        "colab": {}
      },
      "source": [
        "# 시각화를 통해서 행렬을 표현\n",
        "# Dimension이 3인 행렬만 그릴 수 있다.\n",
        "def drawTensor(src) :\n",
        "  # 1차원의 개수 => 현재 (2,1)\n",
        "  fig, axes = plt.subplots(len(src), 1)\n",
        "  for i in range(len(src)) :\n",
        "    axes[i].matshow(src[i].numpy(), vmin=0, vmax=1, cmap='gray')\n",
        "  plt.show()"
      ],
      "execution_count": 54,
      "outputs": []
    },
    {
      "cell_type": "code",
      "metadata": {
        "id": "i5it_QXFtOBf",
        "colab_type": "code",
        "colab": {
          "base_uri": "https://localhost:8080/",
          "height": 140
        },
        "outputId": "7ce414c7-bfe7-46c3-c576-b05245cfcc85"
      },
      "source": [
        "# 모든 구성원이 1인 행렬\n",
        "tmp = torch.ones_like(x)\n",
        "tmp"
      ],
      "execution_count": 56,
      "outputs": [
        {
          "output_type": "execute_result",
          "data": {
            "text/plain": [
              "tensor([[[1, 1, 1, 1],\n",
              "         [1, 1, 1, 1],\n",
              "         [1, 1, 1, 1]],\n",
              "\n",
              "        [[1, 1, 1, 1],\n",
              "         [1, 1, 1, 1],\n",
              "         [1, 1, 1, 1]]])"
            ]
          },
          "metadata": {
            "tags": []
          },
          "execution_count": 56
        }
      ]
    },
    {
      "cell_type": "code",
      "metadata": {
        "id": "Q7Y5GJoDxF-3",
        "colab_type": "code",
        "colab": {
          "base_uri": "https://localhost:8080/",
          "height": 269
        },
        "outputId": "b92f21d4-b3ff-4fa1-cbec-88dfd25c7273"
      },
      "source": [
        "drawTensor(tmp)"
      ],
      "execution_count": 57,
      "outputs": [
        {
          "output_type": "display_data",
          "data": {
            "image/png": "[encoded data removed]",
            "text/plain": [
              "<Figure size 432x288 with 2 Axes>"
            ]
          },
          "metadata": {
            "tags": [],
            "needs_background": "light"
          }
        }
      ]
    },
    {
      "cell_type": "code",
      "metadata": {
        "id": "ug8Rz_Kbw7HK",
        "colab_type": "code",
        "colab": {
          "base_uri": "https://localhost:8080/",
          "height": 269
        },
        "outputId": "5bd0c0e8-597b-4a3b-9938-6a6d338468c9"
      },
      "source": [
        "tmp[0,1,2] = 0\n",
        "drawTensor(tmp)"
      ],
      "execution_count": 59,
      "outputs": [
        {
          "output_type": "display_data",
          "data": {
            "image/png": "[encoded data removed]",
            "text/plain": [
              "<Figure size 432x288 with 2 Axes>"
            ]
          },
          "metadata": {
            "tags": [],
            "needs_background": "light"
          }
        }
      ]
    },
    {
      "cell_type": "code",
      "metadata": {
        "id": "OWYXQJlIxGug",
        "colab_type": "code",
        "colab": {
          "base_uri": "https://localhost:8080/",
          "height": 269
        },
        "outputId": "c3007495-0314-4e1f-8352-db3fc0fd0333"
      },
      "source": [
        "tmp[0,:2,2] = 0\n",
        "drawTensor(tmp)"
      ],
      "execution_count": 60,
      "outputs": [
        {
          "output_type": "display_data",
          "data": {
            "image/png": "[encoded data removed]",
            "text/plain": [
              "<Figure size 432x288 with 2 Axes>"
            ]
          },
          "metadata": {
            "tags": [],
            "needs_background": "light"
          }
        }
      ]
    },
    {
      "cell_type": "markdown",
      "metadata": {
        "id": "N2foCSxsxSv2",
        "colab_type": "text"
      },
      "source": [
        "# view\n",
        "- numpy 기준으로 표현한다면 reshape"
      ]
    },
    {
      "cell_type": "code",
      "metadata": {
        "id": "CcfTAKRrxY3f",
        "colab_type": "code",
        "colab": {
          "base_uri": "https://localhost:8080/",
          "height": 34
        },
        "outputId": "c20d4550-7b93-45b5-8302-97b388a5bc7e"
      },
      "source": [
        "# numpy에서 사용하는 표현\n",
        "x.shape, x.dtype, x.ndim"
      ],
      "execution_count": 63,
      "outputs": [
        {
          "output_type": "execute_result",
          "data": {
            "text/plain": [
              "(torch.Size([2, 3, 4]), torch.int64, 3)"
            ]
          },
          "metadata": {
            "tags": []
          },
          "execution_count": 63
        }
      ]
    },
    {
      "cell_type": "code",
      "metadata": {
        "id": "iW8d0VM3xhqf",
        "colab_type": "code",
        "colab": {
          "base_uri": "https://localhost:8080/",
          "height": 228
        },
        "outputId": "d649679b-397d-4a6c-9f59-24a8f5d7a81c"
      },
      "source": [
        "# 데이터의 차원이 변경될 뿐, 값의 순서는 동일하다.\n",
        "print(x)\n",
        "print(x.reshape(2,2,6))"
      ],
      "execution_count": 69,
      "outputs": [
        {
          "output_type": "stream",
          "text": [
            "tensor([[[7, 1, 1, 4],\n",
            "         [5, 1, 1, 8],\n",
            "         [9, 6, 5, 4]],\n",
            "\n",
            "        [[8, 7, 4, 9],\n",
            "         [3, 1, 3, 9],\n",
            "         [2, 3, 3, 9]]])\n",
            "tensor([[[7, 1, 1, 4, 5, 1],\n",
            "         [1, 8, 9, 6, 5, 4]],\n",
            "\n",
            "        [[8, 7, 4, 9, 3, 1],\n",
            "         [3, 9, 2, 3, 3, 9]]])\n"
          ],
          "name": "stdout"
        }
      ]
    },
    {
      "cell_type": "code",
      "metadata": {
        "id": "8r7t0XUYxspP",
        "colab_type": "code",
        "colab": {
          "base_uri": "https://localhost:8080/",
          "height": 105
        },
        "outputId": "179cea1a-8ded-4581-ee96-947a0d523750"
      },
      "source": [
        "# torch에서 shape 변경할 때, 가급적이면 view를 사용하라.\n",
        "x.view(2,2,6)"
      ],
      "execution_count": 70,
      "outputs": [
        {
          "output_type": "execute_result",
          "data": {
            "text/plain": [
              "tensor([[[7, 1, 1, 4, 5, 1],\n",
              "         [1, 8, 9, 6, 5, 4]],\n",
              "\n",
              "        [[8, 7, 4, 9, 3, 1],\n",
              "         [3, 9, 2, 3, 3, 9]]])"
            ]
          },
          "metadata": {
            "tags": []
          },
          "execution_count": 70
        }
      ]
    },
    {
      "cell_type": "code",
      "metadata": {
        "id": "zlz4gqXbyMUG",
        "colab_type": "code",
        "colab": {
          "base_uri": "https://localhost:8080/",
          "height": 70
        },
        "outputId": "173fe14b-0537-48b6-ba6b-987c62d97c04"
      },
      "source": [
        "# 맨앞을 -1로 두고 뒤쪽에 집중해서 차원값을 정리하면 간편하게 계산해준다.\n",
        "x.view(-1, 1, 12)"
      ],
      "execution_count": 73,
      "outputs": [
        {
          "output_type": "execute_result",
          "data": {
            "text/plain": [
              "tensor([[[7, 1, 1, 4, 5, 1, 1, 8, 9, 6, 5, 4]],\n",
              "\n",
              "        [[8, 7, 4, 9, 3, 1, 3, 9, 2, 3, 3, 9]]])"
            ]
          },
          "metadata": {
            "tags": []
          },
          "execution_count": 73
        }
      ]
    },
    {
      "cell_type": "markdown",
      "metadata": {
        "id": "emXP-VGVyfHQ",
        "colab_type": "text"
      },
      "source": [
        "# transpose\n",
        "- 차원 간 맞교환\n",
        "- (2,3,4) -> (3,2,4) : 1차원과 2차원을 맞교환"
      ]
    },
    {
      "cell_type": "code",
      "metadata": {
        "id": "csTam4tNyvM4",
        "colab_type": "code",
        "colab": {
          "base_uri": "https://localhost:8080/",
          "height": 140
        },
        "outputId": "f0a0d992-e3d5-48e2-f29b-924e1b24e392"
      },
      "source": [
        "x"
      ],
      "execution_count": 74,
      "outputs": [
        {
          "output_type": "execute_result",
          "data": {
            "text/plain": [
              "tensor([[[7, 1, 1, 4],\n",
              "         [5, 1, 1, 8],\n",
              "         [9, 6, 5, 4]],\n",
              "\n",
              "        [[8, 7, 4, 9],\n",
              "         [3, 1, 3, 9],\n",
              "         [2, 3, 3, 9]]])"
            ]
          },
          "metadata": {
            "tags": []
          },
          "execution_count": 74
        }
      ]
    },
    {
      "cell_type": "code",
      "metadata": {
        "id": "uax66PZDyxSw",
        "colab_type": "code",
        "colab": {
          "base_uri": "https://localhost:8080/",
          "height": 34
        },
        "outputId": "240ecd73-d2a2-4890-8b6c-0534f947f4b2"
      },
      "source": [
        "x.shape"
      ],
      "execution_count": 75,
      "outputs": [
        {
          "output_type": "execute_result",
          "data": {
            "text/plain": [
              "torch.Size([2, 3, 4])"
            ]
          },
          "metadata": {
            "tags": []
          },
          "execution_count": 75
        }
      ]
    },
    {
      "cell_type": "code",
      "metadata": {
        "id": "PaDyOv_9yndo",
        "colab_type": "code",
        "colab": {
          "base_uri": "https://localhost:8080/",
          "height": 158
        },
        "outputId": "756e1f55-37af-4ab5-dad6-f1fe85ab9dc1"
      },
      "source": [
        "# 차원 표기는 0부터 출발\n",
        "# (0,1) => 첫번째 차원과 두번째 차원을 맞교환하시오.\n",
        "x.transpose(0,1)"
      ],
      "execution_count": 77,
      "outputs": [
        {
          "output_type": "execute_result",
          "data": {
            "text/plain": [
              "tensor([[[7, 1, 1, 4],\n",
              "         [8, 7, 4, 9]],\n",
              "\n",
              "        [[5, 1, 1, 8],\n",
              "         [3, 1, 3, 9]],\n",
              "\n",
              "        [[9, 6, 5, 4],\n",
              "         [2, 3, 3, 9]]])"
            ]
          },
          "metadata": {
            "tags": []
          },
          "execution_count": 77
        }
      ]
    },
    {
      "cell_type": "code",
      "metadata": {
        "id": "f3ICSWrRy76o",
        "colab_type": "code",
        "colab": {
          "base_uri": "https://localhost:8080/",
          "height": 34
        },
        "outputId": "59fc7acf-218d-41a3-8b1b-892ea0bfb315"
      },
      "source": [
        "x.transpose(0,1).shape"
      ],
      "execution_count": 78,
      "outputs": [
        {
          "output_type": "execute_result",
          "data": {
            "text/plain": [
              "torch.Size([3, 2, 4])"
            ]
          },
          "metadata": {
            "tags": []
          },
          "execution_count": 78
        }
      ]
    },
    {
      "cell_type": "markdown",
      "metadata": {
        "id": "0uLEHJtHzfkI",
        "colab_type": "text"
      },
      "source": [
        "# squeeze, unsqueeze\n",
        "- squeeze : 1차원 제거\n",
        "- unsqueeze : 1차원 추가"
      ]
    },
    {
      "cell_type": "code",
      "metadata": {
        "id": "dFsASPy5zrUR",
        "colab_type": "code",
        "colab": {
          "base_uri": "https://localhost:8080/",
          "height": 598
        },
        "outputId": "e64f6f4d-7376-4035-cbde-e6f927270634"
      },
      "source": [
        "x = torch.rand((3,1,2,4,1))\n",
        "x"
      ],
      "execution_count": 79,
      "outputs": [
        {
          "output_type": "execute_result",
          "data": {
            "text/plain": [
              "tensor([[[[[0.7811],\n",
              "           [0.0282],\n",
              "           [0.0970],\n",
              "           [0.9834]],\n",
              "\n",
              "          [[0.3089],\n",
              "           [0.9617],\n",
              "           [0.2606],\n",
              "           [0.3893]]]],\n",
              "\n",
              "\n",
              "\n",
              "        [[[[0.3813],\n",
              "           [0.8005],\n",
              "           [0.9846],\n",
              "           [0.1103]],\n",
              "\n",
              "          [[0.5169],\n",
              "           [0.3025],\n",
              "           [0.7295],\n",
              "           [0.2983]]]],\n",
              "\n",
              "\n",
              "\n",
              "        [[[[0.9722],\n",
              "           [0.6141],\n",
              "           [0.4937],\n",
              "           [0.0130]],\n",
              "\n",
              "          [[0.6209],\n",
              "           [0.0591],\n",
              "           [0.5611],\n",
              "           [0.5226]]]]])"
            ]
          },
          "metadata": {
            "tags": []
          },
          "execution_count": 79
        }
      ]
    },
    {
      "cell_type": "code",
      "metadata": {
        "id": "gk0qSB8b0FIA",
        "colab_type": "code",
        "colab": {
          "base_uri": "https://localhost:8080/",
          "height": 34
        },
        "outputId": "e51be474-fc78-43bb-fa03-ed987796e70b"
      },
      "source": [
        "x.shape"
      ],
      "execution_count": 80,
      "outputs": [
        {
          "output_type": "execute_result",
          "data": {
            "text/plain": [
              "torch.Size([3, 1, 2, 4, 1])"
            ]
          },
          "metadata": {
            "tags": []
          },
          "execution_count": 80
        }
      ]
    },
    {
      "cell_type": "code",
      "metadata": {
        "id": "GZ5MgN800GSQ",
        "colab_type": "code",
        "colab": {
          "base_uri": "https://localhost:8080/",
          "height": 34
        },
        "outputId": "aebc21f8-0e3d-475f-b124-3cdac3ca990a"
      },
      "source": [
        "# 모든 차원에서 크기가 1인 Dimension 제거\n",
        "# shape은 numpy, size는 torch : 차원 크기 확인\n",
        "x.squeeze().shape, x.squeeze().size()"
      ],
      "execution_count": 83,
      "outputs": [
        {
          "output_type": "execute_result",
          "data": {
            "text/plain": [
              "(torch.Size([3, 2, 4]), torch.Size([3, 2, 4]))"
            ]
          },
          "metadata": {
            "tags": []
          },
          "execution_count": 83
        }
      ]
    },
    {
      "cell_type": "code",
      "metadata": {
        "id": "EYHxp8Bt0VLo",
        "colab_type": "code",
        "colab": {
          "base_uri": "https://localhost:8080/",
          "height": 158
        },
        "outputId": "bf08e842-dc38-4a0a-e93b-e6f25c2ffc4f"
      },
      "source": [
        "x.squeeze()"
      ],
      "execution_count": 84,
      "outputs": [
        {
          "output_type": "execute_result",
          "data": {
            "text/plain": [
              "tensor([[[0.7811, 0.0282, 0.0970, 0.9834],\n",
              "         [0.3089, 0.9617, 0.2606, 0.3893]],\n",
              "\n",
              "        [[0.3813, 0.8005, 0.9846, 0.1103],\n",
              "         [0.5169, 0.3025, 0.7295, 0.2983]],\n",
              "\n",
              "        [[0.9722, 0.6141, 0.4937, 0.0130],\n",
              "         [0.6209, 0.0591, 0.5611, 0.5226]]])"
            ]
          },
          "metadata": {
            "tags": []
          },
          "execution_count": 84
        }
      ]
    },
    {
      "cell_type": "code",
      "metadata": {
        "id": "DZEQxOcK0w9I",
        "colab_type": "code",
        "colab": {
          "base_uri": "https://localhost:8080/",
          "height": 34
        },
        "outputId": "ed983ede-6eb9-45c4-b371-ebba2847b35d"
      },
      "source": [
        "x.size()"
      ],
      "execution_count": 85,
      "outputs": [
        {
          "output_type": "execute_result",
          "data": {
            "text/plain": [
              "torch.Size([3, 1, 2, 4, 1])"
            ]
          },
          "metadata": {
            "tags": []
          },
          "execution_count": 85
        }
      ]
    },
    {
      "cell_type": "code",
      "metadata": {
        "id": "kj83UgA10oSo",
        "colab_type": "code",
        "colab": {
          "base_uri": "https://localhost:8080/",
          "height": 562
        },
        "outputId": "d58f6726-25c4-4223-a777-f3898627e055"
      },
      "source": [
        "# 특정 위치에서 1D를 제거하는 방법\n",
        "x.squeeze(1)"
      ],
      "execution_count": 86,
      "outputs": [
        {
          "output_type": "execute_result",
          "data": {
            "text/plain": [
              "tensor([[[[0.7811],\n",
              "          [0.0282],\n",
              "          [0.0970],\n",
              "          [0.9834]],\n",
              "\n",
              "         [[0.3089],\n",
              "          [0.9617],\n",
              "          [0.2606],\n",
              "          [0.3893]]],\n",
              "\n",
              "\n",
              "        [[[0.3813],\n",
              "          [0.8005],\n",
              "          [0.9846],\n",
              "          [0.1103]],\n",
              "\n",
              "         [[0.5169],\n",
              "          [0.3025],\n",
              "          [0.7295],\n",
              "          [0.2983]]],\n",
              "\n",
              "\n",
              "        [[[0.9722],\n",
              "          [0.6141],\n",
              "          [0.4937],\n",
              "          [0.0130]],\n",
              "\n",
              "         [[0.6209],\n",
              "          [0.0591],\n",
              "          [0.5611],\n",
              "          [0.5226]]]])"
            ]
          },
          "metadata": {
            "tags": []
          },
          "execution_count": 86
        }
      ]
    },
    {
      "cell_type": "code",
      "metadata": {
        "id": "Zb5LmiNy00Wo",
        "colab_type": "code",
        "colab": {
          "base_uri": "https://localhost:8080/",
          "height": 34
        },
        "outputId": "022dca4f-5ca9-4e73-c9aa-922b14467ed3"
      },
      "source": [
        "x.squeeze(1).size()"
      ],
      "execution_count": 87,
      "outputs": [
        {
          "output_type": "execute_result",
          "data": {
            "text/plain": [
              "torch.Size([3, 2, 4, 1])"
            ]
          },
          "metadata": {
            "tags": []
          },
          "execution_count": 87
        }
      ]
    },
    {
      "cell_type": "code",
      "metadata": {
        "id": "kV8XDeMR03Gp",
        "colab_type": "code",
        "colab": {
          "base_uri": "https://localhost:8080/",
          "height": 193
        },
        "outputId": "6fa3ca06-2f64-491c-8675-f7ebdd7d53e1"
      },
      "source": [
        "x.squeeze(4)"
      ],
      "execution_count": 88,
      "outputs": [
        {
          "output_type": "execute_result",
          "data": {
            "text/plain": [
              "tensor([[[[0.7811, 0.0282, 0.0970, 0.9834],\n",
              "          [0.3089, 0.9617, 0.2606, 0.3893]]],\n",
              "\n",
              "\n",
              "        [[[0.3813, 0.8005, 0.9846, 0.1103],\n",
              "          [0.5169, 0.3025, 0.7295, 0.2983]]],\n",
              "\n",
              "\n",
              "        [[[0.9722, 0.6141, 0.4937, 0.0130],\n",
              "          [0.6209, 0.0591, 0.5611, 0.5226]]]])"
            ]
          },
          "metadata": {
            "tags": []
          },
          "execution_count": 88
        }
      ]
    },
    {
      "cell_type": "code",
      "metadata": {
        "id": "nXSVH_EN1BHh",
        "colab_type": "code",
        "colab": {
          "base_uri": "https://localhost:8080/",
          "height": 34
        },
        "outputId": "6a38efed-4f32-4317-be15-70e5f609cd0f"
      },
      "source": [
        "x.squeeze(4).size()"
      ],
      "execution_count": 90,
      "outputs": [
        {
          "output_type": "execute_result",
          "data": {
            "text/plain": [
              "torch.Size([3, 1, 2, 4])"
            ]
          },
          "metadata": {
            "tags": []
          },
          "execution_count": 90
        }
      ]
    },
    {
      "cell_type": "code",
      "metadata": {
        "id": "q0_oLfLZ1C3C",
        "colab_type": "code",
        "colab": {
          "base_uri": "https://localhost:8080/",
          "height": 246
        },
        "outputId": "10a2e5ee-ac23-456f-8619-d3c1b7839282"
      },
      "source": [
        "# [3, 1, 2, 4, 1] -> [3, 2, 1, 4], 데이터의 순서는 유지할 것(transpose는 쓸 수 없음)\n",
        "x.squeeze().unsqueeze(2)"
      ],
      "execution_count": 94,
      "outputs": [
        {
          "output_type": "execute_result",
          "data": {
            "text/plain": [
              "tensor([[[[0.7811, 0.0282, 0.0970, 0.9834]],\n",
              "\n",
              "         [[0.3089, 0.9617, 0.2606, 0.3893]]],\n",
              "\n",
              "\n",
              "        [[[0.3813, 0.8005, 0.9846, 0.1103]],\n",
              "\n",
              "         [[0.5169, 0.3025, 0.7295, 0.2983]]],\n",
              "\n",
              "\n",
              "        [[[0.9722, 0.6141, 0.4937, 0.0130]],\n",
              "\n",
              "         [[0.6209, 0.0591, 0.5611, 0.5226]]]])"
            ]
          },
          "metadata": {
            "tags": []
          },
          "execution_count": 94
        }
      ]
    },
    {
      "cell_type": "code",
      "metadata": {
        "id": "CLlonRlp1W4j",
        "colab_type": "code",
        "colab": {
          "base_uri": "https://localhost:8080/",
          "height": 34
        },
        "outputId": "e40e4070-66b3-4961-9028-169152cc7941"
      },
      "source": [
        "x.squeeze().unsqueeze(2).size()"
      ],
      "execution_count": 95,
      "outputs": [
        {
          "output_type": "execute_result",
          "data": {
            "text/plain": [
              "torch.Size([3, 2, 1, 4])"
            ]
          },
          "metadata": {
            "tags": []
          },
          "execution_count": 95
        }
      ]
    },
    {
      "cell_type": "markdown",
      "metadata": {
        "id": "xQm86niJ1bPJ",
        "colab_type": "text"
      },
      "source": [
        "# cat, stack\n",
        "- 텐서를 합친다.\n",
        "- cat\n",
        "  - 단순 합치기\n",
        "- stack\n",
        "  - 쌓는다."
      ]
    },
    {
      "cell_type": "code",
      "metadata": {
        "id": "uBXIABI_1vQZ",
        "colab_type": "code",
        "colab": {
          "base_uri": "https://localhost:8080/",
          "height": 598
        },
        "outputId": "ce281fad-c188-4327-8116-6cf51fc5707f"
      },
      "source": [
        "x"
      ],
      "execution_count": 96,
      "outputs": [
        {
          "output_type": "execute_result",
          "data": {
            "text/plain": [
              "tensor([[[[[0.7811],\n",
              "           [0.0282],\n",
              "           [0.0970],\n",
              "           [0.9834]],\n",
              "\n",
              "          [[0.3089],\n",
              "           [0.9617],\n",
              "           [0.2606],\n",
              "           [0.3893]]]],\n",
              "\n",
              "\n",
              "\n",
              "        [[[[0.3813],\n",
              "           [0.8005],\n",
              "           [0.9846],\n",
              "           [0.1103]],\n",
              "\n",
              "          [[0.5169],\n",
              "           [0.3025],\n",
              "           [0.7295],\n",
              "           [0.2983]]]],\n",
              "\n",
              "\n",
              "\n",
              "        [[[[0.9722],\n",
              "           [0.6141],\n",
              "           [0.4937],\n",
              "           [0.0130]],\n",
              "\n",
              "          [[0.6209],\n",
              "           [0.0591],\n",
              "           [0.5611],\n",
              "           [0.5226]]]]])"
            ]
          },
          "metadata": {
            "tags": []
          },
          "execution_count": 96
        }
      ]
    },
    {
      "cell_type": "code",
      "metadata": {
        "id": "cWXBODFm2Eeh",
        "colab_type": "code",
        "colab": {
          "base_uri": "https://localhost:8080/",
          "height": 34
        },
        "outputId": "b5263f17-351d-4cc4-fac9-b8974c9e2739"
      },
      "source": [
        "x.ndim, x.shape"
      ],
      "execution_count": 97,
      "outputs": [
        {
          "output_type": "execute_result",
          "data": {
            "text/plain": [
              "(5, torch.Size([3, 1, 2, 4, 1]))"
            ]
          },
          "metadata": {
            "tags": []
          },
          "execution_count": 97
        }
      ]
    },
    {
      "cell_type": "code",
      "metadata": {
        "id": "SiUQ60_g2HRj",
        "colab_type": "code",
        "colab": {
          "base_uri": "https://localhost:8080/",
          "height": 34
        },
        "outputId": "c0384bc8-f1d3-48ea-c463-3df7dcdc1876"
      },
      "source": [
        "x.ndimension(), x.size()"
      ],
      "execution_count": 99,
      "outputs": [
        {
          "output_type": "execute_result",
          "data": {
            "text/plain": [
              "(5, torch.Size([3, 1, 2, 4, 1]))"
            ]
          },
          "metadata": {
            "tags": []
          },
          "execution_count": 99
        }
      ]
    },
    {
      "cell_type": "code",
      "metadata": {
        "id": "VPvQB4--2QN5",
        "colab_type": "code",
        "colab": {
          "base_uri": "https://localhost:8080/",
          "height": 52
        },
        "outputId": "d12f9227-25bd-480a-8260-127c6b162d3e"
      },
      "source": [
        "a = torch.rand((2,3))\n",
        "a"
      ],
      "execution_count": 100,
      "outputs": [
        {
          "output_type": "execute_result",
          "data": {
            "text/plain": [
              "tensor([[0.2338, 0.4780, 0.7890],\n",
              "        [0.3664, 0.7937, 0.9290]])"
            ]
          },
          "metadata": {
            "tags": []
          },
          "execution_count": 100
        }
      ]
    },
    {
      "cell_type": "code",
      "metadata": {
        "id": "y6lTMoOB2aVp",
        "colab_type": "code",
        "colab": {
          "base_uri": "https://localhost:8080/",
          "height": 52
        },
        "outputId": "b2b01168-70d3-483a-99ab-b0416081fc00"
      },
      "source": [
        "b = torch.rand((2,3))\n",
        "b"
      ],
      "execution_count": 101,
      "outputs": [
        {
          "output_type": "execute_result",
          "data": {
            "text/plain": [
              "tensor([[0.8352, 0.6012, 0.4603],\n",
              "        [0.6794, 0.9339, 0.2197]])"
            ]
          },
          "metadata": {
            "tags": []
          },
          "execution_count": 101
        }
      ]
    },
    {
      "cell_type": "code",
      "metadata": {
        "id": "OEBO4ize2i0b",
        "colab_type": "code",
        "colab": {
          "base_uri": "https://localhost:8080/",
          "height": 87
        },
        "outputId": "7c78c4bb-6b80-4129-c330-009d685fe38b"
      },
      "source": [
        "# cat\n",
        "# same shape 형태로, 리스트[]나 튜플() 형태로 표현 가능\n",
        "# dim : 단순 합치기를 위한 기준 차원\n",
        "tmp = torch.cat([a,b], dim=0)\n",
        "tmp, tmp.size()\n",
        "# ndim값은 동일, 0차원의 개수가 증가되었다."
      ],
      "execution_count": 106,
      "outputs": [
        {
          "output_type": "execute_result",
          "data": {
            "text/plain": [
              "(tensor([[0.2338, 0.4780, 0.7890],\n",
              "         [0.3664, 0.7937, 0.9290],\n",
              "         [0.8352, 0.6012, 0.4603],\n",
              "         [0.6794, 0.9339, 0.2197]]), torch.Size([4, 3]))"
            ]
          },
          "metadata": {
            "tags": []
          },
          "execution_count": 106
        }
      ]
    },
    {
      "cell_type": "code",
      "metadata": {
        "id": "68XkidsN3Lqi",
        "colab_type": "code",
        "colab": {
          "base_uri": "https://localhost:8080/",
          "height": 52
        },
        "outputId": "75ff69b1-37f9-47f2-b803-369c3e2868be"
      },
      "source": [
        "# 같은 포지션끼리 붙어서 완성되었다.\n",
        "tmp = torch.cat([a,b], dim=1)\n",
        "tmp.size(), tmp"
      ],
      "execution_count": 103,
      "outputs": [
        {
          "output_type": "execute_result",
          "data": {
            "text/plain": [
              "(torch.Size([2, 6]), tensor([[0.2338, 0.4780, 0.7890, 0.8352, 0.6012, 0.4603],\n",
              "         [0.3664, 0.7937, 0.9290, 0.6794, 0.9339, 0.2197]]))"
            ]
          },
          "metadata": {
            "tags": []
          },
          "execution_count": 103
        }
      ]
    },
    {
      "cell_type": "code",
      "metadata": {
        "id": "Eji7gNLZ3jD4",
        "colab_type": "code",
        "colab": {
          "base_uri": "https://localhost:8080/",
          "height": 105
        },
        "outputId": "7d3a5c52-f63d-42d3-df1f-d68a89bd412f"
      },
      "source": [
        "# stack : 쌓는다.\n",
        "tmp = torch.stack([a,b], dim=0)\n",
        "tmp, tmp.size()"
      ],
      "execution_count": 105,
      "outputs": [
        {
          "output_type": "execute_result",
          "data": {
            "text/plain": [
              "(tensor([[[0.2338, 0.4780, 0.7890],\n",
              "          [0.3664, 0.7937, 0.9290]],\n",
              " \n",
              "         [[0.8352, 0.6012, 0.4603],\n",
              "          [0.6794, 0.9339, 0.2197]]]), torch.Size([2, 2, 3]))"
            ]
          },
          "metadata": {
            "tags": []
          },
          "execution_count": 105
        }
      ]
    },
    {
      "cell_type": "code",
      "metadata": {
        "id": "nWVGfzbu4C1y",
        "colab_type": "code",
        "colab": {
          "base_uri": "https://localhost:8080/",
          "height": 105
        },
        "outputId": "8281e8df-6d42-4feb-ccea-09114ccfdb13"
      },
      "source": [
        "# 같은 포지션끼리 묶어서 새로운 차원에 쌓아두었다.\n",
        "tmp = torch.stack([a,b], dim=1)\n",
        "tmp, tmp.size()"
      ],
      "execution_count": 107,
      "outputs": [
        {
          "output_type": "execute_result",
          "data": {
            "text/plain": [
              "(tensor([[[0.2338, 0.4780, 0.7890],\n",
              "          [0.8352, 0.6012, 0.4603]],\n",
              " \n",
              "         [[0.3664, 0.7937, 0.9290],\n",
              "          [0.6794, 0.9339, 0.2197]]]), torch.Size([2, 2, 3]))"
            ]
          },
          "metadata": {
            "tags": []
          },
          "execution_count": 107
        }
      ]
    },
    {
      "cell_type": "markdown",
      "metadata": {
        "id": "sWIYKaPc4gT7",
        "colab_type": "text"
      },
      "source": [
        "# 사칙연산\n",
        "\n",
        "- +, -, *, /\n",
        "- 브로드 캐스팅 적용 가능\n",
        "- 연산의 대상이 되는 텐서들의 shape을 보고 가능 여부 확인"
      ]
    },
    {
      "cell_type": "code",
      "metadata": {
        "id": "O_p7KQk_4hND",
        "colab_type": "code",
        "colab": {
          "base_uri": "https://localhost:8080/",
          "height": 122
        },
        "outputId": "4be3d181-854e-427d-a9da-a63d95cb2c3b"
      },
      "source": [
        "x = torch.Tensor([1,2,3])\n",
        "y = torch.Tensor([4,5,6])\n",
        "z = torch.Tensor([10])\n",
        "x, y, z, x.size(), y.size(), z.size()"
      ],
      "execution_count": 115,
      "outputs": [
        {
          "output_type": "execute_result",
          "data": {
            "text/plain": [
              "(tensor([1., 2., 3.]),\n",
              " tensor([4., 5., 6.]),\n",
              " tensor([10.]),\n",
              " torch.Size([3]),\n",
              " torch.Size([3]),\n",
              " torch.Size([1]))"
            ]
          },
          "metadata": {
            "tags": []
          },
          "execution_count": 115
        }
      ]
    },
    {
      "cell_type": "code",
      "metadata": {
        "id": "Jg6MwnAe4vPI",
        "colab_type": "code",
        "colab": {
          "base_uri": "https://localhost:8080/",
          "height": 34
        },
        "outputId": "0d67e537-e2de-42eb-a26c-75de67fe4fd7"
      },
      "source": [
        "# 덧셈\n",
        "# 같은 원소 자리끼리 더해서, 그 자리에 대체됨\n",
        "# [1+4, 2+5, 3+6]\n",
        "x + y, (x+y).size(), torch.add(x,y), torch.add(x,y).size()"
      ],
      "execution_count": 113,
      "outputs": [
        {
          "output_type": "execute_result",
          "data": {
            "text/plain": [
              "(tensor([5., 7., 9.]), torch.Size([3]), tensor([5., 7., 9.]), torch.Size([3]))"
            ]
          },
          "metadata": {
            "tags": []
          },
          "execution_count": 113
        }
      ]
    },
    {
      "cell_type": "code",
      "metadata": {
        "id": "vyssgl1z477q",
        "colab_type": "code",
        "colab": {
          "base_uri": "https://localhost:8080/",
          "height": 34
        },
        "outputId": "89f87772-82e9-4f15-be01-ab8d6a1fb1d4"
      },
      "source": [
        "# z는 x에 비해서 원소가 적은데, 왜 덧셈이 되는가?\n",
        "# y = x * W + b할 때, b가 xW에 비해서 원소수가 적은데 왜 계산이 되는가? => 브로드캐스팅 발생\n",
        "x + z"
      ],
      "execution_count": 116,
      "outputs": [
        {
          "output_type": "execute_result",
          "data": {
            "text/plain": [
              "tensor([11., 12., 13.])"
            ]
          },
          "metadata": {
            "tags": []
          },
          "execution_count": 116
        }
      ]
    },
    {
      "cell_type": "markdown",
      "metadata": {
        "id": "RpoTf4un5yHs",
        "colab_type": "text"
      },
      "source": [
        "- 브로드 캐스팅 : stretch가 발생해서 연산이 수행될 수 있게 동일값으로 늘려주어서 계산이 진행되도록 도움을 준다.\n",
        "  - <img src=\"https://drive.google.com/uc?id=1GH-5PErVO094b792wD_O7Sw9wvQfLlRl\" width=\"60%\">\n",
        "  - <img src=\"https://drive.google.com/uc?id=1GAiJ-vdrdjygMBeIjmILotyE21V1owuB\" width=\"60%\">\n",
        "  - <img src=\"https://drive.google.com/uc?id=1G8tC3rEVKbwX-xrkKjkRXe8gElDOE174\" width=\"60%\">\n",
        "  - <img src=\"https://drive.google.com/uc?id=1G8sA8dn0_9dZ1wq1ELMoepR3I_4Z2qAL\" width=\"60%\">\n",
        "\n",
        "    - 앞뒤가 전부 브로드 캐스팅이 진행된 경우"
      ]
    },
    {
      "cell_type": "code",
      "metadata": {
        "id": "87vSaj-i6eHD",
        "colab_type": "code",
        "colab": {
          "base_uri": "https://localhost:8080/",
          "height": 87
        },
        "outputId": "0684d82a-1029-442b-f6cc-9a248629d9e1"
      },
      "source": [
        "x - y, (x-y).size(), torch.sub(x,y), torch.sub(x,y).size()"
      ],
      "execution_count": 117,
      "outputs": [
        {
          "output_type": "execute_result",
          "data": {
            "text/plain": [
              "(tensor([-3., -3., -3.]),\n",
              " torch.Size([3]),\n",
              " tensor([-3., -3., -3.]),\n",
              " torch.Size([3]))"
            ]
          },
          "metadata": {
            "tags": []
          },
          "execution_count": 117
        }
      ]
    },
    {
      "cell_type": "code",
      "metadata": {
        "id": "-d5Bcd9j-U5_",
        "colab_type": "code",
        "colab": {
          "base_uri": "https://localhost:8080/",
          "height": 87
        },
        "outputId": "c6d2e9df-a438-4787-ccb8-5357f06ed27f"
      },
      "source": [
        "x * y, (x*y).size(), torch.mul(x,y), torch.mul(x,y).size()"
      ],
      "execution_count": 118,
      "outputs": [
        {
          "output_type": "execute_result",
          "data": {
            "text/plain": [
              "(tensor([ 4., 10., 18.]),\n",
              " torch.Size([3]),\n",
              " tensor([ 4., 10., 18.]),\n",
              " torch.Size([3]))"
            ]
          },
          "metadata": {
            "tags": []
          },
          "execution_count": 118
        }
      ]
    },
    {
      "cell_type": "code",
      "metadata": {
        "id": "O783oQTa-YXt",
        "colab_type": "code",
        "colab": {
          "base_uri": "https://localhost:8080/",
          "height": 87
        },
        "outputId": "c77923b3-c14c-4b51-bfdb-6cd7e6cc9bd1"
      },
      "source": [
        "x / y, (x/y).size(), torch.div(x,y), torch.div(x,y).size()"
      ],
      "execution_count": 119,
      "outputs": [
        {
          "output_type": "execute_result",
          "data": {
            "text/plain": [
              "(tensor([0.2500, 0.4000, 0.5000]),\n",
              " torch.Size([3]),\n",
              " tensor([0.2500, 0.4000, 0.5000]),\n",
              " torch.Size([3]))"
            ]
          },
          "metadata": {
            "tags": []
          },
          "execution_count": 119
        }
      ]
    },
    {
      "cell_type": "markdown",
      "metadata": {
        "id": "6aaZyDMU-oo0",
        "colab_type": "text"
      },
      "source": [
        "# 기타 연산"
      ]
    },
    {
      "cell_type": "code",
      "metadata": {
        "id": "TuvGBqES-tk-",
        "colab_type": "code",
        "colab": {
          "base_uri": "https://localhost:8080/",
          "height": 34
        },
        "outputId": "87bb777c-bfba-47a0-fbb9-ffda9673323d"
      },
      "source": [
        "x, y"
      ],
      "execution_count": 121,
      "outputs": [
        {
          "output_type": "execute_result",
          "data": {
            "text/plain": [
              "(tensor([1., 2., 3.]), tensor([4., 5., 6.]))"
            ]
          },
          "metadata": {
            "tags": []
          },
          "execution_count": 121
        }
      ]
    },
    {
      "cell_type": "code",
      "metadata": {
        "id": "0gSAS_qT-aYd",
        "colab_type": "code",
        "colab": {
          "base_uri": "https://localhost:8080/",
          "height": 34
        },
        "outputId": "1e9c8279-370d-4e30-d6e2-61a6035cf595"
      },
      "source": [
        "# 벡터 대 스칼라 연산과 동일, 행렬에 스칼라를 더한 경우\n",
        "x+1"
      ],
      "execution_count": 120,
      "outputs": [
        {
          "output_type": "execute_result",
          "data": {
            "text/plain": [
              "tensor([2., 3., 4.])"
            ]
          },
          "metadata": {
            "tags": []
          },
          "execution_count": 120
        }
      ]
    },
    {
      "cell_type": "markdown",
      "metadata": {
        "id": "chZC0WHFAa1_",
        "colab_type": "text"
      },
      "source": [
        "- y = xW+b\n",
        "  - xW에 해당하는 계산식은 셋 중 무엇인가?\n",
        "    - *(텐서 곱하기) : 해당사항 없음\n",
        "    - dot\n",
        "    - mm"
      ]
    },
    {
      "cell_type": "code",
      "metadata": {
        "id": "Mx6T9n4s-gnd",
        "colab_type": "code",
        "colab": {
          "base_uri": "https://localhost:8080/",
          "height": 34
        },
        "outputId": "00885df2-f0e3-4564-de8b-e2ebf027e16d"
      },
      "source": [
        "# 내적\n",
        "# 32 = 1*4 + 2*5 + 3*6\n",
        "torch.dot(x, y), x.dot(y)"
      ],
      "execution_count": 123,
      "outputs": [
        {
          "output_type": "execute_result",
          "data": {
            "text/plain": [
              "(tensor(32.), tensor(32.))"
            ]
          },
          "metadata": {
            "tags": []
          },
          "execution_count": 123
        }
      ]
    },
    {
      "cell_type": "code",
      "metadata": {
        "id": "Ymhv8fIY-4id",
        "colab_type": "code",
        "colab": {
          "base_uri": "https://localhost:8080/",
          "height": 122
        },
        "outputId": "a168808e-f2b1-4794-9fb6-ecfdf978099e"
      },
      "source": [
        "x = torch.Tensor([[1,3],[2,3],[5,6]])\n",
        "y = torch.Tensor([[7,8],[9,10]])\n",
        "print(x)\n",
        "print(y)\n",
        "print(x.size(), y.size())"
      ],
      "execution_count": 125,
      "outputs": [
        {
          "output_type": "stream",
          "text": [
            "tensor([[1., 3.],\n",
            "        [2., 3.],\n",
            "        [5., 6.]])\n",
            "tensor([[ 7.,  8.],\n",
            "        [ 9., 10.]])\n",
            "torch.Size([3, 2]) torch.Size([2, 2])\n"
          ],
          "name": "stdout"
        }
      ]
    },
    {
      "cell_type": "code",
      "metadata": {
        "id": "h_yW4ATf_X4e",
        "colab_type": "code",
        "colab": {
          "base_uri": "https://localhost:8080/",
          "height": 70
        },
        "outputId": "e0c4cb0e-fabb-41bc-e57a-3943ffe8d658"
      },
      "source": [
        "# 34 = 1*7 + 3*9\n",
        "tmp = torch.mm(x,y)\n",
        "tmp, tmp.size()"
      ],
      "execution_count": 127,
      "outputs": [
        {
          "output_type": "execute_result",
          "data": {
            "text/plain": [
              "(tensor([[ 34.,  38.],\n",
              "         [ 41.,  46.],\n",
              "         [ 89., 100.]]), torch.Size([3, 2]))"
            ]
          },
          "metadata": {
            "tags": []
          },
          "execution_count": 127
        }
      ]
    },
    {
      "cell_type": "code",
      "metadata": {
        "id": "_lvIEOHh_hQ3",
        "colab_type": "code",
        "colab": {
          "base_uri": "https://localhost:8080/",
          "height": 70
        },
        "outputId": "1569eb76-f71b-4c87-93cd-e6312fcf34c2"
      },
      "source": [
        "x.mm(y)"
      ],
      "execution_count": 128,
      "outputs": [
        {
          "output_type": "execute_result",
          "data": {
            "text/plain": [
              "tensor([[ 34.,  38.],\n",
              "        [ 41.,  46.],\n",
              "        [ 89., 100.]])"
            ]
          },
          "metadata": {
            "tags": []
          },
          "execution_count": 128
        }
      ]
    },
    {
      "cell_type": "code",
      "metadata": {
        "id": "veyhLXkS_3lu",
        "colab_type": "code",
        "colab": {
          "base_uri": "https://localhost:8080/",
          "height": 34
        },
        "outputId": "333396ae-8640-405b-a224-71a2dd1eae79"
      },
      "source": [
        "try :\n",
        "  x*y\n",
        "except Exception as e :\n",
        "  print(\"오류 발생 :\", e)"
      ],
      "execution_count": 132,
      "outputs": [
        {
          "output_type": "stream",
          "text": [
            "오류 발생 : The size of tensor a (3) must match the size of tensor b (2) at non-singleton dimension 0\n"
          ],
          "name": "stdout"
        }
      ]
    },
    {
      "cell_type": "markdown",
      "metadata": {
        "id": "L7NQllL9_7C2",
        "colab_type": "text"
      },
      "source": [
        "# sum, mean"
      ]
    },
    {
      "cell_type": "code",
      "metadata": {
        "id": "GAAVjdCIBPP1",
        "colab_type": "code",
        "colab": {
          "base_uri": "https://localhost:8080/",
          "height": 34
        },
        "outputId": "af95ba9f-c102-4794-d71e-819dc7b6929e"
      },
      "source": [
        "x = torch.Tensor([1,2,3,4,5,6,7,8])\n",
        "x, x.size()"
      ],
      "execution_count": 134,
      "outputs": [
        {
          "output_type": "execute_result",
          "data": {
            "text/plain": [
              "(tensor([1., 2., 3., 4., 5., 6., 7., 8.]), torch.Size([8]))"
            ]
          },
          "metadata": {
            "tags": []
          },
          "execution_count": 134
        }
      ]
    },
    {
      "cell_type": "code",
      "metadata": {
        "id": "50-mMAVBBWtS",
        "colab_type": "code",
        "colab": {
          "base_uri": "https://localhost:8080/",
          "height": 105
        },
        "outputId": "b3b3d570-bd4a-4293-a6ad-4347bce49258"
      },
      "source": [
        "x = x.view(2,2,2)\n",
        "x, x.size()"
      ],
      "execution_count": 136,
      "outputs": [
        {
          "output_type": "execute_result",
          "data": {
            "text/plain": [
              "(tensor([[[1., 2.],\n",
              "          [3., 4.]],\n",
              " \n",
              "         [[5., 6.],\n",
              "          [7., 8.]]]), torch.Size([2, 2, 2]))"
            ]
          },
          "metadata": {
            "tags": []
          },
          "execution_count": 136
        }
      ]
    },
    {
      "cell_type": "code",
      "metadata": {
        "id": "MBhzeLFIBcWe",
        "colab_type": "code",
        "colab": {
          "base_uri": "https://localhost:8080/",
          "height": 34
        },
        "outputId": "0392fcb1-5c74-4820-9d76-150b92e99652"
      },
      "source": [
        "# 차원에 상관없이 모든 구성원에 대한 합산, 평균\n",
        "torch.sum(x), torch.mean(x)"
      ],
      "execution_count": 138,
      "outputs": [
        {
          "output_type": "execute_result",
          "data": {
            "text/plain": [
              "(tensor(36.), tensor(4.5000))"
            ]
          },
          "metadata": {
            "tags": []
          },
          "execution_count": 138
        }
      ]
    },
    {
      "cell_type": "code",
      "metadata": {
        "id": "HCWSoBP5BhtW",
        "colab_type": "code",
        "colab": {
          "base_uri": "https://localhost:8080/",
          "height": 52
        },
        "outputId": "812c0c71-d1a7-4761-94ef-dd2e152fb4bb"
      },
      "source": [
        "# 4 = 1+3, 6 = 2+4, ...\n",
        "torch.sum(x, dim=1), torch.sum(x, dim=1).size()"
      ],
      "execution_count": 140,
      "outputs": [
        {
          "output_type": "execute_result",
          "data": {
            "text/plain": [
              "(tensor([[ 4.,  6.],\n",
              "         [12., 14.]]), torch.Size([2, 2]))"
            ]
          },
          "metadata": {
            "tags": []
          },
          "execution_count": 140
        }
      ]
    },
    {
      "cell_type": "code",
      "metadata": {
        "id": "kz-t1WYKCBsW",
        "colab_type": "code",
        "colab": {
          "base_uri": "https://localhost:8080/",
          "height": 52
        },
        "outputId": "09c4bc87-f4fc-4349-cb35-df2e69ba8642"
      },
      "source": [
        "# 4 = 1+5, 6 = 2+6, ...\n",
        "torch.sum(x, dim=0), torch.sum(x, dim=0).size()"
      ],
      "execution_count": 141,
      "outputs": [
        {
          "output_type": "execute_result",
          "data": {
            "text/plain": [
              "(tensor([[ 6.,  8.],\n",
              "         [10., 12.]]), torch.Size([2, 2]))"
            ]
          },
          "metadata": {
            "tags": []
          },
          "execution_count": 141
        }
      ]
    },
    {
      "cell_type": "code",
      "metadata": {
        "id": "l010Io6uCZeW",
        "colab_type": "code",
        "colab": {
          "base_uri": "https://localhost:8080/",
          "height": 52
        },
        "outputId": "f3f1018c-47f9-4010-aa57-c2c581af3ab2"
      },
      "source": [
        "# 3은 1, 5의 평균 / 4는 2와 6의 평균 / ...\n",
        "torch.mean(x, dim=0), torch.mean(x, dim=0).size()"
      ],
      "execution_count": 142,
      "outputs": [
        {
          "output_type": "execute_result",
          "data": {
            "text/plain": [
              "(tensor([[3., 4.],\n",
              "         [5., 6.]]), torch.Size([2, 2]))"
            ]
          },
          "metadata": {
            "tags": []
          },
          "execution_count": 142
        }
      ]
    },
    {
      "cell_type": "code",
      "metadata": {
        "id": "2m_Or9YdCbYG",
        "colab_type": "code",
        "colab": {
          "base_uri": "https://localhost:8080/",
          "height": 52
        },
        "outputId": "749f79c1-758e-4f33-e019-243e2d5af6a0"
      },
      "source": [
        "# 2는 1, 3의 평균 / ...\n",
        "# => CNN의 pooling에서 풀링 값을 추출할 때, 최대/평균/최소 등에서 사용할 수 있음\n",
        "torch.mean(x, dim=1), torch.mean(x, dim=1).size()"
      ],
      "execution_count": 143,
      "outputs": [
        {
          "output_type": "execute_result",
          "data": {
            "text/plain": [
              "(tensor([[2., 3.],\n",
              "         [6., 7.]]), torch.Size([2, 2]))"
            ]
          },
          "metadata": {
            "tags": []
          },
          "execution_count": 143
        }
      ]
    },
    {
      "cell_type": "markdown",
      "metadata": {
        "id": "SidMvIt_Djlg",
        "colab_type": "text"
      },
      "source": [
        "# max, min, argmax, argmin"
      ]
    },
    {
      "cell_type": "code",
      "metadata": {
        "id": "M52SVTLaDo33",
        "colab_type": "code",
        "colab": {
          "base_uri": "https://localhost:8080/",
          "height": 105
        },
        "outputId": "a11aa132-3f32-4df9-8e0f-4123fdd7de0c"
      },
      "source": [
        "x"
      ],
      "execution_count": 151,
      "outputs": [
        {
          "output_type": "execute_result",
          "data": {
            "text/plain": [
              "tensor([[[1., 2.],\n",
              "         [3., 4.]],\n",
              "\n",
              "        [[5., 6.],\n",
              "         [7., 8.]]])"
            ]
          },
          "metadata": {
            "tags": []
          },
          "execution_count": 151
        }
      ]
    },
    {
      "cell_type": "code",
      "metadata": {
        "id": "tkwQihSmDnl3",
        "colab_type": "code",
        "colab": {
          "base_uri": "https://localhost:8080/",
          "height": 34
        },
        "outputId": "ad52ce7c-9eae-4af1-b3fc-ea8b7705cfa0"
      },
      "source": [
        "# 모든 구성원 중에 제일 큰/작은 값\n",
        "torch.max(x), torch.min(x)"
      ],
      "execution_count": 152,
      "outputs": [
        {
          "output_type": "execute_result",
          "data": {
            "text/plain": [
              "(tensor(8.), tensor(1.))"
            ]
          },
          "metadata": {
            "tags": []
          },
          "execution_count": 152
        }
      ]
    },
    {
      "cell_type": "code",
      "metadata": {
        "id": "0OVwdXb1DuEP",
        "colab_type": "code",
        "colab": {
          "base_uri": "https://localhost:8080/",
          "height": 34
        },
        "outputId": "26d45c8c-6f04-4468-d596-a60cafa627d6"
      },
      "source": [
        "# 모든 원소 내에서 최대값/최대값의 인덱스는 1차원으로 펴서(Flattern) 순서대로 계산\n",
        "torch.argmax(x), torch.argmin(x)"
      ],
      "execution_count": 153,
      "outputs": [
        {
          "output_type": "execute_result",
          "data": {
            "text/plain": [
              "(tensor(7), tensor(0))"
            ]
          },
          "metadata": {
            "tags": []
          },
          "execution_count": 153
        }
      ]
    },
    {
      "cell_type": "code",
      "metadata": {
        "id": "6rT4Yb-oC4be",
        "colab_type": "code",
        "colab": {
          "base_uri": "https://localhost:8080/",
          "height": 122
        },
        "outputId": "5a8bda92-8b96-4e6d-f4e5-845dc640b043"
      },
      "source": [
        "# dim=0 : 1과 5를 비교해서 5 선택, 2와 6을 비교해서 6 선택, ...\n",
        "# dim=1 : 1과 3을 비교해서 3 선택, 2와 4를 비교해서 4 선택, ...\n",
        "# 최대 풀링 연산의 기초\n",
        "torch.max(x, dim=0), torch.max(x, dim=1)"
      ],
      "execution_count": 149,
      "outputs": [
        {
          "output_type": "execute_result",
          "data": {
            "text/plain": [
              "(torch.return_types.max(values=tensor([[5., 6.],\n",
              "        [7., 8.]]), indices=tensor([[1, 1],\n",
              "        [1, 1]])),\n",
              " torch.return_types.max(values=tensor([[3., 4.],\n",
              "        [7., 8.]]), indices=tensor([[1, 1],\n",
              "        [1, 1]])))"
            ]
          },
          "metadata": {
            "tags": []
          },
          "execution_count": 149
        }
      ]
    },
    {
      "cell_type": "markdown",
      "metadata": {
        "id": "Ot7OLa-WELxQ",
        "colab_type": "text"
      },
      "source": [
        "# 논리"
      ]
    },
    {
      "cell_type": "code",
      "metadata": {
        "id": "RCfZS7gCEMoC",
        "colab_type": "code",
        "colab": {}
      },
      "source": [
        "x = torch.Tensor([-2,4,0])"
      ],
      "execution_count": 155,
      "outputs": []
    },
    {
      "cell_type": "code",
      "metadata": {
        "id": "w-MRKYbCEQye",
        "colab_type": "code",
        "colab": {
          "base_uri": "https://localhost:8080/",
          "height": 34
        },
        "outputId": "e1af8a6a-154b-4693-bd34-585fe8c7c864"
      },
      "source": [
        "# 텐서의 조건식 처리 -> 블리언 인덱싱 처리\n",
        "x == 0"
      ],
      "execution_count": 156,
      "outputs": [
        {
          "output_type": "execute_result",
          "data": {
            "text/plain": [
              "tensor([False, False,  True])"
            ]
          },
          "metadata": {
            "tags": []
          },
          "execution_count": 156
        }
      ]
    },
    {
      "cell_type": "code",
      "metadata": {
        "id": "0XgJLXdvEUDn",
        "colab_type": "code",
        "colab": {
          "base_uri": "https://localhost:8080/",
          "height": 34
        },
        "outputId": "f685aca6-03e4-4e56-cb88-0537c7b4543c"
      },
      "source": [
        "torch.eq(x, 0), x.eq(0)"
      ],
      "execution_count": 158,
      "outputs": [
        {
          "output_type": "execute_result",
          "data": {
            "text/plain": [
              "(tensor([False, False,  True]), tensor([False, False,  True]))"
            ]
          },
          "metadata": {
            "tags": []
          },
          "execution_count": 158
        }
      ]
    },
    {
      "cell_type": "code",
      "metadata": {
        "id": "__T3QbTbEesg",
        "colab_type": "code",
        "colab": {
          "base_uri": "https://localhost:8080/",
          "height": 70
        },
        "outputId": "c1765e0c-6153-43cb-e74e-ba023e52760c"
      },
      "source": [
        "x >= 0, torch.ge(x, 0), x.ge(0)"
      ],
      "execution_count": 160,
      "outputs": [
        {
          "output_type": "execute_result",
          "data": {
            "text/plain": [
              "(tensor([False,  True,  True]),\n",
              " tensor([False,  True,  True]),\n",
              " tensor([False,  True,  True]))"
            ]
          },
          "metadata": {
            "tags": []
          },
          "execution_count": 160
        }
      ]
    },
    {
      "cell_type": "code",
      "metadata": {
        "id": "ngj6XvFJEjro",
        "colab_type": "code",
        "colab": {
          "base_uri": "https://localhost:8080/",
          "height": 70
        },
        "outputId": "d64eaf06-2982-4ae4-aa21-7f0eac5b0aec"
      },
      "source": [
        "x > 0, torch.gt(x, 0), x.gt(0)"
      ],
      "execution_count": 161,
      "outputs": [
        {
          "output_type": "execute_result",
          "data": {
            "text/plain": [
              "(tensor([False,  True, False]),\n",
              " tensor([False,  True, False]),\n",
              " tensor([False,  True, False]))"
            ]
          },
          "metadata": {
            "tags": []
          },
          "execution_count": 161
        }
      ]
    },
    {
      "cell_type": "code",
      "metadata": {
        "id": "asJipL1PEqBI",
        "colab_type": "code",
        "colab": {
          "base_uri": "https://localhost:8080/",
          "height": 70
        },
        "outputId": "b66b5875-9d71-43b8-dfce-47a0aca1b561"
      },
      "source": [
        "x <= 0, torch.le(x, 0), x.le(0)"
      ],
      "execution_count": 162,
      "outputs": [
        {
          "output_type": "execute_result",
          "data": {
            "text/plain": [
              "(tensor([ True, False,  True]),\n",
              " tensor([ True, False,  True]),\n",
              " tensor([ True, False,  True]))"
            ]
          },
          "metadata": {
            "tags": []
          },
          "execution_count": 162
        }
      ]
    },
    {
      "cell_type": "code",
      "metadata": {
        "id": "t8eNdR8rExWv",
        "colab_type": "code",
        "colab": {
          "base_uri": "https://localhost:8080/",
          "height": 70
        },
        "outputId": "48b39183-43d1-477a-d874-8fb26c9a01cc"
      },
      "source": [
        "x < 0, torch.lt(x, 0), x.lt(0)"
      ],
      "execution_count": 163,
      "outputs": [
        {
          "output_type": "execute_result",
          "data": {
            "text/plain": [
              "(tensor([ True, False, False]),\n",
              " tensor([ True, False, False]),\n",
              " tensor([ True, False, False]))"
            ]
          },
          "metadata": {
            "tags": []
          },
          "execution_count": 163
        }
      ]
    }
  ]
}