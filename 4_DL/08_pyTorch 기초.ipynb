{
  "nbformat": 4,
  "nbformat_minor": 0,
  "metadata": {
    "colab": {
      "name": "08_pyTorch 기초.ipynb",
      "provenance": [],
      "collapsed_sections": [],
      "mount_file_id": "1bM9NhNrGRxAynkd_UJ8sXx4Ybre9OnJF",
      "authorship_tag": "ABX9TyPhC6tTh6eGXk/zK4OrzvXj",
      "include_colab_link": true
    },
    "kernelspec": {
      "name": "python3",
      "display_name": "Python 3"
    }
  },
  "cells": [
    {
      "cell_type": "markdown",
      "metadata": {
        "id": "view-in-github",
        "colab_type": "text"
      },
      "source": [
        "<a href=\"https://colab.research.google.com/github/jkjh23/2020_AI_Busan/blob/master/4_DL/08_pyTorch%20%EA%B8%B0%EC%B4%88.ipynb\" target=\"_parent\"><img src=\"https://colab.research.google.com/assets/colab-badge.svg\" alt=\"Open In Colab\"/></a>"
      ]
    },
    {
      "cell_type": "markdown",
      "metadata": {
        "id": "Rjqr9-hRwgfi",
        "colab_type": "text"
      },
      "source": [
        "# pyTorch(파이토치)"
      ]
    },
    {
      "cell_type": "markdown",
      "metadata": {
        "id": "ZUVz27-awqvP",
        "colab_type": "text"
      },
      "source": [
        "- [파이토치 시작하기](https://pytorch.org/get-started/locally/)\n",
        "  - 개발 환경에 따라 설치하는 조합이 잘 나와있다.\n",
        "  - 실제로 구축해보면, pyTorch가 CUDA와 가장 잘 연동된다.\n",
        "  - CUDA vs ROCm : 현재 CUDA만 지원"
      ]
    },
    {
      "cell_type": "markdown",
      "metadata": {
        "id": "5oCj5k6wxW8T",
        "colab_type": "text"
      },
      "source": [
        "## 특징"
      ]
    },
    {
      "cell_type": "markdown",
      "metadata": {
        "id": "rUK1Q5rMxZ45",
        "colab_type": "text"
      },
      "source": [
        "- Define by Run 방식\n",
        "- 파이썬 짜듯이 작성 가능\n",
        "- 디버깅 용이, 즉시 확인 가능\n",
        "- numpy 베이스로 작동\n",
        "  - Scipy, Numpy, Cython\n",
        "  "
      ]
    },
    {
      "cell_type": "code",
      "metadata": {
        "id": "dby5KVT7xt7o",
        "colab_type": "code",
        "colab": {}
      },
      "source": [
        "import torch"
      ],
      "execution_count": null,
      "outputs": []
    },
    {
      "cell_type": "code",
      "metadata": {
        "id": "Lo71brCAxzJB",
        "colab_type": "code",
        "colab": {
          "base_uri": "https://localhost:8080/",
          "height": 35
        },
        "outputId": "c8cf1dbc-c683-463d-da05-04aed93ff5fc"
      },
      "source": [
        "torch.__version__\n",
        "# 최신 버전으로 적용되어 있다."
      ],
      "execution_count": null,
      "outputs": [
        {
          "output_type": "execute_result",
          "data": {
            "application/vnd.google.colaboratory.intrinsic+json": {
              "type": "string"
            },
            "text/plain": [
              "'1.6.0+cu101'"
            ]
          },
          "metadata": {
            "tags": []
          },
          "execution_count": 2
        }
      ]
    },
    {
      "cell_type": "markdown",
      "metadata": {
        "id": "3N09fF_myFMB",
        "colab_type": "text"
      },
      "source": [
        "- <img src=\"https://drive.google.com/uc?id=1PzcpfZlUc6Aovz9PsAq0Y-PJIm3ZcIg8\" width=\"80%\">\n",
        "- pip install torch==1.6.0+cu101 torchvision==0.7.0+cu101 -f https://download.pytorch.org/whl/torch_stable.html"
      ]
    },
    {
      "cell_type": "markdown",
      "metadata": {
        "id": "UgfPby6pyb5v",
        "colab_type": "text"
      },
      "source": [
        "# 텐서"
      ]
    },
    {
      "cell_type": "markdown",
      "metadata": {
        "id": "Zb7h4gqix2x4",
        "colab_type": "text"
      },
      "source": [
        "- 텐서플로, 파이토치 등은 텐서를 기반으로 진행되는 연산을 수행하고, 딥러닝은 이런 연산의 연속이다.\n",
        "- 딥러닝 연산의 기본 단위\n",
        "- 행렬\n",
        "- <img src=\"https://drive.google.com/uc?id=1GXInEu6qtFuzp-OkoiH6RFGcpYanV7RM\" width=\"100%\">\n",
        "\n"
      ]
    },
    {
      "cell_type": "code",
      "metadata": {
        "id": "a0nfmMxJysAK",
        "colab_type": "code",
        "colab": {}
      },
      "source": [
        "# 텐서 생성\n",
        "# 리스트, 배열로부터 생성 가능\n",
        "# 기본 자료형 float32"
      ],
      "execution_count": null,
      "outputs": []
    },
    {
      "cell_type": "code",
      "metadata": {
        "id": "dylKOyHE0a5z",
        "colab_type": "code",
        "colab": {
          "base_uri": "https://localhost:8080/",
          "height": 52
        },
        "outputId": "78b32d5e-7d62-4642-c671-b54b042f9124"
      },
      "source": [
        "# 리스트\n",
        "list_src = [[10,11,12], [13,14,15]]   # (2,3)\n",
        "# 텐서 생성\n",
        "x = torch.Tensor(list_src)\n",
        "x"
      ],
      "execution_count": null,
      "outputs": [
        {
          "output_type": "execute_result",
          "data": {
            "text/plain": [
              "tensor([[10., 11., 12.],\n",
              "        [13., 14., 15.]])"
            ]
          },
          "metadata": {
            "tags": []
          },
          "execution_count": 4
        }
      ]
    },
    {
      "cell_type": "code",
      "metadata": {
        "id": "OuAWISIz0zLy",
        "colab_type": "code",
        "colab": {
          "base_uri": "https://localhost:8080/",
          "height": 34
        },
        "outputId": "5b054502-f523-4602-9310-7d413d4e4f6a"
      },
      "source": [
        "# 텐서를 다시 리스트로 변환\n",
        "x.tolist()"
      ],
      "execution_count": null,
      "outputs": [
        {
          "output_type": "execute_result",
          "data": {
            "text/plain": [
              "[[10.0, 11.0, 12.0], [13.0, 14.0, 15.0]]"
            ]
          },
          "metadata": {
            "tags": []
          },
          "execution_count": 5
        }
      ]
    },
    {
      "cell_type": "code",
      "metadata": {
        "id": "uW5Pz6aj1Bw6",
        "colab_type": "code",
        "colab": {
          "base_uri": "https://localhost:8080/",
          "height": 52
        },
        "outputId": "e577611a-6ecb-49eb-bc3c-dd26629253ae"
      },
      "source": [
        "# 배열 생성\n",
        "import numpy as np\n",
        "arr = np.array(list_src)\n",
        "arr\n",
        "# 원래 타입대로 값이 적용(텐서는 float으로 변함)"
      ],
      "execution_count": null,
      "outputs": [
        {
          "output_type": "execute_result",
          "data": {
            "text/plain": [
              "array([[10, 11, 12],\n",
              "       [13, 14, 15]])"
            ]
          },
          "metadata": {
            "tags": []
          },
          "execution_count": 6
        }
      ]
    },
    {
      "cell_type": "code",
      "metadata": {
        "id": "C-aYRzCR1NC6",
        "colab_type": "code",
        "colab": {
          "base_uri": "https://localhost:8080/",
          "height": 52
        },
        "outputId": "e05dd47f-40d3-4c28-929c-0c7341382740"
      },
      "source": [
        "# 생성 : 배열을 재료로\n",
        "x = torch.Tensor(arr)\n",
        "x"
      ],
      "execution_count": null,
      "outputs": [
        {
          "output_type": "execute_result",
          "data": {
            "text/plain": [
              "tensor([[10., 11., 12.],\n",
              "        [13., 14., 15.]])"
            ]
          },
          "metadata": {
            "tags": []
          },
          "execution_count": 7
        }
      ]
    },
    {
      "cell_type": "code",
      "metadata": {
        "id": "zyG0QTBY1ZxS",
        "colab_type": "code",
        "colab": {
          "base_uri": "https://localhost:8080/",
          "height": 52
        },
        "outputId": "5fbd3fff-0e96-4a91-aeb1-ac93d9260c3e"
      },
      "source": [
        "# 텐서를 다시 배열로 변환\n",
        "x.numpy()\n",
        "# 복원은 됐으나 원래 타입으로 돌아가지 않는다."
      ],
      "execution_count": null,
      "outputs": [
        {
          "output_type": "execute_result",
          "data": {
            "text/plain": [
              "array([[10., 11., 12.],\n",
              "       [13., 14., 15.]], dtype=float32)"
            ]
          },
          "metadata": {
            "tags": []
          },
          "execution_count": 8
        }
      ]
    },
    {
      "cell_type": "markdown",
      "metadata": {
        "id": "XGd6px2V1jFb",
        "colab_type": "text"
      },
      "source": [
        "# GPU 사용"
      ]
    },
    {
      "cell_type": "code",
      "metadata": {
        "id": "mnwcODsZ1sqV",
        "colab_type": "code",
        "colab": {
          "base_uri": "https://localhost:8080/",
          "height": 34
        },
        "outputId": "829d2bbc-534f-440a-f30e-09a97c901154"
      },
      "source": [
        "# 현재 device는 cpu\n",
        "x.device"
      ],
      "execution_count": null,
      "outputs": [
        {
          "output_type": "execute_result",
          "data": {
            "text/plain": [
              "device(type='cpu')"
            ]
          },
          "metadata": {
            "tags": []
          },
          "execution_count": 8
        }
      ]
    },
    {
      "cell_type": "code",
      "metadata": {
        "id": "WgyuKEG-1zNb",
        "colab_type": "code",
        "colab": {}
      },
      "source": [
        "try : \n",
        "  # x라는 텐서에 device를 지정\n",
        "  x.to('cuda')\n",
        "  # 텐서별로 지정 가능\n",
        "  print(x.device)\n",
        "except Exception as e :\n",
        "  pass"
      ],
      "execution_count": null,
      "outputs": []
    },
    {
      "cell_type": "code",
      "metadata": {
        "id": "65UusrIi16Us",
        "colab_type": "code",
        "colab": {}
      },
      "source": [
        ""
      ],
      "execution_count": null,
      "outputs": []
    }
  ]
}