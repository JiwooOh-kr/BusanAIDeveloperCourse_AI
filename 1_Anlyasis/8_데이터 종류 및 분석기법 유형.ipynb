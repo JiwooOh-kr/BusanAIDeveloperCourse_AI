{
  "nbformat": 4,
  "nbformat_minor": 0,
  "metadata": {
    "colab": {
      "name": "8_데이터 종류 및 분석기법 유형.ipynb",
      "provenance": [],
      "collapsed_sections": [],
      "toc_visible": true,
      "include_colab_link": true
    },
    "kernelspec": {
      "name": "python3",
      "display_name": "Python 3"
    }
  },
  "cells": [
    {
      "cell_type": "markdown",
      "metadata": {
        "id": "view-in-github",
        "colab_type": "text"
      },
      "source": [
        "<a href=\"https://colab.research.google.com/github/jkjh23/BusanAIDeveloperCourse_AI/blob/master/1_Anlyasis/8_%EB%8D%B0%EC%9D%B4%ED%84%B0%20%EC%A2%85%EB%A5%98%20%EB%B0%8F%20%EB%B6%84%EC%84%9D%EA%B8%B0%EB%B2%95%20%EC%9C%A0%ED%98%95.ipynb\" target=\"_parent\"><img src=\"https://colab.research.google.com/assets/colab-badge.svg\" alt=\"Open In Colab\"/></a>"
      ]
    },
    {
      "cell_type": "markdown",
      "metadata": {
        "id": "LOjpkZMq-0vK"
      },
      "source": [
        "# 데이터 종류"
      ]
    },
    {
      "cell_type": "markdown",
      "metadata": {
        "id": "o5x9nArl_CEW"
      },
      "source": [
        "## 범주형\n",
        "- 몇 개의 범주로 나누어진 자료"
      ]
    },
    {
      "cell_type": "markdown",
      "metadata": {
        "id": "48A8lmbl_zTL"
      },
      "source": [
        "### 명목형(nominal data)\n",
        "- 성별, 성공여부, 혈액형, 취미, 주거지 정보 등\n",
        "- 해당값이 좋다/나쁘다 평가할 수 X\n",
        "- 순서 X, 평균 X, 카운트 O, 비율 O (ex 5%)\n",
        "  - 수치 표현 위해, 원-핫 인코딩 처리(0과 1로 표현)"
      ]
    },
    {
      "cell_type": "markdown",
      "metadata": {
        "id": "6FHZWnzc_zZ6"
      },
      "source": [
        "### 순서형(ordinal data)\n",
        "- 만족도, 성적표 등\n",
        "- 해당값이 좋다/나쁘다 평가할 수 △\n",
        "- 개개의 값들이 이산적(불연속적, 디지털 등), 이런 값들 사이에 순서 존재\n",
        "- 순서 O, 평균 O, 카운트 △, 비율 △\n",
        "- ex 만족도\n",
        "  - 아주나쁨, 나쁨, 보통, 좋음, 아주좋음 -> 만족도가 점점 상승 -> 순서 존재한다는 것을 이해 可\n",
        "  - 아주나쁨(1), 나쁨(2), 보통(3), 좋음(4), 아주좋음(5) -> 좋음의 단계를 수치로 표현, 리커드 척도 반영, 숫자로 표현할 수 없는 것을 숫자로 표현 -> 평균 존재"
      ]
    },
    {
      "cell_type": "markdown",
      "metadata": {
        "id": "btT4d5r6_D3Q"
      },
      "source": [
        "## 수치형"
      ]
    },
    {
      "cell_type": "markdown",
      "metadata": {
        "id": "TyB_zYD2_5t6"
      },
      "source": [
        "###  이산형(discrete data)\n",
        "- 예시 : 출산 횟수, 하루동안 은행을 방문한 횟수, 공장의 불량품 개수, 차량의 사고 건수, ...\n",
        "- 수치의 의미를 가지고, 소수점을 가질 수 없는 데이터"
      ]
    },
    {
      "cell_type": "markdown",
      "metadata": {
        "id": "UCP1wxWy_6NY"
      },
      "source": [
        "### 연속형(continuous data)\n",
        "- 연속적인 값을 가진 데이터\n",
        "- 예 : 신장, 체중, 시간, 길이, ...\n",
        "- 수치적 의미를 가지고, 소수점 표현 가능 = 측정할 수 있는 데이터\n",
        "- 평균, 분산, 표준편차, 퍼센트 등 다 표현 可"
      ]
    },
    {
      "cell_type": "markdown",
      "metadata": {
        "id": "6k5xpvI7D9Rs"
      },
      "source": [
        "## 테스트"
      ]
    },
    {
      "cell_type": "markdown",
      "metadata": {
        "id": "8MwfXNS7C_tz"
      },
      "source": [
        "\n",
        "- 데이터를 사용하는 관점, 해석의 관점에 따라 다르게 적용되기도 함\n",
        "- 데이터 : 나이\n",
        "  - 데이터 자체 : 나이 -> 연속형?\n",
        "  - 20~29세까지만 카운트하시오 -> 이산형?\n",
        "  - 설문조사 연령에서 10대, 20대, 30대, ..., 50대 이상 등으로 세대 표현 -> 순서형?\n",
        "- 데이터를 설명하는 내용에 대한 구체적인 의미와 실제 데이터를 보고 판단하는 것이 적합"
      ]
    },
    {
      "cell_type": "markdown",
      "metadata": {
        "id": "2GgqWxcM_IiQ"
      },
      "source": [
        "# 데이터 분석 방법 - 7"
      ]
    },
    {
      "cell_type": "markdown",
      "metadata": {
        "id": "whRCxjF1DvXi"
      },
      "source": [
        "## 설명 분석(Descriptive analysis)"
      ]
    },
    {
      "cell_type": "markdown",
      "metadata": {
        "id": "oLLzUgZQ_Loh"
      },
      "source": [
        "\n",
        "- 목표\n",
        "  - 주어진 데이터를 가지고 요약/정보/집계를 보고 결과를 도출하는 기본 분석\n",
        "- 개요\n",
        "  - 기초 분석\n",
        "- 예시\n",
        "  - 이번달 매출액, 평균 사용시간, 설문조사 응답 비율(여/남)\n",
        "  - 과거의 데이터를 기반으로 단순한 계산/집계 등을 통해 얻어진 사실\n",
        "- 회사에서는 기본적으로 살펴보는 중요 지표\n",
        "- 사용 차트\n",
        "  - 파이 차트, 박스플롯, 바 차트 등(크기에 대한 비교)\n",
        "  - 요약 테이블"
      ]
    },
    {
      "cell_type": "markdown",
      "metadata": {
        "id": "Qs7KKeJGEBGj"
      },
      "source": [
        "## 탐색 분석(Exploratory analysis)"
      ]
    },
    {
      "cell_type": "markdown",
      "metadata": {
        "id": "5jD-u423_Lrh"
      },
      "source": [
        "- 목적\n",
        "  - 여러 변수들 간이 트렌드, 패턴, 관계 등을 찾는 분석\n",
        "  - 분석해 그래프로 표현, 그래프 찾기\n",
        "-개요\n",
        "  - EDA\n",
        "  - 시각화 분석을 통해서 해당 방법이 부과되었음? 부각되었음?\n",
        "- 방법\n",
        "  - 관계분석 : 변수들 간의 상관분석 등\n",
        "    - 회귀분석\n",
        "  - 프로젝트 초기 가설 수립을 분석\n",
        "- 예/유의사항\n",
        "  - 분석의 최초 목적을 유지하라\n",
        "  - 재현성에 주의\n",
        "    - 도출과정을 체계적으로 묘사\n",
        "- 시각화 방법\n",
        "  - 산포도, 산포행렬, 선형 차트"
      ]
    },
    {
      "cell_type": "markdown",
      "metadata": {
        "id": "Wg76ODat_LwB"
      },
      "source": [
        "## 추론 분석(Inferential analysis)"
      ]
    },
    {
      "cell_type": "markdown",
      "metadata": {
        "id": "S2Wv9xDXEYKE"
      },
      "source": [
        "- 목적\n",
        "  - 모집합 - 표본(샘플) 간의 관계를 탐구\n",
        "- 개요\n",
        "  - 전수 조사가 불가하기 때문에 표본을 수집해 전체 데이터에 반영하는 방식 -> 자원의 한정성 문제\n",
        "- 예\n",
        "  - 여론조사, 설문조사\n",
        "- 결론의 표현\n",
        "  - 95%의 확률로, 모집단의 평균점수는 80~85점 사이\n",
        "  - ±5% 표준편차가 존재"
      ]
    },
    {
      "cell_type": "markdown",
      "metadata": {
        "id": "ImXWxK8u_MIa"
      },
      "source": [
        "## 예측 분석(Predictive analysis)"
      ]
    },
    {
      "cell_type": "markdown",
      "metadata": {
        "id": "9QHKWIOWGolq"
      },
      "source": [
        "- 목표\n",
        "  - 알고리즘 등 여러 기법을 이용해 근미래/발생되지 않은 어떤 사건을 예측하는 것\n",
        "  - \"왜\"보다는 **\"정확한 예측\"**이 목표\n",
        "  - 최종 산출물 : 예측 모델\n",
        "    - 머신러닝, 딥러닝 활용됨\n",
        "- 예\n",
        "  - 다이어트 성공률과 여러가지 변수들 간의 관계를 분석\n",
        "  - 직업, 키, 몸무게, 거주지역, 라이프스타일 등 변수들을 모두 활용해 다이어트 성공율에 대한 모델을 구축하여 예측력을 높이는 것"
      ]
    },
    {
      "cell_type": "markdown",
      "metadata": {
        "id": "o42YvUan_L65"
      },
      "source": [
        "## 인과 분석(Causal analysis)"
      ]
    },
    {
      "cell_type": "markdown",
      "metadata": {
        "id": "DK8KLs3MH11v"
      },
      "source": [
        "- 목표\n",
        "  - 독립/종속 변수 간의 \"인과관계 여부\"를 밝히는 분석\n",
        "  - 성향상 머신러닝 관점에서 보면 지도학습법에 해당\n",
        "  - 논문에서 많이 표현하고, 데이터도 실험을 통해 수집된 데이터가 대상\n",
        "- 예\n",
        "  - 다이어트 성공율에 미치는 변수를 연구\n",
        "    - 굶기, 약물(칼로리 커팅제, GRN 등), 상담, 운동 등 -> 관계를 밝힘\n",
        "    - 생로병사\n",
        "  - A/B test\n",
        "  - 변수가 2개인 요소의 분석 -> 단항\n",
        "    - 선형 회귀 Linear regression\n",
        "  - 변수가 여러개 -> 다항\n",
        "    - Multi variable regression\n",
        "  - 변수가 범주형이면\n",
        "    - 로지스틱 회귀 Logistic regression"
      ]
    },
    {
      "cell_type": "markdown",
      "metadata": {
        "id": "QrABiHZt_L06"
      },
      "source": [
        "## 규범 분석(Prescriptive analysis)"
      ]
    },
    {
      "cell_type": "markdown",
      "metadata": {
        "id": "RQQ6GEMWHQzp"
      },
      "source": [
        "- 목표\n",
        "  - Predictive analysis + 목표를 구체화(제시)\n",
        "  - '어떤 예측을 기반해서 xxx해야함.'이라는 행동지침, 처방 등을 제시\n",
        "- 개요\n",
        "  - 시나리오 분석법(2000년대 유행) -> 좀더 발전된 형태\n"
      ]
    },
    {
      "cell_type": "markdown",
      "metadata": {
        "id": "2tRudHrs_MCM"
      },
      "source": [
        "## 기계 분석(Mechanistic analysis)"
      ]
    },
    {
      "cell_type": "markdown",
      "metadata": {
        "id": "LasewtAUFJPj"
      },
      "source": [
        "- 목적\n",
        "  - 독립변수가 어떤 매커니즘으로 종속 변수에 영향을 미치는가 분석\n",
        "  - 독립 - 종속변수 간의 인과관계, 영향력 등 이해하는 것\n",
        "- 방법\n",
        "  - 머신러닝\n",
        "    - 지도학습   : 분류, 회귀\n",
        "      - 분류\n",
        "        - 딥러닝 : 인공신경망을 통해서 학습을 통해 예측 수행\n",
        "          - CNN, RNN, DQN, GAN, ...\n",
        "    - 비지도학습 : 군집(클러스터링), 차원축소\n",
        "    - 준지도학습 : 지도+비지도\n",
        "    - 강화학습   : 에이전트가 어떤 환경에서 어떤 행동을 하는데 리워드/패널티를 부여해 리워드를 받는 방향으로 행동이 강화되는 학습법   \n",
        "      - ex) 알파고 -> 알파고제로 -> 알파제로"
      ]
    }
  ]
}