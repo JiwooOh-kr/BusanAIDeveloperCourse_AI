{
  "nbformat": 4,
  "nbformat_minor": 0,
  "metadata": {
    "colab": {
      "name": "0_머신러닝 개요.ipynb",
      "provenance": [],
      "collapsed_sections": [],
      "include_colab_link": true
    },
    "kernelspec": {
      "name": "python3",
      "display_name": "Python 3"
    }
  },
  "cells": [
    {
      "cell_type": "markdown",
      "metadata": {
        "id": "view-in-github",
        "colab_type": "text"
      },
      "source": [
        "<a href=\"https://colab.research.google.com/github/jkjh23/BusanAIDeveloperCourse_AI/blob/master/2_MachineLearning/0_%EB%A8%B8%EC%8B%A0%EB%9F%AC%EB%8B%9D%20%EA%B0%9C%EC%9A%94.ipynb\" target=\"_parent\"><img src=\"https://colab.research.google.com/assets/colab-badge.svg\" alt=\"Open In Colab\"/></a>"
      ]
    },
    {
      "cell_type": "markdown",
      "metadata": {
        "id": "9b6Ufp9-RDVs"
      },
      "source": [
        "# A. 머신러닝 개요"
      ]
    },
    {
      "cell_type": "markdown",
      "metadata": {
        "id": "gYUv6qzORVsM"
      },
      "source": [
        "- 명시적인 프로그램 단계(절차적코드, 의사결정코드, 규칙기반 프로그램) 없이, **스스로 학습**을 통해서 해당 과정을 이해하고, 결론에 도달(예측, 추론, 분류 등)하는 연구 분야다.\n",
        "- 스스로 학습하는 해당 알고리즘은 이미 오랜 시간 동안 개발되어 왔고, 지금도 개발 중이다. "
      ]
    },
    {
      "cell_type": "markdown",
      "metadata": {
        "id": "HuZ6jXXWRKRA"
      },
      "source": [
        "# B. 머신러닝 시스템 종류"
      ]
    },
    {
      "cell_type": "markdown",
      "metadata": {
        "id": "a66DXwmzRxf9"
      },
      "source": [
        "## 지도학습 : supervised learning\n",
        "- 특징 : 데이터 존재, 레이블(정답) 존재\n",
        "- 종류\n",
        "  - 분류 : classfication => 이진분류, 다항분류\n",
        "    - 이것이다, 저것이다, ...\n",
        "    - 알고리즘, ..., 딥러닝(인공신경망을 사용), ...\n",
        "  - 회귀 : 중고차 가격을 예측, 수치의 범위로 예측"
      ]
    },
    {
      "cell_type": "markdown",
      "metadata": {
        "id": "3gq4vBJ-R_t3"
      },
      "source": [
        "## 비지도학습 : unsupervised learning\n",
        "- 특징 : 데이터 존재, 레이블(정답) 不존재\n",
        "- 종류\n",
        "  - 군집(군집화, 클러스터링) : 데이터를 비슷한 유형끼리 묶어서 특징을 추출\n",
        "    - 넷플릭스 => 가입 => 3개 정도 컨텐츠 선택 => 군집 진행 => 추천 => 이후에는 사용 내역 보고 유형을 정리해서 다시 추천 (최초는 랜덤)\n",
        "  - 차원축소\n",
        "    - 정보 손실을 최소화하여 특성을 줄인다.\n",
        "    - iris 데이터의 컬럼이 4개인데, 2개로 줄인다. => 특징을 강화"
      ]
    },
    {
      "cell_type": "markdown",
      "metadata": {
        "id": "N2FHHUH_SBs9"
      },
      "source": [
        "## 준지도학습 : semi-supervised learning\n",
        "- 특징 : 데이터 존재, 레이블(정답) 일부만 존재\n",
        "- 사용 : 지도 + 비지도"
      ]
    },
    {
      "cell_type": "markdown",
      "metadata": {
        "id": "B26Az7QFSD8K"
      },
      "source": [
        "## 강화학습 : reinforcement learning\n",
        "- 특징 : 데이터가 있을 수도 없을 수도 있다.\n",
        "- 구성요소\n",
        "  - 에이전트, 환경, 액션, 상태, 보상, 패널티, 정책 -> 에이전트가 보상을 많이 받는 방식으로 행동이 강화된다.\n",
        "- 딥러닝 때 진행 예정"
      ]
    }
  ]
}