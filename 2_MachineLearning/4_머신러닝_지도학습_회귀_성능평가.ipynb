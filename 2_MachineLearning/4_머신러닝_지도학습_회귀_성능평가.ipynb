{
  "nbformat": 4,
  "nbformat_minor": 0,
  "metadata": {
    "colab": {
      "name": "4_머신러닝_지도학습_회귀_성능평가.ipynb",
      "provenance": [],
      "collapsed_sections": [],
      "toc_visible": true,
      "include_colab_link": true
    },
    "kernelspec": {
      "name": "python3",
      "display_name": "Python 3"
    },
    "widgets": {
      "application/vnd.jupyter.widget-state+json": {
        "52760ebf84714179b24879d3bf93e02f": {
          "model_module": "@jupyter-widgets/controls",
          "model_name": "HBoxModel",
          "state": {
            "_view_name": "HBoxView",
            "_dom_classes": [],
            "_model_name": "HBoxModel",
            "_view_module": "@jupyter-widgets/controls",
            "_model_module_version": "1.5.0",
            "_view_count": null,
            "_view_module_version": "1.5.0",
            "box_style": "",
            "layout": "IPY_MODEL_af90007bc947492c8fa5d0f41348e794",
            "_model_module": "@jupyter-widgets/controls",
            "children": [
              "IPY_MODEL_6a38db84cf1045338d5eaf369cd61711",
              "IPY_MODEL_6b083b99e4264ee99f56885d95cb75af"
            ]
          }
        },
        "af90007bc947492c8fa5d0f41348e794": {
          "model_module": "@jupyter-widgets/base",
          "model_name": "LayoutModel",
          "state": {
            "_view_name": "LayoutView",
            "grid_template_rows": null,
            "right": null,
            "justify_content": null,
            "_view_module": "@jupyter-widgets/base",
            "overflow": null,
            "_model_module_version": "1.2.0",
            "_view_count": null,
            "flex_flow": null,
            "width": null,
            "min_width": null,
            "border": null,
            "align_items": null,
            "bottom": null,
            "_model_module": "@jupyter-widgets/base",
            "top": null,
            "grid_column": null,
            "overflow_y": null,
            "overflow_x": null,
            "grid_auto_flow": null,
            "grid_area": null,
            "grid_template_columns": null,
            "flex": null,
            "_model_name": "LayoutModel",
            "justify_items": null,
            "grid_row": null,
            "max_height": null,
            "align_content": null,
            "visibility": null,
            "align_self": null,
            "height": null,
            "min_height": null,
            "padding": null,
            "grid_auto_rows": null,
            "grid_gap": null,
            "max_width": null,
            "order": null,
            "_view_module_version": "1.2.0",
            "grid_template_areas": null,
            "object_position": null,
            "object_fit": null,
            "grid_auto_columns": null,
            "margin": null,
            "display": null,
            "left": null
          }
        },
        "6a38db84cf1045338d5eaf369cd61711": {
          "model_module": "@jupyter-widgets/controls",
          "model_name": "FloatProgressModel",
          "state": {
            "_view_name": "ProgressView",
            "style": "IPY_MODEL_05b41156b4bc4c59b4da0f7421e7dea6",
            "_dom_classes": [],
            "description": "100%",
            "_model_name": "FloatProgressModel",
            "bar_style": "success",
            "max": 5,
            "_view_module": "@jupyter-widgets/controls",
            "_model_module_version": "1.5.0",
            "value": 5,
            "_view_count": null,
            "_view_module_version": "1.5.0",
            "orientation": "horizontal",
            "min": 0,
            "description_tooltip": null,
            "_model_module": "@jupyter-widgets/controls",
            "layout": "IPY_MODEL_c5901398ae194dbf8335a0a711db2643"
          }
        },
        "6b083b99e4264ee99f56885d95cb75af": {
          "model_module": "@jupyter-widgets/controls",
          "model_name": "HTMLModel",
          "state": {
            "_view_name": "HTMLView",
            "style": "IPY_MODEL_cdfff62f9fa14f6194641bae9f17f2b0",
            "_dom_classes": [],
            "description": "",
            "_model_name": "HTMLModel",
            "placeholder": "​",
            "_view_module": "@jupyter-widgets/controls",
            "_model_module_version": "1.5.0",
            "value": " 5/5 [00:04&lt;00:00,  1.03it/s]",
            "_view_count": null,
            "_view_module_version": "1.5.0",
            "description_tooltip": null,
            "_model_module": "@jupyter-widgets/controls",
            "layout": "IPY_MODEL_5c2c0044ce634cfb922a8d0d3357018d"
          }
        },
        "05b41156b4bc4c59b4da0f7421e7dea6": {
          "model_module": "@jupyter-widgets/controls",
          "model_name": "ProgressStyleModel",
          "state": {
            "_view_name": "StyleView",
            "_model_name": "ProgressStyleModel",
            "description_width": "initial",
            "_view_module": "@jupyter-widgets/base",
            "_model_module_version": "1.5.0",
            "_view_count": null,
            "_view_module_version": "1.2.0",
            "bar_color": null,
            "_model_module": "@jupyter-widgets/controls"
          }
        },
        "c5901398ae194dbf8335a0a711db2643": {
          "model_module": "@jupyter-widgets/base",
          "model_name": "LayoutModel",
          "state": {
            "_view_name": "LayoutView",
            "grid_template_rows": null,
            "right": null,
            "justify_content": null,
            "_view_module": "@jupyter-widgets/base",
            "overflow": null,
            "_model_module_version": "1.2.0",
            "_view_count": null,
            "flex_flow": null,
            "width": null,
            "min_width": null,
            "border": null,
            "align_items": null,
            "bottom": null,
            "_model_module": "@jupyter-widgets/base",
            "top": null,
            "grid_column": null,
            "overflow_y": null,
            "overflow_x": null,
            "grid_auto_flow": null,
            "grid_area": null,
            "grid_template_columns": null,
            "flex": null,
            "_model_name": "LayoutModel",
            "justify_items": null,
            "grid_row": null,
            "max_height": null,
            "align_content": null,
            "visibility": null,
            "align_self": null,
            "height": null,
            "min_height": null,
            "padding": null,
            "grid_auto_rows": null,
            "grid_gap": null,
            "max_width": null,
            "order": null,
            "_view_module_version": "1.2.0",
            "grid_template_areas": null,
            "object_position": null,
            "object_fit": null,
            "grid_auto_columns": null,
            "margin": null,
            "display": null,
            "left": null
          }
        },
        "cdfff62f9fa14f6194641bae9f17f2b0": {
          "model_module": "@jupyter-widgets/controls",
          "model_name": "DescriptionStyleModel",
          "state": {
            "_view_name": "StyleView",
            "_model_name": "DescriptionStyleModel",
            "description_width": "",
            "_view_module": "@jupyter-widgets/base",
            "_model_module_version": "1.5.0",
            "_view_count": null,
            "_view_module_version": "1.2.0",
            "_model_module": "@jupyter-widgets/controls"
          }
        },
        "5c2c0044ce634cfb922a8d0d3357018d": {
          "model_module": "@jupyter-widgets/base",
          "model_name": "LayoutModel",
          "state": {
            "_view_name": "LayoutView",
            "grid_template_rows": null,
            "right": null,
            "justify_content": null,
            "_view_module": "@jupyter-widgets/base",
            "overflow": null,
            "_model_module_version": "1.2.0",
            "_view_count": null,
            "flex_flow": null,
            "width": null,
            "min_width": null,
            "border": null,
            "align_items": null,
            "bottom": null,
            "_model_module": "@jupyter-widgets/base",
            "top": null,
            "grid_column": null,
            "overflow_y": null,
            "overflow_x": null,
            "grid_auto_flow": null,
            "grid_area": null,
            "grid_template_columns": null,
            "flex": null,
            "_model_name": "LayoutModel",
            "justify_items": null,
            "grid_row": null,
            "max_height": null,
            "align_content": null,
            "visibility": null,
            "align_self": null,
            "height": null,
            "min_height": null,
            "padding": null,
            "grid_auto_rows": null,
            "grid_gap": null,
            "max_width": null,
            "order": null,
            "_view_module_version": "1.2.0",
            "grid_template_areas": null,
            "object_position": null,
            "object_fit": null,
            "grid_auto_columns": null,
            "margin": null,
            "display": null,
            "left": null
          }
        },
        "7e507d5c7ed9436eacf8ce98350ac88f": {
          "model_module": "@jupyter-widgets/controls",
          "model_name": "HBoxModel",
          "state": {
            "_view_name": "HBoxView",
            "_dom_classes": [],
            "_model_name": "HBoxModel",
            "_view_module": "@jupyter-widgets/controls",
            "_model_module_version": "1.5.0",
            "_view_count": null,
            "_view_module_version": "1.5.0",
            "box_style": "",
            "layout": "IPY_MODEL_5cb17562fcfd4060a5e4cd5aa9fe3fca",
            "_model_module": "@jupyter-widgets/controls",
            "children": [
              "IPY_MODEL_ef416e6952a94ff584c1ce3445c7bbf6",
              "IPY_MODEL_a8617756b71740439da0fb8729ba3b67"
            ]
          }
        },
        "5cb17562fcfd4060a5e4cd5aa9fe3fca": {
          "model_module": "@jupyter-widgets/base",
          "model_name": "LayoutModel",
          "state": {
            "_view_name": "LayoutView",
            "grid_template_rows": null,
            "right": null,
            "justify_content": null,
            "_view_module": "@jupyter-widgets/base",
            "overflow": null,
            "_model_module_version": "1.2.0",
            "_view_count": null,
            "flex_flow": null,
            "width": null,
            "min_width": null,
            "border": null,
            "align_items": null,
            "bottom": null,
            "_model_module": "@jupyter-widgets/base",
            "top": null,
            "grid_column": null,
            "overflow_y": null,
            "overflow_x": null,
            "grid_auto_flow": null,
            "grid_area": null,
            "grid_template_columns": null,
            "flex": null,
            "_model_name": "LayoutModel",
            "justify_items": null,
            "grid_row": null,
            "max_height": null,
            "align_content": null,
            "visibility": null,
            "align_self": null,
            "height": null,
            "min_height": null,
            "padding": null,
            "grid_auto_rows": null,
            "grid_gap": null,
            "max_width": null,
            "order": null,
            "_view_module_version": "1.2.0",
            "grid_template_areas": null,
            "object_position": null,
            "object_fit": null,
            "grid_auto_columns": null,
            "margin": null,
            "display": null,
            "left": null
          }
        },
        "ef416e6952a94ff584c1ce3445c7bbf6": {
          "model_module": "@jupyter-widgets/controls",
          "model_name": "FloatProgressModel",
          "state": {
            "_view_name": "ProgressView",
            "style": "IPY_MODEL_18c2b4db060e4a7dbedf78fe770649bc",
            "_dom_classes": [],
            "description": "100%",
            "_model_name": "FloatProgressModel",
            "bar_style": "success",
            "max": 5,
            "_view_module": "@jupyter-widgets/controls",
            "_model_module_version": "1.5.0",
            "value": 5,
            "_view_count": null,
            "_view_module_version": "1.5.0",
            "orientation": "horizontal",
            "min": 0,
            "description_tooltip": null,
            "_model_module": "@jupyter-widgets/controls",
            "layout": "IPY_MODEL_5f076eb1e8d64648a3d3d8682a511ca4"
          }
        },
        "a8617756b71740439da0fb8729ba3b67": {
          "model_module": "@jupyter-widgets/controls",
          "model_name": "HTMLModel",
          "state": {
            "_view_name": "HTMLView",
            "style": "IPY_MODEL_d5b56ee67693484aa1f80d677289638f",
            "_dom_classes": [],
            "description": "",
            "_model_name": "HTMLModel",
            "placeholder": "​",
            "_view_module": "@jupyter-widgets/controls",
            "_model_module_version": "1.5.0",
            "value": " 5/5 [02:32&lt;00:00, 30.47s/it]",
            "_view_count": null,
            "_view_module_version": "1.5.0",
            "description_tooltip": null,
            "_model_module": "@jupyter-widgets/controls",
            "layout": "IPY_MODEL_4f1f263777ce4ca7be47dd964be86b47"
          }
        },
        "18c2b4db060e4a7dbedf78fe770649bc": {
          "model_module": "@jupyter-widgets/controls",
          "model_name": "ProgressStyleModel",
          "state": {
            "_view_name": "StyleView",
            "_model_name": "ProgressStyleModel",
            "description_width": "initial",
            "_view_module": "@jupyter-widgets/base",
            "_model_module_version": "1.5.0",
            "_view_count": null,
            "_view_module_version": "1.2.0",
            "bar_color": null,
            "_model_module": "@jupyter-widgets/controls"
          }
        },
        "5f076eb1e8d64648a3d3d8682a511ca4": {
          "model_module": "@jupyter-widgets/base",
          "model_name": "LayoutModel",
          "state": {
            "_view_name": "LayoutView",
            "grid_template_rows": null,
            "right": null,
            "justify_content": null,
            "_view_module": "@jupyter-widgets/base",
            "overflow": null,
            "_model_module_version": "1.2.0",
            "_view_count": null,
            "flex_flow": null,
            "width": null,
            "min_width": null,
            "border": null,
            "align_items": null,
            "bottom": null,
            "_model_module": "@jupyter-widgets/base",
            "top": null,
            "grid_column": null,
            "overflow_y": null,
            "overflow_x": null,
            "grid_auto_flow": null,
            "grid_area": null,
            "grid_template_columns": null,
            "flex": null,
            "_model_name": "LayoutModel",
            "justify_items": null,
            "grid_row": null,
            "max_height": null,
            "align_content": null,
            "visibility": null,
            "align_self": null,
            "height": null,
            "min_height": null,
            "padding": null,
            "grid_auto_rows": null,
            "grid_gap": null,
            "max_width": null,
            "order": null,
            "_view_module_version": "1.2.0",
            "grid_template_areas": null,
            "object_position": null,
            "object_fit": null,
            "grid_auto_columns": null,
            "margin": null,
            "display": null,
            "left": null
          }
        },
        "d5b56ee67693484aa1f80d677289638f": {
          "model_module": "@jupyter-widgets/controls",
          "model_name": "DescriptionStyleModel",
          "state": {
            "_view_name": "StyleView",
            "_model_name": "DescriptionStyleModel",
            "description_width": "",
            "_view_module": "@jupyter-widgets/base",
            "_model_module_version": "1.5.0",
            "_view_count": null,
            "_view_module_version": "1.2.0",
            "_model_module": "@jupyter-widgets/controls"
          }
        },
        "4f1f263777ce4ca7be47dd964be86b47": {
          "model_module": "@jupyter-widgets/base",
          "model_name": "LayoutModel",
          "state": {
            "_view_name": "LayoutView",
            "grid_template_rows": null,
            "right": null,
            "justify_content": null,
            "_view_module": "@jupyter-widgets/base",
            "overflow": null,
            "_model_module_version": "1.2.0",
            "_view_count": null,
            "flex_flow": null,
            "width": null,
            "min_width": null,
            "border": null,
            "align_items": null,
            "bottom": null,
            "_model_module": "@jupyter-widgets/base",
            "top": null,
            "grid_column": null,
            "overflow_y": null,
            "overflow_x": null,
            "grid_auto_flow": null,
            "grid_area": null,
            "grid_template_columns": null,
            "flex": null,
            "_model_name": "LayoutModel",
            "justify_items": null,
            "grid_row": null,
            "max_height": null,
            "align_content": null,
            "visibility": null,
            "align_self": null,
            "height": null,
            "min_height": null,
            "padding": null,
            "grid_auto_rows": null,
            "grid_gap": null,
            "max_width": null,
            "order": null,
            "_view_module_version": "1.2.0",
            "grid_template_areas": null,
            "object_position": null,
            "object_fit": null,
            "grid_auto_columns": null,
            "margin": null,
            "display": null,
            "left": null
          }
        }
      }
    }
  },
  "cells": [
    {
      "cell_type": "markdown",
      "metadata": {
        "id": "view-in-github",
        "colab_type": "text"
      },
      "source": [
        "<a href=\"https://colab.research.google.com/github/jkjh23/BusanAIDeveloperCourse_AI/blob/master/2_MachineLearning/4_%EB%A8%B8%EC%8B%A0%EB%9F%AC%EB%8B%9D_%EC%A7%80%EB%8F%84%ED%95%99%EC%8A%B5_%ED%9A%8C%EA%B7%80_%EC%84%B1%EB%8A%A5%ED%8F%89%EA%B0%80.ipynb\" target=\"_parent\"><img src=\"https://colab.research.google.com/assets/colab-badge.svg\" alt=\"Open In Colab\"/></a>"
      ]
    },
    {
      "cell_type": "markdown",
      "metadata": {
        "id": "1xWjgt5z1jqK"
      },
      "source": [
        "# 연구목표"
      ]
    },
    {
      "cell_type": "markdown",
      "metadata": {
        "id": "um4J199T1k5w"
      },
      "source": [
        "- 영화에 대한 고객들의 평가 데이터를 가지고, 분석 / 예측 등 회귀모델을 이용하여서 구현하겠다.\n",
        "- 회귀의 평가지표로 손실함수를 사용한다.\n",
        "  - 손실함수는 0에 수렴할수록 성능이 좋다.\n",
        "- 특성의 조합에 따라 평가 지표값이 들게 나올 수 있다.\n",
        "- 데이터의 순서, 특성의 종류, 조합 등에 따른 지표 변화도 관찰해보겠다.\n",
        "- 회귀 모델 알고리즘은 fastlib라는 thirdpart 제품을 사용한다. -> 파이썬으로 wrapping된 패키지를 사용(해당 제품은 리눅스와 맥만 설치가 가능하다. colab은 리눅스.)"
      ]
    },
    {
      "cell_type": "markdown",
      "metadata": {
        "id": "6xC71C8u2ZIB"
      },
      "source": [
        "# 데이터 획득\n",
        "- 데이터 경로 : /content/drive/My Drive/Colab Notebooks/ml/4_data/ml-100k\n",
        "- 연구용으로 준비된 영화 데이터를 사용"
      ]
    },
    {
      "cell_type": "markdown",
      "metadata": {
        "id": "Zaxmn4Ha2atw"
      },
      "source": [
        "# 데이터 준비"
      ]
    },
    {
      "cell_type": "code",
      "metadata": {
        "id": "MflP5yvaNffC"
      },
      "source": [
        "import pandas as pd\n",
        "import numpy as np"
      ],
      "execution_count": 2,
      "outputs": []
    },
    {
      "cell_type": "markdown",
      "metadata": {
        "id": "SnWM2Bh3Ngp7"
      },
      "source": [
        "## 회원 정보 로드"
      ]
    },
    {
      "cell_type": "code",
      "metadata": {
        "id": "xCxdSkF83DSN",
        "outputId": "dd5de447-fc6d-499b-8865-ce123ab5f60c",
        "colab": {
          "base_uri": "https://localhost:8080/",
          "height": 195
        }
      },
      "source": [
        "# 데이터 로드\n",
        "# 고객 데이터 : u.user\n",
        "# 인덱스|나이|성별|직업|우편번호\n",
        "dir = \"/content/drive/My Drive/2020_AI_Busan/3_MachineLearning/4_data/ml-100k/\"\n",
        "users = pd.read_csv(dir+\"u.user\", sep=\"|\", names=[\"uid\",\"age\",\"s\",\"job\",\"zip_code\"])\n",
        "users.head()"
      ],
      "execution_count": 3,
      "outputs": [
        {
          "output_type": "execute_result",
          "data": {
            "text/html": [
              "<div>\n",
              "<style scoped>\n",
              "    .dataframe tbody tr th:only-of-type {\n",
              "        vertical-align: middle;\n",
              "    }\n",
              "\n",
              "    .dataframe tbody tr th {\n",
              "        vertical-align: top;\n",
              "    }\n",
              "\n",
              "    .dataframe thead th {\n",
              "        text-align: right;\n",
              "    }\n",
              "</style>\n",
              "<table border=\"1\" class=\"dataframe\">\n",
              "  <thead>\n",
              "    <tr style=\"text-align: right;\">\n",
              "      <th></th>\n",
              "      <th>uid</th>\n",
              "      <th>age</th>\n",
              "      <th>s</th>\n",
              "      <th>job</th>\n",
              "      <th>zip_code</th>\n",
              "    </tr>\n",
              "  </thead>\n",
              "  <tbody>\n",
              "    <tr>\n",
              "      <th>0</th>\n",
              "      <td>1</td>\n",
              "      <td>24</td>\n",
              "      <td>M</td>\n",
              "      <td>technician</td>\n",
              "      <td>85711</td>\n",
              "    </tr>\n",
              "    <tr>\n",
              "      <th>1</th>\n",
              "      <td>2</td>\n",
              "      <td>53</td>\n",
              "      <td>F</td>\n",
              "      <td>other</td>\n",
              "      <td>94043</td>\n",
              "    </tr>\n",
              "    <tr>\n",
              "      <th>2</th>\n",
              "      <td>3</td>\n",
              "      <td>23</td>\n",
              "      <td>M</td>\n",
              "      <td>writer</td>\n",
              "      <td>32067</td>\n",
              "    </tr>\n",
              "    <tr>\n",
              "      <th>3</th>\n",
              "      <td>4</td>\n",
              "      <td>24</td>\n",
              "      <td>M</td>\n",
              "      <td>technician</td>\n",
              "      <td>43537</td>\n",
              "    </tr>\n",
              "    <tr>\n",
              "      <th>4</th>\n",
              "      <td>5</td>\n",
              "      <td>33</td>\n",
              "      <td>F</td>\n",
              "      <td>other</td>\n",
              "      <td>15213</td>\n",
              "    </tr>\n",
              "  </tbody>\n",
              "</table>\n",
              "</div>"
            ],
            "text/plain": [
              "   uid  age  s         job zip_code\n",
              "0    1   24  M  technician    85711\n",
              "1    2   53  F       other    94043\n",
              "2    3   23  M      writer    32067\n",
              "3    4   24  M  technician    43537\n",
              "4    5   33  F       other    15213"
            ]
          },
          "metadata": {
            "tags": []
          },
          "execution_count": 3
        }
      ]
    },
    {
      "cell_type": "code",
      "metadata": {
        "id": "S2Ka3kDr6O2g",
        "outputId": "04ddeebf-73bb-4681-fd4f-0c63b1197ef1",
        "colab": {
          "base_uri": "https://localhost:8080/",
          "height": 34
        }
      },
      "source": [
        "users.shape"
      ],
      "execution_count": 4,
      "outputs": [
        {
          "output_type": "execute_result",
          "data": {
            "text/plain": [
              "(943, 5)"
            ]
          },
          "metadata": {
            "tags": []
          },
          "execution_count": 4
        }
      ]
    },
    {
      "cell_type": "code",
      "metadata": {
        "id": "qZBgWl0RQQ0Q",
        "outputId": "38b77556-69d6-4d06-fd5c-473a7e19a388",
        "colab": {
          "base_uri": "https://localhost:8080/",
          "height": 1000
        }
      },
      "source": [
        "users.uid.unique()"
      ],
      "execution_count": 5,
      "outputs": [
        {
          "output_type": "execute_result",
          "data": {
            "text/plain": [
              "array([  1,   2,   3,   4,   5,   6,   7,   8,   9,  10,  11,  12,  13,\n",
              "        14,  15,  16,  17,  18,  19,  20,  21,  22,  23,  24,  25,  26,\n",
              "        27,  28,  29,  30,  31,  32,  33,  34,  35,  36,  37,  38,  39,\n",
              "        40,  41,  42,  43,  44,  45,  46,  47,  48,  49,  50,  51,  52,\n",
              "        53,  54,  55,  56,  57,  58,  59,  60,  61,  62,  63,  64,  65,\n",
              "        66,  67,  68,  69,  70,  71,  72,  73,  74,  75,  76,  77,  78,\n",
              "        79,  80,  81,  82,  83,  84,  85,  86,  87,  88,  89,  90,  91,\n",
              "        92,  93,  94,  95,  96,  97,  98,  99, 100, 101, 102, 103, 104,\n",
              "       105, 106, 107, 108, 109, 110, 111, 112, 113, 114, 115, 116, 117,\n",
              "       118, 119, 120, 121, 122, 123, 124, 125, 126, 127, 128, 129, 130,\n",
              "       131, 132, 133, 134, 135, 136, 137, 138, 139, 140, 141, 142, 143,\n",
              "       144, 145, 146, 147, 148, 149, 150, 151, 152, 153, 154, 155, 156,\n",
              "       157, 158, 159, 160, 161, 162, 163, 164, 165, 166, 167, 168, 169,\n",
              "       170, 171, 172, 173, 174, 175, 176, 177, 178, 179, 180, 181, 182,\n",
              "       183, 184, 185, 186, 187, 188, 189, 190, 191, 192, 193, 194, 195,\n",
              "       196, 197, 198, 199, 200, 201, 202, 203, 204, 205, 206, 207, 208,\n",
              "       209, 210, 211, 212, 213, 214, 215, 216, 217, 218, 219, 220, 221,\n",
              "       222, 223, 224, 225, 226, 227, 228, 229, 230, 231, 232, 233, 234,\n",
              "       235, 236, 237, 238, 239, 240, 241, 242, 243, 244, 245, 246, 247,\n",
              "       248, 249, 250, 251, 252, 253, 254, 255, 256, 257, 258, 259, 260,\n",
              "       261, 262, 263, 264, 265, 266, 267, 268, 269, 270, 271, 272, 273,\n",
              "       274, 275, 276, 277, 278, 279, 280, 281, 282, 283, 284, 285, 286,\n",
              "       287, 288, 289, 290, 291, 292, 293, 294, 295, 296, 297, 298, 299,\n",
              "       300, 301, 302, 303, 304, 305, 306, 307, 308, 309, 310, 311, 312,\n",
              "       313, 314, 315, 316, 317, 318, 319, 320, 321, 322, 323, 324, 325,\n",
              "       326, 327, 328, 329, 330, 331, 332, 333, 334, 335, 336, 337, 338,\n",
              "       339, 340, 341, 342, 343, 344, 345, 346, 347, 348, 349, 350, 351,\n",
              "       352, 353, 354, 355, 356, 357, 358, 359, 360, 361, 362, 363, 364,\n",
              "       365, 366, 367, 368, 369, 370, 371, 372, 373, 374, 375, 376, 377,\n",
              "       378, 379, 380, 381, 382, 383, 384, 385, 386, 387, 388, 389, 390,\n",
              "       391, 392, 393, 394, 395, 396, 397, 398, 399, 400, 401, 402, 403,\n",
              "       404, 405, 406, 407, 408, 409, 410, 411, 412, 413, 414, 415, 416,\n",
              "       417, 418, 419, 420, 421, 422, 423, 424, 425, 426, 427, 428, 429,\n",
              "       430, 431, 432, 433, 434, 435, 436, 437, 438, 439, 440, 441, 442,\n",
              "       443, 444, 445, 446, 447, 448, 449, 450, 451, 452, 453, 454, 455,\n",
              "       456, 457, 458, 459, 460, 461, 462, 463, 464, 465, 466, 467, 468,\n",
              "       469, 470, 471, 472, 473, 474, 475, 476, 477, 478, 479, 480, 481,\n",
              "       482, 483, 484, 485, 486, 487, 488, 489, 490, 491, 492, 493, 494,\n",
              "       495, 496, 497, 498, 499, 500, 501, 502, 503, 504, 505, 506, 507,\n",
              "       508, 509, 510, 511, 512, 513, 514, 515, 516, 517, 518, 519, 520,\n",
              "       521, 522, 523, 524, 525, 526, 527, 528, 529, 530, 531, 532, 533,\n",
              "       534, 535, 536, 537, 538, 539, 540, 541, 542, 543, 544, 545, 546,\n",
              "       547, 548, 549, 550, 551, 552, 553, 554, 555, 556, 557, 558, 559,\n",
              "       560, 561, 562, 563, 564, 565, 566, 567, 568, 569, 570, 571, 572,\n",
              "       573, 574, 575, 576, 577, 578, 579, 580, 581, 582, 583, 584, 585,\n",
              "       586, 587, 588, 589, 590, 591, 592, 593, 594, 595, 596, 597, 598,\n",
              "       599, 600, 601, 602, 603, 604, 605, 606, 607, 608, 609, 610, 611,\n",
              "       612, 613, 614, 615, 616, 617, 618, 619, 620, 621, 622, 623, 624,\n",
              "       625, 626, 627, 628, 629, 630, 631, 632, 633, 634, 635, 636, 637,\n",
              "       638, 639, 640, 641, 642, 643, 644, 645, 646, 647, 648, 649, 650,\n",
              "       651, 652, 653, 654, 655, 656, 657, 658, 659, 660, 661, 662, 663,\n",
              "       664, 665, 666, 667, 668, 669, 670, 671, 672, 673, 674, 675, 676,\n",
              "       677, 678, 679, 680, 681, 682, 683, 684, 685, 686, 687, 688, 689,\n",
              "       690, 691, 692, 693, 694, 695, 696, 697, 698, 699, 700, 701, 702,\n",
              "       703, 704, 705, 706, 707, 708, 709, 710, 711, 712, 713, 714, 715,\n",
              "       716, 717, 718, 719, 720, 721, 722, 723, 724, 725, 726, 727, 728,\n",
              "       729, 730, 731, 732, 733, 734, 735, 736, 737, 738, 739, 740, 741,\n",
              "       742, 743, 744, 745, 746, 747, 748, 749, 750, 751, 752, 753, 754,\n",
              "       755, 756, 757, 758, 759, 760, 761, 762, 763, 764, 765, 766, 767,\n",
              "       768, 769, 770, 771, 772, 773, 774, 775, 776, 777, 778, 779, 780,\n",
              "       781, 782, 783, 784, 785, 786, 787, 788, 789, 790, 791, 792, 793,\n",
              "       794, 795, 796, 797, 798, 799, 800, 801, 802, 803, 804, 805, 806,\n",
              "       807, 808, 809, 810, 811, 812, 813, 814, 815, 816, 817, 818, 819,\n",
              "       820, 821, 822, 823, 824, 825, 826, 827, 828, 829, 830, 831, 832,\n",
              "       833, 834, 835, 836, 837, 838, 839, 840, 841, 842, 843, 844, 845,\n",
              "       846, 847, 848, 849, 850, 851, 852, 853, 854, 855, 856, 857, 858,\n",
              "       859, 860, 861, 862, 863, 864, 865, 866, 867, 868, 869, 870, 871,\n",
              "       872, 873, 874, 875, 876, 877, 878, 879, 880, 881, 882, 883, 884,\n",
              "       885, 886, 887, 888, 889, 890, 891, 892, 893, 894, 895, 896, 897,\n",
              "       898, 899, 900, 901, 902, 903, 904, 905, 906, 907, 908, 909, 910,\n",
              "       911, 912, 913, 914, 915, 916, 917, 918, 919, 920, 921, 922, 923,\n",
              "       924, 925, 926, 927, 928, 929, 930, 931, 932, 933, 934, 935, 936,\n",
              "       937, 938, 939, 940, 941, 942, 943])"
            ]
          },
          "metadata": {
            "tags": []
          },
          "execution_count": 5
        }
      ]
    },
    {
      "cell_type": "markdown",
      "metadata": {
        "id": "hsKCkeSu6QH4"
      },
      "source": [
        "## 영화 정보 로드"
      ]
    },
    {
      "cell_type": "code",
      "metadata": {
        "id": "YI0TmL9uNoDN",
        "outputId": "18dff425-232c-49b0-cec0-34ea944d05cd",
        "colab": {
          "base_uri": "https://localhost:8080/",
          "height": 195
        }
      },
      "source": [
        "# 필요한 부분만 취해서 df 구성\n",
        "movies = pd.read_csv(dir+\"u.item\", sep=\"|\", encoding='latin1', names=[\"mid\",\"title\",\"release_date\",\"video_release_date\",\"url\"], usecols=range(5))\n",
        "movies.head()"
      ],
      "execution_count": 6,
      "outputs": [
        {
          "output_type": "execute_result",
          "data": {
            "text/html": [
              "<div>\n",
              "<style scoped>\n",
              "    .dataframe tbody tr th:only-of-type {\n",
              "        vertical-align: middle;\n",
              "    }\n",
              "\n",
              "    .dataframe tbody tr th {\n",
              "        vertical-align: top;\n",
              "    }\n",
              "\n",
              "    .dataframe thead th {\n",
              "        text-align: right;\n",
              "    }\n",
              "</style>\n",
              "<table border=\"1\" class=\"dataframe\">\n",
              "  <thead>\n",
              "    <tr style=\"text-align: right;\">\n",
              "      <th></th>\n",
              "      <th>mid</th>\n",
              "      <th>title</th>\n",
              "      <th>release_date</th>\n",
              "      <th>video_release_date</th>\n",
              "      <th>url</th>\n",
              "    </tr>\n",
              "  </thead>\n",
              "  <tbody>\n",
              "    <tr>\n",
              "      <th>0</th>\n",
              "      <td>1</td>\n",
              "      <td>Toy Story (1995)</td>\n",
              "      <td>01-Jan-1995</td>\n",
              "      <td>NaN</td>\n",
              "      <td>http://us.imdb.com/M/title-exact?Toy%20Story%2...</td>\n",
              "    </tr>\n",
              "    <tr>\n",
              "      <th>1</th>\n",
              "      <td>2</td>\n",
              "      <td>GoldenEye (1995)</td>\n",
              "      <td>01-Jan-1995</td>\n",
              "      <td>NaN</td>\n",
              "      <td>http://us.imdb.com/M/title-exact?GoldenEye%20(...</td>\n",
              "    </tr>\n",
              "    <tr>\n",
              "      <th>2</th>\n",
              "      <td>3</td>\n",
              "      <td>Four Rooms (1995)</td>\n",
              "      <td>01-Jan-1995</td>\n",
              "      <td>NaN</td>\n",
              "      <td>http://us.imdb.com/M/title-exact?Four%20Rooms%...</td>\n",
              "    </tr>\n",
              "    <tr>\n",
              "      <th>3</th>\n",
              "      <td>4</td>\n",
              "      <td>Get Shorty (1995)</td>\n",
              "      <td>01-Jan-1995</td>\n",
              "      <td>NaN</td>\n",
              "      <td>http://us.imdb.com/M/title-exact?Get%20Shorty%...</td>\n",
              "    </tr>\n",
              "    <tr>\n",
              "      <th>4</th>\n",
              "      <td>5</td>\n",
              "      <td>Copycat (1995)</td>\n",
              "      <td>01-Jan-1995</td>\n",
              "      <td>NaN</td>\n",
              "      <td>http://us.imdb.com/M/title-exact?Copycat%20(1995)</td>\n",
              "    </tr>\n",
              "  </tbody>\n",
              "</table>\n",
              "</div>"
            ],
            "text/plain": [
              "   mid  ...                                                url\n",
              "0    1  ...  http://us.imdb.com/M/title-exact?Toy%20Story%2...\n",
              "1    2  ...  http://us.imdb.com/M/title-exact?GoldenEye%20(...\n",
              "2    3  ...  http://us.imdb.com/M/title-exact?Four%20Rooms%...\n",
              "3    4  ...  http://us.imdb.com/M/title-exact?Get%20Shorty%...\n",
              "4    5  ...  http://us.imdb.com/M/title-exact?Copycat%20(1995)\n",
              "\n",
              "[5 rows x 5 columns]"
            ]
          },
          "metadata": {
            "tags": []
          },
          "execution_count": 6
        }
      ]
    },
    {
      "cell_type": "code",
      "metadata": {
        "id": "hF4GWQXpOT4p",
        "outputId": "8648c4fb-bd70-4efc-fe07-260e323e2786",
        "colab": {
          "base_uri": "https://localhost:8080/",
          "height": 34
        }
      },
      "source": [
        "movies.shape"
      ],
      "execution_count": 7,
      "outputs": [
        {
          "output_type": "execute_result",
          "data": {
            "text/plain": [
              "(1682, 5)"
            ]
          },
          "metadata": {
            "tags": []
          },
          "execution_count": 7
        }
      ]
    },
    {
      "cell_type": "markdown",
      "metadata": {
        "id": "HHmT9_O-Nlxe"
      },
      "source": [
        "## 평점 정보 로드\n",
        "- u.data"
      ]
    },
    {
      "cell_type": "code",
      "metadata": {
        "id": "dFnR4Db1Owz9",
        "outputId": "7b703090-93b2-434a-e662-0b0fd612efe6",
        "colab": {
          "base_uri": "https://localhost:8080/",
          "height": 195
        }
      },
      "source": [
        "# 시간은 1970.1.1 00:00:00부터 현재까지 경과된 시간 + 09:00 (영국-한국 시차, summer time 적용 X)\n",
        "cols = [\"uid\", \"mid\", \"rate\", \"date\"]\n",
        "ratings = pd.read_csv(dir+\"u.data\", sep=\"\\t\", names=cols)\n",
        "ratings.head()"
      ],
      "execution_count": 8,
      "outputs": [
        {
          "output_type": "execute_result",
          "data": {
            "text/html": [
              "<div>\n",
              "<style scoped>\n",
              "    .dataframe tbody tr th:only-of-type {\n",
              "        vertical-align: middle;\n",
              "    }\n",
              "\n",
              "    .dataframe tbody tr th {\n",
              "        vertical-align: top;\n",
              "    }\n",
              "\n",
              "    .dataframe thead th {\n",
              "        text-align: right;\n",
              "    }\n",
              "</style>\n",
              "<table border=\"1\" class=\"dataframe\">\n",
              "  <thead>\n",
              "    <tr style=\"text-align: right;\">\n",
              "      <th></th>\n",
              "      <th>uid</th>\n",
              "      <th>mid</th>\n",
              "      <th>rate</th>\n",
              "      <th>date</th>\n",
              "    </tr>\n",
              "  </thead>\n",
              "  <tbody>\n",
              "    <tr>\n",
              "      <th>0</th>\n",
              "      <td>196</td>\n",
              "      <td>242</td>\n",
              "      <td>3</td>\n",
              "      <td>881250949</td>\n",
              "    </tr>\n",
              "    <tr>\n",
              "      <th>1</th>\n",
              "      <td>186</td>\n",
              "      <td>302</td>\n",
              "      <td>3</td>\n",
              "      <td>891717742</td>\n",
              "    </tr>\n",
              "    <tr>\n",
              "      <th>2</th>\n",
              "      <td>22</td>\n",
              "      <td>377</td>\n",
              "      <td>1</td>\n",
              "      <td>878887116</td>\n",
              "    </tr>\n",
              "    <tr>\n",
              "      <th>3</th>\n",
              "      <td>244</td>\n",
              "      <td>51</td>\n",
              "      <td>2</td>\n",
              "      <td>880606923</td>\n",
              "    </tr>\n",
              "    <tr>\n",
              "      <th>4</th>\n",
              "      <td>166</td>\n",
              "      <td>346</td>\n",
              "      <td>1</td>\n",
              "      <td>886397596</td>\n",
              "    </tr>\n",
              "  </tbody>\n",
              "</table>\n",
              "</div>"
            ],
            "text/plain": [
              "   uid  mid  rate       date\n",
              "0  196  242     3  881250949\n",
              "1  186  302     3  891717742\n",
              "2   22  377     1  878887116\n",
              "3  244   51     2  880606923\n",
              "4  166  346     1  886397596"
            ]
          },
          "metadata": {
            "tags": []
          },
          "execution_count": 8
        }
      ]
    },
    {
      "cell_type": "code",
      "metadata": {
        "id": "75Tew2upQtmQ",
        "outputId": "5c58ac23-fce6-4120-901b-808aa70d0194",
        "colab": {
          "base_uri": "https://localhost:8080/",
          "height": 195
        }
      },
      "source": [
        "# date -> YYYY-MM-DD hh:mm:ss 스타일로 조정\n",
        "ratings['date'] = pd.to_datetime(ratings['date'], unit='s')\n",
        "ratings.head()"
      ],
      "execution_count": 9,
      "outputs": [
        {
          "output_type": "execute_result",
          "data": {
            "text/html": [
              "<div>\n",
              "<style scoped>\n",
              "    .dataframe tbody tr th:only-of-type {\n",
              "        vertical-align: middle;\n",
              "    }\n",
              "\n",
              "    .dataframe tbody tr th {\n",
              "        vertical-align: top;\n",
              "    }\n",
              "\n",
              "    .dataframe thead th {\n",
              "        text-align: right;\n",
              "    }\n",
              "</style>\n",
              "<table border=\"1\" class=\"dataframe\">\n",
              "  <thead>\n",
              "    <tr style=\"text-align: right;\">\n",
              "      <th></th>\n",
              "      <th>uid</th>\n",
              "      <th>mid</th>\n",
              "      <th>rate</th>\n",
              "      <th>date</th>\n",
              "    </tr>\n",
              "  </thead>\n",
              "  <tbody>\n",
              "    <tr>\n",
              "      <th>0</th>\n",
              "      <td>196</td>\n",
              "      <td>242</td>\n",
              "      <td>3</td>\n",
              "      <td>1997-12-04 15:55:49</td>\n",
              "    </tr>\n",
              "    <tr>\n",
              "      <th>1</th>\n",
              "      <td>186</td>\n",
              "      <td>302</td>\n",
              "      <td>3</td>\n",
              "      <td>1998-04-04 19:22:22</td>\n",
              "    </tr>\n",
              "    <tr>\n",
              "      <th>2</th>\n",
              "      <td>22</td>\n",
              "      <td>377</td>\n",
              "      <td>1</td>\n",
              "      <td>1997-11-07 07:18:36</td>\n",
              "    </tr>\n",
              "    <tr>\n",
              "      <th>3</th>\n",
              "      <td>244</td>\n",
              "      <td>51</td>\n",
              "      <td>2</td>\n",
              "      <td>1997-11-27 05:02:03</td>\n",
              "    </tr>\n",
              "    <tr>\n",
              "      <th>4</th>\n",
              "      <td>166</td>\n",
              "      <td>346</td>\n",
              "      <td>1</td>\n",
              "      <td>1998-02-02 05:33:16</td>\n",
              "    </tr>\n",
              "  </tbody>\n",
              "</table>\n",
              "</div>"
            ],
            "text/plain": [
              "   uid  mid  rate                date\n",
              "0  196  242     3 1997-12-04 15:55:49\n",
              "1  186  302     3 1998-04-04 19:22:22\n",
              "2   22  377     1 1997-11-07 07:18:36\n",
              "3  244   51     2 1997-11-27 05:02:03\n",
              "4  166  346     1 1998-02-02 05:33:16"
            ]
          },
          "metadata": {
            "tags": []
          },
          "execution_count": 9
        }
      ]
    },
    {
      "cell_type": "code",
      "metadata": {
        "id": "H1XBYgGURWPS",
        "outputId": "38af36a4-9714-4f13-c080-54f5b83961ef",
        "colab": {
          "base_uri": "https://localhost:8080/",
          "height": 34
        }
      },
      "source": [
        "ratings.shape"
      ],
      "execution_count": 10,
      "outputs": [
        {
          "output_type": "execute_result",
          "data": {
            "text/plain": [
              "(100000, 4)"
            ]
          },
          "metadata": {
            "tags": []
          },
          "execution_count": 10
        }
      ]
    },
    {
      "cell_type": "markdown",
      "metadata": {
        "id": "JYsOqL8pSQAA"
      },
      "source": [
        "## 데이터 3개를 병합"
      ]
    },
    {
      "cell_type": "code",
      "metadata": {
        "id": "ZRwPom87SSBP",
        "outputId": "bcf56ec4-5643-448a-e37b-1671a4dc6439",
        "colab": {
          "base_uri": "https://localhost:8080/",
          "height": 570
        }
      },
      "source": [
        "movies_ratings = pd.merge(movies, ratings)\n",
        "movies_ratings"
      ],
      "execution_count": 11,
      "outputs": [
        {
          "output_type": "execute_result",
          "data": {
            "text/html": [
              "<div>\n",
              "<style scoped>\n",
              "    .dataframe tbody tr th:only-of-type {\n",
              "        vertical-align: middle;\n",
              "    }\n",
              "\n",
              "    .dataframe tbody tr th {\n",
              "        vertical-align: top;\n",
              "    }\n",
              "\n",
              "    .dataframe thead th {\n",
              "        text-align: right;\n",
              "    }\n",
              "</style>\n",
              "<table border=\"1\" class=\"dataframe\">\n",
              "  <thead>\n",
              "    <tr style=\"text-align: right;\">\n",
              "      <th></th>\n",
              "      <th>mid</th>\n",
              "      <th>title</th>\n",
              "      <th>release_date</th>\n",
              "      <th>video_release_date</th>\n",
              "      <th>url</th>\n",
              "      <th>uid</th>\n",
              "      <th>rate</th>\n",
              "      <th>date</th>\n",
              "    </tr>\n",
              "  </thead>\n",
              "  <tbody>\n",
              "    <tr>\n",
              "      <th>0</th>\n",
              "      <td>1</td>\n",
              "      <td>Toy Story (1995)</td>\n",
              "      <td>01-Jan-1995</td>\n",
              "      <td>NaN</td>\n",
              "      <td>http://us.imdb.com/M/title-exact?Toy%20Story%2...</td>\n",
              "      <td>308</td>\n",
              "      <td>4</td>\n",
              "      <td>1998-02-17 17:28:52</td>\n",
              "    </tr>\n",
              "    <tr>\n",
              "      <th>1</th>\n",
              "      <td>1</td>\n",
              "      <td>Toy Story (1995)</td>\n",
              "      <td>01-Jan-1995</td>\n",
              "      <td>NaN</td>\n",
              "      <td>http://us.imdb.com/M/title-exact?Toy%20Story%2...</td>\n",
              "      <td>287</td>\n",
              "      <td>5</td>\n",
              "      <td>1997-09-27 04:21:28</td>\n",
              "    </tr>\n",
              "    <tr>\n",
              "      <th>2</th>\n",
              "      <td>1</td>\n",
              "      <td>Toy Story (1995)</td>\n",
              "      <td>01-Jan-1995</td>\n",
              "      <td>NaN</td>\n",
              "      <td>http://us.imdb.com/M/title-exact?Toy%20Story%2...</td>\n",
              "      <td>148</td>\n",
              "      <td>4</td>\n",
              "      <td>1997-10-16 16:30:11</td>\n",
              "    </tr>\n",
              "    <tr>\n",
              "      <th>3</th>\n",
              "      <td>1</td>\n",
              "      <td>Toy Story (1995)</td>\n",
              "      <td>01-Jan-1995</td>\n",
              "      <td>NaN</td>\n",
              "      <td>http://us.imdb.com/M/title-exact?Toy%20Story%2...</td>\n",
              "      <td>280</td>\n",
              "      <td>4</td>\n",
              "      <td>1998-04-04 14:33:46</td>\n",
              "    </tr>\n",
              "    <tr>\n",
              "      <th>4</th>\n",
              "      <td>1</td>\n",
              "      <td>Toy Story (1995)</td>\n",
              "      <td>01-Jan-1995</td>\n",
              "      <td>NaN</td>\n",
              "      <td>http://us.imdb.com/M/title-exact?Toy%20Story%2...</td>\n",
              "      <td>66</td>\n",
              "      <td>3</td>\n",
              "      <td>1997-12-31 20:48:44</td>\n",
              "    </tr>\n",
              "    <tr>\n",
              "      <th>...</th>\n",
              "      <td>...</td>\n",
              "      <td>...</td>\n",
              "      <td>...</td>\n",
              "      <td>...</td>\n",
              "      <td>...</td>\n",
              "      <td>...</td>\n",
              "      <td>...</td>\n",
              "      <td>...</td>\n",
              "    </tr>\n",
              "    <tr>\n",
              "      <th>99995</th>\n",
              "      <td>1678</td>\n",
              "      <td>Mat' i syn (1997)</td>\n",
              "      <td>06-Feb-1998</td>\n",
              "      <td>NaN</td>\n",
              "      <td>http://us.imdb.com/M/title-exact?Mat%27+i+syn+...</td>\n",
              "      <td>863</td>\n",
              "      <td>1</td>\n",
              "      <td>1998-03-07 16:52:50</td>\n",
              "    </tr>\n",
              "    <tr>\n",
              "      <th>99996</th>\n",
              "      <td>1679</td>\n",
              "      <td>B. Monkey (1998)</td>\n",
              "      <td>06-Feb-1998</td>\n",
              "      <td>NaN</td>\n",
              "      <td>http://us.imdb.com/M/title-exact?B%2E+Monkey+(...</td>\n",
              "      <td>863</td>\n",
              "      <td>3</td>\n",
              "      <td>1998-03-07 16:51:31</td>\n",
              "    </tr>\n",
              "    <tr>\n",
              "      <th>99997</th>\n",
              "      <td>1680</td>\n",
              "      <td>Sliding Doors (1998)</td>\n",
              "      <td>01-Jan-1998</td>\n",
              "      <td>NaN</td>\n",
              "      <td>http://us.imdb.com/Title?Sliding+Doors+(1998)</td>\n",
              "      <td>863</td>\n",
              "      <td>2</td>\n",
              "      <td>1998-03-07 16:52:50</td>\n",
              "    </tr>\n",
              "    <tr>\n",
              "      <th>99998</th>\n",
              "      <td>1681</td>\n",
              "      <td>You So Crazy (1994)</td>\n",
              "      <td>01-Jan-1994</td>\n",
              "      <td>NaN</td>\n",
              "      <td>http://us.imdb.com/M/title-exact?You%20So%20Cr...</td>\n",
              "      <td>896</td>\n",
              "      <td>3</td>\n",
              "      <td>1998-02-11 01:32:02</td>\n",
              "    </tr>\n",
              "    <tr>\n",
              "      <th>99999</th>\n",
              "      <td>1682</td>\n",
              "      <td>Scream of Stone (Schrei aus Stein) (1991)</td>\n",
              "      <td>08-Mar-1996</td>\n",
              "      <td>NaN</td>\n",
              "      <td>http://us.imdb.com/M/title-exact?Schrei%20aus%...</td>\n",
              "      <td>916</td>\n",
              "      <td>3</td>\n",
              "      <td>1997-11-29 23:22:35</td>\n",
              "    </tr>\n",
              "  </tbody>\n",
              "</table>\n",
              "<p>100000 rows × 8 columns</p>\n",
              "</div>"
            ],
            "text/plain": [
              "        mid  ...                date\n",
              "0         1  ... 1998-02-17 17:28:52\n",
              "1         1  ... 1997-09-27 04:21:28\n",
              "2         1  ... 1997-10-16 16:30:11\n",
              "3         1  ... 1998-04-04 14:33:46\n",
              "4         1  ... 1997-12-31 20:48:44\n",
              "...     ...  ...                 ...\n",
              "99995  1678  ... 1998-03-07 16:52:50\n",
              "99996  1679  ... 1998-03-07 16:51:31\n",
              "99997  1680  ... 1998-03-07 16:52:50\n",
              "99998  1681  ... 1998-02-11 01:32:02\n",
              "99999  1682  ... 1997-11-29 23:22:35\n",
              "\n",
              "[100000 rows x 8 columns]"
            ]
          },
          "metadata": {
            "tags": []
          },
          "execution_count": 11
        }
      ]
    },
    {
      "cell_type": "code",
      "metadata": {
        "id": "xfeOmoabSeSS",
        "outputId": "3bc92426-54af-4944-e5f8-b24e0d576219",
        "colab": {
          "base_uri": "https://localhost:8080/",
          "height": 34
        }
      },
      "source": [
        "movies_ratings.shape\n",
        "# movie는 1682개, ratings는 10000개인데 병합해서 10000개 나옴 => 리뷰 기준으로 데이터가 세팅되고, movie데이터는 중복적으로 많이 등장한다."
      ],
      "execution_count": 12,
      "outputs": [
        {
          "output_type": "execute_result",
          "data": {
            "text/plain": [
              "(100000, 8)"
            ]
          },
          "metadata": {
            "tags": []
          },
          "execution_count": 12
        }
      ]
    },
    {
      "cell_type": "code",
      "metadata": {
        "id": "FhKa6zqmSjvm",
        "outputId": "f9ca0f57-2246-4a62-fe3c-d2a3090d415b",
        "colab": {
          "base_uri": "https://localhost:8080/",
          "height": 570
        }
      },
      "source": [
        "movies_ratings_users = pd.merge(movies_ratings, users)\n",
        "movies_ratings_users"
      ],
      "execution_count": 13,
      "outputs": [
        {
          "output_type": "execute_result",
          "data": {
            "text/html": [
              "<div>\n",
              "<style scoped>\n",
              "    .dataframe tbody tr th:only-of-type {\n",
              "        vertical-align: middle;\n",
              "    }\n",
              "\n",
              "    .dataframe tbody tr th {\n",
              "        vertical-align: top;\n",
              "    }\n",
              "\n",
              "    .dataframe thead th {\n",
              "        text-align: right;\n",
              "    }\n",
              "</style>\n",
              "<table border=\"1\" class=\"dataframe\">\n",
              "  <thead>\n",
              "    <tr style=\"text-align: right;\">\n",
              "      <th></th>\n",
              "      <th>mid</th>\n",
              "      <th>title</th>\n",
              "      <th>release_date</th>\n",
              "      <th>video_release_date</th>\n",
              "      <th>url</th>\n",
              "      <th>uid</th>\n",
              "      <th>rate</th>\n",
              "      <th>date</th>\n",
              "      <th>age</th>\n",
              "      <th>s</th>\n",
              "      <th>job</th>\n",
              "      <th>zip_code</th>\n",
              "    </tr>\n",
              "  </thead>\n",
              "  <tbody>\n",
              "    <tr>\n",
              "      <th>0</th>\n",
              "      <td>1</td>\n",
              "      <td>Toy Story (1995)</td>\n",
              "      <td>01-Jan-1995</td>\n",
              "      <td>NaN</td>\n",
              "      <td>http://us.imdb.com/M/title-exact?Toy%20Story%2...</td>\n",
              "      <td>308</td>\n",
              "      <td>4</td>\n",
              "      <td>1998-02-17 17:28:52</td>\n",
              "      <td>60</td>\n",
              "      <td>M</td>\n",
              "      <td>retired</td>\n",
              "      <td>95076</td>\n",
              "    </tr>\n",
              "    <tr>\n",
              "      <th>1</th>\n",
              "      <td>4</td>\n",
              "      <td>Get Shorty (1995)</td>\n",
              "      <td>01-Jan-1995</td>\n",
              "      <td>NaN</td>\n",
              "      <td>http://us.imdb.com/M/title-exact?Get%20Shorty%...</td>\n",
              "      <td>308</td>\n",
              "      <td>5</td>\n",
              "      <td>1998-02-17 17:51:30</td>\n",
              "      <td>60</td>\n",
              "      <td>M</td>\n",
              "      <td>retired</td>\n",
              "      <td>95076</td>\n",
              "    </tr>\n",
              "    <tr>\n",
              "      <th>2</th>\n",
              "      <td>5</td>\n",
              "      <td>Copycat (1995)</td>\n",
              "      <td>01-Jan-1995</td>\n",
              "      <td>NaN</td>\n",
              "      <td>http://us.imdb.com/M/title-exact?Copycat%20(1995)</td>\n",
              "      <td>308</td>\n",
              "      <td>4</td>\n",
              "      <td>1998-02-17 18:20:08</td>\n",
              "      <td>60</td>\n",
              "      <td>M</td>\n",
              "      <td>retired</td>\n",
              "      <td>95076</td>\n",
              "    </tr>\n",
              "    <tr>\n",
              "      <th>3</th>\n",
              "      <td>7</td>\n",
              "      <td>Twelve Monkeys (1995)</td>\n",
              "      <td>01-Jan-1995</td>\n",
              "      <td>NaN</td>\n",
              "      <td>http://us.imdb.com/M/title-exact?Twelve%20Monk...</td>\n",
              "      <td>308</td>\n",
              "      <td>4</td>\n",
              "      <td>1998-02-17 18:07:27</td>\n",
              "      <td>60</td>\n",
              "      <td>M</td>\n",
              "      <td>retired</td>\n",
              "      <td>95076</td>\n",
              "    </tr>\n",
              "    <tr>\n",
              "      <th>4</th>\n",
              "      <td>8</td>\n",
              "      <td>Babe (1995)</td>\n",
              "      <td>01-Jan-1995</td>\n",
              "      <td>NaN</td>\n",
              "      <td>http://us.imdb.com/M/title-exact?Babe%20(1995)</td>\n",
              "      <td>308</td>\n",
              "      <td>5</td>\n",
              "      <td>1998-02-17 17:31:36</td>\n",
              "      <td>60</td>\n",
              "      <td>M</td>\n",
              "      <td>retired</td>\n",
              "      <td>95076</td>\n",
              "    </tr>\n",
              "    <tr>\n",
              "      <th>...</th>\n",
              "      <td>...</td>\n",
              "      <td>...</td>\n",
              "      <td>...</td>\n",
              "      <td>...</td>\n",
              "      <td>...</td>\n",
              "      <td>...</td>\n",
              "      <td>...</td>\n",
              "      <td>...</td>\n",
              "      <td>...</td>\n",
              "      <td>...</td>\n",
              "      <td>...</td>\n",
              "      <td>...</td>\n",
              "    </tr>\n",
              "    <tr>\n",
              "      <th>99995</th>\n",
              "      <td>748</td>\n",
              "      <td>Saint, The (1997)</td>\n",
              "      <td>14-Mar-1997</td>\n",
              "      <td>NaN</td>\n",
              "      <td>http://us.imdb.com/M/title-exact?Saint%2C%20Th...</td>\n",
              "      <td>729</td>\n",
              "      <td>4</td>\n",
              "      <td>1998-04-22 23:10:38</td>\n",
              "      <td>19</td>\n",
              "      <td>M</td>\n",
              "      <td>student</td>\n",
              "      <td>56567</td>\n",
              "    </tr>\n",
              "    <tr>\n",
              "      <th>99996</th>\n",
              "      <td>751</td>\n",
              "      <td>Tomorrow Never Dies (1997)</td>\n",
              "      <td>01-Jan-1997</td>\n",
              "      <td>NaN</td>\n",
              "      <td>http://us.imdb.com/M/title-exact?imdb-title-12...</td>\n",
              "      <td>729</td>\n",
              "      <td>3</td>\n",
              "      <td>1998-04-22 23:05:38</td>\n",
              "      <td>19</td>\n",
              "      <td>M</td>\n",
              "      <td>student</td>\n",
              "      <td>56567</td>\n",
              "    </tr>\n",
              "    <tr>\n",
              "      <th>99997</th>\n",
              "      <td>879</td>\n",
              "      <td>Peacemaker, The (1997)</td>\n",
              "      <td>01-Jan-1997</td>\n",
              "      <td>NaN</td>\n",
              "      <td>http://us.imdb.com/M/title-exact?Peacemaker%2C...</td>\n",
              "      <td>729</td>\n",
              "      <td>3</td>\n",
              "      <td>1998-04-22 23:04:59</td>\n",
              "      <td>19</td>\n",
              "      <td>M</td>\n",
              "      <td>student</td>\n",
              "      <td>56567</td>\n",
              "    </tr>\n",
              "    <tr>\n",
              "      <th>99998</th>\n",
              "      <td>894</td>\n",
              "      <td>Home Alone 3 (1997)</td>\n",
              "      <td>01-Jan-1997</td>\n",
              "      <td>NaN</td>\n",
              "      <td>http://us.imdb.com/M/title-exact?imdb-title-11...</td>\n",
              "      <td>729</td>\n",
              "      <td>1</td>\n",
              "      <td>1998-04-22 23:08:31</td>\n",
              "      <td>19</td>\n",
              "      <td>M</td>\n",
              "      <td>student</td>\n",
              "      <td>56567</td>\n",
              "    </tr>\n",
              "    <tr>\n",
              "      <th>99999</th>\n",
              "      <td>901</td>\n",
              "      <td>Mr. Magoo (1997)</td>\n",
              "      <td>25-Dec-1997</td>\n",
              "      <td>NaN</td>\n",
              "      <td>http://us.imdb.com/M/title-exact?imdb-title-11...</td>\n",
              "      <td>729</td>\n",
              "      <td>1</td>\n",
              "      <td>1998-04-22 23:08:11</td>\n",
              "      <td>19</td>\n",
              "      <td>M</td>\n",
              "      <td>student</td>\n",
              "      <td>56567</td>\n",
              "    </tr>\n",
              "  </tbody>\n",
              "</table>\n",
              "<p>100000 rows × 12 columns</p>\n",
              "</div>"
            ],
            "text/plain": [
              "       mid                       title release_date  ...  s      job  zip_code\n",
              "0        1            Toy Story (1995)  01-Jan-1995  ...  M  retired     95076\n",
              "1        4           Get Shorty (1995)  01-Jan-1995  ...  M  retired     95076\n",
              "2        5              Copycat (1995)  01-Jan-1995  ...  M  retired     95076\n",
              "3        7       Twelve Monkeys (1995)  01-Jan-1995  ...  M  retired     95076\n",
              "4        8                 Babe (1995)  01-Jan-1995  ...  M  retired     95076\n",
              "...    ...                         ...          ...  ... ..      ...       ...\n",
              "99995  748           Saint, The (1997)  14-Mar-1997  ...  M  student     56567\n",
              "99996  751  Tomorrow Never Dies (1997)  01-Jan-1997  ...  M  student     56567\n",
              "99997  879      Peacemaker, The (1997)  01-Jan-1997  ...  M  student     56567\n",
              "99998  894         Home Alone 3 (1997)  01-Jan-1997  ...  M  student     56567\n",
              "99999  901            Mr. Magoo (1997)  25-Dec-1997  ...  M  student     56567\n",
              "\n",
              "[100000 rows x 12 columns]"
            ]
          },
          "metadata": {
            "tags": []
          },
          "execution_count": 13
        }
      ]
    },
    {
      "cell_type": "code",
      "metadata": {
        "id": "f0fpjBJiS5u9",
        "outputId": "ba2dfc27-194e-4319-fc1d-504e04a547c4",
        "colab": {
          "base_uri": "https://localhost:8080/",
          "height": 34
        }
      },
      "source": [
        "movies_ratings_users.shape"
      ],
      "execution_count": 14,
      "outputs": [
        {
          "output_type": "execute_result",
          "data": {
            "text/plain": [
              "(100000, 12)"
            ]
          },
          "metadata": {
            "tags": []
          },
          "execution_count": 14
        }
      ]
    },
    {
      "cell_type": "markdown",
      "metadata": {
        "id": "7e3GAMj_2bYO"
      },
      "source": [
        "# 데이터 분석\n",
        "- 특성, 데이터의 성향 등을 확인해보도록 한다."
      ]
    },
    {
      "cell_type": "code",
      "metadata": {
        "id": "fp4_pefBS8km"
      },
      "source": [
        "# 사본 획득\n",
        "mru_tmp = movies_ratings_users[:]"
      ],
      "execution_count": 15,
      "outputs": []
    },
    {
      "cell_type": "code",
      "metadata": {
        "id": "RTVBGXteTeEF",
        "outputId": "077e3df3-c3ea-4189-c031-2c85a6bff5ed",
        "colab": {
          "base_uri": "https://localhost:8080/",
          "height": 210
        }
      },
      "source": [
        "# 평가를 가장 많이 받은 작품들 중 상위 10개만 출력하시오.(제목, 평가수)\n",
        "mru_tmp.title.value_counts()[:10]"
      ],
      "execution_count": 16,
      "outputs": [
        {
          "output_type": "execute_result",
          "data": {
            "text/plain": [
              "Star Wars (1977)                 583\n",
              "Contact (1997)                   509\n",
              "Fargo (1996)                     508\n",
              "Return of the Jedi (1983)        507\n",
              "Liar Liar (1997)                 485\n",
              "English Patient, The (1996)      481\n",
              "Scream (1996)                    478\n",
              "Toy Story (1995)                 452\n",
              "Air Force One (1997)             431\n",
              "Independence Day (ID4) (1996)    429\n",
              "Name: title, dtype: int64"
            ]
          },
          "metadata": {
            "tags": []
          },
          "execution_count": 16
        }
      ]
    },
    {
      "cell_type": "code",
      "metadata": {
        "id": "K2CtcGUEV9GM",
        "outputId": "ee38de84-f4e9-4da0-9506-d7011b21aeb2",
        "colab": {
          "base_uri": "https://localhost:8080/",
          "height": 122
        }
      },
      "source": [
        "# 하위 5개\n",
        "mru_tmp.title.value_counts()[-5:]"
      ],
      "execution_count": 17,
      "outputs": [
        {
          "output_type": "execute_result",
          "data": {
            "text/plain": [
              "Niagara, Niagara (1997)                      1\n",
              "Vermont Is For Lovers (1992)                 1\n",
              "Small Faces (1995)                           1\n",
              "Scream of Stone (Schrei aus Stein) (1991)    1\n",
              "Woman in Question, The (1950)                1\n",
              "Name: title, dtype: int64"
            ]
          },
          "metadata": {
            "tags": []
          },
          "execution_count": 17
        }
      ]
    },
    {
      "cell_type": "code",
      "metadata": {
        "id": "cQPzFcoJWM31",
        "outputId": "05bd7814-dd55-450a-91fb-67e72765c48c",
        "colab": {
          "base_uri": "https://localhost:8080/",
          "height": 34
        }
      },
      "source": [
        "# 전체 영화 중에서 평점이 1개만 존재하는 영화의 비율\n",
        "# ( 평가를 1개 받은 영화수 / 전체 영화수) * 100\n",
        "tmp = mru_tmp.title.value_counts()\n",
        "tmp_a = tmp[tmp == 1]\n",
        "( tmp_a.shape[0] / movies.shape[0] ) * 100\n",
        "# 7.97%가 평가를 한개만 받았다. -> 빈익빈 부익부 형태가 일단 보인다. 유명한 작품들만 리뷰가 많은 것 같은 형태가 보인다. (더 체크해봐야겠지만, 좀 더 검토 수행할 필요 有) "
      ],
      "execution_count": 18,
      "outputs": [
        {
          "output_type": "execute_result",
          "data": {
            "text/plain": [
              "7.966706302021404"
            ]
          },
          "metadata": {
            "tags": []
          },
          "execution_count": 18
        }
      ]
    },
    {
      "cell_type": "code",
      "metadata": {
        "id": "59KrRMRibQgT",
        "outputId": "0e6743f9-58b6-474d-f327-e562f9e86e81",
        "colab": {
          "base_uri": "https://localhost:8080/",
          "height": 461
        }
      },
      "source": [
        "# 제목 기준으로 평가의 개수와 평점의 평균을 컬럼을 가진 df를 구성하시오\n",
        "# 인덱스는 제목, 컬럼은 평가개수, 평균평점\n",
        "movies_state = mru_tmp.groupby( 'title' ).agg( { 'rate' : [ np.size, np.mean ] } )\n",
        "movies_state"
      ],
      "execution_count": 19,
      "outputs": [
        {
          "output_type": "execute_result",
          "data": {
            "text/html": [
              "<div>\n",
              "<style scoped>\n",
              "    .dataframe tbody tr th:only-of-type {\n",
              "        vertical-align: middle;\n",
              "    }\n",
              "\n",
              "    .dataframe tbody tr th {\n",
              "        vertical-align: top;\n",
              "    }\n",
              "\n",
              "    .dataframe thead tr th {\n",
              "        text-align: left;\n",
              "    }\n",
              "\n",
              "    .dataframe thead tr:last-of-type th {\n",
              "        text-align: right;\n",
              "    }\n",
              "</style>\n",
              "<table border=\"1\" class=\"dataframe\">\n",
              "  <thead>\n",
              "    <tr>\n",
              "      <th></th>\n",
              "      <th colspan=\"2\" halign=\"left\">rate</th>\n",
              "    </tr>\n",
              "    <tr>\n",
              "      <th></th>\n",
              "      <th>size</th>\n",
              "      <th>mean</th>\n",
              "    </tr>\n",
              "    <tr>\n",
              "      <th>title</th>\n",
              "      <th></th>\n",
              "      <th></th>\n",
              "    </tr>\n",
              "  </thead>\n",
              "  <tbody>\n",
              "    <tr>\n",
              "      <th>'Til There Was You (1997)</th>\n",
              "      <td>9</td>\n",
              "      <td>2.333333</td>\n",
              "    </tr>\n",
              "    <tr>\n",
              "      <th>1-900 (1994)</th>\n",
              "      <td>5</td>\n",
              "      <td>2.600000</td>\n",
              "    </tr>\n",
              "    <tr>\n",
              "      <th>101 Dalmatians (1996)</th>\n",
              "      <td>109</td>\n",
              "      <td>2.908257</td>\n",
              "    </tr>\n",
              "    <tr>\n",
              "      <th>12 Angry Men (1957)</th>\n",
              "      <td>125</td>\n",
              "      <td>4.344000</td>\n",
              "    </tr>\n",
              "    <tr>\n",
              "      <th>187 (1997)</th>\n",
              "      <td>41</td>\n",
              "      <td>3.024390</td>\n",
              "    </tr>\n",
              "    <tr>\n",
              "      <th>...</th>\n",
              "      <td>...</td>\n",
              "      <td>...</td>\n",
              "    </tr>\n",
              "    <tr>\n",
              "      <th>Young Guns II (1990)</th>\n",
              "      <td>44</td>\n",
              "      <td>2.772727</td>\n",
              "    </tr>\n",
              "    <tr>\n",
              "      <th>Young Poisoner's Handbook, The (1995)</th>\n",
              "      <td>41</td>\n",
              "      <td>3.341463</td>\n",
              "    </tr>\n",
              "    <tr>\n",
              "      <th>Zeus and Roxanne (1997)</th>\n",
              "      <td>6</td>\n",
              "      <td>2.166667</td>\n",
              "    </tr>\n",
              "    <tr>\n",
              "      <th>unknown</th>\n",
              "      <td>9</td>\n",
              "      <td>3.444444</td>\n",
              "    </tr>\n",
              "    <tr>\n",
              "      <th>ï¿½ kï¿½ldum klaka (Cold Fever) (1994)</th>\n",
              "      <td>1</td>\n",
              "      <td>3.000000</td>\n",
              "    </tr>\n",
              "  </tbody>\n",
              "</table>\n",
              "<p>1664 rows × 2 columns</p>\n",
              "</div>"
            ],
            "text/plain": [
              "                                       rate          \n",
              "                                       size      mean\n",
              "title                                                \n",
              "'Til There Was You (1997)                 9  2.333333\n",
              "1-900 (1994)                              5  2.600000\n",
              "101 Dalmatians (1996)                   109  2.908257\n",
              "12 Angry Men (1957)                     125  4.344000\n",
              "187 (1997)                               41  3.024390\n",
              "...                                     ...       ...\n",
              "Young Guns II (1990)                     44  2.772727\n",
              "Young Poisoner's Handbook, The (1995)    41  3.341463\n",
              "Zeus and Roxanne (1997)                   6  2.166667\n",
              "unknown                                   9  3.444444\n",
              "ï¿½ kï¿½ldum klaka (Cold Fever) (1994)    1  3.000000\n",
              "\n",
              "[1664 rows x 2 columns]"
            ]
          },
          "metadata": {
            "tags": []
          },
          "execution_count": 19
        }
      ]
    },
    {
      "cell_type": "code",
      "metadata": {
        "id": "nLVVdnrXby9j",
        "outputId": "66bda573-51a8-4c25-f605-34f99314ba29",
        "colab": {
          "base_uri": "https://localhost:8080/",
          "height": 461
        }
      },
      "source": [
        "# 이중에서 평가를 100개 이상 받은 데이터만 모은다.\n",
        "movies_100_over = movies_state[ movies_state[ 'rate' ][ 'size' ] >= 100 ]\n",
        "movies_100_over"
      ],
      "execution_count": 20,
      "outputs": [
        {
          "output_type": "execute_result",
          "data": {
            "text/html": [
              "<div>\n",
              "<style scoped>\n",
              "    .dataframe tbody tr th:only-of-type {\n",
              "        vertical-align: middle;\n",
              "    }\n",
              "\n",
              "    .dataframe tbody tr th {\n",
              "        vertical-align: top;\n",
              "    }\n",
              "\n",
              "    .dataframe thead tr th {\n",
              "        text-align: left;\n",
              "    }\n",
              "\n",
              "    .dataframe thead tr:last-of-type th {\n",
              "        text-align: right;\n",
              "    }\n",
              "</style>\n",
              "<table border=\"1\" class=\"dataframe\">\n",
              "  <thead>\n",
              "    <tr>\n",
              "      <th></th>\n",
              "      <th colspan=\"2\" halign=\"left\">rate</th>\n",
              "    </tr>\n",
              "    <tr>\n",
              "      <th></th>\n",
              "      <th>size</th>\n",
              "      <th>mean</th>\n",
              "    </tr>\n",
              "    <tr>\n",
              "      <th>title</th>\n",
              "      <th></th>\n",
              "      <th></th>\n",
              "    </tr>\n",
              "  </thead>\n",
              "  <tbody>\n",
              "    <tr>\n",
              "      <th>101 Dalmatians (1996)</th>\n",
              "      <td>109</td>\n",
              "      <td>2.908257</td>\n",
              "    </tr>\n",
              "    <tr>\n",
              "      <th>12 Angry Men (1957)</th>\n",
              "      <td>125</td>\n",
              "      <td>4.344000</td>\n",
              "    </tr>\n",
              "    <tr>\n",
              "      <th>2001: A Space Odyssey (1968)</th>\n",
              "      <td>259</td>\n",
              "      <td>3.969112</td>\n",
              "    </tr>\n",
              "    <tr>\n",
              "      <th>Absolute Power (1997)</th>\n",
              "      <td>127</td>\n",
              "      <td>3.370079</td>\n",
              "    </tr>\n",
              "    <tr>\n",
              "      <th>Abyss, The (1989)</th>\n",
              "      <td>151</td>\n",
              "      <td>3.589404</td>\n",
              "    </tr>\n",
              "    <tr>\n",
              "      <th>...</th>\n",
              "      <td>...</td>\n",
              "      <td>...</td>\n",
              "    </tr>\n",
              "    <tr>\n",
              "      <th>Willy Wonka and the Chocolate Factory (1971)</th>\n",
              "      <td>326</td>\n",
              "      <td>3.631902</td>\n",
              "    </tr>\n",
              "    <tr>\n",
              "      <th>Wizard of Oz, The (1939)</th>\n",
              "      <td>246</td>\n",
              "      <td>4.077236</td>\n",
              "    </tr>\n",
              "    <tr>\n",
              "      <th>Wrong Trousers, The (1993)</th>\n",
              "      <td>118</td>\n",
              "      <td>4.466102</td>\n",
              "    </tr>\n",
              "    <tr>\n",
              "      <th>Young Frankenstein (1974)</th>\n",
              "      <td>200</td>\n",
              "      <td>3.945000</td>\n",
              "    </tr>\n",
              "    <tr>\n",
              "      <th>Young Guns (1988)</th>\n",
              "      <td>101</td>\n",
              "      <td>3.207921</td>\n",
              "    </tr>\n",
              "  </tbody>\n",
              "</table>\n",
              "<p>338 rows × 2 columns</p>\n",
              "</div>"
            ],
            "text/plain": [
              "                                             rate          \n",
              "                                             size      mean\n",
              "title                                                      \n",
              "101 Dalmatians (1996)                         109  2.908257\n",
              "12 Angry Men (1957)                           125  4.344000\n",
              "2001: A Space Odyssey (1968)                  259  3.969112\n",
              "Absolute Power (1997)                         127  3.370079\n",
              "Abyss, The (1989)                             151  3.589404\n",
              "...                                           ...       ...\n",
              "Willy Wonka and the Chocolate Factory (1971)  326  3.631902\n",
              "Wizard of Oz, The (1939)                      246  4.077236\n",
              "Wrong Trousers, The (1993)                    118  4.466102\n",
              "Young Frankenstein (1974)                     200  3.945000\n",
              "Young Guns (1988)                             101  3.207921\n",
              "\n",
              "[338 rows x 2 columns]"
            ]
          },
          "metadata": {
            "tags": []
          },
          "execution_count": 20
        }
      ]
    },
    {
      "cell_type": "code",
      "metadata": {
        "id": "6W02mmCCcjXC",
        "outputId": "c169723c-94b6-4f6f-80bf-765ef95702c2",
        "colab": {
          "base_uri": "https://localhost:8080/",
          "height": 461
        }
      },
      "source": [
        "# 평균 기준으로 정렬, 컬럼이 2 level인 경우\n",
        "# 리뷰의 의미를 100개 이상 받은 것만 데이터로 간주하겠다. (설정)\n",
        "movies_100_over_sorted = movies_100_over.sort_values(by=[ ('rate', 'mean') ], ascending=False)\n",
        "movies_100_over_sorted"
      ],
      "execution_count": 21,
      "outputs": [
        {
          "output_type": "execute_result",
          "data": {
            "text/html": [
              "<div>\n",
              "<style scoped>\n",
              "    .dataframe tbody tr th:only-of-type {\n",
              "        vertical-align: middle;\n",
              "    }\n",
              "\n",
              "    .dataframe tbody tr th {\n",
              "        vertical-align: top;\n",
              "    }\n",
              "\n",
              "    .dataframe thead tr th {\n",
              "        text-align: left;\n",
              "    }\n",
              "\n",
              "    .dataframe thead tr:last-of-type th {\n",
              "        text-align: right;\n",
              "    }\n",
              "</style>\n",
              "<table border=\"1\" class=\"dataframe\">\n",
              "  <thead>\n",
              "    <tr>\n",
              "      <th></th>\n",
              "      <th colspan=\"2\" halign=\"left\">rate</th>\n",
              "    </tr>\n",
              "    <tr>\n",
              "      <th></th>\n",
              "      <th>size</th>\n",
              "      <th>mean</th>\n",
              "    </tr>\n",
              "    <tr>\n",
              "      <th>title</th>\n",
              "      <th></th>\n",
              "      <th></th>\n",
              "    </tr>\n",
              "  </thead>\n",
              "  <tbody>\n",
              "    <tr>\n",
              "      <th>Close Shave, A (1995)</th>\n",
              "      <td>112</td>\n",
              "      <td>4.491071</td>\n",
              "    </tr>\n",
              "    <tr>\n",
              "      <th>Schindler's List (1993)</th>\n",
              "      <td>298</td>\n",
              "      <td>4.466443</td>\n",
              "    </tr>\n",
              "    <tr>\n",
              "      <th>Wrong Trousers, The (1993)</th>\n",
              "      <td>118</td>\n",
              "      <td>4.466102</td>\n",
              "    </tr>\n",
              "    <tr>\n",
              "      <th>Casablanca (1942)</th>\n",
              "      <td>243</td>\n",
              "      <td>4.456790</td>\n",
              "    </tr>\n",
              "    <tr>\n",
              "      <th>Shawshank Redemption, The (1994)</th>\n",
              "      <td>283</td>\n",
              "      <td>4.445230</td>\n",
              "    </tr>\n",
              "    <tr>\n",
              "      <th>...</th>\n",
              "      <td>...</td>\n",
              "      <td>...</td>\n",
              "    </tr>\n",
              "    <tr>\n",
              "      <th>Spawn (1997)</th>\n",
              "      <td>143</td>\n",
              "      <td>2.615385</td>\n",
              "    </tr>\n",
              "    <tr>\n",
              "      <th>Event Horizon (1997)</th>\n",
              "      <td>127</td>\n",
              "      <td>2.574803</td>\n",
              "    </tr>\n",
              "    <tr>\n",
              "      <th>Crash (1996)</th>\n",
              "      <td>128</td>\n",
              "      <td>2.546875</td>\n",
              "    </tr>\n",
              "    <tr>\n",
              "      <th>Jungle2Jungle (1997)</th>\n",
              "      <td>132</td>\n",
              "      <td>2.439394</td>\n",
              "    </tr>\n",
              "    <tr>\n",
              "      <th>Cable Guy, The (1996)</th>\n",
              "      <td>106</td>\n",
              "      <td>2.339623</td>\n",
              "    </tr>\n",
              "  </tbody>\n",
              "</table>\n",
              "<p>338 rows × 2 columns</p>\n",
              "</div>"
            ],
            "text/plain": [
              "                                 rate          \n",
              "                                 size      mean\n",
              "title                                          \n",
              "Close Shave, A (1995)             112  4.491071\n",
              "Schindler's List (1993)           298  4.466443\n",
              "Wrong Trousers, The (1993)        118  4.466102\n",
              "Casablanca (1942)                 243  4.456790\n",
              "Shawshank Redemption, The (1994)  283  4.445230\n",
              "...                               ...       ...\n",
              "Spawn (1997)                      143  2.615385\n",
              "Event Horizon (1997)              127  2.574803\n",
              "Crash (1996)                      128  2.546875\n",
              "Jungle2Jungle (1997)              132  2.439394\n",
              "Cable Guy, The (1996)             106  2.339623\n",
              "\n",
              "[338 rows x 2 columns]"
            ]
          },
          "metadata": {
            "tags": []
          },
          "execution_count": 21
        }
      ]
    },
    {
      "cell_type": "code",
      "metadata": {
        "id": "rEt9Y5vqc5mX",
        "outputId": "ba21cd79-2296-461b-b42e-3116db31cddd",
        "colab": {
          "base_uri": "https://localhost:8080/",
          "height": 140
        }
      },
      "source": [
        "# 회원 기준에서 평가를 얼마나 했는가\n",
        "# 사용자별 평가 횟수\n",
        "tmp = mru_tmp.groupby('uid').size()\n",
        "tmp.sort_values( ascending=False ).head()"
      ],
      "execution_count": 22,
      "outputs": [
        {
          "output_type": "execute_result",
          "data": {
            "text/plain": [
              "uid\n",
              "405    737\n",
              "655    685\n",
              "13     636\n",
              "450    540\n",
              "276    518\n",
              "dtype: int64"
            ]
          },
          "metadata": {
            "tags": []
          },
          "execution_count": 22
        }
      ]
    },
    {
      "cell_type": "code",
      "metadata": {
        "id": "bRgAOo-3dt7S"
      },
      "source": [
        "import matplotlib.pyplot as plt\n",
        "%matplotlib inline"
      ],
      "execution_count": 23,
      "outputs": []
    },
    {
      "cell_type": "code",
      "metadata": {
        "id": "tueZFrSadaAm",
        "outputId": "050970a3-15d5-427f-d78f-eb5ba86ce907",
        "colab": {
          "base_uri": "https://localhost:8080/",
          "height": 282
        }
      },
      "source": [
        "plt.style.use('ggplot')\n",
        "tmp.sort_values( ascending=False ).hist()\n",
        "# x축이 리뷰 수, y축이 고객 수\n",
        "# 리뷰의 수가 적을수록 많은 분포되어 있고, 리뷰를 많이 남긴 다른 사람은 점점 소수로 전개된다. (리뷰를 적게 남긴 사람이 많다.)\n",
        "# 소수의 사람들이 대다수의 리뷰를 반복적으로 쓰고 있다.\n",
        "# 아래와 같은 그래프를 롱테일분포(지프의 법칙을 따르는 데이터 굴곡 형태)라고 한다.\n",
        "# 영화의 평가 개수가 많으면 많을수록 1번만 평가한 데이터도 많아진다."
      ],
      "execution_count": 24,
      "outputs": [
        {
          "output_type": "execute_result",
          "data": {
            "text/plain": [
              "<matplotlib.axes._subplots.AxesSubplot at 0x7ff79d1c7048>"
            ]
          },
          "metadata": {
            "tags": []
          },
          "execution_count": 24
        },
        {
          "output_type": "display_data",
          "data": {
            "image/png": "[encoded data removed]",
            "text/plain": [
              "<Figure size 432x288 with 1 Axes>"
            ]
          },
          "metadata": {
            "tags": []
          }
        }
      ]
    },
    {
      "cell_type": "markdown",
      "metadata": {
        "id": "WikbdKBX2bkW"
      },
      "source": [
        "# 모델 구축\n",
        "- libFM(fastlib, ..,) 을 파이썬으로 wrapping한 버전 => fastFM\n",
        "- 설치\n",
        "  - !pip install fastFM"
      ]
    },
    {
      "cell_type": "code",
      "metadata": {
        "id": "BwUI_RuBd63T",
        "outputId": "fba6d8c7-5122-4452-ecaa-61e2e58e677d",
        "colab": {
          "base_uri": "https://localhost:8080/",
          "height": 213
        }
      },
      "source": [
        "!pip install fastFM"
      ],
      "execution_count": 25,
      "outputs": [
        {
          "output_type": "stream",
          "text": [
            "Collecting fastFM\n",
            "\u001b[?25l  Downloading https://files.pythonhosted.org/packages/f5/15/fdbb9b9455efa48ffb07b9880a1e567e0c7a7de0acc4aa7f1c5ba9ce4f2c/fastFM-0.2.11-cp36-cp36m-manylinux1_x86_64.whl (483kB)\n",
            "\r\u001b[K     |▊                               | 10kB 15.4MB/s eta 0:00:01\r\u001b[K     |█▍                              | 20kB 3.4MB/s eta 0:00:01\r\u001b[K     |██                              | 30kB 4.2MB/s eta 0:00:01\r\u001b[K     |██▊                             | 40kB 4.5MB/s eta 0:00:01\r\u001b[K     |███▍                            | 51kB 3.9MB/s eta 0:00:01\r\u001b[K     |████                            | 61kB 4.4MB/s eta 0:00:01\r\u001b[K     |████▊                           | 71kB 4.6MB/s eta 0:00:01\r\u001b[K     |█████▍                          | 81kB 4.9MB/s eta 0:00:01\r\u001b[K     |██████                          | 92kB 5.4MB/s eta 0:00:01\r\u001b[K     |██████▊                         | 102kB 5.3MB/s eta 0:00:01\r\u001b[K     |███████▌                        | 112kB 5.3MB/s eta 0:00:01\r\u001b[K     |████████▏                       | 122kB 5.3MB/s eta 0:00:01\r\u001b[K     |████████▉                       | 133kB 5.3MB/s eta 0:00:01\r\u001b[K     |█████████▌                      | 143kB 5.3MB/s eta 0:00:01\r\u001b[K     |██████████▏                     | 153kB 5.3MB/s eta 0:00:01\r\u001b[K     |██████████▉                     | 163kB 5.3MB/s eta 0:00:01\r\u001b[K     |███████████▌                    | 174kB 5.3MB/s eta 0:00:01\r\u001b[K     |████████████▏                   | 184kB 5.3MB/s eta 0:00:01\r\u001b[K     |████████████▉                   | 194kB 5.3MB/s eta 0:00:01\r\u001b[K     |█████████████▌                  | 204kB 5.3MB/s eta 0:00:01\r\u001b[K     |██████████████▎                 | 215kB 5.3MB/s eta 0:00:01\r\u001b[K     |███████████████                 | 225kB 5.3MB/s eta 0:00:01\r\u001b[K     |███████████████▋                | 235kB 5.3MB/s eta 0:00:01\r\u001b[K     |████████████████▎               | 245kB 5.3MB/s eta 0:00:01\r\u001b[K     |█████████████████               | 256kB 5.3MB/s eta 0:00:01\r\u001b[K     |█████████████████▋              | 266kB 5.3MB/s eta 0:00:01\r\u001b[K     |██████████████████▎             | 276kB 5.3MB/s eta 0:00:01\r\u001b[K     |███████████████████             | 286kB 5.3MB/s eta 0:00:01\r\u001b[K     |███████████████████▋            | 296kB 5.3MB/s eta 0:00:01\r\u001b[K     |████████████████████▎           | 307kB 5.3MB/s eta 0:00:01\r\u001b[K     |█████████████████████           | 317kB 5.3MB/s eta 0:00:01\r\u001b[K     |█████████████████████▊          | 327kB 5.3MB/s eta 0:00:01\r\u001b[K     |██████████████████████▍         | 337kB 5.3MB/s eta 0:00:01\r\u001b[K     |███████████████████████         | 348kB 5.3MB/s eta 0:00:01\r\u001b[K     |███████████████████████▊        | 358kB 5.3MB/s eta 0:00:01\r\u001b[K     |████████████████████████▍       | 368kB 5.3MB/s eta 0:00:01\r\u001b[K     |█████████████████████████       | 378kB 5.3MB/s eta 0:00:01\r\u001b[K     |█████████████████████████▊      | 389kB 5.3MB/s eta 0:00:01\r\u001b[K     |██████████████████████████▍     | 399kB 5.3MB/s eta 0:00:01\r\u001b[K     |███████████████████████████     | 409kB 5.3MB/s eta 0:00:01\r\u001b[K     |███████████████████████████▊    | 419kB 5.3MB/s eta 0:00:01\r\u001b[K     |████████████████████████████▌   | 430kB 5.3MB/s eta 0:00:01\r\u001b[K     |█████████████████████████████▏  | 440kB 5.3MB/s eta 0:00:01\r\u001b[K     |█████████████████████████████▉  | 450kB 5.3MB/s eta 0:00:01\r\u001b[K     |██████████████████████████████▌ | 460kB 5.3MB/s eta 0:00:01\r\u001b[K     |███████████████████████████████▏| 471kB 5.3MB/s eta 0:00:01\r\u001b[K     |███████████████████████████████▉| 481kB 5.3MB/s eta 0:00:01\r\u001b[K     |████████████████████████████████| 491kB 5.3MB/s \n",
            "\u001b[?25hRequirement already satisfied: scipy in /usr/local/lib/python3.6/dist-packages (from fastFM) (1.4.1)\n",
            "Requirement already satisfied: cython in /usr/local/lib/python3.6/dist-packages (from fastFM) (0.29.21)\n",
            "Requirement already satisfied: numpy in /usr/local/lib/python3.6/dist-packages (from fastFM) (1.18.5)\n",
            "Requirement already satisfied: scikit-learn in /usr/local/lib/python3.6/dist-packages (from fastFM) (0.22.2.post1)\n",
            "Requirement already satisfied: joblib>=0.11 in /usr/local/lib/python3.6/dist-packages (from scikit-learn->fastFM) (0.16.0)\n",
            "Installing collected packages: fastFM\n",
            "Successfully installed fastFM-0.2.11\n"
          ],
          "name": "stdout"
        }
      ]
    },
    {
      "cell_type": "markdown",
      "metadata": {
        "id": "mW9wiXW6fk3I"
      },
      "source": [
        "- 제공 알고리즘 제품군(fastFM)\n",
        "  - 회귀, 분류의 지도학습 기능을 제공하는 모듈\n",
        "  - 특성들 사이에 상호 영향성, 상호 작용 개념을 계산에 적용하여서 처리하는 기능을 제공 (조합, 순서 등도 성능에 영향을 미치게 한다.)\n",
        "  - ALS\n",
        "    - 교대 최소 제곱법\n",
        "  - SGD\n",
        "    - 확률적 경사 하강법\n",
        "  - MCMC\n",
        "    - 마르코프 연쇄 몬테카를로 기법\n",
        "    - 하이퍼파라미터 적고, 학습 속도는 느리다."
      ]
    },
    {
      "cell_type": "code",
      "metadata": {
        "id": "CwIRltSighYc"
      },
      "source": [
        "# 문자열을 벡터화 처리한다.\n",
        "from sklearn.feature_extraction import DictVectorizer\n",
        "from fastFM import als\n",
        "from sklearn.model_selection import learning_curve"
      ],
      "execution_count": 26,
      "outputs": []
    },
    {
      "cell_type": "code",
      "metadata": {
        "id": "qrJx9qWfgseI"
      },
      "source": [
        "v = DictVectorizer()"
      ],
      "execution_count": 27,
      "outputs": []
    },
    {
      "cell_type": "code",
      "metadata": {
        "id": "jIunlH8Kg7xP"
      },
      "source": [
        "# 더미 데이터\n",
        "# 일종의 특성 데이터, 특성 데이터들을 문자열로 처리, 나이는 임의로 수치로 표현했다.\n",
        "train = [\n",
        "         {'user' : '1', 'item' : '5' , 'age' : 19}, \n",
        "         {'user' : '2', 'item' : '43' , 'age' : 33}, \n",
        "         {'user' : '3', 'item' : '30' , 'age' : 55}, \n",
        "         {'user' : '4', 'item' : '10' , 'age' : 20}\n",
        "]"
      ],
      "execution_count": 28,
      "outputs": []
    },
    {
      "cell_type": "code",
      "metadata": {
        "id": "XI4HNg9bhXyg"
      },
      "source": [
        "# 데이터를 벡터화 처리하여 수치로 표현\n",
        "X = v.fit_transform(train)"
      ],
      "execution_count": 29,
      "outputs": []
    },
    {
      "cell_type": "code",
      "metadata": {
        "id": "nox13fE1hqxc",
        "outputId": "50a8fe2a-4d26-4d44-f39d-eb81ca177ec7",
        "colab": {
          "base_uri": "https://localhost:8080/",
          "height": 87
        }
      },
      "source": [
        "# 문자열을 범주형 변수로 두고, 중복되지 않은 총개수로 0을 세팅하고 해당되는 데이터에 1을 임의로 부여하여 수치로 표현하였다. (원-핫 인코딩)\n",
        "X.toarray()"
      ],
      "execution_count": 30,
      "outputs": [
        {
          "output_type": "execute_result",
          "data": {
            "text/plain": [
              "array([[19.,  0.,  0.,  0.,  1.,  1.,  0.,  0.,  0.],\n",
              "       [33.,  0.,  0.,  1.,  0.,  0.,  1.,  0.,  0.],\n",
              "       [55.,  0.,  1.,  0.,  0.,  0.,  0.,  1.,  0.],\n",
              "       [20.,  1.,  0.,  0.,  0.,  0.,  0.,  0.,  1.]])"
            ]
          },
          "metadata": {
            "tags": []
          },
          "execution_count": 30
        }
      ]
    },
    {
      "cell_type": "code",
      "metadata": {
        "id": "vxyppt4-hs1T"
      },
      "source": [
        "# 해당 유저가 해당 작품을 보고 리뷰 평점한 데이터(더미) -> 정답\n",
        "y = np.array( [5.0, 1.0, 2.0, 4.0] )"
      ],
      "execution_count": 31,
      "outputs": []
    },
    {
      "cell_type": "code",
      "metadata": {
        "id": "Ub3KJ49piwg1"
      },
      "source": [
        "# 알고리즘 생성\n",
        "fm = als.FMRegression(n_iter = 10000, init_stdev=0.1, rank=2, l2_reg=0.1, l2_reg_V=0.5)"
      ],
      "execution_count": 32,
      "outputs": []
    },
    {
      "cell_type": "code",
      "metadata": {
        "id": "AP9rdjJ6jKxw",
        "outputId": "277504d5-a243-4bbf-e07b-8c9d64bb285b",
        "colab": {
          "base_uri": "https://localhost:8080/",
          "height": 52
        }
      },
      "source": [
        "fm.fit( X, y )"
      ],
      "execution_count": 33,
      "outputs": [
        {
          "output_type": "execute_result",
          "data": {
            "text/plain": [
              "FMRegression(init_stdev=0.1, l2_reg=0.1, l2_reg_V=0.1, l2_reg_w=0.1,\n",
              "             n_iter=10000, random_state=123, rank=2)"
            ]
          },
          "metadata": {
            "tags": []
          },
          "execution_count": 33
        }
      ]
    },
    {
      "cell_type": "code",
      "metadata": {
        "id": "yY5Jk5rNjTvE",
        "outputId": "ebbf135d-82a2-49d4-95cf-ed344deef8e4",
        "colab": {
          "base_uri": "https://localhost:8080/",
          "height": 34
        }
      },
      "source": [
        "# 예측 : 나이가 24살이다. 아이템 10번을 관람하였다. 이 유저는 평점을 몇점을 낼 것인가?\n",
        "data = {'user' : '5', 'item' : '10', 'age':24}\n",
        "fm.predict(v.transform(data))\n",
        "# 해당 유저는 10번 영화를 보고 평점을 3.7로 부여할 것이라고 예측\n",
        "# 이것이 얼마나 정확한가 -> 회귀의 평가지표 중 손실함수값을 통해서 검토"
      ],
      "execution_count": 34,
      "outputs": [
        {
          "output_type": "execute_result",
          "data": {
            "text/plain": [
              "array([3.66088998])"
            ]
          },
          "metadata": {
            "tags": []
          },
          "execution_count": 34
        }
      ]
    },
    {
      "cell_type": "markdown",
      "metadata": {
        "id": "LpuXps_DjwJL"
      },
      "source": [
        "## 준비\n",
        "- 데이터를 수치화하는 처리\n",
        "  - 문자열을 수치화(원-핫 인코딩을 주로 사용)\n",
        "  - 경우에 따라서는 이미 값이 수치인데, 문자열으로 처리해서 원-핫인코딩으로 처리한다.\n",
        "\n",
        "- 포인트\n",
        "  - 회귀 기법을 이용한 머신러닝 처리 시\n",
        "  - 데이터 준비\n",
        "  - 예측\n",
        "  - 성능 평가 파트"
      ]
    },
    {
      "cell_type": "code",
      "metadata": {
        "id": "LfhFYFmpkglV"
      },
      "source": [
        "# 데이터 로드\n",
        "# ua.base, ua.test\n",
        "def pre_loadData(fileName, dir = \"/content/drive/My Drive/2020_AI_Busan/3_MachineLearning/4_data/ml-100k\") :\n",
        "  # 훈련 데이터 담는 그릇(리스트)\n",
        "  data = list()\n",
        "  # 훈련 데이터 중 평점(점수)를 담는 리스트\n",
        "  ratings = list()\n",
        "\n",
        "  with open(f'{dir}/{fileName}') as f :\n",
        "    # 한줄씩 읽는다.\n",
        "    # 방법 1\n",
        "    # while True :\n",
        "    #   txt = f.readline\n",
        "    #   if not txt : \n",
        "    #     break\n",
        "    # 방법 2\n",
        "    for line in f :\n",
        "      # 데이터를 나눈다.\n",
        "      uid, mid, rating, _ = line.split('\\t')\n",
        "      # 훈련 데이터를 담기 => [ {}, {}, {}, ... ]\n",
        "      data.append({'uid' : uid, 'mid' : mid})\n",
        "      # 평점은 부동소수로 변환하여 담는다.\n",
        "      ratings.append(float(rating))\n",
        "    # 데이터의 형태\n",
        "    '''\n",
        "      위의 더미 데이터와 비교해보면, 나이 정보가 없다.\n",
        "      [{'uid' : '1', 'mid' : '1023'}] -> 원-핫 인코딩 -> [[], [], [], ...]\n",
        "      정답 => 평점\n",
        "      [5, ...]\n",
        "    '''\n",
        "  return data, ratings"
      ],
      "execution_count": 38,
      "outputs": []
    },
    {
      "cell_type": "code",
      "metadata": {
        "id": "EWAmy_AqvUFg"
      },
      "source": [
        "# 위의 함수 주석 정리\n",
        "def loadData(fileName, dir = \"/content/drive/My Drive/2020_AI_Busan/3_MachineLearning/4_data/ml-100k\") :\n",
        "  data = list()\n",
        "  ratings = list()\n",
        "  with open(f'{dir}/{fileName}') as f :\n",
        "    for line in f :\n",
        "      uid, mid, rating, _ = line.split('\\t')\n",
        "      data.append({'uid' : uid, 'mid' : mid})\n",
        "      ratings.append(float(rating))\n",
        "  return data, ratings"
      ],
      "execution_count": 39,
      "outputs": []
    },
    {
      "cell_type": "code",
      "metadata": {
        "id": "5rVFie5kqK9o"
      },
      "source": [
        "X_train, y_train = loadData('ua.base')\n",
        "X_test, y_test = loadData('ua.test')"
      ],
      "execution_count": 40,
      "outputs": []
    },
    {
      "cell_type": "code",
      "metadata": {
        "id": "8lIJPJglvQ87",
        "outputId": "9b69787b-2d04-4bae-9043-64281c2a5066",
        "colab": {
          "base_uri": "https://localhost:8080/",
          "height": 34
        }
      },
      "source": [
        "# 훈련데이터와 테스트데이터는 대략 9.6배 정도 크기 차이가 난다.\n",
        "# 원래 용도가 A/B 테스트용이라서 딱히 크기를 맞추는 것은 아니다.\n",
        "len(X_train), len(X_test)"
      ],
      "execution_count": 41,
      "outputs": [
        {
          "output_type": "execute_result",
          "data": {
            "text/plain": [
              "(90570, 9430)"
            ]
          },
          "metadata": {
            "tags": []
          },
          "execution_count": 41
        }
      ]
    },
    {
      "cell_type": "code",
      "metadata": {
        "id": "aXMxAKxUwRQz"
      },
      "source": [
        "# 데이터의 수치화(벡터화) 처리\n",
        "v = DictVectorizer()"
      ],
      "execution_count": 42,
      "outputs": []
    },
    {
      "cell_type": "code",
      "metadata": {
        "id": "0QZIAQ1zwo_a",
        "outputId": "15d09870-3b4c-4da7-d476-cef9e88faab5",
        "colab": {
          "base_uri": "https://localhost:8080/",
          "height": 34
        }
      },
      "source": [
        "# 훈련 데이터를 학습하고 나서, 변환처리한다.\n",
        "X_train_v = v.fit_transform(X_train)\n",
        "X_train_v.shape\n",
        "# 특징은 2623개로 확장되었다.(특성수는 많아졌으나, 데이터가 0과 1로 이진처리 되어서 학습효율은 더 나아졌다.)"
      ],
      "execution_count": 43,
      "outputs": [
        {
          "output_type": "execute_result",
          "data": {
            "text/plain": [
              "(90570, 2623)"
            ]
          },
          "metadata": {
            "tags": []
          },
          "execution_count": 43
        }
      ]
    },
    {
      "cell_type": "code",
      "metadata": {
        "id": "6pP-qx2cwxRZ",
        "outputId": "6908cb64-5f82-4661-d7d8-79cea94f0ff4",
        "colab": {
          "base_uri": "https://localhost:8080/",
          "height": 140
        }
      },
      "source": [
        "X_train_v.toarray()"
      ],
      "execution_count": 44,
      "outputs": [
        {
          "output_type": "execute_result",
          "data": {
            "text/plain": [
              "array([[1., 0., 0., ..., 0., 0., 0.],\n",
              "       [0., 0., 0., ..., 0., 0., 0.],\n",
              "       [0., 0., 0., ..., 0., 0., 0.],\n",
              "       ...,\n",
              "       [0., 0., 0., ..., 0., 0., 0.],\n",
              "       [0., 0., 0., ..., 0., 0., 0.],\n",
              "       [0., 0., 0., ..., 0., 0., 0.]])"
            ]
          },
          "metadata": {
            "tags": []
          },
          "execution_count": 44
        }
      ]
    },
    {
      "cell_type": "code",
      "metadata": {
        "id": "VjUf9LroxbcJ",
        "outputId": "ede7cb45-daa9-410d-b90f-b87cd977c605",
        "colab": {
          "base_uri": "https://localhost:8080/",
          "height": 34
        }
      },
      "source": [
        "# 테스트 데이터로 변환 처리\n",
        "X_test_v = v.transform(X_test)\n",
        "X_test_v.shape"
      ],
      "execution_count": 45,
      "outputs": [
        {
          "output_type": "execute_result",
          "data": {
            "text/plain": [
              "(9430, 2623)"
            ]
          },
          "metadata": {
            "tags": []
          },
          "execution_count": 45
        }
      ]
    },
    {
      "cell_type": "code",
      "metadata": {
        "id": "3uBs-8nsxobw"
      },
      "source": [
        "# X_train_v와 X_test_v의 특성수가 동일하다. (중요)"
      ],
      "execution_count": 46,
      "outputs": []
    },
    {
      "cell_type": "code",
      "metadata": {
        "id": "60w7Ma9Fx_S3"
      },
      "source": [
        "# 데이터 분류를 이용해서 X_train_v를 나눠서 처리도 可\n",
        "from sklearn.model_selection import train_test_split"
      ],
      "execution_count": 47,
      "outputs": []
    },
    {
      "cell_type": "code",
      "metadata": {
        "id": "zx-1B7rGyKIy"
      },
      "source": [
        "X_train_dev, X_test_dev, y_train_dev, y_test_dev = train_test_split(X_train_v, y_train, test_size=0.25, random_state=1)"
      ],
      "execution_count": 48,
      "outputs": []
    },
    {
      "cell_type": "code",
      "metadata": {
        "id": "72F1eXjuyhei",
        "outputId": "4ede600e-ed21-40e6-da17-464d6088ab2b",
        "colab": {
          "base_uri": "https://localhost:8080/",
          "height": 34
        }
      },
      "source": [
        "X_train_dev.shape, X_test_dev.shape"
      ],
      "execution_count": 49,
      "outputs": [
        {
          "output_type": "execute_result",
          "data": {
            "text/plain": [
              "((67927, 2623), (22643, 2623))"
            ]
          },
          "metadata": {
            "tags": []
          },
          "execution_count": 49
        }
      ]
    },
    {
      "cell_type": "markdown",
      "metadata": {
        "id": "ynwJ4Arlypfj"
      },
      "source": [
        "## 알고리즘 적용\n",
        "- mcmc.FMRegression\n",
        "  - 학습과 예측을 동시에 수행\n",
        "  - 만약에 실시간으로 수행하고 싶다면 SGD(확률적 경사 하강법) 사용\n",
        "  - 파라미터값, 평균제곱근오차 => 손실함수를 구하는 값(회귀의 평가 지표, 0에 가까울수록 성능이 좋다.)\n",
        "  - 값들이 어떻게 수렴해가는지 시각화를 통해서 확인\n",
        "    - 최적화 지점 확인\n",
        "- 최적화, 교차검증\n",
        "  - 특성들 사이에 상호 영향성, 상호 작용\n",
        "  - 특성의 조합, 순서 등을 달리 하여 성능평가를 수행"
      ]
    },
    {
      "cell_type": "code",
      "metadata": {
        "id": "FFpUh4HMfOFD"
      },
      "source": [
        "# 모듈 가져오기\n",
        "# mean_squared_error (MSE) : 평균제곱근오차함수 => 회귀모델에서 성능평가를 수행하는 지표 중 하나\n",
        "from sklearn.metrics import mean_squared_error\n",
        "from fastFM import mcmc"
      ],
      "execution_count": 50,
      "outputs": []
    },
    {
      "cell_type": "code",
      "metadata": {
        "id": "5iwoli5uhyXz"
      },
      "source": [
        "# 1. 환경설정값 준비(실험 환경)\n",
        "n_iter = 300    # 300회 반복 수행한다. -> for문\n",
        "rank = 4        # 하이퍼파라미터(알고리즘 인자값)의 개수를 rank*2배로 증가시킨다(mcmcm 알고리즘의 특징)\n",
        "                # -> 고정크기(3) + 2*rank\n",
        "seed = 123      # 시간에 관계 없이 일정한 패턴으로 난수를 발생할 수 있게 난수의 seed를 고정한다.\n",
        "step_size = 1   # 단계값"
      ],
      "execution_count": 51,
      "outputs": []
    },
    {
      "cell_type": "code",
      "metadata": {
        "id": "gLzpd6q3jBsC"
      },
      "source": [
        "# 2. 알고리즘 생성\n",
        "fm = mcmc.FMRegression( n_iter=0, rank=rank, random_state=seed )"
      ],
      "execution_count": 52,
      "outputs": []
    },
    {
      "cell_type": "code",
      "metadata": {
        "id": "AYxEcHo3jndy",
        "outputId": "2770e7b9-a065-4347-fd62-f7ddc4514113",
        "colab": {
          "base_uri": "https://localhost:8080/",
          "height": 34
        }
      },
      "source": [
        "# 3. 학습 예측\n",
        "# 훈련용 : X_train_dev, y_train_dev\n",
        "# 테스트용 : X_test_dev\n",
        "# y_train_dev는 리스트기 때문에 shape를 맞춰주기 위해서 np.array(y_train_dev) 사용\n",
        "y_pred = fm.fit_predict(X_train_dev, np.array(y_train_dev), X_test_dev)\n",
        "y_pred, y_pred.shape, X_test_dev.shape"
      ],
      "execution_count": 53,
      "outputs": [
        {
          "output_type": "execute_result",
          "data": {
            "text/plain": [
              "(array([0., 0., 0., ..., 0., 0., 0.]), (22643,), (22643, 2623))"
            ]
          },
          "metadata": {
            "tags": []
          },
          "execution_count": 53
        }
      ]
    },
    {
      "cell_type": "code",
      "metadata": {
        "id": "bhN6UhAfksCH",
        "outputId": "f9e4ecce-82b2-4d0b-bfa4-b3050cec1818",
        "colab": {
          "base_uri": "https://localhost:8080/",
          "height": 34
        }
      },
      "source": [
        "# 4. 평가\n",
        "# 실제 정답\n",
        "np.array(y_test_dev)\n",
        "# 평균제곱근오차 : MSE\n",
        "mean_squared_error(np.array(y_test_dev), y_pred)"
      ],
      "execution_count": 54,
      "outputs": [
        {
          "output_type": "execute_result",
          "data": {
            "text/plain": [
              "13.707812569005874"
            ]
          },
          "metadata": {
            "tags": []
          },
          "execution_count": 54
        }
      ]
    },
    {
      "cell_type": "code",
      "metadata": {
        "id": "kYlvCSUilG-Q",
        "outputId": "4364d6a7-567a-4941-dbb6-73af1923d435",
        "colab": {
          "base_uri": "https://localhost:8080/",
          "height": 34
        }
      },
      "source": [
        "# RMSE -> 0 (0으로 가야한다, 0을 지향해야 한다.)\n",
        "np.sqrt(mean_squared_error(np.array(y_test_dev), y_pred))\n",
        "# 평가값이 3.7 정도 된다. 0까지 수렴해서 정확도를 높이려면(성능을 높이려면)\n",
        "# 학습의 횟수를 증가, 데이터의 증가, 하이퍼파라미터 추가(튜닝) 등을 수행해서 수렴점을 찾아야 한다."
      ],
      "execution_count": 55,
      "outputs": [
        {
          "output_type": "execute_result",
          "data": {
            "text/plain": [
              "3.702406321435544"
            ]
          },
          "metadata": {
            "tags": []
          },
          "execution_count": 55
        }
      ]
    },
    {
      "cell_type": "code",
      "metadata": {
        "id": "ju9mT5wvpTPv",
        "outputId": "0294cc5a-6b5d-49a3-c13d-138f8b6fe483",
        "colab": {
          "base_uri": "https://localhost:8080/",
          "height": 34
        }
      },
      "source": [
        "# rmse를 담는 그릇\n",
        "rmse_test = list()\n",
        "# 하이퍼파라미터 => 배열 => 모든 구성원이 0인 배열\n",
        "# n_iter-1     => for문을 통해서 수집되는 데이터의 총수 : 299회 반복하므로 \n",
        "# 3+2*rank     => 하이퍼파라미터는 고정 3개 + 2*rank만큼 추가된다 했으므로, 전체 파라미터 로그를 담기 위해서 크기를 동일하게 지정\n",
        "# hyper_params => np.array 형태로 데이터를 담을 수 있게 준비되었다.\n",
        "hyper_params = np.zeros((n_iter-1, 3+2*rank), dtype=np.float64)\n",
        "hyper_params.shape"
      ],
      "execution_count": 56,
      "outputs": [
        {
          "output_type": "execute_result",
          "data": {
            "text/plain": [
              "(299, 11)"
            ]
          },
          "metadata": {
            "tags": []
          },
          "execution_count": 56
        }
      ]
    },
    {
      "cell_type": "code",
      "metadata": {
        "id": "cfj-Dbytl99x"
      },
      "source": [
        "# 5. n차번 수행해서(학습의 횟수를 늘려서) 하이퍼파라미터 수치를 조정\n",
        "# idx : 0 ~ 298\n",
        "# i   : 1 ~ 300\n",
        "for idx, i in enumerate(range(1, n_iter)) :         # 299회, 횟수 임계값은 필요에 의해 수정 가능함(횟수는 딱히 중요하지 않음)\n",
        "  # print(idx, i)\n",
        "  # 진행률 보려면 tqdm 써줘도 괜찮다.\n",
        "  # 학습을 수행할 때마다 난수를 조정해서 데이터의 조합을 다르게 사용하여 학습하도록 조정하겠다.\n",
        "  # 차후에는 튜닝포인트 될 수도 있다.\n",
        "  fm.random_state = seed * i\n",
        "  # 학습 및 예측\n",
        "  # n_more_iter에 설정된 값에 의해서 데이터 학습 시 다양성을 추구하게 한다.\n",
        "  # 조정값\n",
        "  y_pred = fm.fit_predict(X_train_dev, np.array(y_train_dev), X_test_dev, n_more_iter=step_size)\n",
        "  # 데이터를 획득\n",
        "  # 하이퍼파라미터값, MSE, RMSE 등 수정\n",
        "  # 학습을 반복하면서 하이퍼파라미터를 조정해간다. (내부적으로)\n",
        "  # print(fm.hyper_param_)\n",
        "  # 배열을 한개씩 순서대로 세팅한다.\n",
        "  hyper_params[idx,:] = fm.hyper_param_\n",
        "  # RMSE\n",
        "  rmse = np.sqrt(mean_squared_error(np.array(y_test_dev), y_pred))\n",
        "  # print(rmse)\n",
        "  rmse_test.append(rmse)\n",
        "  # break"
      ],
      "execution_count": 57,
      "outputs": []
    },
    {
      "cell_type": "code",
      "metadata": {
        "id": "oPy0xYVdnUl2",
        "outputId": "93120e47-4f5a-4849-c240-4b43158310ef",
        "colab": {
          "base_uri": "https://localhost:8080/",
          "height": 54
        }
      },
      "source": [
        "print(rmse_test)"
      ],
      "execution_count": 58,
      "outputs": [
        {
          "output_type": "stream",
          "text": [
            "[1.1021405348515136, 1.044139229896002, 1.009843513296872, 0.9880060410695503, 0.9739573645393602, 0.9651656380589305, 0.9593886475016232, 0.9553548781529784, 0.9526160572975617, 0.950337645819851, 0.9488338953256972, 0.9478767351117804, 0.9469392926189799, 0.9462806831934388, 0.9456397546511679, 0.9451872093452021, 0.9449251656311637, 0.9446315842400879, 0.9445194601738508, 0.9443245045989423, 0.9439979600978448, 0.9438731904259101, 0.94366167049436, 0.9435178638512781, 0.9434010485662585, 0.9432131229066318, 0.9431038934599512, 0.9430025336447243, 0.9429190592793228, 0.9428278862006296, 0.9426700591982402, 0.9426270380073017, 0.9425793527191398, 0.9425202364508558, 0.9424379681513946, 0.9423108486978004, 0.9422053280938733, 0.9419924474578801, 0.9416601608528262, 0.9411977299182361, 0.9404604488924705, 0.9396767628329458, 0.938889753941573, 0.937996452395399, 0.9371977946584269, 0.9363882509948999, 0.9356162989910662, 0.93492115566636, 0.9341962556905704, 0.9335617677107793, 0.932927482786432, 0.9322550840669142, 0.9317460800047432, 0.9311927687007411, 0.9306826320012854, 0.9301803009279318, 0.9296721716673523, 0.9291681304854282, 0.928727110275681, 0.9282686925262753, 0.9278690335466238, 0.9274202044981259, 0.9270369217050519, 0.9266482153974519, 0.9262888883107416, 0.9259246833242188, 0.9256003112951904, 0.9253038740433528, 0.9250133729375336, 0.9247354913518977, 0.9245379148092738, 0.9242474993795516, 0.9239661937035186, 0.9236840582983411, 0.9233654305173028, 0.923096890054586, 0.9228166245648659, 0.92256215714115, 0.9223511801677929, 0.9220862572735053, 0.9218622942746083, 0.9216579187689855, 0.9214257712151047, 0.9212779653613126, 0.9211024367644867, 0.920940950934213, 0.9207814056780338, 0.920612530235498, 0.9204049668685125, 0.9202322085083317, 0.9200568422163301, 0.9199072583097737, 0.9197134597100152, 0.9195436400152174, 0.9193722671517477, 0.9191929483224603, 0.9190046985024759, 0.9188277610756465, 0.9186623845045717, 0.918496364263829, 0.9183215721535151, 0.9182006720970421, 0.9180487901979929, 0.9179005213079188, 0.9177429953857925, 0.917550879369125, 0.9173854687556563, 0.9172107695135893, 0.9170601494883379, 0.9169380476763616, 0.916758757019535, 0.9166100038812293, 0.9164874766984132, 0.9163539477986841, 0.916252643120858, 0.916133765220683, 0.9160214443982344, 0.9159167407786396, 0.9158016305722618, 0.9156506857278925, 0.9155202061712734, 0.9153994347646099, 0.9153017265982217, 0.915179943443026, 0.915081873131063, 0.9149894041929452, 0.9148885065590703, 0.9147897074676509, 0.9146989749264434, 0.9146187278753193, 0.9145446806367665, 0.9144609357299818, 0.914417856275038, 0.9143618051971971, 0.9143080991861939, 0.9142439087224958, 0.9141537682416556, 0.9140888574286187, 0.9140125723148584, 0.9139509113898722, 0.9139094147568179, 0.9138175009659701, 0.9137452682200744, 0.9136983886624631, 0.9136470134761544, 0.913610322107743, 0.9135610265775282, 0.9135238556053626, 0.913489535318382, 0.9134464803429287, 0.9133707898818999, 0.9133096042036143, 0.9132519059009027, 0.9132137161234142, 0.913159730546307, 0.9131211603047217, 0.9130809737099471, 0.9130340284394733, 0.9129848824638381, 0.9129413054137829, 0.9129046222563345, 0.9128828044578491, 0.9128480832795419, 0.9128419810592887, 0.9128222552583869, 0.9128056657008996, 0.9127720537804652, 0.912717758742669, 0.9126841243456866, 0.9126400791472741, 0.912603215950484, 0.9125827378120134, 0.9125247967738245, 0.9124750120101143, 0.9124501344238399, 0.9124234323132319, 0.9124049375110784, 0.9123784362752644, 0.9123640855896461, 0.9123419105777832, 0.9123169433113295, 0.9122620629803445, 0.9122219014292374, 0.912179200140674, 0.9121507670211557, 0.9121190372493527, 0.9120902947396015, 0.9120624268848881, 0.9120324495318489, 0.9119969101366715, 0.911967562423486, 0.911938313027266, 0.911925686087508, 0.9119027591600742, 0.9118974475545367, 0.9118811481582236, 0.9118675112822046, 0.9118389456918337, 0.9117959599113182, 0.9117708420945104, 0.9117357423778073, 0.9117049613459048, 0.9116891994687177, 0.9116455461744061, 0.9116043578610792, 0.9115851889584846, 0.9115666355309077, 0.9115552990653152, 0.9115382771959403, 0.9115306817264066, 0.9115169306560656, 0.9115039315075002, 0.9114609885518209, 0.9114346773672853, 0.9114016222272877, 0.9113810107176186, 0.9113597154540493, 0.9113385629013252, 0.9113166738972334, 0.9112951803763448, 0.9112676325705013, 0.9112503508038355, 0.911230217295664, 0.9112218915626756, 0.9112067630165475, 0.9112037906757775, 0.9111925146311305, 0.9111854323095424, 0.9111645695905415, 0.9111345582421791, 0.9111184975381772, 0.9110946652820942, 0.9110733506899834, 0.9110640998278003, 0.9110328128973371, 0.9109994599525089, 0.9109867644611672, 0.9109752595425668, 0.9109705724951691, 0.9109604533222273, 0.9109566239232025, 0.9109500049959662, 0.9109473462055967, 0.9109149022676768, 0.910899340053947, 0.9108743639735557, 0.9108605935608888, 0.9108461069827056, 0.9108310249434766, 0.9108130934870211, 0.9107964628358297, 0.9107734707943134, 0.9107648083193957, 0.9107522849805427, 0.9107473221844896, 0.9107379949616156, 0.9107379915874221, 0.9107307291342182, 0.91072898904444, 0.9107140659941696, 0.9106936988196895, 0.9106841975189286, 0.910668251767237, 0.9106532204386162, 0.9106484680005354, 0.9106264225484844, 0.9105996794530791, 0.9105918305642371, 0.9105854200792385, 0.9105855268452084, 0.910580497488076, 0.9105793974294512, 0.9105780310966884, 0.910582398333211, 0.9105575516622558, 0.9105492211020139, 0.9105298928261429, 0.91052101843123, 0.9105112133508143, 0.9105004282256037, 0.9104852877214736, 0.910472104543619, 0.9104524548525966, 0.9104496564711123, 0.9104426123142016, 0.9104400661392708, 0.9104347517544765, 0.9104371747947593, 0.9104328286894443, 0.9104345603047925, 0.9104241430568489, 0.910410745723867, 0.9104061894058809, 0.9103959632456989, 0.9103852432200674, 0.9103836359464326, 0.910368480867788, 0.9103475321591474, 0.9103431455761503]\n"
          ],
          "name": "stdout"
        }
      ]
    },
    {
      "cell_type": "code",
      "metadata": {
        "id": "fLk_VOwsuKNk",
        "outputId": "f19790a1-f1af-4554-a56b-9286f0a47311",
        "colab": {
          "base_uri": "https://localhost:8080/",
          "height": 246
        }
      },
      "source": [
        "hyper_params"
      ],
      "execution_count": 59,
      "outputs": [
        {
          "output_type": "execute_result",
          "data": {
            "text/plain": [
              "array([[ 7.29330387e-02,  1.01534507e+02,  1.09545845e+02, ...,\n",
              "        -2.64130136e-04, -1.52355401e-03, -1.94369678e-03],\n",
              "       [ 8.29471078e-01,  1.01931501e+02,  1.05923241e+02, ...,\n",
              "         6.39675545e-04, -3.12217641e-03, -2.99675394e-03],\n",
              "       [ 1.01108662e+00,  3.70566607e+01,  1.02116009e+02, ...,\n",
              "         1.39102827e-03, -1.35087432e-03, -3.35562708e-03],\n",
              "       ...,\n",
              "       [ 1.42502980e+00,  5.03830553e+00,  4.25468853e+00, ...,\n",
              "        -2.25885186e-01,  1.58394194e-01,  3.10096187e-02],\n",
              "       [ 1.42039092e+00,  5.35355983e+00,  4.43702571e+00, ...,\n",
              "        -2.47055510e-01,  1.67339958e-01,  1.82709344e-02],\n",
              "       [ 1.43164234e+00,  5.26631903e+00,  4.70606363e+00, ...,\n",
              "        -2.15534739e-01,  1.62193954e-01,  1.68403032e-02]])"
            ]
          },
          "metadata": {
            "tags": []
          },
          "execution_count": 59
        }
      ]
    },
    {
      "cell_type": "code",
      "metadata": {
        "id": "A2qdOGkFuRR-"
      },
      "source": [
        "# 시각화를 통해서 확인\n",
        "# 2x2 형태로 표현 => 4개를 표현\n",
        "# rmse, hyper_parameter 3개(0 : alpha값, 1: lambda_w값, 2 : mu_w값)\n",
        "import matplotlib.pyplot as plt\n",
        "%matplotlib inline"
      ],
      "execution_count": 60,
      "outputs": []
    },
    {
      "cell_type": "code",
      "metadata": {
        "id": "1bkmTxWxvrB-",
        "outputId": "d31abd21-5462-4d1e-e784-082350d9cc87",
        "colab": {
          "base_uri": "https://localhost:8080/",
          "height": 34
        }
      },
      "source": [
        "x = range(1, n_iter)\n",
        "len(x), len(rmse_test), hyper_params.shape"
      ],
      "execution_count": 61,
      "outputs": [
        {
          "output_type": "execute_result",
          "data": {
            "text/plain": [
              "(299, 299, (299, 11))"
            ]
          },
          "metadata": {
            "tags": []
          },
          "execution_count": 61
        }
      ]
    },
    {
      "cell_type": "code",
      "metadata": {
        "id": "PgeNNsGIuy4l",
        "outputId": "6ef58649-617b-4ee1-d108-a251593bc053",
        "colab": {
          "base_uri": "https://localhost:8080/",
          "height": 566
        }
      },
      "source": [
        "fig, axes = plt.subplots(nrows=2, ncols=2, sharex=True, figsize=(20,10))\n",
        "\n",
        "# 좌측 상단\n",
        "axes[0,0].plot(x, rmse_test, label='rmse', color='r')\n",
        "axes[0,0].legend()\n",
        "# 우측 상단\n",
        "axes[0,1].plot(x, hyper_params[:, 0], label='alpha', color='g')\n",
        "axes[0,1].legend()\n",
        "# 좌측 하단\n",
        "axes[1,0].plot(x, hyper_params[:, 1], label='lambda_w', color='b')\n",
        "axes[1,0].legend()\n",
        "# 우측 하단\n",
        "axes[1,1].plot(x, hyper_params[:, 2], label='mu_w', color='orange')\n",
        "axes[1,1].legend()\n",
        "\n",
        "plt.show()"
      ],
      "execution_count": 62,
      "outputs": [
        {
          "output_type": "display_data",
          "data": {
            "image/png": "[encoded data removed]",
            "text/plain": [
              "<Figure size 1440x720 with 4 Axes>"
            ]
          },
          "metadata": {
            "tags": [],
            "needs_background": "light"
          }
        }
      ]
    },
    {
      "cell_type": "markdown",
      "metadata": {
        "id": "FY47vvkBw11N"
      },
      "source": [
        "- 초반에 급격하게 성능이 개선되므로, 뒷부분에 편차들이 보이지 않는다.\n",
        "- x의 시작범위를 조정하여(y도 같이 조정하여) 확인"
      ]
    },
    {
      "cell_type": "code",
      "metadata": {
        "id": "yB8DPt6ywzfB",
        "outputId": "423300a0-fb63-41ed-c9ab-fde8576dde74",
        "colab": {
          "base_uri": "https://localhost:8080/",
          "height": 566
        }
      },
      "source": [
        "offset = 10\n",
        "fig, axes = plt.subplots(nrows=2, ncols=2, sharex=True, figsize=(20,10))\n",
        "\n",
        "# 좌측 상단\n",
        "axes[0,0].plot(x[offset:], rmse_test[offset:], label='rmse', color='r')\n",
        "axes[0,0].legend()\n",
        "# 우측 상단\n",
        "axes[0,1].plot(x[offset:], hyper_params[offset:, 0], label='alpha', color='g')\n",
        "axes[0,1].legend()\n",
        "# 좌측 하단\n",
        "axes[1,0].plot(x[offset:], hyper_params[offset:, 1], label='lambda_w', color='b')\n",
        "axes[1,0].legend()\n",
        "# 우측 하단\n",
        "axes[1,1].plot(x[offset:], hyper_params[offset:, 2], label='mu_w', color='orange')\n",
        "axes[1,1].legend()\n",
        "\n",
        "plt.show()"
      ],
      "execution_count": 63,
      "outputs": [
        {
          "output_type": "display_data",
          "data": {
            "image/png": "[encoded data removed]",
            "text/plain": [
              "<Figure size 1440x720 with 4 Axes>"
            ]
          },
          "metadata": {
            "tags": [],
            "needs_background": "light"
          }
        }
      ]
    },
    {
      "cell_type": "code",
      "metadata": {
        "id": "fli_Rnw-xx-8",
        "outputId": "09d0d750-f234-4c72-ac2d-5bc699b75f18",
        "colab": {
          "base_uri": "https://localhost:8080/",
          "height": 34
        }
      },
      "source": [
        "# 반복 학습 횟수가 150회 이상 진행되면 안정화 된다. => 박스권에서 움직인다.\n",
        "# rmse 최소값\n",
        "print(np.min(rmse_test))"
      ],
      "execution_count": 64,
      "outputs": [
        {
          "output_type": "stream",
          "text": [
            "0.9103431455761503\n"
          ],
          "name": "stdout"
        }
      ]
    },
    {
      "cell_type": "code",
      "metadata": {
        "id": "Ib16vr5Gzv6R",
        "outputId": "4194a0cb-68ce-472d-cbc1-e8aa2981a0bd",
        "colab": {
          "base_uri": "https://localhost:8080/",
          "height": 34
        }
      },
      "source": [
        "# X_test를 벡터화\n",
        "X_test_v = v.transform(X_test)\n",
        "X_test_v.shape"
      ],
      "execution_count": 65,
      "outputs": [
        {
          "output_type": "execute_result",
          "data": {
            "text/plain": [
              "(9430, 2623)"
            ]
          },
          "metadata": {
            "tags": []
          },
          "execution_count": 65
        }
      ]
    },
    {
      "cell_type": "code",
      "metadata": {
        "id": "OgiI2BcUyJc-",
        "outputId": "d46dccd4-a3c5-4bad-ad68-73628f02e0e0",
        "colab": {
          "base_uri": "https://localhost:8080/",
          "height": 34
        }
      },
      "source": [
        "# y_test 데이터 => ua.test로부터 추출\n",
        "# X_test y_test를 위에서 만든 회귀 모델에 넣어서 예측\n",
        "\n",
        "# 위에서 만들어진 알고리즘을 그대로 이용하여서 예측하는 방식\n",
        "y_pred = fm.predict(X_test_v)\n",
        "rmse   = np.sqrt(mean_squared_error(np.array(y_test), y_pred))\n",
        "print(rmse - np.min(rmse_test), rmse)\n",
        "# 실제 한번도 접하지 못한 데이터를 이용하여 평가를 수행해보니 학습 때 나왔던 rmse값보다 +0.09 높아졌다 -> 모델을 더 개선해서 0에 더 가까워지도록 만들어라(기준값에 도달했다면 종료)"
      ],
      "execution_count": 66,
      "outputs": [
        {
          "output_type": "stream",
          "text": [
            "0.09862116437970825 1.0089643099558585\n"
          ],
          "name": "stdout"
        }
      ]
    },
    {
      "cell_type": "code",
      "metadata": {
        "id": "i5a9aH-Fy71y",
        "outputId": "32d10f2d-c15f-48f7-df70-3e2189ca7c74",
        "colab": {
          "base_uri": "https://localhost:8080/",
          "height": 34
        }
      },
      "source": [
        "# 새로 만들어서 가는데, 위의 시뮬레이션 결과로 n_iter에 대한 수치를 넣어서 처리가 가능\n",
        "fm     = mcmc.FMRegression( n_iter=300, rank=rank, random_state=seed )\n",
        "y_pred = fm.fit_predict(X_train_v, np.array(y_train), X_test_v)\n",
        "rmse   = np.sqrt(mean_squared_error(np.array(y_test), y_pred))\n",
        "rmse"
      ],
      "execution_count": 67,
      "outputs": [
        {
          "output_type": "execute_result",
          "data": {
            "text/plain": [
              "0.9216592256235021"
            ]
          },
          "metadata": {
            "tags": []
          },
          "execution_count": 67
        }
      ]
    },
    {
      "cell_type": "markdown",
      "metadata": {
        "id": "8Obi5sEl2tUj"
      },
      "source": [
        "## 컬럼을 다양하게, 조합을 다르게\n",
        "- 성능에 영향을 미치는 파라미터, 난수, 학습양, 데이터의 양 등을 고정하고, 조합으로 체크해보겠다."
      ]
    },
    {
      "cell_type": "code",
      "metadata": {
        "id": "F2qL81fo2wJE",
        "outputId": "1b212a62-4a25-4b78-c4e4-5eea6f83d8a4",
        "colab": {
          "base_uri": "https://localhost:8080/",
          "height": 105
        }
      },
      "source": [
        "candidates_cols = [\n",
        "                   ['uid', 'mid', 'age', 's', 'year', 'rate'],      # year는 date에서 연도만 뽑을 것이다.\n",
        "                   ['uid', 'mid', 's', 'year', 'rate'],\n",
        "                   ['uid', 'mid', 'age', 's', 'rate'],\n",
        "                   ['uid', 'mid', 's', 'age', 'rate'],\n",
        "                   ['uid', 'mid', 'job', 'rate']\n",
        "]\n",
        "candidates_cols"
      ],
      "execution_count": 68,
      "outputs": [
        {
          "output_type": "execute_result",
          "data": {
            "text/plain": [
              "[['uid', 'mid', 'age', 's', 'year', 'rate'],\n",
              " ['uid', 'mid', 's', 'year', 'rate'],\n",
              " ['uid', 'mid', 'age', 's', 'rate'],\n",
              " ['uid', 'mid', 's', 'age', 'rate'],\n",
              " ['uid', 'mid', 'job', 'rate']]"
            ]
          },
          "metadata": {
            "tags": []
          },
          "execution_count": 68
        }
      ]
    },
    {
      "cell_type": "code",
      "metadata": {
        "id": "H7f7FDD1-Xj4",
        "outputId": "04f46861-ea9f-4d99-cafd-d13a0b9a8025",
        "colab": {
          "base_uri": "https://localhost:8080/",
          "height": 279
        }
      },
      "source": [
        "mru_tmp.head()"
      ],
      "execution_count": 69,
      "outputs": [
        {
          "output_type": "execute_result",
          "data": {
            "text/html": [
              "<div>\n",
              "<style scoped>\n",
              "    .dataframe tbody tr th:only-of-type {\n",
              "        vertical-align: middle;\n",
              "    }\n",
              "\n",
              "    .dataframe tbody tr th {\n",
              "        vertical-align: top;\n",
              "    }\n",
              "\n",
              "    .dataframe thead th {\n",
              "        text-align: right;\n",
              "    }\n",
              "</style>\n",
              "<table border=\"1\" class=\"dataframe\">\n",
              "  <thead>\n",
              "    <tr style=\"text-align: right;\">\n",
              "      <th></th>\n",
              "      <th>mid</th>\n",
              "      <th>title</th>\n",
              "      <th>release_date</th>\n",
              "      <th>video_release_date</th>\n",
              "      <th>url</th>\n",
              "      <th>uid</th>\n",
              "      <th>rate</th>\n",
              "      <th>date</th>\n",
              "      <th>age</th>\n",
              "      <th>s</th>\n",
              "      <th>job</th>\n",
              "      <th>zip_code</th>\n",
              "    </tr>\n",
              "  </thead>\n",
              "  <tbody>\n",
              "    <tr>\n",
              "      <th>0</th>\n",
              "      <td>1</td>\n",
              "      <td>Toy Story (1995)</td>\n",
              "      <td>01-Jan-1995</td>\n",
              "      <td>NaN</td>\n",
              "      <td>http://us.imdb.com/M/title-exact?Toy%20Story%2...</td>\n",
              "      <td>308</td>\n",
              "      <td>4</td>\n",
              "      <td>1998-02-17 17:28:52</td>\n",
              "      <td>60</td>\n",
              "      <td>M</td>\n",
              "      <td>retired</td>\n",
              "      <td>95076</td>\n",
              "    </tr>\n",
              "    <tr>\n",
              "      <th>1</th>\n",
              "      <td>4</td>\n",
              "      <td>Get Shorty (1995)</td>\n",
              "      <td>01-Jan-1995</td>\n",
              "      <td>NaN</td>\n",
              "      <td>http://us.imdb.com/M/title-exact?Get%20Shorty%...</td>\n",
              "      <td>308</td>\n",
              "      <td>5</td>\n",
              "      <td>1998-02-17 17:51:30</td>\n",
              "      <td>60</td>\n",
              "      <td>M</td>\n",
              "      <td>retired</td>\n",
              "      <td>95076</td>\n",
              "    </tr>\n",
              "    <tr>\n",
              "      <th>2</th>\n",
              "      <td>5</td>\n",
              "      <td>Copycat (1995)</td>\n",
              "      <td>01-Jan-1995</td>\n",
              "      <td>NaN</td>\n",
              "      <td>http://us.imdb.com/M/title-exact?Copycat%20(1995)</td>\n",
              "      <td>308</td>\n",
              "      <td>4</td>\n",
              "      <td>1998-02-17 18:20:08</td>\n",
              "      <td>60</td>\n",
              "      <td>M</td>\n",
              "      <td>retired</td>\n",
              "      <td>95076</td>\n",
              "    </tr>\n",
              "    <tr>\n",
              "      <th>3</th>\n",
              "      <td>7</td>\n",
              "      <td>Twelve Monkeys (1995)</td>\n",
              "      <td>01-Jan-1995</td>\n",
              "      <td>NaN</td>\n",
              "      <td>http://us.imdb.com/M/title-exact?Twelve%20Monk...</td>\n",
              "      <td>308</td>\n",
              "      <td>4</td>\n",
              "      <td>1998-02-17 18:07:27</td>\n",
              "      <td>60</td>\n",
              "      <td>M</td>\n",
              "      <td>retired</td>\n",
              "      <td>95076</td>\n",
              "    </tr>\n",
              "    <tr>\n",
              "      <th>4</th>\n",
              "      <td>8</td>\n",
              "      <td>Babe (1995)</td>\n",
              "      <td>01-Jan-1995</td>\n",
              "      <td>NaN</td>\n",
              "      <td>http://us.imdb.com/M/title-exact?Babe%20(1995)</td>\n",
              "      <td>308</td>\n",
              "      <td>5</td>\n",
              "      <td>1998-02-17 17:31:36</td>\n",
              "      <td>60</td>\n",
              "      <td>M</td>\n",
              "      <td>retired</td>\n",
              "      <td>95076</td>\n",
              "    </tr>\n",
              "  </tbody>\n",
              "</table>\n",
              "</div>"
            ],
            "text/plain": [
              "   mid                  title release_date  ...  s      job  zip_code\n",
              "0    1       Toy Story (1995)  01-Jan-1995  ...  M  retired     95076\n",
              "1    4      Get Shorty (1995)  01-Jan-1995  ...  M  retired     95076\n",
              "2    5         Copycat (1995)  01-Jan-1995  ...  M  retired     95076\n",
              "3    7  Twelve Monkeys (1995)  01-Jan-1995  ...  M  retired     95076\n",
              "4    8            Babe (1995)  01-Jan-1995  ...  M  retired     95076\n",
              "\n",
              "[5 rows x 12 columns]"
            ]
          },
          "metadata": {
            "tags": []
          },
          "execution_count": 69
        }
      ]
    },
    {
      "cell_type": "code",
      "metadata": {
        "id": "rFnh-BZz-oa0",
        "outputId": "179fb4c9-1ae8-4530-ef61-7067c819055b",
        "colab": {
          "base_uri": "https://localhost:8080/",
          "height": 402
        }
      },
      "source": [
        "# 타입을 문자열로 바꾸고, 데이터 한개 한개를 분해해서, 첫번째 멤버로 추출하기 위해서 단계별로 str을 처리하여 데이터 한개당 개별 분해, 첫번째 멤버 추출 과정이 수행되게 처리한다.\n",
        "# https://pandas.pydata.org/docs/reference/api/pandas.Series.str.split.html => pandas.Series.str.split() api를 사용한 것이다.\n",
        "'''\n",
        "Split strings around given separator/delimiter.\n",
        "Splits the string in the Series/Index from the beginning, at the specified delimiter string. Equivalent to str.split().\n",
        "'''\n",
        "mru_tmp['year'] = mru_tmp.date.astype(str).str.split('-').str.get(0)\n",
        "mru_tmp.head()"
      ],
      "execution_count": 70,
      "outputs": [
        {
          "output_type": "stream",
          "text": [
            "/usr/local/lib/python3.6/dist-packages/ipykernel_launcher.py:7: SettingWithCopyWarning: \n",
            "A value is trying to be set on a copy of a slice from a DataFrame.\n",
            "Try using .loc[row_indexer,col_indexer] = value instead\n",
            "\n",
            "See the caveats in the documentation: https://pandas.pydata.org/pandas-docs/stable/user_guide/indexing.html#returning-a-view-versus-a-copy\n",
            "  import sys\n"
          ],
          "name": "stderr"
        },
        {
          "output_type": "execute_result",
          "data": {
            "text/html": [
              "<div>\n",
              "<style scoped>\n",
              "    .dataframe tbody tr th:only-of-type {\n",
              "        vertical-align: middle;\n",
              "    }\n",
              "\n",
              "    .dataframe tbody tr th {\n",
              "        vertical-align: top;\n",
              "    }\n",
              "\n",
              "    .dataframe thead th {\n",
              "        text-align: right;\n",
              "    }\n",
              "</style>\n",
              "<table border=\"1\" class=\"dataframe\">\n",
              "  <thead>\n",
              "    <tr style=\"text-align: right;\">\n",
              "      <th></th>\n",
              "      <th>mid</th>\n",
              "      <th>title</th>\n",
              "      <th>release_date</th>\n",
              "      <th>video_release_date</th>\n",
              "      <th>url</th>\n",
              "      <th>uid</th>\n",
              "      <th>rate</th>\n",
              "      <th>date</th>\n",
              "      <th>age</th>\n",
              "      <th>s</th>\n",
              "      <th>job</th>\n",
              "      <th>zip_code</th>\n",
              "      <th>year</th>\n",
              "    </tr>\n",
              "  </thead>\n",
              "  <tbody>\n",
              "    <tr>\n",
              "      <th>0</th>\n",
              "      <td>1</td>\n",
              "      <td>Toy Story (1995)</td>\n",
              "      <td>01-Jan-1995</td>\n",
              "      <td>NaN</td>\n",
              "      <td>http://us.imdb.com/M/title-exact?Toy%20Story%2...</td>\n",
              "      <td>308</td>\n",
              "      <td>4</td>\n",
              "      <td>1998-02-17 17:28:52</td>\n",
              "      <td>60</td>\n",
              "      <td>M</td>\n",
              "      <td>retired</td>\n",
              "      <td>95076</td>\n",
              "      <td>1998</td>\n",
              "    </tr>\n",
              "    <tr>\n",
              "      <th>1</th>\n",
              "      <td>4</td>\n",
              "      <td>Get Shorty (1995)</td>\n",
              "      <td>01-Jan-1995</td>\n",
              "      <td>NaN</td>\n",
              "      <td>http://us.imdb.com/M/title-exact?Get%20Shorty%...</td>\n",
              "      <td>308</td>\n",
              "      <td>5</td>\n",
              "      <td>1998-02-17 17:51:30</td>\n",
              "      <td>60</td>\n",
              "      <td>M</td>\n",
              "      <td>retired</td>\n",
              "      <td>95076</td>\n",
              "      <td>1998</td>\n",
              "    </tr>\n",
              "    <tr>\n",
              "      <th>2</th>\n",
              "      <td>5</td>\n",
              "      <td>Copycat (1995)</td>\n",
              "      <td>01-Jan-1995</td>\n",
              "      <td>NaN</td>\n",
              "      <td>http://us.imdb.com/M/title-exact?Copycat%20(1995)</td>\n",
              "      <td>308</td>\n",
              "      <td>4</td>\n",
              "      <td>1998-02-17 18:20:08</td>\n",
              "      <td>60</td>\n",
              "      <td>M</td>\n",
              "      <td>retired</td>\n",
              "      <td>95076</td>\n",
              "      <td>1998</td>\n",
              "    </tr>\n",
              "    <tr>\n",
              "      <th>3</th>\n",
              "      <td>7</td>\n",
              "      <td>Twelve Monkeys (1995)</td>\n",
              "      <td>01-Jan-1995</td>\n",
              "      <td>NaN</td>\n",
              "      <td>http://us.imdb.com/M/title-exact?Twelve%20Monk...</td>\n",
              "      <td>308</td>\n",
              "      <td>4</td>\n",
              "      <td>1998-02-17 18:07:27</td>\n",
              "      <td>60</td>\n",
              "      <td>M</td>\n",
              "      <td>retired</td>\n",
              "      <td>95076</td>\n",
              "      <td>1998</td>\n",
              "    </tr>\n",
              "    <tr>\n",
              "      <th>4</th>\n",
              "      <td>8</td>\n",
              "      <td>Babe (1995)</td>\n",
              "      <td>01-Jan-1995</td>\n",
              "      <td>NaN</td>\n",
              "      <td>http://us.imdb.com/M/title-exact?Babe%20(1995)</td>\n",
              "      <td>308</td>\n",
              "      <td>5</td>\n",
              "      <td>1998-02-17 17:31:36</td>\n",
              "      <td>60</td>\n",
              "      <td>M</td>\n",
              "      <td>retired</td>\n",
              "      <td>95076</td>\n",
              "      <td>1998</td>\n",
              "    </tr>\n",
              "  </tbody>\n",
              "</table>\n",
              "</div>"
            ],
            "text/plain": [
              "   mid                  title release_date  ...      job zip_code  year\n",
              "0    1       Toy Story (1995)  01-Jan-1995  ...  retired    95076  1998\n",
              "1    4      Get Shorty (1995)  01-Jan-1995  ...  retired    95076  1998\n",
              "2    5         Copycat (1995)  01-Jan-1995  ...  retired    95076  1998\n",
              "3    7  Twelve Monkeys (1995)  01-Jan-1995  ...  retired    95076  1998\n",
              "4    8            Babe (1995)  01-Jan-1995  ...  retired    95076  1998\n",
              "\n",
              "[5 rows x 13 columns]"
            ]
          },
          "metadata": {
            "tags": []
          },
          "execution_count": 70
        }
      ]
    },
    {
      "cell_type": "code",
      "metadata": {
        "id": "klYFBfHQyoBk",
        "outputId": "21d476dc-8280-4040-d272-d51544566ee5",
        "colab": {
          "base_uri": "https://localhost:8080/",
          "height": 263
        }
      },
      "source": [
        "mru_tmp.dtypes"
      ],
      "execution_count": 71,
      "outputs": [
        {
          "output_type": "execute_result",
          "data": {
            "text/plain": [
              "mid                            int64\n",
              "title                         object\n",
              "release_date                  object\n",
              "video_release_date           float64\n",
              "url                           object\n",
              "uid                            int64\n",
              "rate                           int64\n",
              "date                  datetime64[ns]\n",
              "age                            int64\n",
              "s                             object\n",
              "job                           object\n",
              "zip_code                      object\n",
              "year                          object\n",
              "dtype: object"
            ]
          },
          "metadata": {
            "tags": []
          },
          "execution_count": 71
        }
      ]
    },
    {
      "cell_type": "code",
      "metadata": {
        "id": "aL8qBJoICAT9",
        "outputId": "2ecef8da-1545-4959-d62b-9f77296b4f41",
        "colab": {
          "base_uri": "https://localhost:8080/",
          "height": 228
        }
      },
      "source": [
        "# 수치의 벡터화를 수행하기 위해 mid, uid를 문자열로 변환\n",
        "mru_tmp['uid'] = mru_tmp.uid.astype(str)\n",
        "mru_tmp['mid'] = mru_tmp.mid.astype(str)"
      ],
      "execution_count": 72,
      "outputs": [
        {
          "output_type": "stream",
          "text": [
            "/usr/local/lib/python3.6/dist-packages/ipykernel_launcher.py:2: SettingWithCopyWarning: \n",
            "A value is trying to be set on a copy of a slice from a DataFrame.\n",
            "Try using .loc[row_indexer,col_indexer] = value instead\n",
            "\n",
            "See the caveats in the documentation: https://pandas.pydata.org/pandas-docs/stable/user_guide/indexing.html#returning-a-view-versus-a-copy\n",
            "  \n",
            "/usr/local/lib/python3.6/dist-packages/ipykernel_launcher.py:3: SettingWithCopyWarning: \n",
            "A value is trying to be set on a copy of a slice from a DataFrame.\n",
            "Try using .loc[row_indexer,col_indexer] = value instead\n",
            "\n",
            "See the caveats in the documentation: https://pandas.pydata.org/pandas-docs/stable/user_guide/indexing.html#returning-a-view-versus-a-copy\n",
            "  This is separate from the ipykernel package so we can avoid doing imports until\n"
          ],
          "name": "stderr"
        }
      ]
    },
    {
      "cell_type": "code",
      "metadata": {
        "id": "GgDjo9UyCQ3p",
        "outputId": "f8c25917-23ff-4c44-d105-4b2b747b7ecf",
        "colab": {
          "base_uri": "https://localhost:8080/",
          "height": 263
        }
      },
      "source": [
        "mru_tmp.dtypes\n",
        "# rate는 정답이다 => 별도 관리\n",
        "# age는 유일하게 원래 타입 int를 유지한다.\n",
        "# mid, uid, s, year는 벡터화해서 훈련, 테스트용 데이터를 준비한다."
      ],
      "execution_count": 73,
      "outputs": [
        {
          "output_type": "execute_result",
          "data": {
            "text/plain": [
              "mid                           object\n",
              "title                         object\n",
              "release_date                  object\n",
              "video_release_date           float64\n",
              "url                           object\n",
              "uid                           object\n",
              "rate                           int64\n",
              "date                  datetime64[ns]\n",
              "age                            int64\n",
              "s                             object\n",
              "job                           object\n",
              "zip_code                      object\n",
              "year                          object\n",
              "dtype: object"
            ]
          },
          "metadata": {
            "tags": []
          },
          "execution_count": 73
        }
      ]
    },
    {
      "cell_type": "code",
      "metadata": {
        "id": "MqS4u1lfCRTq",
        "outputId": "ed107900-c97a-48fe-977a-8e6f15f225db",
        "colab": {
          "base_uri": "https://localhost:8080/",
          "height": 228
        }
      },
      "source": [
        "# rate 추출\n",
        "labels = mru_tmp['rate']\n",
        "labels"
      ],
      "execution_count": 74,
      "outputs": [
        {
          "output_type": "execute_result",
          "data": {
            "text/plain": [
              "0        4\n",
              "1        5\n",
              "2        4\n",
              "3        4\n",
              "4        5\n",
              "        ..\n",
              "99995    4\n",
              "99996    3\n",
              "99997    3\n",
              "99998    1\n",
              "99999    1\n",
              "Name: rate, Length: 100000, dtype: int64"
            ]
          },
          "metadata": {
            "tags": []
          },
          "execution_count": 74
        }
      ]
    },
    {
      "cell_type": "code",
      "metadata": {
        "id": "lWCMgFvcC-uP",
        "outputId": "123a81f2-10dd-4117-dcf8-59fd8815057c",
        "colab": {
          "base_uri": "https://localhost:8080/",
          "height": 279
        }
      },
      "source": [
        "# 데이터\n",
        "t = mru_tmp.drop('rate', axis=1)\n",
        "t.head()"
      ],
      "execution_count": 75,
      "outputs": [
        {
          "output_type": "execute_result",
          "data": {
            "text/html": [
              "<div>\n",
              "<style scoped>\n",
              "    .dataframe tbody tr th:only-of-type {\n",
              "        vertical-align: middle;\n",
              "    }\n",
              "\n",
              "    .dataframe tbody tr th {\n",
              "        vertical-align: top;\n",
              "    }\n",
              "\n",
              "    .dataframe thead th {\n",
              "        text-align: right;\n",
              "    }\n",
              "</style>\n",
              "<table border=\"1\" class=\"dataframe\">\n",
              "  <thead>\n",
              "    <tr style=\"text-align: right;\">\n",
              "      <th></th>\n",
              "      <th>mid</th>\n",
              "      <th>title</th>\n",
              "      <th>release_date</th>\n",
              "      <th>video_release_date</th>\n",
              "      <th>url</th>\n",
              "      <th>uid</th>\n",
              "      <th>date</th>\n",
              "      <th>age</th>\n",
              "      <th>s</th>\n",
              "      <th>job</th>\n",
              "      <th>zip_code</th>\n",
              "      <th>year</th>\n",
              "    </tr>\n",
              "  </thead>\n",
              "  <tbody>\n",
              "    <tr>\n",
              "      <th>0</th>\n",
              "      <td>1</td>\n",
              "      <td>Toy Story (1995)</td>\n",
              "      <td>01-Jan-1995</td>\n",
              "      <td>NaN</td>\n",
              "      <td>http://us.imdb.com/M/title-exact?Toy%20Story%2...</td>\n",
              "      <td>308</td>\n",
              "      <td>1998-02-17 17:28:52</td>\n",
              "      <td>60</td>\n",
              "      <td>M</td>\n",
              "      <td>retired</td>\n",
              "      <td>95076</td>\n",
              "      <td>1998</td>\n",
              "    </tr>\n",
              "    <tr>\n",
              "      <th>1</th>\n",
              "      <td>4</td>\n",
              "      <td>Get Shorty (1995)</td>\n",
              "      <td>01-Jan-1995</td>\n",
              "      <td>NaN</td>\n",
              "      <td>http://us.imdb.com/M/title-exact?Get%20Shorty%...</td>\n",
              "      <td>308</td>\n",
              "      <td>1998-02-17 17:51:30</td>\n",
              "      <td>60</td>\n",
              "      <td>M</td>\n",
              "      <td>retired</td>\n",
              "      <td>95076</td>\n",
              "      <td>1998</td>\n",
              "    </tr>\n",
              "    <tr>\n",
              "      <th>2</th>\n",
              "      <td>5</td>\n",
              "      <td>Copycat (1995)</td>\n",
              "      <td>01-Jan-1995</td>\n",
              "      <td>NaN</td>\n",
              "      <td>http://us.imdb.com/M/title-exact?Copycat%20(1995)</td>\n",
              "      <td>308</td>\n",
              "      <td>1998-02-17 18:20:08</td>\n",
              "      <td>60</td>\n",
              "      <td>M</td>\n",
              "      <td>retired</td>\n",
              "      <td>95076</td>\n",
              "      <td>1998</td>\n",
              "    </tr>\n",
              "    <tr>\n",
              "      <th>3</th>\n",
              "      <td>7</td>\n",
              "      <td>Twelve Monkeys (1995)</td>\n",
              "      <td>01-Jan-1995</td>\n",
              "      <td>NaN</td>\n",
              "      <td>http://us.imdb.com/M/title-exact?Twelve%20Monk...</td>\n",
              "      <td>308</td>\n",
              "      <td>1998-02-17 18:07:27</td>\n",
              "      <td>60</td>\n",
              "      <td>M</td>\n",
              "      <td>retired</td>\n",
              "      <td>95076</td>\n",
              "      <td>1998</td>\n",
              "    </tr>\n",
              "    <tr>\n",
              "      <th>4</th>\n",
              "      <td>8</td>\n",
              "      <td>Babe (1995)</td>\n",
              "      <td>01-Jan-1995</td>\n",
              "      <td>NaN</td>\n",
              "      <td>http://us.imdb.com/M/title-exact?Babe%20(1995)</td>\n",
              "      <td>308</td>\n",
              "      <td>1998-02-17 17:31:36</td>\n",
              "      <td>60</td>\n",
              "      <td>M</td>\n",
              "      <td>retired</td>\n",
              "      <td>95076</td>\n",
              "      <td>1998</td>\n",
              "    </tr>\n",
              "  </tbody>\n",
              "</table>\n",
              "</div>"
            ],
            "text/plain": [
              "  mid                  title release_date  ...      job zip_code  year\n",
              "0   1       Toy Story (1995)  01-Jan-1995  ...  retired    95076  1998\n",
              "1   4      Get Shorty (1995)  01-Jan-1995  ...  retired    95076  1998\n",
              "2   5         Copycat (1995)  01-Jan-1995  ...  retired    95076  1998\n",
              "3   7  Twelve Monkeys (1995)  01-Jan-1995  ...  retired    95076  1998\n",
              "4   8            Babe (1995)  01-Jan-1995  ...  retired    95076  1998\n",
              "\n",
              "[5 rows x 12 columns]"
            ]
          },
          "metadata": {
            "tags": []
          },
          "execution_count": 75
        }
      ]
    },
    {
      "cell_type": "code",
      "metadata": {
        "id": "PPr1eKeIDOjF",
        "outputId": "6e71bbb4-4c63-42ac-b9f1-31045b9b3b1e",
        "colab": {
          "base_uri": "https://localhost:8080/",
          "height": 439
        }
      },
      "source": [
        "# df => dict로 변환\n",
        "t.to_dict('records')[:2]"
      ],
      "execution_count": 76,
      "outputs": [
        {
          "output_type": "execute_result",
          "data": {
            "text/plain": [
              "[{'age': 60,\n",
              "  'date': Timestamp('1998-02-17 17:28:52'),\n",
              "  'job': 'retired',\n",
              "  'mid': '1',\n",
              "  'release_date': '01-Jan-1995',\n",
              "  's': 'M',\n",
              "  'title': 'Toy Story (1995)',\n",
              "  'uid': '308',\n",
              "  'url': 'http://us.imdb.com/M/title-exact?Toy%20Story%20(1995)',\n",
              "  'video_release_date': nan,\n",
              "  'year': '1998',\n",
              "  'zip_code': '95076'},\n",
              " {'age': 60,\n",
              "  'date': Timestamp('1998-02-17 17:51:30'),\n",
              "  'job': 'retired',\n",
              "  'mid': '4',\n",
              "  'release_date': '01-Jan-1995',\n",
              "  's': 'M',\n",
              "  'title': 'Get Shorty (1995)',\n",
              "  'uid': '308',\n",
              "  'url': 'http://us.imdb.com/M/title-exact?Get%20Shorty%20(1995)',\n",
              "  'video_release_date': nan,\n",
              "  'year': '1998',\n",
              "  'zip_code': '95076'}]"
            ]
          },
          "metadata": {
            "tags": []
          },
          "execution_count": 76
        }
      ]
    },
    {
      "cell_type": "code",
      "metadata": {
        "id": "K6T9hmmkZh2g",
        "outputId": "cf7df4e8-d4a4-4b58-cb8e-a1e6f35a2d55",
        "colab": {
          "base_uri": "https://localhost:8080/",
          "height": 207,
          "referenced_widgets": [
            "52760ebf84714179b24879d3bf93e02f",
            "af90007bc947492c8fa5d0f41348e794",
            "6a38db84cf1045338d5eaf369cd61711",
            "6b083b99e4264ee99f56885d95cb75af",
            "05b41156b4bc4c59b4da0f7421e7dea6",
            "c5901398ae194dbf8335a0a711db2643",
            "cdfff62f9fa14f6194641bae9f17f2b0",
            "5c2c0044ce634cfb922a8d0d3357018d"
          ]
        }
      },
      "source": [
        "# dict => 벡터화\n",
        "# for문 돌면서 학습 => column의 조합이 바뀐다, 동시에 다른 모든 조건을 동일하게 고정해야 한다.\n",
        "# 1. 설정값(환경변수)\n",
        "n_iter = 500 \n",
        "rank = 8 \n",
        "seed = 123\n",
        "# mse => 예측한 데이터와 실제 정답 간의 거리(오차)를 제곱(음수를 제거하기 위해 제곱했음)해서 평균\n",
        "# rmse => mse에 루트를 씌우서 실제값을 추출\n",
        "# rmse 값이 0에 가까울수록 => 예측값과 실제 정답 간의 오차가 최소로 존재한다고 볼 수 있다.\n",
        "rmse_test = list()    # 손실함수값을 저장\n",
        "\n",
        "from tqdm import tqdm_notebook\n",
        "for col in tqdm_notebook(candidates_cols) :\n",
        "  # 데이터로 새로 준비 -> 컬럼이 매번 바뀐다(조합, 순서)\n",
        "  tmp = mru_tmp[col].dropna()     # 결측 제거하면서 해당 컬럼만 포함해서 데이터 추출\n",
        "  # y 추출\n",
        "  y_train = tmp['rate']\n",
        "  # rate 제거\n",
        "  # dropna() 때문에 이 안에서 rate 제거\n",
        "  tmp = tmp.drop('rate', axis=1)\n",
        "  # dict => 벡터화 => 원-핫인코딩 수행 목적(범주형 변수(문자열) -> 0과 1로 표현, 구분 용도)\n",
        "  v = DictVectorizer()\n",
        "  X_train = v.fit_transform(tmp.to_dict('records'))\n",
        "  print(X_train.shape, len(y_train))\n",
        "  # y => 평점"
      ],
      "execution_count": 77,
      "outputs": [
        {
          "output_type": "stream",
          "text": [
            "/usr/local/lib/python3.6/dist-packages/ipykernel_launcher.py:13: TqdmDeprecationWarning: This function will be removed in tqdm==5.0.0\n",
            "Please use `tqdm.notebook.tqdm` instead of `tqdm.tqdm_notebook`\n",
            "  del sys.path[0]\n"
          ],
          "name": "stderr"
        },
        {
          "output_type": "display_data",
          "data": {
            "application/vnd.jupyter.widget-view+json": {
              "model_id": "52760ebf84714179b24879d3bf93e02f",
              "version_minor": 0,
              "version_major": 2
            },
            "text/plain": [
              "HBox(children=(FloatProgress(value=0.0, max=5.0), HTML(value='')))"
            ]
          },
          "metadata": {
            "tags": []
          }
        },
        {
          "output_type": "stream",
          "text": [
            "(100000, 2630) 100000\n",
            "(100000, 2629) 100000\n",
            "(100000, 2628) 100000\n",
            "(100000, 2628) 100000\n",
            "(100000, 2646) 100000\n",
            "\n"
          ],
          "name": "stdout"
        }
      ]
    },
    {
      "cell_type": "code",
      "metadata": {
        "id": "6p5Lb22vd4ty",
        "outputId": "da7539bb-bc32-4704-cf93-cfa83115d86c",
        "colab": {
          "base_uri": "https://localhost:8080/",
          "height": 119,
          "referenced_widgets": [
            "7e507d5c7ed9436eacf8ce98350ac88f",
            "5cb17562fcfd4060a5e4cd5aa9fe3fca",
            "ef416e6952a94ff584c1ce3445c7bbf6",
            "a8617756b71740439da0fb8729ba3b67",
            "18c2b4db060e4a7dbedf78fe770649bc",
            "5f076eb1e8d64648a3d3d8682a511ca4",
            "d5b56ee67693484aa1f80d677289638f",
            "4f1f263777ce4ca7be47dd964be86b47"
          ]
        }
      },
      "source": [
        "from tqdm import tqdm_notebook\n",
        "for col in tqdm_notebook(candidates_cols):\n",
        "  # 데이터 준비\n",
        "  tmp     = mru_tmp[ col ].dropna()\n",
        "  y_train = np.array(tmp['rate'])\n",
        "  tmp     = tmp.drop( 'rate', axis=1 )\n",
        "  v       = DictVectorizer()\n",
        "  X_train = v.fit_transform( tmp.to_dict('records') )\n",
        "  \n",
        "  # 훈련데이터, 테스트 데이터 분류, 75:25, 난수시드 고정\n",
        "  X_train_dev, X_test_dev, y_train_dev, y_test_dev = train_test_split( X_train, y_train, test_size=0.25, random_state=1 )\n",
        "\n",
        "  # 알고리즘 생성\n",
        "  fm = mcmc.FMRegression( n_iter=n_iter, rank=rank, random_state=seed )\n",
        "\n",
        "  # 훈련->예측\n",
        "  y_pred = fm.fit_predict( X_train_dev, y_train_dev, X_test_dev )\n",
        "\n",
        "  # 평가 : rmse 계산\n",
        "  rmse_test.append( np.sqrt( mean_squared_error( y_test_dev, y_pred) ) )"
      ],
      "execution_count": 78,
      "outputs": [
        {
          "output_type": "stream",
          "text": [
            "/usr/local/lib/python3.6/dist-packages/ipykernel_launcher.py:2: TqdmDeprecationWarning: This function will be removed in tqdm==5.0.0\n",
            "Please use `tqdm.notebook.tqdm` instead of `tqdm.tqdm_notebook`\n",
            "  \n"
          ],
          "name": "stderr"
        },
        {
          "output_type": "display_data",
          "data": {
            "application/vnd.jupyter.widget-view+json": {
              "model_id": "7e507d5c7ed9436eacf8ce98350ac88f",
              "version_minor": 0,
              "version_major": 2
            },
            "text/plain": [
              "HBox(children=(FloatProgress(value=0.0, max=5.0), HTML(value='')))"
            ]
          },
          "metadata": {
            "tags": []
          }
        },
        {
          "output_type": "stream",
          "text": [
            "\n"
          ],
          "name": "stdout"
        }
      ]
    },
    {
      "cell_type": "code",
      "metadata": {
        "id": "5-xpRKPZe27V",
        "outputId": "3c2ccd57-21c2-48ab-b173-3c779412064a",
        "colab": {
          "base_uri": "https://localhost:8080/",
          "height": 140
        }
      },
      "source": [
        "# 대상 데이터들 중에 가장 큰값, 가장 작은값의 인덱스를 찾는다 -\n",
        "# 인덱스를 이용하여 대상을 특정한다\n",
        "np.argmax(rmse_test), np.argmin(rmse_test), rmse_test"
      ],
      "execution_count": 79,
      "outputs": [
        {
          "output_type": "execute_result",
          "data": {
            "text/plain": [
              "(0,\n",
              " 1,\n",
              " [0.8965186646010502,\n",
              "  0.8901487813247458,\n",
              "  0.8942923241252289,\n",
              "  0.8942923241252289,\n",
              "  0.891903225751408])"
            ]
          },
          "metadata": {
            "tags": []
          },
          "execution_count": 79
        }
      ]
    },
    {
      "cell_type": "code",
      "metadata": {
        "id": "jac_uw4ThiYf",
        "outputId": "51a8c2be-30cd-4aef-ac5f-1e5ac4d17174",
        "colab": {
          "base_uri": "https://localhost:8080/",
          "height": 34
        }
      },
      "source": [
        "# 가장 성능이 좋은 컬럼의 조합은\n",
        "candidates_cols[ np.argmin(rmse_test) ]\n",
        "# 아래 조합이다"
      ],
      "execution_count": 80,
      "outputs": [
        {
          "output_type": "execute_result",
          "data": {
            "text/plain": [
              "['uid', 'mid', 's', 'year', 'rate']"
            ]
          },
          "metadata": {
            "tags": []
          },
          "execution_count": 80
        }
      ]
    },
    {
      "cell_type": "markdown",
      "metadata": {
        "id": "5jN-O-My2bxe"
      },
      "source": [
        "# 시스템 통합/구축 (생략)"
      ]
    }
  ]
}