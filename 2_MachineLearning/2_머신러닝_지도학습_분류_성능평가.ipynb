{
  "nbformat": 4,
  "nbformat_minor": 0,
  "metadata": {
    "colab": {
      "name": "2_머신러닝_지도학습_분류_성능평가.ipynb",
      "provenance": [],
      "collapsed_sections": [],
      "toc_visible": true,
      "include_colab_link": true
    },
    "kernelspec": {
      "name": "python3",
      "display_name": "Python 3"
    }
  },
  "cells": [
    {
      "cell_type": "markdown",
      "metadata": {
        "id": "view-in-github",
        "colab_type": "text"
      },
      "source": [
        "<a href=\"https://colab.research.google.com/github/jkjh23/BusanAIDeveloperCourse_AI/blob/master/2_MachineLearning/2_%EB%A8%B8%EC%8B%A0%EB%9F%AC%EB%8B%9D_%EC%A7%80%EB%8F%84%ED%95%99%EC%8A%B5_%EB%B6%84%EB%A5%98_%EC%84%B1%EB%8A%A5%ED%8F%89%EA%B0%80.ipynb\" target=\"_parent\"><img src=\"https://colab.research.google.com/assets/colab-badge.svg\" alt=\"Open In Colab\"/></a>"
      ]
    },
    {
      "cell_type": "code",
      "metadata": {
        "id": "GXT5I-kD3XFR"
      },
      "source": [
        "from IPython.display import Image"
      ],
      "execution_count": 2,
      "outputs": []
    },
    {
      "cell_type": "markdown",
      "metadata": {
        "id": "SkCmp0lOErrU"
      },
      "source": [
        "# 개요"
      ]
    },
    {
      "cell_type": "markdown",
      "metadata": {
        "id": "FaSKoGHFE_QM"
      },
      "source": [
        "## 위치\n",
        "\n"
      ]
    },
    {
      "cell_type": "markdown",
      "metadata": {
        "id": "oslmOuCV3bnm"
      },
      "source": [
        "- 머신러닝 > 지도학습 > 분류\n",
        "  - 분류에 해당하는 알고리즘들의 성능을 평가하는 기준\n",
        "- 방법\n",
        "  - [혼동행렬](https://ko.wikipedia.org/wiki/%ED%98%BC%EB%8F%99_%ED%96%89%EB%A0%AC)\n",
        "    - 지도 학습으로 훈련된 분류 알고리즘의 성능을 시각화 할 수있는 표이다.\n",
        "  - 예측값이 실제관측값(정답)과 비교해 얼마나 정확한가"
      ]
    },
    {
      "cell_type": "markdown",
      "metadata": {
        "id": "TAuw3JraFiQO"
      },
      "source": [
        "# 혼동행렬"
      ]
    },
    {
      "cell_type": "markdown",
      "metadata": {
        "id": "K6qw1XYzFjVZ"
      },
      "source": [
        "## 요소\n"
      ]
    },
    {
      "cell_type": "markdown",
      "metadata": {
        "id": "qrFJWrZX3eHT"
      },
      "source": [
        "- Positive : 긍정적, P\n",
        "- Negative : 부정적, N\n",
        "- True : 예측과 실제가 동일, T\n",
        "- False : 예측과 실제과 상이, F"
      ]
    },
    {
      "cell_type": "markdown",
      "metadata": {
        "id": "BfIp1SWsFqBL"
      },
      "source": [
        "## case\n"
      ]
    },
    {
      "cell_type": "markdown",
      "metadata": {
        "id": "KHt6kiVk3fug"
      },
      "source": [
        "- 주의사항 : 명제에 대한 실제 상황에 긍정/부정을 고려하지 않고, 텍스트 자체만의 긍/부정을 따지고, 예측과 실제값의 동일/상이 여부만 따지면, 혼동의 상황에서 빠져나갈 수 있다.\n",
        "- 암이 있다 Positive / 암이 없다 Negative\n",
        "- TP상황\n",
        "  - 암이 있다고 예측했는데, 실제로 암이 있었다.\n",
        "- TN 상황\n",
        "  - 암이 없다고 예측했는데, 실제로 암이 없었다.\n",
        "- FP 상황\n",
        "  - 암이 있다고 예측했는데, 실제로 암이 없었다.\n",
        "- FN 상황\n",
        "  - 암이 없다고 예측했는데, 실제로 암이 있었다."
      ]
    },
    {
      "cell_type": "markdown",
      "metadata": {
        "id": "JDoI35mSHQto"
      },
      "source": [
        "## 평가지표\n",
        "\n"
      ]
    },
    {
      "cell_type": "code",
      "metadata": {
        "id": "D0LdMrMk3lG2",
        "outputId": "e7da521c-f00a-4895-b445-fc527c24c87e",
        "colab": {
          "base_uri": "https://localhost:8080/",
          "height": 303
        }
      },
      "source": [
        "Image('/content/drive/My Drive/2020_AI_Busan/3_MachineLearning/etc/2-2.3.png')\n",
        "\n",
        "# metrics.classification_report()를 통해서 자동계산된다.\n",
        "# \"1_머신러닝/딥러닝 개발-서비스까지 Flow 확인_언어감지서비스.ipynb\"에서 사용"
      ],
      "execution_count": 3,
      "outputs": [
        {
          "output_type": "execute_result",
          "data": {
            "image/png": "[encoded data removed]",
            "text/plain": [
              "<IPython.core.display.Image object>"
            ]
          },
          "metadata": {
            "tags": []
          },
          "execution_count": 3
        }
      ]
    },
    {
      "cell_type": "markdown",
      "metadata": {
        "id": "bOCEUiHF30-V"
      },
      "source": [
        "- 정밀도 : precision\n",
        "  - 암이 있다고 예측한 모든것(TP + FP), 실제로 병이 있는 비율 -> 정답률\n",
        "  - P = TP / (TP+FP)\n",
        "- 재현율 : recall\n",
        "  - 실제 암이 있는 전체 데이터 중, **참 긍정 비율**\n",
        "  - R = TP / (TP + FN)\n",
        "- F1 score\n",
        "  - 정밀도와 재현율의 조화 평균\n",
        "  - F1 = 2 / (1/P + 1/R)\n",
        "- 특이성\n",
        "  - 실제 암이 없는 전체 데이터 중, **참 부정 비율**\n",
        "  - TN / (TN + FP)\n",
        "- 곡선하 면적\n",
        "  - 참 긍정 비율과 거짓 긍정 비율 사이의 관계를 기술\n",
        "  - ROC curve, AUC값(이 값으로 판단하여 가장 좋은 성능을 내는 알고리즘을 찾아낸다. -> 여러 알고리즘 중 가장 성능이 좋은 알고리즘을 선택할 때 사용)\n",
        "  - 1 - 특이성"
      ]
    },
    {
      "cell_type": "markdown",
      "metadata": {
        "id": "TwedcbkaIe6M"
      },
      "source": [
        "## 기타\n"
      ]
    },
    {
      "cell_type": "markdown",
      "metadata": {
        "id": "qzWd92B636G2"
      },
      "source": [
        "- 위의 표현은 이진분류일 때 이야기다.\n",
        "- 다항분류일 때\n",
        "  - 마이크로 평균\n",
        "    - 정밀도 = (TP1 + TP2 + ...) / (TP1 + FP1 + ...)\n",
        "  - 매크로 평균\n",
        "    - 정밀도 = (개별정밀도1 = 개별정밀도2 + ...) / 총개수"
      ]
    },
    {
      "cell_type": "code",
      "metadata": {
        "id": "WZfK5sraLEk4"
      },
      "source": [
        "import matplotlib.pyplot as plt\n",
        "import sklearn.datasets as mls\n",
        "import pandas as pd"
      ],
      "execution_count": 4,
      "outputs": []
    },
    {
      "cell_type": "markdown",
      "metadata": {
        "id": "HF2rBOOiLYsq"
      },
      "source": [
        "# 연구목표\n"
      ]
    },
    {
      "cell_type": "markdown",
      "metadata": {
        "id": "DWX12YNZ38aH"
      },
      "source": [
        "- ROC, AUC 표현\n",
        "- 여러 알고리즘 교차로 성능평가"
      ]
    },
    {
      "cell_type": "markdown",
      "metadata": {
        "id": "HU2up35QLc5T"
      },
      "source": [
        "# 데이터 획득"
      ]
    },
    {
      "cell_type": "markdown",
      "metadata": {
        "id": "OZ7tR_6s390F"
      },
      "source": [
        "\n",
        "- sklearn에서 제공하는 iris 사용"
      ]
    },
    {
      "cell_type": "code",
      "metadata": {
        "id": "75-E2t-zMbPr",
        "outputId": "43385b33-cf0a-46ed-abc1-5633e4235e9e",
        "colab": {
          "base_uri": "https://localhost:8080/",
          "height": 1000
        }
      },
      "source": [
        "# 데이터 로드\n",
        "# mls.fetch_xxx => 데이터가 커서 요청 시 다운로드해 제공\n",
        "# mls.load_xxx  => scikit-learn이 설치될 때 같이 기본으로 제공\n",
        "# mls.make_xxx  => 더미 데이터를 임의로 생성해서 제공(가상데이터)\n",
        "# => 머신러닝 연습용으로 제공되는 데이터셋이다.\n",
        "tmp = mls.load_iris()\n",
        "print(tmp.DESCR)"
      ],
      "execution_count": 5,
      "outputs": [
        {
          "output_type": "stream",
          "text": [
            ".. _iris_dataset:\n",
            "\n",
            "Iris plants dataset\n",
            "--------------------\n",
            "\n",
            "**Data Set Characteristics:**\n",
            "\n",
            "    :Number of Instances: 150 (50 in each of three classes)\n",
            "    :Number of Attributes: 4 numeric, predictive attributes and the class\n",
            "    :Attribute Information:\n",
            "        - sepal length in cm\n",
            "        - sepal width in cm\n",
            "        - petal length in cm\n",
            "        - petal width in cm\n",
            "        - class:\n",
            "                - Iris-Setosa\n",
            "                - Iris-Versicolour\n",
            "                - Iris-Virginica\n",
            "                \n",
            "    :Summary Statistics:\n",
            "\n",
            "    ============== ==== ==== ======= ===== ====================\n",
            "                    Min  Max   Mean    SD   Class Correlation\n",
            "    ============== ==== ==== ======= ===== ====================\n",
            "    sepal length:   4.3  7.9   5.84   0.83    0.7826\n",
            "    sepal width:    2.0  4.4   3.05   0.43   -0.4194\n",
            "    petal length:   1.0  6.9   3.76   1.76    0.9490  (high!)\n",
            "    petal width:    0.1  2.5   1.20   0.76    0.9565  (high!)\n",
            "    ============== ==== ==== ======= ===== ====================\n",
            "\n",
            "    :Missing Attribute Values: None\n",
            "    :Class Distribution: 33.3% for each of 3 classes.\n",
            "    :Creator: R.A. Fisher\n",
            "    :Donor: Michael Marshall (MARSHALL%PLU@io.arc.nasa.gov)\n",
            "    :Date: July, 1988\n",
            "\n",
            "The famous Iris database, first used by Sir R.A. Fisher. The dataset is taken\n",
            "from Fisher's paper. Note that it's the same as in R, but not as in the UCI\n",
            "Machine Learning Repository, which has two wrong data points.\n",
            "\n",
            "This is perhaps the best known database to be found in the\n",
            "pattern recognition literature.  Fisher's paper is a classic in the field and\n",
            "is referenced frequently to this day.  (See Duda & Hart, for example.)  The\n",
            "data set contains 3 classes of 50 instances each, where each class refers to a\n",
            "type of iris plant.  One class is linearly separable from the other 2; the\n",
            "latter are NOT linearly separable from each other.\n",
            "\n",
            ".. topic:: References\n",
            "\n",
            "   - Fisher, R.A. \"The use of multiple measurements in taxonomic problems\"\n",
            "     Annual Eugenics, 7, Part II, 179-188 (1936); also in \"Contributions to\n",
            "     Mathematical Statistics\" (John Wiley, NY, 1950).\n",
            "   - Duda, R.O., & Hart, P.E. (1973) Pattern Classification and Scene Analysis.\n",
            "     (Q327.D83) John Wiley & Sons.  ISBN 0-471-22361-1.  See page 218.\n",
            "   - Dasarathy, B.V. (1980) \"Nosing Around the Neighborhood: A New System\n",
            "     Structure and Classification Rule for Recognition in Partially Exposed\n",
            "     Environments\".  IEEE Transactions on Pattern Analysis and Machine\n",
            "     Intelligence, Vol. PAMI-2, No. 1, 67-71.\n",
            "   - Gates, G.W. (1972) \"The Reduced Nearest Neighbor Rule\".  IEEE Transactions\n",
            "     on Information Theory, May 1972, 431-433.\n",
            "   - See also: 1988 MLC Proceedings, 54-64.  Cheeseman et al\"s AUTOCLASS II\n",
            "     conceptual clustering system finds 3 classes in the data.\n",
            "   - Many, many more ...\n"
          ],
          "name": "stdout"
        }
      ]
    },
    {
      "cell_type": "code",
      "metadata": {
        "id": "gjCgOIG_M8AO",
        "outputId": "e6e51926-8881-4185-ec14-3a27349d34ca",
        "colab": {
          "base_uri": "https://localhost:8080/",
          "height": 34
        }
      },
      "source": [
        "tmp.keys()"
      ],
      "execution_count": 6,
      "outputs": [
        {
          "output_type": "execute_result",
          "data": {
            "text/plain": [
              "dict_keys(['data', 'target', 'target_names', 'DESCR', 'feature_names', 'filename'])"
            ]
          },
          "metadata": {
            "tags": []
          },
          "execution_count": 6
        }
      ]
    },
    {
      "cell_type": "code",
      "metadata": {
        "id": "Ju9WxK_oNOy2",
        "outputId": "a3ace8cf-c98e-4ebc-b87e-c80ac4e9a655",
        "colab": {
          "base_uri": "https://localhost:8080/",
          "height": 175
        }
      },
      "source": [
        "# 정답 : 0, 1, 2\n",
        "# 'setosa', 'versicolor', 'virginica'\n",
        "tmp.target, tmp.target_names, len(tmp.target)"
      ],
      "execution_count": 7,
      "outputs": [
        {
          "output_type": "execute_result",
          "data": {
            "text/plain": [
              "(array([0, 0, 0, 0, 0, 0, 0, 0, 0, 0, 0, 0, 0, 0, 0, 0, 0, 0, 0, 0, 0, 0,\n",
              "        0, 0, 0, 0, 0, 0, 0, 0, 0, 0, 0, 0, 0, 0, 0, 0, 0, 0, 0, 0, 0, 0,\n",
              "        0, 0, 0, 0, 0, 0, 1, 1, 1, 1, 1, 1, 1, 1, 1, 1, 1, 1, 1, 1, 1, 1,\n",
              "        1, 1, 1, 1, 1, 1, 1, 1, 1, 1, 1, 1, 1, 1, 1, 1, 1, 1, 1, 1, 1, 1,\n",
              "        1, 1, 1, 1, 1, 1, 1, 1, 1, 1, 1, 1, 2, 2, 2, 2, 2, 2, 2, 2, 2, 2,\n",
              "        2, 2, 2, 2, 2, 2, 2, 2, 2, 2, 2, 2, 2, 2, 2, 2, 2, 2, 2, 2, 2, 2,\n",
              "        2, 2, 2, 2, 2, 2, 2, 2, 2, 2, 2, 2, 2, 2, 2, 2, 2, 2]),\n",
              " array(['setosa', 'versicolor', 'virginica'], dtype='<U10'),\n",
              " 150)"
            ]
          },
          "metadata": {
            "tags": []
          },
          "execution_count": 7
        }
      ]
    },
    {
      "cell_type": "code",
      "metadata": {
        "id": "DEpNIh4jNaRT",
        "outputId": "bc24706c-a15f-4a99-d12a-597414045098",
        "colab": {
          "base_uri": "https://localhost:8080/",
          "height": 34
        }
      },
      "source": [
        "tmp.data.shape, type(tmp.data)"
      ],
      "execution_count": 8,
      "outputs": [
        {
          "output_type": "execute_result",
          "data": {
            "text/plain": [
              "((150, 4), numpy.ndarray)"
            ]
          },
          "metadata": {
            "tags": []
          },
          "execution_count": 8
        }
      ]
    },
    {
      "cell_type": "markdown",
      "metadata": {
        "id": "KMnlI2h8LgUj"
      },
      "source": [
        "# 데이터 준비\n"
      ]
    },
    {
      "cell_type": "markdown",
      "metadata": {
        "id": "s2CWR8184GFO"
      },
      "source": [
        "- iris 데이터를 데이터프레임으로 구성, 정답은 Series나 df에 포함시켜서 제공"
      ]
    },
    {
      "cell_type": "code",
      "metadata": {
        "id": "DBFDhnYpNTgY",
        "outputId": "dec2d61d-b918-4e14-822c-d122e20bdf0a",
        "colab": {
          "base_uri": "https://localhost:8080/",
          "height": 195
        }
      },
      "source": [
        "# feature_names을 컬럼명을 사용, data를 데이터로 사용하여 df를 구성하시오\n",
        "# 실습\n",
        "tmp_df = pd.DataFrame(tmp.data)\n",
        "tmp_df.columns = tmp.feature_names\n",
        "tmp_df.head()"
      ],
      "execution_count": 9,
      "outputs": [
        {
          "output_type": "execute_result",
          "data": {
            "text/html": [
              "<div>\n",
              "<style scoped>\n",
              "    .dataframe tbody tr th:only-of-type {\n",
              "        vertical-align: middle;\n",
              "    }\n",
              "\n",
              "    .dataframe tbody tr th {\n",
              "        vertical-align: top;\n",
              "    }\n",
              "\n",
              "    .dataframe thead th {\n",
              "        text-align: right;\n",
              "    }\n",
              "</style>\n",
              "<table border=\"1\" class=\"dataframe\">\n",
              "  <thead>\n",
              "    <tr style=\"text-align: right;\">\n",
              "      <th></th>\n",
              "      <th>sepal length (cm)</th>\n",
              "      <th>sepal width (cm)</th>\n",
              "      <th>petal length (cm)</th>\n",
              "      <th>petal width (cm)</th>\n",
              "    </tr>\n",
              "  </thead>\n",
              "  <tbody>\n",
              "    <tr>\n",
              "      <th>0</th>\n",
              "      <td>5.1</td>\n",
              "      <td>3.5</td>\n",
              "      <td>1.4</td>\n",
              "      <td>0.2</td>\n",
              "    </tr>\n",
              "    <tr>\n",
              "      <th>1</th>\n",
              "      <td>4.9</td>\n",
              "      <td>3.0</td>\n",
              "      <td>1.4</td>\n",
              "      <td>0.2</td>\n",
              "    </tr>\n",
              "    <tr>\n",
              "      <th>2</th>\n",
              "      <td>4.7</td>\n",
              "      <td>3.2</td>\n",
              "      <td>1.3</td>\n",
              "      <td>0.2</td>\n",
              "    </tr>\n",
              "    <tr>\n",
              "      <th>3</th>\n",
              "      <td>4.6</td>\n",
              "      <td>3.1</td>\n",
              "      <td>1.5</td>\n",
              "      <td>0.2</td>\n",
              "    </tr>\n",
              "    <tr>\n",
              "      <th>4</th>\n",
              "      <td>5.0</td>\n",
              "      <td>3.6</td>\n",
              "      <td>1.4</td>\n",
              "      <td>0.2</td>\n",
              "    </tr>\n",
              "  </tbody>\n",
              "</table>\n",
              "</div>"
            ],
            "text/plain": [
              "   sepal length (cm)  sepal width (cm)  petal length (cm)  petal width (cm)\n",
              "0                5.1               3.5                1.4               0.2\n",
              "1                4.9               3.0                1.4               0.2\n",
              "2                4.7               3.2                1.3               0.2\n",
              "3                4.6               3.1                1.5               0.2\n",
              "4                5.0               3.6                1.4               0.2"
            ]
          },
          "metadata": {
            "tags": []
          },
          "execution_count": 9
        }
      ]
    },
    {
      "cell_type": "code",
      "metadata": {
        "id": "nqp54xOESCXM",
        "outputId": "1a661e51-1243-4f94-b946-477d6124638d",
        "colab": {
          "base_uri": "https://localhost:8080/",
          "height": 195
        }
      },
      "source": [
        "# 강의\n",
        "df = pd.DataFrame(tmp.data, columns=tmp.feature_names)\n",
        "df.head()"
      ],
      "execution_count": 10,
      "outputs": [
        {
          "output_type": "execute_result",
          "data": {
            "text/html": [
              "<div>\n",
              "<style scoped>\n",
              "    .dataframe tbody tr th:only-of-type {\n",
              "        vertical-align: middle;\n",
              "    }\n",
              "\n",
              "    .dataframe tbody tr th {\n",
              "        vertical-align: top;\n",
              "    }\n",
              "\n",
              "    .dataframe thead th {\n",
              "        text-align: right;\n",
              "    }\n",
              "</style>\n",
              "<table border=\"1\" class=\"dataframe\">\n",
              "  <thead>\n",
              "    <tr style=\"text-align: right;\">\n",
              "      <th></th>\n",
              "      <th>sepal length (cm)</th>\n",
              "      <th>sepal width (cm)</th>\n",
              "      <th>petal length (cm)</th>\n",
              "      <th>petal width (cm)</th>\n",
              "    </tr>\n",
              "  </thead>\n",
              "  <tbody>\n",
              "    <tr>\n",
              "      <th>0</th>\n",
              "      <td>5.1</td>\n",
              "      <td>3.5</td>\n",
              "      <td>1.4</td>\n",
              "      <td>0.2</td>\n",
              "    </tr>\n",
              "    <tr>\n",
              "      <th>1</th>\n",
              "      <td>4.9</td>\n",
              "      <td>3.0</td>\n",
              "      <td>1.4</td>\n",
              "      <td>0.2</td>\n",
              "    </tr>\n",
              "    <tr>\n",
              "      <th>2</th>\n",
              "      <td>4.7</td>\n",
              "      <td>3.2</td>\n",
              "      <td>1.3</td>\n",
              "      <td>0.2</td>\n",
              "    </tr>\n",
              "    <tr>\n",
              "      <th>3</th>\n",
              "      <td>4.6</td>\n",
              "      <td>3.1</td>\n",
              "      <td>1.5</td>\n",
              "      <td>0.2</td>\n",
              "    </tr>\n",
              "    <tr>\n",
              "      <th>4</th>\n",
              "      <td>5.0</td>\n",
              "      <td>3.6</td>\n",
              "      <td>1.4</td>\n",
              "      <td>0.2</td>\n",
              "    </tr>\n",
              "  </tbody>\n",
              "</table>\n",
              "</div>"
            ],
            "text/plain": [
              "   sepal length (cm)  sepal width (cm)  petal length (cm)  petal width (cm)\n",
              "0                5.1               3.5                1.4               0.2\n",
              "1                4.9               3.0                1.4               0.2\n",
              "2                4.7               3.2                1.3               0.2\n",
              "3                4.6               3.1                1.5               0.2\n",
              "4                5.0               3.6                1.4               0.2"
            ]
          },
          "metadata": {
            "tags": []
          },
          "execution_count": 10
        }
      ]
    },
    {
      "cell_type": "code",
      "metadata": {
        "id": "jYCfZ6pkSSUm",
        "outputId": "fb47f7b4-f28c-44bc-c9bf-6d45c0467ad4",
        "colab": {
          "base_uri": "https://localhost:8080/",
          "height": 284
        }
      },
      "source": [
        "df.describe()"
      ],
      "execution_count": 11,
      "outputs": [
        {
          "output_type": "execute_result",
          "data": {
            "text/html": [
              "<div>\n",
              "<style scoped>\n",
              "    .dataframe tbody tr th:only-of-type {\n",
              "        vertical-align: middle;\n",
              "    }\n",
              "\n",
              "    .dataframe tbody tr th {\n",
              "        vertical-align: top;\n",
              "    }\n",
              "\n",
              "    .dataframe thead th {\n",
              "        text-align: right;\n",
              "    }\n",
              "</style>\n",
              "<table border=\"1\" class=\"dataframe\">\n",
              "  <thead>\n",
              "    <tr style=\"text-align: right;\">\n",
              "      <th></th>\n",
              "      <th>sepal length (cm)</th>\n",
              "      <th>sepal width (cm)</th>\n",
              "      <th>petal length (cm)</th>\n",
              "      <th>petal width (cm)</th>\n",
              "    </tr>\n",
              "  </thead>\n",
              "  <tbody>\n",
              "    <tr>\n",
              "      <th>count</th>\n",
              "      <td>150.000000</td>\n",
              "      <td>150.000000</td>\n",
              "      <td>150.000000</td>\n",
              "      <td>150.000000</td>\n",
              "    </tr>\n",
              "    <tr>\n",
              "      <th>mean</th>\n",
              "      <td>5.843333</td>\n",
              "      <td>3.057333</td>\n",
              "      <td>3.758000</td>\n",
              "      <td>1.199333</td>\n",
              "    </tr>\n",
              "    <tr>\n",
              "      <th>std</th>\n",
              "      <td>0.828066</td>\n",
              "      <td>0.435866</td>\n",
              "      <td>1.765298</td>\n",
              "      <td>0.762238</td>\n",
              "    </tr>\n",
              "    <tr>\n",
              "      <th>min</th>\n",
              "      <td>4.300000</td>\n",
              "      <td>2.000000</td>\n",
              "      <td>1.000000</td>\n",
              "      <td>0.100000</td>\n",
              "    </tr>\n",
              "    <tr>\n",
              "      <th>25%</th>\n",
              "      <td>5.100000</td>\n",
              "      <td>2.800000</td>\n",
              "      <td>1.600000</td>\n",
              "      <td>0.300000</td>\n",
              "    </tr>\n",
              "    <tr>\n",
              "      <th>50%</th>\n",
              "      <td>5.800000</td>\n",
              "      <td>3.000000</td>\n",
              "      <td>4.350000</td>\n",
              "      <td>1.300000</td>\n",
              "    </tr>\n",
              "    <tr>\n",
              "      <th>75%</th>\n",
              "      <td>6.400000</td>\n",
              "      <td>3.300000</td>\n",
              "      <td>5.100000</td>\n",
              "      <td>1.800000</td>\n",
              "    </tr>\n",
              "    <tr>\n",
              "      <th>max</th>\n",
              "      <td>7.900000</td>\n",
              "      <td>4.400000</td>\n",
              "      <td>6.900000</td>\n",
              "      <td>2.500000</td>\n",
              "    </tr>\n",
              "  </tbody>\n",
              "</table>\n",
              "</div>"
            ],
            "text/plain": [
              "       sepal length (cm)  sepal width (cm)  petal length (cm)  petal width (cm)\n",
              "count         150.000000        150.000000         150.000000        150.000000\n",
              "mean            5.843333          3.057333           3.758000          1.199333\n",
              "std             0.828066          0.435866           1.765298          0.762238\n",
              "min             4.300000          2.000000           1.000000          0.100000\n",
              "25%             5.100000          2.800000           1.600000          0.300000\n",
              "50%             5.800000          3.000000           4.350000          1.300000\n",
              "75%             6.400000          3.300000           5.100000          1.800000\n",
              "max             7.900000          4.400000           6.900000          2.500000"
            ]
          },
          "metadata": {
            "tags": []
          },
          "execution_count": 11
        }
      ]
    },
    {
      "cell_type": "code",
      "metadata": {
        "id": "-TzO-XFkSV3B",
        "outputId": "ea3243a7-5ac7-45e1-81ab-2e1211f5b9ff",
        "colab": {
          "base_uri": "https://localhost:8080/",
          "height": 195
        }
      },
      "source": [
        "# 정답 데이터 추가\n",
        "# 컬럼명 species, 값 target\n",
        "# 실습\n",
        "tmp_df['species'] = tmp.target\n",
        "tmp_df.tail()"
      ],
      "execution_count": 12,
      "outputs": [
        {
          "output_type": "execute_result",
          "data": {
            "text/html": [
              "<div>\n",
              "<style scoped>\n",
              "    .dataframe tbody tr th:only-of-type {\n",
              "        vertical-align: middle;\n",
              "    }\n",
              "\n",
              "    .dataframe tbody tr th {\n",
              "        vertical-align: top;\n",
              "    }\n",
              "\n",
              "    .dataframe thead th {\n",
              "        text-align: right;\n",
              "    }\n",
              "</style>\n",
              "<table border=\"1\" class=\"dataframe\">\n",
              "  <thead>\n",
              "    <tr style=\"text-align: right;\">\n",
              "      <th></th>\n",
              "      <th>sepal length (cm)</th>\n",
              "      <th>sepal width (cm)</th>\n",
              "      <th>petal length (cm)</th>\n",
              "      <th>petal width (cm)</th>\n",
              "      <th>species</th>\n",
              "    </tr>\n",
              "  </thead>\n",
              "  <tbody>\n",
              "    <tr>\n",
              "      <th>145</th>\n",
              "      <td>6.7</td>\n",
              "      <td>3.0</td>\n",
              "      <td>5.2</td>\n",
              "      <td>2.3</td>\n",
              "      <td>2</td>\n",
              "    </tr>\n",
              "    <tr>\n",
              "      <th>146</th>\n",
              "      <td>6.3</td>\n",
              "      <td>2.5</td>\n",
              "      <td>5.0</td>\n",
              "      <td>1.9</td>\n",
              "      <td>2</td>\n",
              "    </tr>\n",
              "    <tr>\n",
              "      <th>147</th>\n",
              "      <td>6.5</td>\n",
              "      <td>3.0</td>\n",
              "      <td>5.2</td>\n",
              "      <td>2.0</td>\n",
              "      <td>2</td>\n",
              "    </tr>\n",
              "    <tr>\n",
              "      <th>148</th>\n",
              "      <td>6.2</td>\n",
              "      <td>3.4</td>\n",
              "      <td>5.4</td>\n",
              "      <td>2.3</td>\n",
              "      <td>2</td>\n",
              "    </tr>\n",
              "    <tr>\n",
              "      <th>149</th>\n",
              "      <td>5.9</td>\n",
              "      <td>3.0</td>\n",
              "      <td>5.1</td>\n",
              "      <td>1.8</td>\n",
              "      <td>2</td>\n",
              "    </tr>\n",
              "  </tbody>\n",
              "</table>\n",
              "</div>"
            ],
            "text/plain": [
              "     sepal length (cm)  sepal width (cm)  ...  petal width (cm)  species\n",
              "145                6.7               3.0  ...               2.3        2\n",
              "146                6.3               2.5  ...               1.9        2\n",
              "147                6.5               3.0  ...               2.0        2\n",
              "148                6.2               3.4  ...               2.3        2\n",
              "149                5.9               3.0  ...               1.8        2\n",
              "\n",
              "[5 rows x 5 columns]"
            ]
          },
          "metadata": {
            "tags": []
          },
          "execution_count": 12
        }
      ]
    },
    {
      "cell_type": "code",
      "metadata": {
        "id": "Om_FHLXmSuKB",
        "outputId": "26b1656a-1508-41ba-a744-bcbad2e08e00",
        "colab": {
          "base_uri": "https://localhost:8080/",
          "height": 195
        }
      },
      "source": [
        "# 강의\n",
        "df['species'] = tmp.target\n",
        "df.head()"
      ],
      "execution_count": 13,
      "outputs": [
        {
          "output_type": "execute_result",
          "data": {
            "text/html": [
              "<div>\n",
              "<style scoped>\n",
              "    .dataframe tbody tr th:only-of-type {\n",
              "        vertical-align: middle;\n",
              "    }\n",
              "\n",
              "    .dataframe tbody tr th {\n",
              "        vertical-align: top;\n",
              "    }\n",
              "\n",
              "    .dataframe thead th {\n",
              "        text-align: right;\n",
              "    }\n",
              "</style>\n",
              "<table border=\"1\" class=\"dataframe\">\n",
              "  <thead>\n",
              "    <tr style=\"text-align: right;\">\n",
              "      <th></th>\n",
              "      <th>sepal length (cm)</th>\n",
              "      <th>sepal width (cm)</th>\n",
              "      <th>petal length (cm)</th>\n",
              "      <th>petal width (cm)</th>\n",
              "      <th>species</th>\n",
              "    </tr>\n",
              "  </thead>\n",
              "  <tbody>\n",
              "    <tr>\n",
              "      <th>0</th>\n",
              "      <td>5.1</td>\n",
              "      <td>3.5</td>\n",
              "      <td>1.4</td>\n",
              "      <td>0.2</td>\n",
              "      <td>0</td>\n",
              "    </tr>\n",
              "    <tr>\n",
              "      <th>1</th>\n",
              "      <td>4.9</td>\n",
              "      <td>3.0</td>\n",
              "      <td>1.4</td>\n",
              "      <td>0.2</td>\n",
              "      <td>0</td>\n",
              "    </tr>\n",
              "    <tr>\n",
              "      <th>2</th>\n",
              "      <td>4.7</td>\n",
              "      <td>3.2</td>\n",
              "      <td>1.3</td>\n",
              "      <td>0.2</td>\n",
              "      <td>0</td>\n",
              "    </tr>\n",
              "    <tr>\n",
              "      <th>3</th>\n",
              "      <td>4.6</td>\n",
              "      <td>3.1</td>\n",
              "      <td>1.5</td>\n",
              "      <td>0.2</td>\n",
              "      <td>0</td>\n",
              "    </tr>\n",
              "    <tr>\n",
              "      <th>4</th>\n",
              "      <td>5.0</td>\n",
              "      <td>3.6</td>\n",
              "      <td>1.4</td>\n",
              "      <td>0.2</td>\n",
              "      <td>0</td>\n",
              "    </tr>\n",
              "  </tbody>\n",
              "</table>\n",
              "</div>"
            ],
            "text/plain": [
              "   sepal length (cm)  sepal width (cm)  ...  petal width (cm)  species\n",
              "0                5.1               3.5  ...               0.2        0\n",
              "1                4.9               3.0  ...               0.2        0\n",
              "2                4.7               3.2  ...               0.2        0\n",
              "3                4.6               3.1  ...               0.2        0\n",
              "4                5.0               3.6  ...               0.2        0\n",
              "\n",
              "[5 rows x 5 columns]"
            ]
          },
          "metadata": {
            "tags": []
          },
          "execution_count": 13
        }
      ]
    },
    {
      "cell_type": "markdown",
      "metadata": {
        "id": "CfV5_Rl9Lg2b"
      },
      "source": [
        "# 데이터 분석(생략)"
      ]
    },
    {
      "cell_type": "markdown",
      "metadata": {
        "id": "GKqMUePrLgt6"
      },
      "source": [
        "# 모델 구축(성능평가에 집중)\n"
      ]
    },
    {
      "cell_type": "markdown",
      "metadata": {
        "id": "gr6CBG_84J-G"
      },
      "source": [
        "- 여러 알고리즘을 이용하여 학습, 예측, 평가 수행\n"
      ]
    },
    {
      "cell_type": "code",
      "metadata": {
        "id": "AlFFPCYpTf60"
      },
      "source": [
        "# 여기서는 여러 알고리즘을 사용\n",
        "from sklearn.linear_model import LogisticRegression   # 회귀모델인데 분류에서 한번 사용해본다.\n",
        "from sklearn.tree import DecisionTreeClassifier       # 결정트리분류\n",
        "from sklearn.ensemble import RandomForestClassifier   # 랜덤포레스트분류\n",
        "from sklearn.naive_bayes import GaussianNB            # 가우시안NB, 원래 자연어처리에 사용하는 것인데 이번에 한번 사용해본다.\n",
        "from sklearn.svm import SVC                           # 서포트벡터머신 분류"
      ],
      "execution_count": 14,
      "outputs": []
    },
    {
      "cell_type": "code",
      "metadata": {
        "id": "l8pr4djCUn6h"
      },
      "source": [
        "# 도구\n",
        "import sklearn\n",
        "from sklearn.metrics import auc, roc_curve            # 곡선하면적으로 알고리즘을 교차로 성능평가\n",
        "# 데이터를 훈련용과 테스트용으로 나누는 함수\n",
        "from sklearn.model_selection import train_test_split  # 데이터를 나눈다."
      ],
      "execution_count": 15,
      "outputs": []
    },
    {
      "cell_type": "markdown",
      "metadata": {
        "id": "pNlAQKcJX3ZT"
      },
      "source": [
        "## 데이터 분류\n"
      ]
    },
    {
      "cell_type": "markdown",
      "metadata": {
        "id": "01w-hS4x4MK7"
      },
      "source": [
        "- 훈련용 75, 테스트용 25"
      ]
    },
    {
      "cell_type": "code",
      "metadata": {
        "id": "4h6L3VGkTS83",
        "outputId": "4baf1715-ab25-4b6a-c79e-cb11a4325d25",
        "colab": {
          "base_uri": "https://localhost:8080/",
          "height": 34
        }
      },
      "source": [
        "df.shape"
      ],
      "execution_count": 16,
      "outputs": [
        {
          "output_type": "execute_result",
          "data": {
            "text/plain": [
              "(150, 5)"
            ]
          },
          "metadata": {
            "tags": []
          },
          "execution_count": 16
        }
      ]
    },
    {
      "cell_type": "code",
      "metadata": {
        "id": "0xpXEzFLVcc1",
        "outputId": "44301ec2-5cfa-4963-8296-da26783dd113",
        "colab": {
          "base_uri": "https://localhost:8080/",
          "height": 34
        }
      },
      "source": [
        "# 데이터(feature) (150, 4), 정답(label, class) (150, 1)\n",
        "# (150, 4)만 추출\n",
        "# X = df.iloc[:, :4]\n",
        "# X = df[df.columns[:-1]]\n",
        "X = df[df.columns[:4]]\n",
        "X.shape"
      ],
      "execution_count": 17,
      "outputs": [
        {
          "output_type": "execute_result",
          "data": {
            "text/plain": [
              "(150, 4)"
            ]
          },
          "metadata": {
            "tags": []
          },
          "execution_count": 17
        }
      ]
    },
    {
      "cell_type": "code",
      "metadata": {
        "id": "u6X29XvFXFJs",
        "outputId": "f43fdccd-e65c-4994-8272-ab7db0ebf3d6",
        "colab": {
          "base_uri": "https://localhost:8080/",
          "height": 34
        }
      },
      "source": [
        "# 학습 시 X는 2차원, y는 1차원이다. => y는 X보다 차원이 1개 낮다.\n",
        "# y = df[df.columns[-1]]\n",
        "y = df[df.columns[-1]] == 1 #=> 2진 분류, 1이면 참이고 아니면 거짓, 성능평가를 극대화하기 위해 2진 분류로 적용하겠다.\n",
        "y.shape"
      ],
      "execution_count": 18,
      "outputs": [
        {
          "output_type": "execute_result",
          "data": {
            "text/plain": [
              "(150,)"
            ]
          },
          "metadata": {
            "tags": []
          },
          "execution_count": 18
        }
      ]
    },
    {
      "cell_type": "code",
      "metadata": {
        "id": "oA9oWWv5X_aa",
        "outputId": "c4bc79ec-d50d-4b41-f817-6cb24a8a9730",
        "colab": {
          "base_uri": "https://localhost:8080/",
          "height": 34
        }
      },
      "source": [
        "# random_state : 데이터의 섞임을 항상 일정하게 가겠다. (난수 시드고정)\n",
        "X_train, X_test, y_train, y_test = train_test_split(X, y, test_size = 0.8, random_state = 1)\n",
        "# 테스트 데이터의 비율을 임의로 80%로 배정하였다. (성능평가를 극단적으로 차이나게 하기 위해)\n",
        "X_train.shape, X_test.shape"
      ],
      "execution_count": 19,
      "outputs": [
        {
          "output_type": "execute_result",
          "data": {
            "text/plain": [
              "((30, 4), (120, 4))"
            ]
          },
          "metadata": {
            "tags": []
          },
          "execution_count": 19
        }
      ]
    },
    {
      "cell_type": "markdown",
      "metadata": {
        "id": "niXjtEUzXZB1"
      },
      "source": [
        "## 성능평가"
      ]
    },
    {
      "cell_type": "code",
      "metadata": {
        "id": "JcdZ1v0JZB6d"
      },
      "source": [
        "# 알고리즘 준비   \n",
        "als = {\n",
        "    # 키(알고리즘)           : (선의 모양, 알고리즘객체)\n",
        "    'LogisticRegression'     : ('-', LogisticRegression()                                                ),\n",
        "    'DecisionTreeClassifier' : ('--',DecisionTreeClassifier(max_depth=5)                                 ),\n",
        "    'RandomForestClassifier' : ('.-',RandomForestClassifier(max_depth=5, max_features=1, n_estimators=10)),\n",
        "    'GaussianNB'             : (':', GaussianNB()                                                        ),\n",
        "    'SVC'                    : ('-', SVC()                                                               )\n",
        "}"
      ],
      "execution_count": 22,
      "outputs": []
    },
    {
      "cell_type": "code",
      "metadata": {
        "id": "cEbmEg5qTS_d",
        "outputId": "4e5d0c91-13d4-4db9-ee2f-1cb6488c8718",
        "colab": {
          "base_uri": "https://localhost:8080/",
          "height": 34
        }
      },
      "source": [
        "# for문으로 돌리겠다. : 알고리즘 선택, 학습, 예측, 성능평가\n",
        "for al_name, (lineStyle, model) in als.items() :\n",
        "  # 알고리즘 선택\n",
        "  # print(al_name, lineStyle, model)\n",
        "  # 학습\n",
        "  model.fit(X_train, y_train)\n",
        "  # 예측\n",
        "  # 예측 시 확률이 높은 쪽으로 편향되서 예측하는 방법\n",
        "  pred = model.predict_proba(X_test)\n",
        "  # 성능평가\n",
        "  print(type(pred))\n",
        "  break"
      ],
      "execution_count": 23,
      "outputs": [
        {
          "output_type": "stream",
          "text": [
            "<class 'numpy.ndarray'>\n"
          ],
          "name": "stdout"
        }
      ]
    },
    {
      "cell_type": "code",
      "metadata": {
        "id": "rNSJtbZ_fMIP",
        "outputId": "9a60d550-88df-4aae-e953-bef4ecd61c8c",
        "colab": {
          "base_uri": "https://localhost:8080/",
          "height": 34
        }
      },
      "source": [
        "# 예측값을 해석해보면\n",
        "# 분류의 결과는 2개로 나오고, 그런 예측값이 총 120개가 나온다.\n",
        "# 각각의 값은 T의 확률과 F의 확률이다. T + F = 1.0\n",
        "# 後 : T, F의 위치 확인 체크\n",
        "pred.shape, pred[0], sum(pred[0])"
      ],
      "execution_count": 24,
      "outputs": [
        {
          "output_type": "execute_result",
          "data": {
            "text/plain": [
              "((120, 2), array([0.91241711, 0.08758289]), 1.0)"
            ]
          },
          "metadata": {
            "tags": []
          },
          "execution_count": 24
        }
      ]
    },
    {
      "cell_type": "code",
      "metadata": {
        "id": "jLXmu4sNf9Sr",
        "outputId": "441d4d80-0359-4991-d582-7afda108344a",
        "colab": {
          "base_uri": "https://localhost:8080/",
          "height": 228
        }
      },
      "source": [
        "# 데이터 중에 뒤에 값만 취하겠다.\n",
        "pred_s = pd.Series(pred[:,1])\n",
        "pred_s"
      ],
      "execution_count": 25,
      "outputs": [
        {
          "output_type": "execute_result",
          "data": {
            "text/plain": [
              "0      0.087583\n",
              "1      0.509780\n",
              "2      0.495408\n",
              "3      0.094216\n",
              "4      0.399905\n",
              "         ...   \n",
              "115    0.217703\n",
              "116    0.597221\n",
              "117    0.229257\n",
              "118    0.538376\n",
              "119    0.583446\n",
              "Length: 120, dtype: float64"
            ]
          },
          "metadata": {
            "tags": []
          },
          "execution_count": 25
        }
      ]
    },
    {
      "cell_type": "code",
      "metadata": {
        "id": "B4PT6fougjZS",
        "outputId": "ecd809be-cd67-4149-8606-effc0a0318e6",
        "colab": {
          "base_uri": "https://localhost:8080/",
          "height": 677
        }
      },
      "source": [
        "als = {\n",
        "    'LogisticRegression'    :('-', LogisticRegression()                                                ),\n",
        "    'DecisionTreeClassifier':('--',DecisionTreeClassifier(max_depth=5)                                 ),\n",
        "    'RandomForestClassifier':('.-',RandomForestClassifier(max_depth=5, max_features=1, n_estimators=10)),\n",
        "    'GaussianNB'            :(':', GaussianNB()                                                        )\n",
        "}\n",
        "\n",
        "plt.figure(figsize = (15, 10))\n",
        "\n",
        "for al_name, (lineStyle, model) in als.items() :\n",
        "  model.fit(X_train, y_train)\n",
        "  pred = model.predict_proba(X_test)\n",
        "  # 성능평가\n",
        "  # 예측값 중 1개만(특정 긍정비율만) 선택\n",
        "  pred_s = pd.Series(pred[:,1])\n",
        "  # roc커브\n",
        "  fpr, tpr, _ = roc_curve(y_test, pred_s)\n",
        "  # 차트 그리기\n",
        "  plt.plot(fpr, tpr, lineStyle, linewidth = 5, label = al_name)\n",
        "  # 수치로 확인\n",
        "  print(al_name, auc(fpr, tpr))\n",
        "\n",
        "plt.legend()\n",
        "plt.xlabel('False Positive Rate')\n",
        "plt.ylabel('True Pp=ositive Rate')\n",
        "plt.plot([0,1], [0,1], 'k--')\n",
        "plt.show()\n",
        "\n",
        "# 알고리즘들을 평가도구에 의해서 해당 데이터에 좋은 성능을 내는 평가도구로 auc, roc_curve 등을 활용할 수 있다.\n",
        "# 단, 최적화 도구에서도 교차 검증기법을 이용하여 알고리즘을 찾아낼 수도 있다. (현재 상황은 튜닝하기 전이기 때문)"
      ],
      "execution_count": 26,
      "outputs": [
        {
          "output_type": "stream",
          "text": [
            "LogisticRegression 0.6704656463692609\n",
            "DecisionTreeClassifier 0.932269619016607\n",
            "RandomForestClassifier 0.9770433083686095\n",
            "GaussianNB 0.9827417779225008\n"
          ],
          "name": "stdout"
        },
        {
          "output_type": "display_data",
          "data": {
            "image/png": "[encoded data removed]",
            "text/plain": [
              "<Figure size 1080x720 with 1 Axes>"
            ]
          },
          "metadata": {
            "tags": [],
            "needs_background": "light"
          }
        }
      ]
    },
    {
      "cell_type": "code",
      "metadata": {
        "id": "0N8GDeLcTBhD"
      },
      "source": [
        "# 최적화 : 생략\n",
        "# 원래라면 AUC값이 높은 RandomForestClassifier, GaussianNB를 후보로 잡고 최적화 진행"
      ],
      "execution_count": null,
      "outputs": []
    },
    {
      "cell_type": "code",
      "metadata": {
        "id": "y3V_VhhwTRiK"
      },
      "source": [
        "# 덤프 : 생략"
      ],
      "execution_count": null,
      "outputs": []
    },
    {
      "cell_type": "markdown",
      "metadata": {
        "id": "gBSpBlYHLgLa"
      },
      "source": [
        "# 시스템 통합 및 산출물(생략)"
      ]
    }
  ]
}